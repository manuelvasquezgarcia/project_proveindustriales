{
 "cells": [
  {
   "cell_type": "code",
   "execution_count": 1,
   "id": "b5e8f5fe",
   "metadata": {},
   "outputs": [
    {
     "ename": "ModuleNotFoundError",
     "evalue": "No module named 'pandas_profiling'",
     "output_type": "error",
     "traceback": [
      "\u001b[1;31m---------------------------------------------------------------------------\u001b[0m",
      "\u001b[1;31mModuleNotFoundError\u001b[0m                       Traceback (most recent call last)",
      "\u001b[1;32m<ipython-input-1-dd29a52c1f77>\u001b[0m in \u001b[0;36m<module>\u001b[1;34m\u001b[0m\n\u001b[0;32m      3\u001b[0m \u001b[1;32mimport\u001b[0m \u001b[0mseaborn\u001b[0m \u001b[1;32mas\u001b[0m \u001b[0msns\u001b[0m\u001b[1;33m\u001b[0m\u001b[1;33m\u001b[0m\u001b[0m\n\u001b[0;32m      4\u001b[0m \u001b[1;32mfrom\u001b[0m \u001b[0mdatetime\u001b[0m \u001b[1;32mimport\u001b[0m \u001b[0mdatetime\u001b[0m\u001b[1;33m\u001b[0m\u001b[1;33m\u001b[0m\u001b[0m\n\u001b[1;32m----> 5\u001b[1;33m \u001b[1;32mfrom\u001b[0m \u001b[0mpandas_profiling\u001b[0m \u001b[1;32mimport\u001b[0m \u001b[0mProfileReport\u001b[0m\u001b[1;33m\u001b[0m\u001b[1;33m\u001b[0m\u001b[0m\n\u001b[0m\u001b[0;32m      6\u001b[0m \u001b[1;32mfrom\u001b[0m \u001b[0mpandas_profiling\u001b[0m\u001b[1;33m.\u001b[0m\u001b[0mutils\u001b[0m\u001b[1;33m.\u001b[0m\u001b[0mcache\u001b[0m \u001b[1;32mimport\u001b[0m \u001b[0mcache_file\u001b[0m\u001b[1;33m\u001b[0m\u001b[1;33m\u001b[0m\u001b[0m\n\u001b[0;32m      7\u001b[0m \u001b[1;32mimport\u001b[0m \u001b[0mppscore\u001b[0m \u001b[1;32mas\u001b[0m \u001b[0mpps\u001b[0m\u001b[1;33m\u001b[0m\u001b[1;33m\u001b[0m\u001b[0m\n",
      "\u001b[1;31mModuleNotFoundError\u001b[0m: No module named 'pandas_profiling'"
     ]
    }
   ],
   "source": [
    "import pandas as pd\n",
    "import matplotlib.pyplot as plt\n",
    "import seaborn as sns\n",
    "from datetime import datetime\n",
    "from pandas_profiling import ProfileReport\n",
    "from pandas_profiling.utils.cache import cache_file\n",
    "import ppscore as pps\n",
    "import lightgbm as lgb\n",
    "from sklearn.model_selection import GridSearchCV\n",
    "from sklearn.model_selection import train_test_split\n",
    "from sklearn.preprocessing import LabelEncoder, MinMaxScaler\n",
    "from sklearn.metrics import classification_report\n",
    "from sklearn.metrics import accuracy_score\n",
    "from sklearn.metrics import confusion_matrix\n",
    "from sklearn.preprocessing import StandardScaler\n",
    "import numpy as np\n",
    "from sklearn.tree import DecisionTreeClassifier\n",
    "import itertools\n",
    "from sklearn import metrics\n",
    "from sklearn.ensemble import RandomForestClassifier\n",
    "import optuna\n",
    "from collections import Counter\n",
    "from imblearn.over_sampling import SMOTE\n",
    "from sklearn import svm\n",
    "from sklearn.linear_model import LogisticRegression\n",
    "from sklearn.model_selection import cross_val_score\n",
    "from sklearn.model_selection import StratifiedKFold"
   ]
  },
  {
   "cell_type": "markdown",
   "id": "963e2337",
   "metadata": {},
   "source": [
    "# Análisis exploratorio \"Ordenes de compra PORTAL 1K\"\n",
    "\n",
    "El objetivo del análisis exploratorio de datos es resumir y visualizar las principales características del conjunto de datos para extraer, entender y establecer relación entre variables. Busca determinar las características de mayor impacto a partir de la aplicación de técnicas como:\n",
    "\n",
    "<ol>\n",
    "  <li> Estadística descriptiva</li>\n",
    "  <li> Agrupamiento</li>  \n",
    "  <li> Correlación</li>\n",
    "  <li> Análisis de variaciones</li>\n",
    "</ol>"
   ]
  },
  {
   "cell_type": "markdown",
   "id": "3c46195f",
   "metadata": {},
   "source": [
    "# Acerca del DataSet\n",
    "\n",
    "El DataSet \"Ordenes de compra PORTAL 1K\" corresponde a una muestra de transacciones que realizan los compradores a los proveedores en el portal para los diferentes productos y servicios. Contiene tanto variables numéricas como categóricas. La información de las variables y su contenido se presentan a continuación:\n",
    "\n",
    " NÚMERO PEDIDO           \n",
    " ORDEN NÚMERO           \n",
    " FECHA ORDEN            \n",
    " FECHA ENTREGA          \n",
    " FECHA APROBACIÓN       \n",
    " CATEGORÍA              \n",
    " SUBCATEGORÍA           \n",
    " PROVEEDOR              \n",
    " USUARIO                \n",
    " USUARIO APROBADOR      \n",
    " DIRECCIÓN DE  ENTREGA  \n",
    " DIRECCIÓN FACTURACIÓN  \n",
    " CENTRO COSTO           \n",
    " PRESUPUESTO            \n",
    " comPAÑÍA comPRADORA    \n",
    " ESTADO                 \n",
    " PRODUCTO O SERVICIO    \n",
    " CÓDIGO PRODUCTO        \n",
    " CANTIDAD PEDIDA        \n",
    " CANTIDAD RECIBIDA      \n",
    " PRECIO UNITARIO        \n",
    " PRECIO UNITARIO + IVA  \n",
    " IVA                    \n",
    " TOTAL SIN IVA          \n",
    " TOTAL + IVA            \n",
    " FECHA ÚLTIMO MOVIMIENTO\n"
   ]
  },
  {
   "cell_type": "code",
   "execution_count": 2,
   "id": "904d6e86",
   "metadata": {},
   "outputs": [
    {
     "data": {
      "text/html": [
       "<div>\n",
       "<style scoped>\n",
       "    .dataframe tbody tr th:only-of-type {\n",
       "        vertical-align: middle;\n",
       "    }\n",
       "\n",
       "    .dataframe tbody tr th {\n",
       "        vertical-align: top;\n",
       "    }\n",
       "\n",
       "    .dataframe thead th {\n",
       "        text-align: right;\n",
       "    }\n",
       "</style>\n",
       "<table border=\"1\" class=\"dataframe\">\n",
       "  <thead>\n",
       "    <tr style=\"text-align: right;\">\n",
       "      <th></th>\n",
       "      <th>NÚMERO PEDIDO</th>\n",
       "      <th>ORDEN NÚMERO</th>\n",
       "      <th>FECHA ORDEN</th>\n",
       "      <th>FECHA ENTREGA</th>\n",
       "      <th>FECHA APROBACION</th>\n",
       "      <th>CATEGORÍA</th>\n",
       "      <th>SUBCATEGORIA</th>\n",
       "      <th>PROVEEDOR</th>\n",
       "      <th>USUARIO</th>\n",
       "      <th>USUARIO APROBADOR</th>\n",
       "      <th>...</th>\n",
       "      <th>PRODUCTO O SERVICIO</th>\n",
       "      <th>CODIGO PORTAL</th>\n",
       "      <th>CANTIDAD PEDIDA</th>\n",
       "      <th>CANTIDAD RECIBIDA</th>\n",
       "      <th>PRECIO UNITARIO</th>\n",
       "      <th>PRECIO UNITARIO + IVA</th>\n",
       "      <th>IVA</th>\n",
       "      <th>TOTAL SIN IVA</th>\n",
       "      <th>TOTAL + IVA</th>\n",
       "      <th>FECHA ULTIMO MOVIMIENTO</th>\n",
       "    </tr>\n",
       "  </thead>\n",
       "  <tbody>\n",
       "    <tr>\n",
       "      <th>0</th>\n",
       "      <td># 49561</td>\n",
       "      <td># 2582</td>\n",
       "      <td>11/10/2021</td>\n",
       "      <td>11/10/2021</td>\n",
       "      <td>11/10/2021</td>\n",
       "      <td>Eléctricos y Electrónicos</td>\n",
       "      <td>Lámparas y bombillas y componentes para lámparas</td>\n",
       "      <td>Proveedor 1</td>\n",
       "      <td>Usuario solicitante 1</td>\n",
       "      <td>Usuario Aprobador 1</td>\n",
       "      <td>...</td>\n",
       "      <td>PANEL LED SOBREPONER 24W REDONDO LUZ BLANCA</td>\n",
       "      <td>1.20E+12</td>\n",
       "      <td>2.0</td>\n",
       "      <td>NaN</td>\n",
       "      <td>23364</td>\n",
       "      <td>27803</td>\n",
       "      <td>4439</td>\n",
       "      <td>46728</td>\n",
       "      <td>55606</td>\n",
       "      <td>11/10/2021</td>\n",
       "    </tr>\n",
       "    <tr>\n",
       "      <th>1</th>\n",
       "      <td># 49560</td>\n",
       "      <td># 2581</td>\n",
       "      <td>11/10/2021</td>\n",
       "      <td>11/11/2021</td>\n",
       "      <td>11/10/2021</td>\n",
       "      <td>Mercadeo y publicidad</td>\n",
       "      <td>Publicidad</td>\n",
       "      <td>Proveedor 2</td>\n",
       "      <td>Usuario solicitante 2</td>\n",
       "      <td>Usuario Aprobador 2</td>\n",
       "      <td>...</td>\n",
       "      <td>ACTIVIDADES COMERCIALES</td>\n",
       "      <td>1K15774</td>\n",
       "      <td>1.0</td>\n",
       "      <td>1.0</td>\n",
       "      <td>1476972</td>\n",
       "      <td>1757597</td>\n",
       "      <td>280625</td>\n",
       "      <td>1476972</td>\n",
       "      <td>1757597</td>\n",
       "      <td>11/10/2021</td>\n",
       "    </tr>\n",
       "    <tr>\n",
       "      <th>2</th>\n",
       "      <td># 49559</td>\n",
       "      <td># 2580</td>\n",
       "      <td>11/10/2021</td>\n",
       "      <td>11/10/2021</td>\n",
       "      <td>11/10/2021</td>\n",
       "      <td>Alimentos y Bebidas</td>\n",
       "      <td>Alimentos preparados y conservados</td>\n",
       "      <td>Proveedor 3</td>\n",
       "      <td>Usuario solicitante 3</td>\n",
       "      <td>Usuario Aprobador 3</td>\n",
       "      <td>...</td>\n",
       "      <td>Lasagna</td>\n",
       "      <td>1K7609</td>\n",
       "      <td>10.0</td>\n",
       "      <td>NaN</td>\n",
       "      <td>155</td>\n",
       "      <td>155</td>\n",
       "      <td>0</td>\n",
       "      <td>155</td>\n",
       "      <td>155</td>\n",
       "      <td>11/10/2021</td>\n",
       "    </tr>\n",
       "    <tr>\n",
       "      <th>3</th>\n",
       "      <td># 49558</td>\n",
       "      <td># 1892</td>\n",
       "      <td>11/10/2021</td>\n",
       "      <td>11/12/2021</td>\n",
       "      <td>11/10/2021</td>\n",
       "      <td>Alimentos y Bebidas</td>\n",
       "      <td>Productos de carne y aves de corral</td>\n",
       "      <td>Proveedor 4</td>\n",
       "      <td>Usuario solicitante 4</td>\n",
       "      <td>Usuario Aprobador 4</td>\n",
       "      <td>...</td>\n",
       "      <td>Pecho de Res Limpio/Sin Grasa</td>\n",
       "      <td>1K15459</td>\n",
       "      <td>50.0</td>\n",
       "      <td>NaN</td>\n",
       "      <td>22</td>\n",
       "      <td>22</td>\n",
       "      <td>0</td>\n",
       "      <td>1100000</td>\n",
       "      <td>1100000</td>\n",
       "      <td>11/10/2021</td>\n",
       "    </tr>\n",
       "    <tr>\n",
       "      <th>4</th>\n",
       "      <td># 49557</td>\n",
       "      <td># 1</td>\n",
       "      <td>11/10/2021</td>\n",
       "      <td>11/9/2021</td>\n",
       "      <td>11/10/2021</td>\n",
       "      <td>Imprenta y litografía</td>\n",
       "      <td>Otra</td>\n",
       "      <td>Proveedor 5</td>\n",
       "      <td>Usuario solicitante 5</td>\n",
       "      <td>Usuario Aprobador 5</td>\n",
       "      <td>...</td>\n",
       "      <td>LIBRO CABEZA, CORAZON Y MANOS</td>\n",
       "      <td>1K15761</td>\n",
       "      <td>7.0</td>\n",
       "      <td>7.0</td>\n",
       "      <td>92084</td>\n",
       "      <td>10958</td>\n",
       "      <td>17496</td>\n",
       "      <td>644588</td>\n",
       "      <td>76706</td>\n",
       "      <td>11/10/2021</td>\n",
       "    </tr>\n",
       "  </tbody>\n",
       "</table>\n",
       "<p>5 rows × 26 columns</p>\n",
       "</div>"
      ],
      "text/plain": [
       "  NÚMERO PEDIDO ORDEN NÚMERO FECHA ORDEN FECHA ENTREGA FECHA APROBACION  \\\n",
       "0       # 49561       # 2582  11/10/2021    11/10/2021       11/10/2021   \n",
       "1       # 49560       # 2581  11/10/2021    11/11/2021       11/10/2021   \n",
       "2       # 49559       # 2580  11/10/2021    11/10/2021       11/10/2021   \n",
       "3       # 49558       # 1892  11/10/2021    11/12/2021       11/10/2021   \n",
       "4       # 49557          # 1  11/10/2021     11/9/2021       11/10/2021   \n",
       "\n",
       "                   CATEGORÍA  \\\n",
       "0  Eléctricos y Electrónicos   \n",
       "1      Mercadeo y publicidad   \n",
       "2        Alimentos y Bebidas   \n",
       "3        Alimentos y Bebidas   \n",
       "4      Imprenta y litografía   \n",
       "\n",
       "                                       SUBCATEGORIA    PROVEEDOR  \\\n",
       "0  Lámparas y bombillas y componentes para lámparas  Proveedor 1   \n",
       "1                                        Publicidad  Proveedor 2   \n",
       "2                Alimentos preparados y conservados  Proveedor 3   \n",
       "3               Productos de carne y aves de corral  Proveedor 4   \n",
       "4                                              Otra  Proveedor 5   \n",
       "\n",
       "                 USUARIO    USUARIO APROBADOR  ...  \\\n",
       "0  Usuario solicitante 1  Usuario Aprobador 1  ...   \n",
       "1  Usuario solicitante 2  Usuario Aprobador 2  ...   \n",
       "2  Usuario solicitante 3  Usuario Aprobador 3  ...   \n",
       "3  Usuario solicitante 4  Usuario Aprobador 4  ...   \n",
       "4  Usuario solicitante 5  Usuario Aprobador 5  ...   \n",
       "\n",
       "                            PRODUCTO O SERVICIO CODIGO PORTAL CANTIDAD PEDIDA  \\\n",
       "0  PANEL LED SOBREPONER 24W REDONDO LUZ BLANCA       1.20E+12             2.0   \n",
       "1                       ACTIVIDADES COMERCIALES       1K15774             1.0   \n",
       "2                                       Lasagna        1K7609            10.0   \n",
       "3                 Pecho de Res Limpio/Sin Grasa       1K15459            50.0   \n",
       "4                 LIBRO CABEZA, CORAZON Y MANOS       1K15761             7.0   \n",
       "\n",
       "  CANTIDAD RECIBIDA PRECIO UNITARIO PRECIO UNITARIO + IVA     IVA  \\\n",
       "0               NaN           23364                 27803    4439   \n",
       "1               1.0         1476972               1757597  280625   \n",
       "2               NaN             155                   155       0   \n",
       "3               NaN              22                    22       0   \n",
       "4               7.0           92084                 10958   17496   \n",
       "\n",
       "  TOTAL SIN IVA  TOTAL + IVA  FECHA ULTIMO MOVIMIENTO  \n",
       "0         46728        55606               11/10/2021  \n",
       "1       1476972      1757597               11/10/2021  \n",
       "2           155          155               11/10/2021  \n",
       "3       1100000      1100000               11/10/2021  \n",
       "4        644588        76706               11/10/2021  \n",
       "\n",
       "[5 rows x 26 columns]"
      ]
     },
     "execution_count": 2,
     "metadata": {},
     "output_type": "execute_result"
    }
   ],
   "source": [
    "#Read Dataset\n",
    "#pd.set_option(\"display.max_columns\",40)\n",
    "df = pd.read_csv(r\"D:\\Ordenes_de_compra_PORTAL_1K.csv\", sep=',', header= 0, na_values = [\"  \"],encoding='latin-1')\n",
    "df.head()"
   ]
  },
  {
   "cell_type": "code",
   "execution_count": 3,
   "id": "0f564c92",
   "metadata": {},
   "outputs": [],
   "source": [
    "df.rename(columns={'NÚMERO PEDIDO': 'Numero_Pedido',\n",
    "                  'ORDEN NÚMERO': 'Orden_Numero',\n",
    "                  'FECHA ORDEN': 'Fecha_Orden',\n",
    "                  'FECHA ENTREGA': 'Fecha_Entrega',\n",
    "                  'FECHA APROBACION': 'Fecha_Aprobacion',\n",
    "                  'CATEGORÍA': 'Categoria',\n",
    "                  'SUBCATEGORIA': 'Subcategoria',\n",
    "                  'PROVEEDOR': 'Proveedor',\n",
    "                  'USUARIO': 'Usuario',\n",
    "                  'USUARIO APROBADOR': 'Usuario_Aprobador',\n",
    "                  'DIRECCION PEDIDO': 'Direccion_Pedido',\n",
    "                  'DIRECCION FACTURACION': 'Direccion_Facturacion',\n",
    "                  'CENTRO DE COSTOS': 'Centro_Costos',\n",
    "                  'PRESUPUESTO': 'Presupuesto',\n",
    "                  'PORTAL': 'Portal',\n",
    "                  'ESTADO': 'Estado',\n",
    "                  'PRODUCTO O SERVICIO': 'Producto_Servicio',\n",
    "                  'CODIGO PORTAL': 'Codigo_Producto',\n",
    "                  'CANTIDAD PEDIDA': 'Cantidad_Pedida',\n",
    "                  'CANTIDAD RECIBIDA': 'Cantidad_Recibida',\n",
    "                  'PRECIO UNITARIO': 'Precio_Unitario',\n",
    "                  'PRECIO UNITARIO + IVA': 'Precio_Unitario_IVA',\n",
    "                  'IVA': 'IVA',\n",
    "                  'TOTAL SIN IVA': 'Total_Sin_IVA',\n",
    "                  'TOTAL + IVA': 'Total_IVA',\n",
    "                  'FECHA ULTIMO MOVIMIENTO': 'Fecha_Ultimo_Movimiento'}, inplace=True)"
   ]
  },
  {
   "cell_type": "code",
   "execution_count": 4,
   "id": "04069799",
   "metadata": {},
   "outputs": [],
   "source": [
    "# cambio formato fechas\n",
    "df['Fecha_Orden'] = pd.to_datetime(df['Fecha_Orden'], format = \"%m/%d/%Y\")\n",
    "df['Fecha_Entrega'] = pd.to_datetime(df['Fecha_Entrega'], format = \"%m/%d/%Y\")\n",
    "df['Fecha_Aprobacion'] = pd.to_datetime(df['Fecha_Aprobacion'], format = \"%m/%d/%Y\")"
   ]
  },
  {
   "cell_type": "code",
   "execution_count": 5,
   "id": "c453cfcf",
   "metadata": {},
   "outputs": [
    {
     "name": "stdout",
     "output_type": "stream",
     "text": [
      "<class 'pandas.core.frame.DataFrame'>\n",
      "RangeIndex: 23083 entries, 0 to 23082\n",
      "Data columns (total 26 columns):\n",
      " #   Column                   Non-Null Count  Dtype         \n",
      "---  ------                   --------------  -----         \n",
      " 0   Numero_Pedido            23083 non-null  object        \n",
      " 1   Orden_Numero             23083 non-null  object        \n",
      " 2   Fecha_Orden              23083 non-null  datetime64[ns]\n",
      " 3   Fecha_Entrega            18770 non-null  datetime64[ns]\n",
      " 4   Fecha_Aprobacion         21950 non-null  datetime64[ns]\n",
      " 5   Categoria                23083 non-null  object        \n",
      " 6   Subcategoria             23083 non-null  object        \n",
      " 7   Proveedor                23083 non-null  object        \n",
      " 8   Usuario                  23083 non-null  object        \n",
      " 9   Usuario_Aprobador        21950 non-null  object        \n",
      " 10  Direccion_Pedido         23083 non-null  object        \n",
      " 11  Direccion_Facturacion    10828 non-null  object        \n",
      " 12  Centro_Costos            16672 non-null  object        \n",
      " 13  Presupuesto              18581 non-null  object        \n",
      " 14  Portal                   23083 non-null  object        \n",
      " 15  Estado                   23083 non-null  object        \n",
      " 16  Producto_Servicio        23083 non-null  object        \n",
      " 17  Codigo_Producto          18223 non-null  object        \n",
      " 18  Cantidad_Pedida          23083 non-null  float64       \n",
      " 19  Cantidad_Recibida        16013 non-null  float64       \n",
      " 20  Precio_Unitario          23083 non-null  int64         \n",
      " 21  Precio_Unitario_IVA      23083 non-null  int64         \n",
      " 22  IVA                      23083 non-null  int64         \n",
      " 23  Total_Sin_IVA            23083 non-null  int64         \n",
      " 24  Total_IVA                23083 non-null  int64         \n",
      " 25  Fecha_Ultimo_Movimiento  23083 non-null  object        \n",
      "dtypes: datetime64[ns](3), float64(2), int64(5), object(16)\n",
      "memory usage: 4.6+ MB\n"
     ]
    }
   ],
   "source": [
    "df.info()"
   ]
  },
  {
   "cell_type": "code",
   "execution_count": null,
   "id": "5973eed9",
   "metadata": {},
   "outputs": [],
   "source": [
    "df.describe().T"
   ]
  },
  {
   "cell_type": "code",
   "execution_count": null,
   "id": "064bd5c9",
   "metadata": {},
   "outputs": [],
   "source": [
    "profile = ProfileReport(df, title=\"Pandas Profiling Report\", explorative=True)"
   ]
  },
  {
   "cell_type": "code",
   "execution_count": null,
   "id": "6bb4e61b",
   "metadata": {
    "scrolled": true
   },
   "outputs": [],
   "source": [
    "profile"
   ]
  },
  {
   "cell_type": "code",
   "execution_count": 6,
   "id": "7dfc60d0",
   "metadata": {},
   "outputs": [],
   "source": [
    "%matplotlib inline"
   ]
  },
  {
   "cell_type": "code",
   "execution_count": null,
   "id": "db1a92e9",
   "metadata": {},
   "outputs": [],
   "source": [
    "plt.figure(figsize=(20,10))\n",
    "corr_matrix = df.corr()\n",
    "sns.heatmap(corr_matrix, annot=True)\n",
    "plt.show()\n",
    "#plt.savefig(\"matixdf_full.png\")"
   ]
  },
  {
   "cell_type": "code",
   "execution_count": 7,
   "id": "5294c5a7",
   "metadata": {},
   "outputs": [],
   "source": [
    "# campos eliminados despues de revision de matrix de correlacion\n",
    "df.drop([\"Precio_Unitario_IVA\",\"Cantidad_Recibida\", \"Total_Sin_IVA\", \"IVA\", \"Codigo_Producto\", \"Direccion_Facturacion\", \"Centro_Costos\", \"Numero_Pedido\", \"Orden_Numero\"], axis=1, inplace = True)"
   ]
  },
  {
   "cell_type": "markdown",
   "id": "b8bcc23b",
   "metadata": {},
   "source": [
    "#### Data Cleaning"
   ]
  },
  {
   "cell_type": "code",
   "execution_count": 8,
   "id": "1fee7fe6",
   "metadata": {},
   "outputs": [],
   "source": [
    "d3_Cantidad_Pedida = df['Cantidad_Pedida'].mean() + 3*df['Cantidad_Pedida'].std()\n",
    "d3_Precio_Unitario = df['Precio_Unitario'].mean() + 3*df['Precio_Unitario'].std()\n",
    "d3_Total_IVA = df['Total_IVA'].mean() + 3*df['Total_IVA'].std()"
   ]
  },
  {
   "cell_type": "code",
   "execution_count": 9,
   "id": "007653fa",
   "metadata": {},
   "outputs": [],
   "source": [
    "df = df[(df['Cantidad_Pedida'] < d3_Cantidad_Pedida) & (df['Precio_Unitario'] < d3_Precio_Unitario) &  (df['Total_IVA'] < d3_Total_IVA)]"
   ]
  },
  {
   "cell_type": "code",
   "execution_count": null,
   "id": "bfa94ad0",
   "metadata": {},
   "outputs": [],
   "source": [
    "profile2 = ProfileReport(df, title=\"Pandas Profiling Report\", explorative=True)\n",
    "profile2"
   ]
  },
  {
   "cell_type": "code",
   "execution_count": null,
   "id": "b62a6af1",
   "metadata": {},
   "outputs": [],
   "source": [
    "df.groupby([\"Estado\"]).Cantidad_Pedida.describe()"
   ]
  },
  {
   "cell_type": "code",
   "execution_count": null,
   "id": "cc977031",
   "metadata": {},
   "outputs": [],
   "source": [
    "df.groupby([\"Estado\"]).Precio_Unitario.describe()"
   ]
  },
  {
   "cell_type": "markdown",
   "id": "90e68727",
   "metadata": {},
   "source": [
    "#### Feature Engineering"
   ]
  },
  {
   "cell_type": "code",
   "execution_count": null,
   "id": "c1d32de5",
   "metadata": {},
   "outputs": [],
   "source": [
    "-Dias_Trasncurridos_Entrega: Fecha Entrega vs Fecha Orden\n",
    "-Convertir estado: Rechazado a 1 y el resto a 0"
   ]
  },
  {
   "cell_type": "code",
   "execution_count": 10,
   "id": "2780e842",
   "metadata": {},
   "outputs": [],
   "source": [
    "df[\"Dias_Trasncurridos_Entrega\"] = (df[\"Fecha_Entrega\"] - df[\"Fecha_Orden\"]).dt.days"
   ]
  },
  {
   "cell_type": "code",
   "execution_count": null,
   "id": "24269d5a",
   "metadata": {},
   "outputs": [],
   "source": [
    "df"
   ]
  },
  {
   "cell_type": "code",
   "execution_count": 11,
   "id": "fcb46b45",
   "metadata": {},
   "outputs": [],
   "source": [
    "## - Convertir estado: Rechazado a 1 y el resto a 0\n",
    "df['Estado_label'] = 0"
   ]
  },
  {
   "cell_type": "code",
   "execution_count": 12,
   "id": "d3c74999",
   "metadata": {},
   "outputs": [],
   "source": [
    "df.loc[df['Estado'] == 'Orden Rechazada', 'Estado_label'] = 1"
   ]
  },
  {
   "cell_type": "code",
   "execution_count": null,
   "id": "e6e9cea1",
   "metadata": {},
   "outputs": [],
   "source": [
    "df.info()"
   ]
  },
  {
   "cell_type": "code",
   "execution_count": null,
   "id": "abccb29b",
   "metadata": {},
   "outputs": [],
   "source": [
    "df"
   ]
  },
  {
   "cell_type": "code",
   "execution_count": 13,
   "id": "2536b74b",
   "metadata": {},
   "outputs": [],
   "source": [
    "df_encoder = df.copy()"
   ]
  },
  {
   "cell_type": "code",
   "execution_count": 14,
   "id": "ee73dac5",
   "metadata": {},
   "outputs": [],
   "source": [
    "## cambio de variables categoricas con labelencoder\n",
    "lb_encoder = LabelEncoder()\n",
    "df_encoder[\"Categoria_label_encode\"] = lb_encoder.fit_transform(df_encoder[\"Categoria\"])\n",
    "df_encoder[\"Subcategoria_label_encode\"] = lb_encoder.fit_transform(df_encoder[\"Subcategoria\"])\n",
    "df_encoder[\"Proveedor_label_encode\"] = lb_encoder.fit_transform(df_encoder[\"Proveedor\"])\n",
    "df_encoder[\"Usuario_label_encode\"] = lb_encoder.fit_transform(df_encoder[\"Usuario\"])\n",
    "df_encoder[\"Usuario_Aprobador_label_encode\"] = lb_encoder.fit_transform(df_encoder[\"Usuario_Aprobador\"])\n",
    "df_encoder[\"Direccion_Pedido_label_encode\"] = lb_encoder.fit_transform(df_encoder[\"Direccion_Pedido\"])\n",
    "df_encoder[\"Presupuesto_label_encode\"] = lb_encoder.fit_transform(df_encoder[\"Presupuesto\"])\n",
    "df_encoder[\"Portal_label_encode\"] = lb_encoder.fit_transform(df_encoder[\"Portal\"])\n",
    "df_encoder[\"Producto_Servicio_encode\"] = lb_encoder.fit_transform(df_encoder[\"Producto_Servicio\"])"
   ]
  },
  {
   "cell_type": "code",
   "execution_count": null,
   "id": "fee4dca6",
   "metadata": {},
   "outputs": [],
   "source": [
    "plt.figure(figsize=(20,10))\n",
    "corr_matrix = df_encoder.corr()\n",
    "sns.heatmap(corr_matrix, annot=True)\n",
    "plt.show()\n",
    "#plt.savefig(\"matixdf_encode.png\")"
   ]
  },
  {
   "cell_type": "code",
   "execution_count": null,
   "id": "c1a6efc4",
   "metadata": {},
   "outputs": [],
   "source": [
    "df_encoder.info()"
   ]
  },
  {
   "cell_type": "code",
   "execution_count": 15,
   "id": "e6f1d491",
   "metadata": {},
   "outputs": [],
   "source": [
    "df_encoder = df_encoder.drop(['Categoria_label_encode','Fecha_Orden','Fecha_Entrega','Fecha_Aprobacion','Categoria','Subcategoria','Proveedor','Usuario','Usuario_Aprobador','Direccion_Pedido','Presupuesto','Portal','Estado','Producto_Servicio','Fecha_Ultimo_Movimiento'], axis=1)"
   ]
  },
  {
   "cell_type": "code",
   "execution_count": null,
   "id": "6ba57c97",
   "metadata": {},
   "outputs": [],
   "source": [
    "df_encoder.describe().T"
   ]
  },
  {
   "cell_type": "code",
   "execution_count": 16,
   "id": "669d2158",
   "metadata": {},
   "outputs": [
    {
     "data": {
      "text/html": [
       "<div>\n",
       "<style scoped>\n",
       "    .dataframe tbody tr th:only-of-type {\n",
       "        vertical-align: middle;\n",
       "    }\n",
       "\n",
       "    .dataframe tbody tr th {\n",
       "        vertical-align: top;\n",
       "    }\n",
       "\n",
       "    .dataframe thead th {\n",
       "        text-align: right;\n",
       "    }\n",
       "</style>\n",
       "<table border=\"1\" class=\"dataframe\">\n",
       "  <thead>\n",
       "    <tr style=\"text-align: right;\">\n",
       "      <th></th>\n",
       "      <th>Cantidad_Pedida</th>\n",
       "      <th>Precio_Unitario</th>\n",
       "      <th>Total_IVA</th>\n",
       "      <th>Dias_Trasncurridos_Entrega</th>\n",
       "      <th>Estado_label</th>\n",
       "      <th>Subcategoria_label_encode</th>\n",
       "      <th>Proveedor_label_encode</th>\n",
       "      <th>Usuario_label_encode</th>\n",
       "      <th>Usuario_Aprobador_label_encode</th>\n",
       "      <th>Direccion_Pedido_label_encode</th>\n",
       "      <th>Presupuesto_label_encode</th>\n",
       "      <th>Portal_label_encode</th>\n",
       "      <th>Producto_Servicio_encode</th>\n",
       "    </tr>\n",
       "  </thead>\n",
       "  <tbody>\n",
       "    <tr>\n",
       "      <th>0</th>\n",
       "      <td>2.0</td>\n",
       "      <td>23364</td>\n",
       "      <td>55606</td>\n",
       "      <td>0.0</td>\n",
       "      <td>0</td>\n",
       "      <td>70</td>\n",
       "      <td>0</td>\n",
       "      <td>0</td>\n",
       "      <td>0</td>\n",
       "      <td>0</td>\n",
       "      <td>0</td>\n",
       "      <td>0</td>\n",
       "      <td>2405</td>\n",
       "    </tr>\n",
       "    <tr>\n",
       "      <th>1</th>\n",
       "      <td>1.0</td>\n",
       "      <td>1476972</td>\n",
       "      <td>1757597</td>\n",
       "      <td>1.0</td>\n",
       "      <td>0</td>\n",
       "      <td>106</td>\n",
       "      <td>105</td>\n",
       "      <td>46</td>\n",
       "      <td>11</td>\n",
       "      <td>0</td>\n",
       "      <td>101</td>\n",
       "      <td>0</td>\n",
       "      <td>426</td>\n",
       "    </tr>\n",
       "    <tr>\n",
       "      <th>2</th>\n",
       "      <td>10.0</td>\n",
       "      <td>155</td>\n",
       "      <td>155</td>\n",
       "      <td>0.0</td>\n",
       "      <td>0</td>\n",
       "      <td>6</td>\n",
       "      <td>207</td>\n",
       "      <td>57</td>\n",
       "      <td>22</td>\n",
       "      <td>87</td>\n",
       "      <td>207</td>\n",
       "      <td>0</td>\n",
       "      <td>2111</td>\n",
       "    </tr>\n",
       "    <tr>\n",
       "      <th>3</th>\n",
       "      <td>50.0</td>\n",
       "      <td>22</td>\n",
       "      <td>1100000</td>\n",
       "      <td>2.0</td>\n",
       "      <td>0</td>\n",
       "      <td>100</td>\n",
       "      <td>314</td>\n",
       "      <td>68</td>\n",
       "      <td>33</td>\n",
       "      <td>98</td>\n",
       "      <td>305</td>\n",
       "      <td>10</td>\n",
       "      <td>2629</td>\n",
       "    </tr>\n",
       "    <tr>\n",
       "      <th>4</th>\n",
       "      <td>7.0</td>\n",
       "      <td>92084</td>\n",
       "      <td>76706</td>\n",
       "      <td>-1.0</td>\n",
       "      <td>0</td>\n",
       "      <td>88</td>\n",
       "      <td>330</td>\n",
       "      <td>79</td>\n",
       "      <td>43</td>\n",
       "      <td>109</td>\n",
       "      <td>875</td>\n",
       "      <td>20</td>\n",
       "      <td>2043</td>\n",
       "    </tr>\n",
       "    <tr>\n",
       "      <th>...</th>\n",
       "      <td>...</td>\n",
       "      <td>...</td>\n",
       "      <td>...</td>\n",
       "      <td>...</td>\n",
       "      <td>...</td>\n",
       "      <td>...</td>\n",
       "      <td>...</td>\n",
       "      <td>...</td>\n",
       "      <td>...</td>\n",
       "      <td>...</td>\n",
       "      <td>...</td>\n",
       "      <td>...</td>\n",
       "      <td>...</td>\n",
       "    </tr>\n",
       "    <tr>\n",
       "      <th>23078</th>\n",
       "      <td>8.0</td>\n",
       "      <td>33613</td>\n",
       "      <td>320</td>\n",
       "      <td>NaN</td>\n",
       "      <td>0</td>\n",
       "      <td>39</td>\n",
       "      <td>132</td>\n",
       "      <td>34</td>\n",
       "      <td>65</td>\n",
       "      <td>154</td>\n",
       "      <td>863</td>\n",
       "      <td>29</td>\n",
       "      <td>1802</td>\n",
       "    </tr>\n",
       "    <tr>\n",
       "      <th>23079</th>\n",
       "      <td>1.0</td>\n",
       "      <td>588</td>\n",
       "      <td>700</td>\n",
       "      <td>NaN</td>\n",
       "      <td>0</td>\n",
       "      <td>39</td>\n",
       "      <td>132</td>\n",
       "      <td>34</td>\n",
       "      <td>65</td>\n",
       "      <td>154</td>\n",
       "      <td>863</td>\n",
       "      <td>29</td>\n",
       "      <td>2110</td>\n",
       "    </tr>\n",
       "    <tr>\n",
       "      <th>23080</th>\n",
       "      <td>3.0</td>\n",
       "      <td>29412</td>\n",
       "      <td>105</td>\n",
       "      <td>NaN</td>\n",
       "      <td>0</td>\n",
       "      <td>18</td>\n",
       "      <td>132</td>\n",
       "      <td>34</td>\n",
       "      <td>65</td>\n",
       "      <td>154</td>\n",
       "      <td>863</td>\n",
       "      <td>29</td>\n",
       "      <td>880</td>\n",
       "    </tr>\n",
       "    <tr>\n",
       "      <th>23081</th>\n",
       "      <td>4.0</td>\n",
       "      <td>29412</td>\n",
       "      <td>140</td>\n",
       "      <td>NaN</td>\n",
       "      <td>0</td>\n",
       "      <td>18</td>\n",
       "      <td>132</td>\n",
       "      <td>34</td>\n",
       "      <td>65</td>\n",
       "      <td>154</td>\n",
       "      <td>863</td>\n",
       "      <td>29</td>\n",
       "      <td>880</td>\n",
       "    </tr>\n",
       "    <tr>\n",
       "      <th>23082</th>\n",
       "      <td>5.0</td>\n",
       "      <td>33613</td>\n",
       "      <td>200</td>\n",
       "      <td>NaN</td>\n",
       "      <td>0</td>\n",
       "      <td>39</td>\n",
       "      <td>132</td>\n",
       "      <td>34</td>\n",
       "      <td>65</td>\n",
       "      <td>154</td>\n",
       "      <td>863</td>\n",
       "      <td>29</td>\n",
       "      <td>1802</td>\n",
       "    </tr>\n",
       "  </tbody>\n",
       "</table>\n",
       "<p>22731 rows × 13 columns</p>\n",
       "</div>"
      ],
      "text/plain": [
       "       Cantidad_Pedida  Precio_Unitario  Total_IVA  \\\n",
       "0                  2.0            23364      55606   \n",
       "1                  1.0          1476972    1757597   \n",
       "2                 10.0              155        155   \n",
       "3                 50.0               22    1100000   \n",
       "4                  7.0            92084      76706   \n",
       "...                ...              ...        ...   \n",
       "23078              8.0            33613        320   \n",
       "23079              1.0              588        700   \n",
       "23080              3.0            29412        105   \n",
       "23081              4.0            29412        140   \n",
       "23082              5.0            33613        200   \n",
       "\n",
       "       Dias_Trasncurridos_Entrega  Estado_label  Subcategoria_label_encode  \\\n",
       "0                             0.0             0                         70   \n",
       "1                             1.0             0                        106   \n",
       "2                             0.0             0                          6   \n",
       "3                             2.0             0                        100   \n",
       "4                            -1.0             0                         88   \n",
       "...                           ...           ...                        ...   \n",
       "23078                         NaN             0                         39   \n",
       "23079                         NaN             0                         39   \n",
       "23080                         NaN             0                         18   \n",
       "23081                         NaN             0                         18   \n",
       "23082                         NaN             0                         39   \n",
       "\n",
       "       Proveedor_label_encode  Usuario_label_encode  \\\n",
       "0                           0                     0   \n",
       "1                         105                    46   \n",
       "2                         207                    57   \n",
       "3                         314                    68   \n",
       "4                         330                    79   \n",
       "...                       ...                   ...   \n",
       "23078                     132                    34   \n",
       "23079                     132                    34   \n",
       "23080                     132                    34   \n",
       "23081                     132                    34   \n",
       "23082                     132                    34   \n",
       "\n",
       "       Usuario_Aprobador_label_encode  Direccion_Pedido_label_encode  \\\n",
       "0                                   0                              0   \n",
       "1                                  11                              0   \n",
       "2                                  22                             87   \n",
       "3                                  33                             98   \n",
       "4                                  43                            109   \n",
       "...                               ...                            ...   \n",
       "23078                              65                            154   \n",
       "23079                              65                            154   \n",
       "23080                              65                            154   \n",
       "23081                              65                            154   \n",
       "23082                              65                            154   \n",
       "\n",
       "       Presupuesto_label_encode  Portal_label_encode  Producto_Servicio_encode  \n",
       "0                             0                    0                      2405  \n",
       "1                           101                    0                       426  \n",
       "2                           207                    0                      2111  \n",
       "3                           305                   10                      2629  \n",
       "4                           875                   20                      2043  \n",
       "...                         ...                  ...                       ...  \n",
       "23078                       863                   29                      1802  \n",
       "23079                       863                   29                      2110  \n",
       "23080                       863                   29                       880  \n",
       "23081                       863                   29                       880  \n",
       "23082                       863                   29                      1802  \n",
       "\n",
       "[22731 rows x 13 columns]"
      ]
     },
     "execution_count": 16,
     "metadata": {},
     "output_type": "execute_result"
    }
   ],
   "source": [
    "df_encoder"
   ]
  },
  {
   "cell_type": "code",
   "execution_count": 17,
   "id": "77848ecd",
   "metadata": {},
   "outputs": [],
   "source": [
    "#features to X\n",
    "df_features = df_encoder.loc[:, df_encoder.columns != 'Estado_label']\n",
    "X = np.asarray(df_features)\n",
    "X = np.nan_to_num(X)"
   ]
  },
  {
   "cell_type": "code",
   "execution_count": null,
   "id": "17487bc1",
   "metadata": {},
   "outputs": [],
   "source": [
    "# normalizar con min max scaler\n",
    "scaler = MinMaxScaler()\n",
    "X = scaler.fit_transform(X)"
   ]
  },
  {
   "cell_type": "code",
   "execution_count": null,
   "id": "c6b138a0",
   "metadata": {},
   "outputs": [],
   "source": [
    "X"
   ]
  },
  {
   "cell_type": "code",
   "execution_count": 18,
   "id": "655378f5",
   "metadata": {},
   "outputs": [
    {
     "data": {
      "text/plain": [
       "array([0, 0, 0, 0, 0], dtype=int64)"
      ]
     },
     "execution_count": 18,
     "metadata": {},
     "output_type": "execute_result"
    }
   ],
   "source": [
    "#labels (target) to y\n",
    "y = np.asarray(df_encoder['Estado_label'])\n",
    "y [0:5]"
   ]
  },
  {
   "cell_type": "code",
   "execution_count": null,
   "id": "7f1a406d",
   "metadata": {},
   "outputs": [],
   "source": [
    "# summarize class distribution\n",
    "counter = Counter(y)\n",
    "print(counter)"
   ]
  },
  {
   "cell_type": "code",
   "execution_count": null,
   "id": "bc09c958",
   "metadata": {},
   "outputs": [],
   "source": [
    "# transform the dataset  SMOTE\n",
    "oversample = SMOTE()\n",
    "X, y = oversample.fit_resample(X, y)"
   ]
  },
  {
   "cell_type": "code",
   "execution_count": null,
   "id": "41060cf4",
   "metadata": {},
   "outputs": [],
   "source": [
    "counter = Counter(y)\n",
    "print(counter)"
   ]
  },
  {
   "cell_type": "code",
   "execution_count": 19,
   "id": "d46a1f65",
   "metadata": {},
   "outputs": [
    {
     "name": "stdout",
     "output_type": "stream",
     "text": [
      "Train set: (18184, 12) (18184,)\n",
      "Test set: (4547, 12) (4547,)\n"
     ]
    }
   ],
   "source": [
    "#Split Train - Test. 80%-20%\n",
    "X_train, X_test, y_train, y_test = train_test_split( X, y, test_size=0.2,random_state=2, stratify=df_encoder[\"Estado_label\"])\n",
    "#X_train, X_test, y_train, y_test = train_test_split(X, y, test_size=0.2, random_state=2)\n",
    "print ('Train set:', X_train.shape,  y_train.shape)\n",
    "print ('Test set:', X_test.shape,  y_test.shape)"
   ]
  },
  {
   "cell_type": "code",
   "execution_count": null,
   "id": "f51ccf93",
   "metadata": {},
   "outputs": [],
   "source": [
    "#Split Train - Test. 80%-20%\n",
    "X_train_val, X_test_val, y_train_val, y_test_val = train_test_split( X, y, test_size=0.2,random_state=2, stratify=df_encoder[\"Estado_label\"])\n",
    "#X_train, X_test, y_train, y_test = train_test_split(X, y, test_size=0.2, random_state=2)\n",
    "print ('Train set:', X_train.shape,  y_train.shape)\n",
    "print ('Test set:', X_test.shape,  y_test.shape)"
   ]
  },
  {
   "cell_type": "code",
   "execution_count": null,
   "id": "8a365104",
   "metadata": {},
   "outputs": [],
   "source": [
    "counter = Counter(y_test)\n",
    "print(counter)"
   ]
  },
  {
   "cell_type": "code",
   "execution_count": 20,
   "id": "ecf3375e",
   "metadata": {},
   "outputs": [],
   "source": [
    "#develop matrix\n",
    "def plot_confusion_matrix(cm, classes,\n",
    "                          normalize=False,\n",
    "                          title='Confusion matrix',\n",
    "                          cmap=plt.cm.Blues):\n",
    "    \"\"\"\n",
    "    This function prints and plots the confusion matrix.\n",
    "    Normalization can be applied by setting `normalize=True`.\n",
    "    \"\"\"\n",
    "    if normalize:\n",
    "        cm = cm.astype('float') / cm.sum(axis=1)[:, np.newaxis]\n",
    "        print(\"Normalized confusion matrix\")\n",
    "    else:\n",
    "        print('Confusion matrix, without normalization')\n",
    "\n",
    "    print(cm)\n",
    "\n",
    "    plt.imshow(cm, interpolation='nearest', cmap=cmap)\n",
    "    plt.title(title)\n",
    "    plt.colorbar()\n",
    "    tick_marks = np.arange(len(classes))\n",
    "    plt.xticks(tick_marks, classes, rotation=45)\n",
    "    plt.yticks(tick_marks, classes)\n",
    "\n",
    "    fmt = '.2f' if normalize else 'd'\n",
    "    thresh = cm.max() / 2.\n",
    "    for i, j in itertools.product(range(cm.shape[0]), range(cm.shape[1])):\n",
    "        plt.text(j, i, format(cm[i, j], fmt),\n",
    "                 horizontalalignment=\"center\",\n",
    "                 color=\"white\" if cm[i, j] > thresh else \"black\")\n",
    "\n",
    "    plt.tight_layout()\n",
    "    plt.ylabel('True label')\n",
    "    plt.xlabel('Predicted label')"
   ]
  },
  {
   "cell_type": "markdown",
   "id": "eed158f1",
   "metadata": {},
   "source": [
    "### DecisionTree"
   ]
  },
  {
   "cell_type": "code",
   "execution_count": 24,
   "id": "0e85df05",
   "metadata": {},
   "outputs": [
    {
     "data": {
      "text/plain": [
       "DecisionTreeClassifier(class_weight='balanced', criterion='entropy',\n",
       "                       max_depth=4)"
      ]
     },
     "execution_count": 24,
     "metadata": {},
     "output_type": "execute_result"
    }
   ],
   "source": [
    "drugTree = DecisionTreeClassifier(criterion=\"entropy\", max_depth = 4, class_weight=\"balanced\")\n",
    "drugTree.fit(X_train,y_train)"
   ]
  },
  {
   "cell_type": "code",
   "execution_count": 25,
   "id": "0ab367e5",
   "metadata": {},
   "outputs": [],
   "source": [
    "predTree = drugTree.predict(X_test)\n",
    "pscores_tree = drugTree.predict_proba(X_test)"
   ]
  },
  {
   "cell_type": "code",
   "execution_count": 26,
   "id": "d13f9601",
   "metadata": {},
   "outputs": [
    {
     "name": "stdout",
     "output_type": "stream",
     "text": [
      "              precision    recall  f1-score   support\n",
      "\n",
      "           0       1.00      1.00      1.00      4346\n",
      "           1       0.99      0.99      0.99       201\n",
      "\n",
      "    accuracy                           1.00      4547\n",
      "   macro avg       0.99      0.99      0.99      4547\n",
      "weighted avg       1.00      1.00      1.00      4547\n",
      "\n",
      "Confusion matrix, without normalization\n",
      "[[4344    2]\n",
      " [   2  199]]\n"
     ]
    },
    {
     "data": {
      "image/png": "[encoded data removed]",
      "text/plain": [
       "<Figure size 432x288 with 2 Axes>"
      ]
     },
     "metadata": {
      "needs_background": "light"
     },
     "output_type": "display_data"
    }
   ],
   "source": [
    "# Compute confusion matrix\n",
    "y_pred_DT = pscores_tree[:,1]>0.7\n",
    "cnf_matrix = confusion_matrix(y_test, y_pred_DT, labels = [0,1])\n",
    "np.set_printoptions(precision=2)\n",
    "\n",
    "print (classification_report(y_test, y_pred_DT))\n",
    "\n",
    "# Plot non-normalized confusion matrix\n",
    "plt.figure()\n",
    "plot_confusion_matrix(cnf_matrix, classes = [0,1], normalize= False,  title='Confusion matrix')\n",
    "plt.show()"
   ]
  },
  {
   "cell_type": "code",
   "execution_count": 27,
   "id": "4b447401",
   "metadata": {},
   "outputs": [
    {
     "data": {
      "image/png": "[encoded data removed]",
      "text/plain": [
       "<Figure size 396x396 with 1 Axes>"
      ]
     },
     "metadata": {
      "needs_background": "light"
     },
     "output_type": "display_data"
    }
   ],
   "source": [
    "# DT\n",
    "roc_RF = metrics.roc_curve(y_test, pscores_tree[:,1])\n",
    "auc_RF = metrics.auc( roc_RF[0], roc_RF[1] )\n",
    "\n",
    "\n",
    "plt.figure(figsize=(5.5,5.5))\n",
    "plt.plot(roc_RF[0], roc_RF[1], lw=1,label=f\"ROC random forest (AUC = {auc_RF:0.2f})\")\n",
    "\n",
    "plt.plot([0, 1], [0, 1], color='navy', lw=1.4, linestyle='--', label='Random guess')\n",
    "plt.xlabel('False Positive Rate')\n",
    "plt.ylabel('True Positive Rate')\n",
    "plt.title('ROC curves')\n",
    "plt.legend(loc='lower right')\n",
    "plt.gca().set_aspect(1)\n",
    "plt.grid(ls='--', alpha=0.6, lw=0.4)\n",
    "plt.show()"
   ]
  },
  {
   "cell_type": "markdown",
   "id": "d76b0dad",
   "metadata": {},
   "source": [
    "### Random Forest"
   ]
  },
  {
   "cell_type": "code",
   "execution_count": 28,
   "id": "fe5150d6",
   "metadata": {},
   "outputs": [
    {
     "data": {
      "text/plain": [
       "RandomForestClassifier(max_depth=3, n_estimators=10, random_state=4)"
      ]
     },
     "execution_count": 28,
     "metadata": {},
     "output_type": "execute_result"
    }
   ],
   "source": [
    "#RF-\n",
    "forest_class = RandomForestClassifier(n_estimators=10, max_depth=3, random_state=4)\n",
    "forest_class.fit(X_train,y_train)"
   ]
  },
  {
   "cell_type": "code",
   "execution_count": 29,
   "id": "d66ddbeb",
   "metadata": {},
   "outputs": [],
   "source": [
    "predforest = forest_class.predict(X_test)\n",
    "pscores_forest = forest_class.predict_proba(X_test)"
   ]
  },
  {
   "cell_type": "code",
   "execution_count": 30,
   "id": "2b5d1c53",
   "metadata": {},
   "outputs": [
    {
     "name": "stdout",
     "output_type": "stream",
     "text": [
      "              precision    recall  f1-score   support\n",
      "\n",
      "           0       1.00      1.00      1.00      4346\n",
      "           1       0.93      1.00      0.97       201\n",
      "\n",
      "    accuracy                           1.00      4547\n",
      "   macro avg       0.97      1.00      0.98      4547\n",
      "weighted avg       1.00      1.00      1.00      4547\n",
      "\n",
      "Confusion matrix, without normalization\n",
      "[[4332   14]\n",
      " [   0  201]]\n"
     ]
    },
    {
     "data": {
      "image/png": "[encoded data removed]",
      "text/plain": [
       "<Figure size 432x288 with 2 Axes>"
      ]
     },
     "metadata": {
      "needs_background": "light"
     },
     "output_type": "display_data"
    }
   ],
   "source": [
    "# Compute confusion matrix\n",
    "y_pred_forest = pscores_forest[:,1]>0.2\n",
    "cnf_matrix = confusion_matrix(y_test, y_pred_forest, labels = [0,1])\n",
    "np.set_printoptions(precision=2)\n",
    "\n",
    "print (classification_report(y_test, y_pred_forest))\n",
    "\n",
    "# Plot non-normalized confusion matrix\n",
    "plt.figure()\n",
    "plot_confusion_matrix(cnf_matrix, classes = [0,1], normalize= False,  title='Confusion matrix')\n",
    "plt.show()"
   ]
  },
  {
   "cell_type": "code",
   "execution_count": null,
   "id": "c4056743",
   "metadata": {},
   "outputs": [],
   "source": [
    "kf = StratifiedKFold(n_splits=10)\n",
    "forest_class = RandomForestClassifier(n_estimators=10, max_depth=3, random_state=4)\n",
    "forest_class.fit(X_train, y_train)\n",
    " \n",
    "score = forest_class.score(X_train,y_train)\n",
    "print(\"Metrica del modelo\", score)\n",
    "scores = cross_val_score(forest_class, X_train, y_train, cv=kf, scoring=\"accuracy\")\n",
    "print(\"Metricas cross_validation\", scores)\n",
    "print(\"Media de cross_validation\", scores.mean())\n",
    "\n",
    "pscores_forest = forest_class.predict_proba(X_test)\n",
    "predforest = pscores_forest[:,1]>0.2\n",
    "score_pred = metrics.accuracy_score(y_test, predforest)\n",
    "print(\"Metrica en Test\", score_pred)"
   ]
  },
  {
   "cell_type": "code",
   "execution_count": 31,
   "id": "bf1f3c18",
   "metadata": {},
   "outputs": [
    {
     "data": {
      "image/png": "[encoded data removed]",
      "text/plain": [
       "<Figure size 396x396 with 1 Axes>"
      ]
     },
     "metadata": {
      "needs_background": "light"
     },
     "output_type": "display_data"
    }
   ],
   "source": [
    "# DT\n",
    "roc_forest = metrics.roc_curve(y_test, pscores_forest[:,1])\n",
    "auc_forest = metrics.auc( roc_forest[0], roc_forest[1] )\n",
    "\n",
    "\n",
    "plt.figure(figsize=(5.5,5.5))\n",
    "plt.plot(roc_forest[0], roc_forest[1], lw=1,label=f\"ROC random forest (AUC = {auc_RF:0.2f})\")\n",
    "\n",
    "plt.plot([0, 1], [0, 1], color='navy', lw=1.4, linestyle='--', label='Random guess')\n",
    "plt.xlabel('False Positive Rate')\n",
    "plt.ylabel('True Positive Rate')\n",
    "plt.title('ROC curves')\n",
    "plt.legend(loc='lower right')\n",
    "plt.gca().set_aspect(1)\n",
    "plt.grid(ls='--', alpha=0.6, lw=0.4)\n",
    "plt.show()"
   ]
  },
  {
   "cell_type": "markdown",
   "id": "8dc59dda",
   "metadata": {},
   "source": [
    "### SVM"
   ]
  },
  {
   "cell_type": "code",
   "execution_count": 32,
   "id": "89d84f68",
   "metadata": {},
   "outputs": [
    {
     "data": {
      "text/plain": [
       "SVC(C=3, class_weight='balanced', probability=True)"
      ]
     },
     "execution_count": 32,
     "metadata": {},
     "output_type": "execute_result"
    }
   ],
   "source": [
    "clf = svm.SVC(kernel='rbf', C=3, probability=True, class_weight=\"balanced\")\n",
    "clf.fit(X_train, y_train)"
   ]
  },
  {
   "cell_type": "code",
   "execution_count": 33,
   "id": "10e5bc7a",
   "metadata": {},
   "outputs": [],
   "source": [
    "yhat_SVM = clf.predict(X_test)\n",
    "pscores_svm = clf.predict_proba(X_test)"
   ]
  },
  {
   "cell_type": "code",
   "execution_count": 34,
   "id": "987b845b",
   "metadata": {},
   "outputs": [
    {
     "name": "stdout",
     "output_type": "stream",
     "text": [
      "              precision    recall  f1-score   support\n",
      "\n",
      "           0       0.96      1.00      0.98      4346\n",
      "           1       0.00      0.00      0.00       201\n",
      "\n",
      "    accuracy                           0.96      4547\n",
      "   macro avg       0.48      0.50      0.49      4547\n",
      "weighted avg       0.91      0.96      0.93      4547\n",
      "\n",
      "Confusion matrix, without normalization\n",
      "[[4346    0]\n",
      " [ 201    0]]\n"
     ]
    },
    {
     "name": "stderr",
     "output_type": "stream",
     "text": [
      "C:\\Users\\d84088661\\Anaconda3\\lib\\site-packages\\sklearn\\metrics\\_classification.py:1248: UndefinedMetricWarning: Precision and F-score are ill-defined and being set to 0.0 in labels with no predicted samples. Use `zero_division` parameter to control this behavior.\n",
      "  _warn_prf(average, modifier, msg_start, len(result))\n",
      "C:\\Users\\d84088661\\Anaconda3\\lib\\site-packages\\sklearn\\metrics\\_classification.py:1248: UndefinedMetricWarning: Precision and F-score are ill-defined and being set to 0.0 in labels with no predicted samples. Use `zero_division` parameter to control this behavior.\n",
      "  _warn_prf(average, modifier, msg_start, len(result))\n",
      "C:\\Users\\d84088661\\Anaconda3\\lib\\site-packages\\sklearn\\metrics\\_classification.py:1248: UndefinedMetricWarning: Precision and F-score are ill-defined and being set to 0.0 in labels with no predicted samples. Use `zero_division` parameter to control this behavior.\n",
      "  _warn_prf(average, modifier, msg_start, len(result))\n"
     ]
    },
    {
     "data": {
      "image/png": "[encoded data removed]",
      "text/plain": [
       "<Figure size 432x288 with 2 Axes>"
      ]
     },
     "metadata": {
      "needs_background": "light"
     },
     "output_type": "display_data"
    }
   ],
   "source": [
    "# Compute confusion matrix\n",
    "y_pred_SVM = pscores_svm[:,1]>0.1\n",
    "cnf_matrix = confusion_matrix(y_test, y_pred_SVM, labels = [0,1])\n",
    "np.set_printoptions(precision=2)\n",
    "\n",
    "print (classification_report(y_test, y_pred_SVM))\n",
    "\n",
    "# Plot non-normalized confusion matrix\n",
    "plt.figure()\n",
    "plot_confusion_matrix(cnf_matrix, classes = [0,1], normalize= False,  title='Confusion matrix')\n",
    "plt.show()"
   ]
  },
  {
   "cell_type": "code",
   "execution_count": 35,
   "id": "ca10593f",
   "metadata": {},
   "outputs": [
    {
     "data": {
      "image/png": "[encoded data removed]",
      "text/plain": [
       "<Figure size 396x396 with 1 Axes>"
      ]
     },
     "metadata": {
      "needs_background": "light"
     },
     "output_type": "display_data"
    }
   ],
   "source": [
    "roc_RF = metrics.roc_curve(y_test, pscores_svm[:,1])\n",
    "auc_RF = metrics.auc( roc_RF[0], roc_RF[1] )\n",
    "\n",
    "\n",
    "plt.figure(figsize=(5.5,5.5))\n",
    "plt.plot(roc_RF[0], roc_RF[1], lw=1,label=f\"ROC random forest (AUC = {auc_RF:0.2f})\")\n",
    "\n",
    "plt.plot([0, 1], [0, 1], color='navy', lw=1.4, linestyle='--', label='Random guess')\n",
    "plt.xlabel('False Positive Rate')\n",
    "plt.ylabel('True Positive Rate')\n",
    "plt.title('ROC curves')\n",
    "plt.legend(loc='lower right')\n",
    "plt.gca().set_aspect(1)\n",
    "plt.grid(ls='--', alpha=0.6, lw=0.4)"
   ]
  },
  {
   "cell_type": "code",
   "execution_count": 36,
   "id": "443fb75c",
   "metadata": {},
   "outputs": [
    {
     "name": "stdout",
     "output_type": "stream",
     "text": [
      "Metrica del modelo 0.18510778706555214\n",
      "Metricas cross_validation [0.2  0.18 0.17 0.19 0.19]\n",
      "Media de cross_validation 0.18620772992889062\n",
      "Metrica en Test 0.9557950296899055\n"
     ]
    }
   ],
   "source": [
    "kf = StratifiedKFold(n_splits=5)\n",
    "clf = svm.SVC(kernel='rbf', C=3, probability=True, class_weight=\"balanced\")\n",
    "clf.fit(X_train, y_train)\n",
    " \n",
    "score = clf.score(X_train,y_train)\n",
    "print(\"Metrica del modelo\", score)\n",
    "scores = cross_val_score(clf, X_train, y_train, cv=kf, scoring=\"accuracy\")\n",
    "print(\"Metricas cross_validation\", scores)\n",
    "print(\"Media de cross_validation\", scores.mean())\n",
    "\n",
    "preds = clf.predict_proba(X_test)\n",
    "y_pred_SVM = preds[:,1]>0.3\n",
    "score_pred = metrics.accuracy_score(y_test, y_pred_SVM)\n",
    "print(\"Metrica en Test\", score_pred)"
   ]
  },
  {
   "cell_type": "markdown",
   "id": "2e114db4",
   "metadata": {},
   "source": [
    "### Logistic Regresion"
   ]
  },
  {
   "cell_type": "code",
   "execution_count": 21,
   "id": "2a25c755",
   "metadata": {},
   "outputs": [],
   "source": [
    "LR = LogisticRegression(C=0.05, solver='liblinear', class_weight=\"balanced\").fit(X_train,y_train)"
   ]
  },
  {
   "cell_type": "code",
   "execution_count": 22,
   "id": "f4706021",
   "metadata": {},
   "outputs": [],
   "source": [
    "yhat_LR = LR.predict(X_test)\n",
    "pscores_LR = LR.predict_proba(X_test)"
   ]
  },
  {
   "cell_type": "code",
   "execution_count": 23,
   "id": "5689d3ab",
   "metadata": {},
   "outputs": [
    {
     "name": "stdout",
     "output_type": "stream",
     "text": [
      "              precision    recall  f1-score   support\n",
      "\n",
      "           0       0.99      0.92      0.95      4346\n",
      "           1       0.32      0.86      0.47       201\n",
      "\n",
      "    accuracy                           0.91      4547\n",
      "   macro avg       0.66      0.89      0.71      4547\n",
      "weighted avg       0.96      0.91      0.93      4547\n",
      "\n",
      "Confusion matrix, without normalization\n",
      "[[3980  366]\n",
      " [  28  173]]\n"
     ]
    },
    {
     "data": {
      "image/png": "[encoded data removed]",
      "text/plain": [
       "<Figure size 432x288 with 2 Axes>"
      ]
     },
     "metadata": {
      "needs_background": "light"
     },
     "output_type": "display_data"
    }
   ],
   "source": [
    "# Compute confusion matrix\n",
    "y_pred_LR = pscores_LR[:,1]>0.65\n",
    "cnf_matrix = confusion_matrix(y_test, y_pred_LR, labels = [0,1])\n",
    "np.set_printoptions(precision=2)\n",
    "\n",
    "print (classification_report(y_test, y_pred_LR))\n",
    "\n",
    "# Plot non-normalized confusion matrix\n",
    "plt.figure()\n",
    "plot_confusion_matrix(cnf_matrix, classes = [0,1], normalize= False,  title='Confusion matrix')\n",
    "plt.show()"
   ]
  },
  {
   "cell_type": "code",
   "execution_count": null,
   "id": "7c21285c",
   "metadata": {},
   "outputs": [],
   "source": [
    "from sklearn.metrics import f1_score\n",
    "f1_score(y_test, yhat_LR, average='weighted')"
   ]
  },
  {
   "cell_type": "code",
   "execution_count": null,
   "id": "8012bf09",
   "metadata": {},
   "outputs": [],
   "source": [
    "roc_RF = metrics.roc_curve(y_test, pscores_LR[:,1])\n",
    "auc_RF = metrics.auc( roc_RF[0], roc_RF[1] )\n",
    "\n",
    "\n",
    "plt.figure(figsize=(5.5,5.5))\n",
    "plt.plot(roc_RF[0], roc_RF[1], lw=1,label=f\"ROC random forest (AUC = {auc_RF:0.2f})\")\n",
    "\n",
    "plt.plot([0, 1], [0, 1], color='navy', lw=1.4, linestyle='--', label='Random guess')\n",
    "plt.xlabel('False Positive Rate')\n",
    "plt.ylabel('True Positive Rate')\n",
    "plt.title('ROC curves')\n",
    "plt.legend(loc='lower right')\n",
    "plt.gca().set_aspect(1)\n",
    "plt.grid(ls='--', alpha=0.6, lw=0.4)"
   ]
  },
  {
   "cell_type": "code",
   "execution_count": null,
   "id": "ad50873f",
   "metadata": {},
   "outputs": [],
   "source": [
    "# ROC CURVES\n",
    "roc_RF = metrics.roc_curve(y_test, pscores_forest[:, 1])\n",
    "auc_RF = metrics.auc( roc_RF[0], roc_RF[1] )\n",
    "roc_DT = metrics.roc_curve(y_test, pscores_tree[:, 1])\n",
    "auc_DT = metrics.auc( roc_DT[0], roc_DT[1] )\n",
    "roc_SVM = metrics.roc_curve(y_test, pscores_svm[:,1])\n",
    "auc_SVM = metrics.auc( roc_SVM[0], roc_SVM[1] )\n",
    "roc_LR = metrics.roc_curve(y_test, pscores_LR[:,1])\n",
    "auc_LR = metrics.auc( roc_LR[0], roc_LR[1] )\n",
    "\n",
    "\n",
    "plt.figure(figsize=(10,10))\n",
    "line_width = 2\n",
    "plt.plot(roc_LR[0], roc_LR[1], color='darkgreen', lw=line_width,\n",
    "         label=f\"ROC curve for Logistic Regression Classifier (AUC = {auc_LR:0.2f})\")\n",
    "plt.plot(roc_DT[0], roc_DT[1], color='darkred', lw=line_width,\n",
    "         label=f\"ROC curve for Desicion Tree Classifier (AUC = {auc_DT:0.2f})\")\n",
    "plt.plot(roc_SVM[0], roc_SVM[1], color='darkorange', lw=line_width,\n",
    "         label=f\"ROC curve for Support Vector Machine (AUC = {auc_SVM:0.2f})\")\n",
    "plt.plot(roc_RF[0], roc_RF[1], color='darkblue', lw=line_width,\n",
    "         label=f\"ROC curve for Random Forest (AUC = {auc_RF:0.2f})\")\n",
    "\n",
    "plt.plot([0, 1], [0, 1], color='gray', lw=line_width, linestyle='--', label='Random guess')\n",
    "plt.xlim([0.0, 1.0])\n",
    "plt.ylim([0.0, 1.05])\n",
    "plt.xlabel('False Positive Rate')\n",
    "plt.ylabel('True Positive Rate')\n",
    "#plt.title('Classification for Enrollment in the Employment Program')\n",
    "plt.legend(loc='lower right')\n",
    "plt.show()"
   ]
  },
  {
   "cell_type": "code",
   "execution_count": null,
   "id": "97f63041",
   "metadata": {},
   "outputs": [],
   "source": [
    "train_data = lgb.Dataset(X_train, label=y_train)\n",
    "valid_data = lgb.Dataset(X_test, label=y_test, reference=train_data)"
   ]
  },
  {
   "cell_type": "code",
   "execution_count": null,
   "id": "d9f09a55",
   "metadata": {},
   "outputs": [],
   "source": [
    "#ligth gb \n",
    "X_train, X_test, y_train, y_test\n",
    "    \n",
    "# Split training data in to training and validation sets.\n",
    "# Validation set is used for early stopping.\n",
    "    \n",
    "X = df.drop(['Categoria_label_encode','Fecha_Orden','Fecha_Entrega','Fecha_Aprobacion','Categoria','Subcategoria','Proveedor','Usuario','Usuario_Aprobador','Direccion_Pedido','Presupuesto','Portal','Estado','Producto_Servicio','Fecha_Ultimo_Movimiento','Estado_label','Usuario_Aprobador_label_encode'], axis=1)\n",
    "#X = df.drop(['Fecha_Orden','Fecha_Entrega','Fecha_Aprobacion','Fecha_Ultimo_Movimiento','Estado_label'], axis=1)\n",
    "y = df['Estado_label']\n",
    "X_train, X_valid, y_train, y_valid = train_test_split(X, y, test_size=0.4, random_state=1234)\n",
    "train_data = lgb.Dataset(X_train, label=y_train)\n",
    "valid_data = lgb.Dataset(X_valid, label=y_valid, reference=train_data)"
   ]
  },
  {
   "cell_type": "code",
   "execution_count": null,
   "id": "0e51c75a",
   "metadata": {},
   "outputs": [],
   "source": []
  },
  {
   "cell_type": "code",
   "execution_count": null,
   "id": "7da33182",
   "metadata": {},
   "outputs": [],
   "source": [
    "X"
   ]
  },
  {
   "cell_type": "code",
   "execution_count": null,
   "id": "b3341082",
   "metadata": {},
   "outputs": [],
   "source": [
    "X_test"
   ]
  },
  {
   "cell_type": "code",
   "execution_count": null,
   "id": "b85f43e8",
   "metadata": {},
   "outputs": [],
   "source": [
    "## parametros para el modelo lightGBM search \n",
    "SEARCH_PARAMS = {'learning_rate': 0.4,\n",
    "                'max_depth': 15,\n",
    "                'num_leaves': 32,\n",
    "                'feature_fraction': 0.8,\n",
    "                'subsample': 0.2}\n",
    "\n",
    "FIXED_PARAMS={'objective': 'binary',\n",
    "             'metric': 'auc',\n",
    "             'is_unbalance':True,\n",
    "             'bagging_freq':5,\n",
    "             'boosting':'dart',\n",
    "             'num_boost_round':300,\n",
    "             'early_stopping_rounds':30}\n",
    "\n"
   ]
  },
  {
   "cell_type": "code",
   "execution_count": null,
   "id": "1e2fc02a",
   "metadata": {},
   "outputs": [],
   "source": [
    "params = {'metric':FIXED_PARAMS['metric'],\n",
    "             'objective':FIXED_PARAMS['objective'],**SEARCH_PARAMS}"
   ]
  },
  {
   "cell_type": "code",
   "execution_count": null,
   "id": "43b5d539",
   "metadata": {},
   "outputs": [],
   "source": [
    "model = lgb.train(params, train_data,                     \n",
    "                     valid_sets=[valid_data],\n",
    "                     num_boost_round=FIXED_PARAMS['num_boost_round'],\n",
    "                     early_stopping_rounds=FIXED_PARAMS['early_stopping_rounds'],\n",
    "                     valid_names=['valid'])"
   ]
  },
  {
   "cell_type": "code",
   "execution_count": null,
   "id": "2eabc14f",
   "metadata": {},
   "outputs": [],
   "source": [
    "score = model.best_score['valid']['auc']"
   ]
  },
  {
   "cell_type": "code",
   "execution_count": null,
   "id": "baf7b6ad",
   "metadata": {},
   "outputs": [],
   "source": [
    "score"
   ]
  },
  {
   "cell_type": "code",
   "execution_count": null,
   "id": "7b28979b",
   "metadata": {},
   "outputs": [],
   "source": [
    "## score de test\n",
    "y_predict = model.predict(X_test)\n"
   ]
  },
  {
   "cell_type": "code",
   "execution_count": null,
   "id": "a92258ed",
   "metadata": {},
   "outputs": [],
   "source": [
    "# conocer el numero de iteraciones realizadas por el modelo\n",
    "num_iteration =model.best_iteration\n",
    "num_iteration"
   ]
  },
  {
   "cell_type": "code",
   "execution_count": null,
   "id": "d52c1b10",
   "metadata": {},
   "outputs": [],
   "source": [
    "#convert into binary values\t\n",
    "for i in range(0,len(X_test)):\t\n",
    "    if y_predict[i]>=.7:       # setting threshold to .5\t\n",
    "            y_predict[i]=1\n",
    "    else:\n",
    "        y_predict[i]=0"
   ]
  },
  {
   "cell_type": "code",
   "execution_count": null,
   "id": "d357bcc1",
   "metadata": {},
   "outputs": [],
   "source": [
    "accuracy=accuracy_score(y_test,y_predict)"
   ]
  },
  {
   "cell_type": "code",
   "execution_count": null,
   "id": "381c2c90",
   "metadata": {},
   "outputs": [],
   "source": [
    "accuracy"
   ]
  },
  {
   "cell_type": "code",
   "execution_count": null,
   "id": "51c2bc37",
   "metadata": {},
   "outputs": [],
   "source": [
    "print(classification_report(y_test, y_predict))"
   ]
  },
  {
   "cell_type": "code",
   "execution_count": null,
   "id": "85bf1f6f",
   "metadata": {},
   "outputs": [],
   "source": [
    "#confusion Matrix\n",
    "plt.figure()\n",
    "cf_matrix =confusion_matrix(y_test, y_predict)\n",
    "group_names = [\"True Neg\",\"False Pos\",\"False Neg\",\"True Pos\"]\n",
    "group_counts = [\"{0:0.0f}\".format(value) for value in\n",
    "                cf_matrix.flatten()]\n",
    "group_percentages = [\"{0:.2%}\".format(value) for value in\n",
    "                     cf_matrix.flatten()/np.sum(cf_matrix)]\n",
    "labels = [f\"{v1}\\n{v2}\\n{v3}\" for v1, v2, v3 in\n",
    "          zip(group_names,group_counts,group_percentages)]\n",
    "labels = np.asarray(labels).reshape(2,2)\n",
    "sns.heatmap(cf_matrix, annot=labels, fmt='', cmap='Blues')"
   ]
  },
  {
   "cell_type": "markdown",
   "id": "32e48873",
   "metadata": {},
   "source": [
    "## Optuna "
   ]
  },
  {
   "cell_type": "code",
   "execution_count": null,
   "id": "659a1d45",
   "metadata": {},
   "outputs": [],
   "source": [
    "def objective(trial):\n",
    "    #Split Train - Test. 80%-20%\n",
    "    #X_train, X_test, y_train, y_test = train_test_split( X, y, test_size=0.2,random_state=2, stratify=df_encoder[\"Estado_label\"])\n",
    "    X_train, X_test, y_train, y_test = train_test_split(X, y, test_size=0.2, random_state=2)\n",
    "    dtrain = lgb.Dataset(X_train, label=y_train)\n",
    "    param = {\n",
    "        \"objective\": \"binary\",\n",
    "        \"metric\": \"binary_logloss\",\n",
    "        \"verbosity\": -1,\n",
    "        \"boosting_type\": \"gbdt\",\n",
    "        \"lambda_l1\": trial.suggest_float(\"lambda_l1\", 1e-8, 10.0, log=True),\n",
    "        \"lambda_l2\": trial.suggest_float(\"lambda_l2\", 1e-8, 10.0, log=True),\n",
    "        \"num_leaves\": trial.suggest_int(\"num_leaves\", 2, 256),\n",
    "        \"feature_fraction\": trial.suggest_float(\"feature_fraction\", 0.4, 1.0),\n",
    "        \"bagging_fraction\": trial.suggest_float(\"bagging_fraction\", 0.4, 1.0),\n",
    "        \"bagging_freq\": trial.suggest_int(\"bagging_freq\", 1, 7),\n",
    "        \"min_child_samples\": trial.suggest_int(\"min_child_samples\", 5, 100),\n",
    "        }    \n",
    "        \n",
    "        \n",
    "    gbm = lgb.train(param, dtrain)\n",
    "    preds = gbm.predict(X_test)\n",
    "    pred_labels = np.rint(preds)\n",
    "    accuracy = accuracy_score(y_test, pred_labels)\n",
    "    return accuracy\n",
    "    "
   ]
  },
  {
   "cell_type": "code",
   "execution_count": null,
   "id": "977e875e",
   "metadata": {},
   "outputs": [],
   "source": [
    "study = optuna.create_study(direction=\"maximize\")\n",
    "study.optimize(objective, n_trials=100)\n",
    "print(\"Number of finished trials: {}\".format(len(study.trials)))\n",
    "\n",
    "print(\"Best trial:\")\n",
    "trial = study.best_trial\n",
    "\n",
    "print(\"  Value: {}\".format(trial.value))\n",
    "\n",
    "print(\"  Params: \")\n",
    "for key, value in trial.params.items():\n",
    "    print(\"    {}: {}\".format(key, value))"
   ]
  },
  {
   "cell_type": "code",
   "execution_count": null,
   "id": "7f7f297c",
   "metadata": {},
   "outputs": [],
   "source": [
    "# Set params\n",
    "# Scores ~0.784 (without tuning and early stopping)\n",
    "params = {'boosting_type': 'gbdt', 'max_depth': -1, 'objective': 'binary', \n",
    "          'num_leaves': 64, 'learning_rate': 0.05, 'max_bin': 512, \n",
    "          'subsample_for_bin': 200, 'subsample': 1, 'subsample_freq': 1,\n",
    "          'colsample_bytree': 0.8, 'reg_alpha': 5, 'reg_lambda': 10, \n",
    "          'min_split_gain': 0.5, 'min_child_weight': 1, \n",
    "          'min_child_samples': 5, 'scale_pos_weight': 1, 'num_class': 1, \n",
    "          'metric': 'binary_error'}\n",
    "\n",
    "# Create parameters to search\n",
    "grid_params = {'learning_rate': [0.01], 'n_estimators': [8, 24],\n",
    "               'num_leaves': [6, 8, 12, 16], 'boosting_type': ['gbdt'], \n",
    "               'objective': ['binary'], 'seed': [500],\n",
    "               'colsample_bytree': [0.65, 0.75, 0.8], \n",
    "               'subsample': [0.7, 0.75], 'reg_alpha': [1, 2, 6],\n",
    "               'reg_lambda': [1, 2, 6]}"
   ]
  },
  {
   "cell_type": "code",
   "execution_count": null,
   "id": "bb742ead",
   "metadata": {},
   "outputs": [],
   "source": [
    "# Create classifier to use. Note that parameters have to be input manually\n",
    "# not as a dict!\n",
    "mod = lgb.LGBMClassifier(**params)\n",
    "    \n",
    "# To view the default model params:\n",
    "mod.get_params().keys()"
   ]
  },
  {
   "cell_type": "code",
   "execution_count": null,
   "id": "049b41b5",
   "metadata": {},
   "outputs": [],
   "source": [
    "# Create the grid\n",
    "grid = GridSearchCV(mod, param_grid=grid_params, verbose=1, cv=5, n_jobs=-1)\n",
    "# Run the grid\n",
    "grid.fit(X_train, y_train)"
   ]
  },
  {
   "cell_type": "code",
   "execution_count": null,
   "id": "0874aa8a",
   "metadata": {},
   "outputs": [],
   "source": [
    " # Print the best parameters found\n",
    "    print(grid.best_params_)\n",
    "    print(grid.best_score_)"
   ]
  },
  {
   "cell_type": "code",
   "execution_count": null,
   "id": "2f23dc4a",
   "metadata": {},
   "outputs": [],
   "source": [
    "    # Using parameters already set above, replace in the best from the grid search\n",
    "    best_params = {k: grid.best_params_.get(k, v) for k, v in params.items()}\n",
    "    best_params['verbosity'] = -1\n",
    "\n",
    "    # Kit k models with early-stopping on different training/validation splits\n",
    "    k = 5\n",
    "    valid_preds, train_preds, test_preds = 0, 0, 0\n",
    "    for m in range(k):\n",
    "        print('Fitting model', m)\n",
    "\n",
    "        # Prepare the data set for fold\n",
    "        X_train, X_valid, y_train, y_valid = train_test_split(X, y, test_size=0.4, random_state=1234)\n",
    "        \n",
    "         # Train\n",
    "        gbm = lgb.train(best_params, train_data, num_boost_round=100000,\n",
    "                        valid_sets=[train_data, valid_data],\n",
    "                        early_stopping_rounds=50, verbose_eval=50)\n",
    "\n",
    "        # Plot importance\n",
    "        lgb.plot_importance(gbm)\n",
    "        plt.show()\n"
   ]
  }
 ],
 "metadata": {
  "kernelspec": {
   "display_name": "Python 3",
   "language": "python",
   "name": "python3"
  },
  "language_info": {
   "codemirror_mode": {
    "name": "ipython",
    "version": 3
   },
   "file_extension": ".py",
   "mimetype": "text/x-python",
   "name": "python",
   "nbconvert_exporter": "python",
   "pygments_lexer": "ipython3",
   "version": "3.8.8"
  }
 },
 "nbformat": 4,
 "nbformat_minor": 5
}

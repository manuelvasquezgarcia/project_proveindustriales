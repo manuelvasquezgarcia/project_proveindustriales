{
 "cells": [
  {
   "cell_type": "code",
   "execution_count": 910,
   "id": "b5e8f5fe",
   "metadata": {},
   "outputs": [],
   "source": [
    "import pandas as pd\n",
    "import matplotlib.pyplot as plt\n",
    "import seaborn as sns\n",
    "from datetime import datetime\n",
    "from pandas_profiling import ProfileReport\n",
    "from pandas_profiling.utils.cache import cache_file\n",
    "import ppscore as pps\n",
    "import lightgbm as lgb\n",
    "from sklearn.model_selection import GridSearchCV\n",
    "from sklearn.model_selection import train_test_split\n",
    "from sklearn.preprocessing import LabelEncoder, MinMaxScaler\n",
    "from sklearn.metrics import classification_report\n",
    "from sklearn.metrics import accuracy_score\n",
    "from sklearn.metrics import confusion_matrix\n",
    "from sklearn.preprocessing import StandardScaler\n",
    "import numpy as np\n",
    "from sklearn.tree import DecisionTreeClassifier\n",
    "import itertools\n",
    "from sklearn import metrics\n",
    "from sklearn.ensemble import RandomForestClassifier\n",
    "import optuna\n",
    "from collections import Counter\n",
    "from imblearn.over_sampling import SMOTE\n",
    "from sklearn import svm\n",
    "from sklearn.linear_model import LogisticRegression\n",
    "from sklearn.model_selection import cross_val_score\n",
    "from sklearn.model_selection import StratifiedKFold\n",
    "#from sklearn.metrics import log_loss\n",
    "#from sklearn.metrics import jaccard_similarity_score\n",
    "from sklearn.metrics import f1_score, precision_score, jaccard_score, recall_score, log_loss\n",
    "from sklearn.tree import export_graphviz\n",
    "from pydotplus import graph_from_dot_data"
   ]
  },
  {
   "cell_type": "markdown",
   "id": "963e2337",
   "metadata": {},
   "source": [
    "# Análisis exploratorio \"Ordenes de compra PORTAL 1K\"\n",
    "\n",
    "El objetivo del análisis exploratorio de datos es resumir y visualizar las principales características del conjunto de datos para extraer, entender y establecer relación entre variables. Busca determinar las características de mayor impacto a partir de la aplicación de técnicas como:\n",
    "\n",
    "<ol>\n",
    "  <li> Estadística descriptiva</li>\n",
    "  <li> Agrupamiento</li>  \n",
    "  <li> Correlación</li>\n",
    "  <li> Análisis de variaciones</li>\n",
    "</ol>"
   ]
  },
  {
   "cell_type": "markdown",
   "id": "3c46195f",
   "metadata": {},
   "source": [
    "# Acerca del DataSet\n",
    "\n",
    "El DataSet \"Ordenes de compra PORTAL 1K\" corresponde a una muestra de transacciones que realizan los compradores a los proveedores en el portal para los diferentes productos y servicios. Contiene tanto variables numéricas como categóricas. La información de las variables y su contenido se presentan a continuación:\n",
    "\n",
    " NÚMERO PEDIDO           \n",
    " ORDEN NÚMERO           \n",
    " FECHA ORDEN            \n",
    " FECHA ENTREGA          \n",
    " FECHA APROBACIÓN       \n",
    " CATEGORÍA              \n",
    " SUBCATEGORÍA           \n",
    " PROVEEDOR              \n",
    " USUARIO                \n",
    " USUARIO APROBADOR      \n",
    " DIRECCIÓN DE  ENTREGA  \n",
    " DIRECCIÓN FACTURACIÓN  \n",
    " CENTRO COSTO           \n",
    " PRESUPUESTO            \n",
    " comPAÑÍA comPRADORA    \n",
    " ESTADO                 \n",
    " PRODUCTO O SERVICIO    \n",
    " CÓDIGO PRODUCTO        \n",
    " CANTIDAD PEDIDA        \n",
    " CANTIDAD RECIBIDA      \n",
    " PRECIO UNITARIO        \n",
    " PRECIO UNITARIO + IVA  \n",
    " IVA                    \n",
    " TOTAL SIN IVA          \n",
    " TOTAL + IVA            \n",
    " FECHA ÚLTIMO MOVIMIENTO\n"
   ]
  },
  {
   "cell_type": "code",
   "execution_count": 827,
   "id": "904d6e86",
   "metadata": {},
   "outputs": [
    {
     "data": {
      "text/html": [
       "<div>\n",
       "<style scoped>\n",
       "    .dataframe tbody tr th:only-of-type {\n",
       "        vertical-align: middle;\n",
       "    }\n",
       "\n",
       "    .dataframe tbody tr th {\n",
       "        vertical-align: top;\n",
       "    }\n",
       "\n",
       "    .dataframe thead th {\n",
       "        text-align: right;\n",
       "    }\n",
       "</style>\n",
       "<table border=\"1\" class=\"dataframe\">\n",
       "  <thead>\n",
       "    <tr style=\"text-align: right;\">\n",
       "      <th></th>\n",
       "      <th>NÚMERO PEDIDO</th>\n",
       "      <th>ORDEN NÚMERO</th>\n",
       "      <th>FECHA ORDEN</th>\n",
       "      <th>FECHA ENTREGA</th>\n",
       "      <th>FECHA APROBACION</th>\n",
       "      <th>CATEGORÍA</th>\n",
       "      <th>SUBCATEGORIA</th>\n",
       "      <th>PROVEEDOR</th>\n",
       "      <th>USUARIO</th>\n",
       "      <th>USUARIO APROBADOR</th>\n",
       "      <th>...</th>\n",
       "      <th>PRODUCTO O SERVICIO</th>\n",
       "      <th>CODIGO PORTAL</th>\n",
       "      <th>CANTIDAD PEDIDA</th>\n",
       "      <th>CANTIDAD RECIBIDA</th>\n",
       "      <th>PRECIO UNITARIO</th>\n",
       "      <th>PRECIO UNITARIO + IVA</th>\n",
       "      <th>IVA</th>\n",
       "      <th>TOTAL SIN IVA</th>\n",
       "      <th>TOTAL + IVA</th>\n",
       "      <th>FECHA ULTIMO MOVIMIENTO</th>\n",
       "    </tr>\n",
       "  </thead>\n",
       "  <tbody>\n",
       "    <tr>\n",
       "      <th>0</th>\n",
       "      <td># 49561</td>\n",
       "      <td># 2582</td>\n",
       "      <td>11/10/2021</td>\n",
       "      <td>11/10/2021</td>\n",
       "      <td>11/10/2021</td>\n",
       "      <td>Eléctricos y Electrónicos</td>\n",
       "      <td>Lámparas y bombillas y componentes para lámparas</td>\n",
       "      <td>Proveedor 1</td>\n",
       "      <td>Usuario solicitante 1</td>\n",
       "      <td>Usuario Aprobador 1</td>\n",
       "      <td>...</td>\n",
       "      <td>PANEL LED SOBREPONER 24W REDONDO LUZ BLANCA</td>\n",
       "      <td>1.20E+12</td>\n",
       "      <td>2.0</td>\n",
       "      <td>NaN</td>\n",
       "      <td>23364</td>\n",
       "      <td>27803</td>\n",
       "      <td>4439</td>\n",
       "      <td>46728</td>\n",
       "      <td>55606</td>\n",
       "      <td>11/10/2021</td>\n",
       "    </tr>\n",
       "    <tr>\n",
       "      <th>1</th>\n",
       "      <td># 49560</td>\n",
       "      <td># 2581</td>\n",
       "      <td>11/10/2021</td>\n",
       "      <td>11/11/2021</td>\n",
       "      <td>11/10/2021</td>\n",
       "      <td>Mercadeo y publicidad</td>\n",
       "      <td>Publicidad</td>\n",
       "      <td>Proveedor 2</td>\n",
       "      <td>Usuario solicitante 2</td>\n",
       "      <td>Usuario Aprobador 2</td>\n",
       "      <td>...</td>\n",
       "      <td>ACTIVIDADES COMERCIALES</td>\n",
       "      <td>1K15774</td>\n",
       "      <td>1.0</td>\n",
       "      <td>1.0</td>\n",
       "      <td>1476972</td>\n",
       "      <td>1757597</td>\n",
       "      <td>280625</td>\n",
       "      <td>1476972</td>\n",
       "      <td>1757597</td>\n",
       "      <td>11/10/2021</td>\n",
       "    </tr>\n",
       "    <tr>\n",
       "      <th>2</th>\n",
       "      <td># 49559</td>\n",
       "      <td># 2580</td>\n",
       "      <td>11/10/2021</td>\n",
       "      <td>11/10/2021</td>\n",
       "      <td>11/10/2021</td>\n",
       "      <td>Alimentos y Bebidas</td>\n",
       "      <td>Alimentos preparados y conservados</td>\n",
       "      <td>Proveedor 3</td>\n",
       "      <td>Usuario solicitante 3</td>\n",
       "      <td>Usuario Aprobador 3</td>\n",
       "      <td>...</td>\n",
       "      <td>Lasagna</td>\n",
       "      <td>1K7609</td>\n",
       "      <td>10.0</td>\n",
       "      <td>NaN</td>\n",
       "      <td>155</td>\n",
       "      <td>155</td>\n",
       "      <td>0</td>\n",
       "      <td>155</td>\n",
       "      <td>155</td>\n",
       "      <td>11/10/2021</td>\n",
       "    </tr>\n",
       "    <tr>\n",
       "      <th>3</th>\n",
       "      <td># 49558</td>\n",
       "      <td># 1892</td>\n",
       "      <td>11/10/2021</td>\n",
       "      <td>11/12/2021</td>\n",
       "      <td>11/10/2021</td>\n",
       "      <td>Alimentos y Bebidas</td>\n",
       "      <td>Productos de carne y aves de corral</td>\n",
       "      <td>Proveedor 4</td>\n",
       "      <td>Usuario solicitante 4</td>\n",
       "      <td>Usuario Aprobador 4</td>\n",
       "      <td>...</td>\n",
       "      <td>Pecho de Res Limpio/Sin Grasa</td>\n",
       "      <td>1K15459</td>\n",
       "      <td>50.0</td>\n",
       "      <td>NaN</td>\n",
       "      <td>22</td>\n",
       "      <td>22</td>\n",
       "      <td>0</td>\n",
       "      <td>1100000</td>\n",
       "      <td>1100000</td>\n",
       "      <td>11/10/2021</td>\n",
       "    </tr>\n",
       "    <tr>\n",
       "      <th>4</th>\n",
       "      <td># 49557</td>\n",
       "      <td># 1</td>\n",
       "      <td>11/10/2021</td>\n",
       "      <td>11/9/2021</td>\n",
       "      <td>11/10/2021</td>\n",
       "      <td>Imprenta y litografía</td>\n",
       "      <td>Otra</td>\n",
       "      <td>Proveedor 5</td>\n",
       "      <td>Usuario solicitante 5</td>\n",
       "      <td>Usuario Aprobador 5</td>\n",
       "      <td>...</td>\n",
       "      <td>LIBRO CABEZA, CORAZON Y MANOS</td>\n",
       "      <td>1K15761</td>\n",
       "      <td>7.0</td>\n",
       "      <td>7.0</td>\n",
       "      <td>92084</td>\n",
       "      <td>10958</td>\n",
       "      <td>17496</td>\n",
       "      <td>644588</td>\n",
       "      <td>76706</td>\n",
       "      <td>11/10/2021</td>\n",
       "    </tr>\n",
       "  </tbody>\n",
       "</table>\n",
       "<p>5 rows × 26 columns</p>\n",
       "</div>"
      ],
      "text/plain": [
       "  NÚMERO PEDIDO ORDEN NÚMERO FECHA ORDEN FECHA ENTREGA FECHA APROBACION  \\\n",
       "0       # 49561       # 2582  11/10/2021    11/10/2021       11/10/2021   \n",
       "1       # 49560       # 2581  11/10/2021    11/11/2021       11/10/2021   \n",
       "2       # 49559       # 2580  11/10/2021    11/10/2021       11/10/2021   \n",
       "3       # 49558       # 1892  11/10/2021    11/12/2021       11/10/2021   \n",
       "4       # 49557          # 1  11/10/2021     11/9/2021       11/10/2021   \n",
       "\n",
       "                   CATEGORÍA  \\\n",
       "0  Eléctricos y Electrónicos   \n",
       "1      Mercadeo y publicidad   \n",
       "2        Alimentos y Bebidas   \n",
       "3        Alimentos y Bebidas   \n",
       "4      Imprenta y litografía   \n",
       "\n",
       "                                       SUBCATEGORIA    PROVEEDOR  \\\n",
       "0  Lámparas y bombillas y componentes para lámparas  Proveedor 1   \n",
       "1                                        Publicidad  Proveedor 2   \n",
       "2                Alimentos preparados y conservados  Proveedor 3   \n",
       "3               Productos de carne y aves de corral  Proveedor 4   \n",
       "4                                              Otra  Proveedor 5   \n",
       "\n",
       "                 USUARIO    USUARIO APROBADOR  ...  \\\n",
       "0  Usuario solicitante 1  Usuario Aprobador 1  ...   \n",
       "1  Usuario solicitante 2  Usuario Aprobador 2  ...   \n",
       "2  Usuario solicitante 3  Usuario Aprobador 3  ...   \n",
       "3  Usuario solicitante 4  Usuario Aprobador 4  ...   \n",
       "4  Usuario solicitante 5  Usuario Aprobador 5  ...   \n",
       "\n",
       "                            PRODUCTO O SERVICIO CODIGO PORTAL CANTIDAD PEDIDA  \\\n",
       "0  PANEL LED SOBREPONER 24W REDONDO LUZ BLANCA       1.20E+12             2.0   \n",
       "1                       ACTIVIDADES COMERCIALES       1K15774             1.0   \n",
       "2                                       Lasagna        1K7609            10.0   \n",
       "3                 Pecho de Res Limpio/Sin Grasa       1K15459            50.0   \n",
       "4                 LIBRO CABEZA, CORAZON Y MANOS       1K15761             7.0   \n",
       "\n",
       "  CANTIDAD RECIBIDA PRECIO UNITARIO PRECIO UNITARIO + IVA     IVA  \\\n",
       "0               NaN           23364                 27803    4439   \n",
       "1               1.0         1476972               1757597  280625   \n",
       "2               NaN             155                   155       0   \n",
       "3               NaN              22                    22       0   \n",
       "4               7.0           92084                 10958   17496   \n",
       "\n",
       "  TOTAL SIN IVA  TOTAL + IVA  FECHA ULTIMO MOVIMIENTO  \n",
       "0         46728        55606               11/10/2021  \n",
       "1       1476972      1757597               11/10/2021  \n",
       "2           155          155               11/10/2021  \n",
       "3       1100000      1100000               11/10/2021  \n",
       "4        644588        76706               11/10/2021  \n",
       "\n",
       "[5 rows x 26 columns]"
      ]
     },
     "execution_count": 827,
     "metadata": {},
     "output_type": "execute_result"
    }
   ],
   "source": [
    "#Read Dataset\n",
    "#pd.set_option(\"display.max_columns\",40)\n",
    "df = pd.read_csv(r\"D:\\Ordenes_de_compra_PORTAL_1K.csv\", sep=',', header= 0, na_values = [\"  \"],encoding='latin-1')\n",
    "df.head()"
   ]
  },
  {
   "cell_type": "code",
   "execution_count": 828,
   "id": "0f564c92",
   "metadata": {},
   "outputs": [],
   "source": [
    "df.rename(columns={'NÚMERO PEDIDO': 'Numero_Pedido',\n",
    "                  'ORDEN NÚMERO': 'Orden_Numero',\n",
    "                  'FECHA ORDEN': 'Fecha_Orden',\n",
    "                  'FECHA ENTREGA': 'Fecha_Entrega',\n",
    "                  'FECHA APROBACION': 'Fecha_Aprobacion',\n",
    "                  'CATEGORÍA': 'Categoria',\n",
    "                  'SUBCATEGORIA': 'Subcategoria',\n",
    "                  'PROVEEDOR': 'Proveedor',\n",
    "                  'USUARIO': 'Usuario',\n",
    "                  'USUARIO APROBADOR': 'Usuario_Aprobador',\n",
    "                  'DIRECCION PEDIDO': 'Direccion_Pedido',\n",
    "                  'DIRECCION FACTURACION': 'Direccion_Facturacion',\n",
    "                  'CENTRO DE COSTOS': 'Centro_Costos',\n",
    "                  'PRESUPUESTO': 'Presupuesto',\n",
    "                  'PORTAL': 'Portal',\n",
    "                  'ESTADO': 'Estado',\n",
    "                  'PRODUCTO O SERVICIO': 'Producto_Servicio',\n",
    "                  'CODIGO PORTAL': 'Codigo_Producto',\n",
    "                  'CANTIDAD PEDIDA': 'Cantidad_Pedida',\n",
    "                  'CANTIDAD RECIBIDA': 'Cantidad_Recibida',\n",
    "                  'PRECIO UNITARIO': 'Precio_Unitario',\n",
    "                  'PRECIO UNITARIO + IVA': 'Precio_Unitario_IVA',\n",
    "                  'IVA': 'IVA',\n",
    "                  'TOTAL SIN IVA': 'Total_Sin_IVA',\n",
    "                  'TOTAL + IVA': 'Total_IVA',\n",
    "                  'FECHA ULTIMO MOVIMIENTO': 'Fecha_Ultimo_Movimiento'}, inplace=True)"
   ]
  },
  {
   "cell_type": "code",
   "execution_count": 829,
   "id": "04069799",
   "metadata": {},
   "outputs": [],
   "source": [
    "# cambio formato fechas\n",
    "df['Fecha_Orden'] = pd.to_datetime(df['Fecha_Orden'], format = \"%m/%d/%Y\")\n",
    "df['Fecha_Entrega'] = pd.to_datetime(df['Fecha_Entrega'], format = \"%m/%d/%Y\")\n",
    "df['Fecha_Aprobacion'] = pd.to_datetime(df['Fecha_Aprobacion'], format = \"%m/%d/%Y\")"
   ]
  },
  {
   "cell_type": "code",
   "execution_count": 830,
   "id": "c453cfcf",
   "metadata": {},
   "outputs": [
    {
     "name": "stdout",
     "output_type": "stream",
     "text": [
      "<class 'pandas.core.frame.DataFrame'>\n",
      "RangeIndex: 23083 entries, 0 to 23082\n",
      "Data columns (total 26 columns):\n",
      " #   Column                   Non-Null Count  Dtype         \n",
      "---  ------                   --------------  -----         \n",
      " 0   Numero_Pedido            23083 non-null  object        \n",
      " 1   Orden_Numero             23083 non-null  object        \n",
      " 2   Fecha_Orden              23083 non-null  datetime64[ns]\n",
      " 3   Fecha_Entrega            18770 non-null  datetime64[ns]\n",
      " 4   Fecha_Aprobacion         21950 non-null  datetime64[ns]\n",
      " 5   Categoria                23083 non-null  object        \n",
      " 6   Subcategoria             23083 non-null  object        \n",
      " 7   Proveedor                23083 non-null  object        \n",
      " 8   Usuario                  23083 non-null  object        \n",
      " 9   Usuario_Aprobador        21950 non-null  object        \n",
      " 10  Direccion_Pedido         23083 non-null  object        \n",
      " 11  Direccion_Facturacion    10828 non-null  object        \n",
      " 12  Centro_Costos            16672 non-null  object        \n",
      " 13  Presupuesto              18581 non-null  object        \n",
      " 14  Portal                   23083 non-null  object        \n",
      " 15  Estado                   23083 non-null  object        \n",
      " 16  Producto_Servicio        23083 non-null  object        \n",
      " 17  Codigo_Producto          18223 non-null  object        \n",
      " 18  Cantidad_Pedida          23083 non-null  float64       \n",
      " 19  Cantidad_Recibida        16013 non-null  float64       \n",
      " 20  Precio_Unitario          23083 non-null  int64         \n",
      " 21  Precio_Unitario_IVA      23083 non-null  int64         \n",
      " 22  IVA                      23083 non-null  int64         \n",
      " 23  Total_Sin_IVA            23083 non-null  int64         \n",
      " 24  Total_IVA                23083 non-null  int64         \n",
      " 25  Fecha_Ultimo_Movimiento  23083 non-null  object        \n",
      "dtypes: datetime64[ns](3), float64(2), int64(5), object(16)\n",
      "memory usage: 4.6+ MB\n"
     ]
    }
   ],
   "source": [
    "df.info()"
   ]
  },
  {
   "cell_type": "code",
   "execution_count": 831,
   "id": "5973eed9",
   "metadata": {},
   "outputs": [
    {
     "data": {
      "text/html": [
       "<div>\n",
       "<style scoped>\n",
       "    .dataframe tbody tr th:only-of-type {\n",
       "        vertical-align: middle;\n",
       "    }\n",
       "\n",
       "    .dataframe tbody tr th {\n",
       "        vertical-align: top;\n",
       "    }\n",
       "\n",
       "    .dataframe thead th {\n",
       "        text-align: right;\n",
       "    }\n",
       "</style>\n",
       "<table border=\"1\" class=\"dataframe\">\n",
       "  <thead>\n",
       "    <tr style=\"text-align: right;\">\n",
       "      <th></th>\n",
       "      <th>count</th>\n",
       "      <th>mean</th>\n",
       "      <th>std</th>\n",
       "      <th>min</th>\n",
       "      <th>25%</th>\n",
       "      <th>50%</th>\n",
       "      <th>75%</th>\n",
       "      <th>max</th>\n",
       "    </tr>\n",
       "  </thead>\n",
       "  <tbody>\n",
       "    <tr>\n",
       "      <th>Cantidad_Pedida</th>\n",
       "      <td>23083.0</td>\n",
       "      <td>191.208232</td>\n",
       "      <td>1.946639e+03</td>\n",
       "      <td>0.27</td>\n",
       "      <td>2.0</td>\n",
       "      <td>7.0</td>\n",
       "      <td>40.0</td>\n",
       "      <td>120000.0</td>\n",
       "    </tr>\n",
       "    <tr>\n",
       "      <th>Cantidad_Recibida</th>\n",
       "      <td>16013.0</td>\n",
       "      <td>69.835325</td>\n",
       "      <td>1.040933e+03</td>\n",
       "      <td>0.00</td>\n",
       "      <td>2.0</td>\n",
       "      <td>5.0</td>\n",
       "      <td>18.0</td>\n",
       "      <td>53620.0</td>\n",
       "    </tr>\n",
       "    <tr>\n",
       "      <th>Precio_Unitario</th>\n",
       "      <td>23083.0</td>\n",
       "      <td>59149.630767</td>\n",
       "      <td>6.331279e+05</td>\n",
       "      <td>0.00</td>\n",
       "      <td>244.0</td>\n",
       "      <td>1706.0</td>\n",
       "      <td>22274.0</td>\n",
       "      <td>33242814.0</td>\n",
       "    </tr>\n",
       "    <tr>\n",
       "      <th>Precio_Unitario_IVA</th>\n",
       "      <td>23083.0</td>\n",
       "      <td>63580.384395</td>\n",
       "      <td>7.239502e+05</td>\n",
       "      <td>0.00</td>\n",
       "      <td>103.0</td>\n",
       "      <td>833.0</td>\n",
       "      <td>9877.0</td>\n",
       "      <td>39558949.0</td>\n",
       "    </tr>\n",
       "    <tr>\n",
       "      <th>IVA</th>\n",
       "      <td>23083.0</td>\n",
       "      <td>9264.859420</td>\n",
       "      <td>1.011564e+05</td>\n",
       "      <td>0.00</td>\n",
       "      <td>95.0</td>\n",
       "      <td>781.0</td>\n",
       "      <td>5067.0</td>\n",
       "      <td>6316135.0</td>\n",
       "    </tr>\n",
       "    <tr>\n",
       "      <th>Total_Sin_IVA</th>\n",
       "      <td>23083.0</td>\n",
       "      <td>430121.193216</td>\n",
       "      <td>3.123982e+06</td>\n",
       "      <td>0.00</td>\n",
       "      <td>816.0</td>\n",
       "      <td>32269.0</td>\n",
       "      <td>187669.5</td>\n",
       "      <td>299185326.0</td>\n",
       "    </tr>\n",
       "    <tr>\n",
       "      <th>Total_IVA</th>\n",
       "      <td>23083.0</td>\n",
       "      <td>477529.760040</td>\n",
       "      <td>3.545482e+06</td>\n",
       "      <td>0.00</td>\n",
       "      <td>515.0</td>\n",
       "      <td>11995.0</td>\n",
       "      <td>146054.5</td>\n",
       "      <td>356030538.0</td>\n",
       "    </tr>\n",
       "  </tbody>\n",
       "</table>\n",
       "</div>"
      ],
      "text/plain": [
       "                       count           mean           std   min    25%  \\\n",
       "Cantidad_Pedida      23083.0     191.208232  1.946639e+03  0.27    2.0   \n",
       "Cantidad_Recibida    16013.0      69.835325  1.040933e+03  0.00    2.0   \n",
       "Precio_Unitario      23083.0   59149.630767  6.331279e+05  0.00  244.0   \n",
       "Precio_Unitario_IVA  23083.0   63580.384395  7.239502e+05  0.00  103.0   \n",
       "IVA                  23083.0    9264.859420  1.011564e+05  0.00   95.0   \n",
       "Total_Sin_IVA        23083.0  430121.193216  3.123982e+06  0.00  816.0   \n",
       "Total_IVA            23083.0  477529.760040  3.545482e+06  0.00  515.0   \n",
       "\n",
       "                         50%       75%          max  \n",
       "Cantidad_Pedida          7.0      40.0     120000.0  \n",
       "Cantidad_Recibida        5.0      18.0      53620.0  \n",
       "Precio_Unitario       1706.0   22274.0   33242814.0  \n",
       "Precio_Unitario_IVA    833.0    9877.0   39558949.0  \n",
       "IVA                    781.0    5067.0    6316135.0  \n",
       "Total_Sin_IVA        32269.0  187669.5  299185326.0  \n",
       "Total_IVA            11995.0  146054.5  356030538.0  "
      ]
     },
     "execution_count": 831,
     "metadata": {},
     "output_type": "execute_result"
    }
   ],
   "source": [
    "df.describe().T"
   ]
  },
  {
   "cell_type": "code",
   "execution_count": null,
   "id": "064bd5c9",
   "metadata": {},
   "outputs": [],
   "source": [
    "profile = ProfileReport(df, title=\"Pandas Profiling Report\", explorative=True)"
   ]
  },
  {
   "cell_type": "code",
   "execution_count": null,
   "id": "6bb4e61b",
   "metadata": {
    "scrolled": true
   },
   "outputs": [],
   "source": [
    "profile"
   ]
  },
  {
   "cell_type": "code",
   "execution_count": 7,
   "id": "084e6797",
   "metadata": {},
   "outputs": [],
   "source": [
    "%matplotlib inline"
   ]
  },
  {
   "cell_type": "code",
   "execution_count": 808,
   "id": "db1a92e9",
   "metadata": {},
   "outputs": [
    {
     "data": {
      "image/png": "[encoded data removed]",
      "text/plain": [
       "<Figure size 1440x720 with 2 Axes>"
      ]
     },
     "metadata": {
      "needs_background": "light"
     },
     "output_type": "display_data"
    }
   ],
   "source": [
    "plt.figure(figsize=(20,10))\n",
    "corr_matrix = df.corr()\n",
    "sns.heatmap(corr_matrix, annot=True)\n",
    "plt.show()\n",
    "#plt.savefig(\"matixdf_full.png\")"
   ]
  },
  {
   "cell_type": "code",
   "execution_count": 832,
   "id": "5294c5a7",
   "metadata": {},
   "outputs": [],
   "source": [
    "# campos eliminados despues de revision de matrix de correlacion\n",
    "df.drop(['Producto_Servicio','Portal','Usuario_Aprobador','Usuario','Subcategoria','Presupuesto',\"Precio_Unitario_IVA\",\"Cantidad_Recibida\", \"Total_Sin_IVA\", \"IVA\", \"Codigo_Producto\", \"Direccion_Facturacion\", \"Centro_Costos\", \"Numero_Pedido\", \"Orden_Numero\"], axis=1, inplace = True)"
   ]
  },
  {
   "cell_type": "markdown",
   "id": "b8bcc23b",
   "metadata": {},
   "source": [
    "#### Data Cleaning"
   ]
  },
  {
   "cell_type": "code",
   "execution_count": 833,
   "id": "1fee7fe6",
   "metadata": {},
   "outputs": [],
   "source": [
    "d3_Cantidad_Pedida = df['Cantidad_Pedida'].mean() + 3*df['Cantidad_Pedida'].std()\n",
    "d3_Precio_Unitario = df['Precio_Unitario'].mean() + 3*df['Precio_Unitario'].std()\n",
    "d3_Total_IVA = df['Total_IVA'].mean() + 3*df['Total_IVA'].std()"
   ]
  },
  {
   "cell_type": "code",
   "execution_count": 834,
   "id": "007653fa",
   "metadata": {},
   "outputs": [],
   "source": [
    "df = df[(df['Cantidad_Pedida'] < d3_Cantidad_Pedida) & (df['Precio_Unitario'] < d3_Precio_Unitario) &  (df['Total_IVA'] < d3_Total_IVA)]"
   ]
  },
  {
   "cell_type": "code",
   "execution_count": null,
   "id": "bfa94ad0",
   "metadata": {},
   "outputs": [],
   "source": [
    "profile2 = ProfileReport(df, title=\"Pandas Profiling Report\", explorative=True)\n",
    "profile2"
   ]
  },
  {
   "cell_type": "code",
   "execution_count": 812,
   "id": "b62a6af1",
   "metadata": {},
   "outputs": [
    {
     "data": {
      "text/html": [
       "<div>\n",
       "<style scoped>\n",
       "    .dataframe tbody tr th:only-of-type {\n",
       "        vertical-align: middle;\n",
       "    }\n",
       "\n",
       "    .dataframe tbody tr th {\n",
       "        vertical-align: top;\n",
       "    }\n",
       "\n",
       "    .dataframe thead th {\n",
       "        text-align: right;\n",
       "    }\n",
       "</style>\n",
       "<table border=\"1\" class=\"dataframe\">\n",
       "  <thead>\n",
       "    <tr style=\"text-align: right;\">\n",
       "      <th></th>\n",
       "      <th>count</th>\n",
       "      <th>mean</th>\n",
       "      <th>std</th>\n",
       "      <th>min</th>\n",
       "      <th>25%</th>\n",
       "      <th>50%</th>\n",
       "      <th>75%</th>\n",
       "      <th>max</th>\n",
       "    </tr>\n",
       "    <tr>\n",
       "      <th>Estado</th>\n",
       "      <th></th>\n",
       "      <th></th>\n",
       "      <th></th>\n",
       "      <th></th>\n",
       "      <th></th>\n",
       "      <th></th>\n",
       "      <th></th>\n",
       "      <th></th>\n",
       "    </tr>\n",
       "  </thead>\n",
       "  <tbody>\n",
       "    <tr>\n",
       "      <th>Cancelado</th>\n",
       "      <td>1129.0</td>\n",
       "      <td>54.227192</td>\n",
       "      <td>293.055958</td>\n",
       "      <td>1.00</td>\n",
       "      <td>2.00</td>\n",
       "      <td>4.0</td>\n",
       "      <td>12.00</td>\n",
       "      <td>5000.0</td>\n",
       "    </tr>\n",
       "    <tr>\n",
       "      <th>Enviado</th>\n",
       "      <td>10.0</td>\n",
       "      <td>213.800000</td>\n",
       "      <td>628.347533</td>\n",
       "      <td>1.00</td>\n",
       "      <td>1.25</td>\n",
       "      <td>6.0</td>\n",
       "      <td>11.00</td>\n",
       "      <td>2000.0</td>\n",
       "    </tr>\n",
       "    <tr>\n",
       "      <th>Finalizado Incompleto</th>\n",
       "      <td>934.0</td>\n",
       "      <td>28.777302</td>\n",
       "      <td>139.907961</td>\n",
       "      <td>1.00</td>\n",
       "      <td>1.00</td>\n",
       "      <td>3.0</td>\n",
       "      <td>9.75</td>\n",
       "      <td>2400.0</td>\n",
       "    </tr>\n",
       "    <tr>\n",
       "      <th>Orden Confirmada</th>\n",
       "      <td>10.0</td>\n",
       "      <td>11.300000</td>\n",
       "      <td>11.035800</td>\n",
       "      <td>1.00</td>\n",
       "      <td>3.25</td>\n",
       "      <td>7.0</td>\n",
       "      <td>17.25</td>\n",
       "      <td>36.0</td>\n",
       "    </tr>\n",
       "    <tr>\n",
       "      <th>Orden Rechazada</th>\n",
       "      <td>1003.0</td>\n",
       "      <td>18.504686</td>\n",
       "      <td>77.727792</td>\n",
       "      <td>0.30</td>\n",
       "      <td>2.00</td>\n",
       "      <td>4.0</td>\n",
       "      <td>12.00</td>\n",
       "      <td>2000.0</td>\n",
       "    </tr>\n",
       "    <tr>\n",
       "      <th>Orden en Proceso</th>\n",
       "      <td>4716.0</td>\n",
       "      <td>158.705831</td>\n",
       "      <td>451.164165</td>\n",
       "      <td>0.50</td>\n",
       "      <td>12.00</td>\n",
       "      <td>60.0</td>\n",
       "      <td>144.00</td>\n",
       "      <td>6000.0</td>\n",
       "    </tr>\n",
       "    <tr>\n",
       "      <th>Pendiente por Aprobar</th>\n",
       "      <td>49.0</td>\n",
       "      <td>22.061224</td>\n",
       "      <td>38.821390</td>\n",
       "      <td>1.00</td>\n",
       "      <td>1.00</td>\n",
       "      <td>2.0</td>\n",
       "      <td>30.00</td>\n",
       "      <td>192.0</td>\n",
       "    </tr>\n",
       "    <tr>\n",
       "      <th>Recibido</th>\n",
       "      <td>14722.0</td>\n",
       "      <td>42.734291</td>\n",
       "      <td>243.891111</td>\n",
       "      <td>0.27</td>\n",
       "      <td>2.00</td>\n",
       "      <td>5.0</td>\n",
       "      <td>20.00</td>\n",
       "      <td>6000.0</td>\n",
       "    </tr>\n",
       "    <tr>\n",
       "      <th>Recibido Parcial</th>\n",
       "      <td>158.0</td>\n",
       "      <td>59.930380</td>\n",
       "      <td>288.872509</td>\n",
       "      <td>1.00</td>\n",
       "      <td>3.00</td>\n",
       "      <td>7.0</td>\n",
       "      <td>16.00</td>\n",
       "      <td>2500.0</td>\n",
       "    </tr>\n",
       "  </tbody>\n",
       "</table>\n",
       "</div>"
      ],
      "text/plain": [
       "                         count        mean         std   min    25%   50%  \\\n",
       "Estado                                                                      \n",
       "Cancelado               1129.0   54.227192  293.055958  1.00   2.00   4.0   \n",
       "Enviado                   10.0  213.800000  628.347533  1.00   1.25   6.0   \n",
       "Finalizado Incompleto    934.0   28.777302  139.907961  1.00   1.00   3.0   \n",
       "Orden Confirmada          10.0   11.300000   11.035800  1.00   3.25   7.0   \n",
       "Orden Rechazada         1003.0   18.504686   77.727792  0.30   2.00   4.0   \n",
       "Orden en Proceso        4716.0  158.705831  451.164165  0.50  12.00  60.0   \n",
       "Pendiente por Aprobar     49.0   22.061224   38.821390  1.00   1.00   2.0   \n",
       "Recibido               14722.0   42.734291  243.891111  0.27   2.00   5.0   \n",
       "Recibido Parcial         158.0   59.930380  288.872509  1.00   3.00   7.0   \n",
       "\n",
       "                          75%     max  \n",
       "Estado                                 \n",
       "Cancelado               12.00  5000.0  \n",
       "Enviado                 11.00  2000.0  \n",
       "Finalizado Incompleto    9.75  2400.0  \n",
       "Orden Confirmada        17.25    36.0  \n",
       "Orden Rechazada         12.00  2000.0  \n",
       "Orden en Proceso       144.00  6000.0  \n",
       "Pendiente por Aprobar   30.00   192.0  \n",
       "Recibido                20.00  6000.0  \n",
       "Recibido Parcial        16.00  2500.0  "
      ]
     },
     "execution_count": 812,
     "metadata": {},
     "output_type": "execute_result"
    }
   ],
   "source": [
    "df.groupby([\"Estado\"]).Cantidad_Pedida.describe()"
   ]
  },
  {
   "cell_type": "code",
   "execution_count": null,
   "id": "cc977031",
   "metadata": {},
   "outputs": [],
   "source": [
    "df.groupby([\"Estado\"]).Precio_Unitario.describe()"
   ]
  },
  {
   "cell_type": "markdown",
   "id": "90e68727",
   "metadata": {},
   "source": [
    "#### Feature Engineering"
   ]
  },
  {
   "cell_type": "code",
   "execution_count": null,
   "id": "c1d32de5",
   "metadata": {},
   "outputs": [],
   "source": [
    "-Dias_Trasncurridos_Entrega: Fecha Entrega vs Fecha Orden\n",
    "-Convertir estado: Rechazado a 1 y el resto a 0"
   ]
  },
  {
   "cell_type": "code",
   "execution_count": 835,
   "id": "2780e842",
   "metadata": {},
   "outputs": [],
   "source": [
    "df[\"Dias_Trasncurridos_Entrega\"] = (df[\"Fecha_Entrega\"] - df[\"Fecha_Orden\"]).dt.days"
   ]
  },
  {
   "cell_type": "code",
   "execution_count": 836,
   "id": "24269d5a",
   "metadata": {},
   "outputs": [
    {
     "data": {
      "text/html": [
       "<div>\n",
       "<style scoped>\n",
       "    .dataframe tbody tr th:only-of-type {\n",
       "        vertical-align: middle;\n",
       "    }\n",
       "\n",
       "    .dataframe tbody tr th {\n",
       "        vertical-align: top;\n",
       "    }\n",
       "\n",
       "    .dataframe thead th {\n",
       "        text-align: right;\n",
       "    }\n",
       "</style>\n",
       "<table border=\"1\" class=\"dataframe\">\n",
       "  <thead>\n",
       "    <tr style=\"text-align: right;\">\n",
       "      <th></th>\n",
       "      <th>Fecha_Orden</th>\n",
       "      <th>Fecha_Entrega</th>\n",
       "      <th>Fecha_Aprobacion</th>\n",
       "      <th>Categoria</th>\n",
       "      <th>Proveedor</th>\n",
       "      <th>Direccion_Pedido</th>\n",
       "      <th>Estado</th>\n",
       "      <th>Cantidad_Pedida</th>\n",
       "      <th>Precio_Unitario</th>\n",
       "      <th>Total_IVA</th>\n",
       "      <th>Fecha_Ultimo_Movimiento</th>\n",
       "      <th>Dias_Trasncurridos_Entrega</th>\n",
       "    </tr>\n",
       "  </thead>\n",
       "  <tbody>\n",
       "    <tr>\n",
       "      <th>0</th>\n",
       "      <td>2021-11-10</td>\n",
       "      <td>2021-11-10</td>\n",
       "      <td>2021-11-10</td>\n",
       "      <td>Eléctricos y Electrónicos</td>\n",
       "      <td>Proveedor 1</td>\n",
       "      <td>Direccion 1</td>\n",
       "      <td>Orden en Proceso</td>\n",
       "      <td>2.0</td>\n",
       "      <td>23364</td>\n",
       "      <td>55606</td>\n",
       "      <td>11/10/2021</td>\n",
       "      <td>0.0</td>\n",
       "    </tr>\n",
       "    <tr>\n",
       "      <th>1</th>\n",
       "      <td>2021-11-10</td>\n",
       "      <td>2021-11-11</td>\n",
       "      <td>2021-11-10</td>\n",
       "      <td>Mercadeo y publicidad</td>\n",
       "      <td>Proveedor 2</td>\n",
       "      <td>Direccion 1</td>\n",
       "      <td>Recibido</td>\n",
       "      <td>1.0</td>\n",
       "      <td>1476972</td>\n",
       "      <td>1757597</td>\n",
       "      <td>11/10/2021</td>\n",
       "      <td>1.0</td>\n",
       "    </tr>\n",
       "    <tr>\n",
       "      <th>2</th>\n",
       "      <td>2021-11-10</td>\n",
       "      <td>2021-11-10</td>\n",
       "      <td>2021-11-10</td>\n",
       "      <td>Alimentos y Bebidas</td>\n",
       "      <td>Proveedor 3</td>\n",
       "      <td>Direccion 2</td>\n",
       "      <td>Orden en Proceso</td>\n",
       "      <td>10.0</td>\n",
       "      <td>155</td>\n",
       "      <td>155</td>\n",
       "      <td>11/10/2021</td>\n",
       "      <td>0.0</td>\n",
       "    </tr>\n",
       "    <tr>\n",
       "      <th>3</th>\n",
       "      <td>2021-11-10</td>\n",
       "      <td>2021-11-12</td>\n",
       "      <td>2021-11-10</td>\n",
       "      <td>Alimentos y Bebidas</td>\n",
       "      <td>Proveedor 4</td>\n",
       "      <td>Direccion 3</td>\n",
       "      <td>Orden en Proceso</td>\n",
       "      <td>50.0</td>\n",
       "      <td>22</td>\n",
       "      <td>1100000</td>\n",
       "      <td>11/10/2021</td>\n",
       "      <td>2.0</td>\n",
       "    </tr>\n",
       "    <tr>\n",
       "      <th>4</th>\n",
       "      <td>2021-11-10</td>\n",
       "      <td>2021-11-09</td>\n",
       "      <td>2021-11-10</td>\n",
       "      <td>Imprenta y litografía</td>\n",
       "      <td>Proveedor 5</td>\n",
       "      <td>Direccion 4</td>\n",
       "      <td>Recibido</td>\n",
       "      <td>7.0</td>\n",
       "      <td>92084</td>\n",
       "      <td>76706</td>\n",
       "      <td>11/10/2021</td>\n",
       "      <td>-1.0</td>\n",
       "    </tr>\n",
       "    <tr>\n",
       "      <th>...</th>\n",
       "      <td>...</td>\n",
       "      <td>...</td>\n",
       "      <td>...</td>\n",
       "      <td>...</td>\n",
       "      <td>...</td>\n",
       "      <td>...</td>\n",
       "      <td>...</td>\n",
       "      <td>...</td>\n",
       "      <td>...</td>\n",
       "      <td>...</td>\n",
       "      <td>...</td>\n",
       "      <td>...</td>\n",
       "    </tr>\n",
       "    <tr>\n",
       "      <th>23078</th>\n",
       "      <td>2018-04-30</td>\n",
       "      <td>NaT</td>\n",
       "      <td>2018-05-01</td>\n",
       "      <td>Aseo, Cafetería y Oficina</td>\n",
       "      <td>Proveedor 229</td>\n",
       "      <td>Direccion 81</td>\n",
       "      <td>Recibido</td>\n",
       "      <td>8.0</td>\n",
       "      <td>33613</td>\n",
       "      <td>320</td>\n",
       "      <td>5/1/2018</td>\n",
       "      <td>NaN</td>\n",
       "    </tr>\n",
       "    <tr>\n",
       "      <th>23079</th>\n",
       "      <td>2018-04-30</td>\n",
       "      <td>NaT</td>\n",
       "      <td>2018-05-01</td>\n",
       "      <td>Aseo, Cafetería y Oficina</td>\n",
       "      <td>Proveedor 229</td>\n",
       "      <td>Direccion 81</td>\n",
       "      <td>Recibido</td>\n",
       "      <td>1.0</td>\n",
       "      <td>588</td>\n",
       "      <td>700</td>\n",
       "      <td>5/1/2018</td>\n",
       "      <td>NaN</td>\n",
       "    </tr>\n",
       "    <tr>\n",
       "      <th>23080</th>\n",
       "      <td>2018-04-30</td>\n",
       "      <td>NaT</td>\n",
       "      <td>2018-05-01</td>\n",
       "      <td>Moda y accesorios</td>\n",
       "      <td>Proveedor 229</td>\n",
       "      <td>Direccion 81</td>\n",
       "      <td>Recibido</td>\n",
       "      <td>3.0</td>\n",
       "      <td>29412</td>\n",
       "      <td>105</td>\n",
       "      <td>5/1/2018</td>\n",
       "      <td>NaN</td>\n",
       "    </tr>\n",
       "    <tr>\n",
       "      <th>23081</th>\n",
       "      <td>2018-04-30</td>\n",
       "      <td>NaT</td>\n",
       "      <td>2018-04-30</td>\n",
       "      <td>Moda y accesorios</td>\n",
       "      <td>Proveedor 229</td>\n",
       "      <td>Direccion 81</td>\n",
       "      <td>Recibido</td>\n",
       "      <td>4.0</td>\n",
       "      <td>29412</td>\n",
       "      <td>140</td>\n",
       "      <td>5/1/2018</td>\n",
       "      <td>NaN</td>\n",
       "    </tr>\n",
       "    <tr>\n",
       "      <th>23082</th>\n",
       "      <td>2018-04-30</td>\n",
       "      <td>NaT</td>\n",
       "      <td>2018-04-30</td>\n",
       "      <td>Aseo, Cafetería y Oficina</td>\n",
       "      <td>Proveedor 229</td>\n",
       "      <td>Direccion 81</td>\n",
       "      <td>Recibido</td>\n",
       "      <td>5.0</td>\n",
       "      <td>33613</td>\n",
       "      <td>200</td>\n",
       "      <td>5/1/2018</td>\n",
       "      <td>NaN</td>\n",
       "    </tr>\n",
       "  </tbody>\n",
       "</table>\n",
       "<p>22731 rows × 12 columns</p>\n",
       "</div>"
      ],
      "text/plain": [
       "      Fecha_Orden Fecha_Entrega Fecha_Aprobacion                  Categoria  \\\n",
       "0      2021-11-10    2021-11-10       2021-11-10  Eléctricos y Electrónicos   \n",
       "1      2021-11-10    2021-11-11       2021-11-10      Mercadeo y publicidad   \n",
       "2      2021-11-10    2021-11-10       2021-11-10        Alimentos y Bebidas   \n",
       "3      2021-11-10    2021-11-12       2021-11-10        Alimentos y Bebidas   \n",
       "4      2021-11-10    2021-11-09       2021-11-10      Imprenta y litografía   \n",
       "...           ...           ...              ...                        ...   \n",
       "23078  2018-04-30           NaT       2018-05-01  Aseo, Cafetería y Oficina   \n",
       "23079  2018-04-30           NaT       2018-05-01  Aseo, Cafetería y Oficina   \n",
       "23080  2018-04-30           NaT       2018-05-01          Moda y accesorios   \n",
       "23081  2018-04-30           NaT       2018-04-30          Moda y accesorios   \n",
       "23082  2018-04-30           NaT       2018-04-30  Aseo, Cafetería y Oficina   \n",
       "\n",
       "           Proveedor Direccion_Pedido            Estado  Cantidad_Pedida  \\\n",
       "0        Proveedor 1      Direccion 1  Orden en Proceso              2.0   \n",
       "1        Proveedor 2      Direccion 1          Recibido              1.0   \n",
       "2        Proveedor 3      Direccion 2  Orden en Proceso             10.0   \n",
       "3        Proveedor 4      Direccion 3  Orden en Proceso             50.0   \n",
       "4        Proveedor 5      Direccion 4          Recibido              7.0   \n",
       "...              ...              ...               ...              ...   \n",
       "23078  Proveedor 229     Direccion 81          Recibido              8.0   \n",
       "23079  Proveedor 229     Direccion 81          Recibido              1.0   \n",
       "23080  Proveedor 229     Direccion 81          Recibido              3.0   \n",
       "23081  Proveedor 229     Direccion 81          Recibido              4.0   \n",
       "23082  Proveedor 229     Direccion 81          Recibido              5.0   \n",
       "\n",
       "       Precio_Unitario  Total_IVA Fecha_Ultimo_Movimiento  \\\n",
       "0                23364      55606              11/10/2021   \n",
       "1              1476972    1757597              11/10/2021   \n",
       "2                  155        155              11/10/2021   \n",
       "3                   22    1100000              11/10/2021   \n",
       "4                92084      76706              11/10/2021   \n",
       "...                ...        ...                     ...   \n",
       "23078            33613        320                5/1/2018   \n",
       "23079              588        700                5/1/2018   \n",
       "23080            29412        105                5/1/2018   \n",
       "23081            29412        140                5/1/2018   \n",
       "23082            33613        200                5/1/2018   \n",
       "\n",
       "       Dias_Trasncurridos_Entrega  \n",
       "0                             0.0  \n",
       "1                             1.0  \n",
       "2                             0.0  \n",
       "3                             2.0  \n",
       "4                            -1.0  \n",
       "...                           ...  \n",
       "23078                         NaN  \n",
       "23079                         NaN  \n",
       "23080                         NaN  \n",
       "23081                         NaN  \n",
       "23082                         NaN  \n",
       "\n",
       "[22731 rows x 12 columns]"
      ]
     },
     "execution_count": 836,
     "metadata": {},
     "output_type": "execute_result"
    }
   ],
   "source": [
    "df"
   ]
  },
  {
   "cell_type": "code",
   "execution_count": 837,
   "id": "fcb46b45",
   "metadata": {},
   "outputs": [],
   "source": [
    "## - Convertir estado: Rechazado a 1 y el resto a 0\n",
    "df['Estado_label'] = 0"
   ]
  },
  {
   "cell_type": "code",
   "execution_count": 838,
   "id": "d3c74999",
   "metadata": {},
   "outputs": [],
   "source": [
    "df.loc[df['Estado'] == 'Orden Rechazada', 'Estado_label'] = 1"
   ]
  },
  {
   "cell_type": "code",
   "execution_count": 839,
   "id": "e6e9cea1",
   "metadata": {},
   "outputs": [
    {
     "name": "stdout",
     "output_type": "stream",
     "text": [
      "<class 'pandas.core.frame.DataFrame'>\n",
      "Int64Index: 22731 entries, 0 to 23082\n",
      "Data columns (total 13 columns):\n",
      " #   Column                      Non-Null Count  Dtype         \n",
      "---  ------                      --------------  -----         \n",
      " 0   Fecha_Orden                 22731 non-null  datetime64[ns]\n",
      " 1   Fecha_Entrega               18557 non-null  datetime64[ns]\n",
      " 2   Fecha_Aprobacion            21609 non-null  datetime64[ns]\n",
      " 3   Categoria                   22731 non-null  object        \n",
      " 4   Proveedor                   22731 non-null  object        \n",
      " 5   Direccion_Pedido            22731 non-null  object        \n",
      " 6   Estado                      22731 non-null  object        \n",
      " 7   Cantidad_Pedida             22731 non-null  float64       \n",
      " 8   Precio_Unitario             22731 non-null  int64         \n",
      " 9   Total_IVA                   22731 non-null  int64         \n",
      " 10  Fecha_Ultimo_Movimiento     22731 non-null  object        \n",
      " 11  Dias_Trasncurridos_Entrega  18557 non-null  float64       \n",
      " 12  Estado_label                22731 non-null  int64         \n",
      "dtypes: datetime64[ns](3), float64(2), int64(3), object(5)\n",
      "memory usage: 2.4+ MB\n"
     ]
    }
   ],
   "source": [
    "df.info()"
   ]
  },
  {
   "cell_type": "code",
   "execution_count": 818,
   "id": "abccb29b",
   "metadata": {},
   "outputs": [
    {
     "data": {
      "text/plain": [
       "Recibido                 14722\n",
       "Orden en Proceso          4716\n",
       "Cancelado                 1129\n",
       "Orden Rechazada           1003\n",
       "Finalizado Incompleto      934\n",
       "Recibido Parcial           158\n",
       "Pendiente por Aprobar       49\n",
       "Enviado                     10\n",
       "Orden Confirmada            10\n",
       "Name: Estado, dtype: int64"
      ]
     },
     "execution_count": 818,
     "metadata": {},
     "output_type": "execute_result"
    }
   ],
   "source": [
    "df[\"Estado\"].value_counts()"
   ]
  },
  {
   "cell_type": "code",
   "execution_count": 819,
   "id": "f4361484",
   "metadata": {},
   "outputs": [
    {
     "data": {
      "text/plain": [
       "Alimentos y Bebidas                            0.300427\n",
       "Vigilancia y seguridad industrial              0.295324\n",
       "Aseo, Cafetería y Oficina                      0.167964\n",
       "Dotación y elementos de protección personal    0.052483\n",
       "Ferreteria                                     0.034622\n",
       "Almacenamiento y empaques                      0.019841\n",
       "Vehículos y repuestos                          0.015969\n",
       "Químicos y derivados                           0.015090\n",
       "Construcción y Mantenimiento                   0.011878\n",
       "Manufactura                                    0.008975\n",
       "Mercadeo y publicidad                          0.008799\n",
       "Logística y transporte                         0.007875\n",
       "Servicios Profesionales                        0.007655\n",
       "Eléctricos y Electrónicos                      0.007479\n",
       "Mobiliario y decoración                        0.007259\n",
       "Textiles                                       0.006643\n",
       "Moda y accesorios                              0.006423\n",
       "Tecnología e información                       0.006335\n",
       "Imprenta y litografía                          0.004223\n",
       "Ingeniería e Investigación                     0.003607\n",
       "Compras Sostenibles                            0.002112\n",
       "Salud y Medicina                               0.001892\n",
       "Gestión ambiental                              0.001848\n",
       "Hogar y electrodomésticos                      0.001496\n",
       "Vigilancia y seguridad                         0.001100\n",
       "Viajes, Eventos y Entretenimiento              0.000748\n",
       "Medicina y Salud                               0.000352\n",
       "Cuidado personal y Belleza                     0.000352\n",
       "Deporte y recreación                           0.000264\n",
       "Minería                                        0.000220\n",
       "Agroindustrial                                 0.000220\n",
       "Generación y distribución de Energía           0.000176\n",
       "Gestión inmobiliaria                           0.000132\n",
       "Servicios Públicos                             0.000132\n",
       "Educación y formación empresarial              0.000044\n",
       "Producción audiovisual                         0.000044\n",
       "Name: Categoria, dtype: float64"
      ]
     },
     "execution_count": 819,
     "metadata": {},
     "output_type": "execute_result"
    }
   ],
   "source": [
    "df[\"Categoria\"].value_counts(normalize=True)"
   ]
  },
  {
   "cell_type": "code",
   "execution_count": 840,
   "id": "372fd8bb",
   "metadata": {},
   "outputs": [],
   "source": [
    "## filtramos el dataset por las categorias mayores al 15%\n",
    "categorias_si = ['Alimentos y Bebidas','Vigilancia y seguridad industrial','Aseo, Cafetería y Oficina']\n",
    "\n",
    "df = df[df.Categoria.isin(categorias_si)]"
   ]
  },
  {
   "cell_type": "code",
   "execution_count": 841,
   "id": "051ef792",
   "metadata": {},
   "outputs": [
    {
     "name": "stdout",
     "output_type": "stream",
     "text": [
      "<class 'pandas.core.frame.DataFrame'>\n",
      "Int64Index: 17360 entries, 2 to 23082\n",
      "Data columns (total 13 columns):\n",
      " #   Column                      Non-Null Count  Dtype         \n",
      "---  ------                      --------------  -----         \n",
      " 0   Fecha_Orden                 17360 non-null  datetime64[ns]\n",
      " 1   Fecha_Entrega               13728 non-null  datetime64[ns]\n",
      " 2   Fecha_Aprobacion            16733 non-null  datetime64[ns]\n",
      " 3   Categoria                   17360 non-null  object        \n",
      " 4   Proveedor                   17360 non-null  object        \n",
      " 5   Direccion_Pedido            17360 non-null  object        \n",
      " 6   Estado                      17360 non-null  object        \n",
      " 7   Cantidad_Pedida             17360 non-null  float64       \n",
      " 8   Precio_Unitario             17360 non-null  int64         \n",
      " 9   Total_IVA                   17360 non-null  int64         \n",
      " 10  Fecha_Ultimo_Movimiento     17360 non-null  object        \n",
      " 11  Dias_Trasncurridos_Entrega  13728 non-null  float64       \n",
      " 12  Estado_label                17360 non-null  int64         \n",
      "dtypes: datetime64[ns](3), float64(2), int64(3), object(5)\n",
      "memory usage: 1.9+ MB\n"
     ]
    }
   ],
   "source": [
    "df.info()"
   ]
  },
  {
   "cell_type": "code",
   "execution_count": 822,
   "id": "cd7d6d03",
   "metadata": {},
   "outputs": [
    {
     "data": {
      "text/plain": [
       "Alimentos y Bebidas                  6829\n",
       "Vigilancia y seguridad industrial    6713\n",
       "Aseo, Cafetería y Oficina            3818\n",
       "Name: Categoria, dtype: int64"
      ]
     },
     "execution_count": 822,
     "metadata": {},
     "output_type": "execute_result"
    }
   ],
   "source": [
    "df[\"Categoria\"].value_counts()"
   ]
  },
  {
   "cell_type": "code",
   "execution_count": 842,
   "id": "2536b74b",
   "metadata": {},
   "outputs": [],
   "source": [
    "df_encoder = df.copy()"
   ]
  },
  {
   "cell_type": "code",
   "execution_count": 843,
   "id": "ee73dac5",
   "metadata": {},
   "outputs": [],
   "source": [
    "## cambio de variables categoricas con labelencoder\n",
    "lb_encoder = LabelEncoder()\n",
    "df_encoder[\"Categoria_label_encode\"] = lb_encoder.fit_transform(df_encoder[\"Categoria\"])\n",
    "df_encoder[\"Proveedor_label_encode\"] = lb_encoder.fit_transform(df_encoder[\"Proveedor\"])\n",
    "df_encoder[\"Direccion_Pedido_label_encode\"] = lb_encoder.fit_transform(df_encoder[\"Direccion_Pedido\"])"
   ]
  },
  {
   "cell_type": "code",
   "execution_count": 844,
   "id": "fee4dca6",
   "metadata": {},
   "outputs": [
    {
     "data": {
      "image/png": "[encoded data removed]",
      "text/plain": [
       "<Figure size 1440x720 with 2 Axes>"
      ]
     },
     "metadata": {
      "needs_background": "light"
     },
     "output_type": "display_data"
    }
   ],
   "source": [
    "plt.figure(figsize=(20,10))\n",
    "corr_matrix = df_encoder.corr()\n",
    "sns.heatmap(corr_matrix, annot=True)\n",
    "plt.show()\n",
    "#plt.savefig(\"matixdf_encode.png\")"
   ]
  },
  {
   "cell_type": "code",
   "execution_count": 903,
   "id": "c1a6efc4",
   "metadata": {},
   "outputs": [
    {
     "name": "stdout",
     "output_type": "stream",
     "text": [
      "<class 'pandas.core.frame.DataFrame'>\n",
      "Int64Index: 17360 entries, 2 to 23082\n",
      "Data columns (total 8 columns):\n",
      " #   Column                         Non-Null Count  Dtype  \n",
      "---  ------                         --------------  -----  \n",
      " 0   Cantidad_Pedida                17360 non-null  float64\n",
      " 1   Precio_Unitario                17360 non-null  int64  \n",
      " 2   Total_IVA                      17360 non-null  int64  \n",
      " 3   Dias_Trasncurridos_Entrega     13728 non-null  float64\n",
      " 4   Estado_label                   17360 non-null  int64  \n",
      " 5   Categoria_label_encode         17360 non-null  int32  \n",
      " 6   Proveedor_label_encode         17360 non-null  int32  \n",
      " 7   Direccion_Pedido_label_encode  17360 non-null  int32  \n",
      "dtypes: float64(2), int32(3), int64(3)\n",
      "memory usage: 1017.2 KB\n"
     ]
    }
   ],
   "source": [
    "df_encoder.info()"
   ]
  },
  {
   "cell_type": "code",
   "execution_count": 846,
   "id": "e6f1d491",
   "metadata": {},
   "outputs": [],
   "source": [
    "##borrado de variables del dataset IDs\n",
    "df_encoder = df_encoder.drop(['Fecha_Orden','Fecha_Entrega','Fecha_Aprobacion','Categoria','Proveedor','Direccion_Pedido','Estado','Fecha_Ultimo_Movimiento'], axis=1)"
   ]
  },
  {
   "cell_type": "code",
   "execution_count": 847,
   "id": "0e8f2087",
   "metadata": {
    "scrolled": true
   },
   "outputs": [
    {
     "data": {
      "text/html": [
       "<div>\n",
       "<style scoped>\n",
       "    .dataframe tbody tr th:only-of-type {\n",
       "        vertical-align: middle;\n",
       "    }\n",
       "\n",
       "    .dataframe tbody tr th {\n",
       "        vertical-align: top;\n",
       "    }\n",
       "\n",
       "    .dataframe thead th {\n",
       "        text-align: right;\n",
       "    }\n",
       "</style>\n",
       "<table border=\"1\" class=\"dataframe\">\n",
       "  <thead>\n",
       "    <tr style=\"text-align: right;\">\n",
       "      <th></th>\n",
       "      <th>count</th>\n",
       "      <th>mean</th>\n",
       "      <th>std</th>\n",
       "      <th>min</th>\n",
       "      <th>25%</th>\n",
       "      <th>50%</th>\n",
       "      <th>75%</th>\n",
       "      <th>max</th>\n",
       "    </tr>\n",
       "  </thead>\n",
       "  <tbody>\n",
       "    <tr>\n",
       "      <th>Cantidad_Pedida</th>\n",
       "      <td>17360.0</td>\n",
       "      <td>56.459489</td>\n",
       "      <td>221.661325</td>\n",
       "      <td>0.27</td>\n",
       "      <td>2.0</td>\n",
       "      <td>10.0</td>\n",
       "      <td>48.0</td>\n",
       "      <td>6000.0</td>\n",
       "    </tr>\n",
       "    <tr>\n",
       "      <th>Precio_Unitario</th>\n",
       "      <td>17360.0</td>\n",
       "      <td>19543.831970</td>\n",
       "      <td>48638.361122</td>\n",
       "      <td>0.00</td>\n",
       "      <td>448.5</td>\n",
       "      <td>4297.0</td>\n",
       "      <td>26666.0</td>\n",
       "      <td>1464000.0</td>\n",
       "    </tr>\n",
       "    <tr>\n",
       "      <th>Total_IVA</th>\n",
       "      <td>17360.0</td>\n",
       "      <td>336949.128168</td>\n",
       "      <td>986442.221109</td>\n",
       "      <td>0.00</td>\n",
       "      <td>515.0</td>\n",
       "      <td>9945.0</td>\n",
       "      <td>124998.0</td>\n",
       "      <td>10884472.0</td>\n",
       "    </tr>\n",
       "    <tr>\n",
       "      <th>Dias_Trasncurridos_Entrega</th>\n",
       "      <td>13728.0</td>\n",
       "      <td>1.008960</td>\n",
       "      <td>11.006769</td>\n",
       "      <td>-293.00</td>\n",
       "      <td>0.0</td>\n",
       "      <td>0.0</td>\n",
       "      <td>1.0</td>\n",
       "      <td>21.0</td>\n",
       "    </tr>\n",
       "    <tr>\n",
       "      <th>Estado_label</th>\n",
       "      <td>17360.0</td>\n",
       "      <td>0.031912</td>\n",
       "      <td>0.175772</td>\n",
       "      <td>0.00</td>\n",
       "      <td>0.0</td>\n",
       "      <td>0.0</td>\n",
       "      <td>0.0</td>\n",
       "      <td>1.0</td>\n",
       "    </tr>\n",
       "    <tr>\n",
       "      <th>Categoria_label_encode</th>\n",
       "      <td>17360.0</td>\n",
       "      <td>0.993318</td>\n",
       "      <td>0.883215</td>\n",
       "      <td>0.00</td>\n",
       "      <td>0.0</td>\n",
       "      <td>1.0</td>\n",
       "      <td>2.0</td>\n",
       "      <td>2.0</td>\n",
       "    </tr>\n",
       "    <tr>\n",
       "      <th>Proveedor_label_encode</th>\n",
       "      <td>17360.0</td>\n",
       "      <td>78.310945</td>\n",
       "      <td>30.992682</td>\n",
       "      <td>0.00</td>\n",
       "      <td>64.0</td>\n",
       "      <td>79.0</td>\n",
       "      <td>87.0</td>\n",
       "      <td>144.0</td>\n",
       "    </tr>\n",
       "    <tr>\n",
       "      <th>Direccion_Pedido_label_encode</th>\n",
       "      <td>17360.0</td>\n",
       "      <td>69.461866</td>\n",
       "      <td>39.009903</td>\n",
       "      <td>0.00</td>\n",
       "      <td>43.0</td>\n",
       "      <td>68.0</td>\n",
       "      <td>84.0</td>\n",
       "      <td>146.0</td>\n",
       "    </tr>\n",
       "  </tbody>\n",
       "</table>\n",
       "</div>"
      ],
      "text/plain": [
       "                                 count           mean            std     min  \\\n",
       "Cantidad_Pedida                17360.0      56.459489     221.661325    0.27   \n",
       "Precio_Unitario                17360.0   19543.831970   48638.361122    0.00   \n",
       "Total_IVA                      17360.0  336949.128168  986442.221109    0.00   \n",
       "Dias_Trasncurridos_Entrega     13728.0       1.008960      11.006769 -293.00   \n",
       "Estado_label                   17360.0       0.031912       0.175772    0.00   \n",
       "Categoria_label_encode         17360.0       0.993318       0.883215    0.00   \n",
       "Proveedor_label_encode         17360.0      78.310945      30.992682    0.00   \n",
       "Direccion_Pedido_label_encode  17360.0      69.461866      39.009903    0.00   \n",
       "\n",
       "                                 25%     50%       75%         max  \n",
       "Cantidad_Pedida                  2.0    10.0      48.0      6000.0  \n",
       "Precio_Unitario                448.5  4297.0   26666.0   1464000.0  \n",
       "Total_IVA                      515.0  9945.0  124998.0  10884472.0  \n",
       "Dias_Trasncurridos_Entrega       0.0     0.0       1.0        21.0  \n",
       "Estado_label                     0.0     0.0       0.0         1.0  \n",
       "Categoria_label_encode           0.0     1.0       2.0         2.0  \n",
       "Proveedor_label_encode          64.0    79.0      87.0       144.0  \n",
       "Direccion_Pedido_label_encode   43.0    68.0      84.0       146.0  "
      ]
     },
     "execution_count": 847,
     "metadata": {},
     "output_type": "execute_result"
    }
   ],
   "source": [
    "df_encoder.describe().T"
   ]
  },
  {
   "cell_type": "code",
   "execution_count": 848,
   "id": "5aa99638",
   "metadata": {
    "scrolled": true
   },
   "outputs": [
    {
     "data": {
      "text/html": [
       "<div>\n",
       "<style scoped>\n",
       "    .dataframe tbody tr th:only-of-type {\n",
       "        vertical-align: middle;\n",
       "    }\n",
       "\n",
       "    .dataframe tbody tr th {\n",
       "        vertical-align: top;\n",
       "    }\n",
       "\n",
       "    .dataframe thead th {\n",
       "        text-align: right;\n",
       "    }\n",
       "</style>\n",
       "<table border=\"1\" class=\"dataframe\">\n",
       "  <thead>\n",
       "    <tr style=\"text-align: right;\">\n",
       "      <th></th>\n",
       "      <th>Cantidad_Pedida</th>\n",
       "      <th>Precio_Unitario</th>\n",
       "      <th>Total_IVA</th>\n",
       "      <th>Dias_Trasncurridos_Entrega</th>\n",
       "      <th>Estado_label</th>\n",
       "      <th>Categoria_label_encode</th>\n",
       "      <th>Proveedor_label_encode</th>\n",
       "      <th>Direccion_Pedido_label_encode</th>\n",
       "    </tr>\n",
       "  </thead>\n",
       "  <tbody>\n",
       "    <tr>\n",
       "      <th>2</th>\n",
       "      <td>10.0</td>\n",
       "      <td>155</td>\n",
       "      <td>155</td>\n",
       "      <td>0.0</td>\n",
       "      <td>0</td>\n",
       "      <td>0</td>\n",
       "      <td>77</td>\n",
       "      <td>74</td>\n",
       "    </tr>\n",
       "    <tr>\n",
       "      <th>3</th>\n",
       "      <td>50.0</td>\n",
       "      <td>22</td>\n",
       "      <td>1100000</td>\n",
       "      <td>2.0</td>\n",
       "      <td>0</td>\n",
       "      <td>0</td>\n",
       "      <td>118</td>\n",
       "      <td>84</td>\n",
       "    </tr>\n",
       "    <tr>\n",
       "      <th>18</th>\n",
       "      <td>100.0</td>\n",
       "      <td>2498</td>\n",
       "      <td>2498000</td>\n",
       "      <td>1.0</td>\n",
       "      <td>0</td>\n",
       "      <td>0</td>\n",
       "      <td>4</td>\n",
       "      <td>84</td>\n",
       "    </tr>\n",
       "    <tr>\n",
       "      <th>22</th>\n",
       "      <td>50.0</td>\n",
       "      <td>205</td>\n",
       "      <td>1025000</td>\n",
       "      <td>1.0</td>\n",
       "      <td>0</td>\n",
       "      <td>0</td>\n",
       "      <td>118</td>\n",
       "      <td>84</td>\n",
       "    </tr>\n",
       "    <tr>\n",
       "      <th>23</th>\n",
       "      <td>6.0</td>\n",
       "      <td>27059</td>\n",
       "      <td>1932</td>\n",
       "      <td>1.0</td>\n",
       "      <td>0</td>\n",
       "      <td>0</td>\n",
       "      <td>18</td>\n",
       "      <td>84</td>\n",
       "    </tr>\n",
       "    <tr>\n",
       "      <th>...</th>\n",
       "      <td>...</td>\n",
       "      <td>...</td>\n",
       "      <td>...</td>\n",
       "      <td>...</td>\n",
       "      <td>...</td>\n",
       "      <td>...</td>\n",
       "      <td>...</td>\n",
       "      <td>...</td>\n",
       "    </tr>\n",
       "    <tr>\n",
       "      <th>23076</th>\n",
       "      <td>3.0</td>\n",
       "      <td>84</td>\n",
       "      <td>300</td>\n",
       "      <td>NaN</td>\n",
       "      <td>0</td>\n",
       "      <td>2</td>\n",
       "      <td>42</td>\n",
       "      <td>129</td>\n",
       "    </tr>\n",
       "    <tr>\n",
       "      <th>23077</th>\n",
       "      <td>1.0</td>\n",
       "      <td>84</td>\n",
       "      <td>100</td>\n",
       "      <td>NaN</td>\n",
       "      <td>0</td>\n",
       "      <td>2</td>\n",
       "      <td>42</td>\n",
       "      <td>129</td>\n",
       "    </tr>\n",
       "    <tr>\n",
       "      <th>23078</th>\n",
       "      <td>8.0</td>\n",
       "      <td>33613</td>\n",
       "      <td>320</td>\n",
       "      <td>NaN</td>\n",
       "      <td>0</td>\n",
       "      <td>1</td>\n",
       "      <td>42</td>\n",
       "      <td>129</td>\n",
       "    </tr>\n",
       "    <tr>\n",
       "      <th>23079</th>\n",
       "      <td>1.0</td>\n",
       "      <td>588</td>\n",
       "      <td>700</td>\n",
       "      <td>NaN</td>\n",
       "      <td>0</td>\n",
       "      <td>1</td>\n",
       "      <td>42</td>\n",
       "      <td>129</td>\n",
       "    </tr>\n",
       "    <tr>\n",
       "      <th>23082</th>\n",
       "      <td>5.0</td>\n",
       "      <td>33613</td>\n",
       "      <td>200</td>\n",
       "      <td>NaN</td>\n",
       "      <td>0</td>\n",
       "      <td>1</td>\n",
       "      <td>42</td>\n",
       "      <td>129</td>\n",
       "    </tr>\n",
       "  </tbody>\n",
       "</table>\n",
       "<p>17360 rows × 8 columns</p>\n",
       "</div>"
      ],
      "text/plain": [
       "       Cantidad_Pedida  Precio_Unitario  Total_IVA  \\\n",
       "2                 10.0              155        155   \n",
       "3                 50.0               22    1100000   \n",
       "18               100.0             2498    2498000   \n",
       "22                50.0              205    1025000   \n",
       "23                 6.0            27059       1932   \n",
       "...                ...              ...        ...   \n",
       "23076              3.0               84        300   \n",
       "23077              1.0               84        100   \n",
       "23078              8.0            33613        320   \n",
       "23079              1.0              588        700   \n",
       "23082              5.0            33613        200   \n",
       "\n",
       "       Dias_Trasncurridos_Entrega  Estado_label  Categoria_label_encode  \\\n",
       "2                             0.0             0                       0   \n",
       "3                             2.0             0                       0   \n",
       "18                            1.0             0                       0   \n",
       "22                            1.0             0                       0   \n",
       "23                            1.0             0                       0   \n",
       "...                           ...           ...                     ...   \n",
       "23076                         NaN             0                       2   \n",
       "23077                         NaN             0                       2   \n",
       "23078                         NaN             0                       1   \n",
       "23079                         NaN             0                       1   \n",
       "23082                         NaN             0                       1   \n",
       "\n",
       "       Proveedor_label_encode  Direccion_Pedido_label_encode  \n",
       "2                          77                             74  \n",
       "3                         118                             84  \n",
       "18                          4                             84  \n",
       "22                        118                             84  \n",
       "23                         18                             84  \n",
       "...                       ...                            ...  \n",
       "23076                      42                            129  \n",
       "23077                      42                            129  \n",
       "23078                      42                            129  \n",
       "23079                      42                            129  \n",
       "23082                      42                            129  \n",
       "\n",
       "[17360 rows x 8 columns]"
      ]
     },
     "execution_count": 848,
     "metadata": {},
     "output_type": "execute_result"
    }
   ],
   "source": [
    "df_encoder"
   ]
  },
  {
   "cell_type": "code",
   "execution_count": 849,
   "id": "77848ecd",
   "metadata": {},
   "outputs": [],
   "source": [
    "#features to X\n",
    "df_features = df_encoder.loc[:, df_encoder.columns != 'Estado_label']\n",
    "X = np.asarray(df_features)\n",
    "X = np.nan_to_num(X)"
   ]
  },
  {
   "cell_type": "code",
   "execution_count": null,
   "id": "cb7d7590",
   "metadata": {},
   "outputs": [],
   "source": [
    "# normalizar con min max scaler\n",
    "#scaler = MinMaxScaler()\n",
    "#X = scaler.fit_transform(X)"
   ]
  },
  {
   "cell_type": "code",
   "execution_count": 850,
   "id": "6c45c41e",
   "metadata": {},
   "outputs": [
    {
     "data": {
      "text/plain": [
       "(17360, 7)"
      ]
     },
     "execution_count": 850,
     "metadata": {},
     "output_type": "execute_result"
    }
   ],
   "source": [
    "X.shape"
   ]
  },
  {
   "cell_type": "code",
   "execution_count": 851,
   "id": "655378f5",
   "metadata": {},
   "outputs": [
    {
     "data": {
      "text/plain": [
       "array([0, 0, 0, 0, 0], dtype=int64)"
      ]
     },
     "execution_count": 851,
     "metadata": {},
     "output_type": "execute_result"
    }
   ],
   "source": [
    "#labels (target) to y\n",
    "y = np.asarray(df_encoder['Estado_label'])\n",
    "y [0:5]"
   ]
  },
  {
   "cell_type": "code",
   "execution_count": 852,
   "id": "e07efbb6",
   "metadata": {},
   "outputs": [
    {
     "name": "stdout",
     "output_type": "stream",
     "text": [
      "Counter({0: 16806, 1: 554})\n"
     ]
    }
   ],
   "source": [
    "# summarize class distribution\n",
    "counter = Counter(y)\n",
    "print(counter)"
   ]
  },
  {
   "cell_type": "code",
   "execution_count": 853,
   "id": "8583bf92",
   "metadata": {},
   "outputs": [
    {
     "name": "stdout",
     "output_type": "stream",
     "text": [
      "Train set: (12499, 7) (12499,)\n",
      "Test set: (3472, 7) (3472,)\n",
      "Valid set: (1389, 7) (1389,)\n"
     ]
    }
   ],
   "source": [
    "# separamo del 80% del train el 10% para validacion  quedando train 70%- test 20% - valid 10%\n",
    "X_train, X_test, y_train, y_test = train_test_split(X, y, test_size=0.2, random_state=2,stratify=df_encoder[\"Estado_label\"])\n",
    "X_train, X_val, y_train, y_val = train_test_split(X_train, y_train, test_size=0.1, random_state=2)\n",
    "print ('Train set:', X_train.shape,  y_train.shape)\n",
    "print ('Test set:', X_test.shape,  y_test.shape)\n",
    "print ('Valid set:', X_val.shape,  y_val.shape)"
   ]
  },
  {
   "cell_type": "code",
   "execution_count": 854,
   "id": "81787d70",
   "metadata": {},
   "outputs": [
    {
     "name": "stdout",
     "output_type": "stream",
     "text": [
      "12499 Counter({0: 12110, 1: 389})\n"
     ]
    }
   ],
   "source": [
    "print(len(X_train),Counter(y_train))"
   ]
  },
  {
   "cell_type": "code",
   "execution_count": 453,
   "id": "d6147af1",
   "metadata": {},
   "outputs": [
    {
     "name": "stdout",
     "output_type": "stream",
     "text": [
      "Counter({0: 3361, 1: 111})\n"
     ]
    }
   ],
   "source": [
    "print(Counter(y_test))"
   ]
  },
  {
   "cell_type": "code",
   "execution_count": 855,
   "id": "62d5af6e",
   "metadata": {},
   "outputs": [],
   "source": [
    "# transform the dataset  SMOTE\n",
    "oversample = SMOTE()\n",
    "X_train, y_train = oversample.fit_resample(X_train, y_train)"
   ]
  },
  {
   "cell_type": "code",
   "execution_count": 856,
   "id": "9f111aa2",
   "metadata": {},
   "outputs": [
    {
     "name": "stdout",
     "output_type": "stream",
     "text": [
      "Counter({0: 12110, 1: 12110})\n"
     ]
    }
   ],
   "source": [
    "counter = Counter(y_train)\n",
    "print(counter)"
   ]
  },
  {
   "cell_type": "code",
   "execution_count": 32,
   "id": "ecf3375e",
   "metadata": {},
   "outputs": [],
   "source": [
    "#develop matrix\n",
    "def plot_confusion_matrix(cm, classes,\n",
    "                          normalize=False,\n",
    "                          title='Confusion matrix',\n",
    "                          cmap=plt.cm.Blues):\n",
    "    \"\"\"\n",
    "    This function prints and plots the confusion matrix.\n",
    "    Normalization can be applied by setting `normalize=True`.\n",
    "    \"\"\"\n",
    "    if normalize:\n",
    "        cm = cm.astype('float') / cm.sum(axis=1)[:, np.newaxis]\n",
    "        print(\"Normalized confusion matrix\")\n",
    "    else:\n",
    "        print('Confusion matrix, without normalization')\n",
    "\n",
    "    print(cm)\n",
    "\n",
    "    plt.imshow(cm, interpolation='nearest', cmap=cmap)\n",
    "    plt.title(title)\n",
    "    plt.colorbar()\n",
    "    tick_marks = np.arange(len(classes))\n",
    "    plt.xticks(tick_marks, classes, rotation=45)\n",
    "    plt.yticks(tick_marks, classes)\n",
    "\n",
    "    fmt = '.2f' if normalize else 'd'\n",
    "    thresh = cm.max() / 2.\n",
    "    for i, j in itertools.product(range(cm.shape[0]), range(cm.shape[1])):\n",
    "        plt.text(j, i, format(cm[i, j], fmt),\n",
    "                 horizontalalignment=\"center\",\n",
    "                 color=\"white\" if cm[i, j] > thresh else \"black\")\n",
    "\n",
    "    plt.tight_layout()\n",
    "    plt.ylabel('True label')\n",
    "    plt.xlabel('Predicted label')"
   ]
  },
  {
   "cell_type": "markdown",
   "id": "815070f1",
   "metadata": {},
   "source": [
    "### DecisionTree"
   ]
  },
  {
   "cell_type": "code",
   "execution_count": 857,
   "id": "0e85df05",
   "metadata": {},
   "outputs": [
    {
     "data": {
      "text/plain": [
       "DecisionTreeClassifier(criterion='entropy', max_depth=4)"
      ]
     },
     "execution_count": 857,
     "metadata": {},
     "output_type": "execute_result"
    }
   ],
   "source": [
    "#drugTree = DecisionTreeClassifier(criterion=\"entropy\", max_depth = 4, class_weight=\"balanced\")\n",
    "drugTree = DecisionTreeClassifier(criterion=\"entropy\", max_depth = 4)\n",
    "drugTree.fit(X_train,y_train)"
   ]
  },
  {
   "cell_type": "code",
   "execution_count": 858,
   "id": "0ab367e5",
   "metadata": {},
   "outputs": [],
   "source": [
    "predTree = drugTree.predict(X_test)\n",
    "pscores_tree = drugTree.predict_proba(X_test)"
   ]
  },
  {
   "cell_type": "code",
   "execution_count": 872,
   "id": "d13f9601",
   "metadata": {},
   "outputs": [
    {
     "name": "stdout",
     "output_type": "stream",
     "text": [
      "              precision    recall  f1-score   support\n",
      "\n",
      "           0       0.99      0.88      0.93      3361\n",
      "           1       0.17      0.72      0.27       111\n",
      "\n",
      "    accuracy                           0.88      3472\n",
      "   macro avg       0.58      0.80      0.60      3472\n",
      "weighted avg       0.96      0.88      0.91      3472\n",
      "\n",
      "Confusion matrix, without normalization\n",
      "[[2962  399]\n",
      " [  31   80]]\n"
     ]
    },
    {
     "data": {
      "image/png": "[encoded data removed]",
      "text/plain": [
       "<Figure size 432x288 with 2 Axes>"
      ]
     },
     "metadata": {
      "needs_background": "light"
     },
     "output_type": "display_data"
    }
   ],
   "source": [
    "# Compute confusion matrix\n",
    "y_pred_DT = pscores_tree[:,1]>0.8\n",
    "cnf_matrix = confusion_matrix(y_test, y_pred_DT, labels = [0,1])\n",
    "np.set_printoptions(precision=2)\n",
    "\n",
    "print (classification_report(y_test, y_pred_DT))\n",
    "\n",
    "# Plot non-normalized confusion matrix\n",
    "plt.figure()\n",
    "plot_confusion_matrix(cnf_matrix, classes = [0,1], normalize= False,  title='Confusion matrix')\n",
    "plt.show()"
   ]
  },
  {
   "cell_type": "code",
   "execution_count": 873,
   "id": "4b447401",
   "metadata": {},
   "outputs": [
    {
     "data": {
      "image/png": "[encoded data removed]",
      "text/plain": [
       "<Figure size 396x396 with 1 Axes>"
      ]
     },
     "metadata": {
      "needs_background": "light"
     },
     "output_type": "display_data"
    }
   ],
   "source": [
    "# DT\n",
    "roc_RF = metrics.roc_curve(y_test, pscores_tree[:,1])\n",
    "auc_RF = metrics.auc( roc_RF[0], roc_RF[1] )\n",
    "\n",
    "\n",
    "plt.figure(figsize=(5.5,5.5))\n",
    "plt.plot(roc_RF[0], roc_RF[1], lw=1,label=f\"ROC Decision Tree (AUC = {auc_RF:0.2f})\")\n",
    "\n",
    "plt.plot([0, 1], [0, 1], color='navy', lw=1.4, linestyle='--', label='Random guess')\n",
    "plt.xlabel('False Positive Rate')\n",
    "plt.ylabel('True Positive Rate')\n",
    "plt.title('ROC curves')\n",
    "plt.legend(loc='lower right')\n",
    "plt.gca().set_aspect(1)\n",
    "plt.grid(ls='--', alpha=0.6, lw=0.4)\n",
    "plt.show()"
   ]
  },
  {
   "cell_type": "markdown",
   "id": "5367921a",
   "metadata": {},
   "source": [
    "### Random Forest"
   ]
  },
  {
   "cell_type": "code",
   "execution_count": 861,
   "id": "fe5150d6",
   "metadata": {},
   "outputs": [
    {
     "data": {
      "text/plain": [
       "RandomForestClassifier(max_depth=3, n_estimators=10, random_state=4)"
      ]
     },
     "execution_count": 861,
     "metadata": {},
     "output_type": "execute_result"
    }
   ],
   "source": [
    "#RF-\n",
    "forest_class = RandomForestClassifier(n_estimators=10, max_depth=3, random_state=4)\n",
    "forest_class.fit(X_train,y_train)"
   ]
  },
  {
   "cell_type": "code",
   "execution_count": 862,
   "id": "d66ddbeb",
   "metadata": {},
   "outputs": [],
   "source": [
    "predforest = forest_class.predict(X_test)\n",
    "pscores_forest = forest_class.predict_proba(X_test)"
   ]
  },
  {
   "cell_type": "code",
   "execution_count": 884,
   "id": "2b5d1c53",
   "metadata": {},
   "outputs": [
    {
     "name": "stdout",
     "output_type": "stream",
     "text": [
      "              precision    recall  f1-score   support\n",
      "\n",
      "           0       0.99      0.89      0.94      3361\n",
      "           1       0.16      0.64      0.26       111\n",
      "\n",
      "    accuracy                           0.88      3472\n",
      "   macro avg       0.57      0.76      0.60      3472\n",
      "weighted avg       0.96      0.88      0.91      3472\n",
      "\n",
      "Confusion matrix, without normalization\n",
      "[[2991  370]\n",
      " [  40   71]]\n"
     ]
    },
    {
     "data": {
      "image/png": "[encoded data removed]",
      "text/plain": [
       "<Figure size 432x288 with 2 Axes>"
      ]
     },
     "metadata": {
      "needs_background": "light"
     },
     "output_type": "display_data"
    }
   ],
   "source": [
    "# Compute confusion matrix\n",
    "y_pred_forest = pscores_forest[:,1]>0.65\n",
    "cnf_matrix = confusion_matrix(y_test, y_pred_forest, labels = [0,1])\n",
    "np.set_printoptions(precision=2)\n",
    "\n",
    "print (classification_report(y_test, y_pred_forest))\n",
    "\n",
    "# Plot non-normalized confusion matrix\n",
    "plt.figure()\n",
    "plot_confusion_matrix(cnf_matrix, classes = [0,1], normalize= False,  title='Confusion matrix')\n",
    "plt.show()"
   ]
  },
  {
   "cell_type": "code",
   "execution_count": 885,
   "id": "0db5244c",
   "metadata": {},
   "outputs": [
    {
     "name": "stdout",
     "output_type": "stream",
     "text": [
      "Metrica del modelo 0.8264244426094137\n",
      "Metricas cross_validation [0.85 0.84 0.86 0.83 0.83 0.85 0.84 0.83 0.83 0.82]\n",
      "Media de cross_validation 0.837530966143683\n",
      "Metrica en Test 0.8819124423963134\n"
     ]
    }
   ],
   "source": [
    "kf = StratifiedKFold(n_splits=10)\n",
    "forest_class = RandomForestClassifier(n_estimators=10, max_depth=3, random_state=4)\n",
    "forest_class.fit(X_train, y_train)\n",
    " \n",
    "score = forest_class.score(X_train,y_train)\n",
    "print(\"Metrica del modelo\", score)\n",
    "scores = cross_val_score(forest_class, X_train, y_train, cv=kf, scoring=\"accuracy\")\n",
    "print(\"Metricas cross_validation\", scores)\n",
    "print(\"Media de cross_validation\", scores.mean())\n",
    "\n",
    "pscores_forest = forest_class.predict_proba(X_test)\n",
    "predforest = pscores_forest[:,1]>0.65\n",
    "score_pred = metrics.accuracy_score(y_test, predforest)\n",
    "print(\"Metrica en Test\", score_pred)"
   ]
  },
  {
   "cell_type": "code",
   "execution_count": 886,
   "id": "bf1f3c18",
   "metadata": {},
   "outputs": [
    {
     "data": {
      "image/png": "[encoded data removed]",
      "text/plain": [
       "<Figure size 396x396 with 1 Axes>"
      ]
     },
     "metadata": {
      "needs_background": "light"
     },
     "output_type": "display_data"
    }
   ],
   "source": [
    "# DT\n",
    "roc_forest = metrics.roc_curve(y_test, pscores_forest[:,1])\n",
    "auc_forest = metrics.auc( roc_forest[0], roc_forest[1] )\n",
    "\n",
    "\n",
    "plt.figure(figsize=(5.5,5.5))\n",
    "plt.plot(roc_forest[0], roc_forest[1], lw=1,label=f\"ROC random forest (AUC = {auc_RF:0.2f})\")\n",
    "\n",
    "plt.plot([0, 1], [0, 1], color='navy', lw=1.4, linestyle='--', label='Random guess')\n",
    "plt.xlabel('False Positive Rate')\n",
    "plt.ylabel('True Positive Rate')\n",
    "plt.title('ROC curves')\n",
    "plt.legend(loc='lower right')\n",
    "plt.gca().set_aspect(1)\n",
    "plt.grid(ls='--', alpha=0.6, lw=0.4)\n",
    "plt.show()"
   ]
  },
  {
   "cell_type": "markdown",
   "id": "93b7b61f",
   "metadata": {},
   "source": [
    "### SVM"
   ]
  },
  {
   "cell_type": "code",
   "execution_count": 582,
   "id": "0fe3f1f6",
   "metadata": {},
   "outputs": [
    {
     "data": {
      "text/plain": [
       "SVC(C=3, probability=True)"
      ]
     },
     "execution_count": 582,
     "metadata": {},
     "output_type": "execute_result"
    }
   ],
   "source": [
    "#clf = svm.SVC(kernel='rbf', C=3, probability=True, class_weight=\"balanced\")\n",
    "clf = svm.SVC(kernel='rbf', C=3, probability=True)\n",
    "clf.fit(X_train, y_train)"
   ]
  },
  {
   "cell_type": "code",
   "execution_count": 501,
   "id": "2271f867",
   "metadata": {},
   "outputs": [],
   "source": [
    "yhat_SVM = clf.predict(X_test)\n",
    "pscores_svm = clf.predict_proba(X_test)"
   ]
  },
  {
   "cell_type": "code",
   "execution_count": 502,
   "id": "31c9f406",
   "metadata": {},
   "outputs": [
    {
     "name": "stdout",
     "output_type": "stream",
     "text": [
      "              precision    recall  f1-score   support\n",
      "\n",
      "           0       0.98      0.48      0.64      3361\n",
      "           1       0.04      0.72      0.08       111\n",
      "\n",
      "    accuracy                           0.48      3472\n",
      "   macro avg       0.51      0.60      0.36      3472\n",
      "weighted avg       0.95      0.48      0.62      3472\n",
      "\n",
      "Confusion matrix, without normalization\n",
      "[[1601 1760]\n",
      " [  31   80]]\n"
     ]
    },
    {
     "data": {
      "image/png": "[encoded data removed]",
      "text/plain": [
       "<Figure size 432x288 with 2 Axes>"
      ]
     },
     "metadata": {
      "needs_background": "light"
     },
     "output_type": "display_data"
    }
   ],
   "source": [
    "# Compute confusion matrix\n",
    "y_pred_SVM = pscores_svm[:,1]>0.55\n",
    "cnf_matrix = confusion_matrix(y_test, y_pred_SVM, labels = [0,1])\n",
    "np.set_printoptions(precision=2)\n",
    "\n",
    "print (classification_report(y_test, y_pred_SVM))\n",
    "\n",
    "# Plot non-normalized confusion matrix\n",
    "plt.figure()\n",
    "plot_confusion_matrix(cnf_matrix, classes = [0,1], normalize= False,  title='Confusion matrix')\n",
    "plt.show()"
   ]
  },
  {
   "cell_type": "code",
   "execution_count": 503,
   "id": "114ef4e3",
   "metadata": {},
   "outputs": [
    {
     "data": {
      "image/png": "[encoded data removed]",
      "text/plain": [
       "<Figure size 396x396 with 1 Axes>"
      ]
     },
     "metadata": {
      "needs_background": "light"
     },
     "output_type": "display_data"
    }
   ],
   "source": [
    "roc_RF = metrics.roc_curve(y_test, pscores_svm[:,1])\n",
    "auc_RF = metrics.auc( roc_RF[0], roc_RF[1] )\n",
    "\n",
    "\n",
    "plt.figure(figsize=(5.5,5.5))\n",
    "plt.plot(roc_RF[0], roc_RF[1], lw=1,label=f\"ROC random forest (AUC = {auc_RF:0.2f})\")\n",
    "\n",
    "plt.plot([0, 1], [0, 1], color='navy', lw=1.4, linestyle='--', label='Random guess')\n",
    "plt.xlabel('False Positive Rate')\n",
    "plt.ylabel('True Positive Rate')\n",
    "plt.title('ROC curves')\n",
    "plt.legend(loc='lower right')\n",
    "plt.gca().set_aspect(1)\n",
    "plt.grid(ls='--', alpha=0.6, lw=0.4)"
   ]
  },
  {
   "cell_type": "code",
   "execution_count": 618,
   "id": "2547bf81",
   "metadata": {},
   "outputs": [
    {
     "name": "stdout",
     "output_type": "stream",
     "text": [
      "Metrica del modelo 0.6039223781998349\n",
      "Metricas cross_validation [0.6  0.6  0.6  0.6  0.61]\n",
      "Media de cross_validation 0.602766308835673\n",
      "Metrica en Test 0.4375\n"
     ]
    }
   ],
   "source": [
    "kf = StratifiedKFold(n_splits=5)\n",
    "#clf = svm.SVC(kernel='rbf', C=3, probability=True, class_weight=\"balanced\")\n",
    "clf = svm.SVC(kernel='rbf', C=3, probability=True)\n",
    "clf.fit(X_train, y_train)\n",
    " \n",
    "score = clf.score(X_train,y_train)\n",
    "print(\"Metrica del modelo\", score)\n",
    "scores = cross_val_score(clf, X_train, y_train, cv=kf, scoring=\"accuracy\")\n",
    "print(\"Metricas cross_validation\", scores)\n",
    "print(\"Media de cross_validation\", scores.mean())\n",
    "\n",
    "preds = clf.predict_proba(X_test)\n",
    "y_pred_SVM = preds[:,1]>0.5\n",
    "score_pred = metrics.accuracy_score(y_test, y_pred_SVM)\n",
    "print(\"Metrica en Test\", score_pred)"
   ]
  },
  {
   "cell_type": "markdown",
   "id": "31f1499a",
   "metadata": {},
   "source": [
    "### Logistic Regresion"
   ]
  },
  {
   "cell_type": "code",
   "execution_count": 887,
   "id": "03f355b2",
   "metadata": {},
   "outputs": [],
   "source": [
    "LR = LogisticRegression(C=0.05, solver='liblinear').fit(X_train,y_train)"
   ]
  },
  {
   "cell_type": "code",
   "execution_count": 888,
   "id": "e921096d",
   "metadata": {},
   "outputs": [],
   "source": [
    "yhat_LR = LR.predict(X_test)\n",
    "pscores_LR = LR.predict_proba(X_test)"
   ]
  },
  {
   "cell_type": "code",
   "execution_count": 896,
   "id": "7896794d",
   "metadata": {},
   "outputs": [
    {
     "name": "stdout",
     "output_type": "stream",
     "text": [
      "              precision    recall  f1-score   support\n",
      "\n",
      "           0       0.98      0.75      0.85      3361\n",
      "           1       0.07      0.59      0.13       111\n",
      "\n",
      "    accuracy                           0.75      3472\n",
      "   macro avg       0.53      0.67      0.49      3472\n",
      "weighted avg       0.95      0.75      0.83      3472\n",
      "\n",
      "Confusion matrix, without normalization\n",
      "[[2527  834]\n",
      " [  46   65]]\n"
     ]
    },
    {
     "data": {
      "image/png": "[encoded data removed]",
      "text/plain": [
       "<Figure size 432x288 with 2 Axes>"
      ]
     },
     "metadata": {
      "needs_background": "light"
     },
     "output_type": "display_data"
    }
   ],
   "source": [
    "# Compute confusion matrix\n",
    "y_pred_LR = pscores_LR[:,1]>0.62\n",
    "cnf_matrix = confusion_matrix(y_test, y_pred_LR, labels = [0,1])\n",
    "np.set_printoptions(precision=2)\n",
    "\n",
    "print (classification_report(y_test, y_pred_LR))\n",
    "\n",
    "# Plot non-normalized confusion matrix\n",
    "plt.figure()\n",
    "plot_confusion_matrix(cnf_matrix, classes = [0,1], normalize= False,  title='Confusion matrix')\n",
    "plt.show()"
   ]
  },
  {
   "cell_type": "code",
   "execution_count": 897,
   "id": "60b2d0f3",
   "metadata": {},
   "outputs": [
    {
     "data": {
      "text/plain": [
       "0.749521020765976"
      ]
     },
     "execution_count": 897,
     "metadata": {},
     "output_type": "execute_result"
    }
   ],
   "source": [
    "from sklearn.metrics import f1_score\n",
    "f1_score(y_test, yhat_LR, average='weighted')"
   ]
  },
  {
   "cell_type": "code",
   "execution_count": 899,
   "id": "3d38214e",
   "metadata": {},
   "outputs": [
    {
     "data": {
      "image/png": "[encoded data removed]",
      "text/plain": [
       "<Figure size 396x396 with 1 Axes>"
      ]
     },
     "metadata": {
      "needs_background": "light"
     },
     "output_type": "display_data"
    }
   ],
   "source": [
    "roc_RF = metrics.roc_curve(y_test, pscores_LR[:,1])\n",
    "auc_RF = metrics.auc( roc_RF[0], roc_RF[1] )\n",
    "\n",
    "\n",
    "plt.figure(figsize=(5.5,5.5))\n",
    "plt.plot(roc_RF[0], roc_RF[1], lw=1,label=f\"ROC Logistic Regression (AUC = {auc_RF:0.2f})\")\n",
    "\n",
    "plt.plot([0, 1], [0, 1], color='navy', lw=1.4, linestyle='--', label='Random guess')\n",
    "plt.xlabel('False Positive Rate')\n",
    "plt.ylabel('True Positive Rate')\n",
    "plt.title('ROC curves')\n",
    "plt.legend(loc='lower right')\n",
    "plt.gca().set_aspect(1)\n",
    "plt.grid(ls='--', alpha=0.6, lw=0.4)"
   ]
  },
  {
   "cell_type": "code",
   "execution_count": 900,
   "id": "df763954",
   "metadata": {},
   "outputs": [
    {
     "data": {
      "image/png": "[encoded data removed]",
      "text/plain": [
       "<Figure size 720x720 with 1 Axes>"
      ]
     },
     "metadata": {
      "needs_background": "light"
     },
     "output_type": "display_data"
    }
   ],
   "source": [
    "# ROC CURVES\n",
    "roc_RF = metrics.roc_curve(y_test, pscores_forest[:, 1])\n",
    "auc_RF = metrics.auc( roc_RF[0], roc_RF[1] )\n",
    "roc_DT = metrics.roc_curve(y_test, pscores_tree[:, 1])\n",
    "auc_DT = metrics.auc( roc_DT[0], roc_DT[1] )\n",
    "roc_SVM = metrics.roc_curve(y_test, pscores_svm[:,1])\n",
    "auc_SVM = metrics.auc( roc_SVM[0], roc_SVM[1] )\n",
    "roc_LR = metrics.roc_curve(y_test, pscores_LR[:,1])\n",
    "auc_LR = metrics.auc( roc_LR[0], roc_LR[1] )\n",
    "roc_lgbm = metrics.roc_curve(y_val, y_predict)\n",
    "auc_lgbm = metrics.auc( roc_lgbm[0], roc_lgbm[1] )\n",
    "roc_lgbm_opt = metrics.roc_curve(y_val, ypred_opt_test)\n",
    "auc_lgbm_opt = metrics.auc( roc_lgbm_opt[0], roc_lgbm_opt[1] )\n",
    "\n",
    "\n",
    "\n",
    "\n",
    "\n",
    "plt.figure(figsize=(10,10))\n",
    "line_width = 2\n",
    "plt.plot(roc_LR[0], roc_LR[1], color='darkgreen', lw=line_width,\n",
    "         label=f\"ROC curve for Logistic Regression Classifier (AUC = {auc_LR:0.2f})\")\n",
    "plt.plot(roc_DT[0], roc_DT[1], color='darkred', lw=line_width,\n",
    "         label=f\"ROC curve for Desicion Tree Classifier (AUC = {auc_DT:0.2f})\")\n",
    "plt.plot(roc_SVM[0], roc_SVM[1], color='darkorange', lw=line_width,\n",
    "         label=f\"ROC curve for Support Vector Machine (AUC = {auc_SVM:0.2f})\")\n",
    "plt.plot(roc_RF[0], roc_RF[1], color='darkblue', lw=line_width,\n",
    "         label=f\"ROC curve for Random Forest (AUC = {auc_RF:0.2f})\")\n",
    "plt.plot(roc_lgbm[0], roc_lgbm[1], color='yellow', lw=line_width,\n",
    "         label=f\"ROC lightGBM (AUC = {auc_lgbm:0.2f})\")\n",
    "plt.plot(roc_lgbm_opt[0], roc_lgbm_opt[1], color='cyan', lw=line_width,\n",
    "         label=f\"ROC lightGBM Optuna (AUC = {auc_lgbm_opt:0.2f})\")\n",
    "\n",
    "plt.plot([0, 1], [0, 1], color='gray', lw=line_width, linestyle='--', label='Random guess')\n",
    "plt.xlim([0.0, 1.0])\n",
    "plt.ylim([0.0, 1.05])\n",
    "plt.xlabel('False Positive Rate')\n",
    "plt.ylabel('True Positive Rate')\n",
    "#plt.title('Classification for Enrollment in the Employment Program')\n",
    "plt.legend(loc='lower right')\n",
    "plt.show()"
   ]
  },
  {
   "cell_type": "markdown",
   "id": "0f8a6a21",
   "metadata": {},
   "source": [
    "### Arbol de decision "
   ]
  },
  {
   "cell_type": "code",
   "execution_count": 911,
   "id": "4087b04e",
   "metadata": {},
   "outputs": [
    {
     "data": {
      "text/plain": [
       "True"
      ]
     },
     "execution_count": 911,
     "metadata": {},
     "output_type": "execute_result"
    }
   ],
   "source": [
    "feature_names = ['Cantidad_Pedida','Precio_Unitario','Total_IVA','Dias_Transcurridos_Entrega','Categoria_label_encode','Proveedor_label_encode', 'Direccion_Pedido_label_encode']\n",
    "class_names = ['No Rechazado','Rechazado']\n",
    "dot_data = tree.export_graphviz(drugTree, out_file=None, filled=True, rounded = True, feature_names=feature_names, class_names=class_names)\n",
    "graph = graph_from_dot_data(dot_data)\n",
    "graph.write_png('tree.png')"
   ]
  },
  {
   "cell_type": "markdown",
   "id": "d0c6f627",
   "metadata": {},
   "source": [
    "### lightgbm"
   ]
  },
  {
   "cell_type": "code",
   "execution_count": 912,
   "id": "95f1be37",
   "metadata": {},
   "outputs": [
    {
     "name": "stdout",
     "output_type": "stream",
     "text": [
      "Train set: (12499, 7) (12499,)\n",
      "Test set: (3472, 7) (3472,)\n",
      "Valid set: (1389, 7) (1389,)\n"
     ]
    }
   ],
   "source": [
    "# separamo del 80% del train el 10% para validacion  quedando train 72%- test 20% - valid 8%\n",
    "X_train, X_test, y_train, y_test = train_test_split(X, y, test_size=0.2, random_state=2,stratify=df_encoder[\"Estado_label\"])\n",
    "X_train, X_val, y_train, y_val = train_test_split(X_train, y_train, test_size=0.1, random_state=2)\n",
    "print ('Train set:', X_train.shape,  y_train.shape)\n",
    "print ('Test set:', X_test.shape,  y_test.shape)\n",
    "print ('Valid set:', X_val.shape,  y_val.shape)"
   ]
  },
  {
   "cell_type": "code",
   "execution_count": 913,
   "id": "4b6e91b4",
   "metadata": {},
   "outputs": [],
   "source": [
    "# transform the dataset  SMOTE\n",
    "oversample = SMOTE()\n",
    "X_train, y_train = oversample.fit_resample(X_train, y_train)"
   ]
  },
  {
   "cell_type": "code",
   "execution_count": 914,
   "id": "e8f48c3b",
   "metadata": {},
   "outputs": [
    {
     "name": "stdout",
     "output_type": "stream",
     "text": [
      "Train set: (24220, 7) (24220,)\n",
      "Test set: (3472, 7) (3472,)\n",
      "Valid set: (1389, 7) (1389,)\n"
     ]
    }
   ],
   "source": [
    "print ('Train set:', X_train.shape,  y_train.shape)\n",
    "print ('Test set:', X_test.shape,  y_test.shape)\n",
    "print ('Valid set:', X_val.shape,  y_val.shape)"
   ]
  },
  {
   "cell_type": "code",
   "execution_count": 915,
   "id": "97f63041",
   "metadata": {},
   "outputs": [],
   "source": [
    "train_data = lgb.Dataset(X_train, label=y_train)\n",
    "valid_data = lgb.Dataset(X_test, label=y_test, reference=train_data)"
   ]
  },
  {
   "cell_type": "code",
   "execution_count": null,
   "id": "d9f09a55",
   "metadata": {},
   "outputs": [],
   "source": [
    "#ligth gb \n",
    "#X_train, X_test, y_train, y_test\n",
    "    \n",
    "# Split training data in to training and validation sets.\n",
    "# Validation set is used for early stopping.\n",
    "    \n",
    "#X = df.drop(['Categoria_label_encode','Fecha_Orden','Fecha_Entrega','Fecha_Aprobacion','Categoria','Subcategoria','Proveedor','Usuario','Usuario_Aprobador','Direccion_Pedido','Presupuesto','Portal','Estado','Producto_Servicio','Fecha_Ultimo_Movimiento','Estado_label','Usuario_Aprobador_label_encode'], axis=1)\n",
    "#X = df.drop(['Fecha_Orden','Fecha_Entrega','Fecha_Aprobacion','Fecha_Ultimo_Movimiento','Estado_label'], axis=1)\n",
    "#y = df['Estado_label']\n",
    "#X_train, X_valid, y_train, y_valid = train_test_split(X, y, test_size=0.4, random_state=1234)\n",
    "#train_data = lgb.Dataset(X_train, label=y_train)\n",
    "#valid_data = lgb.Dataset(X_valid, label=y_valid, reference=train_data)"
   ]
  },
  {
   "cell_type": "code",
   "execution_count": 916,
   "id": "4f404621",
   "metadata": {},
   "outputs": [
    {
     "name": "stdout",
     "output_type": "stream",
     "text": [
      "Counter({0: 3361, 1: 111})\n"
     ]
    }
   ],
   "source": [
    "print(Counter(y_test))"
   ]
  },
  {
   "cell_type": "code",
   "execution_count": 477,
   "id": "74aaec2c",
   "metadata": {},
   "outputs": [
    {
     "data": {
      "text/plain": [
       "26890"
      ]
     },
     "execution_count": 477,
     "metadata": {},
     "output_type": "execute_result"
    }
   ],
   "source": [
    "len(X_train)"
   ]
  },
  {
   "cell_type": "code",
   "execution_count": 917,
   "id": "96f91119",
   "metadata": {},
   "outputs": [
    {
     "name": "stdout",
     "output_type": "stream",
     "text": [
      "Counter({0: 12110, 1: 12110})\n"
     ]
    }
   ],
   "source": [
    "print(Counter(y_train))"
   ]
  },
  {
   "cell_type": "code",
   "execution_count": 918,
   "id": "b85f43e8",
   "metadata": {},
   "outputs": [],
   "source": [
    "## parametros para el modelo lightGBM search \n",
    "SEARCH_PARAMS = {'learning_rate': 0.4,\n",
    "                'max_depth': 15,\n",
    "                'num_leaves': 32,\n",
    "                'feature_fraction': 0.8,\n",
    "                'subsample': 0.2}\n",
    "\n",
    "FIXED_PARAMS={'objective': 'binary',\n",
    "             'metric': 'auc',\n",
    "             'is_unbalance':False,\n",
    "             'bagging_freq':5,\n",
    "             'boosting':'dart',\n",
    "             'num_boost_round':300,\n",
    "             'early_stopping_rounds':30}\n",
    "\n"
   ]
  },
  {
   "cell_type": "code",
   "execution_count": 919,
   "id": "1e2fc02a",
   "metadata": {},
   "outputs": [],
   "source": [
    "params = {'metric':FIXED_PARAMS['metric'],\n",
    "             'objective':FIXED_PARAMS['objective'],**SEARCH_PARAMS}"
   ]
  },
  {
   "cell_type": "code",
   "execution_count": 920,
   "id": "43b5d539",
   "metadata": {},
   "outputs": [
    {
     "name": "stderr",
     "output_type": "stream",
     "text": [
      "C:\\Users\\d84088661\\Anaconda3\\lib\\site-packages\\lightgbm\\engine.py:181: UserWarning: 'early_stopping_rounds' argument is deprecated and will be removed in a future release of LightGBM. Pass 'early_stopping()' callback via 'callbacks' argument instead.\n",
      "  _log_warning(\"'early_stopping_rounds' argument is deprecated and will be removed in a future release of LightGBM. \"\n"
     ]
    },
    {
     "name": "stdout",
     "output_type": "stream",
     "text": [
      "[LightGBM] [Info] Number of positive: 12110, number of negative: 12110\n",
      "[LightGBM] [Warning] Auto-choosing col-wise multi-threading, the overhead of testing was 0.001551 seconds.\n",
      "You can set `force_col_wise=true` to remove the overhead.\n",
      "[LightGBM] [Info] Total Bins 1780\n",
      "[LightGBM] [Info] Number of data points in the train set: 24220, number of used features: 7\n",
      "[LightGBM] [Info] [binary:BoostFromScore]: pavg=0.500000 -> initscore=0.000000\n",
      "[1]\tvalid's auc: 0.914984\n",
      "Training until validation scores don't improve for 30 rounds\n",
      "[2]\tvalid's auc: 0.92896\n",
      "[3]\tvalid's auc: 0.931161\n",
      "[4]\tvalid's auc: 0.927653\n",
      "[5]\tvalid's auc: 0.935503\n",
      "[6]\tvalid's auc: 0.939475\n",
      "[7]\tvalid's auc: 0.943158\n",
      "[8]\tvalid's auc: 0.944379\n",
      "[9]\tvalid's auc: 0.943689\n",
      "[10]\tvalid's auc: 0.946134\n",
      "[11]\tvalid's auc: 0.947493\n",
      "[12]\tvalid's auc: 0.94827\n",
      "[13]\tvalid's auc: 0.948746\n",
      "[14]\tvalid's auc: 0.949444\n",
      "[15]\tvalid's auc: 0.951346\n",
      "[16]\tvalid's auc: 0.949754\n",
      "[17]\tvalid's auc: 0.953802\n",
      "[18]\tvalid's auc: 0.953336\n",
      "[19]\tvalid's auc: 0.954424\n",
      "[20]\tvalid's auc: 0.955541\n",
      "[21]\tvalid's auc: 0.955754\n",
      "[22]\tvalid's auc: 0.956721\n",
      "[23]\tvalid's auc: 0.956239\n",
      "[24]\tvalid's auc: 0.955109\n",
      "[25]\tvalid's auc: 0.956295\n",
      "[26]\tvalid's auc: 0.954951\n",
      "[27]\tvalid's auc: 0.954594\n",
      "[28]\tvalid's auc: 0.954866\n",
      "[29]\tvalid's auc: 0.954168\n",
      "[30]\tvalid's auc: 0.950705\n",
      "[31]\tvalid's auc: 0.951863\n",
      "[32]\tvalid's auc: 0.950874\n",
      "[33]\tvalid's auc: 0.950225\n",
      "[34]\tvalid's auc: 0.949938\n",
      "[35]\tvalid's auc: 0.949043\n",
      "[36]\tvalid's auc: 0.949885\n",
      "[37]\tvalid's auc: 0.949094\n",
      "[38]\tvalid's auc: 0.950282\n",
      "[39]\tvalid's auc: 0.951134\n",
      "[40]\tvalid's auc: 0.951209\n",
      "[41]\tvalid's auc: 0.950499\n",
      "[42]\tvalid's auc: 0.950933\n",
      "[43]\tvalid's auc: 0.95133\n",
      "[44]\tvalid's auc: 0.950815\n",
      "[45]\tvalid's auc: 0.950949\n",
      "[46]\tvalid's auc: 0.95122\n",
      "[47]\tvalid's auc: 0.951249\n",
      "[48]\tvalid's auc: 0.951257\n",
      "[49]\tvalid's auc: 0.951359\n",
      "[50]\tvalid's auc: 0.951239\n",
      "[51]\tvalid's auc: 0.952053\n",
      "[52]\tvalid's auc: 0.952606\n",
      "Early stopping, best iteration is:\n",
      "[22]\tvalid's auc: 0.956721\n"
     ]
    }
   ],
   "source": [
    "model = lgb.train(params, train_data,                     \n",
    "                     valid_sets=[valid_data],\n",
    "                     num_boost_round=FIXED_PARAMS['num_boost_round'],\n",
    "                     early_stopping_rounds=FIXED_PARAMS['early_stopping_rounds'],\n",
    "                     valid_names=['valid'])"
   ]
  },
  {
   "cell_type": "code",
   "execution_count": 519,
   "id": "2eabc14f",
   "metadata": {},
   "outputs": [],
   "source": [
    "score = model.best_score['valid']['auc']"
   ]
  },
  {
   "cell_type": "code",
   "execution_count": 520,
   "id": "baf7b6ad",
   "metadata": {},
   "outputs": [
    {
     "data": {
      "text/plain": [
       "0.9598762702005784"
      ]
     },
     "execution_count": 520,
     "metadata": {},
     "output_type": "execute_result"
    }
   ],
   "source": [
    "score"
   ]
  },
  {
   "cell_type": "code",
   "execution_count": 921,
   "id": "7b28979b",
   "metadata": {},
   "outputs": [],
   "source": [
    "## score de test\n",
    "y_predict = model.predict(X_val,num_iteration=model.best_iteration)"
   ]
  },
  {
   "cell_type": "code",
   "execution_count": 922,
   "id": "a92258ed",
   "metadata": {},
   "outputs": [
    {
     "data": {
      "text/plain": [
       "22"
      ]
     },
     "execution_count": 922,
     "metadata": {},
     "output_type": "execute_result"
    }
   ],
   "source": [
    "# conocer el numero de iteraciones realizadas por el modelo\n",
    "num_iteration =model.best_iteration\n",
    "num_iteration"
   ]
  },
  {
   "cell_type": "code",
   "execution_count": 923,
   "id": "d52c1b10",
   "metadata": {},
   "outputs": [],
   "source": [
    "#convert into binary values\t\n",
    "for i in range(0,len(X_val)):\t\n",
    "    if y_predict[i]>=.5:       # setting threshold to .5\t\n",
    "            y_predict[i]=1\n",
    "    else:\n",
    "        y_predict[i]=0"
   ]
  },
  {
   "cell_type": "code",
   "execution_count": 924,
   "id": "d357bcc1",
   "metadata": {},
   "outputs": [],
   "source": [
    "accuracy=accuracy_score(y_val,y_predict)"
   ]
  },
  {
   "cell_type": "code",
   "execution_count": 925,
   "id": "381c2c90",
   "metadata": {},
   "outputs": [
    {
     "data": {
      "text/plain": [
       "0.9719222462203023"
      ]
     },
     "execution_count": 925,
     "metadata": {},
     "output_type": "execute_result"
    }
   ],
   "source": [
    "accuracy"
   ]
  },
  {
   "cell_type": "code",
   "execution_count": 926,
   "id": "51c2bc37",
   "metadata": {},
   "outputs": [
    {
     "name": "stdout",
     "output_type": "stream",
     "text": [
      "              precision    recall  f1-score   support\n",
      "\n",
      "           0       0.99      0.98      0.99      1335\n",
      "           1       0.63      0.67      0.65        54\n",
      "\n",
      "    accuracy                           0.97      1389\n",
      "   macro avg       0.81      0.83      0.82      1389\n",
      "weighted avg       0.97      0.97      0.97      1389\n",
      "\n"
     ]
    }
   ],
   "source": [
    "print(classification_report(y_val, y_predict))"
   ]
  },
  {
   "cell_type": "code",
   "execution_count": 927,
   "id": "640a875b",
   "metadata": {},
   "outputs": [
    {
     "name": "stdout",
     "output_type": "stream",
     "text": [
      "Confusion matrix, without normalization\n",
      "[[1314   21]\n",
      " [  18   36]]\n"
     ]
    },
    {
     "data": {
      "image/png": "[encoded data removed]",
      "text/plain": [
       "<Figure size 432x288 with 2 Axes>"
      ]
     },
     "metadata": {
      "needs_background": "light"
     },
     "output_type": "display_data"
    }
   ],
   "source": [
    "#confusion Matrix\n",
    "plt.figure()\n",
    "cf_matrix =confusion_matrix(y_val, y_predict,labels = [0,1])\n",
    "np.set_printoptions(precision=2)\n",
    "plot_confusion_matrix(cf_matrix, classes = [0,1], normalize= False,  title='Confusion matrix')\n",
    "plt.show()\n"
   ]
  },
  {
   "cell_type": "code",
   "execution_count": 928,
   "id": "87d41ce4",
   "metadata": {},
   "outputs": [
    {
     "data": {
      "image/png": "[encoded data removed]",
      "text/plain": [
       "<Figure size 396x396 with 1 Axes>"
      ]
     },
     "metadata": {
      "needs_background": "light"
     },
     "output_type": "display_data"
    }
   ],
   "source": [
    "### curva roc\n",
    "roc_lgbm = metrics.roc_curve(y_val, y_predict)\n",
    "auc_lgbm = metrics.auc( roc_lgbm[0], roc_lgbm[1] )\n",
    "\n",
    "\n",
    "plt.figure(figsize=(5.5,5.5))\n",
    "plt.plot(roc_lgbm[0], roc_lgbm[1], lw=1,label=f\"ROC lightGBM (AUC = {auc_lgbm:0.2f})\")\n",
    "\n",
    "plt.plot([0, 1], [0, 1], color='navy', lw=1.4, linestyle='--', label='Random guess')\n",
    "plt.xlabel('False Positive Rate')\n",
    "plt.ylabel('True Positive Rate')\n",
    "plt.title('ROC curves')\n",
    "plt.legend(loc='lower right')\n",
    "plt.gca().set_aspect(1)\n",
    "plt.grid(ls='--', alpha=0.6, lw=0.4)"
   ]
  },
  {
   "cell_type": "markdown",
   "id": "7adf6c47",
   "metadata": {},
   "source": [
    "### Evaluacion "
   ]
  },
  {
   "cell_type": "code",
   "execution_count": 929,
   "id": "aff74cc7",
   "metadata": {},
   "outputs": [
    {
     "data": {
      "text/html": [
       "<div>\n",
       "<style scoped>\n",
       "    .dataframe tbody tr th:only-of-type {\n",
       "        vertical-align: middle;\n",
       "    }\n",
       "\n",
       "    .dataframe tbody tr th {\n",
       "        vertical-align: top;\n",
       "    }\n",
       "\n",
       "    .dataframe thead th {\n",
       "        text-align: right;\n",
       "    }\n",
       "</style>\n",
       "<table border=\"1\" class=\"dataframe\">\n",
       "  <thead>\n",
       "    <tr style=\"text-align: right;\">\n",
       "      <th></th>\n",
       "      <th>Jaccard</th>\n",
       "      <th>F1-score</th>\n",
       "      <th>LogLoss</th>\n",
       "      <th>Accuracy</th>\n",
       "      <th>Recall</th>\n",
       "      <th>Precision</th>\n",
       "    </tr>\n",
       "    <tr>\n",
       "      <th>Algorithm</th>\n",
       "      <th></th>\n",
       "      <th></th>\n",
       "      <th></th>\n",
       "      <th></th>\n",
       "      <th></th>\n",
       "      <th></th>\n",
       "    </tr>\n",
       "  </thead>\n",
       "  <tbody>\n",
       "    <tr>\n",
       "      <th>Random Forest</th>\n",
       "      <td>0</td>\n",
       "      <td>0</td>\n",
       "      <td>NA</td>\n",
       "      <td>0</td>\n",
       "      <td>0</td>\n",
       "      <td>0</td>\n",
       "    </tr>\n",
       "    <tr>\n",
       "      <th>Decision Tree</th>\n",
       "      <td>0</td>\n",
       "      <td>0</td>\n",
       "      <td>NA</td>\n",
       "      <td>0</td>\n",
       "      <td>0</td>\n",
       "      <td>0</td>\n",
       "    </tr>\n",
       "    <tr>\n",
       "      <th>SVM</th>\n",
       "      <td>0</td>\n",
       "      <td>0</td>\n",
       "      <td>NA</td>\n",
       "      <td>0</td>\n",
       "      <td>0</td>\n",
       "      <td>0</td>\n",
       "    </tr>\n",
       "    <tr>\n",
       "      <th>Logistic Regression</th>\n",
       "      <td>0</td>\n",
       "      <td>0</td>\n",
       "      <td>NA</td>\n",
       "      <td>0</td>\n",
       "      <td>0</td>\n",
       "      <td>0</td>\n",
       "    </tr>\n",
       "    <tr>\n",
       "      <th>LightGBM</th>\n",
       "      <td>0</td>\n",
       "      <td>0</td>\n",
       "      <td>NA</td>\n",
       "      <td>0</td>\n",
       "      <td>0</td>\n",
       "      <td>0</td>\n",
       "    </tr>\n",
       "    <tr>\n",
       "      <th>LightGBM_OPT</th>\n",
       "      <td>0</td>\n",
       "      <td>0</td>\n",
       "      <td>NA</td>\n",
       "      <td>0</td>\n",
       "      <td>0</td>\n",
       "      <td>0</td>\n",
       "    </tr>\n",
       "  </tbody>\n",
       "</table>\n",
       "</div>"
      ],
      "text/plain": [
       "                     Jaccard  F1-score LogLoss  Accuracy  Recall  Precision\n",
       "Algorithm                                                                  \n",
       "Random Forest              0         0      NA         0       0          0\n",
       "Decision Tree              0         0      NA         0       0          0\n",
       "SVM                        0         0      NA         0       0          0\n",
       "Logistic Regression        0         0      NA         0       0          0\n",
       "LightGBM                   0         0      NA         0       0          0\n",
       "LightGBM_OPT               0         0      NA         0       0          0"
      ]
     },
     "execution_count": 929,
     "metadata": {},
     "output_type": "execute_result"
    }
   ],
   "source": [
    "columns=['Algorithm','Jaccard','F1-score','LogLoss','Accuracy','Recall','Precision']\n",
    "matrix=pd.DataFrame([['Random Forest',0,0,'NA',0,0,0],\n",
    "                     ['Decision Tree',0,0,'NA',0,0,0],\n",
    "                     ['SVM',0,0,'NA',0,0,0],\n",
    "                     ['Logistic Regression',0,0,'NA',0,0,0],\n",
    "                     ['LightGBM',0,0,'NA',0,0,0],\n",
    "                     ['LightGBM_OPT',0,0,'NA',0,0,0]],columns=columns)\n",
    "matrix=matrix.set_index('Algorithm')\n",
    "matrix"
   ]
  },
  {
   "cell_type": "markdown",
   "id": "6208b675",
   "metadata": {},
   "source": [
    "### Evaluacion Decision Tree"
   ]
  },
  {
   "cell_type": "code",
   "execution_count": 930,
   "id": "41ea90d4",
   "metadata": {},
   "outputs": [],
   "source": [
    "#loanTree = DecisionTreeClassifier(criterion=\"entropy\", max_depth = 4).fit(X_val,y_val)\n",
    "yhat_DT_val=drugTree.predict(X_val)\n",
    "pscores_tree_val = drugTree.predict_proba(X_val)\n",
    "y_pred_DT_val = pscores_tree_val[:,1]>0.8\n",
    "#Jaccard\n",
    "jaccard_DT=jaccard_score(y_val, y_pred_DT_val)\n",
    "#F1-score\n",
    "f1_DT=f1_score(y_val, y_pred_DT_val, average='weighted')\n",
    "#LogLoss\n",
    "logLoss_DT=log_loss(y_val, y_pred_DT_val)\n",
    "#accuracy\n",
    "accuracy_DT=accuracy_score(y_val, y_pred_DT_val)\n",
    "#recall\n",
    "recall_DT=recall_score(y_val, y_pred_DT_val, average='weighted')\n",
    "#Precision\n",
    "precision_DT= precision_score(y_val, y_pred_DT_val, average='weighted')"
   ]
  },
  {
   "cell_type": "markdown",
   "id": "6aa3ade5",
   "metadata": {},
   "source": [
    "### Evaluacion SVM"
   ]
  },
  {
   "cell_type": "code",
   "execution_count": 614,
   "id": "01c2ac67",
   "metadata": {},
   "outputs": [],
   "source": [
    "#loanSVM = svm.SVC(kernel='rbf').fit(X_val,y_val)\n",
    "yhat_SVM_val = clf.predict(X_val)\n",
    "pscores_svm_val = clf.predict_proba(X_val)\n",
    "y_pred_SVM_val = pscores_svm_val[:,1]>0.5\n",
    "#Jaccard\n",
    "jaccard_SVM=jaccard_score(y_val, y_pred_SVM_val)\n",
    "#F1-score\n",
    "f1_SVM=f1_score(y_val, y_pred_SVM_val, average='weighted')\n",
    "#LogLoss\n",
    "logLoss_SVM=log_loss(y_val, y_pred_SVM_val)\n",
    "#accuracy\n",
    "accuracy_SVM=accuracy_score(y_val, y_pred_SVM_val)\n",
    "#recall\n",
    "recall_SVM=recall_score(y_val, y_pred_SVM_val, average='weighted')\n",
    "#Precision\n",
    "precision_SVM= precision_score(y_val, y_pred_SVM_val, average='weighted')"
   ]
  },
  {
   "cell_type": "markdown",
   "id": "73316bd5",
   "metadata": {},
   "source": [
    "### Evaluacion de logistic regression "
   ]
  },
  {
   "cell_type": "code",
   "execution_count": 931,
   "id": "50a8698d",
   "metadata": {},
   "outputs": [],
   "source": [
    "#loanLR = LogisticRegression(C=0.05, solver='liblinear').fit(X_val,y_val)\n",
    "yhat_LR_val = LR.predict(X_val)\n",
    "pscores_LR_val = LR.predict_proba(X_val)\n",
    "y_pred_LR_val = pscores_LR_val[:,1]>0.62\n",
    "#Jaccard\n",
    "jaccard_LR=jaccard_score(y_val, y_pred_LR_val)\n",
    "#F1-score\n",
    "f1_LR=f1_score(y_val, y_pred_LR_val, average='weighted')\n",
    "#LogLoss\n",
    "logLoss_LR=log_loss(y_val, y_pred_LR_val)\n",
    "#accuracy\n",
    "accuracy_LR=accuracy_score(y_val, y_pred_LR_val)\n",
    "#recall\n",
    "recall_LR=recall_score(y_val, y_pred_LR_val, average='weighted')\n",
    "#Precision\n",
    "precision_LR= precision_score(y_val, y_pred_LR_val, average='weighted')"
   ]
  },
  {
   "cell_type": "markdown",
   "id": "0dc1d8b0",
   "metadata": {},
   "source": [
    "### Evaluacion Random Forest"
   ]
  },
  {
   "cell_type": "code",
   "execution_count": 932,
   "id": "87806bb4",
   "metadata": {},
   "outputs": [],
   "source": [
    "#loanRF = RandomForestClassifier(n_estimators=10, max_depth=3, random_state=4).fit(X_val,y_val)\n",
    "yhat_RF_val = forest_class.predict(X_val)\n",
    "pscores_forest_val = forest_class.predict_proba(X_val)\n",
    "y_pred_forest_val = pscores_forest_val[:,1]>0.65\n",
    "#Jaccard\n",
    "jaccard_RF=jaccard_score(y_val, y_pred_forest_val)\n",
    "#F1-score\n",
    "f1_RF=f1_score(y_val, y_pred_forest_val, average='weighted')\n",
    "#LogLoss\n",
    "log_RF=log_loss(y_val, y_pred_forest_val)\n",
    "#Accuracy\n",
    "accuracy_RF=accuracy_score(y_val, y_pred_forest_val)\n",
    "#recall\n",
    "recall_RF=recall_score(y_val, y_pred_forest_val, average='weighted')\n",
    "#Precision\n",
    "precision_RF= precision_score(y_val, y_pred_forest_val, average='weighted')"
   ]
  },
  {
   "cell_type": "markdown",
   "id": "4bc8a817",
   "metadata": {},
   "source": [
    "### Evaluacion LightGBM"
   ]
  },
  {
   "cell_type": "code",
   "execution_count": 950,
   "id": "24f9c0be",
   "metadata": {},
   "outputs": [],
   "source": [
    "#loanRF = RandomForestClassifier(n_estimators=10, max_depth=3, random_state=4).fit(X_val,y_val)\n",
    "yhat_LGBM = model.predict(X_val,num_iteration=model.best_iteration)\n",
    "\n",
    "#convert into binary values\t\n",
    "for i in range(0,len(X_val)):\t\n",
    "    if yhat_LGBM[i]>=.5:       # setting threshold to .5\t\n",
    "            yhat_LGBM[i]=1\n",
    "    else:\n",
    "        yhat_LGBM[i]=0\n",
    "#Jaccard\n",
    "jaccard_LGBM=jaccard_score(y_val, yhat_LGBM)\n",
    "#F1-score\n",
    "f1_LGBM=f1_score(y_val, yhat_LGBM, average='weighted')\n",
    "#LogLoss\n",
    "logLoss_LGBM=log_loss(y_val, yhat_LGBM)\n",
    "#Accuracy\n",
    "accuracy_LGBM=accuracy_score(y_val, yhat_LGBM)\n",
    "#recall\n",
    "recall_LGBM=recall_score(y_val, yhat_LGBM, average='weighted')\n",
    "#Precision\n",
    "precision_LGBM= precision_score(y_val, yhat_LGBM, average='weighted')"
   ]
  },
  {
   "cell_type": "markdown",
   "id": "feadd2ec",
   "metadata": {},
   "source": [
    "### Evaluacion LighGBM Optimizado Optuna"
   ]
  },
  {
   "cell_type": "code",
   "execution_count": 951,
   "id": "cc239d7d",
   "metadata": {},
   "outputs": [],
   "source": [
    "ypred_opt = model_opt.predict(X_val, num_iteration=model_opt.best_iteration)\n",
    "#convert into binary values\t\n",
    "for i in range(0,len(X_val)):\t\n",
    "    if ypred_opt[i]>=.5:       # setting threshold to .5\t\n",
    "            ypred_opt[i]=1\n",
    "    else:\n",
    "        ypred_opt[i]=0\n",
    "#Jaccard\n",
    "jaccard_opt=jaccard_score(y_val, ypred_opt)\n",
    "#F1-score\n",
    "f1_opt=f1_score(y_val, ypred_opt, average='weighted')\n",
    "#LogLoss\n",
    "logLoss_opt=log_loss(y_val, ypred_opt)\n",
    "#Accuracy\n",
    "accuracy_opt=accuracy_score(y_val, ypred_opt)\n",
    "#recall\n",
    "recall_opt=recall_score(y_val, ypred_opt, average='weighted')\n",
    "#Precision\n",
    "precision_opt= precision_score(y_val, ypred_opt, average='weighted')"
   ]
  },
  {
   "cell_type": "code",
   "execution_count": 589,
   "id": "9f6925ae",
   "metadata": {},
   "outputs": [
    {
     "name": "stdout",
     "output_type": "stream",
     "text": [
      "Confusion matrix, without normalization\n",
      "[[1316   19]\n",
      " [  19   35]]\n"
     ]
    },
    {
     "data": {
      "image/png": "[encoded data removed]",
      "text/plain": [
       "<Figure size 432x288 with 2 Axes>"
      ]
     },
     "metadata": {
      "needs_background": "light"
     },
     "output_type": "display_data"
    },
    {
     "name": "stdout",
     "output_type": "stream",
     "text": [
      "              precision    recall  f1-score   support\n",
      "\n",
      "           0       0.99      0.99      0.99      1335\n",
      "           1       0.65      0.65      0.65        54\n",
      "\n",
      "    accuracy                           0.97      1389\n",
      "   macro avg       0.82      0.82      0.82      1389\n",
      "weighted avg       0.97      0.97      0.97      1389\n",
      "\n"
     ]
    }
   ],
   "source": [
    "#confusion Matrix\n",
    "plt.figure()\n",
    "cf_matrix_op =confusion_matrix(y_val, ypred_opt, labels = [0,1])\n",
    "np.set_printoptions(precision=2)\n",
    "plot_confusion_matrix(cf_matrix_op, classes = [0,1], normalize= False,  title='Confusion matrix')\n",
    "plt.show()\n",
    "print (classification_report(y_val, ypred_opt))"
   ]
  },
  {
   "cell_type": "code",
   "execution_count": 952,
   "id": "aa38ea23",
   "metadata": {},
   "outputs": [
    {
     "data": {
      "text/html": [
       "<div>\n",
       "<style scoped>\n",
       "    .dataframe tbody tr th:only-of-type {\n",
       "        vertical-align: middle;\n",
       "    }\n",
       "\n",
       "    .dataframe tbody tr th {\n",
       "        vertical-align: top;\n",
       "    }\n",
       "\n",
       "    .dataframe thead th {\n",
       "        text-align: right;\n",
       "    }\n",
       "</style>\n",
       "<table border=\"1\" class=\"dataframe\">\n",
       "  <thead>\n",
       "    <tr style=\"text-align: right;\">\n",
       "      <th></th>\n",
       "      <th>Jaccard</th>\n",
       "      <th>F1-score</th>\n",
       "      <th>LogLoss</th>\n",
       "      <th>Accuracy</th>\n",
       "      <th>Recall</th>\n",
       "      <th>Precision</th>\n",
       "    </tr>\n",
       "    <tr>\n",
       "      <th>Algorithm</th>\n",
       "      <th></th>\n",
       "      <th></th>\n",
       "      <th></th>\n",
       "      <th></th>\n",
       "      <th></th>\n",
       "      <th></th>\n",
       "    </tr>\n",
       "  </thead>\n",
       "  <tbody>\n",
       "    <tr>\n",
       "      <th>Random Forest</th>\n",
       "      <td>0.160000</td>\n",
       "      <td>0.899678</td>\n",
       "      <td>4.699759</td>\n",
       "      <td>0.863931</td>\n",
       "      <td>0.863931</td>\n",
       "      <td>0.953248</td>\n",
       "    </tr>\n",
       "    <tr>\n",
       "      <th>Decision Tree</th>\n",
       "      <td>0.163866</td>\n",
       "      <td>0.895596</td>\n",
       "      <td>4.948426</td>\n",
       "      <td>0.856731</td>\n",
       "      <td>0.856731</td>\n",
       "      <td>0.955558</td>\n",
       "    </tr>\n",
       "    <tr>\n",
       "      <th>SVM</th>\n",
       "      <td>0.051995</td>\n",
       "      <td>0.570039</td>\n",
       "      <td>19.495334</td>\n",
       "      <td>0.435565</td>\n",
       "      <td>0.435565</td>\n",
       "      <td>0.944721</td>\n",
       "    </tr>\n",
       "    <tr>\n",
       "      <th>Logistic Regression</th>\n",
       "      <td>0.087179</td>\n",
       "      <td>0.822006</td>\n",
       "      <td>8.852464</td>\n",
       "      <td>0.743701</td>\n",
       "      <td>0.743701</td>\n",
       "      <td>0.945832</td>\n",
       "    </tr>\n",
       "    <tr>\n",
       "      <th>LightGBM</th>\n",
       "      <td>0.480000</td>\n",
       "      <td>0.972286</td>\n",
       "      <td>0.969783</td>\n",
       "      <td>0.971922</td>\n",
       "      <td>0.971922</td>\n",
       "      <td>0.972689</td>\n",
       "    </tr>\n",
       "    <tr>\n",
       "      <th>LightGBM_OPT</th>\n",
       "      <td>0.459459</td>\n",
       "      <td>0.971202</td>\n",
       "      <td>0.994649</td>\n",
       "      <td>0.971202</td>\n",
       "      <td>0.971202</td>\n",
       "      <td>0.971202</td>\n",
       "    </tr>\n",
       "  </tbody>\n",
       "</table>\n",
       "</div>"
      ],
      "text/plain": [
       "                      Jaccard  F1-score    LogLoss  Accuracy    Recall  \\\n",
       "Algorithm                                                                \n",
       "Random Forest        0.160000  0.899678   4.699759  0.863931  0.863931   \n",
       "Decision Tree        0.163866  0.895596   4.948426  0.856731  0.856731   \n",
       "SVM                  0.051995  0.570039  19.495334  0.435565  0.435565   \n",
       "Logistic Regression  0.087179  0.822006   8.852464  0.743701  0.743701   \n",
       "LightGBM             0.480000  0.972286   0.969783  0.971922  0.971922   \n",
       "LightGBM_OPT         0.459459  0.971202   0.994649  0.971202  0.971202   \n",
       "\n",
       "                     Precision  \n",
       "Algorithm                       \n",
       "Random Forest         0.953248  \n",
       "Decision Tree         0.955558  \n",
       "SVM                   0.944721  \n",
       "Logistic Regression   0.945832  \n",
       "LightGBM              0.972689  \n",
       "LightGBM_OPT          0.971202  "
      ]
     },
     "execution_count": 952,
     "metadata": {},
     "output_type": "execute_result"
    }
   ],
   "source": [
    "matrix.at['Random Forest',['Jaccard','F1-score','LogLoss','Accuracy','Recall','Precision']] = [jaccard_RF,f1_RF,log_RF,accuracy_RF,recall_RF,precision_RF]\n",
    "matrix.at['Decision Tree',['Jaccard','F1-score','LogLoss','Accuracy','Recall','Precision']] = [jaccard_DT,f1_DT,logLoss_DT,accuracy_DT,recall_DT,precision_DT]\n",
    "matrix.at['SVM',['Jaccard','F1-score','LogLoss','Accuracy','Recall','Precision']] = [jaccard_SVM,f1_SVM,logLoss_SVM,accuracy_SVM,recall_SVM,precision_SVM]\n",
    "matrix.at['Logistic Regression',['Jaccard','F1-score','LogLoss','Accuracy','Recall','Precision']] = [jaccard_LR,f1_LR,logLoss_LR,accuracy_LR,recall_LR,precision_LR]\n",
    "matrix.at['LightGBM',['Jaccard','F1-score','LogLoss','Accuracy','Recall','Precision']] = [jaccard_LGBM,f1_LGBM,logLoss_LGBM,accuracy_LGBM,recall_LGBM,precision_LGBM]\n",
    "matrix.at['LightGBM_OPT',['Jaccard','F1-score','LogLoss','Accuracy','Recall','Precision']] = [jaccard_opt,f1_opt,logLoss_opt,accuracy_opt,recall_opt,precision_opt]\n",
    "matrix"
   ]
  },
  {
   "cell_type": "code",
   "execution_count": null,
   "id": "59990af0",
   "metadata": {},
   "outputs": [],
   "source": [
    "#KNN\n",
    "import pickle    \n",
    "with open('KDD_model.pkl', 'wb') as model_file:\n",
    "  pickle.dump(neighKNN, model_file)"
   ]
  },
  {
   "cell_type": "markdown",
   "id": "a6892c1b",
   "metadata": {},
   "source": [
    "## Optuna "
   ]
  },
  {
   "cell_type": "code",
   "execution_count": 934,
   "id": "659a1d45",
   "metadata": {},
   "outputs": [],
   "source": [
    "def objective(trial):\n",
    "    #Split Train - Test. 80%-20%\n",
    "    X_train, X_test, y_train, y_test = train_test_split(X, y, test_size=0.2, random_state=2,stratify=df_encoder[\"Estado_label\"])\n",
    "    # del 80% del test sacamos 10% para validacion queda 72% train 20%  valid 8%\n",
    "    X_train, X_val, y_train, y_val = train_test_split(X_train, y_train, test_size=0.1, random_state=2)\n",
    "\n",
    "    \n",
    "    #X_train, X_test, y_train, y_test = train_test_split( X, y, test_size=0.2,random_state=2, stratify=df_encoder[\"Estado_label\"])\n",
    "    #X_train, X_test, y_train, y_test = train_test_split(X, y, test_size=0.2, random_state=2)\n",
    "    # transform the dataset  SMOTE\n",
    "    oversample = SMOTE()\n",
    "    X_train, y_train = oversample.fit_resample(X_train, y_train)\n",
    "    dtrain = lgb.Dataset(X_train, label=y_train)\n",
    "    param = {\n",
    "        \"objective\": \"binary\",\n",
    "        \"metric\": \"binary_logloss\",\n",
    "        \"verbosity\": -1,\n",
    "        \"boosting_type\": \"gbdt\",\n",
    "        \"lambda_l1\": trial.suggest_float(\"lambda_l1\", 1e-8, 10.0, log=True),\n",
    "        \"lambda_l2\": trial.suggest_float(\"lambda_l2\", 1e-8, 10.0, log=True),\n",
    "        \"num_leaves\": trial.suggest_int(\"num_leaves\", 2, 256),\n",
    "        \"feature_fraction\": trial.suggest_float(\"feature_fraction\", 0.4, 1.0),\n",
    "        \"bagging_fraction\": trial.suggest_float(\"bagging_fraction\", 0.4, 1.0),\n",
    "        \"bagging_freq\": trial.suggest_int(\"bagging_freq\", 1, 7),\n",
    "        \"min_child_samples\": trial.suggest_int(\"min_child_samples\", 5, 100),\n",
    "        }    \n",
    "        \n",
    "        \n",
    "    gbm = lgb.train(param, dtrain)\n",
    "    preds = gbm.predict(X_test)\n",
    "    pred_labels = np.rint(preds)\n",
    "    accuracy = accuracy_score(y_test, pred_labels)\n",
    "    return accuracy\n",
    "    "
   ]
  },
  {
   "cell_type": "code",
   "execution_count": 935,
   "id": "b026ad58",
   "metadata": {},
   "outputs": [
    {
     "name": "stderr",
     "output_type": "stream",
     "text": [
      "\u001b[32m[I 2021-12-05 17:29:44,330]\u001b[0m A new study created in memory with name: no-name-dbe36779-9a05-4321-9db9-64bc4ccebbd4\u001b[0m\n",
      "\u001b[32m[I 2021-12-05 17:29:45,212]\u001b[0m Trial 0 finished with value: 0.9651497695852534 and parameters: {'lambda_l1': 0.00010539049812948862, 'lambda_l2': 0.02948153083778197, 'num_leaves': 193, 'feature_fraction': 0.44073174089329564, 'bagging_fraction': 0.5934006239163951, 'bagging_freq': 4, 'min_child_samples': 7}. Best is trial 0 with value: 0.9651497695852534.\u001b[0m\n",
      "\u001b[32m[I 2021-12-05 17:29:45,543]\u001b[0m Trial 1 finished with value: 0.969758064516129 and parameters: {'lambda_l1': 0.020366637284959323, 'lambda_l2': 0.00010282616005139592, 'num_leaves': 26, 'feature_fraction': 0.7999111176990503, 'bagging_fraction': 0.698142775311253, 'bagging_freq': 6, 'min_child_samples': 38}. Best is trial 1 with value: 0.969758064516129.\u001b[0m\n",
      "\u001b[32m[I 2021-12-05 17:29:46,370]\u001b[0m Trial 2 finished with value: 0.9680299539170507 and parameters: {'lambda_l1': 0.00039184811398702753, 'lambda_l2': 3.7862148743566215e-05, 'num_leaves': 149, 'feature_fraction': 0.8697241315510446, 'bagging_fraction': 0.5998552522502774, 'bagging_freq': 5, 'min_child_samples': 36}. Best is trial 1 with value: 0.969758064516129.\u001b[0m\n",
      "\u001b[32m[I 2021-12-05 17:29:46,876]\u001b[0m Trial 3 finished with value: 0.9714861751152074 and parameters: {'lambda_l1': 0.0029752189353061094, 'lambda_l2': 0.9727413499028286, 'num_leaves': 54, 'feature_fraction': 0.9017761201124612, 'bagging_fraction': 0.8746398212718633, 'bagging_freq': 5, 'min_child_samples': 36}. Best is trial 3 with value: 0.9714861751152074.\u001b[0m\n",
      "\u001b[32m[I 2021-12-05 17:29:48,018]\u001b[0m Trial 4 finished with value: 0.967741935483871 and parameters: {'lambda_l1': 0.0023929492088076653, 'lambda_l2': 0.0005840929113715857, 'num_leaves': 166, 'feature_fraction': 0.6600006751456968, 'bagging_fraction': 0.9459298968600941, 'bagging_freq': 3, 'min_child_samples': 62}. Best is trial 3 with value: 0.9714861751152074.\u001b[0m\n",
      "\u001b[32m[I 2021-12-05 17:29:48,779]\u001b[0m Trial 5 finished with value: 0.967741935483871 and parameters: {'lambda_l1': 5.17879950661396e-07, 'lambda_l2': 0.00037504500454812973, 'num_leaves': 112, 'feature_fraction': 0.7306165676321192, 'bagging_fraction': 0.8000110664548962, 'bagging_freq': 4, 'min_child_samples': 60}. Best is trial 3 with value: 0.9714861751152074.\u001b[0m\n",
      "\u001b[32m[I 2021-12-05 17:29:49,749]\u001b[0m Trial 6 finished with value: 0.9691820276497696 and parameters: {'lambda_l1': 1.32144091922232e-07, 'lambda_l2': 2.5880183517405073e-08, 'num_leaves': 237, 'feature_fraction': 0.9964109758534062, 'bagging_fraction': 0.8983943413106144, 'bagging_freq': 1, 'min_child_samples': 93}. Best is trial 3 with value: 0.9714861751152074.\u001b[0m\n",
      "\u001b[32m[I 2021-12-05 17:29:50,371]\u001b[0m Trial 7 finished with value: 0.9671658986175116 and parameters: {'lambda_l1': 7.413986408512609e-06, 'lambda_l2': 0.3176278066009914, 'num_leaves': 109, 'feature_fraction': 0.5935690636776324, 'bagging_fraction': 0.4301769829050746, 'bagging_freq': 6, 'min_child_samples': 53}. Best is trial 3 with value: 0.9714861751152074.\u001b[0m\n",
      "\u001b[32m[I 2021-12-05 17:29:50,821]\u001b[0m Trial 8 finished with value: 0.9683179723502304 and parameters: {'lambda_l1': 5.240720854347412e-07, 'lambda_l2': 7.0315740130831255e-06, 'num_leaves': 39, 'feature_fraction': 0.7076308057846084, 'bagging_fraction': 0.79079205187389, 'bagging_freq': 3, 'min_child_samples': 72}. Best is trial 3 with value: 0.9714861751152074.\u001b[0m\n",
      "\u001b[32m[I 2021-12-05 17:29:51,671]\u001b[0m Trial 9 finished with value: 0.9686059907834101 and parameters: {'lambda_l1': 0.30362014089224926, 'lambda_l2': 0.13045942433277138, 'num_leaves': 105, 'feature_fraction': 0.41678862384490545, 'bagging_fraction': 0.7005958418753084, 'bagging_freq': 5, 'min_child_samples': 39}. Best is trial 3 with value: 0.9714861751152074.\u001b[0m\n",
      "\u001b[32m[I 2021-12-05 17:29:52,309]\u001b[0m Trial 10 finished with value: 0.9703341013824884 and parameters: {'lambda_l1': 1.4472344250148623, 'lambda_l2': 7.686127087265216, 'num_leaves': 53, 'feature_fraction': 0.9876025746106101, 'bagging_fraction': 0.9693997285857798, 'bagging_freq': 7, 'min_child_samples': 10}. Best is trial 3 with value: 0.9714861751152074.\u001b[0m\n",
      "\u001b[32m[I 2021-12-05 17:29:52,976]\u001b[0m Trial 11 finished with value: 0.967741935483871 and parameters: {'lambda_l1': 4.258134440272353, 'lambda_l2': 8.293613556722635, 'num_leaves': 56, 'feature_fraction': 0.9998150341788984, 'bagging_fraction': 0.9926444362335352, 'bagging_freq': 7, 'min_child_samples': 5}. Best is trial 3 with value: 0.9714861751152074.\u001b[0m\n",
      "\u001b[32m[I 2021-12-05 17:29:53,974]\u001b[0m Trial 12 finished with value: 0.9651497695852534 and parameters: {'lambda_l1': 7.5500695201929116, 'lambda_l2': 7.365093517147722, 'num_leaves': 68, 'feature_fraction': 0.8983885115544212, 'bagging_fraction': 0.8682382539361951, 'bagging_freq': 7, 'min_child_samples': 21}. Best is trial 3 with value: 0.9714861751152074.\u001b[0m\n",
      "\u001b[32m[I 2021-12-05 17:29:54,199]\u001b[0m Trial 13 finished with value: 0.9144585253456221 and parameters: {'lambda_l1': 0.024535817921947155, 'lambda_l2': 0.008804827644706156, 'num_leaves': 4, 'feature_fraction': 0.8806445101144964, 'bagging_fraction': 0.9841152282111301, 'bagging_freq': 7, 'min_child_samples': 24}. Best is trial 3 with value: 0.9714861751152074.\u001b[0m\n",
      "\u001b[32m[I 2021-12-05 17:29:55,032]\u001b[0m Trial 14 finished with value: 0.969758064516129 and parameters: {'lambda_l1': 0.2190106398340159, 'lambda_l2': 0.8073844772247429, 'num_leaves': 81, 'feature_fraction': 0.9325016492919971, 'bagging_fraction': 0.8581363790385532, 'bagging_freq': 6, 'min_child_samples': 21}. Best is trial 3 with value: 0.9714861751152074.\u001b[0m\n",
      "\u001b[32m[I 2021-12-05 17:29:55,332]\u001b[0m Trial 15 finished with value: 0.9668778801843319 and parameters: {'lambda_l1': 3.830816402000447e-05, 'lambda_l2': 0.008441380873794755, 'num_leaves': 18, 'feature_fraction': 0.8036345285745654, 'bagging_fraction': 0.7858190663451703, 'bagging_freq': 1, 'min_child_samples': 29}. Best is trial 3 with value: 0.9714861751152074.\u001b[0m\n",
      "\u001b[32m[I 2021-12-05 17:29:55,991]\u001b[0m Trial 16 finished with value: 0.9688940092165899 and parameters: {'lambda_l1': 1.1712455042919527e-08, 'lambda_l2': 1.1795254212940967, 'num_leaves': 80, 'feature_fraction': 0.9508830172679871, 'bagging_fraction': 0.9275614438238966, 'bagging_freq': 5, 'min_child_samples': 13}. Best is trial 3 with value: 0.9714861751152074.\u001b[0m\n",
      "\u001b[32m[I 2021-12-05 17:29:56,455]\u001b[0m Trial 17 finished with value: 0.9700460829493087 and parameters: {'lambda_l1': 0.0030568870034371164, 'lambda_l2': 1.2965372126902362e-06, 'num_leaves': 49, 'feature_fraction': 0.8244281231875833, 'bagging_fraction': 0.8426873792100413, 'bagging_freq': 3, 'min_child_samples': 46}. Best is trial 3 with value: 0.9714861751152074.\u001b[0m\n",
      "\u001b[32m[I 2021-12-05 17:29:57,026]\u001b[0m Trial 18 finished with value: 0.9691820276497696 and parameters: {'lambda_l1': 0.6386413967241064, 'lambda_l2': 0.04014742149828764, 'num_leaves': 141, 'feature_fraction': 0.5211220760161961, 'bagging_fraction': 0.7134991278226578, 'bagging_freq': 6, 'min_child_samples': 78}. Best is trial 3 with value: 0.9714861751152074.\u001b[0m\n",
      "\u001b[32m[I 2021-12-05 17:29:57,715]\u001b[0m Trial 19 finished with value: 0.9686059907834101 and parameters: {'lambda_l1': 0.028414139539941336, 'lambda_l2': 0.0024733801852333715, 'num_leaves': 88, 'feature_fraction': 0.7629369069267177, 'bagging_fraction': 0.41211808624892105, 'bagging_freq': 4, 'min_child_samples': 15}. Best is trial 3 with value: 0.9714861751152074.\u001b[0m\n",
      "\u001b[32m[I 2021-12-05 17:29:58,638]\u001b[0m Trial 20 finished with value: 0.967741935483871 and parameters: {'lambda_l1': 0.0020440843705881707, 'lambda_l2': 2.0569095668003365, 'num_leaves': 184, 'feature_fraction': 0.6358007380172082, 'bagging_fraction': 0.9395644210690537, 'bagging_freq': 2, 'min_child_samples': 32}. Best is trial 3 with value: 0.9714861751152074.\u001b[0m\n",
      "\u001b[32m[I 2021-12-05 17:29:59,075]\u001b[0m Trial 21 finished with value: 0.9703341013824884 and parameters: {'lambda_l1': 0.0012962087818474382, 'lambda_l2': 4.588581827128109e-07, 'num_leaves': 37, 'feature_fraction': 0.8328152480124589, 'bagging_fraction': 0.8697879400965816, 'bagging_freq': 3, 'min_child_samples': 46}. Best is trial 3 with value: 0.9714861751152074.\u001b[0m\n"
     ]
    },
    {
     "name": "stderr",
     "output_type": "stream",
     "text": [
      "\u001b[32m[I 2021-12-05 17:29:59,621]\u001b[0m Trial 22 finished with value: 0.9700460829493087 and parameters: {'lambda_l1': 0.00023507863741705124, 'lambda_l2': 2.7582547744351154e-08, 'num_leaves': 49, 'feature_fraction': 0.93794607926372, 'bagging_fraction': 0.8878694399683676, 'bagging_freq': 2, 'min_child_samples': 49}. Best is trial 3 with value: 0.9714861751152074.\u001b[0m\n",
      "\u001b[32m[I 2021-12-05 17:30:00,179]\u001b[0m Trial 23 finished with value: 0.9703341013824884 and parameters: {'lambda_l1': 1.8216638927525653e-05, 'lambda_l2': 2.618162733087898e-07, 'num_leaves': 27, 'feature_fraction': 0.8560318182016927, 'bagging_fraction': 0.7529496372262441, 'bagging_freq': 2, 'min_child_samples': 46}. Best is trial 3 with value: 0.9714861751152074.\u001b[0m\n",
      "\u001b[32m[I 2021-12-05 17:30:00,401]\u001b[0m Trial 24 finished with value: 0.8366935483870968 and parameters: {'lambda_l1': 9.811844021249072e-06, 'lambda_l2': 2.816799343313371e-07, 'num_leaves': 2, 'feature_fraction': 0.8335689218080355, 'bagging_fraction': 0.7444762403057733, 'bagging_freq': 2, 'min_child_samples': 44}. Best is trial 3 with value: 0.9714861751152074.\u001b[0m\n",
      "\u001b[32m[I 2021-12-05 17:30:00,847]\u001b[0m Trial 25 finished with value: 0.9683179723502304 and parameters: {'lambda_l1': 7.349107398899106e-06, 'lambda_l2': 1.3377435669782108e-05, 'num_leaves': 21, 'feature_fraction': 0.9621153596702537, 'bagging_fraction': 0.6371077074129097, 'bagging_freq': 5, 'min_child_samples': 57}. Best is trial 3 with value: 0.9714861751152074.\u001b[0m\n",
      "\u001b[32m[I 2021-12-05 17:30:01,387]\u001b[0m Trial 26 finished with value: 0.9700460829493087 and parameters: {'lambda_l1': 1.8202512361204017, 'lambda_l2': 0.15390103531961102, 'num_leaves': 60, 'feature_fraction': 0.8928061573623525, 'bagging_fraction': 0.8198286194503277, 'bagging_freq': 4, 'min_child_samples': 67}. Best is trial 3 with value: 0.9714861751152074.\u001b[0m\n",
      "\u001b[32m[I 2021-12-05 17:30:01,750]\u001b[0m Trial 27 finished with value: 0.9706221198156681 and parameters: {'lambda_l1': 0.0005473729701792873, 'lambda_l2': 2.276057634029337e-07, 'num_leaves': 31, 'feature_fraction': 0.768407350745346, 'bagging_fraction': 0.7547717656550512, 'bagging_freq': 3, 'min_child_samples': 43}. Best is trial 3 with value: 0.9714861751152074.\u001b[0m\n",
      "\u001b[32m[I 2021-12-05 17:30:02,454]\u001b[0m Trial 28 finished with value: 0.9680299539170507 and parameters: {'lambda_l1': 0.0006789053798176768, 'lambda_l2': 1.5764336493093619e-06, 'num_leaves': 95, 'feature_fraction': 0.7608446705014622, 'bagging_fraction': 0.5299817657667701, 'bagging_freq': 3, 'min_child_samples': 81}. Best is trial 3 with value: 0.9714861751152074.\u001b[0m\n",
      "\u001b[32m[I 2021-12-05 17:30:03,822]\u001b[0m Trial 29 finished with value: 0.9660138248847926 and parameters: {'lambda_l1': 5.681281339309498e-05, 'lambda_l2': 1.0122913738715237e-08, 'num_leaves': 234, 'feature_fraction': 0.7672700618263456, 'bagging_fraction': 0.6504697649090893, 'bagging_freq': 2, 'min_child_samples': 29}. Best is trial 3 with value: 0.9714861751152074.\u001b[0m\n",
      "\u001b[32m[I 2021-12-05 17:30:04,656]\u001b[0m Trial 30 finished with value: 0.967741935483871 and parameters: {'lambda_l1': 0.010083268485401744, 'lambda_l2': 9.879330146426453e-08, 'num_leaves': 127, 'feature_fraction': 0.5510276283602422, 'bagging_fraction': 0.9066378254619311, 'bagging_freq': 4, 'min_child_samples': 54}. Best is trial 3 with value: 0.9714861751152074.\u001b[0m\n",
      "\u001b[32m[I 2021-12-05 17:30:05,141]\u001b[0m Trial 31 finished with value: 0.9720622119815668 and parameters: {'lambda_l1': 0.098099512215708, 'lambda_l2': 3.6652939744546308e-06, 'num_leaves': 39, 'feature_fraction': 0.9140773589681624, 'bagging_fraction': 0.9738935588559205, 'bagging_freq': 3, 'min_child_samples': 12}. Best is trial 31 with value: 0.9720622119815668.\u001b[0m\n",
      "\u001b[32m[I 2021-12-05 17:30:05,544]\u001b[0m Trial 32 finished with value: 0.9703341013824884 and parameters: {'lambda_l1': 0.12971902809978067, 'lambda_l2': 3.0380205625254863e-06, 'num_leaves': 30, 'feature_fraction': 0.8574978468831957, 'bagging_fraction': 0.7646104793167203, 'bagging_freq': 2, 'min_child_samples': 41}. Best is trial 31 with value: 0.9720622119815668.\u001b[0m\n",
      "\u001b[32m[I 2021-12-05 17:30:06,050]\u001b[0m Trial 33 finished with value: 0.9686059907834101 and parameters: {'lambda_l1': 0.09213194072309427, 'lambda_l2': 9.124373005693562e-05, 'num_leaves': 71, 'feature_fraction': 0.9100910101223111, 'bagging_fraction': 0.749721297599258, 'bagging_freq': 1, 'min_child_samples': 38}. Best is trial 31 with value: 0.9720622119815668.\u001b[0m\n",
      "\u001b[32m[I 2021-12-05 17:30:06,453]\u001b[0m Trial 34 finished with value: 0.9591013824884793 and parameters: {'lambda_l1': 0.0001589374157911549, 'lambda_l2': 2.3844010725645566e-07, 'num_leaves': 11, 'feature_fraction': 0.7880934268007344, 'bagging_fraction': 0.831878732116204, 'bagging_freq': 3, 'min_child_samples': 35}. Best is trial 31 with value: 0.9720622119815668.\u001b[0m\n",
      "\u001b[32m[I 2021-12-05 17:30:06,889]\u001b[0m Trial 35 finished with value: 0.9694700460829493 and parameters: {'lambda_l1': 0.008800145693149092, 'lambda_l2': 3.768308296300194e-05, 'num_leaves': 31, 'feature_fraction': 0.8632056593448765, 'bagging_fraction': 0.656331671691346, 'bagging_freq': 3, 'min_child_samples': 26}. Best is trial 31 with value: 0.9720622119815668.\u001b[0m\n",
      "\u001b[32m[I 2021-12-05 17:30:07,459]\u001b[0m Trial 36 finished with value: 0.9694700460829493 and parameters: {'lambda_l1': 0.06077766377646666, 'lambda_l2': 3.852749494862918e-06, 'num_leaves': 33, 'feature_fraction': 0.9088351231594075, 'bagging_fraction': 0.5607944941974385, 'bagging_freq': 4, 'min_child_samples': 42}. Best is trial 31 with value: 0.9720622119815668.\u001b[0m\n",
      "\u001b[32m[I 2021-12-05 17:30:07,840]\u001b[0m Trial 37 finished with value: 0.966589861751152 and parameters: {'lambda_l1': 0.008846766585622211, 'lambda_l2': 0.0007618280635434142, 'num_leaves': 17, 'feature_fraction': 0.6766780081829498, 'bagging_fraction': 0.9462816882449506, 'bagging_freq': 2, 'min_child_samples': 18}. Best is trial 31 with value: 0.9720622119815668.\u001b[0m\n",
      "\u001b[32m[I 2021-12-05 17:30:08,401]\u001b[0m Trial 38 finished with value: 0.969758064516129 and parameters: {'lambda_l1': 2.9755748918825114e-05, 'lambda_l2': 3.9387884549472296e-08, 'num_leaves': 44, 'feature_fraction': 0.7307842721521837, 'bagging_fraction': 0.6792488241844792, 'bagging_freq': 3, 'min_child_samples': 61}. Best is trial 31 with value: 0.9720622119815668.\u001b[0m\n",
      "\u001b[32m[I 2021-12-05 17:30:09,159]\u001b[0m Trial 39 finished with value: 0.9703341013824884 and parameters: {'lambda_l1': 0.0008257622083250552, 'lambda_l2': 6.647954538744639e-07, 'num_leaves': 73, 'feature_fraction': 0.8312298516312224, 'bagging_fraction': 0.9013407968432143, 'bagging_freq': 4, 'min_child_samples': 98}. Best is trial 31 with value: 0.9720622119815668.\u001b[0m\n",
      "\u001b[32m[I 2021-12-05 17:30:10,562]\u001b[0m Trial 40 finished with value: 0.9674539170506913 and parameters: {'lambda_l1': 0.0029036120218084685, 'lambda_l2': 3.428390373524524e-05, 'num_leaves': 253, 'feature_fraction': 0.7962026580556266, 'bagging_fraction': 0.8779187410305545, 'bagging_freq': 5, 'min_child_samples': 49}. Best is trial 31 with value: 0.9720622119815668.\u001b[0m\n",
      "\u001b[32m[I 2021-12-05 17:30:11,232]\u001b[0m Trial 41 finished with value: 0.9691820276497696 and parameters: {'lambda_l1': 1.69900338147e-06, 'lambda_l2': 9.647041125293606e-07, 'num_leaves': 64, 'feature_fraction': 0.856554145822348, 'bagging_fraction': 0.9181650455090321, 'bagging_freq': 4, 'min_child_samples': 68}. Best is trial 31 with value: 0.9720622119815668.\u001b[0m\n",
      "\u001b[32m[I 2021-12-05 17:30:11,683]\u001b[0m Trial 42 finished with value: 0.9706221198156681 and parameters: {'lambda_l1': 0.0008199874286360195, 'lambda_l2': 9.276997995029887e-08, 'num_leaves': 41, 'feature_fraction': 0.7267801088030466, 'bagging_fraction': 0.8218452303676009, 'bagging_freq': 3, 'min_child_samples': 48}. Best is trial 31 with value: 0.9720622119815668.\u001b[0m\n",
      "\u001b[32m[I 2021-12-05 17:30:12,771]\u001b[0m Trial 43 finished with value: 0.969758064516129 and parameters: {'lambda_l1': 0.0005698124955344484, 'lambda_l2': 6.617926439507213e-08, 'num_leaves': 97, 'feature_fraction': 0.7287505335469883, 'bagging_fraction': 0.8188651712384631, 'bagging_freq': 5, 'min_child_samples': 34}. Best is trial 31 with value: 0.9720622119815668.\u001b[0m\n",
      "\u001b[32m[I 2021-12-05 17:30:13,462]\u001b[0m Trial 44 finished with value: 0.9714861751152074 and parameters: {'lambda_l1': 0.00010032952663499964, 'lambda_l2': 1.0146795700533367e-07, 'num_leaves': 40, 'feature_fraction': 0.6331853541149739, 'bagging_fraction': 0.9603285784692487, 'bagging_freq': 3, 'min_child_samples': 53}. Best is trial 31 with value: 0.9720622119815668.\u001b[0m\n"
     ]
    },
    {
     "name": "stderr",
     "output_type": "stream",
     "text": [
      "\u001b[32m[I 2021-12-05 17:30:14,113]\u001b[0m Trial 45 finished with value: 0.9706221198156681 and parameters: {'lambda_l1': 0.00018059430381576734, 'lambda_l2': 1.1875678528299988e-08, 'num_leaves': 44, 'feature_fraction': 0.6213185591566001, 'bagging_fraction': 0.9595184049230031, 'bagging_freq': 3, 'min_child_samples': 55}. Best is trial 31 with value: 0.9720622119815668.\u001b[0m\n",
      "\u001b[32m[I 2021-12-05 17:30:15,036]\u001b[0m Trial 46 finished with value: 0.9691820276497696 and parameters: {'lambda_l1': 0.00010223133257968136, 'lambda_l2': 1.1973139496079087e-08, 'num_leaves': 116, 'feature_fraction': 0.6260796703497737, 'bagging_fraction': 0.9676661291327042, 'bagging_freq': 3, 'min_child_samples': 57}. Best is trial 31 with value: 0.9720622119815668.\u001b[0m\n",
      "\u001b[32m[I 2021-12-05 17:30:15,570]\u001b[0m Trial 47 finished with value: 0.9717741935483871 and parameters: {'lambda_l1': 0.00022376712514270706, 'lambda_l2': 9.137019019010756e-08, 'num_leaves': 54, 'feature_fraction': 0.5791728807879131, 'bagging_fraction': 0.998660980891476, 'bagging_freq': 3, 'min_child_samples': 65}. Best is trial 31 with value: 0.9720622119815668.\u001b[0m\n",
      "\u001b[32m[I 2021-12-05 17:30:16,112]\u001b[0m Trial 48 finished with value: 0.9720622119815668 and parameters: {'lambda_l1': 2.325945035010757e-06, 'lambda_l2': 2.8948998495030396e-08, 'num_leaves': 56, 'feature_fraction': 0.5727448254219669, 'bagging_fraction': 0.9946030617358784, 'bagging_freq': 4, 'min_child_samples': 66}. Best is trial 31 with value: 0.9720622119815668.\u001b[0m\n",
      "\u001b[32m[I 2021-12-05 17:30:16,712]\u001b[0m Trial 49 finished with value: 0.9700460829493087 and parameters: {'lambda_l1': 1.4851224887617823e-06, 'lambda_l2': 0.00018096799638119227, 'num_leaves': 62, 'feature_fraction': 0.48588935125969834, 'bagging_fraction': 0.9928090882742812, 'bagging_freq': 4, 'min_child_samples': 77}. Best is trial 31 with value: 0.9720622119815668.\u001b[0m\n",
      "\u001b[32m[I 2021-12-05 17:30:17,240]\u001b[0m Trial 50 finished with value: 0.9726382488479263 and parameters: {'lambda_l1': 8.872355942393578e-08, 'lambda_l2': 1.2691342880474997e-05, 'num_leaves': 57, 'feature_fraction': 0.5740236888990755, 'bagging_fraction': 0.9833653835870881, 'bagging_freq': 4, 'min_child_samples': 65}. Best is trial 50 with value: 0.9726382488479263.\u001b[0m\n",
      "\u001b[32m[I 2021-12-05 17:30:17,964]\u001b[0m Trial 51 finished with value: 0.9706221198156681 and parameters: {'lambda_l1': 3.91932349154365e-08, 'lambda_l2': 1.0202309424218544e-05, 'num_leaves': 80, 'feature_fraction': 0.5747331585209012, 'bagging_fraction': 0.999492968520467, 'bagging_freq': 4, 'min_child_samples': 65}. Best is trial 50 with value: 0.9726382488479263.\u001b[0m\n",
      "\u001b[32m[I 2021-12-05 17:30:18,464]\u001b[0m Trial 52 finished with value: 0.9717741935483871 and parameters: {'lambda_l1': 1.6734260866099487e-07, 'lambda_l2': 1.132214284095883e-07, 'num_leaves': 56, 'feature_fraction': 0.5093162844121322, 'bagging_fraction': 0.9655795284102364, 'bagging_freq': 5, 'min_child_samples': 71}. Best is trial 50 with value: 0.9726382488479263.\u001b[0m\n",
      "\u001b[32m[I 2021-12-05 17:30:18,935]\u001b[0m Trial 53 finished with value: 0.9694700460829493 and parameters: {'lambda_l1': 1.6457843190071764e-07, 'lambda_l2': 1.587045004692211e-05, 'num_leaves': 54, 'feature_fraction': 0.47951413427430967, 'bagging_fraction': 0.9332838981343012, 'bagging_freq': 6, 'min_child_samples': 72}. Best is trial 50 with value: 0.9726382488479263.\u001b[0m\n",
      "\u001b[32m[I 2021-12-05 17:30:19,753]\u001b[0m Trial 54 finished with value: 0.9706221198156681 and parameters: {'lambda_l1': 1.4490194876185138e-07, 'lambda_l2': 0.0011354457964662253, 'num_leaves': 88, 'feature_fraction': 0.5264570304515779, 'bagging_fraction': 0.9770092981527967, 'bagging_freq': 5, 'min_child_samples': 86}. Best is trial 50 with value: 0.9726382488479263.\u001b[0m\n",
      "\u001b[32m[I 2021-12-05 17:30:20,536]\u001b[0m Trial 55 finished with value: 0.970910138248848 and parameters: {'lambda_l1': 2.39600174655804e-08, 'lambda_l2': 3.6258869961209404e-06, 'num_leaves': 53, 'feature_fraction': 0.5923561734876928, 'bagging_fraction': 0.952238149617479, 'bagging_freq': 6, 'min_child_samples': 73}. Best is trial 50 with value: 0.9726382488479263.\u001b[0m\n",
      "\u001b[32m[I 2021-12-05 17:30:21,196]\u001b[0m Trial 56 finished with value: 0.9688940092165899 and parameters: {'lambda_l1': 5.891692566254612e-07, 'lambda_l2': 3.6167605376231435e-08, 'num_leaves': 77, 'feature_fraction': 0.4501035101810267, 'bagging_fraction': 0.9995714442351123, 'bagging_freq': 5, 'min_child_samples': 64}. Best is trial 50 with value: 0.9726382488479263.\u001b[0m\n",
      "\u001b[32m[I 2021-12-05 17:30:22,234]\u001b[0m Trial 57 finished with value: 0.9686059907834101 and parameters: {'lambda_l1': 2.9510484224112246e-06, 'lambda_l2': 1.3814810811114776e-07, 'num_leaves': 154, 'feature_fraction': 0.556805728029895, 'bagging_fraction': 0.9703867200477011, 'bagging_freq': 4, 'min_child_samples': 86}. Best is trial 50 with value: 0.9726382488479263.\u001b[0m\n",
      "\u001b[32m[I 2021-12-05 17:30:22,545]\u001b[0m Trial 58 finished with value: 0.9582373271889401 and parameters: {'lambda_l1': 5.7690528556883716e-08, 'lambda_l2': 6.150554643571649e-08, 'num_leaves': 10, 'feature_fraction': 0.6578352675393111, 'bagging_fraction': 0.9213117786434155, 'bagging_freq': 4, 'min_child_samples': 62}. Best is trial 50 with value: 0.9726382488479263.\u001b[0m\n",
      "\u001b[32m[I 2021-12-05 17:30:23,404]\u001b[0m Trial 59 finished with value: 0.9706221198156681 and parameters: {'lambda_l1': 3.6349293271352814e-07, 'lambda_l2': 7.847203655762546e-05, 'num_leaves': 67, 'feature_fraction': 0.5063319535955686, 'bagging_fraction': 0.8507831896811568, 'bagging_freq': 5, 'min_child_samples': 69}. Best is trial 50 with value: 0.9726382488479263.\u001b[0m\n",
      "\u001b[32m[I 2021-12-05 17:30:24,144]\u001b[0m Trial 60 finished with value: 0.9683179723502304 and parameters: {'lambda_l1': 1.1436517587909268e-08, 'lambda_l2': 0.026303889530046858, 'num_leaves': 91, 'feature_fraction': 0.44111343676669545, 'bagging_fraction': 0.9372583552928903, 'bagging_freq': 5, 'min_child_samples': 73}. Best is trial 50 with value: 0.9726382488479263.\u001b[0m\n",
      "\u001b[32m[I 2021-12-05 17:30:24,696]\u001b[0m Trial 61 finished with value: 0.9717741935483871 and parameters: {'lambda_l1': 6.176424397716884e-08, 'lambda_l2': 5.018627248495473e-07, 'num_leaves': 57, 'feature_fraction': 0.6017403694422148, 'bagging_fraction': 0.9796958944011878, 'bagging_freq': 4, 'min_child_samples': 10}. Best is trial 50 with value: 0.9726382488479263.\u001b[0m\n",
      "\u001b[32m[I 2021-12-05 17:30:25,269]\u001b[0m Trial 62 finished with value: 0.9706221198156681 and parameters: {'lambda_l1': 7.182957827923025e-08, 'lambda_l2': 5.549464283685651e-07, 'num_leaves': 53, 'feature_fraction': 0.6008325699156308, 'bagging_fraction': 0.976179640089511, 'bagging_freq': 4, 'min_child_samples': 8}. Best is trial 50 with value: 0.9726382488479263.\u001b[0m\n",
      "\u001b[32m[I 2021-12-05 17:30:25,987]\u001b[0m Trial 63 finished with value: 0.9703341013824884 and parameters: {'lambda_l1': 2.65428837273441e-07, 'lambda_l2': 1.4959297284407608e-06, 'num_leaves': 61, 'feature_fraction': 0.5464671673314248, 'bagging_fraction': 0.9076848958718262, 'bagging_freq': 6, 'min_child_samples': 5}. Best is trial 50 with value: 0.9726382488479263.\u001b[0m\n",
      "\u001b[32m[I 2021-12-05 17:30:26,935]\u001b[0m Trial 64 finished with value: 0.9668778801843319 and parameters: {'lambda_l1': 2.549923268959976e-08, 'lambda_l2': 4.327553355511407e-07, 'num_leaves': 105, 'feature_fraction': 0.40010805822511575, 'bagging_fraction': 0.9491294836744363, 'bagging_freq': 5, 'min_child_samples': 12}. Best is trial 50 with value: 0.9726382488479263.\u001b[0m\n",
      "\u001b[32m[I 2021-12-05 17:30:27,476]\u001b[0m Trial 65 finished with value: 0.9723502304147466 and parameters: {'lambda_l1': 0.4871086827121281, 'lambda_l2': 2.2139247639791606e-08, 'num_leaves': 47, 'feature_fraction': 0.5754105164527451, 'bagging_fraction': 0.9835347161833465, 'bagging_freq': 4, 'min_child_samples': 18}. Best is trial 50 with value: 0.9726382488479263.\u001b[0m\n",
      "\u001b[32m[I 2021-12-05 17:30:27,996]\u001b[0m Trial 66 finished with value: 0.9726382488479263 and parameters: {'lambda_l1': 0.4408347533560131, 'lambda_l2': 2.5404897901942922e-08, 'num_leaves': 46, 'feature_fraction': 0.5759039991256228, 'bagging_fraction': 0.9812549271186549, 'bagging_freq': 4, 'min_child_samples': 18}. Best is trial 50 with value: 0.9726382488479263.\u001b[0m\n",
      "\u001b[32m[I 2021-12-05 17:30:28,545]\u001b[0m Trial 67 finished with value: 0.9686059907834101 and parameters: {'lambda_l1': 1.4558220578359486, 'lambda_l2': 1.9181998694508934e-08, 'num_leaves': 23, 'feature_fraction': 0.5273178383109134, 'bagging_fraction': 0.9794968926017331, 'bagging_freq': 4, 'min_child_samples': 16}. Best is trial 50 with value: 0.9726382488479263.\u001b[0m\n"
     ]
    },
    {
     "name": "stderr",
     "output_type": "stream",
     "text": [
      "\u001b[32m[I 2021-12-05 17:30:29,029]\u001b[0m Trial 68 finished with value: 0.9714861751152074 and parameters: {'lambda_l1': 0.5242987316847219, 'lambda_l2': 2.25808379900997e-08, 'num_leaves': 44, 'feature_fraction': 0.575121539697255, 'bagging_fraction': 0.9852881274294898, 'bagging_freq': 4, 'min_child_samples': 20}. Best is trial 50 with value: 0.9726382488479263.\u001b[0m\n",
      "\u001b[32m[I 2021-12-05 17:30:29,379]\u001b[0m Trial 69 finished with value: 0.9602534562211982 and parameters: {'lambda_l1': 9.284104490100868, 'lambda_l2': 1.7201077651198928e-07, 'num_leaves': 189, 'feature_fraction': 0.47310299012629126, 'bagging_fraction': 0.4739312430818336, 'bagging_freq': 4, 'min_child_samples': 24}. Best is trial 50 with value: 0.9726382488479263.\u001b[0m\n",
      "\u001b[32m[I 2021-12-05 17:30:29,956]\u001b[0m Trial 70 finished with value: 0.9694700460829493 and parameters: {'lambda_l1': 4.115410910669343, 'lambda_l2': 4.097709225647669e-08, 'num_leaves': 211, 'feature_fraction': 0.5038933037474018, 'bagging_fraction': 0.8892572109364618, 'bagging_freq': 4, 'min_child_samples': 10}. Best is trial 50 with value: 0.9726382488479263.\u001b[0m\n",
      "\u001b[32m[I 2021-12-05 17:30:30,554]\u001b[0m Trial 71 finished with value: 0.9688940092165899 and parameters: {'lambda_l1': 0.27945530031332777, 'lambda_l2': 6.021355109903827e-08, 'num_leaves': 69, 'feature_fraction': 0.6062755334573793, 'bagging_fraction': 0.9293514899342022, 'bagging_freq': 3, 'min_child_samples': 13}. Best is trial 50 with value: 0.9726382488479263.\u001b[0m\n",
      "\u001b[32m[I 2021-12-05 17:30:31,053]\u001b[0m Trial 72 finished with value: 0.9720622119815668 and parameters: {'lambda_l1': 0.737617465297679, 'lambda_l2': 1.913511946752782e-06, 'num_leaves': 56, 'feature_fraction': 0.5742281811277056, 'bagging_fraction': 0.9592286327738421, 'bagging_freq': 4, 'min_child_samples': 9}. Best is trial 50 with value: 0.9726382488479263.\u001b[0m\n",
      "\u001b[32m[I 2021-12-05 17:30:31,501]\u001b[0m Trial 73 finished with value: 0.972926267281106 and parameters: {'lambda_l1': 0.6457870774670109, 'lambda_l2': 6.81001130347895e-06, 'num_leaves': 48, 'feature_fraction': 0.5572231915499997, 'bagging_fraction': 0.9575013701448202, 'bagging_freq': 4, 'min_child_samples': 9}. Best is trial 73 with value: 0.972926267281106.\u001b[0m\n",
      "\u001b[32m[I 2021-12-05 17:30:32,008]\u001b[0m Trial 74 finished with value: 0.9720622119815668 and parameters: {'lambda_l1': 0.5504966135120044, 'lambda_l2': 5.670109426565208e-06, 'num_leaves': 36, 'feature_fraction': 0.6479266471270414, 'bagging_fraction': 0.9452020361525572, 'bagging_freq': 4, 'min_child_samples': 10}. Best is trial 73 with value: 0.972926267281106.\u001b[0m\n",
      "\u001b[32m[I 2021-12-05 17:30:32,622]\u001b[0m Trial 75 finished with value: 0.9706221198156681 and parameters: {'lambda_l1': 0.5997080021895549, 'lambda_l2': 5.821904206421738e-06, 'num_leaves': 36, 'feature_fraction': 0.6741070845096273, 'bagging_fraction': 0.9462135828368256, 'bagging_freq': 4, 'min_child_samples': 17}. Best is trial 73 with value: 0.972926267281106.\u001b[0m\n",
      "\u001b[32m[I 2021-12-05 17:30:33,178]\u001b[0m Trial 76 finished with value: 0.9634216589861752 and parameters: {'lambda_l1': 3.4770961501824105, 'lambda_l2': 1.9577764431359388e-05, 'num_leaves': 17, 'feature_fraction': 0.5604613749484305, 'bagging_fraction': 0.9162209263578537, 'bagging_freq': 4, 'min_child_samples': 7}. Best is trial 73 with value: 0.972926267281106.\u001b[0m\n",
      "\u001b[32m[I 2021-12-05 17:30:33,704]\u001b[0m Trial 77 finished with value: 0.9735023041474654 and parameters: {'lambda_l1': 0.14788091406730547, 'lambda_l2': 2.339969509272981e-06, 'num_leaves': 46, 'feature_fraction': 0.6426213609435455, 'bagging_fraction': 0.8913543180076199, 'bagging_freq': 4, 'min_child_samples': 19}. Best is trial 77 with value: 0.9735023041474654.\u001b[0m\n",
      "\u001b[32m[I 2021-12-05 17:30:34,089]\u001b[0m Trial 78 finished with value: 0.9700460829493087 and parameters: {'lambda_l1': 0.135345503313433, 'lambda_l2': 3.107217791174823e-06, 'num_leaves': 24, 'feature_fraction': 0.5392984767544573, 'bagging_fraction': 0.961873365736155, 'bagging_freq': 4, 'min_child_samples': 23}. Best is trial 77 with value: 0.9735023041474654.\u001b[0m\n",
      "\u001b[32m[I 2021-12-05 17:30:34,580]\u001b[0m Trial 79 finished with value: 0.9703341013824884 and parameters: {'lambda_l1': 0.9774850674417829, 'lambda_l2': 1.7134627793403372e-06, 'num_leaves': 44, 'feature_fraction': 0.6163220423407738, 'bagging_fraction': 0.8786617614794499, 'bagging_freq': 4, 'min_child_samples': 28}. Best is trial 77 with value: 0.9735023041474654.\u001b[0m\n",
      "\u001b[32m[I 2021-12-05 17:30:35,089]\u001b[0m Trial 80 finished with value: 0.9711981566820277 and parameters: {'lambda_l1': 0.04837426688465521, 'lambda_l2': 6.305989977315844e-05, 'num_leaves': 48, 'feature_fraction': 0.6841798458987001, 'bagging_fraction': 0.9282471979687249, 'bagging_freq': 4, 'min_child_samples': 13}. Best is trial 77 with value: 0.9735023041474654.\u001b[0m\n",
      "\u001b[32m[I 2021-12-05 17:30:35,591]\u001b[0m Trial 81 finished with value: 0.9711981566820277 and parameters: {'lambda_l1': 0.40069646481969645, 'lambda_l2': 8.328613451349931e-06, 'num_leaves': 35, 'feature_fraction': 0.6487714664396962, 'bagging_fraction': 0.9408355261614544, 'bagging_freq': 4, 'min_child_samples': 18}. Best is trial 77 with value: 0.9735023041474654.\u001b[0m\n",
      "\u001b[32m[I 2021-12-05 17:30:35,998]\u001b[0m Trial 82 finished with value: 0.970910138248848 and parameters: {'lambda_l1': 0.7897429696760433, 'lambda_l2': 2.1785222826261896e-05, 'num_leaves': 28, 'feature_fraction': 0.5858828093515955, 'bagging_fraction': 0.8931084793546461, 'bagging_freq': 4, 'min_child_samples': 9}. Best is trial 77 with value: 0.9735023041474654.\u001b[0m\n",
      "\u001b[32m[I 2021-12-05 17:30:36,595]\u001b[0m Trial 83 finished with value: 0.9700460829493087 and parameters: {'lambda_l1': 2.5675986686527645, 'lambda_l2': 5.259762214212827e-06, 'num_leaves': 74, 'feature_fraction': 0.6421833002760985, 'bagging_fraction': 0.9548255990917495, 'bagging_freq': 4, 'min_child_samples': 14}. Best is trial 77 with value: 0.9735023041474654.\u001b[0m\n",
      "\u001b[32m[I 2021-12-05 17:30:36,892]\u001b[0m Trial 84 finished with value: 0.9570852534562212 and parameters: {'lambda_l1': 0.1940894101311974, 'lambda_l2': 0.00016684920263432138, 'num_leaves': 9, 'feature_fraction': 0.7030212064583772, 'bagging_fraction': 0.9871220401218246, 'bagging_freq': 5, 'min_child_samples': 22}. Best is trial 77 with value: 0.9735023041474654.\u001b[0m\n",
      "\u001b[32m[I 2021-12-05 17:30:37,371]\u001b[0m Trial 85 finished with value: 0.970910138248848 and parameters: {'lambda_l1': 0.017568425356795862, 'lambda_l2': 2.224965247823952e-06, 'num_leaves': 36, 'feature_fraction': 0.5594564280009335, 'bagging_fraction': 0.9133186583116589, 'bagging_freq': 3, 'min_child_samples': 20}. Best is trial 77 with value: 0.9735023041474654.\u001b[0m\n",
      "\u001b[32m[I 2021-12-05 17:30:37,953]\u001b[0m Trial 86 finished with value: 0.9732142857142857 and parameters: {'lambda_l1': 0.05542601011942152, 'lambda_l2': 1.1985433308966217e-06, 'num_leaves': 49, 'feature_fraction': 0.6118817118407475, 'bagging_fraction': 0.9703218375261076, 'bagging_freq': 4, 'min_child_samples': 5}. Best is trial 77 with value: 0.9735023041474654.\u001b[0m\n",
      "\u001b[32m[I 2021-12-05 17:30:38,555]\u001b[0m Trial 87 finished with value: 0.9706221198156681 and parameters: {'lambda_l1': 0.053626555888650826, 'lambda_l2': 1.0462152163368048e-06, 'num_leaves': 49, 'feature_fraction': 0.5414592021526214, 'bagging_fraction': 0.9678631243776025, 'bagging_freq': 4, 'min_child_samples': 5}. Best is trial 77 with value: 0.9735023041474654.\u001b[0m\n",
      "\u001b[32m[I 2021-12-05 17:30:39,296]\u001b[0m Trial 88 finished with value: 0.9694700460829493 and parameters: {'lambda_l1': 0.09473945908212403, 'lambda_l2': 1.0580142183719722e-05, 'num_leaves': 28, 'feature_fraction': 0.6170885438382645, 'bagging_fraction': 0.9403433149296749, 'bagging_freq': 3, 'min_child_samples': 12}. Best is trial 77 with value: 0.9735023041474654.\u001b[0m\n",
      "\u001b[32m[I 2021-12-05 17:30:40,183]\u001b[0m Trial 89 finished with value: 0.970910138248848 and parameters: {'lambda_l1': 1.182091393847112, 'lambda_l2': 3.2620261561953204e-05, 'num_leaves': 65, 'feature_fraction': 0.6660271650497003, 'bagging_fraction': 0.8646832226640687, 'bagging_freq': 4, 'min_child_samples': 7}. Best is trial 77 with value: 0.9735023041474654.\u001b[0m\n",
      "\u001b[32m[I 2021-12-05 17:30:40,760]\u001b[0m Trial 90 finished with value: 0.9717741935483871 and parameters: {'lambda_l1': 0.20863149286456956, 'lambda_l2': 7.826126499650882e-07, 'num_leaves': 48, 'feature_fraction': 0.5691328853040842, 'bagging_fraction': 0.9856159402561407, 'bagging_freq': 5, 'min_child_samples': 59}. Best is trial 77 with value: 0.9735023041474654.\u001b[0m\n"
     ]
    },
    {
     "name": "stderr",
     "output_type": "stream",
     "text": [
      "\u001b[32m[I 2021-12-05 17:30:41,366]\u001b[0m Trial 91 finished with value: 0.9723502304147466 and parameters: {'lambda_l1': 0.4214355024952114, 'lambda_l2': 4.996815465359579e-06, 'num_leaves': 60, 'feature_fraction': 0.5872108672103676, 'bagging_fraction': 0.9609655371766229, 'bagging_freq': 4, 'min_child_samples': 15}. Best is trial 77 with value: 0.9735023041474654.\u001b[0m\n",
      "\u001b[32m[I 2021-12-05 17:30:42,342]\u001b[0m Trial 92 finished with value: 0.9683179723502304 and parameters: {'lambda_l1': 0.39395204231018494, 'lambda_l2': 4.851635629314352e-06, 'num_leaves': 84, 'feature_fraction': 0.6520178294023455, 'bagging_fraction': 0.9991391679719834, 'bagging_freq': 4, 'min_child_samples': 15}. Best is trial 77 with value: 0.9735023041474654.\u001b[0m\n",
      "\u001b[32m[I 2021-12-05 17:30:42,927]\u001b[0m Trial 93 finished with value: 0.9726382488479263 and parameters: {'lambda_l1': 0.026329712677056447, 'lambda_l2': 3.6586883706108685e-07, 'num_leaves': 42, 'feature_fraction': 0.6100205103153677, 'bagging_fraction': 0.9730512783325209, 'bagging_freq': 4, 'min_child_samples': 19}. Best is trial 77 with value: 0.9735023041474654.\u001b[0m\n",
      "\u001b[32m[I 2021-12-05 17:30:43,559]\u001b[0m Trial 94 finished with value: 0.9694700460829493 and parameters: {'lambda_l1': 0.030349562644865172, 'lambda_l2': 2.524503573050686e-06, 'num_leaves': 61, 'feature_fraction': 0.5895897253553466, 'bagging_fraction': 0.9581356179761092, 'bagging_freq': 3, 'min_child_samples': 19}. Best is trial 77 with value: 0.9735023041474654.\u001b[0m\n",
      "\u001b[32m[I 2021-12-05 17:30:44,096]\u001b[0m Trial 95 finished with value: 0.9723502304147466 and parameters: {'lambda_l1': 0.144366269546605, 'lambda_l2': 1.7751357348346928e-08, 'num_leaves': 45, 'feature_fraction': 0.609694077529404, 'bagging_fraction': 0.9742306224837719, 'bagging_freq': 4, 'min_child_samples': 26}. Best is trial 77 with value: 0.9735023041474654.\u001b[0m\n",
      "\u001b[32m[I 2021-12-05 17:30:44,649]\u001b[0m Trial 96 finished with value: 0.9700460829493087 and parameters: {'lambda_l1': 2.2244757737637, 'lambda_l2': 1.5821893058325603e-08, 'num_leaves': 40, 'feature_fraction': 0.6101457685943241, 'bagging_fraction': 0.9317920012428609, 'bagging_freq': 4, 'min_child_samples': 26}. Best is trial 77 with value: 0.9735023041474654.\u001b[0m\n",
      "\u001b[32m[I 2021-12-05 17:30:45,334]\u001b[0m Trial 97 finished with value: 0.9726382488479263 and parameters: {'lambda_l1': 0.004884005929042395, 'lambda_l2': 2.7521607927757123e-07, 'num_leaves': 49, 'feature_fraction': 0.6303444364773345, 'bagging_fraction': 0.9047785075736938, 'bagging_freq': 4, 'min_child_samples': 16}. Best is trial 77 with value: 0.9735023041474654.\u001b[0m\n",
      "\u001b[32m[I 2021-12-05 17:30:45,875]\u001b[0m Trial 98 finished with value: 0.972926267281106 and parameters: {'lambda_l1': 0.01319484897282002, 'lambda_l2': 2.1914313513437366e-07, 'num_leaves': 48, 'feature_fraction': 0.6266480293218184, 'bagging_fraction': 0.8971667311936715, 'bagging_freq': 4, 'min_child_samples': 31}. Best is trial 77 with value: 0.9735023041474654.\u001b[0m\n",
      "\u001b[32m[I 2021-12-05 17:30:46,241]\u001b[0m Trial 99 finished with value: 0.9654377880184332 and parameters: {'lambda_l1': 0.004284869089512129, 'lambda_l2': 3.270322735396983e-07, 'num_leaves': 16, 'feature_fraction': 0.6305802797873812, 'bagging_fraction': 0.899584092953132, 'bagging_freq': 4, 'min_child_samples': 26}. Best is trial 77 with value: 0.9735023041474654.\u001b[0m\n"
     ]
    },
    {
     "name": "stdout",
     "output_type": "stream",
     "text": [
      "Number of finished trials: 100\n",
      "Best trial:\n",
      "  Value: 0.9735023041474654\n",
      "  Params: \n",
      "    lambda_l1: 0.14788091406730547\n",
      "    lambda_l2: 2.339969509272981e-06\n",
      "    num_leaves: 46\n",
      "    feature_fraction: 0.6426213609435455\n",
      "    bagging_fraction: 0.8913543180076199\n",
      "    bagging_freq: 4\n",
      "    min_child_samples: 19\n"
     ]
    }
   ],
   "source": [
    "study = optuna.create_study(direction=\"maximize\")\n",
    "study.optimize(objective, n_trials=100)\n",
    "print(\"Number of finished trials: {}\".format(len(study.trials)))\n",
    "\n",
    "print(\"Best trial:\")\n",
    "trial = study.best_trial\n",
    "\n",
    "print(\"  Value: {}\".format(trial.value))\n",
    "\n",
    "print(\"  Params: \")\n",
    "for key, value in trial.params.items():\n",
    "    print(\"    {}: {}\".format(key, value))"
   ]
  },
  {
   "cell_type": "markdown",
   "id": "8780c447",
   "metadata": {},
   "source": [
    "### validacion lightGBM con optimizacion de parametros "
   ]
  },
  {
   "cell_type": "code",
   "execution_count": 937,
   "id": "898ddff6",
   "metadata": {},
   "outputs": [],
   "source": [
    "train_data = lgb.Dataset(X_train, label=y_train)\n",
    "valid_data = lgb.Dataset(X_test, label=y_test, reference=train_data)"
   ]
  },
  {
   "cell_type": "code",
   "execution_count": 938,
   "id": "76848d4d",
   "metadata": {},
   "outputs": [],
   "source": [
    "## parametros para el modelo lightGBM search \n",
    "SEARCH_PARAMETROS = {'learning_rate': 0.4,\n",
    "                'max_depth': 15,\n",
    "                #'num_leaves': 32,\n",
    "                #'feature_fraction': 0.8,\n",
    "                'subsample': 0.2}\n",
    "\n",
    "FIXED_PARAMETROS={'objective': 'binary',\n",
    "             'metric': 'binary_logloss',\n",
    "             \"verbosity\": -1,\n",
    "             'is_unbalance':False,\n",
    "             'bagging_freq':1,\n",
    "             'boosting':'gbdt',\n",
    "             'num_boost_round':300,\n",
    "             \"lambda_l1\":0.14788091406730547,\n",
    "             \"lambda_l2\":2.339969509272981e-06,\n",
    "             \"num_leaves\":46,\n",
    "             \"feature_fraction\":0.6426213609435455,\n",
    "             \"bagging_fraction\":0.8913543180076199,\n",
    "             \"bagging_freq\":4,\n",
    "             \"min_child_samples\":19,\n",
    "             'early_stopping_rounds':30}\n",
    "\n"
   ]
  },
  {
   "cell_type": "code",
   "execution_count": 939,
   "id": "ce1b2740",
   "metadata": {},
   "outputs": [],
   "source": [
    "parametros = {'metric':FIXED_PARAMETROS['metric'],\n",
    "             'objective':FIXED_PARAMETROS['objective'],**SEARCH_PARAMETROS}"
   ]
  },
  {
   "cell_type": "code",
   "execution_count": 940,
   "id": "513b6b3c",
   "metadata": {},
   "outputs": [
    {
     "name": "stderr",
     "output_type": "stream",
     "text": [
      "C:\\Users\\d84088661\\Anaconda3\\lib\\site-packages\\lightgbm\\engine.py:181: UserWarning: 'early_stopping_rounds' argument is deprecated and will be removed in a future release of LightGBM. Pass 'early_stopping()' callback via 'callbacks' argument instead.\n",
      "  _log_warning(\"'early_stopping_rounds' argument is deprecated and will be removed in a future release of LightGBM. \"\n"
     ]
    },
    {
     "name": "stdout",
     "output_type": "stream",
     "text": [
      "[LightGBM] [Warning] Accuracy may be bad since you didn't explicitly set num_leaves OR 2^max_depth > num_leaves. (num_leaves=31).\n",
      "[LightGBM] [Warning] Accuracy may be bad since you didn't explicitly set num_leaves OR 2^max_depth > num_leaves. (num_leaves=31).\n",
      "[LightGBM] [Info] Number of positive: 12110, number of negative: 12110\n",
      "[LightGBM] [Warning] Auto-choosing col-wise multi-threading, the overhead of testing was 0.001221 seconds.\n",
      "You can set `force_col_wise=true` to remove the overhead.\n",
      "[LightGBM] [Info] Total Bins 1780\n",
      "[LightGBM] [Info] Number of data points in the train set: 24220, number of used features: 7\n",
      "[LightGBM] [Warning] Accuracy may be bad since you didn't explicitly set num_leaves OR 2^max_depth > num_leaves. (num_leaves=31).\n",
      "[LightGBM] [Info] [binary:BoostFromScore]: pavg=0.500000 -> initscore=0.000000\n",
      "[1]\tvalid's binary_logloss: 0.442207\n",
      "Training until validation scores don't improve for 30 rounds\n",
      "[2]\tvalid's binary_logloss: 0.327209\n",
      "[3]\tvalid's binary_logloss: 0.257129\n",
      "[4]\tvalid's binary_logloss: 0.213397\n",
      "[5]\tvalid's binary_logloss: 0.182361\n",
      "[6]\tvalid's binary_logloss: 0.161243\n",
      "[7]\tvalid's binary_logloss: 0.141924\n",
      "[8]\tvalid's binary_logloss: 0.132808\n",
      "[9]\tvalid's binary_logloss: 0.123555\n",
      "[10]\tvalid's binary_logloss: 0.115055\n",
      "[11]\tvalid's binary_logloss: 0.112175\n",
      "[12]\tvalid's binary_logloss: 0.107143\n",
      "[13]\tvalid's binary_logloss: 0.105902\n",
      "[14]\tvalid's binary_logloss: 0.103766\n",
      "[15]\tvalid's binary_logloss: 0.1006\n",
      "[16]\tvalid's binary_logloss: 0.0988305\n",
      "[17]\tvalid's binary_logloss: 0.099366\n",
      "[18]\tvalid's binary_logloss: 0.0981861\n",
      "[19]\tvalid's binary_logloss: 0.0965632\n",
      "[20]\tvalid's binary_logloss: 0.0949749\n",
      "[21]\tvalid's binary_logloss: 0.093872\n",
      "[22]\tvalid's binary_logloss: 0.0927446\n",
      "[23]\tvalid's binary_logloss: 0.0921066\n",
      "[24]\tvalid's binary_logloss: 0.092948\n",
      "[25]\tvalid's binary_logloss: 0.0927523\n",
      "[26]\tvalid's binary_logloss: 0.0920227\n",
      "[27]\tvalid's binary_logloss: 0.0925016\n",
      "[28]\tvalid's binary_logloss: 0.0907594\n",
      "[29]\tvalid's binary_logloss: 0.0897241\n",
      "[30]\tvalid's binary_logloss: 0.0882061\n",
      "[31]\tvalid's binary_logloss: 0.0881477\n",
      "[32]\tvalid's binary_logloss: 0.0890209\n",
      "[33]\tvalid's binary_logloss: 0.0884525\n",
      "[34]\tvalid's binary_logloss: 0.0883141\n",
      "[35]\tvalid's binary_logloss: 0.0882203\n",
      "[36]\tvalid's binary_logloss: 0.0888599\n",
      "[37]\tvalid's binary_logloss: 0.0881135\n",
      "[38]\tvalid's binary_logloss: 0.0887693\n",
      "[39]\tvalid's binary_logloss: 0.0885152\n",
      "[40]\tvalid's binary_logloss: 0.0879976\n",
      "[41]\tvalid's binary_logloss: 0.0878432\n",
      "[42]\tvalid's binary_logloss: 0.0880237\n",
      "[43]\tvalid's binary_logloss: 0.0879914\n",
      "[44]\tvalid's binary_logloss: 0.0884149\n",
      "[45]\tvalid's binary_logloss: 0.08874\n",
      "[46]\tvalid's binary_logloss: 0.0890996\n",
      "[47]\tvalid's binary_logloss: 0.0891556\n",
      "[48]\tvalid's binary_logloss: 0.0898893\n",
      "[49]\tvalid's binary_logloss: 0.0889332\n",
      "[50]\tvalid's binary_logloss: 0.0890526\n",
      "[51]\tvalid's binary_logloss: 0.0890866\n",
      "[52]\tvalid's binary_logloss: 0.0893873\n",
      "[53]\tvalid's binary_logloss: 0.089494\n",
      "[54]\tvalid's binary_logloss: 0.0894121\n",
      "[55]\tvalid's binary_logloss: 0.0894979\n",
      "[56]\tvalid's binary_logloss: 0.0895273\n",
      "[57]\tvalid's binary_logloss: 0.0896927\n",
      "[58]\tvalid's binary_logloss: 0.089976\n",
      "[59]\tvalid's binary_logloss: 0.0895406\n",
      "[60]\tvalid's binary_logloss: 0.0904106\n",
      "[61]\tvalid's binary_logloss: 0.0917481\n",
      "[62]\tvalid's binary_logloss: 0.0918683\n",
      "[63]\tvalid's binary_logloss: 0.0922365\n",
      "[64]\tvalid's binary_logloss: 0.0924015\n",
      "[65]\tvalid's binary_logloss: 0.0930181\n",
      "[66]\tvalid's binary_logloss: 0.0931045\n",
      "[67]\tvalid's binary_logloss: 0.09347\n",
      "[68]\tvalid's binary_logloss: 0.0933264\n",
      "[69]\tvalid's binary_logloss: 0.0941251\n",
      "[70]\tvalid's binary_logloss: 0.0947823\n",
      "[71]\tvalid's binary_logloss: 0.0954652\n",
      "Early stopping, best iteration is:\n",
      "[41]\tvalid's binary_logloss: 0.0878432\n"
     ]
    }
   ],
   "source": [
    "model_opt = lgb.train(parametros, train_data,                     \n",
    "                     valid_sets=[valid_data],\n",
    "                     num_boost_round=FIXED_PARAMETROS['num_boost_round'],\n",
    "                     early_stopping_rounds=FIXED_PARAMETROS['early_stopping_rounds'],\n",
    "                     valid_names=['valid'])"
   ]
  },
  {
   "cell_type": "code",
   "execution_count": 941,
   "id": "2d76a6a9",
   "metadata": {},
   "outputs": [],
   "source": [
    "ypred_opt_test = model_opt.predict(X_val, num_iteration=model_opt.best_iteration)"
   ]
  },
  {
   "cell_type": "code",
   "execution_count": 942,
   "id": "7d9a0d62",
   "metadata": {},
   "outputs": [],
   "source": [
    "#convert into binary values\t\n",
    "for i in range(0,len(X_val)):\t\n",
    "    if ypred_opt_test[i]>=.5:       # setting threshold to .5\t\n",
    "            ypred_opt_test[i]=1\n",
    "    else:\n",
    "        ypred_opt_test[i]=0"
   ]
  },
  {
   "cell_type": "code",
   "execution_count": 943,
   "id": "0ef6a0a2",
   "metadata": {},
   "outputs": [
    {
     "name": "stdout",
     "output_type": "stream",
     "text": [
      "41\n"
     ]
    }
   ],
   "source": [
    "# conocer el numero de iteraciones realizadas por el modelo\n",
    "print(model_opt.best_iteration)"
   ]
  },
  {
   "cell_type": "code",
   "execution_count": 944,
   "id": "8e16f760",
   "metadata": {},
   "outputs": [
    {
     "name": "stdout",
     "output_type": "stream",
     "text": [
      "              precision    recall  f1-score   support\n",
      "\n",
      "           0       0.99      0.99      0.99      1335\n",
      "           1       0.63      0.63      0.63        54\n",
      "\n",
      "    accuracy                           0.97      1389\n",
      "   macro avg       0.81      0.81      0.81      1389\n",
      "weighted avg       0.97      0.97      0.97      1389\n",
      "\n"
     ]
    }
   ],
   "source": [
    "print(classification_report(y_val, ypred_opt_test))"
   ]
  },
  {
   "cell_type": "code",
   "execution_count": 945,
   "id": "1df8eee0",
   "metadata": {},
   "outputs": [
    {
     "data": {
      "text/plain": [
       "0.9712023038156947"
      ]
     },
     "execution_count": 945,
     "metadata": {},
     "output_type": "execute_result"
    }
   ],
   "source": [
    "accuracy_lgbm_opt=accuracy_score(y_val,ypred_opt_test)\n",
    "accuracy_lgbm_opt"
   ]
  },
  {
   "cell_type": "code",
   "execution_count": 946,
   "id": "a1637727",
   "metadata": {},
   "outputs": [
    {
     "data": {
      "text/plain": [
       "0.9946487024802251"
      ]
     },
     "execution_count": 946,
     "metadata": {},
     "output_type": "execute_result"
    }
   ],
   "source": [
    "logLoss_lgbm_opt=log_loss(y_val, ypred_opt_test)\n",
    "logLoss_lgbm_opt"
   ]
  },
  {
   "cell_type": "code",
   "execution_count": 947,
   "id": "30cf8365",
   "metadata": {},
   "outputs": [
    {
     "data": {
      "text/plain": [
       "<AxesSubplot:>"
      ]
     },
     "execution_count": 947,
     "metadata": {},
     "output_type": "execute_result"
    },
    {
     "data": {
      "image/png": "[encoded data removed]",
      "text/plain": [
       "<Figure size 432x288 with 2 Axes>"
      ]
     },
     "metadata": {
      "needs_background": "light"
     },
     "output_type": "display_data"
    }
   ],
   "source": [
    "#confusion Matrix\n",
    "plt.figure()\n",
    "cf_matrix_new =confusion_matrix(y_val, ypred_opt_test,labels = [0,1])\n",
    "group_names = [\"True Neg\",\"False Pos\",\"False Neg\",\"True Pos\"]\n",
    "group_counts = [\"{0:0.0f}\".format(value) for value in\n",
    "                cf_matrix_new.flatten()]\n",
    "group_percentages = [\"{0:.2%}\".format(value) for value in\n",
    "                     cf_matrix_new.flatten()/np.sum(cf_matrix_new)]\n",
    "labels = [f\"{v1}\\n{v2}\\n{v3}\" for v1, v2, v3 in\n",
    "          zip(group_names,group_counts,group_percentages)]\n",
    "labels = np.asarray(labels).reshape(2,2)\n",
    "sns.heatmap(cf_matrix_new, annot=labels, fmt='', cmap='Blues')"
   ]
  },
  {
   "cell_type": "code",
   "execution_count": 948,
   "id": "fbcfcd49",
   "metadata": {},
   "outputs": [
    {
     "data": {
      "image/png": "[encoded data removed]",
      "text/plain": [
       "<Figure size 396x396 with 1 Axes>"
      ]
     },
     "metadata": {
      "needs_background": "light"
     },
     "output_type": "display_data"
    }
   ],
   "source": [
    "### curva roc\n",
    "roc_lgbm_opt = metrics.roc_curve(y_val, ypred_opt_test)\n",
    "auc_lgbm_opt = metrics.auc( roc_lgbm_opt[0], roc_lgbm_opt[1] )\n",
    "\n",
    "\n",
    "plt.figure(figsize=(5.5,5.5))\n",
    "plt.plot(roc_lgbm_opt[0], roc_lgbm_opt[1], lw=1,label=f\"ROC lightGBM Optuna (AUC = {auc_lgbm_opt:0.2f})\")\n",
    "\n",
    "plt.plot([0, 1], [0, 1], color='navy', lw=1.4, linestyle='--', label='Random guess')\n",
    "plt.xlabel('False Positive Rate')\n",
    "plt.ylabel('True Positive Rate')\n",
    "plt.title('ROC curves')\n",
    "plt.legend(loc='lower right')\n",
    "plt.gca().set_aspect(1)\n",
    "plt.grid(ls='--', alpha=0.6, lw=0.4)"
   ]
  },
  {
   "cell_type": "markdown",
   "id": "7cae49a1",
   "metadata": {},
   "source": [
    "### Modelo 2 probabiliad del estado "
   ]
  },
  {
   "cell_type": "code",
   "execution_count": 633,
   "id": "bb742ead",
   "metadata": {},
   "outputs": [
    {
     "data": {
      "text/html": [
       "<div>\n",
       "<style scoped>\n",
       "    .dataframe tbody tr th:only-of-type {\n",
       "        vertical-align: middle;\n",
       "    }\n",
       "\n",
       "    .dataframe tbody tr th {\n",
       "        vertical-align: top;\n",
       "    }\n",
       "\n",
       "    .dataframe thead th {\n",
       "        text-align: right;\n",
       "    }\n",
       "</style>\n",
       "<table border=\"1\" class=\"dataframe\">\n",
       "  <thead>\n",
       "    <tr style=\"text-align: right;\">\n",
       "      <th></th>\n",
       "      <th>Fecha_Orden</th>\n",
       "      <th>Fecha_Entrega</th>\n",
       "      <th>Fecha_Aprobacion</th>\n",
       "      <th>Categoria</th>\n",
       "      <th>Subcategoria</th>\n",
       "      <th>Proveedor</th>\n",
       "      <th>Usuario</th>\n",
       "      <th>Usuario_Aprobador</th>\n",
       "      <th>Direccion_Pedido</th>\n",
       "      <th>Presupuesto</th>\n",
       "      <th>Portal</th>\n",
       "      <th>Estado</th>\n",
       "      <th>Producto_Servicio</th>\n",
       "      <th>Cantidad_Pedida</th>\n",
       "      <th>Precio_Unitario</th>\n",
       "      <th>Total_IVA</th>\n",
       "      <th>Fecha_Ultimo_Movimiento</th>\n",
       "      <th>Dias_Trasncurridos_Entrega</th>\n",
       "      <th>Estado_label</th>\n",
       "    </tr>\n",
       "  </thead>\n",
       "  <tbody>\n",
       "    <tr>\n",
       "      <th>2</th>\n",
       "      <td>2021-11-10</td>\n",
       "      <td>2021-11-10</td>\n",
       "      <td>2021-11-10</td>\n",
       "      <td>Alimentos y Bebidas</td>\n",
       "      <td>Alimentos preparados y conservados</td>\n",
       "      <td>Proveedor 3</td>\n",
       "      <td>Usuario solicitante 3</td>\n",
       "      <td>Usuario Aprobador 3</td>\n",
       "      <td>Direccion 2</td>\n",
       "      <td>Presupuesto 3</td>\n",
       "      <td>Portal comprador 1</td>\n",
       "      <td>Orden en Proceso</td>\n",
       "      <td>Lasagna</td>\n",
       "      <td>10.0</td>\n",
       "      <td>155</td>\n",
       "      <td>155</td>\n",
       "      <td>11/10/2021</td>\n",
       "      <td>0.0</td>\n",
       "      <td>0</td>\n",
       "    </tr>\n",
       "    <tr>\n",
       "      <th>3</th>\n",
       "      <td>2021-11-10</td>\n",
       "      <td>2021-11-12</td>\n",
       "      <td>2021-11-10</td>\n",
       "      <td>Alimentos y Bebidas</td>\n",
       "      <td>Productos de carne y aves de corral</td>\n",
       "      <td>Proveedor 4</td>\n",
       "      <td>Usuario solicitante 4</td>\n",
       "      <td>Usuario Aprobador 4</td>\n",
       "      <td>Direccion 3</td>\n",
       "      <td>Presupuesto 4</td>\n",
       "      <td>Portal comprador 2</td>\n",
       "      <td>Orden en Proceso</td>\n",
       "      <td>Pecho de Res Limpio/Sin Grasa</td>\n",
       "      <td>50.0</td>\n",
       "      <td>22</td>\n",
       "      <td>1100000</td>\n",
       "      <td>11/10/2021</td>\n",
       "      <td>2.0</td>\n",
       "      <td>0</td>\n",
       "    </tr>\n",
       "    <tr>\n",
       "      <th>18</th>\n",
       "      <td>2021-11-09</td>\n",
       "      <td>2021-11-10</td>\n",
       "      <td>2021-11-09</td>\n",
       "      <td>Alimentos y Bebidas</td>\n",
       "      <td>Productos de carne y aves de corral</td>\n",
       "      <td>Proveedor 11</td>\n",
       "      <td>Usuario solicitante 4</td>\n",
       "      <td>Usuario Aprobador 4</td>\n",
       "      <td>Direccion 3</td>\n",
       "      <td>Presupuesto 8</td>\n",
       "      <td>Portal comprador 2</td>\n",
       "      <td>Orden en Proceso</td>\n",
       "      <td>Costilla San Luis</td>\n",
       "      <td>100.0</td>\n",
       "      <td>2498</td>\n",
       "      <td>2498000</td>\n",
       "      <td>11/9/2021</td>\n",
       "      <td>1.0</td>\n",
       "      <td>0</td>\n",
       "    </tr>\n",
       "    <tr>\n",
       "      <th>22</th>\n",
       "      <td>2021-11-09</td>\n",
       "      <td>2021-11-10</td>\n",
       "      <td>2021-11-09</td>\n",
       "      <td>Alimentos y Bebidas</td>\n",
       "      <td>Productos de carne y aves de corral</td>\n",
       "      <td>Proveedor 4</td>\n",
       "      <td>Usuario solicitante 4</td>\n",
       "      <td>Usuario Aprobador 4</td>\n",
       "      <td>Direccion 3</td>\n",
       "      <td>Presupuesto 4</td>\n",
       "      <td>Portal comprador 2</td>\n",
       "      <td>Orden en Proceso</td>\n",
       "      <td>Pecho Limpio + Grasa</td>\n",
       "      <td>50.0</td>\n",
       "      <td>205</td>\n",
       "      <td>1025000</td>\n",
       "      <td>11/9/2021</td>\n",
       "      <td>1.0</td>\n",
       "      <td>0</td>\n",
       "    </tr>\n",
       "    <tr>\n",
       "      <th>23</th>\n",
       "      <td>2021-11-09</td>\n",
       "      <td>2021-11-10</td>\n",
       "      <td>2021-11-09</td>\n",
       "      <td>Alimentos y Bebidas</td>\n",
       "      <td>Bebidas</td>\n",
       "      <td>Proveedor 15</td>\n",
       "      <td>Usuario solicitante 4</td>\n",
       "      <td>Usuario Aprobador 4</td>\n",
       "      <td>Direccion 3</td>\n",
       "      <td>Presupuesto 10</td>\n",
       "      <td>Portal comprador 2</td>\n",
       "      <td>Orden en Proceso</td>\n",
       "      <td>COCA COLA ORIGINAL  3LT PET 6 UND</td>\n",
       "      <td>6.0</td>\n",
       "      <td>27059</td>\n",
       "      <td>1932</td>\n",
       "      <td>11/9/2021</td>\n",
       "      <td>1.0</td>\n",
       "      <td>0</td>\n",
       "    </tr>\n",
       "    <tr>\n",
       "      <th>...</th>\n",
       "      <td>...</td>\n",
       "      <td>...</td>\n",
       "      <td>...</td>\n",
       "      <td>...</td>\n",
       "      <td>...</td>\n",
       "      <td>...</td>\n",
       "      <td>...</td>\n",
       "      <td>...</td>\n",
       "      <td>...</td>\n",
       "      <td>...</td>\n",
       "      <td>...</td>\n",
       "      <td>...</td>\n",
       "      <td>...</td>\n",
       "      <td>...</td>\n",
       "      <td>...</td>\n",
       "      <td>...</td>\n",
       "      <td>...</td>\n",
       "      <td>...</td>\n",
       "      <td>...</td>\n",
       "    </tr>\n",
       "    <tr>\n",
       "      <th>23076</th>\n",
       "      <td>2018-05-01</td>\n",
       "      <td>NaT</td>\n",
       "      <td>2018-05-01</td>\n",
       "      <td>Vigilancia y seguridad industrial</td>\n",
       "      <td>Seguridad y protección personal</td>\n",
       "      <td>Proveedor 229</td>\n",
       "      <td>Usuario solicitante 131</td>\n",
       "      <td>Usuario Aprobador 70</td>\n",
       "      <td>Direccion 81</td>\n",
       "      <td>Presupuesto 918</td>\n",
       "      <td>Portal comprador 8</td>\n",
       "      <td>Recibido</td>\n",
       "      <td>Tapabocas</td>\n",
       "      <td>3.0</td>\n",
       "      <td>84</td>\n",
       "      <td>300</td>\n",
       "      <td>5/1/2018</td>\n",
       "      <td>NaN</td>\n",
       "      <td>0</td>\n",
       "    </tr>\n",
       "    <tr>\n",
       "      <th>23077</th>\n",
       "      <td>2018-04-30</td>\n",
       "      <td>NaT</td>\n",
       "      <td>2018-05-01</td>\n",
       "      <td>Vigilancia y seguridad industrial</td>\n",
       "      <td>Seguridad y protección personal</td>\n",
       "      <td>Proveedor 229</td>\n",
       "      <td>Usuario solicitante 131</td>\n",
       "      <td>Usuario Aprobador 70</td>\n",
       "      <td>Direccion 81</td>\n",
       "      <td>Presupuesto 918</td>\n",
       "      <td>Portal comprador 8</td>\n",
       "      <td>Recibido</td>\n",
       "      <td>Tapabocas</td>\n",
       "      <td>1.0</td>\n",
       "      <td>84</td>\n",
       "      <td>100</td>\n",
       "      <td>5/1/2018</td>\n",
       "      <td>NaN</td>\n",
       "      <td>0</td>\n",
       "    </tr>\n",
       "    <tr>\n",
       "      <th>23078</th>\n",
       "      <td>2018-04-30</td>\n",
       "      <td>NaT</td>\n",
       "      <td>2018-05-01</td>\n",
       "      <td>Aseo, Cafetería y Oficina</td>\n",
       "      <td>Elementos de papelería</td>\n",
       "      <td>Proveedor 229</td>\n",
       "      <td>Usuario solicitante 131</td>\n",
       "      <td>Usuario Aprobador 70</td>\n",
       "      <td>Direccion 81</td>\n",
       "      <td>Presupuesto 918</td>\n",
       "      <td>Portal comprador 8</td>\n",
       "      <td>Recibido</td>\n",
       "      <td>Grapadora</td>\n",
       "      <td>8.0</td>\n",
       "      <td>33613</td>\n",
       "      <td>320</td>\n",
       "      <td>5/1/2018</td>\n",
       "      <td>NaN</td>\n",
       "      <td>0</td>\n",
       "    </tr>\n",
       "    <tr>\n",
       "      <th>23079</th>\n",
       "      <td>2018-04-30</td>\n",
       "      <td>NaT</td>\n",
       "      <td>2018-05-01</td>\n",
       "      <td>Aseo, Cafetería y Oficina</td>\n",
       "      <td>Elementos de papelería</td>\n",
       "      <td>Proveedor 229</td>\n",
       "      <td>Usuario solicitante 131</td>\n",
       "      <td>Usuario Aprobador 70</td>\n",
       "      <td>Direccion 81</td>\n",
       "      <td>Presupuesto 918</td>\n",
       "      <td>Portal comprador 8</td>\n",
       "      <td>Recibido</td>\n",
       "      <td>Lapicero Negro</td>\n",
       "      <td>1.0</td>\n",
       "      <td>588</td>\n",
       "      <td>700</td>\n",
       "      <td>5/1/2018</td>\n",
       "      <td>NaN</td>\n",
       "      <td>0</td>\n",
       "    </tr>\n",
       "    <tr>\n",
       "      <th>23082</th>\n",
       "      <td>2018-04-30</td>\n",
       "      <td>NaT</td>\n",
       "      <td>2018-04-30</td>\n",
       "      <td>Aseo, Cafetería y Oficina</td>\n",
       "      <td>Elementos de papelería</td>\n",
       "      <td>Proveedor 229</td>\n",
       "      <td>Usuario solicitante 131</td>\n",
       "      <td>Usuario Aprobador 70</td>\n",
       "      <td>Direccion 81</td>\n",
       "      <td>Presupuesto 918</td>\n",
       "      <td>Portal comprador 8</td>\n",
       "      <td>Recibido</td>\n",
       "      <td>Grapadora</td>\n",
       "      <td>5.0</td>\n",
       "      <td>33613</td>\n",
       "      <td>200</td>\n",
       "      <td>5/1/2018</td>\n",
       "      <td>NaN</td>\n",
       "      <td>0</td>\n",
       "    </tr>\n",
       "  </tbody>\n",
       "</table>\n",
       "<p>17360 rows × 19 columns</p>\n",
       "</div>"
      ],
      "text/plain": [
       "      Fecha_Orden Fecha_Entrega Fecha_Aprobacion  \\\n",
       "2      2021-11-10    2021-11-10       2021-11-10   \n",
       "3      2021-11-10    2021-11-12       2021-11-10   \n",
       "18     2021-11-09    2021-11-10       2021-11-09   \n",
       "22     2021-11-09    2021-11-10       2021-11-09   \n",
       "23     2021-11-09    2021-11-10       2021-11-09   \n",
       "...           ...           ...              ...   \n",
       "23076  2018-05-01           NaT       2018-05-01   \n",
       "23077  2018-04-30           NaT       2018-05-01   \n",
       "23078  2018-04-30           NaT       2018-05-01   \n",
       "23079  2018-04-30           NaT       2018-05-01   \n",
       "23082  2018-04-30           NaT       2018-04-30   \n",
       "\n",
       "                               Categoria                         Subcategoria  \\\n",
       "2                    Alimentos y Bebidas   Alimentos preparados y conservados   \n",
       "3                    Alimentos y Bebidas  Productos de carne y aves de corral   \n",
       "18                   Alimentos y Bebidas  Productos de carne y aves de corral   \n",
       "22                   Alimentos y Bebidas  Productos de carne y aves de corral   \n",
       "23                   Alimentos y Bebidas                              Bebidas   \n",
       "...                                  ...                                  ...   \n",
       "23076  Vigilancia y seguridad industrial      Seguridad y protección personal   \n",
       "23077  Vigilancia y seguridad industrial      Seguridad y protección personal   \n",
       "23078          Aseo, Cafetería y Oficina               Elementos de papelería   \n",
       "23079          Aseo, Cafetería y Oficina               Elementos de papelería   \n",
       "23082          Aseo, Cafetería y Oficina               Elementos de papelería   \n",
       "\n",
       "           Proveedor                  Usuario     Usuario_Aprobador  \\\n",
       "2        Proveedor 3    Usuario solicitante 3   Usuario Aprobador 3   \n",
       "3        Proveedor 4    Usuario solicitante 4   Usuario Aprobador 4   \n",
       "18      Proveedor 11    Usuario solicitante 4   Usuario Aprobador 4   \n",
       "22       Proveedor 4    Usuario solicitante 4   Usuario Aprobador 4   \n",
       "23      Proveedor 15    Usuario solicitante 4   Usuario Aprobador 4   \n",
       "...              ...                      ...                   ...   \n",
       "23076  Proveedor 229  Usuario solicitante 131  Usuario Aprobador 70   \n",
       "23077  Proveedor 229  Usuario solicitante 131  Usuario Aprobador 70   \n",
       "23078  Proveedor 229  Usuario solicitante 131  Usuario Aprobador 70   \n",
       "23079  Proveedor 229  Usuario solicitante 131  Usuario Aprobador 70   \n",
       "23082  Proveedor 229  Usuario solicitante 131  Usuario Aprobador 70   \n",
       "\n",
       "      Direccion_Pedido      Presupuesto              Portal            Estado  \\\n",
       "2          Direccion 2    Presupuesto 3  Portal comprador 1  Orden en Proceso   \n",
       "3          Direccion 3    Presupuesto 4  Portal comprador 2  Orden en Proceso   \n",
       "18         Direccion 3    Presupuesto 8  Portal comprador 2  Orden en Proceso   \n",
       "22         Direccion 3    Presupuesto 4  Portal comprador 2  Orden en Proceso   \n",
       "23         Direccion 3   Presupuesto 10  Portal comprador 2  Orden en Proceso   \n",
       "...                ...              ...                 ...               ...   \n",
       "23076     Direccion 81  Presupuesto 918  Portal comprador 8          Recibido   \n",
       "23077     Direccion 81  Presupuesto 918  Portal comprador 8          Recibido   \n",
       "23078     Direccion 81  Presupuesto 918  Portal comprador 8          Recibido   \n",
       "23079     Direccion 81  Presupuesto 918  Portal comprador 8          Recibido   \n",
       "23082     Direccion 81  Presupuesto 918  Portal comprador 8          Recibido   \n",
       "\n",
       "                       Producto_Servicio  Cantidad_Pedida  Precio_Unitario  \\\n",
       "2                                Lasagna             10.0              155   \n",
       "3          Pecho de Res Limpio/Sin Grasa             50.0               22   \n",
       "18                     Costilla San Luis            100.0             2498   \n",
       "22                  Pecho Limpio + Grasa             50.0              205   \n",
       "23     COCA COLA ORIGINAL  3LT PET 6 UND              6.0            27059   \n",
       "...                                  ...              ...              ...   \n",
       "23076                          Tapabocas              3.0               84   \n",
       "23077                          Tapabocas              1.0               84   \n",
       "23078                          Grapadora              8.0            33613   \n",
       "23079                     Lapicero Negro              1.0              588   \n",
       "23082                          Grapadora              5.0            33613   \n",
       "\n",
       "       Total_IVA Fecha_Ultimo_Movimiento  Dias_Trasncurridos_Entrega  \\\n",
       "2            155              11/10/2021                         0.0   \n",
       "3        1100000              11/10/2021                         2.0   \n",
       "18       2498000               11/9/2021                         1.0   \n",
       "22       1025000               11/9/2021                         1.0   \n",
       "23          1932               11/9/2021                         1.0   \n",
       "...          ...                     ...                         ...   \n",
       "23076        300                5/1/2018                         NaN   \n",
       "23077        100                5/1/2018                         NaN   \n",
       "23078        320                5/1/2018                         NaN   \n",
       "23079        700                5/1/2018                         NaN   \n",
       "23082        200                5/1/2018                         NaN   \n",
       "\n",
       "       Estado_label  \n",
       "2                 0  \n",
       "3                 0  \n",
       "18                0  \n",
       "22                0  \n",
       "23                0  \n",
       "...             ...  \n",
       "23076             0  \n",
       "23077             0  \n",
       "23078             0  \n",
       "23079             0  \n",
       "23082             0  \n",
       "\n",
       "[17360 rows x 19 columns]"
      ]
     },
     "execution_count": 633,
     "metadata": {},
     "output_type": "execute_result"
    }
   ],
   "source": [
    "df"
   ]
  },
  {
   "cell_type": "code",
   "execution_count": 646,
   "id": "8572eb36",
   "metadata": {},
   "outputs": [
    {
     "data": {
      "text/plain": [
       "Alimentos y Bebidas                  0.393376\n",
       "Vigilancia y seguridad industrial    0.386694\n",
       "Aseo, Cafetería y Oficina            0.219931\n",
       "Name: Categoria, dtype: float64"
      ]
     },
     "execution_count": 646,
     "metadata": {},
     "output_type": "execute_result"
    }
   ],
   "source": [
    "df[\"Categoria\"].value_counts(normalize=True)"
   ]
  },
  {
   "cell_type": "code",
   "execution_count": 647,
   "id": "049b41b5",
   "metadata": {},
   "outputs": [],
   "source": [
    "## crear un nuevo dataset con los eventos que no fueron rechazados, Estado_label =0 \n",
    "df_mo2 = df[df.Estado_label == 0]"
   ]
  },
  {
   "cell_type": "code",
   "execution_count": 648,
   "id": "0874aa8a",
   "metadata": {},
   "outputs": [],
   "source": [
    "## selecionamos del dataset los estados que nos interesan predecir la probabilidad\n",
    "estados = ['Recibido','Cancelado','Finalizado Incompleto','Recibido Parcial']\n",
    "\n",
    "df_mo2 = df_mo2[df_mo2.Estado.isin(estados)]"
   ]
  },
  {
   "cell_type": "code",
   "execution_count": 652,
   "id": "2f23dc4a",
   "metadata": {},
   "outputs": [
    {
     "data": {
      "text/html": [
       "<div>\n",
       "<style scoped>\n",
       "    .dataframe tbody tr th:only-of-type {\n",
       "        vertical-align: middle;\n",
       "    }\n",
       "\n",
       "    .dataframe tbody tr th {\n",
       "        vertical-align: top;\n",
       "    }\n",
       "\n",
       "    .dataframe thead th {\n",
       "        text-align: right;\n",
       "    }\n",
       "</style>\n",
       "<table border=\"1\" class=\"dataframe\">\n",
       "  <thead>\n",
       "    <tr style=\"text-align: right;\">\n",
       "      <th></th>\n",
       "      <th>Fecha_Orden</th>\n",
       "      <th>Fecha_Entrega</th>\n",
       "      <th>Fecha_Aprobacion</th>\n",
       "      <th>Categoria</th>\n",
       "      <th>Subcategoria</th>\n",
       "      <th>Proveedor</th>\n",
       "      <th>Usuario</th>\n",
       "      <th>Usuario_Aprobador</th>\n",
       "      <th>Direccion_Pedido</th>\n",
       "      <th>Presupuesto</th>\n",
       "      <th>Portal</th>\n",
       "      <th>Estado</th>\n",
       "      <th>Producto_Servicio</th>\n",
       "      <th>Cantidad_Pedida</th>\n",
       "      <th>Precio_Unitario</th>\n",
       "      <th>Total_IVA</th>\n",
       "      <th>Fecha_Ultimo_Movimiento</th>\n",
       "      <th>Dias_Trasncurridos_Entrega</th>\n",
       "      <th>Estado_label</th>\n",
       "    </tr>\n",
       "  </thead>\n",
       "  <tbody>\n",
       "    <tr>\n",
       "      <th>46</th>\n",
       "      <td>2021-11-09</td>\n",
       "      <td>2021-11-09</td>\n",
       "      <td>2021-11-09</td>\n",
       "      <td>Alimentos y Bebidas</td>\n",
       "      <td>Alimentos preparados y conservados</td>\n",
       "      <td>Proveedor 3</td>\n",
       "      <td>Usuario solicitante 3</td>\n",
       "      <td>Usuario Aprobador 3</td>\n",
       "      <td>Direccion 8</td>\n",
       "      <td>Presupuesto 3</td>\n",
       "      <td>Portal comprador 1</td>\n",
       "      <td>Recibido</td>\n",
       "      <td>Menú del Día</td>\n",
       "      <td>2.0</td>\n",
       "      <td>13</td>\n",
       "      <td>26</td>\n",
       "      <td>11/10/2021</td>\n",
       "      <td>0.0</td>\n",
       "      <td>0</td>\n",
       "    </tr>\n",
       "    <tr>\n",
       "      <th>105</th>\n",
       "      <td>2021-11-08</td>\n",
       "      <td>2021-11-09</td>\n",
       "      <td>2021-11-08</td>\n",
       "      <td>Alimentos y Bebidas</td>\n",
       "      <td>Otra</td>\n",
       "      <td>Proveedor 24</td>\n",
       "      <td>Usuario solicitante 4</td>\n",
       "      <td>Usuario Aprobador 4</td>\n",
       "      <td>Direccion 3</td>\n",
       "      <td>Presupuesto 10</td>\n",
       "      <td>Portal comprador 2</td>\n",
       "      <td>Recibido</td>\n",
       "      <td>Casquitos papa premium x 1kg 4101-4100</td>\n",
       "      <td>150.0</td>\n",
       "      <td>7101</td>\n",
       "      <td>1267529</td>\n",
       "      <td>11/10/2021</td>\n",
       "      <td>1.0</td>\n",
       "      <td>0</td>\n",
       "    </tr>\n",
       "    <tr>\n",
       "      <th>106</th>\n",
       "      <td>2021-11-08</td>\n",
       "      <td>2021-11-10</td>\n",
       "      <td>2021-11-08</td>\n",
       "      <td>Alimentos y Bebidas</td>\n",
       "      <td>Productos de carne y aves de corral</td>\n",
       "      <td>Proveedor 36</td>\n",
       "      <td>Usuario solicitante 4</td>\n",
       "      <td>Usuario Aprobador 4</td>\n",
       "      <td>Direccion 3</td>\n",
       "      <td>Presupuesto 8</td>\n",
       "      <td>Portal comprador 2</td>\n",
       "      <td>Finalizado Incompleto</td>\n",
       "      <td>Costilla Baby Back</td>\n",
       "      <td>150.0</td>\n",
       "      <td>22</td>\n",
       "      <td>3300000</td>\n",
       "      <td>11/10/2021</td>\n",
       "      <td>2.0</td>\n",
       "      <td>0</td>\n",
       "    </tr>\n",
       "    <tr>\n",
       "      <th>109</th>\n",
       "      <td>2021-11-08</td>\n",
       "      <td>2021-11-08</td>\n",
       "      <td>2021-11-08</td>\n",
       "      <td>Alimentos y Bebidas</td>\n",
       "      <td>Productos de carne y aves de corral</td>\n",
       "      <td>Proveedor 26</td>\n",
       "      <td>Usuario solicitante 14</td>\n",
       "      <td>Usuario Aprobador 8</td>\n",
       "      <td>Direccion 10</td>\n",
       "      <td>Presupuesto 17</td>\n",
       "      <td>Portal comprador 5</td>\n",
       "      <td>Finalizado Incompleto</td>\n",
       "      <td>Carne de Smashes x Kg</td>\n",
       "      <td>6.0</td>\n",
       "      <td>21008</td>\n",
       "      <td>150</td>\n",
       "      <td>11/8/2021</td>\n",
       "      <td>0.0</td>\n",
       "      <td>0</td>\n",
       "    </tr>\n",
       "    <tr>\n",
       "      <th>110</th>\n",
       "      <td>2021-11-08</td>\n",
       "      <td>2021-11-08</td>\n",
       "      <td>2021-11-08</td>\n",
       "      <td>Alimentos y Bebidas</td>\n",
       "      <td>Alimentos preparados y conservados</td>\n",
       "      <td>Proveedor 26</td>\n",
       "      <td>Usuario solicitante 14</td>\n",
       "      <td>Usuario Aprobador 8</td>\n",
       "      <td>Direccion 10</td>\n",
       "      <td>Presupuesto 17</td>\n",
       "      <td>Portal comprador 5</td>\n",
       "      <td>Finalizado Incompleto</td>\n",
       "      <td>Mezcla 3000 gramos</td>\n",
       "      <td>6.0</td>\n",
       "      <td>59309</td>\n",
       "      <td>423466</td>\n",
       "      <td>11/8/2021</td>\n",
       "      <td>0.0</td>\n",
       "      <td>0</td>\n",
       "    </tr>\n",
       "    <tr>\n",
       "      <th>...</th>\n",
       "      <td>...</td>\n",
       "      <td>...</td>\n",
       "      <td>...</td>\n",
       "      <td>...</td>\n",
       "      <td>...</td>\n",
       "      <td>...</td>\n",
       "      <td>...</td>\n",
       "      <td>...</td>\n",
       "      <td>...</td>\n",
       "      <td>...</td>\n",
       "      <td>...</td>\n",
       "      <td>...</td>\n",
       "      <td>...</td>\n",
       "      <td>...</td>\n",
       "      <td>...</td>\n",
       "      <td>...</td>\n",
       "      <td>...</td>\n",
       "      <td>...</td>\n",
       "      <td>...</td>\n",
       "    </tr>\n",
       "    <tr>\n",
       "      <th>23076</th>\n",
       "      <td>2018-05-01</td>\n",
       "      <td>NaT</td>\n",
       "      <td>2018-05-01</td>\n",
       "      <td>Vigilancia y seguridad industrial</td>\n",
       "      <td>Seguridad y protección personal</td>\n",
       "      <td>Proveedor 229</td>\n",
       "      <td>Usuario solicitante 131</td>\n",
       "      <td>Usuario Aprobador 70</td>\n",
       "      <td>Direccion 81</td>\n",
       "      <td>Presupuesto 918</td>\n",
       "      <td>Portal comprador 8</td>\n",
       "      <td>Recibido</td>\n",
       "      <td>Tapabocas</td>\n",
       "      <td>3.0</td>\n",
       "      <td>84</td>\n",
       "      <td>300</td>\n",
       "      <td>5/1/2018</td>\n",
       "      <td>NaN</td>\n",
       "      <td>0</td>\n",
       "    </tr>\n",
       "    <tr>\n",
       "      <th>23077</th>\n",
       "      <td>2018-04-30</td>\n",
       "      <td>NaT</td>\n",
       "      <td>2018-05-01</td>\n",
       "      <td>Vigilancia y seguridad industrial</td>\n",
       "      <td>Seguridad y protección personal</td>\n",
       "      <td>Proveedor 229</td>\n",
       "      <td>Usuario solicitante 131</td>\n",
       "      <td>Usuario Aprobador 70</td>\n",
       "      <td>Direccion 81</td>\n",
       "      <td>Presupuesto 918</td>\n",
       "      <td>Portal comprador 8</td>\n",
       "      <td>Recibido</td>\n",
       "      <td>Tapabocas</td>\n",
       "      <td>1.0</td>\n",
       "      <td>84</td>\n",
       "      <td>100</td>\n",
       "      <td>5/1/2018</td>\n",
       "      <td>NaN</td>\n",
       "      <td>0</td>\n",
       "    </tr>\n",
       "    <tr>\n",
       "      <th>23078</th>\n",
       "      <td>2018-04-30</td>\n",
       "      <td>NaT</td>\n",
       "      <td>2018-05-01</td>\n",
       "      <td>Aseo, Cafetería y Oficina</td>\n",
       "      <td>Elementos de papelería</td>\n",
       "      <td>Proveedor 229</td>\n",
       "      <td>Usuario solicitante 131</td>\n",
       "      <td>Usuario Aprobador 70</td>\n",
       "      <td>Direccion 81</td>\n",
       "      <td>Presupuesto 918</td>\n",
       "      <td>Portal comprador 8</td>\n",
       "      <td>Recibido</td>\n",
       "      <td>Grapadora</td>\n",
       "      <td>8.0</td>\n",
       "      <td>33613</td>\n",
       "      <td>320</td>\n",
       "      <td>5/1/2018</td>\n",
       "      <td>NaN</td>\n",
       "      <td>0</td>\n",
       "    </tr>\n",
       "    <tr>\n",
       "      <th>23079</th>\n",
       "      <td>2018-04-30</td>\n",
       "      <td>NaT</td>\n",
       "      <td>2018-05-01</td>\n",
       "      <td>Aseo, Cafetería y Oficina</td>\n",
       "      <td>Elementos de papelería</td>\n",
       "      <td>Proveedor 229</td>\n",
       "      <td>Usuario solicitante 131</td>\n",
       "      <td>Usuario Aprobador 70</td>\n",
       "      <td>Direccion 81</td>\n",
       "      <td>Presupuesto 918</td>\n",
       "      <td>Portal comprador 8</td>\n",
       "      <td>Recibido</td>\n",
       "      <td>Lapicero Negro</td>\n",
       "      <td>1.0</td>\n",
       "      <td>588</td>\n",
       "      <td>700</td>\n",
       "      <td>5/1/2018</td>\n",
       "      <td>NaN</td>\n",
       "      <td>0</td>\n",
       "    </tr>\n",
       "    <tr>\n",
       "      <th>23082</th>\n",
       "      <td>2018-04-30</td>\n",
       "      <td>NaT</td>\n",
       "      <td>2018-04-30</td>\n",
       "      <td>Aseo, Cafetería y Oficina</td>\n",
       "      <td>Elementos de papelería</td>\n",
       "      <td>Proveedor 229</td>\n",
       "      <td>Usuario solicitante 131</td>\n",
       "      <td>Usuario Aprobador 70</td>\n",
       "      <td>Direccion 81</td>\n",
       "      <td>Presupuesto 918</td>\n",
       "      <td>Portal comprador 8</td>\n",
       "      <td>Recibido</td>\n",
       "      <td>Grapadora</td>\n",
       "      <td>5.0</td>\n",
       "      <td>33613</td>\n",
       "      <td>200</td>\n",
       "      <td>5/1/2018</td>\n",
       "      <td>NaN</td>\n",
       "      <td>0</td>\n",
       "    </tr>\n",
       "  </tbody>\n",
       "</table>\n",
       "<p>12927 rows × 19 columns</p>\n",
       "</div>"
      ],
      "text/plain": [
       "      Fecha_Orden Fecha_Entrega Fecha_Aprobacion  \\\n",
       "46     2021-11-09    2021-11-09       2021-11-09   \n",
       "105    2021-11-08    2021-11-09       2021-11-08   \n",
       "106    2021-11-08    2021-11-10       2021-11-08   \n",
       "109    2021-11-08    2021-11-08       2021-11-08   \n",
       "110    2021-11-08    2021-11-08       2021-11-08   \n",
       "...           ...           ...              ...   \n",
       "23076  2018-05-01           NaT       2018-05-01   \n",
       "23077  2018-04-30           NaT       2018-05-01   \n",
       "23078  2018-04-30           NaT       2018-05-01   \n",
       "23079  2018-04-30           NaT       2018-05-01   \n",
       "23082  2018-04-30           NaT       2018-04-30   \n",
       "\n",
       "                               Categoria                         Subcategoria  \\\n",
       "46                   Alimentos y Bebidas   Alimentos preparados y conservados   \n",
       "105                  Alimentos y Bebidas                                 Otra   \n",
       "106                  Alimentos y Bebidas  Productos de carne y aves de corral   \n",
       "109                  Alimentos y Bebidas  Productos de carne y aves de corral   \n",
       "110                  Alimentos y Bebidas   Alimentos preparados y conservados   \n",
       "...                                  ...                                  ...   \n",
       "23076  Vigilancia y seguridad industrial      Seguridad y protección personal   \n",
       "23077  Vigilancia y seguridad industrial      Seguridad y protección personal   \n",
       "23078          Aseo, Cafetería y Oficina               Elementos de papelería   \n",
       "23079          Aseo, Cafetería y Oficina               Elementos de papelería   \n",
       "23082          Aseo, Cafetería y Oficina               Elementos de papelería   \n",
       "\n",
       "           Proveedor                  Usuario     Usuario_Aprobador  \\\n",
       "46       Proveedor 3    Usuario solicitante 3   Usuario Aprobador 3   \n",
       "105     Proveedor 24    Usuario solicitante 4   Usuario Aprobador 4   \n",
       "106     Proveedor 36    Usuario solicitante 4   Usuario Aprobador 4   \n",
       "109     Proveedor 26   Usuario solicitante 14   Usuario Aprobador 8   \n",
       "110     Proveedor 26   Usuario solicitante 14   Usuario Aprobador 8   \n",
       "...              ...                      ...                   ...   \n",
       "23076  Proveedor 229  Usuario solicitante 131  Usuario Aprobador 70   \n",
       "23077  Proveedor 229  Usuario solicitante 131  Usuario Aprobador 70   \n",
       "23078  Proveedor 229  Usuario solicitante 131  Usuario Aprobador 70   \n",
       "23079  Proveedor 229  Usuario solicitante 131  Usuario Aprobador 70   \n",
       "23082  Proveedor 229  Usuario solicitante 131  Usuario Aprobador 70   \n",
       "\n",
       "      Direccion_Pedido      Presupuesto              Portal  \\\n",
       "46         Direccion 8    Presupuesto 3  Portal comprador 1   \n",
       "105        Direccion 3   Presupuesto 10  Portal comprador 2   \n",
       "106        Direccion 3    Presupuesto 8  Portal comprador 2   \n",
       "109       Direccion 10   Presupuesto 17  Portal comprador 5   \n",
       "110       Direccion 10   Presupuesto 17  Portal comprador 5   \n",
       "...                ...              ...                 ...   \n",
       "23076     Direccion 81  Presupuesto 918  Portal comprador 8   \n",
       "23077     Direccion 81  Presupuesto 918  Portal comprador 8   \n",
       "23078     Direccion 81  Presupuesto 918  Portal comprador 8   \n",
       "23079     Direccion 81  Presupuesto 918  Portal comprador 8   \n",
       "23082     Direccion 81  Presupuesto 918  Portal comprador 8   \n",
       "\n",
       "                      Estado                       Producto_Servicio  \\\n",
       "46                  Recibido                            Menú del Día   \n",
       "105                 Recibido  Casquitos papa premium x 1kg 4101-4100   \n",
       "106    Finalizado Incompleto                      Costilla Baby Back   \n",
       "109    Finalizado Incompleto                   Carne de Smashes x Kg   \n",
       "110    Finalizado Incompleto                      Mezcla 3000 gramos   \n",
       "...                      ...                                     ...   \n",
       "23076               Recibido                               Tapabocas   \n",
       "23077               Recibido                               Tapabocas   \n",
       "23078               Recibido                               Grapadora   \n",
       "23079               Recibido                          Lapicero Negro   \n",
       "23082               Recibido                               Grapadora   \n",
       "\n",
       "       Cantidad_Pedida  Precio_Unitario  Total_IVA Fecha_Ultimo_Movimiento  \\\n",
       "46                 2.0               13         26              11/10/2021   \n",
       "105              150.0             7101    1267529              11/10/2021   \n",
       "106              150.0               22    3300000              11/10/2021   \n",
       "109                6.0            21008        150               11/8/2021   \n",
       "110                6.0            59309     423466               11/8/2021   \n",
       "...                ...              ...        ...                     ...   \n",
       "23076              3.0               84        300                5/1/2018   \n",
       "23077              1.0               84        100                5/1/2018   \n",
       "23078              8.0            33613        320                5/1/2018   \n",
       "23079              1.0              588        700                5/1/2018   \n",
       "23082              5.0            33613        200                5/1/2018   \n",
       "\n",
       "       Dias_Trasncurridos_Entrega  Estado_label  \n",
       "46                            0.0             0  \n",
       "105                           1.0             0  \n",
       "106                           2.0             0  \n",
       "109                           0.0             0  \n",
       "110                           0.0             0  \n",
       "...                           ...           ...  \n",
       "23076                         NaN             0  \n",
       "23077                         NaN             0  \n",
       "23078                         NaN             0  \n",
       "23079                         NaN             0  \n",
       "23082                         NaN             0  \n",
       "\n",
       "[12927 rows x 19 columns]"
      ]
     },
     "execution_count": 652,
     "metadata": {},
     "output_type": "execute_result"
    }
   ],
   "source": [
    "df_mo2"
   ]
  },
  {
   "cell_type": "code",
   "execution_count": 650,
   "id": "1d53a526",
   "metadata": {},
   "outputs": [
    {
     "data": {
      "text/plain": [
       "Recibido                 11465\n",
       "Finalizado Incompleto      800\n",
       "Cancelado                  636\n",
       "Recibido Parcial            26\n",
       "Name: Estado, dtype: int64"
      ]
     },
     "execution_count": 650,
     "metadata": {},
     "output_type": "execute_result"
    }
   ],
   "source": [
    "df_mo2[\"Estado\"].value_counts()"
   ]
  },
  {
   "cell_type": "code",
   "execution_count": 653,
   "id": "1cf6c187",
   "metadata": {},
   "outputs": [],
   "source": [
    "df_mo2_encoder = df_mo2.copy()"
   ]
  },
  {
   "cell_type": "code",
   "execution_count": 657,
   "id": "d555b28b",
   "metadata": {},
   "outputs": [
    {
     "data": {
      "text/html": [
       "<div>\n",
       "<style scoped>\n",
       "    .dataframe tbody tr th:only-of-type {\n",
       "        vertical-align: middle;\n",
       "    }\n",
       "\n",
       "    .dataframe tbody tr th {\n",
       "        vertical-align: top;\n",
       "    }\n",
       "\n",
       "    .dataframe thead th {\n",
       "        text-align: right;\n",
       "    }\n",
       "</style>\n",
       "<table border=\"1\" class=\"dataframe\">\n",
       "  <thead>\n",
       "    <tr style=\"text-align: right;\">\n",
       "      <th></th>\n",
       "      <th>Fecha_Orden</th>\n",
       "      <th>Fecha_Entrega</th>\n",
       "      <th>Fecha_Aprobacion</th>\n",
       "      <th>Categoria</th>\n",
       "      <th>Subcategoria</th>\n",
       "      <th>Proveedor</th>\n",
       "      <th>Usuario</th>\n",
       "      <th>Usuario_Aprobador</th>\n",
       "      <th>Direccion_Pedido</th>\n",
       "      <th>Presupuesto</th>\n",
       "      <th>...</th>\n",
       "      <th>Estado_label</th>\n",
       "      <th>Categoria_label_encode</th>\n",
       "      <th>Subcategoria_label_encode</th>\n",
       "      <th>Proveedor_label_encode</th>\n",
       "      <th>Usuario_label_encode</th>\n",
       "      <th>Usuario_Aprobador_label_encode</th>\n",
       "      <th>Direccion_Pedido_label_encode</th>\n",
       "      <th>Presupuesto_label_encode</th>\n",
       "      <th>Portal_label_encode</th>\n",
       "      <th>Producto_Servicio_encode</th>\n",
       "    </tr>\n",
       "  </thead>\n",
       "  <tbody>\n",
       "    <tr>\n",
       "      <th>46</th>\n",
       "      <td>2021-11-09</td>\n",
       "      <td>2021-11-09</td>\n",
       "      <td>2021-11-09</td>\n",
       "      <td>Alimentos y Bebidas</td>\n",
       "      <td>Alimentos preparados y conservados</td>\n",
       "      <td>Proveedor 3</td>\n",
       "      <td>Usuario solicitante 3</td>\n",
       "      <td>Usuario Aprobador 3</td>\n",
       "      <td>Direccion 8</td>\n",
       "      <td>Presupuesto 3</td>\n",
       "      <td>...</td>\n",
       "      <td>2</td>\n",
       "      <td>0</td>\n",
       "      <td>1</td>\n",
       "      <td>65</td>\n",
       "      <td>38</td>\n",
       "      <td>15</td>\n",
       "      <td>112</td>\n",
       "      <td>71</td>\n",
       "      <td>0</td>\n",
       "      <td>643</td>\n",
       "    </tr>\n",
       "    <tr>\n",
       "      <th>105</th>\n",
       "      <td>2021-11-08</td>\n",
       "      <td>2021-11-09</td>\n",
       "      <td>2021-11-08</td>\n",
       "      <td>Alimentos y Bebidas</td>\n",
       "      <td>Otra</td>\n",
       "      <td>Proveedor 24</td>\n",
       "      <td>Usuario solicitante 4</td>\n",
       "      <td>Usuario Aprobador 4</td>\n",
       "      <td>Direccion 3</td>\n",
       "      <td>Presupuesto 10</td>\n",
       "      <td>...</td>\n",
       "      <td>2</td>\n",
       "      <td>0</td>\n",
       "      <td>12</td>\n",
       "      <td>42</td>\n",
       "      <td>45</td>\n",
       "      <td>22</td>\n",
       "      <td>78</td>\n",
       "      <td>0</td>\n",
       "      <td>7</td>\n",
       "      <td>370</td>\n",
       "    </tr>\n",
       "    <tr>\n",
       "      <th>106</th>\n",
       "      <td>2021-11-08</td>\n",
       "      <td>2021-11-10</td>\n",
       "      <td>2021-11-08</td>\n",
       "      <td>Alimentos y Bebidas</td>\n",
       "      <td>Productos de carne y aves de corral</td>\n",
       "      <td>Proveedor 36</td>\n",
       "      <td>Usuario solicitante 4</td>\n",
       "      <td>Usuario Aprobador 4</td>\n",
       "      <td>Direccion 3</td>\n",
       "      <td>Presupuesto 8</td>\n",
       "      <td>...</td>\n",
       "      <td>1</td>\n",
       "      <td>0</td>\n",
       "      <td>13</td>\n",
       "      <td>76</td>\n",
       "      <td>45</td>\n",
       "      <td>22</td>\n",
       "      <td>78</td>\n",
       "      <td>329</td>\n",
       "      <td>7</td>\n",
       "      <td>394</td>\n",
       "    </tr>\n",
       "    <tr>\n",
       "      <th>109</th>\n",
       "      <td>2021-11-08</td>\n",
       "      <td>2021-11-08</td>\n",
       "      <td>2021-11-08</td>\n",
       "      <td>Alimentos y Bebidas</td>\n",
       "      <td>Productos de carne y aves de corral</td>\n",
       "      <td>Proveedor 26</td>\n",
       "      <td>Usuario solicitante 14</td>\n",
       "      <td>Usuario Aprobador 8</td>\n",
       "      <td>Direccion 10</td>\n",
       "      <td>Presupuesto 17</td>\n",
       "      <td>...</td>\n",
       "      <td>1</td>\n",
       "      <td>0</td>\n",
       "      <td>13</td>\n",
       "      <td>47</td>\n",
       "      <td>24</td>\n",
       "      <td>45</td>\n",
       "      <td>1</td>\n",
       "      <td>30</td>\n",
       "      <td>15</td>\n",
       "      <td>364</td>\n",
       "    </tr>\n",
       "    <tr>\n",
       "      <th>110</th>\n",
       "      <td>2021-11-08</td>\n",
       "      <td>2021-11-08</td>\n",
       "      <td>2021-11-08</td>\n",
       "      <td>Alimentos y Bebidas</td>\n",
       "      <td>Alimentos preparados y conservados</td>\n",
       "      <td>Proveedor 26</td>\n",
       "      <td>Usuario solicitante 14</td>\n",
       "      <td>Usuario Aprobador 8</td>\n",
       "      <td>Direccion 10</td>\n",
       "      <td>Presupuesto 17</td>\n",
       "      <td>...</td>\n",
       "      <td>1</td>\n",
       "      <td>0</td>\n",
       "      <td>1</td>\n",
       "      <td>47</td>\n",
       "      <td>24</td>\n",
       "      <td>45</td>\n",
       "      <td>1</td>\n",
       "      <td>30</td>\n",
       "      <td>15</td>\n",
       "      <td>644</td>\n",
       "    </tr>\n",
       "    <tr>\n",
       "      <th>...</th>\n",
       "      <td>...</td>\n",
       "      <td>...</td>\n",
       "      <td>...</td>\n",
       "      <td>...</td>\n",
       "      <td>...</td>\n",
       "      <td>...</td>\n",
       "      <td>...</td>\n",
       "      <td>...</td>\n",
       "      <td>...</td>\n",
       "      <td>...</td>\n",
       "      <td>...</td>\n",
       "      <td>...</td>\n",
       "      <td>...</td>\n",
       "      <td>...</td>\n",
       "      <td>...</td>\n",
       "      <td>...</td>\n",
       "      <td>...</td>\n",
       "      <td>...</td>\n",
       "      <td>...</td>\n",
       "      <td>...</td>\n",
       "      <td>...</td>\n",
       "    </tr>\n",
       "    <tr>\n",
       "      <th>23076</th>\n",
       "      <td>2018-05-01</td>\n",
       "      <td>NaT</td>\n",
       "      <td>2018-05-01</td>\n",
       "      <td>Vigilancia y seguridad industrial</td>\n",
       "      <td>Seguridad y protección personal</td>\n",
       "      <td>Proveedor 229</td>\n",
       "      <td>Usuario solicitante 131</td>\n",
       "      <td>Usuario Aprobador 70</td>\n",
       "      <td>Direccion 81</td>\n",
       "      <td>Presupuesto 918</td>\n",
       "      <td>...</td>\n",
       "      <td>2</td>\n",
       "      <td>2</td>\n",
       "      <td>18</td>\n",
       "      <td>38</td>\n",
       "      <td>23</td>\n",
       "      <td>44</td>\n",
       "      <td>114</td>\n",
       "      <td>433</td>\n",
       "      <td>18</td>\n",
       "      <td>960</td>\n",
       "    </tr>\n",
       "    <tr>\n",
       "      <th>23077</th>\n",
       "      <td>2018-04-30</td>\n",
       "      <td>NaT</td>\n",
       "      <td>2018-05-01</td>\n",
       "      <td>Vigilancia y seguridad industrial</td>\n",
       "      <td>Seguridad y protección personal</td>\n",
       "      <td>Proveedor 229</td>\n",
       "      <td>Usuario solicitante 131</td>\n",
       "      <td>Usuario Aprobador 70</td>\n",
       "      <td>Direccion 81</td>\n",
       "      <td>Presupuesto 918</td>\n",
       "      <td>...</td>\n",
       "      <td>2</td>\n",
       "      <td>2</td>\n",
       "      <td>18</td>\n",
       "      <td>38</td>\n",
       "      <td>23</td>\n",
       "      <td>44</td>\n",
       "      <td>114</td>\n",
       "      <td>433</td>\n",
       "      <td>18</td>\n",
       "      <td>960</td>\n",
       "    </tr>\n",
       "    <tr>\n",
       "      <th>23078</th>\n",
       "      <td>2018-04-30</td>\n",
       "      <td>NaT</td>\n",
       "      <td>2018-05-01</td>\n",
       "      <td>Aseo, Cafetería y Oficina</td>\n",
       "      <td>Elementos de papelería</td>\n",
       "      <td>Proveedor 229</td>\n",
       "      <td>Usuario solicitante 131</td>\n",
       "      <td>Usuario Aprobador 70</td>\n",
       "      <td>Direccion 81</td>\n",
       "      <td>Presupuesto 918</td>\n",
       "      <td>...</td>\n",
       "      <td>2</td>\n",
       "      <td>1</td>\n",
       "      <td>7</td>\n",
       "      <td>38</td>\n",
       "      <td>23</td>\n",
       "      <td>44</td>\n",
       "      <td>114</td>\n",
       "      <td>433</td>\n",
       "      <td>18</td>\n",
       "      <td>501</td>\n",
       "    </tr>\n",
       "    <tr>\n",
       "      <th>23079</th>\n",
       "      <td>2018-04-30</td>\n",
       "      <td>NaT</td>\n",
       "      <td>2018-05-01</td>\n",
       "      <td>Aseo, Cafetería y Oficina</td>\n",
       "      <td>Elementos de papelería</td>\n",
       "      <td>Proveedor 229</td>\n",
       "      <td>Usuario solicitante 131</td>\n",
       "      <td>Usuario Aprobador 70</td>\n",
       "      <td>Direccion 81</td>\n",
       "      <td>Presupuesto 918</td>\n",
       "      <td>...</td>\n",
       "      <td>2</td>\n",
       "      <td>1</td>\n",
       "      <td>7</td>\n",
       "      <td>38</td>\n",
       "      <td>23</td>\n",
       "      <td>44</td>\n",
       "      <td>114</td>\n",
       "      <td>433</td>\n",
       "      <td>18</td>\n",
       "      <td>562</td>\n",
       "    </tr>\n",
       "    <tr>\n",
       "      <th>23082</th>\n",
       "      <td>2018-04-30</td>\n",
       "      <td>NaT</td>\n",
       "      <td>2018-04-30</td>\n",
       "      <td>Aseo, Cafetería y Oficina</td>\n",
       "      <td>Elementos de papelería</td>\n",
       "      <td>Proveedor 229</td>\n",
       "      <td>Usuario solicitante 131</td>\n",
       "      <td>Usuario Aprobador 70</td>\n",
       "      <td>Direccion 81</td>\n",
       "      <td>Presupuesto 918</td>\n",
       "      <td>...</td>\n",
       "      <td>2</td>\n",
       "      <td>1</td>\n",
       "      <td>7</td>\n",
       "      <td>38</td>\n",
       "      <td>23</td>\n",
       "      <td>44</td>\n",
       "      <td>114</td>\n",
       "      <td>433</td>\n",
       "      <td>18</td>\n",
       "      <td>501</td>\n",
       "    </tr>\n",
       "  </tbody>\n",
       "</table>\n",
       "<p>12927 rows × 28 columns</p>\n",
       "</div>"
      ],
      "text/plain": [
       "      Fecha_Orden Fecha_Entrega Fecha_Aprobacion  \\\n",
       "46     2021-11-09    2021-11-09       2021-11-09   \n",
       "105    2021-11-08    2021-11-09       2021-11-08   \n",
       "106    2021-11-08    2021-11-10       2021-11-08   \n",
       "109    2021-11-08    2021-11-08       2021-11-08   \n",
       "110    2021-11-08    2021-11-08       2021-11-08   \n",
       "...           ...           ...              ...   \n",
       "23076  2018-05-01           NaT       2018-05-01   \n",
       "23077  2018-04-30           NaT       2018-05-01   \n",
       "23078  2018-04-30           NaT       2018-05-01   \n",
       "23079  2018-04-30           NaT       2018-05-01   \n",
       "23082  2018-04-30           NaT       2018-04-30   \n",
       "\n",
       "                               Categoria                         Subcategoria  \\\n",
       "46                   Alimentos y Bebidas   Alimentos preparados y conservados   \n",
       "105                  Alimentos y Bebidas                                 Otra   \n",
       "106                  Alimentos y Bebidas  Productos de carne y aves de corral   \n",
       "109                  Alimentos y Bebidas  Productos de carne y aves de corral   \n",
       "110                  Alimentos y Bebidas   Alimentos preparados y conservados   \n",
       "...                                  ...                                  ...   \n",
       "23076  Vigilancia y seguridad industrial      Seguridad y protección personal   \n",
       "23077  Vigilancia y seguridad industrial      Seguridad y protección personal   \n",
       "23078          Aseo, Cafetería y Oficina               Elementos de papelería   \n",
       "23079          Aseo, Cafetería y Oficina               Elementos de papelería   \n",
       "23082          Aseo, Cafetería y Oficina               Elementos de papelería   \n",
       "\n",
       "           Proveedor                  Usuario     Usuario_Aprobador  \\\n",
       "46       Proveedor 3    Usuario solicitante 3   Usuario Aprobador 3   \n",
       "105     Proveedor 24    Usuario solicitante 4   Usuario Aprobador 4   \n",
       "106     Proveedor 36    Usuario solicitante 4   Usuario Aprobador 4   \n",
       "109     Proveedor 26   Usuario solicitante 14   Usuario Aprobador 8   \n",
       "110     Proveedor 26   Usuario solicitante 14   Usuario Aprobador 8   \n",
       "...              ...                      ...                   ...   \n",
       "23076  Proveedor 229  Usuario solicitante 131  Usuario Aprobador 70   \n",
       "23077  Proveedor 229  Usuario solicitante 131  Usuario Aprobador 70   \n",
       "23078  Proveedor 229  Usuario solicitante 131  Usuario Aprobador 70   \n",
       "23079  Proveedor 229  Usuario solicitante 131  Usuario Aprobador 70   \n",
       "23082  Proveedor 229  Usuario solicitante 131  Usuario Aprobador 70   \n",
       "\n",
       "      Direccion_Pedido      Presupuesto  ... Estado_label  \\\n",
       "46         Direccion 8    Presupuesto 3  ...            2   \n",
       "105        Direccion 3   Presupuesto 10  ...            2   \n",
       "106        Direccion 3    Presupuesto 8  ...            1   \n",
       "109       Direccion 10   Presupuesto 17  ...            1   \n",
       "110       Direccion 10   Presupuesto 17  ...            1   \n",
       "...                ...              ...  ...          ...   \n",
       "23076     Direccion 81  Presupuesto 918  ...            2   \n",
       "23077     Direccion 81  Presupuesto 918  ...            2   \n",
       "23078     Direccion 81  Presupuesto 918  ...            2   \n",
       "23079     Direccion 81  Presupuesto 918  ...            2   \n",
       "23082     Direccion 81  Presupuesto 918  ...            2   \n",
       "\n",
       "      Categoria_label_encode Subcategoria_label_encode  \\\n",
       "46                         0                         1   \n",
       "105                        0                        12   \n",
       "106                        0                        13   \n",
       "109                        0                        13   \n",
       "110                        0                         1   \n",
       "...                      ...                       ...   \n",
       "23076                      2                        18   \n",
       "23077                      2                        18   \n",
       "23078                      1                         7   \n",
       "23079                      1                         7   \n",
       "23082                      1                         7   \n",
       "\n",
       "       Proveedor_label_encode  Usuario_label_encode  \\\n",
       "46                         65                    38   \n",
       "105                        42                    45   \n",
       "106                        76                    45   \n",
       "109                        47                    24   \n",
       "110                        47                    24   \n",
       "...                       ...                   ...   \n",
       "23076                      38                    23   \n",
       "23077                      38                    23   \n",
       "23078                      38                    23   \n",
       "23079                      38                    23   \n",
       "23082                      38                    23   \n",
       "\n",
       "       Usuario_Aprobador_label_encode Direccion_Pedido_label_encode  \\\n",
       "46                                 15                           112   \n",
       "105                                22                            78   \n",
       "106                                22                            78   \n",
       "109                                45                             1   \n",
       "110                                45                             1   \n",
       "...                               ...                           ...   \n",
       "23076                              44                           114   \n",
       "23077                              44                           114   \n",
       "23078                              44                           114   \n",
       "23079                              44                           114   \n",
       "23082                              44                           114   \n",
       "\n",
       "       Presupuesto_label_encode  Portal_label_encode  Producto_Servicio_encode  \n",
       "46                           71                    0                       643  \n",
       "105                           0                    7                       370  \n",
       "106                         329                    7                       394  \n",
       "109                          30                   15                       364  \n",
       "110                          30                   15                       644  \n",
       "...                         ...                  ...                       ...  \n",
       "23076                       433                   18                       960  \n",
       "23077                       433                   18                       960  \n",
       "23078                       433                   18                       501  \n",
       "23079                       433                   18                       562  \n",
       "23082                       433                   18                       501  \n",
       "\n",
       "[12927 rows x 28 columns]"
      ]
     },
     "execution_count": 657,
     "metadata": {},
     "output_type": "execute_result"
    }
   ],
   "source": [
    "df_mo2_encoder"
   ]
  },
  {
   "cell_type": "code",
   "execution_count": 655,
   "id": "6b7fb655",
   "metadata": {},
   "outputs": [],
   "source": [
    "## encoder de las variables categoricas\n",
    "lb_encoder2 = LabelEncoder()\n",
    "df_mo2_encoder[\"Categoria_label_encode\"] = lb_encoder2.fit_transform(df_mo2_encoder[\"Categoria\"])\n",
    "df_mo2_encoder[\"Subcategoria_label_encode\"] = lb_encoder2.fit_transform(df_mo2_encoder[\"Subcategoria\"])\n",
    "df_mo2_encoder[\"Proveedor_label_encode\"] = lb_encoder2.fit_transform(df_mo2_encoder[\"Proveedor\"])\n",
    "df_mo2_encoder[\"Usuario_label_encode\"] = lb_encoder2.fit_transform(df_mo2_encoder[\"Usuario\"])\n",
    "df_mo2_encoder[\"Usuario_Aprobador_label_encode\"] = lb_encoder2.fit_transform(df_mo2_encoder[\"Usuario_Aprobador\"])\n",
    "df_mo2_encoder[\"Direccion_Pedido_label_encode\"] = lb_encoder2.fit_transform(df_mo2_encoder[\"Direccion_Pedido\"])\n",
    "df_mo2_encoder[\"Presupuesto_label_encode\"] = lb_encoder2.fit_transform(df_mo2_encoder[\"Presupuesto\"])\n",
    "df_mo2_encoder[\"Portal_label_encode\"] = lb_encoder2.fit_transform(df_mo2_encoder[\"Portal\"])\n",
    "df_mo2_encoder[\"Producto_Servicio_encode\"] = lb_encoder2.fit_transform(df_mo2_encoder[\"Producto_Servicio\"])\n",
    "## encoder de la variable target\n",
    "df_mo2_encoder[\"Estado_label\"] = lb_encoder2.fit_transform(df_mo2_encoder[\"Estado\"])"
   ]
  },
  {
   "cell_type": "code",
   "execution_count": 656,
   "id": "cd48d9f1",
   "metadata": {},
   "outputs": [
    {
     "name": "stdout",
     "output_type": "stream",
     "text": [
      "<class 'pandas.core.frame.DataFrame'>\n",
      "Int64Index: 12927 entries, 46 to 23082\n",
      "Data columns (total 28 columns):\n",
      " #   Column                          Non-Null Count  Dtype         \n",
      "---  ------                          --------------  -----         \n",
      " 0   Fecha_Orden                     12927 non-null  datetime64[ns]\n",
      " 1   Fecha_Entrega                   12865 non-null  datetime64[ns]\n",
      " 2   Fecha_Aprobacion                12919 non-null  datetime64[ns]\n",
      " 3   Categoria                       12927 non-null  object        \n",
      " 4   Subcategoria                    12927 non-null  object        \n",
      " 5   Proveedor                       12927 non-null  object        \n",
      " 6   Usuario                         12927 non-null  object        \n",
      " 7   Usuario_Aprobador               12919 non-null  object        \n",
      " 8   Direccion_Pedido                12927 non-null  object        \n",
      " 9   Presupuesto                     10360 non-null  object        \n",
      " 10  Portal                          12927 non-null  object        \n",
      " 11  Estado                          12927 non-null  object        \n",
      " 12  Producto_Servicio               12927 non-null  object        \n",
      " 13  Cantidad_Pedida                 12927 non-null  float64       \n",
      " 14  Precio_Unitario                 12927 non-null  int64         \n",
      " 15  Total_IVA                       12927 non-null  int64         \n",
      " 16  Fecha_Ultimo_Movimiento         12927 non-null  object        \n",
      " 17  Dias_Trasncurridos_Entrega      12865 non-null  float64       \n",
      " 18  Estado_label                    12927 non-null  int32         \n",
      " 19  Categoria_label_encode          12927 non-null  int32         \n",
      " 20  Subcategoria_label_encode       12927 non-null  int32         \n",
      " 21  Proveedor_label_encode          12927 non-null  int32         \n",
      " 22  Usuario_label_encode            12927 non-null  int32         \n",
      " 23  Usuario_Aprobador_label_encode  12927 non-null  int32         \n",
      " 24  Direccion_Pedido_label_encode   12927 non-null  int32         \n",
      " 25  Presupuesto_label_encode        12927 non-null  int32         \n",
      " 26  Portal_label_encode             12927 non-null  int32         \n",
      " 27  Producto_Servicio_encode        12927 non-null  int32         \n",
      "dtypes: datetime64[ns](3), float64(2), int32(10), int64(2), object(11)\n",
      "memory usage: 2.4+ MB\n"
     ]
    }
   ],
   "source": [
    "df_mo2_encoder.info()"
   ]
  },
  {
   "cell_type": "code",
   "execution_count": null,
   "id": "84a71007",
   "metadata": {},
   "outputs": [],
   "source": [
    "## one hot encoder para el campo Estado"
   ]
  },
  {
   "cell_type": "code",
   "execution_count": 658,
   "id": "d7691496",
   "metadata": {},
   "outputs": [],
   "source": [
    "##borrado de variables del dataset IDs\n",
    "df_mo2_encoder = df_mo2_encoder.drop(['Portal_label_encode','Usuario_Aprobador_label_encode','Usuario_label_encode','Subcategoria_label_encode','Fecha_Orden','Fecha_Entrega','Fecha_Aprobacion','Categoria','Subcategoria','Proveedor','Usuario','Usuario_Aprobador','Direccion_Pedido','Presupuesto','Portal','Estado','Producto_Servicio','Fecha_Ultimo_Movimiento'], axis=1)"
   ]
  },
  {
   "cell_type": "code",
   "execution_count": 659,
   "id": "234c6cb9",
   "metadata": {},
   "outputs": [
    {
     "data": {
      "text/html": [
       "<div>\n",
       "<style scoped>\n",
       "    .dataframe tbody tr th:only-of-type {\n",
       "        vertical-align: middle;\n",
       "    }\n",
       "\n",
       "    .dataframe tbody tr th {\n",
       "        vertical-align: top;\n",
       "    }\n",
       "\n",
       "    .dataframe thead th {\n",
       "        text-align: right;\n",
       "    }\n",
       "</style>\n",
       "<table border=\"1\" class=\"dataframe\">\n",
       "  <thead>\n",
       "    <tr style=\"text-align: right;\">\n",
       "      <th></th>\n",
       "      <th>count</th>\n",
       "      <th>mean</th>\n",
       "      <th>std</th>\n",
       "      <th>min</th>\n",
       "      <th>25%</th>\n",
       "      <th>50%</th>\n",
       "      <th>75%</th>\n",
       "      <th>max</th>\n",
       "    </tr>\n",
       "  </thead>\n",
       "  <tbody>\n",
       "    <tr>\n",
       "      <th>Cantidad_Pedida</th>\n",
       "      <td>12927.0</td>\n",
       "      <td>26.657579</td>\n",
       "      <td>9.802147e+01</td>\n",
       "      <td>0.27</td>\n",
       "      <td>2.0</td>\n",
       "      <td>5.0</td>\n",
       "      <td>20.0</td>\n",
       "      <td>5000.0</td>\n",
       "    </tr>\n",
       "    <tr>\n",
       "      <th>Precio_Unitario</th>\n",
       "      <td>12927.0</td>\n",
       "      <td>25035.137155</td>\n",
       "      <td>5.388245e+04</td>\n",
       "      <td>1.00</td>\n",
       "      <td>650.0</td>\n",
       "      <td>10084.0</td>\n",
       "      <td>31595.0</td>\n",
       "      <td>1464000.0</td>\n",
       "    </tr>\n",
       "    <tr>\n",
       "      <th>Total_IVA</th>\n",
       "      <td>12927.0</td>\n",
       "      <td>437161.266651</td>\n",
       "      <td>1.120525e+06</td>\n",
       "      <td>1.00</td>\n",
       "      <td>462.0</td>\n",
       "      <td>17951.0</td>\n",
       "      <td>227232.0</td>\n",
       "      <td>10884472.0</td>\n",
       "    </tr>\n",
       "    <tr>\n",
       "      <th>Dias_Trasncurridos_Entrega</th>\n",
       "      <td>12865.0</td>\n",
       "      <td>0.890400</td>\n",
       "      <td>1.133284e+01</td>\n",
       "      <td>-293.00</td>\n",
       "      <td>0.0</td>\n",
       "      <td>0.0</td>\n",
       "      <td>1.0</td>\n",
       "      <td>21.0</td>\n",
       "    </tr>\n",
       "    <tr>\n",
       "      <th>Estado_label</th>\n",
       "      <td>12927.0</td>\n",
       "      <td>1.841727</td>\n",
       "      <td>4.854508e-01</td>\n",
       "      <td>0.00</td>\n",
       "      <td>2.0</td>\n",
       "      <td>2.0</td>\n",
       "      <td>2.0</td>\n",
       "      <td>3.0</td>\n",
       "    </tr>\n",
       "    <tr>\n",
       "      <th>Categoria_label_encode</th>\n",
       "      <td>12927.0</td>\n",
       "      <td>1.258451</td>\n",
       "      <td>8.381988e-01</td>\n",
       "      <td>0.00</td>\n",
       "      <td>0.0</td>\n",
       "      <td>2.0</td>\n",
       "      <td>2.0</td>\n",
       "      <td>2.0</td>\n",
       "    </tr>\n",
       "    <tr>\n",
       "      <th>Proveedor_label_encode</th>\n",
       "      <td>12927.0</td>\n",
       "      <td>61.377272</td>\n",
       "      <td>2.216520e+01</td>\n",
       "      <td>0.00</td>\n",
       "      <td>57.0</td>\n",
       "      <td>67.0</td>\n",
       "      <td>67.0</td>\n",
       "      <td>105.0</td>\n",
       "    </tr>\n",
       "    <tr>\n",
       "      <th>Direccion_Pedido_label_encode</th>\n",
       "      <td>12927.0</td>\n",
       "      <td>63.322349</td>\n",
       "      <td>3.849455e+01</td>\n",
       "      <td>0.00</td>\n",
       "      <td>34.0</td>\n",
       "      <td>77.0</td>\n",
       "      <td>88.0</td>\n",
       "      <td>129.0</td>\n",
       "    </tr>\n",
       "    <tr>\n",
       "      <th>Presupuesto_label_encode</th>\n",
       "      <td>12927.0</td>\n",
       "      <td>267.791986</td>\n",
       "      <td>1.270950e+02</td>\n",
       "      <td>0.00</td>\n",
       "      <td>179.0</td>\n",
       "      <td>260.0</td>\n",
       "      <td>380.0</td>\n",
       "      <td>434.0</td>\n",
       "    </tr>\n",
       "    <tr>\n",
       "      <th>Producto_Servicio_encode</th>\n",
       "      <td>12927.0</td>\n",
       "      <td>336.593022</td>\n",
       "      <td>3.149798e+02</td>\n",
       "      <td>0.00</td>\n",
       "      <td>88.0</td>\n",
       "      <td>171.0</td>\n",
       "      <td>626.0</td>\n",
       "      <td>1024.0</td>\n",
       "    </tr>\n",
       "  </tbody>\n",
       "</table>\n",
       "</div>"
      ],
      "text/plain": [
       "                                 count           mean           std     min  \\\n",
       "Cantidad_Pedida                12927.0      26.657579  9.802147e+01    0.27   \n",
       "Precio_Unitario                12927.0   25035.137155  5.388245e+04    1.00   \n",
       "Total_IVA                      12927.0  437161.266651  1.120525e+06    1.00   \n",
       "Dias_Trasncurridos_Entrega     12865.0       0.890400  1.133284e+01 -293.00   \n",
       "Estado_label                   12927.0       1.841727  4.854508e-01    0.00   \n",
       "Categoria_label_encode         12927.0       1.258451  8.381988e-01    0.00   \n",
       "Proveedor_label_encode         12927.0      61.377272  2.216520e+01    0.00   \n",
       "Direccion_Pedido_label_encode  12927.0      63.322349  3.849455e+01    0.00   \n",
       "Presupuesto_label_encode       12927.0     267.791986  1.270950e+02    0.00   \n",
       "Producto_Servicio_encode       12927.0     336.593022  3.149798e+02    0.00   \n",
       "\n",
       "                                 25%      50%       75%         max  \n",
       "Cantidad_Pedida                  2.0      5.0      20.0      5000.0  \n",
       "Precio_Unitario                650.0  10084.0   31595.0   1464000.0  \n",
       "Total_IVA                      462.0  17951.0  227232.0  10884472.0  \n",
       "Dias_Trasncurridos_Entrega       0.0      0.0       1.0        21.0  \n",
       "Estado_label                     2.0      2.0       2.0         3.0  \n",
       "Categoria_label_encode           0.0      2.0       2.0         2.0  \n",
       "Proveedor_label_encode          57.0     67.0      67.0       105.0  \n",
       "Direccion_Pedido_label_encode   34.0     77.0      88.0       129.0  \n",
       "Presupuesto_label_encode       179.0    260.0     380.0       434.0  \n",
       "Producto_Servicio_encode        88.0    171.0     626.0      1024.0  "
      ]
     },
     "execution_count": 659,
     "metadata": {},
     "output_type": "execute_result"
    }
   ],
   "source": [
    "df_mo2_encoder.describe().T"
   ]
  },
  {
   "cell_type": "code",
   "execution_count": 661,
   "id": "916f39d4",
   "metadata": {},
   "outputs": [
    {
     "data": {
      "text/plain": [
       "2    11465\n",
       "1      800\n",
       "0      636\n",
       "3       26\n",
       "Name: Estado_label, dtype: int64"
      ]
     },
     "execution_count": 661,
     "metadata": {},
     "output_type": "execute_result"
    }
   ],
   "source": [
    "df_mo2_encoder[\"Estado_label\"].value_counts()"
   ]
  },
  {
   "cell_type": "code",
   "execution_count": 662,
   "id": "bde50d59",
   "metadata": {},
   "outputs": [],
   "source": [
    "#features to X\n",
    "df_features = df_mo2_encoder.loc[:, df_mo2_encoder.columns != 'Estado_label']\n",
    "X_2 = np.asarray(df_features)\n",
    "X_2 = np.nan_to_num(X_2)"
   ]
  },
  {
   "cell_type": "code",
   "execution_count": 672,
   "id": "180de256",
   "metadata": {},
   "outputs": [
    {
     "name": "stdout",
     "output_type": "stream",
     "text": [
      "(12927, 9)\n",
      "(12927,)\n"
     ]
    }
   ],
   "source": [
    "print(X_2.shape)\n",
    "print(y_2.shape)"
   ]
  },
  {
   "cell_type": "code",
   "execution_count": 666,
   "id": "ba288e74",
   "metadata": {},
   "outputs": [
    {
     "data": {
      "text/plain": [
       "array([2, 2, 1, 1, 1])"
      ]
     },
     "execution_count": 666,
     "metadata": {},
     "output_type": "execute_result"
    }
   ],
   "source": [
    "#labels (target) to y\n",
    "y_2 = np.asarray(df_mo2_encoder['Estado_label'])\n",
    "y_2 [0:5]"
   ]
  },
  {
   "cell_type": "code",
   "execution_count": 667,
   "id": "b70a60f2",
   "metadata": {},
   "outputs": [
    {
     "name": "stdout",
     "output_type": "stream",
     "text": [
      "Counter({2: 11465, 1: 800, 0: 636, 3: 26})\n"
     ]
    }
   ],
   "source": [
    "# summarize class distribution\n",
    "counter = Counter(y_2)\n",
    "print(counter)"
   ]
  },
  {
   "cell_type": "code",
   "execution_count": 675,
   "id": "7bac6ef0",
   "metadata": {},
   "outputs": [
    {
     "name": "stdout",
     "output_type": "stream",
     "text": [
      "Train set: (10341, 9) (10341,)\n",
      "Test set: (2586, 9) (2586,)\n"
     ]
    }
   ],
   "source": [
    "#Split Train - Test. 80%-20%\n",
    "X_train, X_test, y_train, y_test = train_test_split( X_2, y_2, test_size=0.2,random_state=2, stratify=df_mo2_encoder[\"Estado_label\"])\n",
    "#X_train, X_test, y_train, y_test = train_test_split(X, y, test_size=0.2, random_state=2)\n",
    "print ('Train set:', X_train.shape,  y_train.shape)\n",
    "print ('Test set:', X_test.shape,  y_test.shape)"
   ]
  },
  {
   "cell_type": "code",
   "execution_count": 676,
   "id": "b4fb0db5",
   "metadata": {},
   "outputs": [],
   "source": [
    "# transform the dataset  SMOTE\n",
    "oversample = SMOTE()\n",
    "X_train, y_train = oversample.fit_resample(X_train, y_train)"
   ]
  },
  {
   "cell_type": "code",
   "execution_count": 677,
   "id": "3a5198fb",
   "metadata": {},
   "outputs": [
    {
     "name": "stdout",
     "output_type": "stream",
     "text": [
      "Counter({2: 9171, 1: 9171, 0: 9171, 3: 9171})\n"
     ]
    }
   ],
   "source": [
    "print(Counter(y_train))"
   ]
  },
  {
   "cell_type": "markdown",
   "id": "e258ed40",
   "metadata": {},
   "source": [
    "### Decision Tree model 2"
   ]
  },
  {
   "cell_type": "code",
   "execution_count": 700,
   "id": "1c8f12f8",
   "metadata": {},
   "outputs": [
    {
     "data": {
      "text/plain": [
       "DecisionTreeClassifier(criterion='entropy', max_depth=4)"
      ]
     },
     "execution_count": 700,
     "metadata": {},
     "output_type": "execute_result"
    }
   ],
   "source": [
    "drugTree2 = DecisionTreeClassifier(criterion=\"entropy\", max_depth = 4)\n",
    "drugTree2.fit(X_train,y_train)"
   ]
  },
  {
   "cell_type": "code",
   "execution_count": 701,
   "id": "944d8c35",
   "metadata": {},
   "outputs": [],
   "source": [
    "# predicciones X_test\n",
    "predTree2 = drugTree2.predict(X_test)\n",
    "pscores_tree2 = drugTree2.predict_proba(X_test)"
   ]
  },
  {
   "cell_type": "code",
   "execution_count": 702,
   "id": "c2c8f461",
   "metadata": {},
   "outputs": [
    {
     "name": "stdout",
     "output_type": "stream",
     "text": [
      "              precision    recall  f1-score   support\n",
      "\n",
      "           0       0.12      0.70      0.20       127\n",
      "           1       0.24      0.47      0.32       160\n",
      "           2       0.98      0.64      0.77      2294\n",
      "           3       0.21      0.80      0.33         5\n",
      "\n",
      "    accuracy                           0.63      2586\n",
      "   macro avg       0.39      0.65      0.41      2586\n",
      "weighted avg       0.89      0.63      0.72      2586\n",
      "\n",
      "Confusion matrix, without normalization\n",
      "[[  89   26   10    2]\n",
      " [  65   75   17    3]\n",
      " [ 603  212 1469   10]\n",
      " [   0    0    1    4]]\n"
     ]
    },
    {
     "data": {
      "image/png": "[encoded data removed]",
      "text/plain": [
       "<Figure size 432x288 with 2 Axes>"
      ]
     },
     "metadata": {
      "needs_background": "light"
     },
     "output_type": "display_data"
    }
   ],
   "source": [
    "# Compute confusion matrix\n",
    "#y_pred_DT2 = pscores_tree2[:,1]>0.5\n",
    "cnf_matrix2 = confusion_matrix(y_test, predTree2, labels = [0,1,2,3])\n",
    "np.set_printoptions(precision=2)\n",
    "\n",
    "print (classification_report(y_test, predTree2))\n",
    "\n",
    "# Plot non-normalized confusion matrix\n",
    "plt.figure()\n",
    "plot_confusion_matrix(cnf_matrix2, classes = [0,1,2,3], normalize= False,  title='Confusion matrix')\n",
    "plt.show()"
   ]
  },
  {
   "cell_type": "code",
   "execution_count": 690,
   "id": "5061219b",
   "metadata": {},
   "outputs": [
    {
     "ename": "ValueError",
     "evalue": "multiclass format is not supported",
     "output_type": "error",
     "traceback": [
      "\u001b[1;31m---------------------------------------------------------------------------\u001b[0m",
      "\u001b[1;31mValueError\u001b[0m                                Traceback (most recent call last)",
      "\u001b[1;32m<ipython-input-690-22ca3ff4346a>\u001b[0m in \u001b[0;36m<module>\u001b[1;34m\u001b[0m\n\u001b[0;32m      1\u001b[0m \u001b[1;31m# DT\u001b[0m\u001b[1;33m\u001b[0m\u001b[1;33m\u001b[0m\u001b[1;33m\u001b[0m\u001b[0m\n\u001b[1;32m----> 2\u001b[1;33m \u001b[0mroc_DT\u001b[0m \u001b[1;33m=\u001b[0m \u001b[0mmetrics\u001b[0m\u001b[1;33m.\u001b[0m\u001b[0mroc_curve\u001b[0m\u001b[1;33m(\u001b[0m\u001b[0my_test\u001b[0m\u001b[1;33m,\u001b[0m \u001b[0mpredTree2\u001b[0m\u001b[1;33m)\u001b[0m\u001b[1;33m\u001b[0m\u001b[1;33m\u001b[0m\u001b[0m\n\u001b[0m\u001b[0;32m      3\u001b[0m \u001b[0mauc_DT\u001b[0m \u001b[1;33m=\u001b[0m \u001b[0mmetrics\u001b[0m\u001b[1;33m.\u001b[0m\u001b[0mauc\u001b[0m\u001b[1;33m(\u001b[0m \u001b[0mroc_DF\u001b[0m\u001b[1;33m[\u001b[0m\u001b[1;36m0\u001b[0m\u001b[1;33m]\u001b[0m\u001b[1;33m,\u001b[0m \u001b[0mroc_DF\u001b[0m\u001b[1;33m[\u001b[0m\u001b[1;36m1\u001b[0m\u001b[1;33m]\u001b[0m \u001b[1;33m)\u001b[0m\u001b[1;33m\u001b[0m\u001b[1;33m\u001b[0m\u001b[0m\n\u001b[0;32m      4\u001b[0m \u001b[1;33m\u001b[0m\u001b[0m\n\u001b[0;32m      5\u001b[0m \u001b[1;33m\u001b[0m\u001b[0m\n",
      "\u001b[1;32m~\\Anaconda3\\lib\\site-packages\\sklearn\\utils\\validation.py\u001b[0m in \u001b[0;36minner_f\u001b[1;34m(*args, **kwargs)\u001b[0m\n\u001b[0;32m     61\u001b[0m             \u001b[0mextra_args\u001b[0m \u001b[1;33m=\u001b[0m \u001b[0mlen\u001b[0m\u001b[1;33m(\u001b[0m\u001b[0margs\u001b[0m\u001b[1;33m)\u001b[0m \u001b[1;33m-\u001b[0m \u001b[0mlen\u001b[0m\u001b[1;33m(\u001b[0m\u001b[0mall_args\u001b[0m\u001b[1;33m)\u001b[0m\u001b[1;33m\u001b[0m\u001b[1;33m\u001b[0m\u001b[0m\n\u001b[0;32m     62\u001b[0m             \u001b[1;32mif\u001b[0m \u001b[0mextra_args\u001b[0m \u001b[1;33m<=\u001b[0m \u001b[1;36m0\u001b[0m\u001b[1;33m:\u001b[0m\u001b[1;33m\u001b[0m\u001b[1;33m\u001b[0m\u001b[0m\n\u001b[1;32m---> 63\u001b[1;33m                 \u001b[1;32mreturn\u001b[0m \u001b[0mf\u001b[0m\u001b[1;33m(\u001b[0m\u001b[1;33m*\u001b[0m\u001b[0margs\u001b[0m\u001b[1;33m,\u001b[0m \u001b[1;33m**\u001b[0m\u001b[0mkwargs\u001b[0m\u001b[1;33m)\u001b[0m\u001b[1;33m\u001b[0m\u001b[1;33m\u001b[0m\u001b[0m\n\u001b[0m\u001b[0;32m     64\u001b[0m \u001b[1;33m\u001b[0m\u001b[0m\n\u001b[0;32m     65\u001b[0m             \u001b[1;31m# extra_args > 0\u001b[0m\u001b[1;33m\u001b[0m\u001b[1;33m\u001b[0m\u001b[1;33m\u001b[0m\u001b[0m\n",
      "\u001b[1;32m~\\Anaconda3\\lib\\site-packages\\sklearn\\metrics\\_ranking.py\u001b[0m in \u001b[0;36mroc_curve\u001b[1;34m(y_true, y_score, pos_label, sample_weight, drop_intermediate)\u001b[0m\n\u001b[0;32m    912\u001b[0m     \"\"\"\n\u001b[0;32m    913\u001b[0m     fps, tps, thresholds = _binary_clf_curve(\n\u001b[1;32m--> 914\u001b[1;33m         y_true, y_score, pos_label=pos_label, sample_weight=sample_weight)\n\u001b[0m\u001b[0;32m    915\u001b[0m \u001b[1;33m\u001b[0m\u001b[0m\n\u001b[0;32m    916\u001b[0m     \u001b[1;31m# Attempt to drop thresholds corresponding to points in between and\u001b[0m\u001b[1;33m\u001b[0m\u001b[1;33m\u001b[0m\u001b[1;33m\u001b[0m\u001b[0m\n",
      "\u001b[1;32m~\\Anaconda3\\lib\\site-packages\\sklearn\\metrics\\_ranking.py\u001b[0m in \u001b[0;36m_binary_clf_curve\u001b[1;34m(y_true, y_score, pos_label, sample_weight)\u001b[0m\n\u001b[0;32m    689\u001b[0m     if not (y_type == \"binary\" or\n\u001b[0;32m    690\u001b[0m             (y_type == \"multiclass\" and pos_label is not None)):\n\u001b[1;32m--> 691\u001b[1;33m         \u001b[1;32mraise\u001b[0m \u001b[0mValueError\u001b[0m\u001b[1;33m(\u001b[0m\u001b[1;34m\"{0} format is not supported\"\u001b[0m\u001b[1;33m.\u001b[0m\u001b[0mformat\u001b[0m\u001b[1;33m(\u001b[0m\u001b[0my_type\u001b[0m\u001b[1;33m)\u001b[0m\u001b[1;33m)\u001b[0m\u001b[1;33m\u001b[0m\u001b[1;33m\u001b[0m\u001b[0m\n\u001b[0m\u001b[0;32m    692\u001b[0m \u001b[1;33m\u001b[0m\u001b[0m\n\u001b[0;32m    693\u001b[0m     \u001b[0mcheck_consistent_length\u001b[0m\u001b[1;33m(\u001b[0m\u001b[0my_true\u001b[0m\u001b[1;33m,\u001b[0m \u001b[0my_score\u001b[0m\u001b[1;33m,\u001b[0m \u001b[0msample_weight\u001b[0m\u001b[1;33m)\u001b[0m\u001b[1;33m\u001b[0m\u001b[1;33m\u001b[0m\u001b[0m\n",
      "\u001b[1;31mValueError\u001b[0m: multiclass format is not supported"
     ]
    }
   ],
   "source": [
    "# DT\n",
    "roc_DT = metrics.roc_curve(y_test, predTree2)\n",
    "auc_DT = metrics.auc( roc_DF[0], roc_DF[1] )\n",
    "\n",
    "\n",
    "plt.figure(figsize=(5.5,5.5))\n",
    "plt.plot(roc_DT[0], roc_DT[1], lw=1,label=f\"ROC Decision Tree (AUC = {auc_RF:0.2f})\")\n",
    "\n",
    "plt.plot([0, 1], [0, 1], color='navy', lw=1.4, linestyle='--', label='Random guess')\n",
    "plt.xlabel('False Positive Rate')\n",
    "plt.ylabel('True Positive Rate')\n",
    "plt.title('ROC curves')\n",
    "plt.legend(loc='lower right')\n",
    "plt.gca().set_aspect(1)\n",
    "plt.grid(ls='--', alpha=0.6, lw=0.4)\n",
    "plt.show()"
   ]
  },
  {
   "cell_type": "markdown",
   "id": "32515ea3",
   "metadata": {},
   "source": [
    "### Random Forest Model 2"
   ]
  },
  {
   "cell_type": "code",
   "execution_count": 703,
   "id": "c18b3cde",
   "metadata": {},
   "outputs": [
    {
     "data": {
      "text/plain": [
       "RandomForestClassifier(max_depth=3, n_estimators=10, random_state=4)"
      ]
     },
     "execution_count": 703,
     "metadata": {},
     "output_type": "execute_result"
    }
   ],
   "source": [
    "#RF-\n",
    "forest_class2 = RandomForestClassifier(n_estimators=10, max_depth=3, random_state=4)\n",
    "forest_class2.fit(X_train,y_train)"
   ]
  },
  {
   "cell_type": "code",
   "execution_count": 704,
   "id": "55775211",
   "metadata": {},
   "outputs": [],
   "source": [
    "predforest2 = forest_class2.predict(X_test)\n",
    "pscores_forest2 = forest_class2.predict_proba(X_test)"
   ]
  },
  {
   "cell_type": "code",
   "execution_count": 705,
   "id": "6a0b986f",
   "metadata": {},
   "outputs": [
    {
     "name": "stdout",
     "output_type": "stream",
     "text": [
      "              precision    recall  f1-score   support\n",
      "\n",
      "           0       0.15      0.69      0.24       127\n",
      "           1       0.17      0.42      0.24       160\n",
      "           2       0.97      0.62      0.75      2294\n",
      "           3       0.04      1.00      0.08         5\n",
      "\n",
      "    accuracy                           0.61      2586\n",
      "   macro avg       0.33      0.68      0.33      2586\n",
      "weighted avg       0.88      0.61      0.70      2586\n",
      "\n",
      "Confusion matrix, without normalization\n",
      "[[  87   21   16    3]\n",
      " [  54   67   25   14]\n",
      " [ 457  318 1413  106]\n",
      " [   0    0    0    5]]\n"
     ]
    },
    {
     "data": {
      "image/png": "[encoded data removed]",
      "text/plain": [
       "<Figure size 432x288 with 2 Axes>"
      ]
     },
     "metadata": {
      "needs_background": "light"
     },
     "output_type": "display_data"
    }
   ],
   "source": [
    "# Compute confusion matrix\n",
    "#y_pred_forest = pscores_forest[:,1]>0.5\n",
    "cnf_matrix = confusion_matrix(y_test, predforest2, labels = [0,1,2,3])\n",
    "np.set_printoptions(precision=2)\n",
    "\n",
    "print (classification_report(y_test, predforest2))\n",
    "\n",
    "# Plot non-normalized confusion matrix\n",
    "plt.figure()\n",
    "plot_confusion_matrix(cnf_matrix, classes = [0,1,2,3], normalize= False,  title='Confusion matrix')\n",
    "plt.show()"
   ]
  },
  {
   "cell_type": "code",
   "execution_count": 706,
   "id": "8182e9df",
   "metadata": {},
   "outputs": [
    {
     "name": "stdout",
     "output_type": "stream",
     "text": [
      "Metrica del modelo 0.6729364300512485\n",
      "Metricas cross_validation [0.66 0.68 0.67 0.69 0.67]\n",
      "Media de cross_validation 0.6747354946002758\n",
      "Metrica en Test 0.6078886310904872\n"
     ]
    }
   ],
   "source": [
    "# cross Validation\n",
    "kf = StratifiedKFold(n_splits=5)\n",
    "#forest_class = RandomForestClassifier(n_estimators=10, max_depth=3, random_state=4)\n",
    "#forest_class.fit(X_train, y_train)\n",
    " \n",
    "score = forest_class2.score(X_train,y_train)\n",
    "print(\"Metrica del modelo\", score)\n",
    "scores = cross_val_score(forest_class2, X_train, y_train, cv=kf, scoring=\"accuracy\")\n",
    "print(\"Metricas cross_validation\", scores)\n",
    "print(\"Media de cross_validation\", scores.mean())\n",
    "\n",
    "predforest2 = forest_class2.predict(X_test)\n",
    "#predforest2 = pscores_forest[:,1]>0.8\n",
    "score_pred = metrics.accuracy_score(y_test, predforest2)\n",
    "print(\"Metrica en Test\", score_pred)"
   ]
  },
  {
   "cell_type": "markdown",
   "id": "5939e257",
   "metadata": {},
   "source": [
    "### Logistic regression"
   ]
  },
  {
   "cell_type": "code",
   "execution_count": 708,
   "id": "17dbbd79",
   "metadata": {},
   "outputs": [],
   "source": [
    "LR2 = LogisticRegression(C=0.05, solver='liblinear').fit(X_train,y_train)"
   ]
  },
  {
   "cell_type": "code",
   "execution_count": 709,
   "id": "1baca5b2",
   "metadata": {},
   "outputs": [],
   "source": [
    "yhat_LR2 = LR2.predict(X_test)\n",
    "pscores_LR2 = LR2.predict_proba(X_test)"
   ]
  },
  {
   "cell_type": "code",
   "execution_count": 710,
   "id": "c9f2e009",
   "metadata": {},
   "outputs": [
    {
     "name": "stdout",
     "output_type": "stream",
     "text": [
      "              precision    recall  f1-score   support\n",
      "\n",
      "           0       0.14      0.47      0.22       127\n",
      "           1       0.13      0.45      0.20       160\n",
      "           2       0.96      0.63      0.76      2294\n",
      "           3       0.04      0.80      0.07         5\n",
      "\n",
      "    accuracy                           0.61      2586\n",
      "   macro avg       0.32      0.59      0.31      2586\n",
      "weighted avg       0.87      0.61      0.70      2586\n",
      "\n",
      "Confusion matrix, without normalization\n",
      "[[  60   27   30   10]\n",
      " [  41   72   32   15]\n",
      " [ 320  449 1449   76]\n",
      " [   1    0    0    4]]\n"
     ]
    },
    {
     "data": {
      "image/png": "[encoded data removed]",
      "text/plain": [
       "<Figure size 432x288 with 2 Axes>"
      ]
     },
     "metadata": {
      "needs_background": "light"
     },
     "output_type": "display_data"
    }
   ],
   "source": [
    "# Compute confusion matrix\n",
    "#y_pred_LR = pscores_LR[:,1]>0.5\n",
    "cnf_matrix = confusion_matrix(y_test, yhat_LR2, labels = [0,1,2,3])\n",
    "np.set_printoptions(precision=2)\n",
    "\n",
    "print (classification_report(y_test, yhat_LR2))\n",
    "\n",
    "# Plot non-normalized confusion matrix\n",
    "plt.figure()\n",
    "plot_confusion_matrix(cnf_matrix, classes = [0,1,2,3], normalize= False,  title='Confusion matrix')\n",
    "plt.show()"
   ]
  },
  {
   "cell_type": "code",
   "execution_count": 762,
   "id": "0f603afd",
   "metadata": {},
   "outputs": [
    {
     "data": {
      "text/plain": [
       "(2586,)"
      ]
     },
     "execution_count": 762,
     "metadata": {},
     "output_type": "execute_result"
    }
   ],
   "source": [
    "yhat_LR2.shape"
   ]
  },
  {
   "cell_type": "markdown",
   "id": "28dfb138",
   "metadata": {},
   "source": [
    "### light GBM model 2"
   ]
  },
  {
   "cell_type": "code",
   "execution_count": 776,
   "id": "c60d3fa9",
   "metadata": {},
   "outputs": [
    {
     "name": "stdout",
     "output_type": "stream",
     "text": [
      "Train set: (9306, 9) (9306,)\n",
      "Test set: (2586, 9) (2586,)\n",
      "Valid set: (1035, 9) (1035,)\n"
     ]
    }
   ],
   "source": [
    "X_train, X_test, y_train, y_test = train_test_split(X_2, y_2, test_size=0.2, random_state=2,stratify=df_mo2_encoder[\"Estado_label\"])\n",
    "X_train, X_val, y_train, y_val = train_test_split(X_train, y_train, test_size=0.1, random_state=2)\n",
    "print ('Train set:', X_train.shape,  y_train.shape)\n",
    "print ('Test set:', X_test.shape,  y_test.shape)\n",
    "print ('Valid set:', X_val.shape,  y_val.shape)"
   ]
  },
  {
   "cell_type": "code",
   "execution_count": 778,
   "id": "a67a3b49",
   "metadata": {},
   "outputs": [],
   "source": [
    "# transform the dataset  SMOTE\n",
    "oversample = SMOTE()\n",
    "X_train, y_train = oversample.fit_resample(X_train, y_train)"
   ]
  },
  {
   "cell_type": "code",
   "execution_count": 779,
   "id": "e66d870d",
   "metadata": {},
   "outputs": [
    {
     "name": "stdout",
     "output_type": "stream",
     "text": [
      "Counter({2: 8255, 1: 8255, 3: 8255, 0: 8255})\n"
     ]
    }
   ],
   "source": [
    "print(Counter(y_train))"
   ]
  },
  {
   "cell_type": "code",
   "execution_count": 780,
   "id": "2c6561bf",
   "metadata": {},
   "outputs": [],
   "source": [
    "train_data = lgb.Dataset(X_train, label=y_train)\n",
    "valid_data = lgb.Dataset(X_test, label=y_test, reference=train_data)"
   ]
  },
  {
   "cell_type": "code",
   "execution_count": 781,
   "id": "9633920e",
   "metadata": {},
   "outputs": [],
   "source": [
    "## parametros para el modelo lightGBM search \n",
    "SEARCH_PARAMS = {'learning_rate': 0.4,\n",
    "                'max_depth': 15,\n",
    "                'num_leaves': 32,\n",
    "                'feature_fraction': 0.8,\n",
    "                'subsample': 0.2}\n",
    "\n",
    "FIXED_PARAMS={'objective': 'multiclass',\n",
    "              'num_class':4,\n",
    "              'metric': 'multi_logloss',\n",
    "             'is_unbalance':False,\n",
    "             'bagging_freq':5,\n",
    "             'boosting':'dart',\n",
    "             'num_boost_round':300,\n",
    "             'early_stopping_rounds':30}\n"
   ]
  },
  {
   "cell_type": "code",
   "execution_count": 782,
   "id": "1deed135",
   "metadata": {},
   "outputs": [],
   "source": [
    "params = {'metric':FIXED_PARAMS['metric'],\n",
    "             'objective':FIXED_PARAMS['objective'],'num_class':FIXED_PARAMS['num_class'],**SEARCH_PARAMS}"
   ]
  },
  {
   "cell_type": "code",
   "execution_count": 783,
   "id": "92b002ca",
   "metadata": {},
   "outputs": [
    {
     "name": "stderr",
     "output_type": "stream",
     "text": [
      "C:\\Users\\d84088661\\Anaconda3\\lib\\site-packages\\lightgbm\\engine.py:181: UserWarning: 'early_stopping_rounds' argument is deprecated and will be removed in a future release of LightGBM. Pass 'early_stopping()' callback via 'callbacks' argument instead.\n",
      "  _log_warning(\"'early_stopping_rounds' argument is deprecated and will be removed in a future release of LightGBM. \"\n"
     ]
    },
    {
     "name": "stdout",
     "output_type": "stream",
     "text": [
      "[LightGBM] [Warning] Auto-choosing col-wise multi-threading, the overhead of testing was 0.001631 seconds.\n",
      "You can set `force_col_wise=true` to remove the overhead.\n",
      "[LightGBM] [Info] Total Bins 2295\n",
      "[LightGBM] [Info] Number of data points in the train set: 33020, number of used features: 9\n",
      "[LightGBM] [Info] Start training from score -1.386294\n",
      "[LightGBM] [Info] Start training from score -1.386294\n",
      "[LightGBM] [Info] Start training from score -1.386294\n",
      "[LightGBM] [Info] Start training from score -1.386294\n",
      "[1]\tvalid's multi_logloss: 0.812406\n",
      "Training until validation scores don't improve for 30 rounds\n",
      "[2]\tvalid's multi_logloss: 0.632967\n",
      "[3]\tvalid's multi_logloss: 0.531981\n",
      "[4]\tvalid's multi_logloss: 0.454718\n",
      "[5]\tvalid's multi_logloss: 0.40731\n",
      "[6]\tvalid's multi_logloss: 0.3779\n",
      "[7]\tvalid's multi_logloss: 0.354885\n",
      "[8]\tvalid's multi_logloss: 0.340621\n",
      "[9]\tvalid's multi_logloss: 0.325022\n",
      "[10]\tvalid's multi_logloss: 0.314196\n",
      "[11]\tvalid's multi_logloss: 0.310969\n",
      "[12]\tvalid's multi_logloss: 0.303453\n",
      "[13]\tvalid's multi_logloss: 0.299377\n",
      "[14]\tvalid's multi_logloss: 0.294716\n",
      "[15]\tvalid's multi_logloss: 0.292803\n",
      "[16]\tvalid's multi_logloss: 0.287562\n",
      "[17]\tvalid's multi_logloss: 0.284619\n",
      "[18]\tvalid's multi_logloss: 0.284466\n",
      "[19]\tvalid's multi_logloss: 0.282215\n",
      "[20]\tvalid's multi_logloss: 0.280899\n",
      "[21]\tvalid's multi_logloss: 0.280193\n",
      "[22]\tvalid's multi_logloss: 0.281535\n",
      "[23]\tvalid's multi_logloss: 0.281295\n",
      "[24]\tvalid's multi_logloss: 0.278275\n",
      "[25]\tvalid's multi_logloss: 0.271707\n",
      "[26]\tvalid's multi_logloss: 0.270053\n",
      "[27]\tvalid's multi_logloss: 0.269547\n",
      "[28]\tvalid's multi_logloss: 0.26892\n",
      "[29]\tvalid's multi_logloss: 0.268438\n",
      "[30]\tvalid's multi_logloss: 0.269285\n",
      "[31]\tvalid's multi_logloss: 0.267951\n",
      "[32]\tvalid's multi_logloss: 0.268955\n",
      "[33]\tvalid's multi_logloss: 0.268597\n",
      "[34]\tvalid's multi_logloss: 0.268659\n",
      "[35]\tvalid's multi_logloss: 0.265447\n",
      "[36]\tvalid's multi_logloss: 0.265804\n",
      "[37]\tvalid's multi_logloss: 0.267799\n",
      "[38]\tvalid's multi_logloss: 0.267548\n",
      "[39]\tvalid's multi_logloss: 0.267555\n",
      "[40]\tvalid's multi_logloss: 0.267727\n",
      "[41]\tvalid's multi_logloss: 0.267291\n",
      "[42]\tvalid's multi_logloss: 0.268176\n",
      "[43]\tvalid's multi_logloss: 0.267745\n",
      "[44]\tvalid's multi_logloss: 0.269636\n",
      "[LightGBM] [Warning] No further splits with positive gain, best gain: -inf\n",
      "[45]\tvalid's multi_logloss: 0.270655\n",
      "[LightGBM] [Warning] No further splits with positive gain, best gain: -inf\n",
      "[46]\tvalid's multi_logloss: 0.271597\n",
      "[LightGBM] [Warning] No further splits with positive gain, best gain: -inf\n",
      "[47]\tvalid's multi_logloss: 0.272659\n",
      "[LightGBM] [Warning] No further splits with positive gain, best gain: -inf\n",
      "[48]\tvalid's multi_logloss: 0.273048\n",
      "[LightGBM] [Warning] No further splits with positive gain, best gain: -inf\n",
      "[49]\tvalid's multi_logloss: 0.272781\n",
      "[LightGBM] [Warning] No further splits with positive gain, best gain: -inf\n",
      "[50]\tvalid's multi_logloss: 0.273922\n",
      "[LightGBM] [Warning] No further splits with positive gain, best gain: -inf\n",
      "[51]\tvalid's multi_logloss: 0.274216\n",
      "[LightGBM] [Warning] No further splits with positive gain, best gain: -inf\n",
      "[52]\tvalid's multi_logloss: 0.27462\n",
      "[LightGBM] [Warning] No further splits with positive gain, best gain: -inf\n",
      "[53]\tvalid's multi_logloss: 0.275689\n",
      "[LightGBM] [Warning] No further splits with positive gain, best gain: -inf\n",
      "[54]\tvalid's multi_logloss: 0.276351\n",
      "[LightGBM] [Warning] No further splits with positive gain, best gain: -inf\n",
      "[55]\tvalid's multi_logloss: 0.275518\n",
      "[LightGBM] [Warning] No further splits with positive gain, best gain: -inf\n",
      "[56]\tvalid's multi_logloss: 0.277614\n",
      "[LightGBM] [Warning] No further splits with positive gain, best gain: -inf\n",
      "[57]\tvalid's multi_logloss: 0.277379\n",
      "[LightGBM] [Warning] No further splits with positive gain, best gain: -inf\n",
      "[58]\tvalid's multi_logloss: 0.279927\n",
      "[LightGBM] [Warning] No further splits with positive gain, best gain: -inf\n",
      "[59]\tvalid's multi_logloss: 0.28022\n",
      "[LightGBM] [Warning] No further splits with positive gain, best gain: -inf\n",
      "[60]\tvalid's multi_logloss: 0.281462\n",
      "[LightGBM] [Warning] No further splits with positive gain, best gain: -inf\n",
      "[61]\tvalid's multi_logloss: 0.282464\n",
      "[LightGBM] [Warning] No further splits with positive gain, best gain: -inf\n",
      "[62]\tvalid's multi_logloss: 0.282876\n",
      "[LightGBM] [Warning] No further splits with positive gain, best gain: -inf\n",
      "[63]\tvalid's multi_logloss: 0.282979\n",
      "[LightGBM] [Warning] No further splits with positive gain, best gain: -inf\n",
      "[64]\tvalid's multi_logloss: 0.283768\n",
      "[LightGBM] [Warning] No further splits with positive gain, best gain: -inf\n",
      "[65]\tvalid's multi_logloss: 0.283576\n",
      "Early stopping, best iteration is:\n",
      "[35]\tvalid's multi_logloss: 0.265447\n"
     ]
    }
   ],
   "source": [
    "model2 = lgb.train(params, train_data,                     \n",
    "                     valid_sets=[valid_data],\n",
    "                     num_boost_round=FIXED_PARAMS['num_boost_round'],\n",
    "                     early_stopping_rounds=FIXED_PARAMS['early_stopping_rounds'],\n",
    "                     valid_names=['valid'])"
   ]
  },
  {
   "cell_type": "code",
   "execution_count": 784,
   "id": "6b099824",
   "metadata": {},
   "outputs": [],
   "source": [
    "## score de test\n",
    "y_predict_LGBM2 = model2.predict(X_val,num_iteration=model2.best_iteration)"
   ]
  },
  {
   "cell_type": "code",
   "execution_count": 785,
   "id": "f282e239",
   "metadata": {},
   "outputs": [],
   "source": [
    "#convert into binary values\t\n",
    "y_predict_LGBM2 = [np.argmax(line) for line in y_predict_LGBM2]"
   ]
  },
  {
   "cell_type": "code",
   "execution_count": 786,
   "id": "68d96bd8",
   "metadata": {},
   "outputs": [
    {
     "data": {
      "text/plain": [
       "(2586,)"
      ]
     },
     "execution_count": 786,
     "metadata": {},
     "output_type": "execute_result"
    }
   ],
   "source": [
    "y_test.shape"
   ]
  },
  {
   "cell_type": "code",
   "execution_count": 787,
   "id": "8ff653d2",
   "metadata": {},
   "outputs": [
    {
     "name": "stdout",
     "output_type": "stream",
     "text": [
      "0.9014492753623189\n"
     ]
    }
   ],
   "source": [
    "print(accuracy_score(y_val,y_predict_LGBM2))"
   ]
  },
  {
   "cell_type": "code",
   "execution_count": 788,
   "id": "63e9eb80",
   "metadata": {},
   "outputs": [
    {
     "name": "stdout",
     "output_type": "stream",
     "text": [
      "              precision    recall  f1-score   support\n",
      "\n",
      "           0       0.47      0.54      0.50        48\n",
      "           1       0.62      0.44      0.51        71\n",
      "           2       0.94      0.96      0.95       916\n",
      "           3       0.00      0.00      0.00         0\n",
      "\n",
      "    accuracy                           0.90      1035\n",
      "   macro avg       0.51      0.48      0.49      1035\n",
      "weighted avg       0.90      0.90      0.90      1035\n",
      "\n",
      "Confusion matrix, without normalization\n",
      "[[ 26   1  21   0]\n",
      " [  7  31  30   3]\n",
      " [ 22  18 876   0]\n",
      " [  0   0   0   0]]\n"
     ]
    },
    {
     "name": "stderr",
     "output_type": "stream",
     "text": [
      "C:\\Users\\d84088661\\Anaconda3\\lib\\site-packages\\sklearn\\metrics\\_classification.py:1248: UndefinedMetricWarning: Recall and F-score are ill-defined and being set to 0.0 in labels with no true samples. Use `zero_division` parameter to control this behavior.\n",
      "  _warn_prf(average, modifier, msg_start, len(result))\n",
      "C:\\Users\\d84088661\\Anaconda3\\lib\\site-packages\\sklearn\\metrics\\_classification.py:1248: UndefinedMetricWarning: Recall and F-score are ill-defined and being set to 0.0 in labels with no true samples. Use `zero_division` parameter to control this behavior.\n",
      "  _warn_prf(average, modifier, msg_start, len(result))\n",
      "C:\\Users\\d84088661\\Anaconda3\\lib\\site-packages\\sklearn\\metrics\\_classification.py:1248: UndefinedMetricWarning: Recall and F-score are ill-defined and being set to 0.0 in labels with no true samples. Use `zero_division` parameter to control this behavior.\n",
      "  _warn_prf(average, modifier, msg_start, len(result))\n"
     ]
    },
    {
     "data": {
      "image/png": "[encoded data removed]",
      "text/plain": [
       "<Figure size 432x288 with 2 Axes>"
      ]
     },
     "metadata": {
      "needs_background": "light"
     },
     "output_type": "display_data"
    }
   ],
   "source": [
    "cnf_matrix = confusion_matrix(y_val, y_predict_LGBM2, labels = [0,1,2,3])\n",
    "np.set_printoptions(precision=2)\n",
    "\n",
    "print (classification_report(y_val, y_predict_LGBM2))\n",
    "\n",
    "# Plot non-normalized confusion matrix\n",
    "plt.figure()\n",
    "plot_confusion_matrix(cnf_matrix, classes = [0,1,2,3], normalize= False,  title='Confusion matrix')\n",
    "plt.show()"
   ]
  },
  {
   "cell_type": "markdown",
   "id": "8255077b",
   "metadata": {},
   "source": [
    "### Optuna lightGBM MOdel 2"
   ]
  },
  {
   "cell_type": "code",
   "execution_count": 791,
   "id": "a12778c2",
   "metadata": {},
   "outputs": [],
   "source": [
    "def objective(trial):\n",
    "    #Split Train - Test. 80%-20%\n",
    "    X_train, X_test, y_train, y_test = train_test_split(X_2, y_2, test_size=0.2, random_state=2,stratify=df_mo2_encoder[\"Estado_label\"])\n",
    "    # del 80% del test sacamos 10% para validacion queda 72% train 20%  valid 8%\n",
    "    X_train, X_val, y_train, y_val = train_test_split(X_train, y_train, test_size=0.1, random_state=2)\n",
    "\n",
    "   \n",
    "  \n",
    "    # transform the dataset  SMOTE\n",
    "    oversample = SMOTE()\n",
    "    X_train, y_train = oversample.fit_resample(X_train, y_train)\n",
    "    dtrain = lgb.Dataset(X_train, label=y_train)\n",
    "    param = {\n",
    "        \"objective\": \"multiclass\",\n",
    "        \"metric\": \"multi_logloss\",\n",
    "        'num_class':4,\n",
    "        \"verbosity\": -1,\n",
    "        \"boosting_type\": \"dart\",\n",
    "        \"lambda_l1\": trial.suggest_float(\"lambda_l1\", 1e-8, 10.0, log=True),\n",
    "        \"lambda_l2\": trial.suggest_float(\"lambda_l2\", 1e-8, 10.0, log=True),\n",
    "        \"num_leaves\": trial.suggest_int(\"num_leaves\", 2, 256),\n",
    "        \"feature_fraction\": trial.suggest_float(\"feature_fraction\", 0.4, 1.0),\n",
    "        \"bagging_fraction\": trial.suggest_float(\"bagging_fraction\", 0.4, 1.0),\n",
    "        \"bagging_freq\": trial.suggest_int(\"bagging_freq\", 1, 7),\n",
    "        \"min_child_samples\": trial.suggest_int(\"min_child_samples\", 5, 100),\n",
    "        }    \n",
    "        \n",
    "        \n",
    "    gbm = lgb.train(param, dtrain)\n",
    "    preds = gbm.predict(X_test)\n",
    "    preds = [np.argmax(line) for line in preds]\n",
    "    pred_labels = np.rint(preds)\n",
    "    accuracy = accuracy_score(y_test, pred_labels)\n",
    "    return accuracy\n",
    "    "
   ]
  },
  {
   "cell_type": "code",
   "execution_count": 792,
   "id": "ef19873d",
   "metadata": {},
   "outputs": [
    {
     "name": "stderr",
     "output_type": "stream",
     "text": [
      "\u001b[32m[I 2021-12-04 19:00:01,209]\u001b[0m A new study created in memory with name: no-name-c312a05a-a6f1-4b57-9781-fb12fbebc283\u001b[0m\n",
      "\u001b[32m[I 2021-12-04 19:00:03,100]\u001b[0m Trial 0 finished with value: 0.8924980665119876 and parameters: {'lambda_l1': 4.850325901675337e-06, 'lambda_l2': 2.163908459809035e-08, 'num_leaves': 32, 'feature_fraction': 0.8885797043205778, 'bagging_fraction': 0.7445943928840556, 'bagging_freq': 4, 'min_child_samples': 75}. Best is trial 0 with value: 0.8924980665119876.\u001b[0m\n",
      "\u001b[32m[I 2021-12-04 19:00:06,186]\u001b[0m Trial 1 finished with value: 0.88553750966744 and parameters: {'lambda_l1': 4.151881715729788, 'lambda_l2': 5.897954627336975e-07, 'num_leaves': 55, 'feature_fraction': 0.8704277354477647, 'bagging_fraction': 0.4821061024295406, 'bagging_freq': 6, 'min_child_samples': 81}. Best is trial 0 with value: 0.8924980665119876.\u001b[0m\n",
      "\u001b[32m[I 2021-12-04 19:00:10,285]\u001b[0m Trial 2 finished with value: 0.9017788089713844 and parameters: {'lambda_l1': 1.6893880579307293e-08, 'lambda_l2': 0.06366831971219367, 'num_leaves': 152, 'feature_fraction': 0.75653133347538, 'bagging_fraction': 0.44813840488361845, 'bagging_freq': 3, 'min_child_samples': 76}. Best is trial 2 with value: 0.9017788089713844.\u001b[0m\n",
      "\u001b[32m[I 2021-12-04 19:00:14,425]\u001b[0m Trial 3 finished with value: 0.894431554524362 and parameters: {'lambda_l1': 4.817843259016255, 'lambda_l2': 4.822074954108792, 'num_leaves': 165, 'feature_fraction': 0.5549051399197189, 'bagging_fraction': 0.6144990130491994, 'bagging_freq': 7, 'min_child_samples': 27}. Best is trial 2 with value: 0.9017788089713844.\u001b[0m\n",
      "\u001b[32m[I 2021-12-04 19:00:17,214]\u001b[0m Trial 4 finished with value: 0.8975251353441609 and parameters: {'lambda_l1': 4.4818367527324e-05, 'lambda_l2': 2.5206973215463737, 'num_leaves': 41, 'feature_fraction': 0.9153453653906946, 'bagging_fraction': 0.6446402566754037, 'bagging_freq': 5, 'min_child_samples': 51}. Best is trial 2 with value: 0.9017788089713844.\u001b[0m\n",
      "\u001b[32m[I 2021-12-04 19:00:24,425]\u001b[0m Trial 5 finished with value: 0.9102861562258314 and parameters: {'lambda_l1': 0.008563638184198743, 'lambda_l2': 0.0007897277774589589, 'num_leaves': 247, 'feature_fraction': 0.9502546366445787, 'bagging_fraction': 0.5320018990194846, 'bagging_freq': 5, 'min_child_samples': 29}. Best is trial 5 with value: 0.9102861562258314.\u001b[0m\n",
      "\u001b[32m[I 2021-12-04 19:00:29,897]\u001b[0m Trial 6 finished with value: 0.9044856921887084 and parameters: {'lambda_l1': 0.00011072843258146554, 'lambda_l2': 0.12092446251578584, 'num_leaves': 247, 'feature_fraction': 0.4494165327135841, 'bagging_fraction': 0.9763662011866947, 'bagging_freq': 6, 'min_child_samples': 91}. Best is trial 5 with value: 0.9102861562258314.\u001b[0m\n",
      "\u001b[32m[I 2021-12-04 19:00:35,937]\u001b[0m Trial 7 finished with value: 0.9040989945862336 and parameters: {'lambda_l1': 8.140285026376997e-06, 'lambda_l2': 3.944348873092467e-05, 'num_leaves': 113, 'feature_fraction': 0.43290261071130615, 'bagging_fraction': 0.6879276941227155, 'bagging_freq': 1, 'min_child_samples': 83}. Best is trial 5 with value: 0.9102861562258314.\u001b[0m\n",
      "\u001b[32m[I 2021-12-04 19:00:40,493]\u001b[0m Trial 8 finished with value: 0.9079659706109822 and parameters: {'lambda_l1': 3.156136432131369e-07, 'lambda_l2': 0.3389842407418208, 'num_leaves': 70, 'feature_fraction': 0.8114105083316969, 'bagging_fraction': 0.5035984975379915, 'bagging_freq': 6, 'min_child_samples': 24}. Best is trial 5 with value: 0.9102861562258314.\u001b[0m\n",
      "\u001b[32m[I 2021-12-04 19:00:45,302]\u001b[0m Trial 9 finished with value: 0.9071925754060325 and parameters: {'lambda_l1': 5.8864637247863596e-06, 'lambda_l2': 0.000474873397552589, 'num_leaves': 119, 'feature_fraction': 0.7589995016740965, 'bagging_fraction': 0.6360605666052297, 'bagging_freq': 3, 'min_child_samples': 67}. Best is trial 5 with value: 0.9102861562258314.\u001b[0m\n",
      "\u001b[32m[I 2021-12-04 19:00:51,300]\u001b[0m Trial 10 finished with value: 0.9153132250580046 and parameters: {'lambda_l1': 0.016881335112922197, 'lambda_l2': 0.0008648895504351189, 'num_leaves': 252, 'feature_fraction': 0.6312472157176775, 'bagging_fraction': 0.8462483240334338, 'bagging_freq': 1, 'min_child_samples': 42}. Best is trial 10 with value: 0.9153132250580046.\u001b[0m\n",
      "\u001b[32m[I 2021-12-04 19:00:56,915]\u001b[0m Trial 11 finished with value: 0.9195668986852281 and parameters: {'lambda_l1': 0.025738579032202533, 'lambda_l2': 0.0011839645282030527, 'num_leaves': 252, 'feature_fraction': 0.6276604522356961, 'bagging_fraction': 0.8607775065890249, 'bagging_freq': 1, 'min_child_samples': 42}. Best is trial 11 with value: 0.9195668986852281.\u001b[0m\n",
      "\u001b[32m[I 2021-12-04 19:01:02,290]\u001b[0m Trial 12 finished with value: 0.9118329466357309 and parameters: {'lambda_l1': 0.012649208816234658, 'lambda_l2': 1.969549563214935e-05, 'num_leaves': 202, 'feature_fraction': 0.626084420853724, 'bagging_fraction': 0.8598351823269182, 'bagging_freq': 1, 'min_child_samples': 47}. Best is trial 11 with value: 0.9195668986852281.\u001b[0m\n",
      "\u001b[32m[I 2021-12-04 19:01:07,992]\u001b[0m Trial 13 finished with value: 0.9191802010827533 and parameters: {'lambda_l1': 0.01297796591776599, 'lambda_l2': 0.007029846793800941, 'num_leaves': 207, 'feature_fraction': 0.6293574516816323, 'bagging_fraction': 0.8192655740759363, 'bagging_freq': 2, 'min_child_samples': 10}. Best is trial 11 with value: 0.9195668986852281.\u001b[0m\n",
      "\u001b[32m[I 2021-12-04 19:01:13,336]\u001b[0m Trial 14 finished with value: 0.917246713070379 and parameters: {'lambda_l1': 0.1831645560886504, 'lambda_l2': 0.010095781904888504, 'num_leaves': 210, 'feature_fraction': 0.5292613581416739, 'bagging_fraction': 0.8069889523332124, 'bagging_freq': 2, 'min_child_samples': 11}. Best is trial 11 with value: 0.9195668986852281.\u001b[0m\n",
      "\u001b[32m[I 2021-12-04 19:01:19,142]\u001b[0m Trial 15 finished with value: 0.9195668986852281 and parameters: {'lambda_l1': 0.0014720897892115399, 'lambda_l2': 0.008477406797570222, 'num_leaves': 203, 'feature_fraction': 0.6483777804574948, 'bagging_fraction': 0.955223859032185, 'bagging_freq': 2, 'min_child_samples': 7}. Best is trial 11 with value: 0.9195668986852281.\u001b[0m\n",
      "\u001b[32m[I 2021-12-04 19:01:24,929]\u001b[0m Trial 16 finished with value: 0.9118329466357309 and parameters: {'lambda_l1': 0.0009562462906957955, 'lambda_l2': 1.8865484266906465e-05, 'num_leaves': 185, 'feature_fraction': 0.7007876442244445, 'bagging_fraction': 0.9843953338033546, 'bagging_freq': 2, 'min_child_samples': 61}. Best is trial 11 with value: 0.9195668986852281.\u001b[0m\n",
      "\u001b[32m[I 2021-12-04 19:01:30,393]\u001b[0m Trial 17 finished with value: 0.9129930394431555 and parameters: {'lambda_l1': 0.4554468939052106, 'lambda_l2': 0.011135806871056534, 'num_leaves': 232, 'feature_fraction': 0.5515774939598596, 'bagging_fraction': 0.9080074141342229, 'bagging_freq': 3, 'min_child_samples': 34}. Best is trial 11 with value: 0.9195668986852281.\u001b[0m\n",
      "\u001b[32m[I 2021-12-04 19:01:35,269]\u001b[0m Trial 18 finished with value: 0.9145398298530549 and parameters: {'lambda_l1': 0.0008305567921133156, 'lambda_l2': 1.490465806529603e-07, 'num_leaves': 90, 'feature_fraction': 0.7008131450487926, 'bagging_fraction': 0.9229429743112445, 'bagging_freq': 2, 'min_child_samples': 5}. Best is trial 11 with value: 0.9195668986852281.\u001b[0m\n",
      "\u001b[32m[I 2021-12-04 19:01:40,228]\u001b[0m Trial 19 finished with value: 0.9010054137664346 and parameters: {'lambda_l1': 0.11958720963536318, 'lambda_l2': 9.399118143133888e-05, 'num_leaves': 151, 'feature_fraction': 0.49384066723174647, 'bagging_fraction': 0.7677539339246329, 'bagging_freq': 1, 'min_child_samples': 100}. Best is trial 11 with value: 0.9195668986852281.\u001b[0m\n",
      "\u001b[32m[I 2021-12-04 19:01:49,553]\u001b[0m Trial 20 finished with value: 0.917246713070379 and parameters: {'lambda_l1': 0.0010500953059243404, 'lambda_l2': 0.003474942845304625, 'num_leaves': 226, 'feature_fraction': 0.5967650528137112, 'bagging_fraction': 0.9114770385399558, 'bagging_freq': 4, 'min_child_samples': 16}. Best is trial 11 with value: 0.9195668986852281.\u001b[0m\n",
      "\u001b[32m[I 2021-12-04 19:01:55,781]\u001b[0m Trial 21 finished with value: 0.9187935034802784 and parameters: {'lambda_l1': 0.006233616661580727, 'lambda_l2': 0.02386589625860883, 'num_leaves': 185, 'feature_fraction': 0.6690404170874792, 'bagging_fraction': 0.8488901001089447, 'bagging_freq': 2, 'min_child_samples': 14}. Best is trial 11 with value: 0.9195668986852281.\u001b[0m\n"
     ]
    },
    {
     "name": "stderr",
     "output_type": "stream",
     "text": [
      "\u001b[32m[I 2021-12-04 19:02:02,508]\u001b[0m Trial 22 finished with value: 0.9187935034802784 and parameters: {'lambda_l1': 0.06574593699357403, 'lambda_l2': 2.7955463970179662e-06, 'num_leaves': 219, 'feature_fraction': 0.6607520534080521, 'bagging_fraction': 0.7834622091968728, 'bagging_freq': 2, 'min_child_samples': 5}. Best is trial 11 with value: 0.9195668986852281.\u001b[0m\n",
      "\u001b[32m[I 2021-12-04 19:02:03,957]\u001b[0m Trial 23 finished with value: 0.7803557617942769 and parameters: {'lambda_l1': 0.7780660638308254, 'lambda_l2': 0.003576950171476728, 'num_leaves': 6, 'feature_fraction': 0.7504103191538861, 'bagging_fraction': 0.9491930706903913, 'bagging_freq': 3, 'min_child_samples': 39}. Best is trial 11 with value: 0.9195668986852281.\u001b[0m\n",
      "\u001b[32m[I 2021-12-04 19:02:09,162]\u001b[0m Trial 24 finished with value: 0.9149265274555298 and parameters: {'lambda_l1': 0.0031581108839325777, 'lambda_l2': 0.0001925624104590201, 'num_leaves': 189, 'feature_fraction': 0.5915479655447592, 'bagging_fraction': 0.8680017832516687, 'bagging_freq': 1, 'min_child_samples': 20}. Best is trial 11 with value: 0.9195668986852281.\u001b[0m\n",
      "\u001b[32m[I 2021-12-04 19:02:14,100]\u001b[0m Trial 25 finished with value: 0.905645784996133 and parameters: {'lambda_l1': 0.00013747932798290996, 'lambda_l2': 0.5853287017906957, 'num_leaves': 202, 'feature_fraction': 0.49919782048745887, 'bagging_fraction': 0.7260850134943504, 'bagging_freq': 2, 'min_child_samples': 59}. Best is trial 11 with value: 0.9195668986852281.\u001b[0m\n",
      "\u001b[32m[I 2021-12-04 19:02:19,733]\u001b[0m Trial 26 finished with value: 0.9106728538283063 and parameters: {'lambda_l1': 0.03204666939341711, 'lambda_l2': 0.0025813613835321955, 'num_leaves': 166, 'feature_fraction': 0.5869118063496106, 'bagging_fraction': 0.8051292847127556, 'bagging_freq': 3, 'min_child_samples': 34}. Best is trial 11 with value: 0.9195668986852281.\u001b[0m\n",
      "\u001b[32m[I 2021-12-04 19:02:25,646]\u001b[0m Trial 27 finished with value: 0.9203402938901779 and parameters: {'lambda_l1': 0.0019505069484308478, 'lambda_l2': 0.04907864059369599, 'num_leaves': 233, 'feature_fraction': 0.7271868628011451, 'bagging_fraction': 0.8818850391019071, 'bagging_freq': 1, 'min_child_samples': 11}. Best is trial 27 with value: 0.9203402938901779.\u001b[0m\n",
      "\u001b[32m[I 2021-12-04 19:02:31,667]\u001b[0m Trial 28 finished with value: 0.9195668986852281 and parameters: {'lambda_l1': 2.9827058119391082e-05, 'lambda_l2': 0.03547214232167839, 'num_leaves': 232, 'feature_fraction': 0.7983391409678264, 'bagging_fraction': 0.8941287121076834, 'bagging_freq': 1, 'min_child_samples': 17}. Best is trial 27 with value: 0.9203402938901779.\u001b[0m\n",
      "\u001b[32m[I 2021-12-04 19:02:37,718]\u001b[0m Trial 29 finished with value: 0.917246713070379 and parameters: {'lambda_l1': 1.3167126537954104e-06, 'lambda_l2': 0.06405320686297575, 'num_leaves': 230, 'feature_fraction': 0.8270112534205167, 'bagging_fraction': 0.952830483017157, 'bagging_freq': 4, 'min_child_samples': 22}. Best is trial 27 with value: 0.9203402938901779.\u001b[0m\n",
      "\u001b[32m[I 2021-12-04 19:02:43,061]\u001b[0m Trial 30 finished with value: 0.91415313225058 and parameters: {'lambda_l1': 3.302799008709167e-05, 'lambda_l2': 1.144556941852785, 'num_leaves': 170, 'feature_fraction': 0.9981189100165118, 'bagging_fraction': 0.992923377115703, 'bagging_freq': 1, 'min_child_samples': 18}. Best is trial 27 with value: 0.9203402938901779.\u001b[0m\n",
      "\u001b[32m[I 2021-12-04 19:02:49,903]\u001b[0m Trial 31 finished with value: 0.9184068058778035 and parameters: {'lambda_l1': 0.00038124580709540966, 'lambda_l2': 0.15751193991199225, 'num_leaves': 255, 'feature_fraction': 0.8023788759367853, 'bagging_fraction': 0.891821195769643, 'bagging_freq': 1, 'min_child_samples': 9}. Best is trial 27 with value: 0.9203402938901779.\u001b[0m\n",
      "\u001b[32m[I 2021-12-04 19:02:57,063]\u001b[0m Trial 32 finished with value: 0.9176334106728539 and parameters: {'lambda_l1': 0.0025895901747703823, 'lambda_l2': 0.01721244723065854, 'num_leaves': 232, 'feature_fraction': 0.7115981011676978, 'bagging_fraction': 0.9414499446697246, 'bagging_freq': 1, 'min_child_samples': 31}. Best is trial 27 with value: 0.9203402938901779.\u001b[0m\n",
      "\u001b[32m[I 2021-12-04 19:03:03,309]\u001b[0m Trial 33 finished with value: 0.9215003866976025 and parameters: {'lambda_l1': 2.5964080101015245e-05, 'lambda_l2': 0.03509991642493297, 'num_leaves': 237, 'feature_fraction': 0.749003573683827, 'bagging_fraction': 0.8917703251493023, 'bagging_freq': 1, 'min_child_samples': 16}. Best is trial 33 with value: 0.9215003866976025.\u001b[0m\n",
      "\u001b[32m[I 2021-12-04 19:03:09,681]\u001b[0m Trial 34 finished with value: 0.9234338747099768 and parameters: {'lambda_l1': 2.2365072284057357e-07, 'lambda_l2': 0.2032176998648175, 'num_leaves': 242, 'feature_fraction': 0.7355153600776576, 'bagging_fraction': 0.8826944250150961, 'bagging_freq': 2, 'min_child_samples': 5}. Best is trial 34 with value: 0.9234338747099768.\u001b[0m\n",
      "\u001b[32m[I 2021-12-04 19:03:15,890]\u001b[0m Trial 35 finished with value: 0.9129930394431555 and parameters: {'lambda_l1': 2.2464374536611802e-08, 'lambda_l2': 5.204546107914742, 'num_leaves': 238, 'feature_fraction': 0.868566558808197, 'bagging_fraction': 0.8806578565519696, 'bagging_freq': 1, 'min_child_samples': 15}. Best is trial 34 with value: 0.9234338747099768.\u001b[0m\n",
      "\u001b[32m[I 2021-12-04 19:03:21,667]\u001b[0m Trial 36 finished with value: 0.917246713070379 and parameters: {'lambda_l1': 1.2554318495400768e-07, 'lambda_l2': 0.04435478539538059, 'num_leaves': 221, 'feature_fraction': 0.7715185500843432, 'bagging_fraction': 0.762660939162045, 'bagging_freq': 2, 'min_child_samples': 26}. Best is trial 34 with value: 0.9234338747099768.\u001b[0m\n",
      "\u001b[32m[I 2021-12-04 19:03:26,623]\u001b[0m Trial 37 finished with value: 0.9133797370456304 and parameters: {'lambda_l1': 1.730026545081132e-05, 'lambda_l2': 1.5019605261838231, 'num_leaves': 142, 'feature_fraction': 0.8604153564344538, 'bagging_fraction': 0.7051591792264584, 'bagging_freq': 7, 'min_child_samples': 20}. Best is trial 34 with value: 0.9234338747099768.\u001b[0m\n",
      "\u001b[32m[I 2021-12-04 19:03:32,539]\u001b[0m Trial 38 finished with value: 0.9133797370456304 and parameters: {'lambda_l1': 3.0107487249032204e-06, 'lambda_l2': 0.33445684546612325, 'num_leaves': 240, 'feature_fraction': 0.7353370085291773, 'bagging_fraction': 0.5645832857949424, 'bagging_freq': 1, 'min_child_samples': 14}. Best is trial 34 with value: 0.9234338747099768.\u001b[0m\n",
      "\u001b[32m[I 2021-12-04 19:03:37,754]\u001b[0m Trial 39 finished with value: 0.9106728538283063 and parameters: {'lambda_l1': 0.00016842259790797665, 'lambda_l2': 9.288952077380975, 'num_leaves': 192, 'feature_fraction': 0.6743473818236354, 'bagging_fraction': 0.8232636990202402, 'bagging_freq': 3, 'min_child_samples': 7}. Best is trial 34 with value: 0.9234338747099768.\u001b[0m\n",
      "\u001b[32m[I 2021-12-04 19:03:43,649]\u001b[0m Trial 40 finished with value: 0.9160866202629544 and parameters: {'lambda_l1': 4.651995174380236e-07, 'lambda_l2': 0.10936514320415558, 'num_leaves': 213, 'feature_fraction': 0.7345113401139577, 'bagging_fraction': 0.9575559879325383, 'bagging_freq': 5, 'min_child_samples': 12}. Best is trial 34 with value: 0.9234338747099768.\u001b[0m\n",
      "\u001b[32m[I 2021-12-04 19:03:49,854]\u001b[0m Trial 41 finished with value: 0.9180201082753287 and parameters: {'lambda_l1': 5.4713815942649474e-05, 'lambda_l2': 0.00109860942911847, 'num_leaves': 253, 'feature_fraction': 0.7770086504542731, 'bagging_fraction': 0.8924961967549483, 'bagging_freq': 1, 'min_child_samples': 23}. Best is trial 34 with value: 0.9234338747099768.\u001b[0m\n",
      "\u001b[32m[I 2021-12-04 19:03:55,725]\u001b[0m Trial 42 finished with value: 0.9168600154679041 and parameters: {'lambda_l1': 1.7591858950871673e-06, 'lambda_l2': 0.050987800945576124, 'num_leaves': 242, 'feature_fraction': 0.8360553586382231, 'bagging_fraction': 0.9160486625302257, 'bagging_freq': 1, 'min_child_samples': 41}. Best is trial 34 with value: 0.9234338747099768.\u001b[0m\n",
      "\u001b[32m[I 2021-12-04 19:04:04,264]\u001b[0m Trial 43 finished with value: 0.9211136890951276 and parameters: {'lambda_l1': 5.7014499062927805e-08, 'lambda_l2': 1.4033711755471854e-08, 'num_leaves': 222, 'feature_fraction': 0.8024646969343112, 'bagging_fraction': 0.8378774137304579, 'bagging_freq': 1, 'min_child_samples': 29}. Best is trial 34 with value: 0.9234338747099768.\u001b[0m\n",
      "\u001b[32m[I 2021-12-04 19:04:11,308]\u001b[0m Trial 44 finished with value: 0.9184068058778035 and parameters: {'lambda_l1': 1.4291372075729684e-08, 'lambda_l2': 4.5701916341674834e-08, 'num_leaves': 224, 'feature_fraction': 0.7954798674066377, 'bagging_fraction': 0.8327341221101563, 'bagging_freq': 2, 'min_child_samples': 32}. Best is trial 34 with value: 0.9234338747099768.\u001b[0m\n"
     ]
    },
    {
     "name": "stderr",
     "output_type": "stream",
     "text": [
      "\u001b[32m[I 2021-12-04 19:04:18,136]\u001b[0m Trial 45 finished with value: 0.9187935034802784 and parameters: {'lambda_l1': 6.707056987095202e-08, 'lambda_l2': 6.365438502399355e-07, 'num_leaves': 217, 'feature_fraction': 0.9092441027212209, 'bagging_fraction': 0.7882752973671918, 'bagging_freq': 1, 'min_child_samples': 27}. Best is trial 34 with value: 0.9234338747099768.\u001b[0m\n",
      "\u001b[32m[I 2021-12-04 19:04:25,371]\u001b[0m Trial 46 finished with value: 0.9075792730085074 and parameters: {'lambda_l1': 4.963520022875968e-07, 'lambda_l2': 1.1880882545840276e-08, 'num_leaves': 241, 'feature_fraction': 0.7239211870780519, 'bagging_fraction': 0.4169884172711793, 'bagging_freq': 1, 'min_child_samples': 19}. Best is trial 34 with value: 0.9234338747099768.\u001b[0m\n",
      "\u001b[32m[I 2021-12-04 19:04:29,455]\u001b[0m Trial 47 finished with value: 0.9122196442382057 and parameters: {'lambda_l1': 4.0366784607682676e-08, 'lambda_l2': 0.26125300711524563, 'num_leaves': 100, 'feature_fraction': 0.7927007999761599, 'bagging_fraction': 0.6672099435761611, 'bagging_freq': 2, 'min_child_samples': 10}. Best is trial 34 with value: 0.9234338747099768.\u001b[0m\n",
      "\u001b[32m[I 2021-12-04 19:04:34,651]\u001b[0m Trial 48 finished with value: 0.9164733178654292 and parameters: {'lambda_l1': 8.449331191652657e-06, 'lambda_l2': 0.8059039076689866, 'num_leaves': 175, 'feature_fraction': 0.8406600162018995, 'bagging_fraction': 0.73225196321715, 'bagging_freq': 1, 'min_child_samples': 25}. Best is trial 34 with value: 0.9234338747099768.\u001b[0m\n",
      "\u001b[32m[I 2021-12-04 19:04:41,637]\u001b[0m Trial 49 finished with value: 0.9118329466357309 and parameters: {'lambda_l1': 7.591031476433656e-08, 'lambda_l2': 3.034703681408127e-06, 'num_leaves': 252, 'feature_fraction': 0.6815260679866971, 'bagging_fraction': 0.8545051443973927, 'bagging_freq': 5, 'min_child_samples': 49}. Best is trial 34 with value: 0.9234338747099768.\u001b[0m\n",
      "\u001b[32m[I 2021-12-04 19:04:47,377]\u001b[0m Trial 50 finished with value: 0.9184068058778035 and parameters: {'lambda_l1': 1.6404353653767925e-07, 'lambda_l2': 0.00848970642814598, 'num_leaves': 199, 'feature_fraction': 0.649655829651913, 'bagging_fraction': 0.9688320247398672, 'bagging_freq': 3, 'min_child_samples': 7}. Best is trial 34 with value: 0.9234338747099768.\u001b[0m\n",
      "\u001b[32m[I 2021-12-04 19:04:53,551]\u001b[0m Trial 51 finished with value: 0.9129930394431555 and parameters: {'lambda_l1': 0.003981712367685794, 'lambda_l2': 0.00031921813030928974, 'num_leaves': 256, 'feature_fraction': 0.6200584107545357, 'bagging_fraction': 0.8719958731761446, 'bagging_freq': 2, 'min_child_samples': 45}. Best is trial 34 with value: 0.9234338747099768.\u001b[0m\n",
      "\u001b[32m[I 2021-12-04 19:04:59,542]\u001b[0m Trial 52 finished with value: 0.9187935034802784 and parameters: {'lambda_l1': 0.0003772546701565928, 'lambda_l2': 0.03344640052227405, 'num_leaves': 208, 'feature_fraction': 0.7534649127807589, 'bagging_fraction': 0.9177185400224225, 'bagging_freq': 2, 'min_child_samples': 12}. Best is trial 34 with value: 0.9234338747099768.\u001b[0m\n",
      "\u001b[32m[I 2021-12-04 19:05:05,824]\u001b[0m Trial 53 finished with value: 0.9168600154679041 and parameters: {'lambda_l1': 1.4246820214137077e-05, 'lambda_l2': 0.1012502895291457, 'num_leaves': 232, 'feature_fraction': 0.8921399154903746, 'bagging_fraction': 0.9392756426082455, 'bagging_freq': 1, 'min_child_samples': 17}. Best is trial 34 with value: 0.9234338747099768.\u001b[0m\n",
      "\u001b[32m[I 2021-12-04 19:05:13,227]\u001b[0m Trial 54 finished with value: 0.9164733178654292 and parameters: {'lambda_l1': 0.0016436015905061236, 'lambda_l2': 0.001748964753832048, 'num_leaves': 247, 'feature_fraction': 0.6924145469317509, 'bagging_fraction': 0.836160585294171, 'bagging_freq': 2, 'min_child_samples': 37}. Best is trial 34 with value: 0.9234338747099768.\u001b[0m\n",
      "\u001b[32m[I 2021-12-04 19:05:19,377]\u001b[0m Trial 55 finished with value: 0.9203402938901779 and parameters: {'lambda_l1': 6.418194535382997e-05, 'lambda_l2': 0.0198051576001102, 'num_leaves': 219, 'feature_fraction': 0.8179157310150189, 'bagging_fraction': 0.8979340787658349, 'bagging_freq': 2, 'min_child_samples': 5}. Best is trial 34 with value: 0.9234338747099768.\u001b[0m\n",
      "\u001b[32m[I 2021-12-04 19:05:23,052]\u001b[0m Trial 56 finished with value: 0.9052590873936581 and parameters: {'lambda_l1': 9.395562254617043e-07, 'lambda_l2': 0.00012578712111765, 'num_leaves': 62, 'feature_fraction': 0.7665719811599787, 'bagging_fraction': 0.8587319845187893, 'bagging_freq': 1, 'min_child_samples': 53}. Best is trial 34 with value: 0.9234338747099768.\u001b[0m\n",
      "\u001b[32m[I 2021-12-04 19:05:29,749]\u001b[0m Trial 57 finished with value: 0.9222737819025522 and parameters: {'lambda_l1': 4.5766170217001114e-05, 'lambda_l2': 0.019462003936679458, 'num_leaves': 216, 'feature_fraction': 0.8156241276479835, 'bagging_fraction': 0.8974367244960236, 'bagging_freq': 2, 'min_child_samples': 5}. Best is trial 34 with value: 0.9234338747099768.\u001b[0m\n",
      "\u001b[32m[I 2021-12-04 19:05:35,819]\u001b[0m Trial 58 finished with value: 0.9168600154679041 and parameters: {'lambda_l1': 3.811029427692741e-06, 'lambda_l2': 1.9777075116659864, 'num_leaves': 215, 'feature_fraction': 0.8203283677558402, 'bagging_fraction': 0.9316551825699613, 'bagging_freq': 3, 'min_child_samples': 5}. Best is trial 34 with value: 0.9234338747099768.\u001b[0m\n",
      "\u001b[32m[I 2021-12-04 19:05:41,493]\u001b[0m Trial 59 finished with value: 0.9168600154679041 and parameters: {'lambda_l1': 6.55326610342287e-05, 'lambda_l2': 0.005625527268388611, 'num_leaves': 179, 'feature_fraction': 0.8597834204064577, 'bagging_fraction': 0.8116301994685694, 'bagging_freq': 2, 'min_child_samples': 10}. Best is trial 34 with value: 0.9234338747099768.\u001b[0m\n",
      "\u001b[32m[I 2021-12-04 19:05:46,557]\u001b[0m Trial 60 finished with value: 0.9095127610208816 and parameters: {'lambda_l1': 0.00027311020510295943, 'lambda_l2': 0.1415554330669342, 'num_leaves': 198, 'feature_fraction': 0.7816515522431928, 'bagging_fraction': 0.9046513492726556, 'bagging_freq': 3, 'min_child_samples': 80}. Best is trial 34 with value: 0.9234338747099768.\u001b[0m\n",
      "\u001b[32m[I 2021-12-04 19:05:52,744]\u001b[0m Trial 61 finished with value: 0.9195668986852281 and parameters: {'lambda_l1': 2.6385005629921946e-05, 'lambda_l2': 0.014456203479818104, 'num_leaves': 223, 'feature_fraction': 0.8147874386352019, 'bagging_fraction': 0.8876861630966237, 'bagging_freq': 2, 'min_child_samples': 14}. Best is trial 34 with value: 0.9234338747099768.\u001b[0m\n",
      "\u001b[32m[I 2021-12-04 19:05:59,566]\u001b[0m Trial 62 finished with value: 0.9156999226604795 and parameters: {'lambda_l1': 0.00010167732301141352, 'lambda_l2': 0.024078305647918317, 'num_leaves': 235, 'feature_fraction': 0.9413737652278968, 'bagging_fraction': 0.8975259053028132, 'bagging_freq': 1, 'min_child_samples': 8}. Best is trial 34 with value: 0.9234338747099768.\u001b[0m\n",
      "\u001b[32m[I 2021-12-04 19:06:05,744]\u001b[0m Trial 63 finished with value: 0.9184068058778035 and parameters: {'lambda_l1': 0.0006579756153988404, 'lambda_l2': 0.0006260138881152697, 'num_leaves': 204, 'feature_fraction': 0.7136532171924641, 'bagging_fraction': 0.9782380613355169, 'bagging_freq': 2, 'min_child_samples': 5}. Best is trial 34 with value: 0.9234338747099768.\u001b[0m\n",
      "\u001b[32m[I 2021-12-04 19:06:12,113]\u001b[0m Trial 64 finished with value: 0.9164733178654292 and parameters: {'lambda_l1': 2.7808616262179388e-05, 'lambda_l2': 0.4947245345506735, 'num_leaves': 226, 'feature_fraction': 0.7406126324705785, 'bagging_fraction': 0.8777654259229248, 'bagging_freq': 2, 'min_child_samples': 14}. Best is trial 34 with value: 0.9234338747099768.\u001b[0m\n",
      "\u001b[32m[I 2021-12-04 19:06:19,352]\u001b[0m Trial 65 finished with value: 0.9184068058778035 and parameters: {'lambda_l1': 0.0006212850790670497, 'lambda_l2': 0.0043827037045506894, 'num_leaves': 194, 'feature_fraction': 0.841855242562778, 'bagging_fraction': 0.9933603246270855, 'bagging_freq': 3, 'min_child_samples': 8}. Best is trial 34 with value: 0.9234338747099768.\u001b[0m\n",
      "\u001b[32m[I 2021-12-04 19:06:25,244]\u001b[0m Trial 66 finished with value: 0.9122196442382057 and parameters: {'lambda_l1': 7.881512310530674e-06, 'lambda_l2': 0.014265722043551456, 'num_leaves': 220, 'feature_fraction': 0.8150206162257125, 'bagging_fraction': 0.9240432121725316, 'bagging_freq': 2, 'min_child_samples': 70}. Best is trial 34 with value: 0.9234338747099768.\u001b[0m\n",
      "\u001b[32m[I 2021-12-04 19:06:31,443]\u001b[0m Trial 67 finished with value: 0.9180201082753287 and parameters: {'lambda_l1': 2.530100176743573e-07, 'lambda_l2': 0.20620013824722297, 'num_leaves': 245, 'feature_fraction': 0.8905245631988814, 'bagging_fraction': 0.8357339981487911, 'bagging_freq': 1, 'min_child_samples': 21}. Best is trial 34 with value: 0.9234338747099768.\u001b[0m\n"
     ]
    },
    {
     "name": "stderr",
     "output_type": "stream",
     "text": [
      "\u001b[32m[I 2021-12-04 19:06:37,050]\u001b[0m Trial 68 finished with value: 0.9184068058778035 and parameters: {'lambda_l1': 1.3313038920032695e-05, 'lambda_l2': 0.049509891538178086, 'num_leaves': 212, 'feature_fraction': 0.7879944579344449, 'bagging_fraction': 0.8662884834706479, 'bagging_freq': 1, 'min_child_samples': 17}. Best is trial 34 with value: 0.9234338747099768.\u001b[0m\n",
      "\u001b[32m[I 2021-12-04 19:06:41,890]\u001b[0m Trial 69 finished with value: 0.9191802010827533 and parameters: {'lambda_l1': 8.76484315654601e-05, 'lambda_l2': 5.446255517536942e-05, 'num_leaves': 129, 'feature_fraction': 0.7648668734354994, 'bagging_fraction': 0.7939614532290368, 'bagging_freq': 1, 'min_child_samples': 28}. Best is trial 34 with value: 0.9234338747099768.\u001b[0m\n",
      "\u001b[32m[I 2021-12-04 19:06:47,049]\u001b[0m Trial 70 finished with value: 0.9203402938901779 and parameters: {'lambda_l1': 0.00020154305940728613, 'lambda_l2': 0.07214933235255012, 'num_leaves': 152, 'feature_fraction': 0.8139372489594187, 'bagging_fraction': 0.8904332713634431, 'bagging_freq': 2, 'min_child_samples': 12}. Best is trial 34 with value: 0.9234338747099768.\u001b[0m\n",
      "\u001b[32m[I 2021-12-04 19:06:54,035]\u001b[0m Trial 71 finished with value: 0.9184068058778035 and parameters: {'lambda_l1': 0.0002557471870736161, 'lambda_l2': 0.083706745196436, 'num_leaves': 236, 'feature_fraction': 0.7517606582831665, 'bagging_fraction': 0.8508443499756702, 'bagging_freq': 1, 'min_child_samples': 11}. Best is trial 34 with value: 0.9234338747099768.\u001b[0m\n",
      "\u001b[32m[I 2021-12-04 19:07:00,359]\u001b[0m Trial 72 finished with value: 0.9191802010827533 and parameters: {'lambda_l1': 1.2056293702253333, 'lambda_l2': 0.0011803595208154008, 'num_leaves': 247, 'feature_fraction': 0.8557293800822716, 'bagging_fraction': 0.907462123449296, 'bagging_freq': 2, 'min_child_samples': 12}. Best is trial 34 with value: 0.9234338747099768.\u001b[0m\n",
      "\u001b[32m[I 2021-12-04 19:07:04,159]\u001b[0m Trial 73 finished with value: 0.9083526682134571 and parameters: {'lambda_l1': 0.0001641316983439008, 'lambda_l2': 0.02819026380993846, 'num_leaves': 78, 'feature_fraction': 0.8073095106895288, 'bagging_fraction': 0.8881969271932563, 'bagging_freq': 1, 'min_child_samples': 18}. Best is trial 34 with value: 0.9234338747099768.\u001b[0m\n",
      "\u001b[32m[I 2021-12-04 19:07:10,229]\u001b[0m Trial 74 finished with value: 0.9176334106728539 and parameters: {'lambda_l1': 4.2683725443931277e-05, 'lambda_l2': 0.013715162749503653, 'num_leaves': 224, 'feature_fraction': 0.8283678111676419, 'bagging_fraction': 0.8782463679711707, 'bagging_freq': 2, 'min_child_samples': 14}. Best is trial 34 with value: 0.9234338747099768.\u001b[0m\n",
      "\u001b[32m[I 2021-12-04 19:07:14,896]\u001b[0m Trial 75 finished with value: 0.9153132250580046 and parameters: {'lambda_l1': 2.78721494079355e-08, 'lambda_l2': 0.31781744315901705, 'num_leaves': 153, 'feature_fraction': 0.7191146231612652, 'bagging_fraction': 0.9317534213033356, 'bagging_freq': 4, 'min_child_samples': 24}. Best is trial 34 with value: 0.9234338747099768.\u001b[0m\n",
      "\u001b[32m[I 2021-12-04 19:07:21,289]\u001b[0m Trial 76 finished with value: 0.9187935034802784 and parameters: {'lambda_l1': 1.9694217821103906e-06, 'lambda_l2': 0.0700835866119282, 'num_leaves': 231, 'feature_fraction': 0.8775055357670707, 'bagging_fraction': 0.9594419767712787, 'bagging_freq': 1, 'min_child_samples': 5}. Best is trial 34 with value: 0.9234338747099768.\u001b[0m\n",
      "\u001b[32m[I 2021-12-04 19:07:28,211]\u001b[0m Trial 77 finished with value: 0.9191802010827533 and parameters: {'lambda_l1': 0.008740155256287697, 'lambda_l2': 0.0024943033168220636, 'num_leaves': 185, 'feature_fraction': 0.6438366364891408, 'bagging_fraction': 0.9686296822795668, 'bagging_freq': 3, 'min_child_samples': 8}. Best is trial 34 with value: 0.9234338747099768.\u001b[0m\n",
      "\u001b[32m[I 2021-12-04 19:07:30,566]\u001b[0m Trial 78 finished with value: 0.877030162412993 and parameters: {'lambda_l1': 2.0209413620549597e-05, 'lambda_l2': 0.015547530100203148, 'num_leaves': 16, 'feature_fraction': 0.7812507846496327, 'bagging_fraction': 0.6210747794666303, 'bagging_freq': 2, 'min_child_samples': 13}. Best is trial 34 with value: 0.9234338747099768.\u001b[0m\n",
      "\u001b[32m[I 2021-12-04 19:07:35,366]\u001b[0m Trial 79 finished with value: 0.911446249033256 and parameters: {'lambda_l1': 0.0017334743702885332, 'lambda_l2': 9.882102911029175e-06, 'num_leaves': 115, 'feature_fraction': 0.7958247089109856, 'bagging_fraction': 0.7572755488055198, 'bagging_freq': 1, 'min_child_samples': 22}. Best is trial 34 with value: 0.9234338747099768.\u001b[0m\n",
      "\u001b[32m[I 2021-12-04 19:07:41,077]\u001b[0m Trial 80 finished with value: 0.9176334106728539 and parameters: {'lambda_l1': 0.03379418282727735, 'lambda_l2': 3.5107884577181707, 'num_leaves': 211, 'feature_fraction': 0.7006906679862123, 'bagging_fraction': 0.944738752320735, 'bagging_freq': 2, 'min_child_samples': 7}. Best is trial 34 with value: 0.9234338747099768.\u001b[0m\n",
      "\u001b[32m[I 2021-12-04 19:07:46,206]\u001b[0m Trial 81 finished with value: 0.91415313225058 and parameters: {'lambda_l1': 0.023321259625875262, 'lambda_l2': 0.03559014444447261, 'num_leaves': 247, 'feature_fraction': 0.7418680523382589, 'bagging_fraction': 0.8449282802104952, 'bagging_freq': 1, 'min_child_samples': 56}. Best is trial 34 with value: 0.9234338747099768.\u001b[0m\n",
      "\u001b[32m[I 2021-12-04 19:07:51,703]\u001b[0m Trial 82 finished with value: 0.9156999226604795 and parameters: {'lambda_l1': 0.18394456612043955, 'lambda_l2': 0.00834464433453691, 'num_leaves': 226, 'feature_fraction': 0.8148519180693985, 'bagging_fraction': 0.8236440362707051, 'bagging_freq': 2, 'min_child_samples': 37}. Best is trial 34 with value: 0.9234338747099768.\u001b[0m\n",
      "\u001b[32m[I 2021-12-04 19:07:58,165]\u001b[0m Trial 83 finished with value: 0.9195668986852281 and parameters: {'lambda_l1': 0.005273373689328135, 'lambda_l2': 0.5561828423730588, 'num_leaves': 239, 'feature_fraction': 0.8466870091196432, 'bagging_fraction': 0.8845356170761479, 'bagging_freq': 2, 'min_child_samples': 15}. Best is trial 34 with value: 0.9234338747099768.\u001b[0m\n",
      "\u001b[32m[I 2021-12-04 19:08:04,446]\u001b[0m Trial 84 finished with value: 0.917246713070379 and parameters: {'lambda_l1': 0.0015312151435653413, 'lambda_l2': 0.021318039895975627, 'num_leaves': 217, 'feature_fraction': 0.7275500209441529, 'bagging_fraction': 0.9067442782740484, 'bagging_freq': 3, 'min_child_samples': 11}. Best is trial 34 with value: 0.9234338747099768.\u001b[0m\n",
      "\u001b[32m[I 2021-12-04 19:08:10,698]\u001b[0m Trial 85 finished with value: 0.919953596287703 and parameters: {'lambda_l1': 0.0038322784084412888, 'lambda_l2': 0.5699104976154182, 'num_leaves': 239, 'feature_fraction': 0.8471559016033049, 'bagging_fraction': 0.8736202364369131, 'bagging_freq': 2, 'min_child_samples': 16}. Best is trial 34 with value: 0.9234338747099768.\u001b[0m\n",
      "\u001b[32m[I 2021-12-04 19:08:16,572]\u001b[0m Trial 86 finished with value: 0.9191802010827533 and parameters: {'lambda_l1': 0.00044684703481307755, 'lambda_l2': 0.19956001124343428, 'num_leaves': 207, 'feature_fraction': 0.8752331610369093, 'bagging_fraction': 0.8631776389885287, 'bagging_freq': 2, 'min_child_samples': 16}. Best is trial 34 with value: 0.9234338747099768.\u001b[0m\n",
      "\u001b[32m[I 2021-12-04 19:08:23,028]\u001b[0m Trial 87 finished with value: 0.9176334106728539 and parameters: {'lambda_l1': 0.004698830700852337, 'lambda_l2': 0.8426001621219319, 'num_leaves': 240, 'feature_fraction': 0.9160456297337194, 'bagging_fraction': 0.9175382823780507, 'bagging_freq': 2, 'min_child_samples': 9}. Best is trial 34 with value: 0.9234338747099768.\u001b[0m\n",
      "\u001b[32m[I 2021-12-04 19:08:28,550]\u001b[0m Trial 88 finished with value: 0.9176334106728539 and parameters: {'lambda_l1': 0.00017789735442624234, 'lambda_l2': 0.09790727402684911, 'num_leaves': 228, 'feature_fraction': 0.8286668230992486, 'bagging_fraction': 0.5492153871909928, 'bagging_freq': 2, 'min_child_samples': 20}. Best is trial 34 with value: 0.9234338747099768.\u001b[0m\n",
      "\u001b[32m[I 2021-12-04 19:08:36,844]\u001b[0m Trial 89 finished with value: 0.919953596287703 and parameters: {'lambda_l1': 0.00819557583526804, 'lambda_l2': 0.5634518214748874, 'num_leaves': 238, 'feature_fraction': 0.8472633445210661, 'bagging_fraction': 0.876918362560958, 'bagging_freq': 7, 'min_child_samples': 16}. Best is trial 34 with value: 0.9234338747099768.\u001b[0m\n",
      "\u001b[32m[I 2021-12-04 19:08:41,245]\u001b[0m Trial 90 finished with value: 0.9083526682134571 and parameters: {'lambda_l1': 0.014189867150425934, 'lambda_l2': 1.3432394647884631, 'num_leaves': 255, 'feature_fraction': 0.7667976083191649, 'bagging_fraction': 0.8709419435673219, 'bagging_freq': 5, 'min_child_samples': 89}. Best is trial 34 with value: 0.9234338747099768.\u001b[0m\n"
     ]
    },
    {
     "name": "stderr",
     "output_type": "stream",
     "text": [
      "\u001b[32m[I 2021-12-04 19:08:47,559]\u001b[0m Trial 91 finished with value: 0.9180201082753287 and parameters: {'lambda_l1': 0.007055783269884691, 'lambda_l2': 0.7318788369361519, 'num_leaves': 236, 'feature_fraction': 0.8492476939055482, 'bagging_fraction': 0.8942582929161916, 'bagging_freq': 2, 'min_child_samples': 16}. Best is trial 34 with value: 0.9234338747099768.\u001b[0m\n",
      "\u001b[32m[I 2021-12-04 19:08:52,622]\u001b[0m Trial 92 finished with value: 0.9145398298530549 and parameters: {'lambda_l1': 0.0026229082591849233, 'lambda_l2': 0.3635483711523662, 'num_leaves': 157, 'feature_fraction': 0.7974127070481349, 'bagging_fraction': 0.840011374451902, 'bagging_freq': 6, 'min_child_samples': 19}. Best is trial 34 with value: 0.9234338747099768.\u001b[0m\n",
      "\u001b[32m[I 2021-12-04 19:08:58,850]\u001b[0m Trial 93 finished with value: 0.9180201082753287 and parameters: {'lambda_l1': 1.1409792453095272e-08, 'lambda_l2': 0.1449650152775695, 'num_leaves': 221, 'feature_fraction': 0.8072684078151666, 'bagging_fraction': 0.9257536786191002, 'bagging_freq': 7, 'min_child_samples': 12}. Best is trial 34 with value: 0.9234338747099768.\u001b[0m\n",
      "\u001b[32m[I 2021-12-04 19:09:05,185]\u001b[0m Trial 94 finished with value: 0.9137664346481051 and parameters: {'lambda_l1': 0.08778416783957721, 'lambda_l2': 0.06416804825723818, 'num_leaves': 249, 'feature_fraction': 0.8333549908762317, 'bagging_fraction': 0.8578214662131495, 'bagging_freq': 6, 'min_child_samples': 30}. Best is trial 34 with value: 0.9234338747099768.\u001b[0m\n",
      "\u001b[32m[I 2021-12-04 19:09:11,217]\u001b[0m Trial 95 finished with value: 0.9180201082753287 and parameters: {'lambda_l1': 0.0011128578854018203, 'lambda_l2': 3.6066505867702606e-07, 'num_leaves': 203, 'feature_fraction': 0.6590247873358087, 'bagging_fraction': 0.9074518549356652, 'bagging_freq': 3, 'min_child_samples': 7}. Best is trial 34 with value: 0.9234338747099768.\u001b[0m\n",
      "\u001b[32m[I 2021-12-04 19:09:17,196]\u001b[0m Trial 96 finished with value: 0.9164733178654292 and parameters: {'lambda_l1': 0.038707790852183024, 'lambda_l2': 0.006244663185238238, 'num_leaves': 243, 'feature_fraction': 0.5473663871678315, 'bagging_fraction': 0.8238894532301487, 'bagging_freq': 7, 'min_child_samples': 10}. Best is trial 34 with value: 0.9234338747099768.\u001b[0m\n",
      "\u001b[32m[I 2021-12-04 19:09:23,244]\u001b[0m Trial 97 finished with value: 0.9191802010827533 and parameters: {'lambda_l1': 0.010503375653486732, 'lambda_l2': 4.9864560845826086e-08, 'num_leaves': 230, 'feature_fraction': 0.6831845112816715, 'bagging_fraction': 0.9486947766594944, 'bagging_freq': 4, 'min_child_samples': 5}. Best is trial 34 with value: 0.9234338747099768.\u001b[0m\n",
      "\u001b[32m[I 2021-12-04 19:09:28,100]\u001b[0m Trial 98 finished with value: 0.9110595514307811 and parameters: {'lambda_l1': 0.004999765634663492, 'lambda_l2': 0.4861578505124655, 'num_leaves': 100, 'feature_fraction': 0.848090529018293, 'bagging_fraction': 0.8760908615380741, 'bagging_freq': 2, 'min_child_samples': 15}. Best is trial 34 with value: 0.9234338747099768.\u001b[0m\n",
      "\u001b[32m[I 2021-12-04 19:09:32,843]\u001b[0m Trial 99 finished with value: 0.9153132250580046 and parameters: {'lambda_l1': 7.679785867618399e-08, 'lambda_l2': 0.2202994189080482, 'num_leaves': 138, 'feature_fraction': 0.775496295637935, 'bagging_fraction': 0.8001739216501205, 'bagging_freq': 1, 'min_child_samples': 26}. Best is trial 34 with value: 0.9234338747099768.\u001b[0m\n"
     ]
    },
    {
     "name": "stdout",
     "output_type": "stream",
     "text": [
      "Number of finished trials: 100\n",
      "Best trial:\n",
      "  Value: 0.9234338747099768\n",
      "  Params: \n",
      "    lambda_l1: 2.2365072284057357e-07\n",
      "    lambda_l2: 0.2032176998648175\n",
      "    num_leaves: 242\n",
      "    feature_fraction: 0.7355153600776576\n",
      "    bagging_fraction: 0.8826944250150961\n",
      "    bagging_freq: 2\n",
      "    min_child_samples: 5\n"
     ]
    }
   ],
   "source": [
    "study = optuna.create_study(direction=\"maximize\")\n",
    "study.optimize(objective, n_trials=100)\n",
    "print(\"Number of finished trials: {}\".format(len(study.trials)))\n",
    "\n",
    "print(\"Best trial:\")\n",
    "trial = study.best_trial\n",
    "\n",
    "print(\"  Value: {}\".format(trial.value))\n",
    "\n",
    "print(\"  Params: \")\n",
    "for key, value in trial.params.items():\n",
    "    print(\"    {}: {}\".format(key, value))"
   ]
  },
  {
   "cell_type": "markdown",
   "id": "041f9989",
   "metadata": {},
   "source": [
    "### validacion modelo LightGBM Optimizado"
   ]
  },
  {
   "cell_type": "code",
   "execution_count": 795,
   "id": "7bcc5b04",
   "metadata": {},
   "outputs": [],
   "source": [
    "train_data = lgb.Dataset(X_train, label=y_train)\n",
    "valid_data = lgb.Dataset(X_test, label=y_test, reference=train_data)"
   ]
  },
  {
   "cell_type": "code",
   "execution_count": 796,
   "id": "35527518",
   "metadata": {},
   "outputs": [],
   "source": [
    "## parametros para el modelo lightGBM search \n",
    "SEARCH_PARAMETROS = {'learning_rate': 0.4,\n",
    "                'max_depth': 15,\n",
    "                #'num_leaves': 32,\n",
    "                #'feature_fraction': 0.8,\n",
    "                'subsample': 0.2}\n",
    "\n",
    "FIXED_PARAMETROS={'objective': 'multiclass',\n",
    "             'metric': 'multi_logloss',\n",
    "             'num_class':4,\n",
    "             \"verbosity\": -1,\n",
    "             'is_unbalance':False,\n",
    "             'bagging_freq':1,\n",
    "             'boosting':'dart',\n",
    "             'num_boost_round':300,\n",
    "             \"lambda_l1\":2.2365072284057357e-07,\n",
    "             \"lambda_l2\":0.2032176998648175,\n",
    "             \"num_leaves\":242,\n",
    "             \"feature_fraction\":0.7355153600776576,\n",
    "             \"bagging_fraction\":0.8826944250150961,\n",
    "             \"bagging_freq\":2,\n",
    "             \"min_child_samples\":5,\n",
    "             'early_stopping_rounds':30}\n"
   ]
  },
  {
   "cell_type": "code",
   "execution_count": 797,
   "id": "894e2b4f",
   "metadata": {},
   "outputs": [],
   "source": [
    "params = {'metric':FIXED_PARAMETROS['metric'],\n",
    "             'objective':FIXED_PARAMETROS['objective'],'num_class':FIXED_PARAMETROS['num_class'],**SEARCH_PARAMETROS}"
   ]
  },
  {
   "cell_type": "code",
   "execution_count": 798,
   "id": "7854301a",
   "metadata": {},
   "outputs": [
    {
     "name": "stderr",
     "output_type": "stream",
     "text": [
      "C:\\Users\\d84088661\\Anaconda3\\lib\\site-packages\\lightgbm\\engine.py:181: UserWarning: 'early_stopping_rounds' argument is deprecated and will be removed in a future release of LightGBM. Pass 'early_stopping()' callback via 'callbacks' argument instead.\n",
      "  _log_warning(\"'early_stopping_rounds' argument is deprecated and will be removed in a future release of LightGBM. \"\n"
     ]
    },
    {
     "name": "stdout",
     "output_type": "stream",
     "text": [
      "[LightGBM] [Warning] Accuracy may be bad since you didn't explicitly set num_leaves OR 2^max_depth > num_leaves. (num_leaves=31).\n",
      "[LightGBM] [Warning] Accuracy may be bad since you didn't explicitly set num_leaves OR 2^max_depth > num_leaves. (num_leaves=31).\n",
      "[LightGBM] [Warning] Auto-choosing col-wise multi-threading, the overhead of testing was 0.001279 seconds.\n",
      "You can set `force_col_wise=true` to remove the overhead.\n",
      "[LightGBM] [Info] Total Bins 2295\n",
      "[LightGBM] [Info] Number of data points in the train set: 33020, number of used features: 9\n",
      "[LightGBM] [Warning] Accuracy may be bad since you didn't explicitly set num_leaves OR 2^max_depth > num_leaves. (num_leaves=31).\n",
      "[LightGBM] [Info] Start training from score -1.386294\n",
      "[LightGBM] [Info] Start training from score -1.386294\n",
      "[LightGBM] [Info] Start training from score -1.386294\n",
      "[LightGBM] [Info] Start training from score -1.386294\n",
      "[1]\tvalid's multi_logloss: 0.816084\n",
      "Training until validation scores don't improve for 30 rounds\n",
      "[2]\tvalid's multi_logloss: 0.636185\n",
      "[3]\tvalid's multi_logloss: 0.52496\n",
      "[4]\tvalid's multi_logloss: 0.456296\n",
      "[5]\tvalid's multi_logloss: 0.413137\n",
      "[6]\tvalid's multi_logloss: 0.379486\n",
      "[7]\tvalid's multi_logloss: 0.355878\n",
      "[8]\tvalid's multi_logloss: 0.341652\n",
      "[9]\tvalid's multi_logloss: 0.327859\n",
      "[10]\tvalid's multi_logloss: 0.319374\n",
      "[11]\tvalid's multi_logloss: 0.309419\n",
      "[12]\tvalid's multi_logloss: 0.303074\n",
      "[13]\tvalid's multi_logloss: 0.297204\n",
      "[14]\tvalid's multi_logloss: 0.295488\n",
      "[15]\tvalid's multi_logloss: 0.290833\n",
      "[16]\tvalid's multi_logloss: 0.287367\n",
      "[17]\tvalid's multi_logloss: 0.286522\n",
      "[18]\tvalid's multi_logloss: 0.283481\n",
      "[19]\tvalid's multi_logloss: 0.281084\n",
      "[20]\tvalid's multi_logloss: 0.280866\n",
      "[21]\tvalid's multi_logloss: 0.282851\n",
      "[22]\tvalid's multi_logloss: 0.280317\n",
      "[23]\tvalid's multi_logloss: 0.28018\n",
      "[24]\tvalid's multi_logloss: 0.278532\n",
      "[25]\tvalid's multi_logloss: 0.275102\n",
      "[26]\tvalid's multi_logloss: 0.272245\n",
      "[27]\tvalid's multi_logloss: 0.272451\n",
      "[28]\tvalid's multi_logloss: 0.270373\n",
      "[29]\tvalid's multi_logloss: 0.26916\n",
      "[30]\tvalid's multi_logloss: 0.268628\n",
      "[31]\tvalid's multi_logloss: 0.268565\n",
      "[32]\tvalid's multi_logloss: 0.269185\n",
      "[33]\tvalid's multi_logloss: 0.271191\n",
      "[34]\tvalid's multi_logloss: 0.273256\n",
      "[35]\tvalid's multi_logloss: 0.27138\n",
      "[36]\tvalid's multi_logloss: 0.272071\n",
      "[37]\tvalid's multi_logloss: 0.273784\n",
      "[38]\tvalid's multi_logloss: 0.27325\n",
      "[39]\tvalid's multi_logloss: 0.274036\n",
      "[40]\tvalid's multi_logloss: 0.274408\n",
      "[41]\tvalid's multi_logloss: 0.2738\n",
      "[42]\tvalid's multi_logloss: 0.275119\n",
      "[LightGBM] [Warning] No further splits with positive gain, best gain: -inf\n",
      "[43]\tvalid's multi_logloss: 0.276148\n",
      "[LightGBM] [Warning] No further splits with positive gain, best gain: -inf\n",
      "[44]\tvalid's multi_logloss: 0.277167\n",
      "[LightGBM] [Warning] No further splits with positive gain, best gain: -inf\n",
      "[45]\tvalid's multi_logloss: 0.2763\n",
      "[LightGBM] [Warning] No further splits with positive gain, best gain: -inf\n",
      "[46]\tvalid's multi_logloss: 0.275803\n",
      "[LightGBM] [Warning] No further splits with positive gain, best gain: -inf\n",
      "[47]\tvalid's multi_logloss: 0.277873\n",
      "[LightGBM] [Warning] No further splits with positive gain, best gain: -inf\n",
      "[48]\tvalid's multi_logloss: 0.278815\n",
      "[LightGBM] [Warning] No further splits with positive gain, best gain: -inf\n",
      "[49]\tvalid's multi_logloss: 0.278595\n",
      "[LightGBM] [Warning] No further splits with positive gain, best gain: -inf\n",
      "[50]\tvalid's multi_logloss: 0.279456\n",
      "[LightGBM] [Warning] No further splits with positive gain, best gain: -inf\n",
      "[51]\tvalid's multi_logloss: 0.281627\n",
      "[LightGBM] [Warning] No further splits with positive gain, best gain: -inf\n",
      "[52]\tvalid's multi_logloss: 0.280851\n",
      "[LightGBM] [Warning] No further splits with positive gain, best gain: -inf\n",
      "[53]\tvalid's multi_logloss: 0.28159\n",
      "[LightGBM] [Warning] No further splits with positive gain, best gain: -inf\n",
      "[54]\tvalid's multi_logloss: 0.283093\n",
      "[LightGBM] [Warning] No further splits with positive gain, best gain: -inf\n",
      "[55]\tvalid's multi_logloss: 0.28288\n",
      "[LightGBM] [Warning] No further splits with positive gain, best gain: -inf\n",
      "[56]\tvalid's multi_logloss: 0.283648\n",
      "[LightGBM] [Warning] No further splits with positive gain, best gain: -inf\n",
      "[57]\tvalid's multi_logloss: 0.283766\n",
      "[LightGBM] [Warning] No further splits with positive gain, best gain: -inf\n",
      "[58]\tvalid's multi_logloss: 0.285565\n",
      "[LightGBM] [Warning] No further splits with positive gain, best gain: -inf\n",
      "[59]\tvalid's multi_logloss: 0.28577\n",
      "[LightGBM] [Warning] No further splits with positive gain, best gain: -inf\n",
      "[60]\tvalid's multi_logloss: 0.287476\n",
      "[LightGBM] [Warning] No further splits with positive gain, best gain: -inf\n",
      "[61]\tvalid's multi_logloss: 0.288038\n",
      "Early stopping, best iteration is:\n",
      "[31]\tvalid's multi_logloss: 0.268565\n"
     ]
    }
   ],
   "source": [
    "model2_opt = lgb.train(params, train_data,                     \n",
    "                     valid_sets=[valid_data],\n",
    "                     num_boost_round=FIXED_PARAMS['num_boost_round'],\n",
    "                     early_stopping_rounds=FIXED_PARAMS['early_stopping_rounds'],\n",
    "                     valid_names=['valid'])"
   ]
  },
  {
   "cell_type": "code",
   "execution_count": 799,
   "id": "4c08427b",
   "metadata": {},
   "outputs": [],
   "source": [
    "## score de test\n",
    "y_predict_LGBM2 = model2_opt.predict(X_val,num_iteration=model2_opt.best_iteration)"
   ]
  },
  {
   "cell_type": "code",
   "execution_count": 800,
   "id": "5885c578",
   "metadata": {},
   "outputs": [],
   "source": [
    "#convert into binary values\t\n",
    "y_predict_LGBM2 = [np.argmax(line) for line in y_predict_LGBM2]"
   ]
  },
  {
   "cell_type": "code",
   "execution_count": 801,
   "id": "175d1eb9",
   "metadata": {
    "scrolled": true
   },
   "outputs": [
    {
     "name": "stderr",
     "output_type": "stream",
     "text": [
      "C:\\Users\\d84088661\\Anaconda3\\lib\\site-packages\\sklearn\\metrics\\_classification.py:1248: UndefinedMetricWarning: Recall and F-score are ill-defined and being set to 0.0 in labels with no true samples. Use `zero_division` parameter to control this behavior.\n",
      "  _warn_prf(average, modifier, msg_start, len(result))\n",
      "C:\\Users\\d84088661\\Anaconda3\\lib\\site-packages\\sklearn\\metrics\\_classification.py:1248: UndefinedMetricWarning: Recall and F-score are ill-defined and being set to 0.0 in labels with no true samples. Use `zero_division` parameter to control this behavior.\n",
      "  _warn_prf(average, modifier, msg_start, len(result))\n",
      "C:\\Users\\d84088661\\Anaconda3\\lib\\site-packages\\sklearn\\metrics\\_classification.py:1248: UndefinedMetricWarning: Recall and F-score are ill-defined and being set to 0.0 in labels with no true samples. Use `zero_division` parameter to control this behavior.\n",
      "  _warn_prf(average, modifier, msg_start, len(result))\n"
     ]
    },
    {
     "name": "stdout",
     "output_type": "stream",
     "text": [
      "              precision    recall  f1-score   support\n",
      "\n",
      "           0       0.46      0.50      0.48        48\n",
      "           1       0.60      0.44      0.50        71\n",
      "           2       0.94      0.96      0.95       916\n",
      "           3       0.00      0.00      0.00         0\n",
      "\n",
      "    accuracy                           0.90      1035\n",
      "   macro avg       0.50      0.47      0.48      1035\n",
      "weighted avg       0.90      0.90      0.90      1035\n",
      "\n",
      "Confusion matrix, without normalization\n",
      "[[ 24   2  22   0]\n",
      " [  7  31  30   3]\n",
      " [ 21  19 876   0]\n",
      " [  0   0   0   0]]\n"
     ]
    },
    {
     "data": {
      "image/png": "[encoded data removed]",
      "text/plain": [
       "<Figure size 432x288 with 2 Axes>"
      ]
     },
     "metadata": {
      "needs_background": "light"
     },
     "output_type": "display_data"
    }
   ],
   "source": [
    "cnf_matrix = confusion_matrix(y_val, y_predict_LGBM2, labels = [0,1,2,3])\n",
    "np.set_printoptions(precision=2)\n",
    "\n",
    "print (classification_report(y_val, y_predict_LGBM2))\n",
    "\n",
    "# Plot non-normalized confusion matrix\n",
    "plt.figure()\n",
    "plot_confusion_matrix(cnf_matrix, classes = [0,1,2,3], normalize= False,  title='Confusion matrix')\n",
    "plt.show()"
   ]
  },
  {
   "cell_type": "code",
   "execution_count": null,
   "id": "21c96fa9",
   "metadata": {},
   "outputs": [],
   "source": []
  }
 ],
 "metadata": {
  "kernelspec": {
   "display_name": "Python 3 (ipykernel)",
   "language": "python",
   "name": "python3"
  },
  "language_info": {
   "codemirror_mode": {
    "name": "ipython",
    "version": 3
   },
   "file_extension": ".py",
   "mimetype": "text/x-python",
   "name": "python",
   "nbconvert_exporter": "python",
   "pygments_lexer": "ipython3",
   "version": "3.9.7"
  }
 },
 "nbformat": 4,
 "nbformat_minor": 5
}

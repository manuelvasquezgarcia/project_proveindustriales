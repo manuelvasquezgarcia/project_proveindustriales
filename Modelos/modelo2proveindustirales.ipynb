{
 "cells": [
  {
   "cell_type": "code",
   "execution_count": 124,
   "id": "b5e8f5fe",
   "metadata": {},
   "outputs": [],
   "source": [
    "import pandas as pd\n",
    "import matplotlib.pyplot as plt\n",
    "import seaborn as sns\n",
    "from datetime import datetime\n",
    "from pandas_profiling import ProfileReport\n",
    "from pandas_profiling.utils.cache import cache_file\n",
    "import ppscore as pps\n",
    "import lightgbm as lgb\n",
    "from sklearn.model_selection import GridSearchCV\n",
    "from sklearn.model_selection import train_test_split\n",
    "from sklearn.preprocessing import LabelEncoder, MinMaxScaler\n",
    "from sklearn.metrics import classification_report\n",
    "from sklearn.metrics import accuracy_score\n",
    "from sklearn.metrics import confusion_matrix\n",
    "from sklearn.preprocessing import StandardScaler\n",
    "import numpy as np\n",
    "from sklearn.tree import DecisionTreeClassifier\n",
    "import itertools\n",
    "from sklearn import metrics\n",
    "from sklearn.ensemble import RandomForestClassifier\n",
    "import optuna\n",
    "from collections import Counter\n",
    "from imblearn.over_sampling import SMOTE\n",
    "from sklearn import svm\n",
    "from sklearn.linear_model import LogisticRegression\n",
    "from sklearn.model_selection import cross_val_score\n",
    "from sklearn.model_selection import StratifiedKFold\n",
    "#from sklearn.metrics import log_loss\n",
    "#from sklearn.metrics import jaccard_similarity_score\n",
    "from sklearn.metrics import f1_score, precision_score, jaccard_score, recall_score, log_loss\n",
    "from sklearn.tree import export_graphviz\n",
    "from pydotplus import graph_from_dot_data\n"
   ]
  },
  {
   "cell_type": "markdown",
   "id": "963e2337",
   "metadata": {},
   "source": [
    "# Análisis exploratorio \"Ordenes de compra PORTAL 1K\"\n",
    "\n",
    "El objetivo del análisis exploratorio de datos es resumir y visualizar las principales características del conjunto de datos para extraer, entender y establecer relación entre variables. Busca determinar las características de mayor impacto a partir de la aplicación de técnicas como:\n",
    "\n",
    "<ol>\n",
    "  <li> Estadística descriptiva</li>\n",
    "  <li> Agrupamiento</li>  \n",
    "  <li> Correlación</li>\n",
    "  <li> Análisis de variaciones</li>\n",
    "</ol>"
   ]
  },
  {
   "cell_type": "markdown",
   "id": "3c46195f",
   "metadata": {},
   "source": [
    "# Acerca del DataSet\n",
    "\n",
    "El DataSet \"Ordenes de compra PORTAL 1K\" corresponde a una muestra de transacciones que realizan los compradores a los proveedores en el portal para los diferentes productos y servicios. Contiene tanto variables numéricas como categóricas. La información de las variables y su contenido se presentan a continuación:\n",
    "\n",
    " NÚMERO PEDIDO           \n",
    " ORDEN NÚMERO           \n",
    " FECHA ORDEN            \n",
    " FECHA ENTREGA          \n",
    " FECHA APROBACIÓN       \n",
    " CATEGORÍA              \n",
    " SUBCATEGORÍA           \n",
    " PROVEEDOR              \n",
    " USUARIO                \n",
    " USUARIO APROBADOR      \n",
    " DIRECCIÓN DE  ENTREGA  \n",
    " DIRECCIÓN FACTURACIÓN  \n",
    " CENTRO COSTO           \n",
    " PRESUPUESTO            \n",
    " comPAÑÍA comPRADORA    \n",
    " ESTADO                 \n",
    " PRODUCTO O SERVICIO    \n",
    " CÓDIGO PRODUCTO        \n",
    " CANTIDAD PEDIDA        \n",
    " CANTIDAD RECIBIDA      \n",
    " PRECIO UNITARIO        \n",
    " PRECIO UNITARIO + IVA  \n",
    " IVA                    \n",
    " TOTAL SIN IVA          \n",
    " TOTAL + IVA            \n",
    " FECHA ÚLTIMO MOVIMIENTO\n"
   ]
  },
  {
   "cell_type": "code",
   "execution_count": 2,
   "id": "904d6e86",
   "metadata": {},
   "outputs": [
    {
     "data": {
      "text/html": [
       "<div>\n",
       "<style scoped>\n",
       "    .dataframe tbody tr th:only-of-type {\n",
       "        vertical-align: middle;\n",
       "    }\n",
       "\n",
       "    .dataframe tbody tr th {\n",
       "        vertical-align: top;\n",
       "    }\n",
       "\n",
       "    .dataframe thead th {\n",
       "        text-align: right;\n",
       "    }\n",
       "</style>\n",
       "<table border=\"1\" class=\"dataframe\">\n",
       "  <thead>\n",
       "    <tr style=\"text-align: right;\">\n",
       "      <th></th>\n",
       "      <th>NÚMERO PEDIDO</th>\n",
       "      <th>ORDEN NÚMERO</th>\n",
       "      <th>FECHA ORDEN</th>\n",
       "      <th>FECHA ENTREGA</th>\n",
       "      <th>FECHA APROBACION</th>\n",
       "      <th>CATEGORÍA</th>\n",
       "      <th>SUBCATEGORIA</th>\n",
       "      <th>PROVEEDOR</th>\n",
       "      <th>USUARIO</th>\n",
       "      <th>USUARIO APROBADOR</th>\n",
       "      <th>...</th>\n",
       "      <th>PRODUCTO O SERVICIO</th>\n",
       "      <th>CODIGO PORTAL</th>\n",
       "      <th>CANTIDAD PEDIDA</th>\n",
       "      <th>CANTIDAD RECIBIDA</th>\n",
       "      <th>PRECIO UNITARIO</th>\n",
       "      <th>PRECIO UNITARIO + IVA</th>\n",
       "      <th>IVA</th>\n",
       "      <th>TOTAL SIN IVA</th>\n",
       "      <th>TOTAL + IVA</th>\n",
       "      <th>FECHA ULTIMO MOVIMIENTO</th>\n",
       "    </tr>\n",
       "  </thead>\n",
       "  <tbody>\n",
       "    <tr>\n",
       "      <th>0</th>\n",
       "      <td># 49561</td>\n",
       "      <td># 2582</td>\n",
       "      <td>11/10/2021</td>\n",
       "      <td>11/10/2021</td>\n",
       "      <td>11/10/2021</td>\n",
       "      <td>Eléctricos y Electrónicos</td>\n",
       "      <td>Lámparas y bombillas y componentes para lámparas</td>\n",
       "      <td>Proveedor 1</td>\n",
       "      <td>Usuario solicitante 1</td>\n",
       "      <td>Usuario Aprobador 1</td>\n",
       "      <td>...</td>\n",
       "      <td>PANEL LED SOBREPONER 24W REDONDO LUZ BLANCA</td>\n",
       "      <td>1.20E+12</td>\n",
       "      <td>2.0</td>\n",
       "      <td>NaN</td>\n",
       "      <td>23364</td>\n",
       "      <td>27803</td>\n",
       "      <td>4439</td>\n",
       "      <td>46728</td>\n",
       "      <td>55606</td>\n",
       "      <td>11/10/2021</td>\n",
       "    </tr>\n",
       "    <tr>\n",
       "      <th>1</th>\n",
       "      <td># 49560</td>\n",
       "      <td># 2581</td>\n",
       "      <td>11/10/2021</td>\n",
       "      <td>11/11/2021</td>\n",
       "      <td>11/10/2021</td>\n",
       "      <td>Mercadeo y publicidad</td>\n",
       "      <td>Publicidad</td>\n",
       "      <td>Proveedor 2</td>\n",
       "      <td>Usuario solicitante 2</td>\n",
       "      <td>Usuario Aprobador 2</td>\n",
       "      <td>...</td>\n",
       "      <td>ACTIVIDADES COMERCIALES</td>\n",
       "      <td>1K15774</td>\n",
       "      <td>1.0</td>\n",
       "      <td>1.0</td>\n",
       "      <td>1476972</td>\n",
       "      <td>1757597</td>\n",
       "      <td>280625</td>\n",
       "      <td>1476972</td>\n",
       "      <td>1757597</td>\n",
       "      <td>11/10/2021</td>\n",
       "    </tr>\n",
       "    <tr>\n",
       "      <th>2</th>\n",
       "      <td># 49559</td>\n",
       "      <td># 2580</td>\n",
       "      <td>11/10/2021</td>\n",
       "      <td>11/10/2021</td>\n",
       "      <td>11/10/2021</td>\n",
       "      <td>Alimentos y Bebidas</td>\n",
       "      <td>Alimentos preparados y conservados</td>\n",
       "      <td>Proveedor 3</td>\n",
       "      <td>Usuario solicitante 3</td>\n",
       "      <td>Usuario Aprobador 3</td>\n",
       "      <td>...</td>\n",
       "      <td>Lasagna</td>\n",
       "      <td>1K7609</td>\n",
       "      <td>10.0</td>\n",
       "      <td>NaN</td>\n",
       "      <td>155</td>\n",
       "      <td>155</td>\n",
       "      <td>0</td>\n",
       "      <td>155</td>\n",
       "      <td>155</td>\n",
       "      <td>11/10/2021</td>\n",
       "    </tr>\n",
       "    <tr>\n",
       "      <th>3</th>\n",
       "      <td># 49558</td>\n",
       "      <td># 1892</td>\n",
       "      <td>11/10/2021</td>\n",
       "      <td>11/12/2021</td>\n",
       "      <td>11/10/2021</td>\n",
       "      <td>Alimentos y Bebidas</td>\n",
       "      <td>Productos de carne y aves de corral</td>\n",
       "      <td>Proveedor 4</td>\n",
       "      <td>Usuario solicitante 4</td>\n",
       "      <td>Usuario Aprobador 4</td>\n",
       "      <td>...</td>\n",
       "      <td>Pecho de Res Limpio/Sin Grasa</td>\n",
       "      <td>1K15459</td>\n",
       "      <td>50.0</td>\n",
       "      <td>NaN</td>\n",
       "      <td>22</td>\n",
       "      <td>22</td>\n",
       "      <td>0</td>\n",
       "      <td>1100000</td>\n",
       "      <td>1100000</td>\n",
       "      <td>11/10/2021</td>\n",
       "    </tr>\n",
       "    <tr>\n",
       "      <th>4</th>\n",
       "      <td># 49557</td>\n",
       "      <td># 1</td>\n",
       "      <td>11/10/2021</td>\n",
       "      <td>11/9/2021</td>\n",
       "      <td>11/10/2021</td>\n",
       "      <td>Imprenta y litografía</td>\n",
       "      <td>Otra</td>\n",
       "      <td>Proveedor 5</td>\n",
       "      <td>Usuario solicitante 5</td>\n",
       "      <td>Usuario Aprobador 5</td>\n",
       "      <td>...</td>\n",
       "      <td>LIBRO CABEZA, CORAZON Y MANOS</td>\n",
       "      <td>1K15761</td>\n",
       "      <td>7.0</td>\n",
       "      <td>7.0</td>\n",
       "      <td>92084</td>\n",
       "      <td>10958</td>\n",
       "      <td>17496</td>\n",
       "      <td>644588</td>\n",
       "      <td>76706</td>\n",
       "      <td>11/10/2021</td>\n",
       "    </tr>\n",
       "  </tbody>\n",
       "</table>\n",
       "<p>5 rows × 26 columns</p>\n",
       "</div>"
      ],
      "text/plain": [
       "  NÚMERO PEDIDO ORDEN NÚMERO FECHA ORDEN FECHA ENTREGA FECHA APROBACION  \\\n",
       "0       # 49561       # 2582  11/10/2021    11/10/2021       11/10/2021   \n",
       "1       # 49560       # 2581  11/10/2021    11/11/2021       11/10/2021   \n",
       "2       # 49559       # 2580  11/10/2021    11/10/2021       11/10/2021   \n",
       "3       # 49558       # 1892  11/10/2021    11/12/2021       11/10/2021   \n",
       "4       # 49557          # 1  11/10/2021     11/9/2021       11/10/2021   \n",
       "\n",
       "                   CATEGORÍA  \\\n",
       "0  Eléctricos y Electrónicos   \n",
       "1      Mercadeo y publicidad   \n",
       "2        Alimentos y Bebidas   \n",
       "3        Alimentos y Bebidas   \n",
       "4      Imprenta y litografía   \n",
       "\n",
       "                                       SUBCATEGORIA    PROVEEDOR  \\\n",
       "0  Lámparas y bombillas y componentes para lámparas  Proveedor 1   \n",
       "1                                        Publicidad  Proveedor 2   \n",
       "2                Alimentos preparados y conservados  Proveedor 3   \n",
       "3               Productos de carne y aves de corral  Proveedor 4   \n",
       "4                                              Otra  Proveedor 5   \n",
       "\n",
       "                 USUARIO    USUARIO APROBADOR  ...  \\\n",
       "0  Usuario solicitante 1  Usuario Aprobador 1  ...   \n",
       "1  Usuario solicitante 2  Usuario Aprobador 2  ...   \n",
       "2  Usuario solicitante 3  Usuario Aprobador 3  ...   \n",
       "3  Usuario solicitante 4  Usuario Aprobador 4  ...   \n",
       "4  Usuario solicitante 5  Usuario Aprobador 5  ...   \n",
       "\n",
       "                            PRODUCTO O SERVICIO CODIGO PORTAL CANTIDAD PEDIDA  \\\n",
       "0  PANEL LED SOBREPONER 24W REDONDO LUZ BLANCA       1.20E+12             2.0   \n",
       "1                       ACTIVIDADES COMERCIALES       1K15774             1.0   \n",
       "2                                       Lasagna        1K7609            10.0   \n",
       "3                 Pecho de Res Limpio/Sin Grasa       1K15459            50.0   \n",
       "4                 LIBRO CABEZA, CORAZON Y MANOS       1K15761             7.0   \n",
       "\n",
       "  CANTIDAD RECIBIDA PRECIO UNITARIO PRECIO UNITARIO + IVA     IVA  \\\n",
       "0               NaN           23364                 27803    4439   \n",
       "1               1.0         1476972               1757597  280625   \n",
       "2               NaN             155                   155       0   \n",
       "3               NaN              22                    22       0   \n",
       "4               7.0           92084                 10958   17496   \n",
       "\n",
       "  TOTAL SIN IVA  TOTAL + IVA  FECHA ULTIMO MOVIMIENTO  \n",
       "0         46728        55606               11/10/2021  \n",
       "1       1476972      1757597               11/10/2021  \n",
       "2           155          155               11/10/2021  \n",
       "3       1100000      1100000               11/10/2021  \n",
       "4        644588        76706               11/10/2021  \n",
       "\n",
       "[5 rows x 26 columns]"
      ]
     },
     "execution_count": 2,
     "metadata": {},
     "output_type": "execute_result"
    }
   ],
   "source": [
    "#Read Dataset\n",
    "#pd.set_option(\"display.max_columns\",40)\n",
    "df = pd.read_csv(r\"D:\\Ordenes_de_compra_PORTAL_1K.csv\", sep=',', header= 0, na_values = [\"  \"],encoding='latin-1')\n",
    "df.head()"
   ]
  },
  {
   "cell_type": "code",
   "execution_count": 3,
   "id": "0f564c92",
   "metadata": {},
   "outputs": [],
   "source": [
    "df.rename(columns={'NÚMERO PEDIDO': 'Numero_Pedido',\n",
    "                  'ORDEN NÚMERO': 'Orden_Numero',\n",
    "                  'FECHA ORDEN': 'Fecha_Orden',\n",
    "                  'FECHA ENTREGA': 'Fecha_Entrega',\n",
    "                  'FECHA APROBACION': 'Fecha_Aprobacion',\n",
    "                  'CATEGORÍA': 'Categoria',\n",
    "                  'SUBCATEGORIA': 'Subcategoria',\n",
    "                  'PROVEEDOR': 'Proveedor',\n",
    "                  'USUARIO': 'Usuario',\n",
    "                  'USUARIO APROBADOR': 'Usuario_Aprobador',\n",
    "                  'DIRECCION PEDIDO': 'Direccion_Pedido',\n",
    "                  'DIRECCION FACTURACION': 'Direccion_Facturacion',\n",
    "                  'CENTRO DE COSTOS': 'Centro_Costos',\n",
    "                  'PRESUPUESTO': 'Presupuesto',\n",
    "                  'PORTAL': 'Portal',\n",
    "                  'ESTADO': 'Estado',\n",
    "                  'PRODUCTO O SERVICIO': 'Producto_Servicio',\n",
    "                  'CODIGO PORTAL': 'Codigo_Producto',\n",
    "                  'CANTIDAD PEDIDA': 'Cantidad_Pedida',\n",
    "                  'CANTIDAD RECIBIDA': 'Cantidad_Recibida',\n",
    "                  'PRECIO UNITARIO': 'Precio_Unitario',\n",
    "                  'PRECIO UNITARIO + IVA': 'Precio_Unitario_IVA',\n",
    "                  'IVA': 'IVA',\n",
    "                  'TOTAL SIN IVA': 'Total_Sin_IVA',\n",
    "                  'TOTAL + IVA': 'Total_IVA',\n",
    "                  'FECHA ULTIMO MOVIMIENTO': 'Fecha_Ultimo_Movimiento'}, inplace=True)"
   ]
  },
  {
   "cell_type": "code",
   "execution_count": 4,
   "id": "04069799",
   "metadata": {},
   "outputs": [],
   "source": [
    "# cambio formato fechas\n",
    "df['Fecha_Orden'] = pd.to_datetime(df['Fecha_Orden'], format = \"%m/%d/%Y\")\n",
    "df['Fecha_Entrega'] = pd.to_datetime(df['Fecha_Entrega'], format = \"%m/%d/%Y\")\n",
    "df['Fecha_Aprobacion'] = pd.to_datetime(df['Fecha_Aprobacion'], format = \"%m/%d/%Y\")"
   ]
  },
  {
   "cell_type": "code",
   "execution_count": null,
   "id": "e68ec340",
   "metadata": {},
   "outputs": [],
   "source": [
    "## - Convertir estado: Rechazado a 1 y el resto a 0\n",
    "df['Estado_label'] = 0"
   ]
  },
  {
   "cell_type": "code",
   "execution_count": 7,
   "id": "c3a1f78e",
   "metadata": {},
   "outputs": [],
   "source": [
    "estados_val = ['Orden Confirmada','Orden en Proceso','Pendiente por Aprobar','Recibido Parcial']\n",
    "df_val = df[df.Estado.isin(estados_val)]"
   ]
  },
  {
   "cell_type": "code",
   "execution_count": 8,
   "id": "c453cfcf",
   "metadata": {},
   "outputs": [],
   "source": [
    "estados = ['Recibido','Cancelado','Finalizado Incompleto','Recibido Parcial']\n",
    "df = df[df.Estado.isin(estados)]"
   ]
  },
  {
   "cell_type": "code",
   "execution_count": 9,
   "id": "5973eed9",
   "metadata": {},
   "outputs": [
    {
     "data": {
      "text/html": [
       "<div>\n",
       "<style scoped>\n",
       "    .dataframe tbody tr th:only-of-type {\n",
       "        vertical-align: middle;\n",
       "    }\n",
       "\n",
       "    .dataframe tbody tr th {\n",
       "        vertical-align: top;\n",
       "    }\n",
       "\n",
       "    .dataframe thead th {\n",
       "        text-align: right;\n",
       "    }\n",
       "</style>\n",
       "<table border=\"1\" class=\"dataframe\">\n",
       "  <thead>\n",
       "    <tr style=\"text-align: right;\">\n",
       "      <th></th>\n",
       "      <th>count</th>\n",
       "      <th>mean</th>\n",
       "      <th>std</th>\n",
       "      <th>min</th>\n",
       "      <th>25%</th>\n",
       "      <th>50%</th>\n",
       "      <th>75%</th>\n",
       "      <th>max</th>\n",
       "    </tr>\n",
       "  </thead>\n",
       "  <tbody>\n",
       "    <tr>\n",
       "      <th>Cantidad_Pedida</th>\n",
       "      <td>17118.0</td>\n",
       "      <td>71.335070</td>\n",
       "      <td>1.018249e+03</td>\n",
       "      <td>0.27</td>\n",
       "      <td>2.0</td>\n",
       "      <td>5.0</td>\n",
       "      <td>19.0</td>\n",
       "      <td>53620.0</td>\n",
       "    </tr>\n",
       "    <tr>\n",
       "      <th>Cantidad_Recibida</th>\n",
       "      <td>16011.0</td>\n",
       "      <td>69.844048</td>\n",
       "      <td>1.040998e+03</td>\n",
       "      <td>0.00</td>\n",
       "      <td>2.0</td>\n",
       "      <td>5.0</td>\n",
       "      <td>18.0</td>\n",
       "      <td>53620.0</td>\n",
       "    </tr>\n",
       "    <tr>\n",
       "      <th>Precio_Unitario</th>\n",
       "      <td>17118.0</td>\n",
       "      <td>65258.541944</td>\n",
       "      <td>6.449572e+05</td>\n",
       "      <td>0.00</td>\n",
       "      <td>209.0</td>\n",
       "      <td>5546.0</td>\n",
       "      <td>30168.0</td>\n",
       "      <td>33242814.0</td>\n",
       "    </tr>\n",
       "    <tr>\n",
       "      <th>Precio_Unitario_IVA</th>\n",
       "      <td>17118.0</td>\n",
       "      <td>68032.000526</td>\n",
       "      <td>7.546885e+05</td>\n",
       "      <td>0.00</td>\n",
       "      <td>95.0</td>\n",
       "      <td>737.5</td>\n",
       "      <td>14679.0</td>\n",
       "      <td>39558949.0</td>\n",
       "    </tr>\n",
       "    <tr>\n",
       "      <th>IVA</th>\n",
       "      <td>17118.0</td>\n",
       "      <td>10619.171048</td>\n",
       "      <td>1.131816e+05</td>\n",
       "      <td>0.00</td>\n",
       "      <td>112.0</td>\n",
       "      <td>1482.0</td>\n",
       "      <td>5908.0</td>\n",
       "      <td>6316135.0</td>\n",
       "    </tr>\n",
       "    <tr>\n",
       "      <th>Total_Sin_IVA</th>\n",
       "      <td>17118.0</td>\n",
       "      <td>474280.609534</td>\n",
       "      <td>2.819524e+06</td>\n",
       "      <td>0.00</td>\n",
       "      <td>600.0</td>\n",
       "      <td>31789.5</td>\n",
       "      <td>259663.0</td>\n",
       "      <td>299185326.0</td>\n",
       "    </tr>\n",
       "    <tr>\n",
       "      <th>Total_IVA</th>\n",
       "      <td>17118.0</td>\n",
       "      <td>532282.807980</td>\n",
       "      <td>3.346742e+06</td>\n",
       "      <td>0.00</td>\n",
       "      <td>465.0</td>\n",
       "      <td>15595.0</td>\n",
       "      <td>218009.0</td>\n",
       "      <td>356030538.0</td>\n",
       "    </tr>\n",
       "  </tbody>\n",
       "</table>\n",
       "</div>"
      ],
      "text/plain": [
       "                       count           mean           std   min    25%  \\\n",
       "Cantidad_Pedida      17118.0      71.335070  1.018249e+03  0.27    2.0   \n",
       "Cantidad_Recibida    16011.0      69.844048  1.040998e+03  0.00    2.0   \n",
       "Precio_Unitario      17118.0   65258.541944  6.449572e+05  0.00  209.0   \n",
       "Precio_Unitario_IVA  17118.0   68032.000526  7.546885e+05  0.00   95.0   \n",
       "IVA                  17118.0   10619.171048  1.131816e+05  0.00  112.0   \n",
       "Total_Sin_IVA        17118.0  474280.609534  2.819524e+06  0.00  600.0   \n",
       "Total_IVA            17118.0  532282.807980  3.346742e+06  0.00  465.0   \n",
       "\n",
       "                         50%       75%          max  \n",
       "Cantidad_Pedida          5.0      19.0      53620.0  \n",
       "Cantidad_Recibida        5.0      18.0      53620.0  \n",
       "Precio_Unitario       5546.0   30168.0   33242814.0  \n",
       "Precio_Unitario_IVA    737.5   14679.0   39558949.0  \n",
       "IVA                   1482.0    5908.0    6316135.0  \n",
       "Total_Sin_IVA        31789.5  259663.0  299185326.0  \n",
       "Total_IVA            15595.0  218009.0  356030538.0  "
      ]
     },
     "execution_count": 9,
     "metadata": {},
     "output_type": "execute_result"
    }
   ],
   "source": [
    "df.describe().T"
   ]
  },
  {
   "cell_type": "code",
   "execution_count": null,
   "id": "064bd5c9",
   "metadata": {},
   "outputs": [],
   "source": [
    "profile = ProfileReport(df, title=\"Pandas Profiling Report\", explorative=True)"
   ]
  },
  {
   "cell_type": "code",
   "execution_count": null,
   "id": "6bb4e61b",
   "metadata": {
    "scrolled": true
   },
   "outputs": [],
   "source": [
    "profile"
   ]
  },
  {
   "cell_type": "code",
   "execution_count": 10,
   "id": "084e6797",
   "metadata": {},
   "outputs": [],
   "source": [
    "%matplotlib inline"
   ]
  },
  {
   "cell_type": "code",
   "execution_count": 11,
   "id": "db1a92e9",
   "metadata": {},
   "outputs": [
    {
     "data": {
      "image/png": "[encoded data removed]",
      "text/plain": [
       "<Figure size 1440x720 with 2 Axes>"
      ]
     },
     "metadata": {
      "needs_background": "light"
     },
     "output_type": "display_data"
    }
   ],
   "source": [
    "plt.figure(figsize=(20,10))\n",
    "corr_matrix = df.corr()\n",
    "sns.heatmap(corr_matrix, annot=True)\n",
    "plt.show()\n",
    "#plt.savefig(\"matixdf_full.png\")"
   ]
  },
  {
   "cell_type": "code",
   "execution_count": 12,
   "id": "5294c5a7",
   "metadata": {},
   "outputs": [],
   "source": [
    "# campos eliminados despues de revision de matrix de correlacion\n",
    "df.drop(['Producto_Servicio','Portal','Usuario_Aprobador','Usuario','Subcategoria','Presupuesto',\"Precio_Unitario_IVA\",\"Cantidad_Recibida\", \"Total_Sin_IVA\", \"IVA\", \"Codigo_Producto\", \"Direccion_Facturacion\", \"Centro_Costos\", \"Numero_Pedido\", \"Orden_Numero\"], axis=1, inplace = True)"
   ]
  },
  {
   "cell_type": "markdown",
   "id": "b8bcc23b",
   "metadata": {},
   "source": [
    "#### Data Cleaning"
   ]
  },
  {
   "cell_type": "code",
   "execution_count": 13,
   "id": "1fee7fe6",
   "metadata": {},
   "outputs": [],
   "source": [
    "d3_Cantidad_Pedida = df['Cantidad_Pedida'].mean() + 3*df['Cantidad_Pedida'].std()\n",
    "d3_Precio_Unitario = df['Precio_Unitario'].mean() + 3*df['Precio_Unitario'].std()\n",
    "d3_Total_IVA = df['Total_IVA'].mean() + 3*df['Total_IVA'].std()"
   ]
  },
  {
   "cell_type": "code",
   "execution_count": 14,
   "id": "007653fa",
   "metadata": {},
   "outputs": [],
   "source": [
    "df = df[(df['Cantidad_Pedida'] < d3_Cantidad_Pedida) & (df['Precio_Unitario'] < d3_Precio_Unitario) &  (df['Total_IVA'] < d3_Total_IVA)]"
   ]
  },
  {
   "cell_type": "code",
   "execution_count": null,
   "id": "bfa94ad0",
   "metadata": {},
   "outputs": [],
   "source": [
    "profile2 = ProfileReport(df, title=\"Pandas Profiling Report\", explorative=True)\n",
    "profile2"
   ]
  },
  {
   "cell_type": "code",
   "execution_count": 15,
   "id": "b62a6af1",
   "metadata": {},
   "outputs": [
    {
     "data": {
      "text/html": [
       "<div>\n",
       "<style scoped>\n",
       "    .dataframe tbody tr th:only-of-type {\n",
       "        vertical-align: middle;\n",
       "    }\n",
       "\n",
       "    .dataframe tbody tr th {\n",
       "        vertical-align: top;\n",
       "    }\n",
       "\n",
       "    .dataframe thead th {\n",
       "        text-align: right;\n",
       "    }\n",
       "</style>\n",
       "<table border=\"1\" class=\"dataframe\">\n",
       "  <thead>\n",
       "    <tr style=\"text-align: right;\">\n",
       "      <th></th>\n",
       "      <th>count</th>\n",
       "      <th>mean</th>\n",
       "      <th>std</th>\n",
       "      <th>min</th>\n",
       "      <th>25%</th>\n",
       "      <th>50%</th>\n",
       "      <th>75%</th>\n",
       "      <th>max</th>\n",
       "    </tr>\n",
       "    <tr>\n",
       "      <th>Estado</th>\n",
       "      <th></th>\n",
       "      <th></th>\n",
       "      <th></th>\n",
       "      <th></th>\n",
       "      <th></th>\n",
       "      <th></th>\n",
       "      <th></th>\n",
       "      <th></th>\n",
       "    </tr>\n",
       "  </thead>\n",
       "  <tbody>\n",
       "    <tr>\n",
       "      <th>Cancelado</th>\n",
       "      <td>1127.0</td>\n",
       "      <td>45.450311</td>\n",
       "      <td>206.180071</td>\n",
       "      <td>1.00</td>\n",
       "      <td>2.0</td>\n",
       "      <td>4.0</td>\n",
       "      <td>12.00</td>\n",
       "      <td>3000.0</td>\n",
       "    </tr>\n",
       "    <tr>\n",
       "      <th>Finalizado Incompleto</th>\n",
       "      <td>934.0</td>\n",
       "      <td>28.777302</td>\n",
       "      <td>139.907961</td>\n",
       "      <td>1.00</td>\n",
       "      <td>1.0</td>\n",
       "      <td>3.0</td>\n",
       "      <td>9.75</td>\n",
       "      <td>2400.0</td>\n",
       "    </tr>\n",
       "    <tr>\n",
       "      <th>Recibido</th>\n",
       "      <td>14694.0</td>\n",
       "      <td>34.088079</td>\n",
       "      <td>135.953462</td>\n",
       "      <td>0.27</td>\n",
       "      <td>2.0</td>\n",
       "      <td>5.0</td>\n",
       "      <td>20.00</td>\n",
       "      <td>3000.0</td>\n",
       "    </tr>\n",
       "    <tr>\n",
       "      <th>Recibido Parcial</th>\n",
       "      <td>158.0</td>\n",
       "      <td>59.930380</td>\n",
       "      <td>288.872509</td>\n",
       "      <td>1.00</td>\n",
       "      <td>3.0</td>\n",
       "      <td>7.0</td>\n",
       "      <td>16.00</td>\n",
       "      <td>2500.0</td>\n",
       "    </tr>\n",
       "  </tbody>\n",
       "</table>\n",
       "</div>"
      ],
      "text/plain": [
       "                         count       mean         std   min  25%  50%    75%  \\\n",
       "Estado                                                                         \n",
       "Cancelado               1127.0  45.450311  206.180071  1.00  2.0  4.0  12.00   \n",
       "Finalizado Incompleto    934.0  28.777302  139.907961  1.00  1.0  3.0   9.75   \n",
       "Recibido               14694.0  34.088079  135.953462  0.27  2.0  5.0  20.00   \n",
       "Recibido Parcial         158.0  59.930380  288.872509  1.00  3.0  7.0  16.00   \n",
       "\n",
       "                          max  \n",
       "Estado                         \n",
       "Cancelado              3000.0  \n",
       "Finalizado Incompleto  2400.0  \n",
       "Recibido               3000.0  \n",
       "Recibido Parcial       2500.0  "
      ]
     },
     "execution_count": 15,
     "metadata": {},
     "output_type": "execute_result"
    }
   ],
   "source": [
    "df.groupby([\"Estado\"]).Cantidad_Pedida.describe()"
   ]
  },
  {
   "cell_type": "code",
   "execution_count": null,
   "id": "cc977031",
   "metadata": {},
   "outputs": [],
   "source": [
    "df.groupby([\"Estado\"]).Precio_Unitario.describe()"
   ]
  },
  {
   "cell_type": "markdown",
   "id": "90e68727",
   "metadata": {},
   "source": [
    "#### Feature Engineering"
   ]
  },
  {
   "cell_type": "code",
   "execution_count": null,
   "id": "c1d32de5",
   "metadata": {},
   "outputs": [],
   "source": [
    "-Dias_Trasncurridos_Entrega: Fecha Entrega vs Fecha Orden\n",
    "-Convertir estado: Rechazado a 1 y el resto a 0"
   ]
  },
  {
   "cell_type": "code",
   "execution_count": 16,
   "id": "2780e842",
   "metadata": {},
   "outputs": [],
   "source": [
    "df[\"Dias_Trasncurridos_Entrega\"] = (df[\"Fecha_Entrega\"] - df[\"Fecha_Orden\"]).dt.days"
   ]
  },
  {
   "cell_type": "code",
   "execution_count": 17,
   "id": "24269d5a",
   "metadata": {},
   "outputs": [
    {
     "data": {
      "text/html": [
       "<div>\n",
       "<style scoped>\n",
       "    .dataframe tbody tr th:only-of-type {\n",
       "        vertical-align: middle;\n",
       "    }\n",
       "\n",
       "    .dataframe tbody tr th {\n",
       "        vertical-align: top;\n",
       "    }\n",
       "\n",
       "    .dataframe thead th {\n",
       "        text-align: right;\n",
       "    }\n",
       "</style>\n",
       "<table border=\"1\" class=\"dataframe\">\n",
       "  <thead>\n",
       "    <tr style=\"text-align: right;\">\n",
       "      <th></th>\n",
       "      <th>Fecha_Orden</th>\n",
       "      <th>Fecha_Entrega</th>\n",
       "      <th>Fecha_Aprobacion</th>\n",
       "      <th>Categoria</th>\n",
       "      <th>Proveedor</th>\n",
       "      <th>Direccion_Pedido</th>\n",
       "      <th>Estado</th>\n",
       "      <th>Cantidad_Pedida</th>\n",
       "      <th>Precio_Unitario</th>\n",
       "      <th>Total_IVA</th>\n",
       "      <th>Fecha_Ultimo_Movimiento</th>\n",
       "      <th>Dias_Trasncurridos_Entrega</th>\n",
       "    </tr>\n",
       "  </thead>\n",
       "  <tbody>\n",
       "    <tr>\n",
       "      <th>1</th>\n",
       "      <td>2021-11-10</td>\n",
       "      <td>2021-11-11</td>\n",
       "      <td>2021-11-10</td>\n",
       "      <td>Mercadeo y publicidad</td>\n",
       "      <td>Proveedor 2</td>\n",
       "      <td>Direccion 1</td>\n",
       "      <td>Recibido</td>\n",
       "      <td>1.0</td>\n",
       "      <td>1476972</td>\n",
       "      <td>1757597</td>\n",
       "      <td>11/10/2021</td>\n",
       "      <td>1.0</td>\n",
       "    </tr>\n",
       "    <tr>\n",
       "      <th>4</th>\n",
       "      <td>2021-11-10</td>\n",
       "      <td>2021-11-09</td>\n",
       "      <td>2021-11-10</td>\n",
       "      <td>Imprenta y litografía</td>\n",
       "      <td>Proveedor 5</td>\n",
       "      <td>Direccion 4</td>\n",
       "      <td>Recibido</td>\n",
       "      <td>7.0</td>\n",
       "      <td>92084</td>\n",
       "      <td>76706</td>\n",
       "      <td>11/10/2021</td>\n",
       "      <td>-1.0</td>\n",
       "    </tr>\n",
       "    <tr>\n",
       "      <th>12</th>\n",
       "      <td>2021-11-10</td>\n",
       "      <td>2021-11-11</td>\n",
       "      <td>2021-11-10</td>\n",
       "      <td>Mercadeo y publicidad</td>\n",
       "      <td>Proveedor 7</td>\n",
       "      <td>Direccion 7</td>\n",
       "      <td>Recibido</td>\n",
       "      <td>60.0</td>\n",
       "      <td>27</td>\n",
       "      <td>1927800</td>\n",
       "      <td>11/10/2021</td>\n",
       "      <td>1.0</td>\n",
       "    </tr>\n",
       "    <tr>\n",
       "      <th>13</th>\n",
       "      <td>2021-11-10</td>\n",
       "      <td>2021-11-23</td>\n",
       "      <td>2021-11-10</td>\n",
       "      <td>Viajes, Eventos y Entretenimiento</td>\n",
       "      <td>Proveedor 8</td>\n",
       "      <td>Direccion 1</td>\n",
       "      <td>Recibido</td>\n",
       "      <td>6.0</td>\n",
       "      <td>190</td>\n",
       "      <td>1356600</td>\n",
       "      <td>11/10/2021</td>\n",
       "      <td>13.0</td>\n",
       "    </tr>\n",
       "    <tr>\n",
       "      <th>34</th>\n",
       "      <td>2021-11-09</td>\n",
       "      <td>2021-11-10</td>\n",
       "      <td>2021-11-09</td>\n",
       "      <td>Servicios Profesionales</td>\n",
       "      <td>Proveedor 17</td>\n",
       "      <td>Direccion 1</td>\n",
       "      <td>Recibido</td>\n",
       "      <td>1.0</td>\n",
       "      <td>1790000</td>\n",
       "      <td>2130100</td>\n",
       "      <td>11/9/2021</td>\n",
       "      <td>1.0</td>\n",
       "    </tr>\n",
       "    <tr>\n",
       "      <th>...</th>\n",
       "      <td>...</td>\n",
       "      <td>...</td>\n",
       "      <td>...</td>\n",
       "      <td>...</td>\n",
       "      <td>...</td>\n",
       "      <td>...</td>\n",
       "      <td>...</td>\n",
       "      <td>...</td>\n",
       "      <td>...</td>\n",
       "      <td>...</td>\n",
       "      <td>...</td>\n",
       "      <td>...</td>\n",
       "    </tr>\n",
       "    <tr>\n",
       "      <th>23078</th>\n",
       "      <td>2018-04-30</td>\n",
       "      <td>NaT</td>\n",
       "      <td>2018-05-01</td>\n",
       "      <td>Aseo, Cafetería y Oficina</td>\n",
       "      <td>Proveedor 229</td>\n",
       "      <td>Direccion 81</td>\n",
       "      <td>Recibido</td>\n",
       "      <td>8.0</td>\n",
       "      <td>33613</td>\n",
       "      <td>320</td>\n",
       "      <td>5/1/2018</td>\n",
       "      <td>NaN</td>\n",
       "    </tr>\n",
       "    <tr>\n",
       "      <th>23079</th>\n",
       "      <td>2018-04-30</td>\n",
       "      <td>NaT</td>\n",
       "      <td>2018-05-01</td>\n",
       "      <td>Aseo, Cafetería y Oficina</td>\n",
       "      <td>Proveedor 229</td>\n",
       "      <td>Direccion 81</td>\n",
       "      <td>Recibido</td>\n",
       "      <td>1.0</td>\n",
       "      <td>588</td>\n",
       "      <td>700</td>\n",
       "      <td>5/1/2018</td>\n",
       "      <td>NaN</td>\n",
       "    </tr>\n",
       "    <tr>\n",
       "      <th>23080</th>\n",
       "      <td>2018-04-30</td>\n",
       "      <td>NaT</td>\n",
       "      <td>2018-05-01</td>\n",
       "      <td>Moda y accesorios</td>\n",
       "      <td>Proveedor 229</td>\n",
       "      <td>Direccion 81</td>\n",
       "      <td>Recibido</td>\n",
       "      <td>3.0</td>\n",
       "      <td>29412</td>\n",
       "      <td>105</td>\n",
       "      <td>5/1/2018</td>\n",
       "      <td>NaN</td>\n",
       "    </tr>\n",
       "    <tr>\n",
       "      <th>23081</th>\n",
       "      <td>2018-04-30</td>\n",
       "      <td>NaT</td>\n",
       "      <td>2018-04-30</td>\n",
       "      <td>Moda y accesorios</td>\n",
       "      <td>Proveedor 229</td>\n",
       "      <td>Direccion 81</td>\n",
       "      <td>Recibido</td>\n",
       "      <td>4.0</td>\n",
       "      <td>29412</td>\n",
       "      <td>140</td>\n",
       "      <td>5/1/2018</td>\n",
       "      <td>NaN</td>\n",
       "    </tr>\n",
       "    <tr>\n",
       "      <th>23082</th>\n",
       "      <td>2018-04-30</td>\n",
       "      <td>NaT</td>\n",
       "      <td>2018-04-30</td>\n",
       "      <td>Aseo, Cafetería y Oficina</td>\n",
       "      <td>Proveedor 229</td>\n",
       "      <td>Direccion 81</td>\n",
       "      <td>Recibido</td>\n",
       "      <td>5.0</td>\n",
       "      <td>33613</td>\n",
       "      <td>200</td>\n",
       "      <td>5/1/2018</td>\n",
       "      <td>NaN</td>\n",
       "    </tr>\n",
       "  </tbody>\n",
       "</table>\n",
       "<p>16913 rows × 12 columns</p>\n",
       "</div>"
      ],
      "text/plain": [
       "      Fecha_Orden Fecha_Entrega Fecha_Aprobacion  \\\n",
       "1      2021-11-10    2021-11-11       2021-11-10   \n",
       "4      2021-11-10    2021-11-09       2021-11-10   \n",
       "12     2021-11-10    2021-11-11       2021-11-10   \n",
       "13     2021-11-10    2021-11-23       2021-11-10   \n",
       "34     2021-11-09    2021-11-10       2021-11-09   \n",
       "...           ...           ...              ...   \n",
       "23078  2018-04-30           NaT       2018-05-01   \n",
       "23079  2018-04-30           NaT       2018-05-01   \n",
       "23080  2018-04-30           NaT       2018-05-01   \n",
       "23081  2018-04-30           NaT       2018-04-30   \n",
       "23082  2018-04-30           NaT       2018-04-30   \n",
       "\n",
       "                               Categoria      Proveedor Direccion_Pedido  \\\n",
       "1                  Mercadeo y publicidad    Proveedor 2      Direccion 1   \n",
       "4                  Imprenta y litografía    Proveedor 5      Direccion 4   \n",
       "12                 Mercadeo y publicidad    Proveedor 7      Direccion 7   \n",
       "13     Viajes, Eventos y Entretenimiento    Proveedor 8      Direccion 1   \n",
       "34               Servicios Profesionales   Proveedor 17      Direccion 1   \n",
       "...                                  ...            ...              ...   \n",
       "23078          Aseo, Cafetería y Oficina  Proveedor 229     Direccion 81   \n",
       "23079          Aseo, Cafetería y Oficina  Proveedor 229     Direccion 81   \n",
       "23080                  Moda y accesorios  Proveedor 229     Direccion 81   \n",
       "23081                  Moda y accesorios  Proveedor 229     Direccion 81   \n",
       "23082          Aseo, Cafetería y Oficina  Proveedor 229     Direccion 81   \n",
       "\n",
       "         Estado  Cantidad_Pedida  Precio_Unitario  Total_IVA  \\\n",
       "1      Recibido              1.0          1476972    1757597   \n",
       "4      Recibido              7.0            92084      76706   \n",
       "12     Recibido             60.0               27    1927800   \n",
       "13     Recibido              6.0              190    1356600   \n",
       "34     Recibido              1.0          1790000    2130100   \n",
       "...         ...              ...              ...        ...   \n",
       "23078  Recibido              8.0            33613        320   \n",
       "23079  Recibido              1.0              588        700   \n",
       "23080  Recibido              3.0            29412        105   \n",
       "23081  Recibido              4.0            29412        140   \n",
       "23082  Recibido              5.0            33613        200   \n",
       "\n",
       "      Fecha_Ultimo_Movimiento  Dias_Trasncurridos_Entrega  \n",
       "1                  11/10/2021                         1.0  \n",
       "4                  11/10/2021                        -1.0  \n",
       "12                 11/10/2021                         1.0  \n",
       "13                 11/10/2021                        13.0  \n",
       "34                  11/9/2021                         1.0  \n",
       "...                       ...                         ...  \n",
       "23078                5/1/2018                         NaN  \n",
       "23079                5/1/2018                         NaN  \n",
       "23080                5/1/2018                         NaN  \n",
       "23081                5/1/2018                         NaN  \n",
       "23082                5/1/2018                         NaN  \n",
       "\n",
       "[16913 rows x 12 columns]"
      ]
     },
     "execution_count": 17,
     "metadata": {},
     "output_type": "execute_result"
    }
   ],
   "source": [
    "df"
   ]
  },
  {
   "cell_type": "code",
   "execution_count": 18,
   "id": "e6e9cea1",
   "metadata": {},
   "outputs": [
    {
     "name": "stdout",
     "output_type": "stream",
     "text": [
      "<class 'pandas.core.frame.DataFrame'>\n",
      "Int64Index: 16913 entries, 1 to 23082\n",
      "Data columns (total 12 columns):\n",
      " #   Column                      Non-Null Count  Dtype         \n",
      "---  ------                      --------------  -----         \n",
      " 0   Fecha_Orden                 16913 non-null  datetime64[ns]\n",
      " 1   Fecha_Entrega               16809 non-null  datetime64[ns]\n",
      " 2   Fecha_Aprobacion            16880 non-null  datetime64[ns]\n",
      " 3   Categoria                   16913 non-null  object        \n",
      " 4   Proveedor                   16913 non-null  object        \n",
      " 5   Direccion_Pedido            16913 non-null  object        \n",
      " 6   Estado                      16913 non-null  object        \n",
      " 7   Cantidad_Pedida             16913 non-null  float64       \n",
      " 8   Precio_Unitario             16913 non-null  int64         \n",
      " 9   Total_IVA                   16913 non-null  int64         \n",
      " 10  Fecha_Ultimo_Movimiento     16913 non-null  object        \n",
      " 11  Dias_Trasncurridos_Entrega  16809 non-null  float64       \n",
      "dtypes: datetime64[ns](3), float64(2), int64(2), object(5)\n",
      "memory usage: 1.7+ MB\n"
     ]
    }
   ],
   "source": [
    "df.info()"
   ]
  },
  {
   "cell_type": "code",
   "execution_count": 142,
   "id": "abccb29b",
   "metadata": {},
   "outputs": [
    {
     "data": {
      "text/plain": [
       "Recibido                 11460\n",
       "Finalizado Incompleto      800\n",
       "Cancelado                  636\n",
       "Recibido Parcial            26\n",
       "Name: Estado, dtype: int64"
      ]
     },
     "execution_count": 142,
     "metadata": {},
     "output_type": "execute_result"
    }
   ],
   "source": [
    "df[\"Estado\"].value_counts()"
   ]
  },
  {
   "cell_type": "code",
   "execution_count": 141,
   "id": "3c4f7343",
   "metadata": {},
   "outputs": [
    {
     "data": {
      "text/plain": [
       "2    11460\n",
       "1      800\n",
       "0      636\n",
       "3       26\n",
       "Name: Estado_label, dtype: int64"
      ]
     },
     "execution_count": 141,
     "metadata": {},
     "output_type": "execute_result"
    }
   ],
   "source": [
    "df_encoder[\"Estado_label\"].value_counts()"
   ]
  },
  {
   "cell_type": "code",
   "execution_count": 20,
   "id": "f4361484",
   "metadata": {},
   "outputs": [
    {
     "data": {
      "text/plain": [
       "Vigilancia y seguridad industrial              0.392479\n",
       "Alimentos y Bebidas                            0.195234\n",
       "Aseo, Cafetería y Oficina                      0.176314\n",
       "Ferreteria                                     0.044108\n",
       "Dotación y elementos de protección personal    0.039496\n",
       "Almacenamiento y empaques                      0.018684\n",
       "Químicos y derivados                           0.017738\n",
       "Vehículos y repuestos                          0.017324\n",
       "Construcción y Mantenimiento                   0.013008\n",
       "Mercadeo y publicidad                          0.011175\n",
       "Servicios Profesionales                        0.009697\n",
       "Logística y transporte                         0.009283\n",
       "Mobiliario y decoración                        0.008810\n",
       "Textiles                                       0.008514\n",
       "Eléctricos y Electrónicos                      0.007746\n",
       "Tecnología e información                       0.007686\n",
       "Ingeniería e Investigación                     0.004257\n",
       "Imprenta y litografía                          0.004198\n",
       "Compras Sostenibles                            0.002661\n",
       "Manufactura                                    0.002483\n",
       "Gestión ambiental                              0.001537\n",
       "Hogar y electrodomésticos                      0.001537\n",
       "Salud y Medicina                               0.001419\n",
       "Moda y accesorios                              0.001301\n",
       "Viajes, Eventos y Entretenimiento              0.000946\n",
       "Cuidado personal y Belleza                     0.000473\n",
       "Vigilancia y seguridad                         0.000473\n",
       "Deporte y recreación                           0.000355\n",
       "Medicina y Salud                               0.000296\n",
       "Minería                                        0.000177\n",
       "Agroindustrial                                 0.000177\n",
       "Gestión inmobiliaria                           0.000118\n",
       "Generación y distribución de Energía           0.000118\n",
       "Servicios Públicos                             0.000059\n",
       "Educación y formación empresarial              0.000059\n",
       "Producción audiovisual                         0.000059\n",
       "Name: Categoria, dtype: float64"
      ]
     },
     "execution_count": 20,
     "metadata": {},
     "output_type": "execute_result"
    }
   ],
   "source": [
    "df[\"Categoria\"].value_counts(normalize=True)"
   ]
  },
  {
   "cell_type": "code",
   "execution_count": 21,
   "id": "372fd8bb",
   "metadata": {},
   "outputs": [],
   "source": [
    "## filtramos el dataset por las categorias mayores al 15%\n",
    "categorias_si = ['Alimentos y Bebidas','Vigilancia y seguridad industrial','Aseo, Cafetería y Oficina']\n",
    "\n",
    "df = df[df.Categoria.isin(categorias_si)]"
   ]
  },
  {
   "cell_type": "code",
   "execution_count": 841,
   "id": "051ef792",
   "metadata": {},
   "outputs": [
    {
     "name": "stdout",
     "output_type": "stream",
     "text": [
      "<class 'pandas.core.frame.DataFrame'>\n",
      "Int64Index: 17360 entries, 2 to 23082\n",
      "Data columns (total 13 columns):\n",
      " #   Column                      Non-Null Count  Dtype         \n",
      "---  ------                      --------------  -----         \n",
      " 0   Fecha_Orden                 17360 non-null  datetime64[ns]\n",
      " 1   Fecha_Entrega               13728 non-null  datetime64[ns]\n",
      " 2   Fecha_Aprobacion            16733 non-null  datetime64[ns]\n",
      " 3   Categoria                   17360 non-null  object        \n",
      " 4   Proveedor                   17360 non-null  object        \n",
      " 5   Direccion_Pedido            17360 non-null  object        \n",
      " 6   Estado                      17360 non-null  object        \n",
      " 7   Cantidad_Pedida             17360 non-null  float64       \n",
      " 8   Precio_Unitario             17360 non-null  int64         \n",
      " 9   Total_IVA                   17360 non-null  int64         \n",
      " 10  Fecha_Ultimo_Movimiento     17360 non-null  object        \n",
      " 11  Dias_Trasncurridos_Entrega  13728 non-null  float64       \n",
      " 12  Estado_label                17360 non-null  int64         \n",
      "dtypes: datetime64[ns](3), float64(2), int64(3), object(5)\n",
      "memory usage: 1.9+ MB\n"
     ]
    }
   ],
   "source": [
    "df.info()"
   ]
  },
  {
   "cell_type": "code",
   "execution_count": 22,
   "id": "cd7d6d03",
   "metadata": {},
   "outputs": [
    {
     "data": {
      "text/plain": [
       "Vigilancia y seguridad industrial    6638\n",
       "Alimentos y Bebidas                  3302\n",
       "Aseo, Cafetería y Oficina            2982\n",
       "Name: Categoria, dtype: int64"
      ]
     },
     "execution_count": 22,
     "metadata": {},
     "output_type": "execute_result"
    }
   ],
   "source": [
    "df[\"Categoria\"].value_counts()"
   ]
  },
  {
   "cell_type": "code",
   "execution_count": 33,
   "id": "2536b74b",
   "metadata": {},
   "outputs": [],
   "source": [
    "df_encoder = df.copy()"
   ]
  },
  {
   "cell_type": "code",
   "execution_count": 34,
   "id": "ee73dac5",
   "metadata": {},
   "outputs": [],
   "source": [
    "## cambio de variables categoricas con labelencoder\n",
    "lb_encoder = LabelEncoder()\n",
    "df_encoder[\"Categoria_label_encode\"] = lb_encoder.fit_transform(df_encoder[\"Categoria\"])\n",
    "df_encoder[\"Proveedor_label_encode\"] = lb_encoder.fit_transform(df_encoder[\"Proveedor\"])\n",
    "df_encoder[\"Direccion_Pedido_label_encode\"] = lb_encoder.fit_transform(df_encoder[\"Direccion_Pedido\"])\n",
    "df_encoder[\"Estado_label\"] = lb_encoder.fit_transform(df_encoder[\"Estado\"])"
   ]
  },
  {
   "cell_type": "code",
   "execution_count": 35,
   "id": "fee4dca6",
   "metadata": {},
   "outputs": [
    {
     "data": {
      "image/png": "[encoded data removed]",
      "text/plain": [
       "<Figure size 1440x720 with 2 Axes>"
      ]
     },
     "metadata": {
      "needs_background": "light"
     },
     "output_type": "display_data"
    }
   ],
   "source": [
    "plt.figure(figsize=(20,10))\n",
    "corr_matrix = df_encoder.corr()\n",
    "sns.heatmap(corr_matrix, annot=True)\n",
    "plt.show()\n",
    "#plt.savefig(\"matixdf_encode.png\")"
   ]
  },
  {
   "cell_type": "code",
   "execution_count": 26,
   "id": "c1a6efc4",
   "metadata": {},
   "outputs": [
    {
     "name": "stdout",
     "output_type": "stream",
     "text": [
      "<class 'pandas.core.frame.DataFrame'>\n",
      "Int64Index: 12922 entries, 46 to 23082\n",
      "Data columns (total 16 columns):\n",
      " #   Column                         Non-Null Count  Dtype         \n",
      "---  ------                         --------------  -----         \n",
      " 0   Fecha_Orden                    12922 non-null  datetime64[ns]\n",
      " 1   Fecha_Entrega                  12860 non-null  datetime64[ns]\n",
      " 2   Fecha_Aprobacion               12914 non-null  datetime64[ns]\n",
      " 3   Categoria                      12922 non-null  object        \n",
      " 4   Proveedor                      12922 non-null  object        \n",
      " 5   Direccion_Pedido               12922 non-null  object        \n",
      " 6   Estado                         12922 non-null  object        \n",
      " 7   Cantidad_Pedida                12922 non-null  float64       \n",
      " 8   Precio_Unitario                12922 non-null  int64         \n",
      " 9   Total_IVA                      12922 non-null  int64         \n",
      " 10  Fecha_Ultimo_Movimiento        12922 non-null  object        \n",
      " 11  Dias_Trasncurridos_Entrega     12860 non-null  float64       \n",
      " 12  Categoria_label_encode         12922 non-null  int32         \n",
      " 13  Proveedor_label_encode         12922 non-null  int32         \n",
      " 14  Direccion_Pedido_label_encode  12922 non-null  int32         \n",
      " 15  Estado_label_encode            12922 non-null  int32         \n",
      "dtypes: datetime64[ns](3), float64(2), int32(4), int64(2), object(5)\n",
      "memory usage: 1.5+ MB\n"
     ]
    }
   ],
   "source": [
    "df_encoder.info()"
   ]
  },
  {
   "cell_type": "code",
   "execution_count": 36,
   "id": "e6f1d491",
   "metadata": {},
   "outputs": [],
   "source": [
    "##borrado de variables del dataset IDs\n",
    "df_encoder = df_encoder.drop(['Fecha_Orden','Fecha_Entrega','Fecha_Aprobacion','Categoria','Proveedor','Direccion_Pedido','Estado','Fecha_Ultimo_Movimiento'], axis=1)"
   ]
  },
  {
   "cell_type": "code",
   "execution_count": 37,
   "id": "0e8f2087",
   "metadata": {
    "scrolled": true
   },
   "outputs": [
    {
     "data": {
      "text/html": [
       "<div>\n",
       "<style scoped>\n",
       "    .dataframe tbody tr th:only-of-type {\n",
       "        vertical-align: middle;\n",
       "    }\n",
       "\n",
       "    .dataframe tbody tr th {\n",
       "        vertical-align: top;\n",
       "    }\n",
       "\n",
       "    .dataframe thead th {\n",
       "        text-align: right;\n",
       "    }\n",
       "</style>\n",
       "<table border=\"1\" class=\"dataframe\">\n",
       "  <thead>\n",
       "    <tr style=\"text-align: right;\">\n",
       "      <th></th>\n",
       "      <th>count</th>\n",
       "      <th>mean</th>\n",
       "      <th>std</th>\n",
       "      <th>min</th>\n",
       "      <th>25%</th>\n",
       "      <th>50%</th>\n",
       "      <th>75%</th>\n",
       "      <th>max</th>\n",
       "    </tr>\n",
       "  </thead>\n",
       "  <tbody>\n",
       "    <tr>\n",
       "      <th>Cantidad_Pedida</th>\n",
       "      <td>12922.0</td>\n",
       "      <td>25.667585</td>\n",
       "      <td>7.421414e+01</td>\n",
       "      <td>0.27</td>\n",
       "      <td>2.0</td>\n",
       "      <td>5.0</td>\n",
       "      <td>20.0</td>\n",
       "      <td>3000.0</td>\n",
       "    </tr>\n",
       "    <tr>\n",
       "      <th>Precio_Unitario</th>\n",
       "      <td>12922.0</td>\n",
       "      <td>25036.689754</td>\n",
       "      <td>5.389045e+04</td>\n",
       "      <td>1.00</td>\n",
       "      <td>650.0</td>\n",
       "      <td>10084.0</td>\n",
       "      <td>31595.0</td>\n",
       "      <td>1464000.0</td>\n",
       "    </tr>\n",
       "    <tr>\n",
       "      <th>Total_IVA</th>\n",
       "      <td>12922.0</td>\n",
       "      <td>434564.993499</td>\n",
       "      <td>1.109586e+06</td>\n",
       "      <td>1.00</td>\n",
       "      <td>457.5</td>\n",
       "      <td>17642.5</td>\n",
       "      <td>225299.0</td>\n",
       "      <td>10500000.0</td>\n",
       "    </tr>\n",
       "    <tr>\n",
       "      <th>Dias_Trasncurridos_Entrega</th>\n",
       "      <td>12860.0</td>\n",
       "      <td>0.890747</td>\n",
       "      <td>1.133503e+01</td>\n",
       "      <td>-293.00</td>\n",
       "      <td>0.0</td>\n",
       "      <td>0.0</td>\n",
       "      <td>1.0</td>\n",
       "      <td>21.0</td>\n",
       "    </tr>\n",
       "    <tr>\n",
       "      <th>Categoria_label_encode</th>\n",
       "      <td>12922.0</td>\n",
       "      <td>1.258164</td>\n",
       "      <td>8.382340e-01</td>\n",
       "      <td>0.00</td>\n",
       "      <td>0.0</td>\n",
       "      <td>2.0</td>\n",
       "      <td>2.0</td>\n",
       "      <td>2.0</td>\n",
       "    </tr>\n",
       "    <tr>\n",
       "      <th>Proveedor_label_encode</th>\n",
       "      <td>12922.0</td>\n",
       "      <td>61.375097</td>\n",
       "      <td>2.216922e+01</td>\n",
       "      <td>0.00</td>\n",
       "      <td>57.0</td>\n",
       "      <td>67.0</td>\n",
       "      <td>67.0</td>\n",
       "      <td>105.0</td>\n",
       "    </tr>\n",
       "    <tr>\n",
       "      <th>Direccion_Pedido_label_encode</th>\n",
       "      <td>12922.0</td>\n",
       "      <td>63.327890</td>\n",
       "      <td>3.849195e+01</td>\n",
       "      <td>0.00</td>\n",
       "      <td>34.0</td>\n",
       "      <td>77.0</td>\n",
       "      <td>88.0</td>\n",
       "      <td>129.0</td>\n",
       "    </tr>\n",
       "    <tr>\n",
       "      <th>Estado_label</th>\n",
       "      <td>12922.0</td>\n",
       "      <td>1.841665</td>\n",
       "      <td>4.855347e-01</td>\n",
       "      <td>0.00</td>\n",
       "      <td>2.0</td>\n",
       "      <td>2.0</td>\n",
       "      <td>2.0</td>\n",
       "      <td>3.0</td>\n",
       "    </tr>\n",
       "  </tbody>\n",
       "</table>\n",
       "</div>"
      ],
      "text/plain": [
       "                                 count           mean           std     min  \\\n",
       "Cantidad_Pedida                12922.0      25.667585  7.421414e+01    0.27   \n",
       "Precio_Unitario                12922.0   25036.689754  5.389045e+04    1.00   \n",
       "Total_IVA                      12922.0  434564.993499  1.109586e+06    1.00   \n",
       "Dias_Trasncurridos_Entrega     12860.0       0.890747  1.133503e+01 -293.00   \n",
       "Categoria_label_encode         12922.0       1.258164  8.382340e-01    0.00   \n",
       "Proveedor_label_encode         12922.0      61.375097  2.216922e+01    0.00   \n",
       "Direccion_Pedido_label_encode  12922.0      63.327890  3.849195e+01    0.00   \n",
       "Estado_label                   12922.0       1.841665  4.855347e-01    0.00   \n",
       "\n",
       "                                 25%      50%       75%         max  \n",
       "Cantidad_Pedida                  2.0      5.0      20.0      3000.0  \n",
       "Precio_Unitario                650.0  10084.0   31595.0   1464000.0  \n",
       "Total_IVA                      457.5  17642.5  225299.0  10500000.0  \n",
       "Dias_Trasncurridos_Entrega       0.0      0.0       1.0        21.0  \n",
       "Categoria_label_encode           0.0      2.0       2.0         2.0  \n",
       "Proveedor_label_encode          57.0     67.0      67.0       105.0  \n",
       "Direccion_Pedido_label_encode   34.0     77.0      88.0       129.0  \n",
       "Estado_label                     2.0      2.0       2.0         3.0  "
      ]
     },
     "execution_count": 37,
     "metadata": {},
     "output_type": "execute_result"
    }
   ],
   "source": [
    "df_encoder.describe().T"
   ]
  },
  {
   "cell_type": "code",
   "execution_count": 29,
   "id": "5aa99638",
   "metadata": {
    "scrolled": true
   },
   "outputs": [
    {
     "data": {
      "text/html": [
       "<div>\n",
       "<style scoped>\n",
       "    .dataframe tbody tr th:only-of-type {\n",
       "        vertical-align: middle;\n",
       "    }\n",
       "\n",
       "    .dataframe tbody tr th {\n",
       "        vertical-align: top;\n",
       "    }\n",
       "\n",
       "    .dataframe thead th {\n",
       "        text-align: right;\n",
       "    }\n",
       "</style>\n",
       "<table border=\"1\" class=\"dataframe\">\n",
       "  <thead>\n",
       "    <tr style=\"text-align: right;\">\n",
       "      <th></th>\n",
       "      <th>Cantidad_Pedida</th>\n",
       "      <th>Precio_Unitario</th>\n",
       "      <th>Total_IVA</th>\n",
       "      <th>Dias_Trasncurridos_Entrega</th>\n",
       "      <th>Categoria_label_encode</th>\n",
       "      <th>Proveedor_label_encode</th>\n",
       "      <th>Direccion_Pedido_label_encode</th>\n",
       "      <th>Estado_label_encode</th>\n",
       "    </tr>\n",
       "  </thead>\n",
       "  <tbody>\n",
       "    <tr>\n",
       "      <th>46</th>\n",
       "      <td>2.0</td>\n",
       "      <td>13</td>\n",
       "      <td>26</td>\n",
       "      <td>0.0</td>\n",
       "      <td>0</td>\n",
       "      <td>65</td>\n",
       "      <td>112</td>\n",
       "      <td>2</td>\n",
       "    </tr>\n",
       "    <tr>\n",
       "      <th>105</th>\n",
       "      <td>150.0</td>\n",
       "      <td>7101</td>\n",
       "      <td>1267529</td>\n",
       "      <td>1.0</td>\n",
       "      <td>0</td>\n",
       "      <td>42</td>\n",
       "      <td>78</td>\n",
       "      <td>2</td>\n",
       "    </tr>\n",
       "    <tr>\n",
       "      <th>106</th>\n",
       "      <td>150.0</td>\n",
       "      <td>22</td>\n",
       "      <td>3300000</td>\n",
       "      <td>2.0</td>\n",
       "      <td>0</td>\n",
       "      <td>76</td>\n",
       "      <td>78</td>\n",
       "      <td>1</td>\n",
       "    </tr>\n",
       "    <tr>\n",
       "      <th>109</th>\n",
       "      <td>6.0</td>\n",
       "      <td>21008</td>\n",
       "      <td>150</td>\n",
       "      <td>0.0</td>\n",
       "      <td>0</td>\n",
       "      <td>47</td>\n",
       "      <td>1</td>\n",
       "      <td>1</td>\n",
       "    </tr>\n",
       "    <tr>\n",
       "      <th>110</th>\n",
       "      <td>6.0</td>\n",
       "      <td>59309</td>\n",
       "      <td>423466</td>\n",
       "      <td>0.0</td>\n",
       "      <td>0</td>\n",
       "      <td>47</td>\n",
       "      <td>1</td>\n",
       "      <td>1</td>\n",
       "    </tr>\n",
       "    <tr>\n",
       "      <th>...</th>\n",
       "      <td>...</td>\n",
       "      <td>...</td>\n",
       "      <td>...</td>\n",
       "      <td>...</td>\n",
       "      <td>...</td>\n",
       "      <td>...</td>\n",
       "      <td>...</td>\n",
       "      <td>...</td>\n",
       "    </tr>\n",
       "    <tr>\n",
       "      <th>23076</th>\n",
       "      <td>3.0</td>\n",
       "      <td>84</td>\n",
       "      <td>300</td>\n",
       "      <td>NaN</td>\n",
       "      <td>2</td>\n",
       "      <td>38</td>\n",
       "      <td>114</td>\n",
       "      <td>2</td>\n",
       "    </tr>\n",
       "    <tr>\n",
       "      <th>23077</th>\n",
       "      <td>1.0</td>\n",
       "      <td>84</td>\n",
       "      <td>100</td>\n",
       "      <td>NaN</td>\n",
       "      <td>2</td>\n",
       "      <td>38</td>\n",
       "      <td>114</td>\n",
       "      <td>2</td>\n",
       "    </tr>\n",
       "    <tr>\n",
       "      <th>23078</th>\n",
       "      <td>8.0</td>\n",
       "      <td>33613</td>\n",
       "      <td>320</td>\n",
       "      <td>NaN</td>\n",
       "      <td>1</td>\n",
       "      <td>38</td>\n",
       "      <td>114</td>\n",
       "      <td>2</td>\n",
       "    </tr>\n",
       "    <tr>\n",
       "      <th>23079</th>\n",
       "      <td>1.0</td>\n",
       "      <td>588</td>\n",
       "      <td>700</td>\n",
       "      <td>NaN</td>\n",
       "      <td>1</td>\n",
       "      <td>38</td>\n",
       "      <td>114</td>\n",
       "      <td>2</td>\n",
       "    </tr>\n",
       "    <tr>\n",
       "      <th>23082</th>\n",
       "      <td>5.0</td>\n",
       "      <td>33613</td>\n",
       "      <td>200</td>\n",
       "      <td>NaN</td>\n",
       "      <td>1</td>\n",
       "      <td>38</td>\n",
       "      <td>114</td>\n",
       "      <td>2</td>\n",
       "    </tr>\n",
       "  </tbody>\n",
       "</table>\n",
       "<p>12922 rows × 8 columns</p>\n",
       "</div>"
      ],
      "text/plain": [
       "       Cantidad_Pedida  Precio_Unitario  Total_IVA  \\\n",
       "46                 2.0               13         26   \n",
       "105              150.0             7101    1267529   \n",
       "106              150.0               22    3300000   \n",
       "109                6.0            21008        150   \n",
       "110                6.0            59309     423466   \n",
       "...                ...              ...        ...   \n",
       "23076              3.0               84        300   \n",
       "23077              1.0               84        100   \n",
       "23078              8.0            33613        320   \n",
       "23079              1.0              588        700   \n",
       "23082              5.0            33613        200   \n",
       "\n",
       "       Dias_Trasncurridos_Entrega  Categoria_label_encode  \\\n",
       "46                            0.0                       0   \n",
       "105                           1.0                       0   \n",
       "106                           2.0                       0   \n",
       "109                           0.0                       0   \n",
       "110                           0.0                       0   \n",
       "...                           ...                     ...   \n",
       "23076                         NaN                       2   \n",
       "23077                         NaN                       2   \n",
       "23078                         NaN                       1   \n",
       "23079                         NaN                       1   \n",
       "23082                         NaN                       1   \n",
       "\n",
       "       Proveedor_label_encode  Direccion_Pedido_label_encode  \\\n",
       "46                         65                            112   \n",
       "105                        42                             78   \n",
       "106                        76                             78   \n",
       "109                        47                              1   \n",
       "110                        47                              1   \n",
       "...                       ...                            ...   \n",
       "23076                      38                            114   \n",
       "23077                      38                            114   \n",
       "23078                      38                            114   \n",
       "23079                      38                            114   \n",
       "23082                      38                            114   \n",
       "\n",
       "       Estado_label_encode  \n",
       "46                       2  \n",
       "105                      2  \n",
       "106                      1  \n",
       "109                      1  \n",
       "110                      1  \n",
       "...                    ...  \n",
       "23076                    2  \n",
       "23077                    2  \n",
       "23078                    2  \n",
       "23079                    2  \n",
       "23082                    2  \n",
       "\n",
       "[12922 rows x 8 columns]"
      ]
     },
     "execution_count": 29,
     "metadata": {},
     "output_type": "execute_result"
    }
   ],
   "source": [
    "df_encoder"
   ]
  },
  {
   "cell_type": "code",
   "execution_count": 38,
   "id": "77848ecd",
   "metadata": {},
   "outputs": [],
   "source": [
    "#features to X\n",
    "df_features = df_encoder.loc[:, df_encoder.columns != 'Estado_label']\n",
    "X = np.asarray(df_features)\n",
    "X = np.nan_to_num(X)"
   ]
  },
  {
   "cell_type": "code",
   "execution_count": null,
   "id": "cb7d7590",
   "metadata": {},
   "outputs": [],
   "source": [
    "# normalizar con min max scaler\n",
    "#scaler = MinMaxScaler()\n",
    "#X = scaler.fit_transform(X)"
   ]
  },
  {
   "cell_type": "code",
   "execution_count": 39,
   "id": "6c45c41e",
   "metadata": {},
   "outputs": [
    {
     "data": {
      "text/plain": [
       "(12922, 7)"
      ]
     },
     "execution_count": 39,
     "metadata": {},
     "output_type": "execute_result"
    }
   ],
   "source": [
    "X.shape"
   ]
  },
  {
   "cell_type": "code",
   "execution_count": 40,
   "id": "655378f5",
   "metadata": {},
   "outputs": [
    {
     "data": {
      "text/plain": [
       "array([2, 2, 1, 1, 1])"
      ]
     },
     "execution_count": 40,
     "metadata": {},
     "output_type": "execute_result"
    }
   ],
   "source": [
    "#labels (target) to y\n",
    "y = np.asarray(df_encoder['Estado_label'])\n",
    "y [0:5]"
   ]
  },
  {
   "cell_type": "code",
   "execution_count": 41,
   "id": "e07efbb6",
   "metadata": {},
   "outputs": [
    {
     "name": "stdout",
     "output_type": "stream",
     "text": [
      "Counter({2: 11460, 1: 800, 0: 636, 3: 26})\n"
     ]
    }
   ],
   "source": [
    "# summarize class distribution\n",
    "counter = Counter(y)\n",
    "print(counter)"
   ]
  },
  {
   "cell_type": "code",
   "execution_count": 42,
   "id": "8583bf92",
   "metadata": {},
   "outputs": [
    {
     "name": "stdout",
     "output_type": "stream",
     "text": [
      "Train set: (9303, 7) (9303,)\n",
      "Test set: (2585, 7) (2585,)\n",
      "Valid set: (1034, 7) (1034,)\n"
     ]
    }
   ],
   "source": [
    "# separamo del 80% del train el 10% para validacion  quedando train 70%- test 20% - valid 10%\n",
    "X_train, X_test, y_train, y_test = train_test_split(X, y, test_size=0.2, random_state=2,stratify=df_encoder[\"Estado_label\"])\n",
    "X_train, X_val, y_train, y_val = train_test_split(X_train, y_train, test_size=0.1, random_state=2)\n",
    "print ('Train set:', X_train.shape,  y_train.shape)\n",
    "print ('Test set:', X_test.shape,  y_test.shape)\n",
    "print ('Valid set:', X_val.shape,  y_val.shape)"
   ]
  },
  {
   "cell_type": "code",
   "execution_count": 43,
   "id": "81787d70",
   "metadata": {},
   "outputs": [
    {
     "name": "stdout",
     "output_type": "stream",
     "text": [
      "9303 Counter({2: 8263, 1: 567, 0: 455, 3: 18})\n"
     ]
    }
   ],
   "source": [
    "print(len(X_train),Counter(y_train))"
   ]
  },
  {
   "cell_type": "code",
   "execution_count": 453,
   "id": "d6147af1",
   "metadata": {},
   "outputs": [
    {
     "name": "stdout",
     "output_type": "stream",
     "text": [
      "Counter({0: 3361, 1: 111})\n"
     ]
    }
   ],
   "source": [
    "print(Counter(y_test))"
   ]
  },
  {
   "cell_type": "code",
   "execution_count": 44,
   "id": "62d5af6e",
   "metadata": {},
   "outputs": [],
   "source": [
    "# transform the dataset  SMOTE\n",
    "oversample = SMOTE()\n",
    "X_train, y_train = oversample.fit_resample(X_train, y_train)"
   ]
  },
  {
   "cell_type": "code",
   "execution_count": 45,
   "id": "9f111aa2",
   "metadata": {},
   "outputs": [
    {
     "name": "stdout",
     "output_type": "stream",
     "text": [
      "Counter({2: 8263, 1: 8263, 0: 8263, 3: 8263})\n"
     ]
    }
   ],
   "source": [
    "counter = Counter(y_train)\n",
    "print(counter)"
   ]
  },
  {
   "cell_type": "code",
   "execution_count": 46,
   "id": "ecf3375e",
   "metadata": {},
   "outputs": [],
   "source": [
    "#develop matrix\n",
    "def plot_confusion_matrix(cm, classes,\n",
    "                          normalize=False,\n",
    "                          title='Confusion matrix',\n",
    "                          cmap=plt.cm.Blues):\n",
    "    \"\"\"\n",
    "    This function prints and plots the confusion matrix.\n",
    "    Normalization can be applied by setting `normalize=True`.\n",
    "    \"\"\"\n",
    "    if normalize:\n",
    "        cm = cm.astype('float') / cm.sum(axis=1)[:, np.newaxis]\n",
    "        print(\"Normalized confusion matrix\")\n",
    "    else:\n",
    "        print('Confusion matrix, without normalization')\n",
    "\n",
    "    print(cm)\n",
    "\n",
    "    plt.imshow(cm, interpolation='nearest', cmap=cmap)\n",
    "    plt.title(title)\n",
    "    plt.colorbar()\n",
    "    tick_marks = np.arange(len(classes))\n",
    "    plt.xticks(tick_marks, classes, rotation=45)\n",
    "    plt.yticks(tick_marks, classes)\n",
    "\n",
    "    fmt = '.2f' if normalize else 'd'\n",
    "    thresh = cm.max() / 2.\n",
    "    for i, j in itertools.product(range(cm.shape[0]), range(cm.shape[1])):\n",
    "        plt.text(j, i, format(cm[i, j], fmt),\n",
    "                 horizontalalignment=\"center\",\n",
    "                 color=\"white\" if cm[i, j] > thresh else \"black\")\n",
    "\n",
    "    plt.tight_layout()\n",
    "    plt.ylabel('True label')\n",
    "    plt.xlabel('Predicted label')"
   ]
  },
  {
   "cell_type": "markdown",
   "id": "815070f1",
   "metadata": {},
   "source": [
    "### DecisionTree"
   ]
  },
  {
   "cell_type": "code",
   "execution_count": 160,
   "id": "0e85df05",
   "metadata": {},
   "outputs": [
    {
     "data": {
      "text/plain": [
       "DecisionTreeClassifier(criterion='entropy', max_depth=4)"
      ]
     },
     "execution_count": 160,
     "metadata": {},
     "output_type": "execute_result"
    }
   ],
   "source": [
    "#drugTree = DecisionTreeClassifier(criterion=\"entropy\", max_depth = 4, class_weight=\"balanced\")\n",
    "drugTree = DecisionTreeClassifier(criterion=\"entropy\", max_depth = 4)\n",
    "drugTree.fit(X_train,y_train)"
   ]
  },
  {
   "cell_type": "code",
   "execution_count": 161,
   "id": "37308d95",
   "metadata": {},
   "outputs": [
    {
     "name": "stdout",
     "output_type": "stream",
     "text": [
      "DecisionTrees's Accuracy:  0.6359767891682785\n"
     ]
    }
   ],
   "source": [
    "drugTree.fit(X_train,y_train)\n",
    "predTree = drugTree.predict(X_test)\n",
    "print(\"DecisionTrees's Accuracy: \", metrics.accuracy_score(y_test, predTree))"
   ]
  },
  {
   "cell_type": "code",
   "execution_count": 164,
   "id": "340c48af",
   "metadata": {},
   "outputs": [],
   "source": [
    "predTree_proba = drugTree.predict_proba(X_test)"
   ]
  },
  {
   "cell_type": "code",
   "execution_count": 173,
   "id": "b3bd46e5",
   "metadata": {},
   "outputs": [
    {
     "data": {
      "text/plain": [
       "array([0., 0., 1., 0.])"
      ]
     },
     "execution_count": 173,
     "metadata": {},
     "output_type": "execute_result"
    }
   ],
   "source": [
    "predTree_proba[326]"
   ]
  },
  {
   "cell_type": "code",
   "execution_count": 174,
   "id": "af01072e",
   "metadata": {},
   "outputs": [
    {
     "data": {
      "text/plain": [
       "2"
      ]
     },
     "execution_count": 174,
     "metadata": {},
     "output_type": "execute_result"
    }
   ],
   "source": [
    "y_train[326]"
   ]
  },
  {
   "cell_type": "code",
   "execution_count": 85,
   "id": "a536c32f",
   "metadata": {},
   "outputs": [
    {
     "name": "stdout",
     "output_type": "stream",
     "text": [
      "              precision    recall  f1-score   support\n",
      "\n",
      "           0       0.16      0.46      0.24       127\n",
      "           1       0.23      0.50      0.32       160\n",
      "           2       0.96      0.78      0.86      2293\n",
      "           3       0.27      0.80      0.40         5\n",
      "\n",
      "    accuracy                           0.74      2585\n",
      "   macro avg       0.40      0.63      0.45      2585\n",
      "weighted avg       0.87      0.74      0.79      2585\n",
      "\n",
      "Confusion matrix, without normalization\n",
      "[[  58   30   37    2]\n",
      " [  33   80   45    2]\n",
      " [ 271  236 1779    7]\n",
      " [   0    0    1    4]]\n"
     ]
    },
    {
     "data": {
      "image/png": "[encoded data removed]",
      "text/plain": [
       "<Figure size 432x288 with 2 Axes>"
      ]
     },
     "metadata": {
      "needs_background": "light"
     },
     "output_type": "display_data"
    }
   ],
   "source": [
    "#DT\n",
    "\n",
    "# Compute confusion matrix\n",
    "cnf_matrix = confusion_matrix(y_test, predTree, labels = [0,1,2,3])\n",
    "np.set_printoptions(precision=2)\n",
    "print (classification_report(y_test, predTree))\n",
    "\n",
    "# Plot non-normalized confusion matrix\n",
    "plt.figure()\n",
    "plot_confusion_matrix(cnf_matrix, classes = [0,1,2,3], normalize= False,  title='Confusion matrix')\n",
    "plt.show()"
   ]
  },
  {
   "cell_type": "code",
   "execution_count": null,
   "id": "031799a8",
   "metadata": {},
   "outputs": [],
   "source": [
    "drugTree.predict_proba[0]"
   ]
  },
  {
   "cell_type": "markdown",
   "id": "93b7b61f",
   "metadata": {},
   "source": [
    "### SVM"
   ]
  },
  {
   "cell_type": "code",
   "execution_count": 59,
   "id": "0fe3f1f6",
   "metadata": {},
   "outputs": [
    {
     "data": {
      "text/plain": [
       "SVC(C=3, probability=True)"
      ]
     },
     "execution_count": 59,
     "metadata": {},
     "output_type": "execute_result"
    }
   ],
   "source": [
    "#clf = svm.SVC(kernel='rbf', C=3, probability=True, class_weight=\"balanced\")\n",
    "clf = svm.SVC(kernel='rbf', C=3, probability=True)\n",
    "clf.fit(X_train, y_train)"
   ]
  },
  {
   "cell_type": "code",
   "execution_count": 83,
   "id": "2271f867",
   "metadata": {},
   "outputs": [],
   "source": [
    "yhat_SVM = clf.predict(X_test)\n",
    "pscores_svm = clf.predict_proba(X_test)"
   ]
  },
  {
   "cell_type": "code",
   "execution_count": 84,
   "id": "31c9f406",
   "metadata": {},
   "outputs": [
    {
     "name": "stdout",
     "output_type": "stream",
     "text": [
      "              precision    recall  f1-score   support\n",
      "\n",
      "           0       0.06      0.07      0.06       127\n",
      "           1       0.09      0.20      0.12       160\n",
      "           2       0.96      0.42      0.58      2293\n",
      "           3       0.00      1.00      0.01         5\n",
      "\n",
      "    accuracy                           0.39      2585\n",
      "   macro avg       0.28      0.42      0.19      2585\n",
      "weighted avg       0.86      0.39      0.53      2585\n",
      "\n",
      "Confusion matrix, without normalization\n",
      "[[  9  32  25  61]\n",
      " [ 16  32  13  99]\n",
      " [134 307 955 897]\n",
      " [  0   0   0   5]]\n"
     ]
    },
    {
     "data": {
      "image/png": "[encoded data removed]",
      "text/plain": [
       "<Figure size 432x288 with 2 Axes>"
      ]
     },
     "metadata": {
      "needs_background": "light"
     },
     "output_type": "display_data"
    }
   ],
   "source": [
    "#SVM\n",
    "\n",
    "# Compute confusion matrix\n",
    "cnf_matrix = confusion_matrix(y_test, yhat_SVM, labels = [0,1,2,3])\n",
    "np.set_printoptions(precision=2)\n",
    "print (classification_report(y_test, yhat_SVM))\n",
    "\n",
    "# Plot non-normalized confusion matrix\n",
    "plt.figure()\n",
    "plot_confusion_matrix(cnf_matrix, classes = [0,1,2,3], normalize= False,  title='Confusion matrix')\n",
    "plt.show()"
   ]
  },
  {
   "cell_type": "code",
   "execution_count": null,
   "id": "46a7e9a5",
   "metadata": {},
   "outputs": [],
   "source": []
  },
  {
   "cell_type": "markdown",
   "id": "31f1499a",
   "metadata": {},
   "source": [
    "### Logistic Regresion"
   ]
  },
  {
   "cell_type": "code",
   "execution_count": 60,
   "id": "03f355b2",
   "metadata": {},
   "outputs": [],
   "source": [
    "LR = LogisticRegression(C=0.05, solver='liblinear').fit(X_train,y_train)"
   ]
  },
  {
   "cell_type": "code",
   "execution_count": 61,
   "id": "e921096d",
   "metadata": {},
   "outputs": [],
   "source": [
    "yhat_LR = LR.predict(X_test)\n",
    "pscores_LR = LR.predict_proba(X_test)"
   ]
  },
  {
   "cell_type": "code",
   "execution_count": 62,
   "id": "7896794d",
   "metadata": {},
   "outputs": [
    {
     "data": {
      "text/plain": [
       "0.5934574321344688"
      ]
     },
     "execution_count": 62,
     "metadata": {},
     "output_type": "execute_result"
    }
   ],
   "source": [
    "f1_score(y_test, yhat_LR, average='weighted')"
   ]
  },
  {
   "cell_type": "code",
   "execution_count": 68,
   "id": "0b33bef9",
   "metadata": {},
   "outputs": [
    {
     "data": {
      "text/plain": [
       "0.4355474229780761"
      ]
     },
     "execution_count": 68,
     "metadata": {},
     "output_type": "execute_result"
    }
   ],
   "source": [
    "jaccard_score(y_test, yhat_LR, average='weighted')"
   ]
  },
  {
   "cell_type": "code",
   "execution_count": 86,
   "id": "8b1f15ba",
   "metadata": {},
   "outputs": [
    {
     "name": "stderr",
     "output_type": "stream",
     "text": [
      "C:\\Users\\d84088661\\Anaconda3\\lib\\site-packages\\sklearn\\metrics\\_classification.py:1248: UndefinedMetricWarning: Precision and F-score are ill-defined and being set to 0.0 in labels with no predicted samples. Use `zero_division` parameter to control this behavior.\n",
      "  _warn_prf(average, modifier, msg_start, len(result))\n",
      "C:\\Users\\d84088661\\Anaconda3\\lib\\site-packages\\sklearn\\metrics\\_classification.py:1248: UndefinedMetricWarning: Precision and F-score are ill-defined and being set to 0.0 in labels with no predicted samples. Use `zero_division` parameter to control this behavior.\n",
      "  _warn_prf(average, modifier, msg_start, len(result))\n",
      "C:\\Users\\d84088661\\Anaconda3\\lib\\site-packages\\sklearn\\metrics\\_classification.py:1248: UndefinedMetricWarning: Precision and F-score are ill-defined and being set to 0.0 in labels with no predicted samples. Use `zero_division` parameter to control this behavior.\n",
      "  _warn_prf(average, modifier, msg_start, len(result))\n"
     ]
    },
    {
     "name": "stdout",
     "output_type": "stream",
     "text": [
      "              precision    recall  f1-score   support\n",
      "\n",
      "           0       0.09      0.46      0.15       127\n",
      "           1       0.10      0.49      0.17       160\n",
      "           2       0.95      0.49      0.65      2293\n",
      "           3       0.00      0.00      0.00         5\n",
      "\n",
      "    accuracy                           0.49      2585\n",
      "   macro avg       0.29      0.36      0.24      2585\n",
      "weighted avg       0.85      0.49      0.59      2585\n",
      "\n",
      "Confusion matrix, without normalization\n",
      "[[  59   39   29    0]\n",
      " [  51   79   30    0]\n",
      " [ 525  639 1129    0]\n",
      " [   3    1    1    0]]\n"
     ]
    },
    {
     "data": {
      "image/png": "[encoded data removed]",
      "text/plain": [
       "<Figure size 432x288 with 2 Axes>"
      ]
     },
     "metadata": {
      "needs_background": "light"
     },
     "output_type": "display_data"
    }
   ],
   "source": [
    "#SVM\n",
    "\n",
    "# Compute confusion matrix\n",
    "cnf_matrix = confusion_matrix(y_test, yhat_LR, labels = [0,1,2,3])\n",
    "np.set_printoptions(precision=2)\n",
    "print (classification_report(y_test, yhat_LR))\n",
    "\n",
    "# Plot non-normalized confusion matrix\n",
    "plt.figure()\n",
    "plot_confusion_matrix(cnf_matrix, classes = [0,1,2,3], normalize= False,  title='Confusion matrix')\n",
    "plt.show()"
   ]
  },
  {
   "cell_type": "markdown",
   "id": "a6a4eaff",
   "metadata": {},
   "source": [
    "### KNN "
   ]
  },
  {
   "cell_type": "code",
   "execution_count": 69,
   "id": "c481ce59",
   "metadata": {},
   "outputs": [
    {
     "data": {
      "text/plain": [
       "array([0.79, 0.72, 0.75, 0.7 , 0.7 , 0.67, 0.67, 0.65, 0.65])"
      ]
     },
     "execution_count": 69,
     "metadata": {},
     "output_type": "execute_result"
    }
   ],
   "source": [
    "from sklearn.neighbors import KNeighborsClassifier\n",
    "from sklearn import metrics\n",
    "\n",
    "Ks = 10\n",
    "mean_acc = np.zeros((Ks-1))\n",
    "std_acc = np.zeros((Ks-1))\n",
    "ConfustionMx = [];\n",
    "for n in range(1,Ks): \n",
    "    #Train Model and Predict  \n",
    "    neigh = KNeighborsClassifier(n_neighbors = n).fit(X_train,y_train)\n",
    "    yhat=neigh.predict(X_test)\n",
    "    mean_acc[n-1] = metrics.accuracy_score(y_test, yhat)\n",
    "    std_acc[n-1]=np.std(yhat==y_test)/np.sqrt(yhat.shape[0])\n",
    "mean_acc"
   ]
  },
  {
   "cell_type": "code",
   "execution_count": 70,
   "id": "7334f08e",
   "metadata": {},
   "outputs": [
    {
     "data": {
      "image/png": "[encoded data removed]",
      "text/plain": [
       "<Figure size 432x288 with 1 Axes>"
      ]
     },
     "metadata": {
      "needs_background": "light"
     },
     "output_type": "display_data"
    }
   ],
   "source": [
    "plt.plot(range(1,Ks),mean_acc,'g')\n",
    "plt.fill_between(range(1,Ks),mean_acc - 1 * std_acc,mean_acc + 1 * std_acc, alpha=0.10)\n",
    "plt.legend(('Accuracy ', '+/- 3xstd'))\n",
    "plt.ylabel('Accuracy ')\n",
    "plt.xlabel('Number of Nabors (K)')\n",
    "plt.tight_layout()\n",
    "plt.show()"
   ]
  },
  {
   "cell_type": "code",
   "execution_count": 72,
   "id": "ac5afe49",
   "metadata": {},
   "outputs": [
    {
     "name": "stdout",
     "output_type": "stream",
     "text": [
      "The best accuracy was with 0.7941972920696325 with k= 1\n"
     ]
    }
   ],
   "source": [
    "print( \"The best accuracy was with\", mean_acc.max(), \"with k=\", mean_acc.argmax()+1)"
   ]
  },
  {
   "cell_type": "code",
   "execution_count": 73,
   "id": "5fe2ce97",
   "metadata": {},
   "outputs": [
    {
     "data": {
      "text/plain": [
       "KNeighborsClassifier(n_neighbors=3)"
      ]
     },
     "execution_count": 73,
     "metadata": {},
     "output_type": "execute_result"
    }
   ],
   "source": [
    "k = 3\n",
    "#Train Model and Predict  \n",
    "neighKNN = KNeighborsClassifier(n_neighbors = k).fit(X_train,y_train)\n",
    "neighKNN"
   ]
  },
  {
   "cell_type": "code",
   "execution_count": 77,
   "id": "d59da6cf",
   "metadata": {},
   "outputs": [],
   "source": [
    "yhat_KNN = neighKNN.predict(X_test)\n",
    "#Jaccard\n",
    "jaccard_KNN=jaccard_score(y_test, yhat_KNN,average='weighted')\n",
    "#F1-score\n",
    "f1_KNN=f1_score(y_test, yhat_KNN, average='weighted')"
   ]
  },
  {
   "cell_type": "code",
   "execution_count": 78,
   "id": "73c2061b",
   "metadata": {},
   "outputs": [
    {
     "name": "stdout",
     "output_type": "stream",
     "text": [
      "0.6871130791017973\n",
      "0.7906746341114099\n"
     ]
    }
   ],
   "source": [
    "print(jaccard_KNN)\n",
    "print(f1_KNN)"
   ]
  },
  {
   "cell_type": "code",
   "execution_count": 87,
   "id": "70bed499",
   "metadata": {},
   "outputs": [
    {
     "name": "stdout",
     "output_type": "stream",
     "text": [
      "              precision    recall  f1-score   support\n",
      "\n",
      "           0       0.14      0.30      0.19       127\n",
      "           1       0.21      0.35      0.26       160\n",
      "           2       0.94      0.80      0.86      2293\n",
      "           3       0.02      0.40      0.04         5\n",
      "\n",
      "    accuracy                           0.75      2585\n",
      "   macro avg       0.33      0.46      0.34      2585\n",
      "weighted avg       0.85      0.75      0.79      2585\n",
      "\n",
      "Confusion matrix, without normalization\n",
      "[[  38   25   59    5]\n",
      " [  31   56   63   10]\n",
      " [ 199  189 1832   73]\n",
      " [   0    2    1    2]]\n"
     ]
    },
    {
     "data": {
      "image/png": "[encoded data removed]",
      "text/plain": [
       "<Figure size 432x288 with 2 Axes>"
      ]
     },
     "metadata": {
      "needs_background": "light"
     },
     "output_type": "display_data"
    }
   ],
   "source": [
    "#KNN\n",
    "\n",
    "# Compute confusion matrix\n",
    "cnf_matrix = confusion_matrix(y_test, yhat_KNN, labels = [0,1,2,3])\n",
    "np.set_printoptions(precision=2)\n",
    "print (classification_report(y_test, yhat_KNN))\n",
    "\n",
    "# Plot non-normalized confusion matrix\n",
    "plt.figure()\n",
    "plot_confusion_matrix(cnf_matrix, classes = [0,1,2,3], normalize= False,  title='Confusion matrix')\n",
    "plt.show()"
   ]
  },
  {
   "cell_type": "markdown",
   "id": "0f8a6a21",
   "metadata": {},
   "source": [
    "### Arbol de decision "
   ]
  },
  {
   "cell_type": "code",
   "execution_count": 82,
   "id": "4087b04e",
   "metadata": {
    "scrolled": true
   },
   "outputs": [
    {
     "ename": "NameError",
     "evalue": "name 'tree' is not defined",
     "output_type": "error",
     "traceback": [
      "\u001b[1;31m---------------------------------------------------------------------------\u001b[0m",
      "\u001b[1;31mNameError\u001b[0m                                 Traceback (most recent call last)",
      "\u001b[1;32m<ipython-input-82-36d02fd2d1ee>\u001b[0m in \u001b[0;36m<module>\u001b[1;34m\u001b[0m\n\u001b[0;32m      1\u001b[0m \u001b[0mfeature_names\u001b[0m \u001b[1;33m=\u001b[0m \u001b[1;33m[\u001b[0m\u001b[1;34m'Cantidad_Pedida'\u001b[0m\u001b[1;33m,\u001b[0m\u001b[1;34m'Precio_Unitario'\u001b[0m\u001b[1;33m,\u001b[0m\u001b[1;34m'Total_IVA'\u001b[0m\u001b[1;33m,\u001b[0m\u001b[1;34m'Dias_Transcurridos_Entrega'\u001b[0m\u001b[1;33m,\u001b[0m\u001b[1;34m'Categoria_label_encode'\u001b[0m\u001b[1;33m,\u001b[0m\u001b[1;34m'Proveedor_label_encode'\u001b[0m\u001b[1;33m,\u001b[0m \u001b[1;34m'Direccion_Pedido_label_encode'\u001b[0m\u001b[1;33m]\u001b[0m\u001b[1;33m\u001b[0m\u001b[1;33m\u001b[0m\u001b[0m\n\u001b[0;32m      2\u001b[0m \u001b[0mclass_names\u001b[0m \u001b[1;33m=\u001b[0m \u001b[1;33m[\u001b[0m\u001b[1;34m'0'\u001b[0m\u001b[1;33m,\u001b[0m\u001b[1;34m'1'\u001b[0m\u001b[1;33m,\u001b[0m\u001b[1;34m'2'\u001b[0m\u001b[1;33m,\u001b[0m\u001b[1;34m'3'\u001b[0m\u001b[1;33m]\u001b[0m\u001b[1;33m\u001b[0m\u001b[1;33m\u001b[0m\u001b[0m\n\u001b[1;32m----> 3\u001b[1;33m \u001b[0mdot_data\u001b[0m \u001b[1;33m=\u001b[0m \u001b[0mtree\u001b[0m\u001b[1;33m.\u001b[0m\u001b[0mexport_graphviz\u001b[0m\u001b[1;33m(\u001b[0m\u001b[0mdrugTree\u001b[0m\u001b[1;33m,\u001b[0m \u001b[0mout_file\u001b[0m\u001b[1;33m=\u001b[0m\u001b[1;32mNone\u001b[0m\u001b[1;33m,\u001b[0m \u001b[0mfilled\u001b[0m\u001b[1;33m=\u001b[0m\u001b[1;32mTrue\u001b[0m\u001b[1;33m,\u001b[0m \u001b[0mrounded\u001b[0m \u001b[1;33m=\u001b[0m \u001b[1;32mTrue\u001b[0m\u001b[1;33m,\u001b[0m \u001b[0mfeature_names\u001b[0m\u001b[1;33m=\u001b[0m\u001b[0mfeature_names\u001b[0m\u001b[1;33m,\u001b[0m \u001b[0mclass_names\u001b[0m\u001b[1;33m=\u001b[0m\u001b[0mclass_names\u001b[0m\u001b[1;33m)\u001b[0m\u001b[1;33m\u001b[0m\u001b[1;33m\u001b[0m\u001b[0m\n\u001b[0m\u001b[0;32m      4\u001b[0m \u001b[0mgraph\u001b[0m \u001b[1;33m=\u001b[0m \u001b[0mgraph_from_dot_data\u001b[0m\u001b[1;33m(\u001b[0m\u001b[0mdot_data\u001b[0m\u001b[1;33m)\u001b[0m\u001b[1;33m\u001b[0m\u001b[1;33m\u001b[0m\u001b[0m\n\u001b[0;32m      5\u001b[0m \u001b[0mgraph\u001b[0m\u001b[1;33m.\u001b[0m\u001b[0mwrite_png\u001b[0m\u001b[1;33m(\u001b[0m\u001b[1;34m'tree.png'\u001b[0m\u001b[1;33m)\u001b[0m\u001b[1;33m\u001b[0m\u001b[1;33m\u001b[0m\u001b[0m\n",
      "\u001b[1;31mNameError\u001b[0m: name 'tree' is not defined"
     ]
    }
   ],
   "source": [
    "feature_names = ['Cantidad_Pedida','Precio_Unitario','Total_IVA','Dias_Transcurridos_Entrega','Categoria_label_encode','Proveedor_label_encode', 'Direccion_Pedido_label_encode']\n",
    "class_names = ['0','1','2','3']\n",
    "dot_data = tree.export_graphviz(drugTree, out_file=None, filled=True, rounded = True, feature_names=feature_names, class_names=class_names)\n",
    "graph = graph_from_dot_data(dot_data)\n",
    "graph.write_png('tree.png')"
   ]
  },
  {
   "cell_type": "markdown",
   "id": "d0c6f627",
   "metadata": {},
   "source": [
    "### lightgbm"
   ]
  },
  {
   "cell_type": "code",
   "execution_count": 88,
   "id": "c60d3fa9",
   "metadata": {},
   "outputs": [
    {
     "name": "stdout",
     "output_type": "stream",
     "text": [
      "Train set: (9303, 7) (9303,)\n",
      "Test set: (2585, 7) (2585,)\n",
      "Valid set: (1034, 7) (1034,)\n"
     ]
    }
   ],
   "source": [
    "X_train, X_test, y_train, y_test = train_test_split(X, y, test_size=0.2, random_state=2,stratify=df_encoder[\"Estado_label\"])\n",
    "X_train, X_val, y_train, y_val = train_test_split(X_train, y_train, test_size=0.1, random_state=2)\n",
    "print ('Train set:', X_train.shape,  y_train.shape)\n",
    "print ('Test set:', X_test.shape,  y_test.shape)\n",
    "print ('Valid set:', X_val.shape,  y_val.shape)"
   ]
  },
  {
   "cell_type": "code",
   "execution_count": 89,
   "id": "a67a3b49",
   "metadata": {},
   "outputs": [],
   "source": [
    "# transform the dataset  SMOTE\n",
    "oversample = SMOTE()\n",
    "X_train, y_train = oversample.fit_resample(X_train, y_train)"
   ]
  },
  {
   "cell_type": "code",
   "execution_count": 90,
   "id": "2c6561bf",
   "metadata": {},
   "outputs": [],
   "source": [
    "train_data = lgb.Dataset(X_train, label=y_train)\n",
    "valid_data = lgb.Dataset(X_test, label=y_test, reference=train_data)"
   ]
  },
  {
   "cell_type": "code",
   "execution_count": 91,
   "id": "e66d870d",
   "metadata": {},
   "outputs": [
    {
     "name": "stdout",
     "output_type": "stream",
     "text": [
      "Counter({2: 8263, 1: 8263, 0: 8263, 3: 8263})\n"
     ]
    }
   ],
   "source": [
    "print(Counter(y_train))"
   ]
  },
  {
   "cell_type": "code",
   "execution_count": 92,
   "id": "9633920e",
   "metadata": {},
   "outputs": [],
   "source": [
    "## parametros para el modelo lightGBM search \n",
    "SEARCH_PARAMS = {'learning_rate': 0.4,\n",
    "                'max_depth': 15,\n",
    "                'num_leaves': 32,\n",
    "                'feature_fraction': 0.8,\n",
    "                'subsample': 0.2}\n",
    "\n",
    "FIXED_PARAMS={'objective': 'multiclass',\n",
    "              'num_class':4,\n",
    "              'metric': 'multi_logloss',\n",
    "             'is_unbalance':False,\n",
    "             'bagging_freq':5,\n",
    "             'boosting':'dart',\n",
    "             'num_boost_round':300,\n",
    "             'early_stopping_rounds':30}\n"
   ]
  },
  {
   "cell_type": "code",
   "execution_count": 93,
   "id": "1deed135",
   "metadata": {},
   "outputs": [],
   "source": [
    "params = {'metric':FIXED_PARAMS['metric'],\n",
    "             'objective':FIXED_PARAMS['objective'],'num_class':FIXED_PARAMS['num_class'],**SEARCH_PARAMS}"
   ]
  },
  {
   "cell_type": "code",
   "execution_count": 94,
   "id": "92b002ca",
   "metadata": {},
   "outputs": [
    {
     "name": "stderr",
     "output_type": "stream",
     "text": [
      "C:\\Users\\d84088661\\Anaconda3\\lib\\site-packages\\lightgbm\\engine.py:181: UserWarning: 'early_stopping_rounds' argument is deprecated and will be removed in a future release of LightGBM. Pass 'early_stopping()' callback via 'callbacks' argument instead.\n",
      "  _log_warning(\"'early_stopping_rounds' argument is deprecated and will be removed in a future release of LightGBM. \"\n"
     ]
    },
    {
     "name": "stdout",
     "output_type": "stream",
     "text": [
      "[LightGBM] [Warning] Auto-choosing row-wise multi-threading, the overhead of testing was 0.112652 seconds.\n",
      "You can set `force_row_wise=true` to remove the overhead.\n",
      "And if memory is not enough, you can set `force_col_wise=true`.\n",
      "[LightGBM] [Info] Total Bins 1784\n",
      "[LightGBM] [Info] Number of data points in the train set: 33052, number of used features: 7\n",
      "[LightGBM] [Info] Start training from score -1.386294\n",
      "[LightGBM] [Info] Start training from score -1.386294\n",
      "[LightGBM] [Info] Start training from score -1.386294\n",
      "[LightGBM] [Info] Start training from score -1.386294\n",
      "[1]\tvalid's multi_logloss: 0.797774\n",
      "Training until validation scores don't improve for 30 rounds\n",
      "[2]\tvalid's multi_logloss: 0.602903\n",
      "[3]\tvalid's multi_logloss: 0.512609\n",
      "[4]\tvalid's multi_logloss: 0.457917\n",
      "[5]\tvalid's multi_logloss: 0.417428\n",
      "[6]\tvalid's multi_logloss: 0.387965\n",
      "[7]\tvalid's multi_logloss: 0.36701\n",
      "[8]\tvalid's multi_logloss: 0.351757\n",
      "[9]\tvalid's multi_logloss: 0.341846\n",
      "[10]\tvalid's multi_logloss: 0.337235\n",
      "[11]\tvalid's multi_logloss: 0.330343\n",
      "[12]\tvalid's multi_logloss: 0.324334\n",
      "[13]\tvalid's multi_logloss: 0.321191\n",
      "[14]\tvalid's multi_logloss: 0.316554\n",
      "[15]\tvalid's multi_logloss: 0.316036\n",
      "[16]\tvalid's multi_logloss: 0.314268\n",
      "[17]\tvalid's multi_logloss: 0.311635\n",
      "[18]\tvalid's multi_logloss: 0.310116\n",
      "[19]\tvalid's multi_logloss: 0.309113\n",
      "[20]\tvalid's multi_logloss: 0.308309\n",
      "[21]\tvalid's multi_logloss: 0.307811\n",
      "[22]\tvalid's multi_logloss: 0.308132\n",
      "[23]\tvalid's multi_logloss: 0.308838\n",
      "[24]\tvalid's multi_logloss: 0.307261\n",
      "[25]\tvalid's multi_logloss: 0.306704\n",
      "[26]\tvalid's multi_logloss: 0.307458\n",
      "[27]\tvalid's multi_logloss: 0.307507\n",
      "[28]\tvalid's multi_logloss: 0.3079\n",
      "[29]\tvalid's multi_logloss: 0.308881\n",
      "[30]\tvalid's multi_logloss: 0.307922\n",
      "[31]\tvalid's multi_logloss: 0.307966\n",
      "[32]\tvalid's multi_logloss: 0.308097\n",
      "[33]\tvalid's multi_logloss: 0.308052\n",
      "[34]\tvalid's multi_logloss: 0.308216\n",
      "[35]\tvalid's multi_logloss: 0.309611\n",
      "[36]\tvalid's multi_logloss: 0.31113\n",
      "[37]\tvalid's multi_logloss: 0.312193\n",
      "[38]\tvalid's multi_logloss: 0.312762\n",
      "[39]\tvalid's multi_logloss: 0.312457\n",
      "[40]\tvalid's multi_logloss: 0.313252\n",
      "[41]\tvalid's multi_logloss: 0.314316\n",
      "[42]\tvalid's multi_logloss: 0.315645\n",
      "[LightGBM] [Warning] No further splits with positive gain, best gain: -inf\n",
      "[43]\tvalid's multi_logloss: 0.316043\n",
      "[LightGBM] [Warning] No further splits with positive gain, best gain: -inf\n",
      "[44]\tvalid's multi_logloss: 0.315727\n",
      "[LightGBM] [Warning] No further splits with positive gain, best gain: -inf\n",
      "[45]\tvalid's multi_logloss: 0.315591\n",
      "[LightGBM] [Warning] No further splits with positive gain, best gain: -inf\n",
      "[46]\tvalid's multi_logloss: 0.315484\n",
      "[LightGBM] [Warning] No further splits with positive gain, best gain: -inf\n",
      "[47]\tvalid's multi_logloss: 0.316176\n",
      "[LightGBM] [Warning] No further splits with positive gain, best gain: -inf\n",
      "[48]\tvalid's multi_logloss: 0.316758\n",
      "[LightGBM] [Warning] No further splits with positive gain, best gain: -inf\n",
      "[49]\tvalid's multi_logloss: 0.317818\n",
      "[LightGBM] [Warning] No further splits with positive gain, best gain: -inf\n",
      "[50]\tvalid's multi_logloss: 0.318978\n",
      "[LightGBM] [Warning] No further splits with positive gain, best gain: -inf\n",
      "[51]\tvalid's multi_logloss: 0.318908\n",
      "[LightGBM] [Warning] No further splits with positive gain, best gain: -inf\n",
      "[52]\tvalid's multi_logloss: 0.319442\n",
      "[LightGBM] [Warning] No further splits with positive gain, best gain: -inf\n",
      "[53]\tvalid's multi_logloss: 0.319391\n",
      "[LightGBM] [Warning] No further splits with positive gain, best gain: -inf\n",
      "[54]\tvalid's multi_logloss: 0.320679\n",
      "[LightGBM] [Warning] No further splits with positive gain, best gain: -inf\n",
      "[55]\tvalid's multi_logloss: 0.321537\n",
      "Early stopping, best iteration is:\n",
      "[25]\tvalid's multi_logloss: 0.306704\n"
     ]
    }
   ],
   "source": [
    "model2 = lgb.train(params, train_data,                     \n",
    "                     valid_sets=[valid_data],\n",
    "                     num_boost_round=FIXED_PARAMS['num_boost_round'],\n",
    "                     early_stopping_rounds=FIXED_PARAMS['early_stopping_rounds'],\n",
    "                     valid_names=['valid'])"
   ]
  },
  {
   "cell_type": "code",
   "execution_count": 95,
   "id": "6b099824",
   "metadata": {},
   "outputs": [],
   "source": [
    "## score de test\n",
    "y_predict_LGBM2 = model2.predict(X_val,num_iteration=model2.best_iteration)"
   ]
  },
  {
   "cell_type": "code",
   "execution_count": 96,
   "id": "f282e239",
   "metadata": {},
   "outputs": [],
   "source": [
    "#convert into binary values\t\n",
    "y_predict_LGBM2 = [np.argmax(line) for line in y_predict_LGBM2]"
   ]
  },
  {
   "cell_type": "code",
   "execution_count": 98,
   "id": "63e9eb80",
   "metadata": {},
   "outputs": [
    {
     "name": "stdout",
     "output_type": "stream",
     "text": [
      "              precision    recall  f1-score   support\n",
      "\n",
      "           0       0.58      0.57      0.58        54\n",
      "           1       0.53      0.41      0.46        73\n",
      "           2       0.94      0.96      0.95       904\n",
      "           3       1.00      0.33      0.50         3\n",
      "\n",
      "    accuracy                           0.90      1034\n",
      "   macro avg       0.76      0.57      0.62      1034\n",
      "weighted avg       0.89      0.90      0.89      1034\n",
      "\n",
      "Confusion matrix, without normalization\n",
      "[[ 31   5  18   0]\n",
      " [  5  30  38   0]\n",
      " [ 17  21 866   0]\n",
      " [  0   1   1   1]]\n"
     ]
    },
    {
     "data": {
      "image/png": "[encoded data removed]",
      "text/plain": [
       "<Figure size 432x288 with 2 Axes>"
      ]
     },
     "metadata": {
      "needs_background": "light"
     },
     "output_type": "display_data"
    }
   ],
   "source": [
    "cnf_matrix = confusion_matrix(y_val, y_predict_LGBM2, labels = [0,1,2,3])\n",
    "np.set_printoptions(precision=2)\n",
    "\n",
    "print (classification_report(y_val, y_predict_LGBM2))\n",
    "\n",
    "# Plot non-normalized confusion matrix\n",
    "plt.figure()\n",
    "plot_confusion_matrix(cnf_matrix, classes = [0,1,2,3], normalize= False,  title='Confusion matrix')\n",
    "plt.show()"
   ]
  },
  {
   "cell_type": "markdown",
   "id": "7adf6c47",
   "metadata": {},
   "source": [
    "### Evaluacion "
   ]
  },
  {
   "cell_type": "code",
   "execution_count": 143,
   "id": "aff74cc7",
   "metadata": {},
   "outputs": [
    {
     "data": {
      "text/html": [
       "<div>\n",
       "<style scoped>\n",
       "    .dataframe tbody tr th:only-of-type {\n",
       "        vertical-align: middle;\n",
       "    }\n",
       "\n",
       "    .dataframe tbody tr th {\n",
       "        vertical-align: top;\n",
       "    }\n",
       "\n",
       "    .dataframe thead th {\n",
       "        text-align: right;\n",
       "    }\n",
       "</style>\n",
       "<table border=\"1\" class=\"dataframe\">\n",
       "  <thead>\n",
       "    <tr style=\"text-align: right;\">\n",
       "      <th></th>\n",
       "      <th>Jaccard</th>\n",
       "      <th>F1-score</th>\n",
       "      <th>LogLoss</th>\n",
       "      <th>Accuracy</th>\n",
       "      <th>Recall</th>\n",
       "      <th>Precision</th>\n",
       "    </tr>\n",
       "    <tr>\n",
       "      <th>Algorithm</th>\n",
       "      <th></th>\n",
       "      <th></th>\n",
       "      <th></th>\n",
       "      <th></th>\n",
       "      <th></th>\n",
       "      <th></th>\n",
       "    </tr>\n",
       "  </thead>\n",
       "  <tbody>\n",
       "    <tr>\n",
       "      <th>KNN</th>\n",
       "      <td>0</td>\n",
       "      <td>0</td>\n",
       "      <td>NA</td>\n",
       "      <td>0</td>\n",
       "      <td>0</td>\n",
       "      <td>0</td>\n",
       "    </tr>\n",
       "    <tr>\n",
       "      <th>Decision Tree</th>\n",
       "      <td>0</td>\n",
       "      <td>0</td>\n",
       "      <td>NA</td>\n",
       "      <td>0</td>\n",
       "      <td>0</td>\n",
       "      <td>0</td>\n",
       "    </tr>\n",
       "    <tr>\n",
       "      <th>SVM</th>\n",
       "      <td>0</td>\n",
       "      <td>0</td>\n",
       "      <td>NA</td>\n",
       "      <td>0</td>\n",
       "      <td>0</td>\n",
       "      <td>0</td>\n",
       "    </tr>\n",
       "    <tr>\n",
       "      <th>Logistic Regression</th>\n",
       "      <td>0</td>\n",
       "      <td>0</td>\n",
       "      <td>NA</td>\n",
       "      <td>0</td>\n",
       "      <td>0</td>\n",
       "      <td>0</td>\n",
       "    </tr>\n",
       "    <tr>\n",
       "      <th>LightGBM</th>\n",
       "      <td>0</td>\n",
       "      <td>0</td>\n",
       "      <td>NA</td>\n",
       "      <td>0</td>\n",
       "      <td>0</td>\n",
       "      <td>0</td>\n",
       "    </tr>\n",
       "    <tr>\n",
       "      <th>LightGBM_OPT</th>\n",
       "      <td>0</td>\n",
       "      <td>0</td>\n",
       "      <td>NA</td>\n",
       "      <td>0</td>\n",
       "      <td>0</td>\n",
       "      <td>0</td>\n",
       "    </tr>\n",
       "  </tbody>\n",
       "</table>\n",
       "</div>"
      ],
      "text/plain": [
       "                     Jaccard  F1-score LogLoss  Accuracy  Recall  Precision\n",
       "Algorithm                                                                  \n",
       "KNN                        0         0      NA         0       0          0\n",
       "Decision Tree              0         0      NA         0       0          0\n",
       "SVM                        0         0      NA         0       0          0\n",
       "Logistic Regression        0         0      NA         0       0          0\n",
       "LightGBM                   0         0      NA         0       0          0\n",
       "LightGBM_OPT               0         0      NA         0       0          0"
      ]
     },
     "execution_count": 143,
     "metadata": {},
     "output_type": "execute_result"
    }
   ],
   "source": [
    "columns=['Algorithm','Jaccard','F1-score','LogLoss','Accuracy','Recall','Precision']\n",
    "matrix=pd.DataFrame([['KNN',0,0,'NA',0,0,0],\n",
    "                     ['Decision Tree',0,0,'NA',0,0,0],\n",
    "                     ['SVM',0,0,'NA',0,0,0],\n",
    "                     ['Logistic Regression',0,0,'NA',0,0,0],\n",
    "                     ['LightGBM',0,0,'NA',0,0,0],\n",
    "                     ['LightGBM_OPT',0,0,'NA',0,0,0]],columns=columns)\n",
    "matrix=matrix.set_index('Algorithm')\n",
    "matrix"
   ]
  },
  {
   "cell_type": "markdown",
   "id": "6208b675",
   "metadata": {},
   "source": [
    "### Evaluacion Decision Tree"
   ]
  },
  {
   "cell_type": "code",
   "execution_count": 125,
   "id": "41ea90d4",
   "metadata": {},
   "outputs": [],
   "source": [
    "#loanTree = DecisionTreeClassifier(criterion=\"entropy\", max_depth = 4).fit(X_val,y_val)\n",
    "yhat_DT_val=drugTree.predict(X_val)\n",
    "#pscores_tree_val = drugTree.predict_proba(X_val)\n",
    "#y_pred_DT_val = pscores_tree_val[:,1]>0.8\n",
    "#Jaccard\n",
    "jaccard_DT=jaccard_score(y_val, yhat_DT_val,average='weighted')\n",
    "#F1-score\n",
    "f1_DT=f1_score(y_val, yhat_DT_val, average='weighted')\n",
    "#LogLoss\n",
    "#logLoss_DT=multi_logloss(y_val, yhat_DT_val)\n",
    "#accuracy\n",
    "accuracy_DT=accuracy_score(y_val, yhat_DT_val)\n",
    "#recall\n",
    "recall_DT=recall_score(y_val, yhat_DT_val, average='weighted')\n",
    "#Precision\n",
    "precision_DT= precision_score(y_val, yhat_DT_val, average='weighted')"
   ]
  },
  {
   "cell_type": "markdown",
   "id": "6aa3ade5",
   "metadata": {},
   "source": [
    "### Evaluacion SVM"
   ]
  },
  {
   "cell_type": "code",
   "execution_count": 127,
   "id": "01c2ac67",
   "metadata": {},
   "outputs": [],
   "source": [
    "#loanSVM = svm.SVC(kernel='rbf').fit(X_val,y_val)\n",
    "yhat_SVM_val = clf.predict(X_val)\n",
    "#pscores_svm_val = clf.predict_proba(X_val)\n",
    "#y_pred_SVM_val = pscores_svm_val[:,1]>0.5\n",
    "#Jaccard\n",
    "jaccard_SVM=jaccard_score(y_val, yhat_SVM_val,average='weighted')\n",
    "#F1-score\n",
    "f1_SVM=f1_score(y_val, yhat_SVM_val, average='weighted')\n",
    "#LogLoss\n",
    "#logLoss_SVM=log_loss(y_val, y_pred_SVM_val)\n",
    "#accuracy\n",
    "accuracy_SVM=accuracy_score(y_val, yhat_SVM_val)\n",
    "#recall\n",
    "recall_SVM=recall_score(y_val, yhat_SVM_val, average='weighted')\n",
    "#Precision\n",
    "precision_SVM= precision_score(y_val, yhat_SVM_val, average='weighted')"
   ]
  },
  {
   "cell_type": "markdown",
   "id": "73316bd5",
   "metadata": {},
   "source": [
    "### Evaluacion de logistic regression "
   ]
  },
  {
   "cell_type": "code",
   "execution_count": 129,
   "id": "50a8698d",
   "metadata": {},
   "outputs": [
    {
     "name": "stderr",
     "output_type": "stream",
     "text": [
      "C:\\Users\\d84088661\\Anaconda3\\lib\\site-packages\\sklearn\\metrics\\_classification.py:1248: UndefinedMetricWarning: Precision is ill-defined and being set to 0.0 in labels with no predicted samples. Use `zero_division` parameter to control this behavior.\n",
      "  _warn_prf(average, modifier, msg_start, len(result))\n"
     ]
    }
   ],
   "source": [
    "#loanLR = LogisticRegression(C=0.05, solver='liblinear').fit(X_val,y_val)\n",
    "yhat_LR_val = LR.predict(X_val)\n",
    "#pscores_LR_val = LR.predict_proba(X_val)\n",
    "#y_pred_LR_val = pscores_LR_val[:,1]>0.62\n",
    "#Jaccard\n",
    "jaccard_LR=jaccard_score(y_val, yhat_LR_val, average='weighted')\n",
    "#F1-score\n",
    "f1_LR=f1_score(y_val, yhat_LR_val, average='weighted')\n",
    "#LogLoss\n",
    "#logLoss_LR=log_loss(y_val, y_pred_LR_val)\n",
    "#accuracy\n",
    "accuracy_LR=accuracy_score(y_val, yhat_LR_val)\n",
    "#recall\n",
    "recall_LR=recall_score(y_val, yhat_LR_val, average='weighted')\n",
    "#Precision\n",
    "precision_LR= precision_score(y_val, yhat_LR_val, average='weighted')"
   ]
  },
  {
   "cell_type": "markdown",
   "id": "0dc1d8b0",
   "metadata": {},
   "source": [
    "### Evaluacion KNN"
   ]
  },
  {
   "cell_type": "code",
   "execution_count": 138,
   "id": "87806bb4",
   "metadata": {},
   "outputs": [],
   "source": [
    "yhat_KNN = neighKNN.predict(X_val)\n",
    "#Jaccard\n",
    "jaccard_KNN=jaccard_score(y_val, yhat_KNN,average='weighted')\n",
    "#F1-score\n",
    "f1_KNN=f1_score(y_val, yhat_KNN, average='weighted')\n",
    "#LogLoss\n",
    "#log_RF=log_loss(y_val, y_pred_forest_val)\n",
    "#Accuracy\n",
    "accuracy_KNN=accuracy_score(y_val, yhat_KNN)\n",
    "#recall\n",
    "recall_KNN=recall_score(y_val, yhat_KNN, average='weighted')\n",
    "#Precision\n",
    "precision_KNN= precision_score(y_val, yhat_KNN, average='weighted')"
   ]
  },
  {
   "cell_type": "markdown",
   "id": "4bc8a817",
   "metadata": {},
   "source": [
    "### Evaluacion LightGBM"
   ]
  },
  {
   "cell_type": "code",
   "execution_count": 155,
   "id": "24f9c0be",
   "metadata": {},
   "outputs": [],
   "source": [
    "y_predict_LGBM2 = model2.predict(X_val,num_iteration=model2.best_iteration)\n",
    "y_predict_LGBM2 = [np.argmax(line) for line in y_predict_LGBM2]\n",
    "\n",
    "#Jaccard\n",
    "jaccard_LGBM=jaccard_score(y_val, y_predict_LGBM2,average='weighted')\n",
    "#F1-score\n",
    "f1_LGBM=f1_score(y_val, y_predict_LGBM2, average='weighted')\n",
    "#LogLoss\n",
    "#logLoss_LGBM=log_loss(y_val, y_predict_LGBM2)\n",
    "#Accuracy\n",
    "accuracy_LGBM=accuracy_score(y_val, y_predict_LGBM2)\n",
    "#recall\n",
    "recall_LGBM=recall_score(y_val, y_predict_LGBM2, average='weighted')\n",
    "#Precision\n",
    "precision_LGBM= precision_score(y_val, y_predict_LGBM2, average='weighted')"
   ]
  },
  {
   "cell_type": "code",
   "execution_count": 175,
   "id": "79fe43a3",
   "metadata": {},
   "outputs": [],
   "source": [
    "y_predict_LGBM2 = model2.predict(X_val,num_iteration=model2.best_iteration)"
   ]
  },
  {
   "cell_type": "code",
   "execution_count": 179,
   "id": "a9303a38",
   "metadata": {},
   "outputs": [],
   "source": [
    "y_predict_LGBM2 = [np.argmax(line) for line in y_predict_LGBM2]"
   ]
  },
  {
   "cell_type": "code",
   "execution_count": 180,
   "id": "d046b555",
   "metadata": {},
   "outputs": [
    {
     "data": {
      "text/plain": [
       "0"
      ]
     },
     "execution_count": 180,
     "metadata": {},
     "output_type": "execute_result"
    }
   ],
   "source": [
    "y_predict_LGBM2[1]"
   ]
  },
  {
   "cell_type": "code",
   "execution_count": 159,
   "id": "7542e79c",
   "metadata": {},
   "outputs": [
    {
     "data": {
      "text/plain": [
       "0"
      ]
     },
     "execution_count": 159,
     "metadata": {},
     "output_type": "execute_result"
    }
   ],
   "source": [
    "y_val[1]"
   ]
  },
  {
   "cell_type": "markdown",
   "id": "feadd2ec",
   "metadata": {},
   "source": [
    "### Evaluacion LighGBM Optimizado Optuna"
   ]
  },
  {
   "cell_type": "code",
   "execution_count": 134,
   "id": "cc239d7d",
   "metadata": {},
   "outputs": [],
   "source": [
    "y_predict_LGBM2 = model2_opt.predict(X_val,num_iteration=model2_opt.best_iteration)\n",
    "y_predict_LGBM2 = [np.argmax(line) for line in y_predict_LGBM2]\n",
    "#Jaccard\n",
    "jaccard_opt=jaccard_score(y_val, y_predict_LGBM2, average='weighted')\n",
    "#F1-score\n",
    "f1_opt=f1_score(y_val, y_predict_LGBM2, average='weighted')\n",
    "#LogLoss\n",
    "#logLoss_opt=log_loss(y_val, ypred_opt)\n",
    "#Accuracy\n",
    "accuracy_opt=accuracy_score(y_val, y_predict_LGBM2)\n",
    "#recall\n",
    "recall_opt=recall_score(y_val, y_predict_LGBM2, average='weighted')\n",
    "#Precision\n",
    "precision_opt= precision_score(y_val, y_predict_LGBM2, average='weighted')"
   ]
  },
  {
   "cell_type": "code",
   "execution_count": 140,
   "id": "aa38ea23",
   "metadata": {},
   "outputs": [
    {
     "data": {
      "text/html": [
       "<div>\n",
       "<style scoped>\n",
       "    .dataframe tbody tr th:only-of-type {\n",
       "        vertical-align: middle;\n",
       "    }\n",
       "\n",
       "    .dataframe tbody tr th {\n",
       "        vertical-align: top;\n",
       "    }\n",
       "\n",
       "    .dataframe thead th {\n",
       "        text-align: right;\n",
       "    }\n",
       "</style>\n",
       "<table border=\"1\" class=\"dataframe\">\n",
       "  <thead>\n",
       "    <tr style=\"text-align: right;\">\n",
       "      <th></th>\n",
       "      <th>Jaccard</th>\n",
       "      <th>F1-score</th>\n",
       "      <th>LogLoss</th>\n",
       "      <th>Accuracy</th>\n",
       "      <th>Recall</th>\n",
       "      <th>Precision</th>\n",
       "    </tr>\n",
       "    <tr>\n",
       "      <th>Algorithm</th>\n",
       "      <th></th>\n",
       "      <th></th>\n",
       "      <th></th>\n",
       "      <th></th>\n",
       "      <th></th>\n",
       "      <th></th>\n",
       "    </tr>\n",
       "  </thead>\n",
       "  <tbody>\n",
       "    <tr>\n",
       "      <th>KNN</th>\n",
       "      <td>0.676120</td>\n",
       "      <td>0.783304</td>\n",
       "      <td>NA</td>\n",
       "      <td>0.739845</td>\n",
       "      <td>0.739845</td>\n",
       "      <td>0.846829</td>\n",
       "    </tr>\n",
       "    <tr>\n",
       "      <th>Decision Tree</th>\n",
       "      <td>0.682632</td>\n",
       "      <td>0.788940</td>\n",
       "      <td>NA</td>\n",
       "      <td>0.748549</td>\n",
       "      <td>0.748549</td>\n",
       "      <td>0.851051</td>\n",
       "    </tr>\n",
       "    <tr>\n",
       "      <th>SVM</th>\n",
       "      <td>0.343729</td>\n",
       "      <td>0.499288</td>\n",
       "      <td>NA</td>\n",
       "      <td>0.363636</td>\n",
       "      <td>0.363636</td>\n",
       "      <td>0.848909</td>\n",
       "    </tr>\n",
       "    <tr>\n",
       "      <th>Logistic Regression</th>\n",
       "      <td>0.441749</td>\n",
       "      <td>0.597464</td>\n",
       "      <td>NA</td>\n",
       "      <td>0.498066</td>\n",
       "      <td>0.498066</td>\n",
       "      <td>0.836644</td>\n",
       "    </tr>\n",
       "    <tr>\n",
       "      <th>LightGBM</th>\n",
       "      <td>0.831297</td>\n",
       "      <td>0.893110</td>\n",
       "      <td>NA</td>\n",
       "      <td>0.897485</td>\n",
       "      <td>0.897485</td>\n",
       "      <td>0.890889</td>\n",
       "    </tr>\n",
       "    <tr>\n",
       "      <th>LightGBM_OPT</th>\n",
       "      <td>0.830624</td>\n",
       "      <td>0.892114</td>\n",
       "      <td>NA</td>\n",
       "      <td>0.895551</td>\n",
       "      <td>0.895551</td>\n",
       "      <td>0.890819</td>\n",
       "    </tr>\n",
       "  </tbody>\n",
       "</table>\n",
       "</div>"
      ],
      "text/plain": [
       "                      Jaccard  F1-score LogLoss  Accuracy    Recall  Precision\n",
       "Algorithm                                                                     \n",
       "KNN                  0.676120  0.783304      NA  0.739845  0.739845   0.846829\n",
       "Decision Tree        0.682632  0.788940      NA  0.748549  0.748549   0.851051\n",
       "SVM                  0.343729  0.499288      NA  0.363636  0.363636   0.848909\n",
       "Logistic Regression  0.441749  0.597464      NA  0.498066  0.498066   0.836644\n",
       "LightGBM             0.831297  0.893110      NA  0.897485  0.897485   0.890889\n",
       "LightGBM_OPT         0.830624  0.892114      NA  0.895551  0.895551   0.890819"
      ]
     },
     "execution_count": 140,
     "metadata": {},
     "output_type": "execute_result"
    }
   ],
   "source": [
    "matrix.at['KNN',['Jaccard','F1-score','Accuracy','Recall','Precision']] = [jaccard_KNN,f1_KNN,accuracy_KNN,recall_KNN,precision_KNN]\n",
    "matrix.at['Decision Tree',['Jaccard','F1-score','Accuracy','Recall','Precision']] = [jaccard_DT,f1_DT,accuracy_DT,recall_DT,precision_DT]\n",
    "matrix.at['SVM',['Jaccard','F1-score','Accuracy','Recall','Precision']] = [jaccard_SVM,f1_SVM,accuracy_SVM,recall_SVM,precision_SVM]\n",
    "matrix.at['Logistic Regression',['Jaccard','F1-score','Accuracy','Recall','Precision']] = [jaccard_LR,f1_LR,accuracy_LR,recall_LR,precision_LR]\n",
    "matrix.at['LightGBM',['Jaccard','F1-score','Accuracy','Recall','Precision']] = [jaccard_LGBM,f1_LGBM,accuracy_LGBM,recall_LGBM,precision_LGBM]\n",
    "matrix.at['LightGBM_OPT',['Jaccard','F1-score','Accuracy','Recall','Precision']] = [jaccard_opt,f1_opt,accuracy_opt,recall_opt,precision_opt]\n",
    "matrix"
   ]
  },
  {
   "cell_type": "code",
   "execution_count": null,
   "id": "59990af0",
   "metadata": {},
   "outputs": [],
   "source": [
    "#KNN\n",
    "import pickle    \n",
    "with open('KDD_model.pkl', 'wb') as model_file:\n",
    "  pickle.dump(neighKNN, model_file)"
   ]
  },
  {
   "cell_type": "markdown",
   "id": "8255077b",
   "metadata": {},
   "source": [
    "### Optuna lightGBM MOdel 2"
   ]
  },
  {
   "cell_type": "code",
   "execution_count": 101,
   "id": "a12778c2",
   "metadata": {},
   "outputs": [],
   "source": [
    "def objective(trial):\n",
    "    #Split Train - Test. 80%-20%\n",
    "    X_train, X_test, y_train, y_test = train_test_split(X, y, test_size=0.2, random_state=2,stratify=df_encoder[\"Estado_label\"])\n",
    "    # del 80% del test sacamos 10% para validacion queda 72% train 20%  valid 8%\n",
    "    X_train, X_val, y_train, y_val = train_test_split(X_train, y_train, test_size=0.1, random_state=2)\n",
    "\n",
    "   \n",
    "  \n",
    "    # transform the dataset  SMOTE\n",
    "    oversample = SMOTE()\n",
    "    X_train, y_train = oversample.fit_resample(X_train, y_train)\n",
    "    dtrain = lgb.Dataset(X_train, label=y_train)\n",
    "    param = {\n",
    "        \"objective\": \"multiclass\",\n",
    "        \"metric\": \"multi_logloss\",\n",
    "        'num_class':4,\n",
    "        \"verbosity\": -1,\n",
    "        \"boosting_type\": \"dart\",\n",
    "        \"lambda_l1\": trial.suggest_float(\"lambda_l1\", 1e-8, 10.0, log=True),\n",
    "        \"lambda_l2\": trial.suggest_float(\"lambda_l2\", 1e-8, 10.0, log=True),\n",
    "        \"num_leaves\": trial.suggest_int(\"num_leaves\", 2, 256),\n",
    "        \"feature_fraction\": trial.suggest_float(\"feature_fraction\", 0.4, 1.0),\n",
    "        \"bagging_fraction\": trial.suggest_float(\"bagging_fraction\", 0.4, 1.0),\n",
    "        \"bagging_freq\": trial.suggest_int(\"bagging_freq\", 1, 7),\n",
    "        \"min_child_samples\": trial.suggest_int(\"min_child_samples\", 5, 100),\n",
    "        }    \n",
    "        \n",
    "        \n",
    "    gbm = lgb.train(param, dtrain)\n",
    "    preds = gbm.predict(X_test)\n",
    "    preds = [np.argmax(line) for line in preds]\n",
    "    pred_labels = np.rint(preds)\n",
    "    accuracy = accuracy_score(y_test, pred_labels)\n",
    "    return accuracy\n",
    "    "
   ]
  },
  {
   "cell_type": "code",
   "execution_count": 102,
   "id": "ef19873d",
   "metadata": {},
   "outputs": [
    {
     "name": "stderr",
     "output_type": "stream",
     "text": [
      "\u001b[32m[I 2021-12-05 21:11:27,601]\u001b[0m A new study created in memory with name: no-name-b05d43f4-871f-4d09-96d5-42cf8afb8cc2\u001b[0m\n",
      "\u001b[32m[I 2021-12-05 21:12:25,857]\u001b[0m Trial 0 finished with value: 0.8499032882011606 and parameters: {'lambda_l1': 3.789359254030574e-06, 'lambda_l2': 0.5339475706297199, 'num_leaves': 14, 'feature_fraction': 0.4656813817309302, 'bagging_fraction': 0.9109754661184003, 'bagging_freq': 4, 'min_child_samples': 39}. Best is trial 0 with value: 0.8499032882011606.\u001b[0m\n",
      "\u001b[32m[I 2021-12-05 21:13:14,218]\u001b[0m Trial 1 finished with value: 0.8762088974854932 and parameters: {'lambda_l1': 4.08190431468739, 'lambda_l2': 8.359954530261282e-07, 'num_leaves': 86, 'feature_fraction': 0.4755890388041438, 'bagging_fraction': 0.7559835994980428, 'bagging_freq': 2, 'min_child_samples': 69}. Best is trial 1 with value: 0.8762088974854932.\u001b[0m\n",
      "\u001b[32m[I 2021-12-05 21:14:09,023]\u001b[0m Trial 2 finished with value: 0.8862669245647969 and parameters: {'lambda_l1': 1.252887153005746e-05, 'lambda_l2': 4.976908501893619e-08, 'num_leaves': 105, 'feature_fraction': 0.8692069239801326, 'bagging_fraction': 0.944279979384348, 'bagging_freq': 4, 'min_child_samples': 93}. Best is trial 2 with value: 0.8862669245647969.\u001b[0m\n",
      "\u001b[32m[I 2021-12-05 21:15:24,021]\u001b[0m Trial 3 finished with value: 0.8878143133462283 and parameters: {'lambda_l1': 0.00021565651412906365, 'lambda_l2': 4.945674484673068e-07, 'num_leaves': 85, 'feature_fraction': 0.6286320744458197, 'bagging_fraction': 0.6900409656285176, 'bagging_freq': 7, 'min_child_samples': 40}. Best is trial 3 with value: 0.8878143133462283.\u001b[0m\n",
      "\u001b[32m[I 2021-12-05 21:17:48,415]\u001b[0m Trial 4 finished with value: 0.8889748549323018 and parameters: {'lambda_l1': 0.0006416229020993108, 'lambda_l2': 3.1838163793203104e-05, 'num_leaves': 71, 'feature_fraction': 0.9945005049310665, 'bagging_fraction': 0.9216368402997345, 'bagging_freq': 5, 'min_child_samples': 31}. Best is trial 4 with value: 0.8889748549323018.\u001b[0m\n",
      "\u001b[32m[I 2021-12-05 21:17:52,178]\u001b[0m Trial 5 finished with value: 0.8618955512572534 and parameters: {'lambda_l1': 9.190974797941989, 'lambda_l2': 1.887830127812053e-06, 'num_leaves': 93, 'feature_fraction': 0.5719040176414174, 'bagging_fraction': 0.44647634295092514, 'bagging_freq': 2, 'min_child_samples': 86}. Best is trial 4 with value: 0.8889748549323018.\u001b[0m\n",
      "\u001b[32m[I 2021-12-05 21:17:58,582]\u001b[0m Trial 6 finished with value: 0.8897485493230174 and parameters: {'lambda_l1': 5.6590351747311716e-05, 'lambda_l2': 1.1998325092863503e-06, 'num_leaves': 88, 'feature_fraction': 0.7668504737100568, 'bagging_fraction': 0.5617218176397724, 'bagging_freq': 4, 'min_child_samples': 40}. Best is trial 6 with value: 0.8897485493230174.\u001b[0m\n",
      "\u001b[32m[I 2021-12-05 21:18:05,239]\u001b[0m Trial 7 finished with value: 0.8854932301740812 and parameters: {'lambda_l1': 4.2215057235544864e-05, 'lambda_l2': 1.779591941460792e-08, 'num_leaves': 239, 'feature_fraction': 0.442776049446181, 'bagging_fraction': 0.4539669727446556, 'bagging_freq': 4, 'min_child_samples': 45}. Best is trial 6 with value: 0.8897485493230174.\u001b[0m\n",
      "\u001b[32m[I 2021-12-05 21:18:10,813]\u001b[0m Trial 8 finished with value: 0.8905222437137331 and parameters: {'lambda_l1': 1.9549716346976686e-07, 'lambda_l2': 1.8487378471666955e-07, 'num_leaves': 158, 'feature_fraction': 0.4836764408506946, 'bagging_fraction': 0.9296237481038937, 'bagging_freq': 3, 'min_child_samples': 44}. Best is trial 8 with value: 0.8905222437137331.\u001b[0m\n",
      "\u001b[32m[I 2021-12-05 21:18:17,184]\u001b[0m Trial 9 finished with value: 0.8905222437137331 and parameters: {'lambda_l1': 2.3379589731503205e-07, 'lambda_l2': 1.260472908001474e-07, 'num_leaves': 192, 'feature_fraction': 0.6376771573280038, 'bagging_fraction': 0.5258875545428101, 'bagging_freq': 1, 'min_child_samples': 17}. Best is trial 8 with value: 0.8905222437137331.\u001b[0m\n",
      "\u001b[32m[I 2021-12-05 21:18:22,402]\u001b[0m Trial 10 finished with value: 0.8866537717601547 and parameters: {'lambda_l1': 1.062685281321831e-08, 'lambda_l2': 0.006629151369290779, 'num_leaves': 173, 'feature_fraction': 0.4034835561895056, 'bagging_fraction': 0.7828692536832194, 'bagging_freq': 6, 'min_child_samples': 64}. Best is trial 8 with value: 0.8905222437137331.\u001b[0m\n",
      "\u001b[32m[I 2021-12-05 21:18:29,384]\u001b[0m Trial 11 finished with value: 0.8974854932301741 and parameters: {'lambda_l1': 3.351610838383845e-08, 'lambda_l2': 9.263411621971444e-05, 'num_leaves': 185, 'feature_fraction': 0.6026657835557594, 'bagging_fraction': 0.6040938235913128, 'bagging_freq': 1, 'min_child_samples': 5}. Best is trial 11 with value: 0.8974854932301741.\u001b[0m\n",
      "\u001b[32m[I 2021-12-05 21:18:35,989]\u001b[0m Trial 12 finished with value: 0.8970986460348163 and parameters: {'lambda_l1': 1.595665338220171e-08, 'lambda_l2': 0.0006801959246592612, 'num_leaves': 153, 'feature_fraction': 0.5499036013955123, 'bagging_fraction': 0.6507663926404986, 'bagging_freq': 1, 'min_child_samples': 14}. Best is trial 11 with value: 0.8974854932301741.\u001b[0m\n",
      "\u001b[32m[I 2021-12-05 21:18:43,183]\u001b[0m Trial 13 finished with value: 0.8905222437137331 and parameters: {'lambda_l1': 1.0070119399424153e-08, 'lambda_l2': 0.0032181937806510805, 'num_leaves': 207, 'feature_fraction': 0.7163837157161452, 'bagging_fraction': 0.6357672746410428, 'bagging_freq': 1, 'min_child_samples': 6}. Best is trial 11 with value: 0.8974854932301741.\u001b[0m\n",
      "\u001b[32m[I 2021-12-05 21:18:48,095]\u001b[0m Trial 14 finished with value: 0.8943907156673114 and parameters: {'lambda_l1': 0.02229067408687367, 'lambda_l2': 0.0003328655943928698, 'num_leaves': 145, 'feature_fraction': 0.5667655094042292, 'bagging_fraction': 0.6126341926016236, 'bagging_freq': 2, 'min_child_samples': 20}. Best is trial 11 with value: 0.8974854932301741.\u001b[0m\n",
      "\u001b[32m[I 2021-12-05 21:18:55,541]\u001b[0m Trial 15 finished with value: 0.8928433268858801 and parameters: {'lambda_l1': 3.5511995645576584e-07, 'lambda_l2': 0.2523511022272526, 'num_leaves': 249, 'feature_fraction': 0.7848520795123581, 'bagging_fraction': 0.7903641018811637, 'bagging_freq': 1, 'min_child_samples': 8}. Best is trial 11 with value: 0.8974854932301741.\u001b[0m\n",
      "\u001b[32m[I 2021-12-05 21:19:01,861]\u001b[0m Trial 16 finished with value: 0.8963249516441005 and parameters: {'lambda_l1': 0.008117480534822462, 'lambda_l2': 2.8533203457661105e-05, 'num_leaves': 214, 'feature_fraction': 0.5600066148472986, 'bagging_fraction': 0.6891423515495173, 'bagging_freq': 3, 'min_child_samples': 22}. Best is trial 11 with value: 0.8974854932301741.\u001b[0m\n",
      "\u001b[32m[I 2021-12-05 21:19:06,856]\u001b[0m Trial 17 finished with value: 0.8924564796905222 and parameters: {'lambda_l1': 1.0858301429021355e-06, 'lambda_l2': 0.016432079843469727, 'num_leaves': 128, 'feature_fraction': 0.6678213949992746, 'bagging_fraction': 0.5420410990234679, 'bagging_freq': 2, 'min_child_samples': 6}. Best is trial 11 with value: 0.8974854932301741.\u001b[0m\n",
      "\u001b[32m[I 2021-12-05 21:19:10,006]\u001b[0m Trial 18 finished with value: 0.8711798839458413 and parameters: {'lambda_l1': 4.5051563818183536e-08, 'lambda_l2': 5.0740827582851775, 'num_leaves': 38, 'feature_fraction': 0.5407128214635046, 'bagging_fraction': 0.645121423454309, 'bagging_freq': 3, 'min_child_samples': 28}. Best is trial 11 with value: 0.8974854932301741.\u001b[0m\n",
      "\u001b[32m[I 2021-12-05 21:19:16,060]\u001b[0m Trial 19 finished with value: 0.8936170212765957 and parameters: {'lambda_l1': 2.1974448224158136e-06, 'lambda_l2': 0.00022107971924567309, 'num_leaves': 179, 'feature_fraction': 0.7250252103024897, 'bagging_fraction': 0.8574714850015555, 'bagging_freq': 1, 'min_child_samples': 58}. Best is trial 11 with value: 0.8974854932301741.\u001b[0m\n",
      "\u001b[32m[I 2021-12-05 21:19:20,477]\u001b[0m Trial 20 finished with value: 0.8916827852998066 and parameters: {'lambda_l1': 0.5046774421401731, 'lambda_l2': 1.667032572434115e-05, 'num_leaves': 125, 'feature_fraction': 0.6203163105174117, 'bagging_fraction': 0.4031877951245264, 'bagging_freq': 5, 'min_child_samples': 13}. Best is trial 11 with value: 0.8974854932301741.\u001b[0m\n",
      "\u001b[32m[I 2021-12-05 21:19:26,744]\u001b[0m Trial 21 finished with value: 0.8920696324951644 and parameters: {'lambda_l1': 0.0038166456281771943, 'lambda_l2': 2.080967946106519e-05, 'num_leaves': 217, 'feature_fraction': 0.541650409807166, 'bagging_fraction': 0.7137106947183347, 'bagging_freq': 3, 'min_child_samples': 25}. Best is trial 11 with value: 0.8974854932301741.\u001b[0m\n"
     ]
    },
    {
     "name": "stderr",
     "output_type": "stream",
     "text": [
      "\u001b[32m[I 2021-12-05 21:19:32,970]\u001b[0m Trial 22 finished with value: 0.893230174081238 and parameters: {'lambda_l1': 0.09424105707764346, 'lambda_l2': 0.0002742513639129356, 'num_leaves': 221, 'feature_fraction': 0.5935696309970021, 'bagging_fraction': 0.5917622297243789, 'bagging_freq': 2, 'min_child_samples': 19}. Best is trial 11 with value: 0.8974854932301741.\u001b[0m\n",
      "\u001b[32m[I 2021-12-05 21:19:39,221]\u001b[0m Trial 23 finished with value: 0.8920696324951644 and parameters: {'lambda_l1': 0.007404998184338467, 'lambda_l2': 0.0013760565617865201, 'num_leaves': 189, 'feature_fraction': 0.5155036991045152, 'bagging_fraction': 0.6984027556751421, 'bagging_freq': 1, 'min_child_samples': 31}. Best is trial 11 with value: 0.8974854932301741.\u001b[0m\n",
      "\u001b[32m[I 2021-12-05 21:19:45,750]\u001b[0m Trial 24 finished with value: 0.8924564796905222 and parameters: {'lambda_l1': 0.0009011995127807434, 'lambda_l2': 6.420231150608335e-06, 'num_leaves': 148, 'feature_fraction': 0.6797312990606166, 'bagging_fraction': 0.6744595221005896, 'bagging_freq': 3, 'min_child_samples': 13}. Best is trial 11 with value: 0.8974854932301741.\u001b[0m\n",
      "\u001b[32m[I 2021-12-05 21:19:51,590]\u001b[0m Trial 25 finished with value: 0.8943907156673114 and parameters: {'lambda_l1': 0.12515842364236854, 'lambda_l2': 0.03129563911151003, 'num_leaves': 167, 'feature_fraction': 0.5951596765140237, 'bagging_fraction': 0.7466089018009421, 'bagging_freq': 2, 'min_child_samples': 5}. Best is trial 11 with value: 0.8974854932301741.\u001b[0m\n",
      "\u001b[32m[I 2021-12-05 21:19:57,903]\u001b[0m Trial 26 finished with value: 0.8928433268858801 and parameters: {'lambda_l1': 6.99944656962044e-08, 'lambda_l2': 0.00010137445200707425, 'num_leaves': 204, 'feature_fraction': 0.5118038778954368, 'bagging_fraction': 0.5188336599876835, 'bagging_freq': 1, 'min_child_samples': 24}. Best is trial 11 with value: 0.8974854932301741.\u001b[0m\n",
      "\u001b[32m[I 2021-12-05 21:20:04,849]\u001b[0m Trial 27 finished with value: 0.8924564796905222 and parameters: {'lambda_l1': 7.00179238705384e-08, 'lambda_l2': 0.0009732444756434188, 'num_leaves': 233, 'feature_fraction': 0.4185623730217222, 'bagging_fraction': 0.8176749299176078, 'bagging_freq': 5, 'min_child_samples': 14}. Best is trial 11 with value: 0.8974854932301741.\u001b[0m\n",
      "\u001b[32m[I 2021-12-05 21:20:10,866]\u001b[0m Trial 28 finished with value: 0.8878143133462283 and parameters: {'lambda_l1': 6.801009572613509e-06, 'lambda_l2': 4.645015091351761e-06, 'num_leaves': 193, 'feature_fraction': 0.662275292115447, 'bagging_fraction': 0.5840633319125444, 'bagging_freq': 3, 'min_child_samples': 79}. Best is trial 11 with value: 0.8974854932301741.\u001b[0m\n",
      "\u001b[32m[I 2021-12-05 21:20:12,311]\u001b[0m Trial 29 finished with value: 0.7694390715667312 and parameters: {'lambda_l1': 1.0781869087101624e-06, 'lambda_l2': 0.10371049654807604, 'num_leaves': 5, 'feature_fraction': 0.8591856073310226, 'bagging_fraction': 0.6523105389407509, 'bagging_freq': 2, 'min_child_samples': 34}. Best is trial 11 with value: 0.8974854932301741.\u001b[0m\n",
      "\u001b[32m[I 2021-12-05 21:20:18,384]\u001b[0m Trial 30 finished with value: 0.888201160541586 and parameters: {'lambda_l1': 3.907647642599325e-05, 'lambda_l2': 0.00011018934248180287, 'num_leaves': 141, 'feature_fraction': 0.48433342808954793, 'bagging_fraction': 0.8416841750073841, 'bagging_freq': 1, 'min_child_samples': 50}. Best is trial 11 with value: 0.8974854932301741.\u001b[0m\n",
      "\u001b[32m[I 2021-12-05 21:20:23,472]\u001b[0m Trial 31 finished with value: 0.8909090909090909 and parameters: {'lambda_l1': 0.011827696958717241, 'lambda_l2': 0.0007591628622564139, 'num_leaves': 152, 'feature_fraction': 0.5682218237126724, 'bagging_fraction': 0.6154142060461358, 'bagging_freq': 2, 'min_child_samples': 22}. Best is trial 11 with value: 0.8974854932301741.\u001b[0m\n",
      "\u001b[32m[I 2021-12-05 21:20:28,916]\u001b[0m Trial 32 finished with value: 0.8916827852998066 and parameters: {'lambda_l1': 0.46467624013389414, 'lambda_l2': 0.0321933677475557, 'num_leaves': 170, 'feature_fraction': 0.6019806909870797, 'bagging_fraction': 0.760271741089448, 'bagging_freq': 2, 'min_child_samples': 5}. Best is trial 11 with value: 0.8974854932301741.\u001b[0m\n",
      "\u001b[32m[I 2021-12-05 21:20:34,775]\u001b[0m Trial 33 finished with value: 0.8959381044487428 and parameters: {'lambda_l1': 0.054061913400683344, 'lambda_l2': 0.9033948656186546, 'num_leaves': 165, 'feature_fraction': 0.5281111672784905, 'bagging_fraction': 0.9881842025322839, 'bagging_freq': 3, 'min_child_samples': 12}. Best is trial 11 with value: 0.8974854932301741.\u001b[0m\n",
      "\u001b[32m[I 2021-12-05 21:20:41,500]\u001b[0m Trial 34 finished with value: 0.8897485493230174 and parameters: {'lambda_l1': 0.0019478791967607035, 'lambda_l2': 2.591512107831417, 'num_leaves': 256, 'feature_fraction': 0.444939107668441, 'bagging_fraction': 0.9973350757045923, 'bagging_freq': 3, 'min_child_samples': 13}. Best is trial 11 with value: 0.8974854932301741.\u001b[0m\n",
      "\u001b[32m[I 2021-12-05 21:20:45,932]\u001b[0m Trial 35 finished with value: 0.8916827852998066 and parameters: {'lambda_l1': 0.05689076944612886, 'lambda_l2': 1.3100107734638122, 'num_leaves': 114, 'feature_fraction': 0.5186649129948113, 'bagging_fraction': 0.7212136786576248, 'bagging_freq': 7, 'min_child_samples': 14}. Best is trial 11 with value: 0.8974854932301741.\u001b[0m\n",
      "\u001b[32m[I 2021-12-05 21:20:53,879]\u001b[0m Trial 36 finished with value: 0.8874274661508704 and parameters: {'lambda_l1': 0.0003090249410554313, 'lambda_l2': 5.300706350489143e-05, 'num_leaves': 182, 'feature_fraction': 0.47403482576694755, 'bagging_fraction': 0.9878585364872068, 'bagging_freq': 5, 'min_child_samples': 27}. Best is trial 11 with value: 0.8974854932301741.\u001b[0m\n",
      "\u001b[32m[I 2021-12-05 21:20:58,866]\u001b[0m Trial 37 finished with value: 0.8854932301740812 and parameters: {'lambda_l1': 0.6660562272973587, 'lambda_l2': 0.6025872662528562, 'num_leaves': 203, 'feature_fraction': 0.9833440003027684, 'bagging_fraction': 0.8694910268882527, 'bagging_freq': 4, 'min_child_samples': 99}. Best is trial 11 with value: 0.8974854932301741.\u001b[0m\n",
      "\u001b[32m[I 2021-12-05 21:21:03,770]\u001b[0m Trial 38 finished with value: 0.8831721470019342 and parameters: {'lambda_l1': 1.8985864764267877, 'lambda_l2': 3.237285259713893e-06, 'num_leaves': 225, 'feature_fraction': 0.5474017213281579, 'bagging_fraction': 0.4986561545164906, 'bagging_freq': 4, 'min_child_samples': 37}. Best is trial 11 with value: 0.8974854932301741.\u001b[0m\n",
      "\u001b[32m[I 2021-12-05 21:21:10,404]\u001b[0m Trial 39 finished with value: 0.8916827852998066 and parameters: {'lambda_l1': 3.0221404829282716e-08, 'lambda_l2': 5.037948574551067e-07, 'num_leaves': 162, 'feature_fraction': 0.6350769620673024, 'bagging_fraction': 0.8991577840195633, 'bagging_freq': 6, 'min_child_samples': 10}. Best is trial 11 with value: 0.8974854932301741.\u001b[0m\n",
      "\u001b[32m[I 2021-12-05 21:21:15,249]\u001b[0m Trial 40 finished with value: 0.8920696324951644 and parameters: {'lambda_l1': 0.0001072158725194723, 'lambda_l2': 0.004033944737801092, 'num_leaves': 107, 'feature_fraction': 0.5066845352801065, 'bagging_fraction': 0.6751448849911438, 'bagging_freq': 3, 'min_child_samples': 18}. Best is trial 11 with value: 0.8974854932301741.\u001b[0m\n",
      "\u001b[32m[I 2021-12-05 21:21:20,303]\u001b[0m Trial 41 finished with value: 0.8947775628626693 and parameters: {'lambda_l1': 0.01464016820208117, 'lambda_l2': 1.188342549706882e-05, 'num_leaves': 139, 'feature_fraction': 0.565380338489949, 'bagging_fraction': 0.6043591761485906, 'bagging_freq': 2, 'min_child_samples': 21}. Best is trial 11 with value: 0.8974854932301741.\u001b[0m\n",
      "\u001b[32m[I 2021-12-05 21:21:24,153]\u001b[0m Trial 42 finished with value: 0.8831721470019342 and parameters: {'lambda_l1': 0.035093666285642804, 'lambda_l2': 1.0012903964079841e-05, 'num_leaves': 61, 'feature_fraction': 0.5803095287351807, 'bagging_fraction': 0.5722537351708409, 'bagging_freq': 2, 'min_child_samples': 10}. Best is trial 11 with value: 0.8974854932301741.\u001b[0m\n",
      "\u001b[32m[I 2021-12-05 21:21:29,356]\u001b[0m Trial 43 finished with value: 0.8943907156673114 and parameters: {'lambda_l1': 0.0012125136905345312, 'lambda_l2': 1.9956498086979757e-06, 'num_leaves': 137, 'feature_fraction': 0.6163615689912262, 'bagging_fraction': 0.7363581688530648, 'bagging_freq': 1, 'min_child_samples': 32}. Best is trial 11 with value: 0.8974854932301741.\u001b[0m\n",
      "\u001b[32m[I 2021-12-05 21:21:34,692]\u001b[0m Trial 44 finished with value: 0.8901353965183753 and parameters: {'lambda_l1': 0.0037425956482747386, 'lambda_l2': 4.5560213947351234e-05, 'num_leaves': 117, 'feature_fraction': 0.5518336612606239, 'bagging_fraction': 0.6133451699535207, 'bagging_freq': 2, 'min_child_samples': 21}. Best is trial 11 with value: 0.8974854932301741.\u001b[0m\n"
     ]
    },
    {
     "name": "stderr",
     "output_type": "stream",
     "text": [
      "\u001b[32m[I 2021-12-05 21:21:39,760]\u001b[0m Trial 45 finished with value: 0.893230174081238 and parameters: {'lambda_l1': 0.014898139590301207, 'lambda_l2': 1.0255211669075131e-08, 'num_leaves': 155, 'feature_fraction': 0.6549633365079186, 'bagging_fraction': 0.6633745496253276, 'bagging_freq': 1, 'min_child_samples': 16}. Best is trial 11 with value: 0.8974854932301741.\u001b[0m\n",
      "\u001b[32m[I 2021-12-05 21:21:43,880]\u001b[0m Trial 46 finished with value: 0.8858800773694391 and parameters: {'lambda_l1': 2.0030183130651302e-08, 'lambda_l2': 9.183007546960224e-05, 'num_leaves': 97, 'feature_fraction': 0.45734704933072357, 'bagging_fraction': 0.49116721736016317, 'bagging_freq': 3, 'min_child_samples': 44}. Best is trial 11 with value: 0.8974854932301741.\u001b[0m\n",
      "\u001b[32m[I 2021-12-05 21:21:49,189]\u001b[0m Trial 47 finished with value: 0.8893617021276595 and parameters: {'lambda_l1': 0.27246214012404374, 'lambda_l2': 1.2873621180617895e-06, 'num_leaves': 179, 'feature_fraction': 0.4927530827814409, 'bagging_fraction': 0.5461429605344315, 'bagging_freq': 1, 'min_child_samples': 10}. Best is trial 11 with value: 0.8974854932301741.\u001b[0m\n",
      "\u001b[32m[I 2021-12-05 21:21:54,902]\u001b[0m Trial 48 finished with value: 0.8893617021276595 and parameters: {'lambda_l1': 1.5808771905719835e-07, 'lambda_l2': 6.609000341906661e-08, 'num_leaves': 135, 'feature_fraction': 0.6973257647192239, 'bagging_fraction': 0.6281778866450897, 'bagging_freq': 4, 'min_child_samples': 70}. Best is trial 11 with value: 0.8974854932301741.\u001b[0m\n",
      "\u001b[32m[I 2021-12-05 21:22:01,205]\u001b[0m Trial 49 finished with value: 0.8901353965183753 and parameters: {'lambda_l1': 1.6276750498521189, 'lambda_l2': 2.3890490605439632e-05, 'num_leaves': 191, 'feature_fraction': 0.5302310150915457, 'bagging_fraction': 0.69587697096824, 'bagging_freq': 2, 'min_child_samples': 27}. Best is trial 11 with value: 0.8974854932301741.\u001b[0m\n",
      "\u001b[32m[I 2021-12-05 21:22:07,683]\u001b[0m Trial 50 finished with value: 0.895164410058027 and parameters: {'lambda_l1': 0.005151395056558823, 'lambda_l2': 2.1890601516036977e-07, 'num_leaves': 211, 'feature_fraction': 0.5669542162253594, 'bagging_fraction': 0.5911520668693938, 'bagging_freq': 3, 'min_child_samples': 18}. Best is trial 11 with value: 0.8974854932301741.\u001b[0m\n",
      "\u001b[32m[I 2021-12-05 21:22:14,082]\u001b[0m Trial 51 finished with value: 0.8940038684719536 and parameters: {'lambda_l1': 0.005655672516519838, 'lambda_l2': 2.727785569436803e-07, 'num_leaves': 241, 'feature_fraction': 0.5669773806432689, 'bagging_fraction': 0.5888648034829312, 'bagging_freq': 3, 'min_child_samples': 19}. Best is trial 11 with value: 0.8974854932301741.\u001b[0m\n",
      "\u001b[32m[I 2021-12-05 21:22:20,051]\u001b[0m Trial 52 finished with value: 0.8912959381044487 and parameters: {'lambda_l1': 0.03196531359123042, 'lambda_l2': 5.307074758238893e-07, 'num_leaves': 211, 'feature_fraction': 0.6125831368160815, 'bagging_fraction': 0.5578357706125894, 'bagging_freq': 3, 'min_child_samples': 9}. Best is trial 11 with value: 0.8974854932301741.\u001b[0m\n",
      "\u001b[32m[I 2021-12-05 21:22:26,374]\u001b[0m Trial 53 finished with value: 0.8912959381044487 and parameters: {'lambda_l1': 0.00046532529313480765, 'lambda_l2': 3.154493076219611e-08, 'num_leaves': 199, 'feature_fraction': 0.5866595927101721, 'bagging_fraction': 0.6387417838037848, 'bagging_freq': 4, 'min_child_samples': 23}. Best is trial 11 with value: 0.8974854932301741.\u001b[0m\n",
      "\u001b[32m[I 2021-12-05 21:22:32,179]\u001b[0m Trial 54 finished with value: 0.8916827852998066 and parameters: {'lambda_l1': 0.0024949907075405833, 'lambda_l2': 8.58154640921602e-08, 'num_leaves': 173, 'feature_fraction': 0.6443707478598926, 'bagging_fraction': 0.5983335749895493, 'bagging_freq': 2, 'min_child_samples': 37}. Best is trial 11 with value: 0.8974854932301741.\u001b[0m\n",
      "\u001b[32m[I 2021-12-05 21:22:38,286]\u001b[0m Trial 55 finished with value: 0.8936170212765957 and parameters: {'lambda_l1': 0.13813812519615745, 'lambda_l2': 8.272740852419343, 'num_leaves': 161, 'feature_fraction': 0.5512931264292172, 'bagging_fraction': 0.9643322214392478, 'bagging_freq': 3, 'min_child_samples': 17}. Best is trial 11 with value: 0.8974854932301741.\u001b[0m\n",
      "\u001b[32m[I 2021-12-05 21:22:45,414]\u001b[0m Trial 56 finished with value: 0.893230174081238 and parameters: {'lambda_l1': 0.011700279807795, 'lambda_l2': 1.0769360614775212e-05, 'num_leaves': 229, 'feature_fraction': 0.7355671624915749, 'bagging_fraction': 0.7715109632031397, 'bagging_freq': 1, 'min_child_samples': 29}. Best is trial 11 with value: 0.8974854932301741.\u001b[0m\n",
      "\u001b[32m[I 2021-12-05 21:22:53,194]\u001b[0m Trial 57 finished with value: 0.8940038684719536 and parameters: {'lambda_l1': 4.739961850964787e-07, 'lambda_l2': 0.0005853925160622201, 'num_leaves': 215, 'feature_fraction': 0.5307128873409667, 'bagging_fraction': 0.6786330029771541, 'bagging_freq': 2, 'min_child_samples': 11}. Best is trial 11 with value: 0.8974854932301741.\u001b[0m\n",
      "\u001b[32m[I 2021-12-05 21:23:01,188]\u001b[0m Trial 58 finished with value: 0.8916827852998066 and parameters: {'lambda_l1': 0.0001663497796193862, 'lambda_l2': 0.00019112245893150508, 'num_leaves': 186, 'feature_fraction': 0.4978369993065955, 'bagging_fraction': 0.5290944405028971, 'bagging_freq': 3, 'min_child_samples': 8}. Best is trial 11 with value: 0.8974854932301741.\u001b[0m\n",
      "\u001b[32m[I 2021-12-05 21:23:06,969]\u001b[0m Trial 59 finished with value: 0.8909090909090909 and parameters: {'lambda_l1': 0.05372667028538858, 'lambda_l2': 0.002581059960515649, 'num_leaves': 78, 'feature_fraction': 0.5696429706925525, 'bagging_fraction': 0.655304597898563, 'bagging_freq': 1, 'min_child_samples': 16}. Best is trial 11 with value: 0.8974854932301741.\u001b[0m\n",
      "\u001b[32m[I 2021-12-05 21:23:13,034]\u001b[0m Trial 60 finished with value: 0.8905222437137331 and parameters: {'lambda_l1': 0.0013419811903173067, 'lambda_l2': 0.007477785976027524, 'num_leaves': 123, 'feature_fraction': 0.6264012236061598, 'bagging_fraction': 0.7211510245924826, 'bagging_freq': 2, 'min_child_samples': 22}. Best is trial 11 with value: 0.8974854932301741.\u001b[0m\n",
      "\u001b[32m[I 2021-12-05 21:23:18,224]\u001b[0m Trial 61 finished with value: 0.8963249516441005 and parameters: {'lambda_l1': 0.19215060292696012, 'lambda_l2': 0.048332405138484184, 'num_leaves': 164, 'feature_fraction': 0.5986395018812077, 'bagging_fraction': 0.8054645662896993, 'bagging_freq': 2, 'min_child_samples': 6}. Best is trial 11 with value: 0.8974854932301741.\u001b[0m\n",
      "\u001b[32m[I 2021-12-05 21:23:22,709]\u001b[0m Trial 62 finished with value: 0.8793036750483559 and parameters: {'lambda_l1': 7.593556087726792, 'lambda_l2': 0.15073887919826964, 'num_leaves': 145, 'feature_fraction': 0.600359644031663, 'bagging_fraction': 0.8066279244086167, 'bagging_freq': 1, 'min_child_samples': 8}. Best is trial 11 with value: 0.8974854932301741.\u001b[0m\n",
      "\u001b[32m[I 2021-12-05 21:23:29,751]\u001b[0m Trial 63 finished with value: 0.8905222437137331 and parameters: {'lambda_l1': 1.9758664954277784e-05, 'lambda_l2': 0.04817807062176694, 'num_leaves': 198, 'feature_fraction': 0.6855228434673828, 'bagging_fraction': 0.6258343011989859, 'bagging_freq': 2, 'min_child_samples': 15}. Best is trial 11 with value: 0.8974854932301741.\u001b[0m\n",
      "\u001b[32m[I 2021-12-05 21:23:34,796]\u001b[0m Trial 64 finished with value: 0.8970986460348163 and parameters: {'lambda_l1': 0.19363584065458675, 'lambda_l2': 1.1193060289144776, 'num_leaves': 170, 'feature_fraction': 0.5284850005689711, 'bagging_fraction': 0.56731389072184, 'bagging_freq': 3, 'min_child_samples': 5}. Best is trial 11 with value: 0.8974854932301741.\u001b[0m\n",
      "\u001b[32m[I 2021-12-05 21:23:40,678]\u001b[0m Trial 65 finished with value: 0.8959381044487428 and parameters: {'lambda_l1': 0.252662917982196, 'lambda_l2': 0.3973720954094789, 'num_leaves': 175, 'feature_fraction': 0.5315835405184484, 'bagging_fraction': 0.9006508157278077, 'bagging_freq': 4, 'min_child_samples': 5}. Best is trial 11 with value: 0.8974854932301741.\u001b[0m\n",
      "\u001b[32m[I 2021-12-05 21:23:46,620]\u001b[0m Trial 66 finished with value: 0.893230174081238 and parameters: {'lambda_l1': 0.22377628882187528, 'lambda_l2': 0.4314865547035532, 'num_leaves': 164, 'feature_fraction': 0.4720177090202825, 'bagging_fraction': 0.9037234586020111, 'bagging_freq': 4, 'min_child_samples': 7}. Best is trial 11 with value: 0.8974854932301741.\u001b[0m\n",
      "\u001b[32m[I 2021-12-05 21:23:52,882]\u001b[0m Trial 67 finished with value: 0.8916827852998066 and parameters: {'lambda_l1': 2.8907425358255696, 'lambda_l2': 1.0106671642137395, 'num_leaves': 179, 'feature_fraction': 0.5279854713448341, 'bagging_fraction': 0.9487086974919426, 'bagging_freq': 4, 'min_child_samples': 5}. Best is trial 11 with value: 0.8974854932301741.\u001b[0m\n"
     ]
    },
    {
     "name": "stderr",
     "output_type": "stream",
     "text": [
      "\u001b[32m[I 2021-12-05 21:23:59,351]\u001b[0m Trial 68 finished with value: 0.8889748549323018 and parameters: {'lambda_l1': 1.0270117980040216, 'lambda_l2': 2.9289718169424876, 'num_leaves': 153, 'feature_fraction': 0.4249506002159005, 'bagging_fraction': 0.9299590625619882, 'bagging_freq': 5, 'min_child_samples': 11}. Best is trial 11 with value: 0.8974854932301741.\u001b[0m\n",
      "\u001b[32m[I 2021-12-05 21:24:05,485]\u001b[0m Trial 69 finished with value: 0.8905222437137331 and parameters: {'lambda_l1': 0.20378934967558104, 'lambda_l2': 0.4876320185868021, 'num_leaves': 173, 'feature_fraction': 0.4553729770298968, 'bagging_fraction': 0.9729775653843744, 'bagging_freq': 4, 'min_child_samples': 12}. Best is trial 11 with value: 0.8974854932301741.\u001b[0m\n",
      "\u001b[32m[I 2021-12-05 21:24:12,112]\u001b[0m Trial 70 finished with value: 0.8947775628626693 and parameters: {'lambda_l1': 0.058141504901147514, 'lambda_l2': 0.16762260693423908, 'num_leaves': 186, 'feature_fraction': 0.5092474967998203, 'bagging_fraction': 0.8455397847954201, 'bagging_freq': 3, 'min_child_samples': 5}. Best is trial 11 with value: 0.8974854932301741.\u001b[0m\n",
      "\u001b[32m[I 2021-12-05 21:24:18,529]\u001b[0m Trial 71 finished with value: 0.8928433268858801 and parameters: {'lambda_l1': 0.4235217215524057, 'lambda_l2': 0.0763804077919166, 'num_leaves': 196, 'feature_fraction': 0.5897295633213242, 'bagging_fraction': 0.8816026688367908, 'bagging_freq': 3, 'min_child_samples': 13}. Best is trial 11 with value: 0.8974854932301741.\u001b[0m\n",
      "\u001b[32m[I 2021-12-05 21:24:24,250]\u001b[0m Trial 72 finished with value: 0.8901353965183753 and parameters: {'lambda_l1': 0.09537704789836984, 'lambda_l2': 1.7066550695428826, 'num_leaves': 210, 'feature_fraction': 0.5561785343874465, 'bagging_fraction': 0.5647806231944726, 'bagging_freq': 3, 'min_child_samples': 7}. Best is trial 11 with value: 0.8974854932301741.\u001b[0m\n",
      "\u001b[32m[I 2021-12-05 21:24:30,291]\u001b[0m Trial 73 finished with value: 0.8924564796905222 and parameters: {'lambda_l1': 0.023408828268452673, 'lambda_l2': 0.263651754811127, 'num_leaves': 170, 'feature_fraction': 0.5377229685097307, 'bagging_fraction': 0.8181465809391375, 'bagging_freq': 4, 'min_child_samples': 18}. Best is trial 11 with value: 0.8974854932301741.\u001b[0m\n",
      "\u001b[32m[I 2021-12-05 21:24:35,207]\u001b[0m Trial 74 finished with value: 0.888201160541586 and parameters: {'lambda_l1': 8.966490456274312e-08, 'lambda_l2': 4.104965101235253, 'num_leaves': 155, 'feature_fraction': 0.48794657898565685, 'bagging_fraction': 0.5778151934417997, 'bagging_freq': 3, 'min_child_samples': 14}. Best is trial 11 with value: 0.8974854932301741.\u001b[0m\n",
      "\u001b[32m[I 2021-12-05 21:24:40,562]\u001b[0m Trial 75 finished with value: 0.8912959381044487 and parameters: {'lambda_l1': 1.6721931830731848e-08, 'lambda_l2': 0.9649717352181663, 'num_leaves': 220, 'feature_fraction': 0.6078361133044279, 'bagging_fraction': 0.93689225310303, 'bagging_freq': 3, 'min_child_samples': 52}. Best is trial 11 with value: 0.8974854932301741.\u001b[0m\n",
      "\u001b[32m[I 2021-12-05 21:24:45,575]\u001b[0m Trial 76 finished with value: 0.8924564796905222 and parameters: {'lambda_l1': 0.7408447114173573, 'lambda_l2': 0.28516267778037707, 'num_leaves': 165, 'feature_fraction': 0.5179442723361133, 'bagging_fraction': 0.6924564705672765, 'bagging_freq': 1, 'min_child_samples': 25}. Best is trial 11 with value: 0.8974854932301741.\u001b[0m\n",
      "\u001b[32m[I 2021-12-05 21:24:51,440]\u001b[0m Trial 77 finished with value: 0.895164410058027 and parameters: {'lambda_l1': 0.007688069858918051, 'lambda_l2': 0.013665464673600596, 'num_leaves': 178, 'feature_fraction': 0.577612779341808, 'bagging_fraction': 0.9147681781762916, 'bagging_freq': 3, 'min_child_samples': 8}. Best is trial 11 with value: 0.8974854932301741.\u001b[0m\n",
      "\u001b[32m[I 2021-12-05 21:24:57,506]\u001b[0m Trial 78 finished with value: 0.8916827852998066 and parameters: {'lambda_l1': 0.3352347823441912, 'lambda_l2': 0.01257260180947888, 'num_leaves': 176, 'feature_fraction': 0.8105496692097964, 'bagging_fraction': 0.9104661243160033, 'bagging_freq': 4, 'min_child_samples': 8}. Best is trial 11 with value: 0.8974854932301741.\u001b[0m\n",
      "\u001b[32m[I 2021-12-05 21:25:03,448]\u001b[0m Trial 79 finished with value: 0.8955512572533849 and parameters: {'lambda_l1': 0.13318675474119845, 'lambda_l2': 0.015540347647188547, 'num_leaves': 148, 'feature_fraction': 0.5826974314116357, 'bagging_fraction': 0.9717762512406014, 'bagging_freq': 6, 'min_child_samples': 5}. Best is trial 11 with value: 0.8974854932301741.\u001b[0m\n",
      "\u001b[32m[I 2021-12-05 21:25:09,514]\u001b[0m Trial 80 finished with value: 0.8943907156673114 and parameters: {'lambda_l1': 0.13293112196680287, 'lambda_l2': 0.00043351117596138113, 'num_leaves': 131, 'feature_fraction': 0.5407969880799164, 'bagging_fraction': 0.9954316065896334, 'bagging_freq': 6, 'min_child_samples': 5}. Best is trial 11 with value: 0.8974854932301741.\u001b[0m\n",
      "\u001b[32m[I 2021-12-05 21:25:15,478]\u001b[0m Trial 81 finished with value: 0.8955512572533849 and parameters: {'lambda_l1': 0.058957079238100264, 'lambda_l2': 0.019423257932958567, 'num_leaves': 157, 'feature_fraction': 0.5804983205941655, 'bagging_fraction': 0.9748559378367181, 'bagging_freq': 6, 'min_child_samples': 11}. Best is trial 11 with value: 0.8974854932301741.\u001b[0m\n",
      "\u001b[32m[I 2021-12-05 21:25:21,195]\u001b[0m Trial 82 finished with value: 0.8963249516441005 and parameters: {'lambda_l1': 0.057062333156759334, 'lambda_l2': 0.0017299691308999812, 'num_leaves': 146, 'feature_fraction': 0.6381224418781505, 'bagging_fraction': 0.9732535514801783, 'bagging_freq': 7, 'min_child_samples': 11}. Best is trial 11 with value: 0.8974854932301741.\u001b[0m\n",
      "\u001b[32m[I 2021-12-05 21:25:28,022]\u001b[0m Trial 83 finished with value: 0.895164410058027 and parameters: {'lambda_l1': 0.189762782161329, 'lambda_l2': 0.0015795559058269328, 'num_leaves': 148, 'feature_fraction': 0.6472860228328804, 'bagging_fraction': 0.9446890688393967, 'bagging_freq': 7, 'min_child_samples': 15}. Best is trial 11 with value: 0.8974854932301741.\u001b[0m\n",
      "\u001b[32m[I 2021-12-05 21:25:33,591]\u001b[0m Trial 84 finished with value: 0.8928433268858801 and parameters: {'lambda_l1': 0.06821846422896052, 'lambda_l2': 0.00014840145158713733, 'num_leaves': 159, 'feature_fraction': 0.66905276894149, 'bagging_fraction': 0.9703761501200693, 'bagging_freq': 7, 'min_child_samples': 12}. Best is trial 11 with value: 0.8974854932301741.\u001b[0m\n",
      "\u001b[32m[I 2021-12-05 21:25:39,961]\u001b[0m Trial 85 finished with value: 0.8947775628626693 and parameters: {'lambda_l1': 0.03695898597291172, 'lambda_l2': 0.005739850666243183, 'num_leaves': 166, 'feature_fraction': 0.5991649194897724, 'bagging_fraction': 0.8865867700234876, 'bagging_freq': 5, 'min_child_samples': 5}. Best is trial 11 with value: 0.8974854932301741.\u001b[0m\n",
      "\u001b[32m[I 2021-12-05 21:25:44,986]\u001b[0m Trial 86 finished with value: 0.8940038684719536 and parameters: {'lambda_l1': 0.9554742735384285, 'lambda_l2': 0.0012432984448859524, 'num_leaves': 141, 'feature_fraction': 0.6299419762812892, 'bagging_fraction': 0.9557220445540434, 'bagging_freq': 7, 'min_child_samples': 9}. Best is trial 11 with value: 0.8974854932301741.\u001b[0m\n",
      "\u001b[32m[I 2021-12-05 21:25:51,699]\u001b[0m Trial 87 finished with value: 0.8967117988394584 and parameters: {'lambda_l1': 0.02154470716757955, 'lambda_l2': 0.02766303609382466, 'num_leaves': 186, 'feature_fraction': 0.5551813156689511, 'bagging_fraction': 0.9189954473151192, 'bagging_freq': 6, 'min_child_samples': 11}. Best is trial 11 with value: 0.8974854932301741.\u001b[0m\n",
      "\u001b[32m[I 2021-12-05 21:25:57,918]\u001b[0m Trial 88 finished with value: 0.8897485493230174 and parameters: {'lambda_l1': 0.022477165474367344, 'lambda_l2': 7.284958706115709e-05, 'num_leaves': 183, 'feature_fraction': 0.9441247611078324, 'bagging_fraction': 0.920353289346038, 'bagging_freq': 5, 'min_child_samples': 58}. Best is trial 11 with value: 0.8974854932301741.\u001b[0m\n",
      "\u001b[32m[I 2021-12-05 21:26:04,212]\u001b[0m Trial 89 finished with value: 0.8959381044487428 and parameters: {'lambda_l1': 0.009391920057338913, 'lambda_l2': 0.06303648776652343, 'num_leaves': 191, 'feature_fraction': 0.5587486453696656, 'bagging_fraction': 0.9869791682545179, 'bagging_freq': 7, 'min_child_samples': 20}. Best is trial 11 with value: 0.8974854932301741.\u001b[0m\n",
      "\u001b[32m[I 2021-12-05 21:26:09,228]\u001b[0m Trial 90 finished with value: 0.8916827852998066 and parameters: {'lambda_l1': 0.03353431817320254, 'lambda_l2': 2.9620588165947513e-05, 'num_leaves': 169, 'feature_fraction': 0.5460854969822624, 'bagging_fraction': 0.8618513381597392, 'bagging_freq': 1, 'min_child_samples': 81}. Best is trial 11 with value: 0.8974854932301741.\u001b[0m\n"
     ]
    },
    {
     "name": "stderr",
     "output_type": "stream",
     "text": [
      "\u001b[32m[I 2021-12-05 21:26:14,706]\u001b[0m Trial 91 finished with value: 0.8947775628626693 and parameters: {'lambda_l1': 0.008764365000714428, 'lambda_l2': 0.051098278854130645, 'num_leaves': 191, 'feature_fraction': 0.5581908118063607, 'bagging_fraction': 0.9891078397153765, 'bagging_freq': 7, 'min_child_samples': 20}. Best is trial 11 with value: 0.8974854932301741.\u001b[0m\n",
      "\u001b[32m[I 2021-12-05 21:26:20,661]\u001b[0m Trial 92 finished with value: 0.8955512572533849 and parameters: {'lambda_l1': 0.016902343253168438, 'lambda_l2': 0.10169651879917987, 'num_leaves': 202, 'feature_fraction': 0.5004094215072877, 'bagging_fraction': 0.9558145209313077, 'bagging_freq': 7, 'min_child_samples': 16}. Best is trial 11 with value: 0.8974854932301741.\u001b[0m\n",
      "\u001b[32m[I 2021-12-05 21:26:27,130]\u001b[0m Trial 93 finished with value: 0.8963249516441005 and parameters: {'lambda_l1': 4.050194136630334e-08, 'lambda_l2': 0.024485064385581404, 'num_leaves': 186, 'feature_fraction': 0.6170180678259823, 'bagging_fraction': 0.9855075501318169, 'bagging_freq': 6, 'min_child_samples': 10}. Best is trial 11 with value: 0.8974854932301741.\u001b[0m\n",
      "\u001b[32m[I 2021-12-05 21:26:33,801]\u001b[0m Trial 94 finished with value: 0.8955512572533849 and parameters: {'lambda_l1': 2.9195165311406032e-08, 'lambda_l2': 0.02651973156569338, 'num_leaves': 187, 'feature_fraction': 0.6182206812707308, 'bagging_fraction': 0.9994161221392552, 'bagging_freq': 6, 'min_child_samples': 13}. Best is trial 11 with value: 0.8974854932301741.\u001b[0m\n",
      "\u001b[32m[I 2021-12-05 21:26:40,330]\u001b[0m Trial 95 finished with value: 0.8963249516441005 and parameters: {'lambda_l1': 4.349173802891654e-08, 'lambda_l2': 0.002026602479575202, 'num_leaves': 205, 'feature_fraction': 0.6366122568867351, 'bagging_fraction': 0.7087057956543189, 'bagging_freq': 7, 'min_child_samples': 10}. Best is trial 11 with value: 0.8974854932301741.\u001b[0m\n",
      "\u001b[32m[I 2021-12-05 21:26:46,437]\u001b[0m Trial 96 finished with value: 0.8940038684719536 and parameters: {'lambda_l1': 1.1033611640302505e-07, 'lambda_l2': 0.0018316048084622242, 'num_leaves': 207, 'feature_fraction': 0.6410763925101288, 'bagging_fraction': 0.7551099172537218, 'bagging_freq': 7, 'min_child_samples': 10}. Best is trial 11 with value: 0.8974854932301741.\u001b[0m\n",
      "\u001b[32m[I 2021-12-05 21:26:52,558]\u001b[0m Trial 97 finished with value: 0.8940038684719536 and parameters: {'lambda_l1': 1.2842637207155143e-08, 'lambda_l2': 0.00033028666907124703, 'num_leaves': 198, 'feature_fraction': 0.6578815070449232, 'bagging_fraction': 0.7397879695075215, 'bagging_freq': 6, 'min_child_samples': 7}. Best is trial 11 with value: 0.8974854932301741.\u001b[0m\n",
      "\u001b[32m[I 2021-12-05 21:26:58,685]\u001b[0m Trial 98 finished with value: 0.8924564796905222 and parameters: {'lambda_l1': 5.549410739613085e-08, 'lambda_l2': 0.003398545649028871, 'num_leaves': 183, 'feature_fraction': 0.673957631608043, 'bagging_fraction': 0.6632070795092107, 'bagging_freq': 6, 'min_child_samples': 10}. Best is trial 11 with value: 0.8974854932301741.\u001b[0m\n",
      "\u001b[32m[I 2021-12-05 21:27:05,570]\u001b[0m Trial 99 finished with value: 0.8943907156673114 and parameters: {'lambda_l1': 3.562344394297566e-08, 'lambda_l2': 0.0006714050355587901, 'num_leaves': 238, 'feature_fraction': 0.6106656814858485, 'bagging_fraction': 0.7912413761936082, 'bagging_freq': 7, 'min_child_samples': 14}. Best is trial 11 with value: 0.8974854932301741.\u001b[0m\n"
     ]
    },
    {
     "name": "stdout",
     "output_type": "stream",
     "text": [
      "Number of finished trials: 100\n",
      "Best trial:\n",
      "  Value: 0.8974854932301741\n",
      "  Params: \n",
      "    lambda_l1: 3.351610838383845e-08\n",
      "    lambda_l2: 9.263411621971444e-05\n",
      "    num_leaves: 185\n",
      "    feature_fraction: 0.6026657835557594\n",
      "    bagging_fraction: 0.6040938235913128\n",
      "    bagging_freq: 1\n",
      "    min_child_samples: 5\n"
     ]
    }
   ],
   "source": [
    "study2 = optuna.create_study(direction=\"maximize\")\n",
    "study2.optimize(objective, n_trials=100)\n",
    "print(\"Number of finished trials: {}\".format(len(study2.trials)))\n",
    "\n",
    "print(\"Best trial:\")\n",
    "trial = study2.best_trial\n",
    "\n",
    "print(\"  Value: {}\".format(trial.value))\n",
    "\n",
    "print(\"  Params: \")\n",
    "for key, value in trial.params.items():\n",
    "    print(\"    {}: {}\".format(key, value))"
   ]
  },
  {
   "cell_type": "markdown",
   "id": "041f9989",
   "metadata": {},
   "source": [
    "### validacion modelo LightGBM Optimizado"
   ]
  },
  {
   "cell_type": "code",
   "execution_count": 103,
   "id": "7bcc5b04",
   "metadata": {},
   "outputs": [],
   "source": [
    "train_data = lgb.Dataset(X_train, label=y_train)\n",
    "valid_data = lgb.Dataset(X_test, label=y_test, reference=train_data)"
   ]
  },
  {
   "cell_type": "code",
   "execution_count": 113,
   "id": "35527518",
   "metadata": {},
   "outputs": [],
   "source": [
    "## parametros para el modelo lightGBM search \n",
    "SEARCH_PARAMETROS = {'learning_rate': 0.4,\n",
    "                'max_depth': 15,\n",
    "                #'num_leaves': 32,\n",
    "                #'feature_fraction': 0.8,\n",
    "                'subsample': 0.2}\n",
    "\n",
    "FIXED_PARAMETROS={'objective': 'multiclass',\n",
    "             'metric': 'multi_logloss',\n",
    "             'num_class':4,\n",
    "             \"verbosity\": -1,\n",
    "             'is_unbalance':False,\n",
    "             'bagging_freq':1,\n",
    "             'boosting':'dart',\n",
    "             'num_boost_round':300,\n",
    "             \"lambda_l1\":3.351610838383845e-08,\n",
    "             \"lambda_l2\":9.263411621971444e-05,\n",
    "             \"num_leaves\":185,\n",
    "             \"feature_fraction\":0.6026657835557594,\n",
    "             \"bagging_fraction\":0.6040938235913128,\n",
    "             \"bagging_freq\":1,\n",
    "             \"min_child_samples\":5,\n",
    "             'early_stopping_rounds':30}\n"
   ]
  },
  {
   "cell_type": "code",
   "execution_count": 114,
   "id": "894e2b4f",
   "metadata": {},
   "outputs": [],
   "source": [
    "params = {'metric':FIXED_PARAMETROS['metric'],\n",
    "             'objective':FIXED_PARAMETROS['objective'],'num_class':FIXED_PARAMETROS['num_class'],**SEARCH_PARAMETROS}"
   ]
  },
  {
   "cell_type": "code",
   "execution_count": 115,
   "id": "7854301a",
   "metadata": {},
   "outputs": [
    {
     "name": "stdout",
     "output_type": "stream",
     "text": [
      "[LightGBM] [Warning] Accuracy may be bad since you didn't explicitly set num_leaves OR 2^max_depth > num_leaves. (num_leaves=31).\n",
      "[LightGBM] [Warning] Accuracy may be bad since you didn't explicitly set num_leaves OR 2^max_depth > num_leaves. (num_leaves=31).\n",
      "[LightGBM] [Warning] Accuracy may be bad since you didn't explicitly set num_leaves OR 2^max_depth > num_leaves. (num_leaves=31).\n",
      "[LightGBM] [Warning] Accuracy may be bad since you didn't explicitly set num_leaves OR 2^max_depth > num_leaves. (num_leaves=31).\n",
      "[LightGBM] [Warning] Accuracy may be bad since you didn't explicitly set num_leaves OR 2^max_depth > num_leaves. (num_leaves=31).\n",
      "[LightGBM] [Warning] Auto-choosing col-wise multi-threading, the overhead of testing was 0.000996 seconds.\n",
      "You can set `force_col_wise=true` to remove the overhead.\n",
      "[LightGBM] [Info] Total Bins 1784\n",
      "[LightGBM] [Info] Number of data points in the train set: 33052, number of used features: 7\n",
      "[LightGBM] [Info] Start training from score -1.386294\n",
      "[LightGBM] [Info] Start training from score -1.386294\n",
      "[LightGBM] [Info] Start training from score -1.386294\n",
      "[LightGBM] [Info] Start training from score -1.386294\n",
      "[1]\tvalid's multi_logloss: 0.803425\n",
      "Training until validation scores don't improve for 30 rounds\n",
      "[2]\tvalid's multi_logloss: 0.606591\n",
      "[3]\tvalid's multi_logloss: 0.514937\n",
      "[4]\tvalid's multi_logloss: 0.450145\n",
      "[5]\tvalid's multi_logloss: 0.414306\n",
      "[6]\tvalid's multi_logloss: 0.388833\n",
      "[7]\tvalid's multi_logloss: 0.370222\n",
      "[8]\tvalid's multi_logloss: 0.361681\n",
      "[9]\tvalid's multi_logloss: 0.352315\n",
      "[10]\tvalid's multi_logloss: 0.342812\n",
      "[11]\tvalid's multi_logloss: 0.334117\n",
      "[12]\tvalid's multi_logloss: 0.332831\n",
      "[13]\tvalid's multi_logloss: 0.329382\n",
      "[14]\tvalid's multi_logloss: 0.325808\n",
      "[15]\tvalid's multi_logloss: 0.324078\n",
      "[16]\tvalid's multi_logloss: 0.321502\n",
      "[17]\tvalid's multi_logloss: 0.320301\n",
      "[18]\tvalid's multi_logloss: 0.319781\n",
      "[19]\tvalid's multi_logloss: 0.318209\n",
      "[20]\tvalid's multi_logloss: 0.322752\n",
      "[21]\tvalid's multi_logloss: 0.314132\n",
      "[22]\tvalid's multi_logloss: 0.311382\n",
      "[23]\tvalid's multi_logloss: 0.309834\n",
      "[24]\tvalid's multi_logloss: 0.308533\n",
      "[25]\tvalid's multi_logloss: 0.308713\n",
      "[26]\tvalid's multi_logloss: 0.309366\n",
      "[27]\tvalid's multi_logloss: 0.308704\n",
      "[28]\tvalid's multi_logloss: 0.307289\n",
      "[29]\tvalid's multi_logloss: 0.306303\n",
      "[30]\tvalid's multi_logloss: 0.308041\n",
      "[31]\tvalid's multi_logloss: 0.308035\n",
      "[32]\tvalid's multi_logloss: 0.307389\n",
      "[33]\tvalid's multi_logloss: 0.308865\n",
      "[34]\tvalid's multi_logloss: 0.309342\n",
      "[35]\tvalid's multi_logloss: 0.310822\n",
      "[36]\tvalid's multi_logloss: 0.310871\n",
      "[37]\tvalid's multi_logloss: 0.311031\n",
      "[38]\tvalid's multi_logloss: 0.311932\n",
      "[39]\tvalid's multi_logloss: 0.312781\n",
      "[40]\tvalid's multi_logloss: 0.313751\n",
      "[41]\tvalid's multi_logloss: 0.314776\n",
      "[LightGBM] [Warning] No further splits with positive gain, best gain: -inf\n",
      "[42]\tvalid's multi_logloss: 0.314055\n",
      "[LightGBM] [Warning] No further splits with positive gain, best gain: -inf\n",
      "[43]\tvalid's multi_logloss: 0.314204\n",
      "[LightGBM] [Warning] No further splits with positive gain, best gain: -inf\n",
      "[44]\tvalid's multi_logloss: 0.315452\n",
      "[LightGBM] [Warning] No further splits with positive gain, best gain: -inf\n",
      "[45]\tvalid's multi_logloss: 0.316595\n",
      "[LightGBM] [Warning] No further splits with positive gain, best gain: -inf\n",
      "[46]\tvalid's multi_logloss: 0.317168\n",
      "[LightGBM] [Warning] No further splits with positive gain, best gain: -inf\n",
      "[47]\tvalid's multi_logloss: 0.316865\n",
      "[LightGBM] [Warning] No further splits with positive gain, best gain: -inf\n",
      "[48]\tvalid's multi_logloss: 0.316885\n",
      "[LightGBM] [Warning] No further splits with positive gain, best gain: -inf\n",
      "[49]\tvalid's multi_logloss: 0.316952\n",
      "[LightGBM] [Warning] No further splits with positive gain, best gain: -inf\n",
      "[50]\tvalid's multi_logloss: 0.318122\n",
      "[LightGBM] [Warning] No further splits with positive gain, best gain: -inf\n",
      "[51]\tvalid's multi_logloss: 0.319162\n",
      "[LightGBM] [Warning] No further splits with positive gain, best gain: -inf\n",
      "[52]\tvalid's multi_logloss: 0.319763\n",
      "[LightGBM] [Warning] No further splits with positive gain, best gain: -inf\n",
      "[53]\tvalid's multi_logloss: 0.321555\n",
      "[LightGBM] [Warning] No further splits with positive gain, best gain: -inf\n",
      "[54]\tvalid's multi_logloss: 0.321546\n",
      "[LightGBM] [Warning] No further splits with positive gain, best gain: -inf\n",
      "[55]\tvalid's multi_logloss: 0.321823\n",
      "[LightGBM] [Warning] No further splits with positive gain, best gain: -inf\n",
      "[56]\tvalid's multi_logloss: 0.323313\n",
      "[LightGBM] [Warning] No further splits with positive gain, best gain: -inf\n",
      "[57]\tvalid's multi_logloss: 0.324899\n",
      "[LightGBM] [Warning] No further splits with positive gain, best gain: -inf\n",
      "[58]\tvalid's multi_logloss: 0.324758\n",
      "[LightGBM] [Warning] No further splits with positive gain, best gain: -inf\n",
      "[59]\tvalid's multi_logloss: 0.325159\n",
      "Early stopping, best iteration is:\n",
      "[29]\tvalid's multi_logloss: 0.306303\n"
     ]
    }
   ],
   "source": [
    "model2_opt = lgb.train(params, train_data,                     \n",
    "                     valid_sets=[valid_data],\n",
    "                     num_boost_round=FIXED_PARAMS['num_boost_round'],\n",
    "                     early_stopping_rounds=FIXED_PARAMS['early_stopping_rounds'],\n",
    "                     valid_names=['valid'])"
   ]
  },
  {
   "cell_type": "code",
   "execution_count": 116,
   "id": "4c08427b",
   "metadata": {},
   "outputs": [],
   "source": [
    "## score de test\n",
    "y_predict_LGBM2 = model2_opt.predict(X_val,num_iteration=model2_opt.best_iteration)"
   ]
  },
  {
   "cell_type": "code",
   "execution_count": 117,
   "id": "5885c578",
   "metadata": {},
   "outputs": [],
   "source": [
    "#convert into binary values\t\n",
    "y_predict_LGBM2 = [np.argmax(line) for line in y_predict_LGBM2]"
   ]
  },
  {
   "cell_type": "code",
   "execution_count": 118,
   "id": "175d1eb9",
   "metadata": {
    "scrolled": true
   },
   "outputs": [
    {
     "name": "stdout",
     "output_type": "stream",
     "text": [
      "              precision    recall  f1-score   support\n",
      "\n",
      "           0       0.53      0.57      0.55        54\n",
      "           1       0.53      0.41      0.46        73\n",
      "           2       0.94      0.96      0.95       904\n",
      "           3       1.00      0.33      0.50         3\n",
      "\n",
      "    accuracy                           0.90      1034\n",
      "   macro avg       0.75      0.57      0.62      1034\n",
      "weighted avg       0.89      0.90      0.89      1034\n",
      "\n",
      "Confusion matrix, without normalization\n",
      "[[ 31   5  18   0]\n",
      " [  8  30  35   0]\n",
      " [ 19  21 864   0]\n",
      " [  0   1   1   1]]\n"
     ]
    },
    {
     "data": {
      "image/png": "[encoded data removed]",
      "text/plain": [
       "<Figure size 432x288 with 2 Axes>"
      ]
     },
     "metadata": {
      "needs_background": "light"
     },
     "output_type": "display_data"
    }
   ],
   "source": [
    "cnf_matrix = confusion_matrix(y_val, y_predict_LGBM2, labels = [0,1,2,3])\n",
    "np.set_printoptions(precision=2)\n",
    "\n",
    "print (classification_report(y_val, y_predict_LGBM2))\n",
    "\n",
    "# Plot non-normalized confusion matrix\n",
    "plt.figure()\n",
    "plot_confusion_matrix(cnf_matrix, classes = [0,1,2,3], normalize= False,  title='Confusion matrix')\n",
    "plt.show()"
   ]
  },
  {
   "cell_type": "markdown",
   "id": "fdf1bd2b",
   "metadata": {},
   "source": [
    "### tabla 3 mejores modelos"
   ]
  },
  {
   "cell_type": "code",
   "execution_count": 152,
   "id": "726b7a49",
   "metadata": {},
   "outputs": [
    {
     "data": {
      "text/html": [
       "<div>\n",
       "<style scoped>\n",
       "    .dataframe tbody tr th:only-of-type {\n",
       "        vertical-align: middle;\n",
       "    }\n",
       "\n",
       "    .dataframe tbody tr th {\n",
       "        vertical-align: top;\n",
       "    }\n",
       "\n",
       "    .dataframe thead th {\n",
       "        text-align: right;\n",
       "    }\n",
       "</style>\n",
       "<table border=\"1\" class=\"dataframe\">\n",
       "  <thead>\n",
       "    <tr style=\"text-align: right;\">\n",
       "      <th></th>\n",
       "      <th>F1-score</th>\n",
       "      <th>Accuracy</th>\n",
       "      <th>Recall</th>\n",
       "      <th>Precision</th>\n",
       "    </tr>\n",
       "    <tr>\n",
       "      <th>Algorithm</th>\n",
       "      <th></th>\n",
       "      <th></th>\n",
       "      <th></th>\n",
       "      <th></th>\n",
       "    </tr>\n",
       "  </thead>\n",
       "  <tbody>\n",
       "    <tr>\n",
       "      <th>KNN</th>\n",
       "      <td>0</td>\n",
       "      <td>0</td>\n",
       "      <td>0</td>\n",
       "      <td>0</td>\n",
       "    </tr>\n",
       "    <tr>\n",
       "      <th>Decision Tree</th>\n",
       "      <td>0</td>\n",
       "      <td>0</td>\n",
       "      <td>0</td>\n",
       "      <td>0</td>\n",
       "    </tr>\n",
       "    <tr>\n",
       "      <th>LightGBM</th>\n",
       "      <td>0</td>\n",
       "      <td>0</td>\n",
       "      <td>0</td>\n",
       "      <td>0</td>\n",
       "    </tr>\n",
       "  </tbody>\n",
       "</table>\n",
       "</div>"
      ],
      "text/plain": [
       "               F1-score  Accuracy  Recall  Precision\n",
       "Algorithm                                           \n",
       "KNN                   0         0       0          0\n",
       "Decision Tree         0         0       0          0\n",
       "LightGBM              0         0       0          0"
      ]
     },
     "execution_count": 152,
     "metadata": {},
     "output_type": "execute_result"
    }
   ],
   "source": [
    "columns=['Algorithm','F1-score','Accuracy','Recall','Precision']\n",
    "matrix=pd.DataFrame([['KNN',0,0,0,0],\n",
    "                     ['Decision Tree',0,0,0,0],\n",
    "                     ['LightGBM',0,0,0,0]],columns=columns)\n",
    "matrix=matrix.set_index('Algorithm')\n",
    "matrix"
   ]
  },
  {
   "cell_type": "code",
   "execution_count": 153,
   "id": "8da2f57a",
   "metadata": {},
   "outputs": [
    {
     "data": {
      "text/html": [
       "<div>\n",
       "<style scoped>\n",
       "    .dataframe tbody tr th:only-of-type {\n",
       "        vertical-align: middle;\n",
       "    }\n",
       "\n",
       "    .dataframe tbody tr th {\n",
       "        vertical-align: top;\n",
       "    }\n",
       "\n",
       "    .dataframe thead th {\n",
       "        text-align: right;\n",
       "    }\n",
       "</style>\n",
       "<table border=\"1\" class=\"dataframe\">\n",
       "  <thead>\n",
       "    <tr style=\"text-align: right;\">\n",
       "      <th></th>\n",
       "      <th>F1-score</th>\n",
       "      <th>Accuracy</th>\n",
       "      <th>Recall</th>\n",
       "      <th>Precision</th>\n",
       "    </tr>\n",
       "    <tr>\n",
       "      <th>Algorithm</th>\n",
       "      <th></th>\n",
       "      <th></th>\n",
       "      <th></th>\n",
       "      <th></th>\n",
       "    </tr>\n",
       "  </thead>\n",
       "  <tbody>\n",
       "    <tr>\n",
       "      <th>KNN</th>\n",
       "      <td>0.783304</td>\n",
       "      <td>0.739845</td>\n",
       "      <td>0.739845</td>\n",
       "      <td>0.846829</td>\n",
       "    </tr>\n",
       "    <tr>\n",
       "      <th>Decision Tree</th>\n",
       "      <td>0.788940</td>\n",
       "      <td>0.748549</td>\n",
       "      <td>0.748549</td>\n",
       "      <td>0.851051</td>\n",
       "    </tr>\n",
       "    <tr>\n",
       "      <th>LightGBM</th>\n",
       "      <td>0.893110</td>\n",
       "      <td>0.897485</td>\n",
       "      <td>0.897485</td>\n",
       "      <td>0.890889</td>\n",
       "    </tr>\n",
       "  </tbody>\n",
       "</table>\n",
       "</div>"
      ],
      "text/plain": [
       "               F1-score  Accuracy    Recall  Precision\n",
       "Algorithm                                             \n",
       "KNN            0.783304  0.739845  0.739845   0.846829\n",
       "Decision Tree  0.788940  0.748549  0.748549   0.851051\n",
       "LightGBM       0.893110  0.897485  0.897485   0.890889"
      ]
     },
     "execution_count": 153,
     "metadata": {},
     "output_type": "execute_result"
    }
   ],
   "source": [
    "matrix.at['KNN',['F1-score','Accuracy','Recall','Precision']] = [f1_KNN,accuracy_KNN,recall_KNN,precision_KNN]\n",
    "matrix.at['Decision Tree',['F1-score','Accuracy','Recall','Precision']] = [f1_DT,accuracy_DT,recall_DT,precision_DT]\n",
    "matrix.at['LightGBM',['F1-score','Accuracy','Recall','Precision']] = [f1_LGBM,accuracy_LGBM,recall_LGBM,precision_LGBM]\n",
    "matrix"
   ]
  },
  {
   "cell_type": "markdown",
   "id": "5d5def0c",
   "metadata": {},
   "source": [
    "### Exporte del Modelo"
   ]
  },
  {
   "cell_type": "code",
   "execution_count": 181,
   "id": "f83e0271",
   "metadata": {},
   "outputs": [
    {
     "data": {
      "text/plain": [
       "['C:\\\\Users\\\\d84088661\\\\model_LGBM.pkl']"
      ]
     },
     "execution_count": 181,
     "metadata": {},
     "output_type": "execute_result"
    }
   ],
   "source": [
    "import joblib\n",
    "filename = r\"C:\\Users\\d84088661\\model_LGBM.pkl\"\n",
    "joblib.dump(model2, filename)"
   ]
  },
  {
   "cell_type": "code",
   "execution_count": null,
   "id": "070942ed",
   "metadata": {},
   "outputs": [],
   "source": []
  }
 ],
 "metadata": {
  "kernelspec": {
   "display_name": "Python 3",
   "language": "python",
   "name": "python3"
  },
  "language_info": {
   "codemirror_mode": {
    "name": "ipython",
    "version": 3
   },
   "file_extension": ".py",
   "mimetype": "text/x-python",
   "name": "python",
   "nbconvert_exporter": "python",
   "pygments_lexer": "ipython3",
   "version": "3.7.6"
  }
 },
 "nbformat": 4,
 "nbformat_minor": 5
}

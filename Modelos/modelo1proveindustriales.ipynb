{
 "cells": [
  {
   "cell_type": "code",
   "execution_count": 3,
   "id": "b5e8f5fe",
   "metadata": {},
   "outputs": [],
   "source": [
    "import pandas as pd\n",
    "import matplotlib.pyplot as plt\n",
    "import seaborn as sns\n",
    "from datetime import datetime\n",
    "from pandas_profiling import ProfileReport\n",
    "from pandas_profiling.utils.cache import cache_file\n",
    "import ppscore as pps\n",
    "import lightgbm as lgb\n",
    "from sklearn.model_selection import GridSearchCV\n",
    "from sklearn.model_selection import train_test_split\n",
    "from sklearn.preprocessing import LabelEncoder, MinMaxScaler\n",
    "from sklearn.metrics import classification_report\n",
    "from sklearn.metrics import accuracy_score\n",
    "from sklearn.metrics import confusion_matrix\n",
    "from sklearn.preprocessing import StandardScaler\n",
    "import numpy as np\n",
    "from sklearn.tree import DecisionTreeClassifier\n",
    "import itertools\n",
    "from sklearn import metrics\n",
    "from sklearn.ensemble import RandomForestClassifier\n",
    "import optuna\n",
    "from collections import Counter\n",
    "from imblearn.over_sampling import SMOTE\n",
    "from sklearn import svm\n",
    "from sklearn.linear_model import LogisticRegression\n",
    "from sklearn.model_selection import cross_val_score\n",
    "from sklearn.model_selection import StratifiedKFold\n",
    "#from sklearn.metrics import log_loss\n",
    "#from sklearn.metrics import jaccard_similarity_score\n",
    "from sklearn.metrics import f1_score, precision_score, jaccard_score, recall_score, log_loss\n",
    "from sklearn.tree import export_graphviz\n",
    "from pydotplus import graph_from_dot_data"
   ]
  },
  {
   "cell_type": "markdown",
   "id": "963e2337",
   "metadata": {},
   "source": [
    "# Análisis exploratorio \"Ordenes de compra PORTAL 1K\"\n",
    "\n",
    "El objetivo del análisis exploratorio de datos es resumir y visualizar las principales características del conjunto de datos para extraer, entender y establecer relación entre variables. Busca determinar las características de mayor impacto a partir de la aplicación de técnicas como:\n",
    "\n",
    "<ol>\n",
    "  <li> Estadística descriptiva</li>\n",
    "  <li> Agrupamiento</li>  \n",
    "  <li> Correlación</li>\n",
    "  <li> Análisis de variaciones</li>\n",
    "</ol>"
   ]
  },
  {
   "cell_type": "markdown",
   "id": "3c46195f",
   "metadata": {},
   "source": [
    "# Acerca del DataSet\n",
    "\n",
    "El DataSet \"Ordenes de compra PORTAL 1K\" corresponde a una muestra de transacciones que realizan los compradores a los proveedores en el portal para los diferentes productos y servicios. Contiene tanto variables numéricas como categóricas. La información de las variables y su contenido se presentan a continuación:\n",
    "\n",
    " NÚMERO PEDIDO           \n",
    " ORDEN NÚMERO           \n",
    " FECHA ORDEN            \n",
    " FECHA ENTREGA          \n",
    " FECHA APROBACIÓN       \n",
    " CATEGORÍA              \n",
    " SUBCATEGORÍA           \n",
    " PROVEEDOR              \n",
    " USUARIO                \n",
    " USUARIO APROBADOR      \n",
    " DIRECCIÓN DE  ENTREGA  \n",
    " DIRECCIÓN FACTURACIÓN  \n",
    " CENTRO COSTO           \n",
    " PRESUPUESTO            \n",
    " comPAÑÍA comPRADORA    \n",
    " ESTADO                 \n",
    " PRODUCTO O SERVICIO    \n",
    " CÓDIGO PRODUCTO        \n",
    " CANTIDAD PEDIDA        \n",
    " CANTIDAD RECIBIDA      \n",
    " PRECIO UNITARIO        \n",
    " PRECIO UNITARIO + IVA  \n",
    " IVA                    \n",
    " TOTAL SIN IVA          \n",
    " TOTAL + IVA            \n",
    " FECHA ÚLTIMO MOVIMIENTO\n"
   ]
  },
  {
   "cell_type": "code",
   "execution_count": 4,
   "id": "904d6e86",
   "metadata": {},
   "outputs": [
    {
     "data": {
      "text/html": [
       "<div>\n",
       "<style scoped>\n",
       "    .dataframe tbody tr th:only-of-type {\n",
       "        vertical-align: middle;\n",
       "    }\n",
       "\n",
       "    .dataframe tbody tr th {\n",
       "        vertical-align: top;\n",
       "    }\n",
       "\n",
       "    .dataframe thead th {\n",
       "        text-align: right;\n",
       "    }\n",
       "</style>\n",
       "<table border=\"1\" class=\"dataframe\">\n",
       "  <thead>\n",
       "    <tr style=\"text-align: right;\">\n",
       "      <th></th>\n",
       "      <th>NÚMERO PEDIDO</th>\n",
       "      <th>ORDEN NÚMERO</th>\n",
       "      <th>FECHA ORDEN</th>\n",
       "      <th>FECHA ENTREGA</th>\n",
       "      <th>FECHA APROBACION</th>\n",
       "      <th>CATEGORÍA</th>\n",
       "      <th>SUBCATEGORIA</th>\n",
       "      <th>PROVEEDOR</th>\n",
       "      <th>USUARIO</th>\n",
       "      <th>USUARIO APROBADOR</th>\n",
       "      <th>...</th>\n",
       "      <th>PRODUCTO O SERVICIO</th>\n",
       "      <th>CODIGO PORTAL</th>\n",
       "      <th>CANTIDAD PEDIDA</th>\n",
       "      <th>CANTIDAD RECIBIDA</th>\n",
       "      <th>PRECIO UNITARIO</th>\n",
       "      <th>PRECIO UNITARIO + IVA</th>\n",
       "      <th>IVA</th>\n",
       "      <th>TOTAL SIN IVA</th>\n",
       "      <th>TOTAL + IVA</th>\n",
       "      <th>FECHA ULTIMO MOVIMIENTO</th>\n",
       "    </tr>\n",
       "  </thead>\n",
       "  <tbody>\n",
       "    <tr>\n",
       "      <th>0</th>\n",
       "      <td># 49561</td>\n",
       "      <td># 2582</td>\n",
       "      <td>11/10/2021</td>\n",
       "      <td>11/10/2021</td>\n",
       "      <td>11/10/2021</td>\n",
       "      <td>Eléctricos y Electrónicos</td>\n",
       "      <td>Lámparas y bombillas y componentes para lámparas</td>\n",
       "      <td>Proveedor 1</td>\n",
       "      <td>Usuario solicitante 1</td>\n",
       "      <td>Usuario Aprobador 1</td>\n",
       "      <td>...</td>\n",
       "      <td>PANEL LED SOBREPONER 24W REDONDO LUZ BLANCA</td>\n",
       "      <td>1.20E+12</td>\n",
       "      <td>2.0</td>\n",
       "      <td>NaN</td>\n",
       "      <td>23364</td>\n",
       "      <td>27803</td>\n",
       "      <td>4439</td>\n",
       "      <td>46728</td>\n",
       "      <td>55606</td>\n",
       "      <td>11/10/2021</td>\n",
       "    </tr>\n",
       "    <tr>\n",
       "      <th>1</th>\n",
       "      <td># 49560</td>\n",
       "      <td># 2581</td>\n",
       "      <td>11/10/2021</td>\n",
       "      <td>11/11/2021</td>\n",
       "      <td>11/10/2021</td>\n",
       "      <td>Mercadeo y publicidad</td>\n",
       "      <td>Publicidad</td>\n",
       "      <td>Proveedor 2</td>\n",
       "      <td>Usuario solicitante 2</td>\n",
       "      <td>Usuario Aprobador 2</td>\n",
       "      <td>...</td>\n",
       "      <td>ACTIVIDADES COMERCIALES</td>\n",
       "      <td>1K15774</td>\n",
       "      <td>1.0</td>\n",
       "      <td>1.0</td>\n",
       "      <td>1476972</td>\n",
       "      <td>1757597</td>\n",
       "      <td>280625</td>\n",
       "      <td>1476972</td>\n",
       "      <td>1757597</td>\n",
       "      <td>11/10/2021</td>\n",
       "    </tr>\n",
       "    <tr>\n",
       "      <th>2</th>\n",
       "      <td># 49559</td>\n",
       "      <td># 2580</td>\n",
       "      <td>11/10/2021</td>\n",
       "      <td>11/10/2021</td>\n",
       "      <td>11/10/2021</td>\n",
       "      <td>Alimentos y Bebidas</td>\n",
       "      <td>Alimentos preparados y conservados</td>\n",
       "      <td>Proveedor 3</td>\n",
       "      <td>Usuario solicitante 3</td>\n",
       "      <td>Usuario Aprobador 3</td>\n",
       "      <td>...</td>\n",
       "      <td>Lasagna</td>\n",
       "      <td>1K7609</td>\n",
       "      <td>10.0</td>\n",
       "      <td>NaN</td>\n",
       "      <td>155</td>\n",
       "      <td>155</td>\n",
       "      <td>0</td>\n",
       "      <td>155</td>\n",
       "      <td>155</td>\n",
       "      <td>11/10/2021</td>\n",
       "    </tr>\n",
       "    <tr>\n",
       "      <th>3</th>\n",
       "      <td># 49558</td>\n",
       "      <td># 1892</td>\n",
       "      <td>11/10/2021</td>\n",
       "      <td>11/12/2021</td>\n",
       "      <td>11/10/2021</td>\n",
       "      <td>Alimentos y Bebidas</td>\n",
       "      <td>Productos de carne y aves de corral</td>\n",
       "      <td>Proveedor 4</td>\n",
       "      <td>Usuario solicitante 4</td>\n",
       "      <td>Usuario Aprobador 4</td>\n",
       "      <td>...</td>\n",
       "      <td>Pecho de Res Limpio/Sin Grasa</td>\n",
       "      <td>1K15459</td>\n",
       "      <td>50.0</td>\n",
       "      <td>NaN</td>\n",
       "      <td>22</td>\n",
       "      <td>22</td>\n",
       "      <td>0</td>\n",
       "      <td>1100000</td>\n",
       "      <td>1100000</td>\n",
       "      <td>11/10/2021</td>\n",
       "    </tr>\n",
       "    <tr>\n",
       "      <th>4</th>\n",
       "      <td># 49557</td>\n",
       "      <td># 1</td>\n",
       "      <td>11/10/2021</td>\n",
       "      <td>11/9/2021</td>\n",
       "      <td>11/10/2021</td>\n",
       "      <td>Imprenta y litografía</td>\n",
       "      <td>Otra</td>\n",
       "      <td>Proveedor 5</td>\n",
       "      <td>Usuario solicitante 5</td>\n",
       "      <td>Usuario Aprobador 5</td>\n",
       "      <td>...</td>\n",
       "      <td>LIBRO CABEZA, CORAZON Y MANOS</td>\n",
       "      <td>1K15761</td>\n",
       "      <td>7.0</td>\n",
       "      <td>7.0</td>\n",
       "      <td>92084</td>\n",
       "      <td>10958</td>\n",
       "      <td>17496</td>\n",
       "      <td>644588</td>\n",
       "      <td>76706</td>\n",
       "      <td>11/10/2021</td>\n",
       "    </tr>\n",
       "  </tbody>\n",
       "</table>\n",
       "<p>5 rows × 26 columns</p>\n",
       "</div>"
      ],
      "text/plain": [
       "  NÚMERO PEDIDO ORDEN NÚMERO FECHA ORDEN FECHA ENTREGA FECHA APROBACION  \\\n",
       "0       # 49561       # 2582  11/10/2021    11/10/2021       11/10/2021   \n",
       "1       # 49560       # 2581  11/10/2021    11/11/2021       11/10/2021   \n",
       "2       # 49559       # 2580  11/10/2021    11/10/2021       11/10/2021   \n",
       "3       # 49558       # 1892  11/10/2021    11/12/2021       11/10/2021   \n",
       "4       # 49557          # 1  11/10/2021     11/9/2021       11/10/2021   \n",
       "\n",
       "                   CATEGORÍA  \\\n",
       "0  Eléctricos y Electrónicos   \n",
       "1      Mercadeo y publicidad   \n",
       "2        Alimentos y Bebidas   \n",
       "3        Alimentos y Bebidas   \n",
       "4      Imprenta y litografía   \n",
       "\n",
       "                                       SUBCATEGORIA    PROVEEDOR  \\\n",
       "0  Lámparas y bombillas y componentes para lámparas  Proveedor 1   \n",
       "1                                        Publicidad  Proveedor 2   \n",
       "2                Alimentos preparados y conservados  Proveedor 3   \n",
       "3               Productos de carne y aves de corral  Proveedor 4   \n",
       "4                                              Otra  Proveedor 5   \n",
       "\n",
       "                 USUARIO    USUARIO APROBADOR  ...  \\\n",
       "0  Usuario solicitante 1  Usuario Aprobador 1  ...   \n",
       "1  Usuario solicitante 2  Usuario Aprobador 2  ...   \n",
       "2  Usuario solicitante 3  Usuario Aprobador 3  ...   \n",
       "3  Usuario solicitante 4  Usuario Aprobador 4  ...   \n",
       "4  Usuario solicitante 5  Usuario Aprobador 5  ...   \n",
       "\n",
       "                            PRODUCTO O SERVICIO CODIGO PORTAL CANTIDAD PEDIDA  \\\n",
       "0  PANEL LED SOBREPONER 24W REDONDO LUZ BLANCA       1.20E+12             2.0   \n",
       "1                       ACTIVIDADES COMERCIALES       1K15774             1.0   \n",
       "2                                       Lasagna        1K7609            10.0   \n",
       "3                 Pecho de Res Limpio/Sin Grasa       1K15459            50.0   \n",
       "4                 LIBRO CABEZA, CORAZON Y MANOS       1K15761             7.0   \n",
       "\n",
       "  CANTIDAD RECIBIDA PRECIO UNITARIO PRECIO UNITARIO + IVA     IVA  \\\n",
       "0               NaN           23364                 27803    4439   \n",
       "1               1.0         1476972               1757597  280625   \n",
       "2               NaN             155                   155       0   \n",
       "3               NaN              22                    22       0   \n",
       "4               7.0           92084                 10958   17496   \n",
       "\n",
       "  TOTAL SIN IVA  TOTAL + IVA  FECHA ULTIMO MOVIMIENTO  \n",
       "0         46728        55606               11/10/2021  \n",
       "1       1476972      1757597               11/10/2021  \n",
       "2           155          155               11/10/2021  \n",
       "3       1100000      1100000               11/10/2021  \n",
       "4        644588        76706               11/10/2021  \n",
       "\n",
       "[5 rows x 26 columns]"
      ]
     },
     "execution_count": 4,
     "metadata": {},
     "output_type": "execute_result"
    }
   ],
   "source": [
    "#Read Dataset\n",
    "#pd.set_option(\"display.max_columns\",40)\n",
    "df = pd.read_csv(r\"D:\\Ordenes_de_compra_PORTAL_1K.csv\", sep=',', header= 0, na_values = [\"  \"],encoding='latin-1')\n",
    "df.head()"
   ]
  },
  {
   "cell_type": "code",
   "execution_count": 5,
   "id": "0f564c92",
   "metadata": {},
   "outputs": [],
   "source": [
    "df.rename(columns={'NÚMERO PEDIDO': 'Numero_Pedido',\n",
    "                  'ORDEN NÚMERO': 'Orden_Numero',\n",
    "                  'FECHA ORDEN': 'Fecha_Orden',\n",
    "                  'FECHA ENTREGA': 'Fecha_Entrega',\n",
    "                  'FECHA APROBACION': 'Fecha_Aprobacion',\n",
    "                  'CATEGORÍA': 'Categoria',\n",
    "                  'SUBCATEGORIA': 'Subcategoria',\n",
    "                  'PROVEEDOR': 'Proveedor',\n",
    "                  'USUARIO': 'Usuario',\n",
    "                  'USUARIO APROBADOR': 'Usuario_Aprobador',\n",
    "                  'DIRECCION PEDIDO': 'Direccion_Pedido',\n",
    "                  'DIRECCION FACTURACION': 'Direccion_Facturacion',\n",
    "                  'CENTRO DE COSTOS': 'Centro_Costos',\n",
    "                  'PRESUPUESTO': 'Presupuesto',\n",
    "                  'PORTAL': 'Portal',\n",
    "                  'ESTADO': 'Estado',\n",
    "                  'PRODUCTO O SERVICIO': 'Producto_Servicio',\n",
    "                  'CODIGO PORTAL': 'Codigo_Producto',\n",
    "                  'CANTIDAD PEDIDA': 'Cantidad_Pedida',\n",
    "                  'CANTIDAD RECIBIDA': 'Cantidad_Recibida',\n",
    "                  'PRECIO UNITARIO': 'Precio_Unitario',\n",
    "                  'PRECIO UNITARIO + IVA': 'Precio_Unitario_IVA',\n",
    "                  'IVA': 'IVA',\n",
    "                  'TOTAL SIN IVA': 'Total_Sin_IVA',\n",
    "                  'TOTAL + IVA': 'Total_IVA',\n",
    "                  'FECHA ULTIMO MOVIMIENTO': 'Fecha_Ultimo_Movimiento'}, inplace=True)"
   ]
  },
  {
   "cell_type": "code",
   "execution_count": 6,
   "id": "04069799",
   "metadata": {},
   "outputs": [],
   "source": [
    "# cambio formato fechas\n",
    "df['Fecha_Orden'] = pd.to_datetime(df['Fecha_Orden'], format = \"%m/%d/%Y\")\n",
    "df['Fecha_Entrega'] = pd.to_datetime(df['Fecha_Entrega'], format = \"%m/%d/%Y\")\n",
    "df['Fecha_Aprobacion'] = pd.to_datetime(df['Fecha_Aprobacion'], format = \"%m/%d/%Y\")"
   ]
  },
  {
   "cell_type": "code",
   "execution_count": 7,
   "id": "c453cfcf",
   "metadata": {},
   "outputs": [
    {
     "name": "stdout",
     "output_type": "stream",
     "text": [
      "<class 'pandas.core.frame.DataFrame'>\n",
      "RangeIndex: 23083 entries, 0 to 23082\n",
      "Data columns (total 26 columns):\n",
      " #   Column                   Non-Null Count  Dtype         \n",
      "---  ------                   --------------  -----         \n",
      " 0   Numero_Pedido            23083 non-null  object        \n",
      " 1   Orden_Numero             23083 non-null  object        \n",
      " 2   Fecha_Orden              23083 non-null  datetime64[ns]\n",
      " 3   Fecha_Entrega            18770 non-null  datetime64[ns]\n",
      " 4   Fecha_Aprobacion         21950 non-null  datetime64[ns]\n",
      " 5   Categoria                23083 non-null  object        \n",
      " 6   Subcategoria             23083 non-null  object        \n",
      " 7   Proveedor                23083 non-null  object        \n",
      " 8   Usuario                  23083 non-null  object        \n",
      " 9   Usuario_Aprobador        21950 non-null  object        \n",
      " 10  Direccion_Pedido         23083 non-null  object        \n",
      " 11  Direccion_Facturacion    10828 non-null  object        \n",
      " 12  Centro_Costos            16672 non-null  object        \n",
      " 13  Presupuesto              18581 non-null  object        \n",
      " 14  Portal                   23083 non-null  object        \n",
      " 15  Estado                   23083 non-null  object        \n",
      " 16  Producto_Servicio        23083 non-null  object        \n",
      " 17  Codigo_Producto          18223 non-null  object        \n",
      " 18  Cantidad_Pedida          23083 non-null  float64       \n",
      " 19  Cantidad_Recibida        16013 non-null  float64       \n",
      " 20  Precio_Unitario          23083 non-null  int64         \n",
      " 21  Precio_Unitario_IVA      23083 non-null  int64         \n",
      " 22  IVA                      23083 non-null  int64         \n",
      " 23  Total_Sin_IVA            23083 non-null  int64         \n",
      " 24  Total_IVA                23083 non-null  int64         \n",
      " 25  Fecha_Ultimo_Movimiento  23083 non-null  object        \n",
      "dtypes: datetime64[ns](3), float64(2), int64(5), object(16)\n",
      "memory usage: 4.6+ MB\n"
     ]
    }
   ],
   "source": [
    "df.info()"
   ]
  },
  {
   "cell_type": "code",
   "execution_count": 831,
   "id": "5973eed9",
   "metadata": {},
   "outputs": [
    {
     "data": {
      "text/html": [
       "<div>\n",
       "<style scoped>\n",
       "    .dataframe tbody tr th:only-of-type {\n",
       "        vertical-align: middle;\n",
       "    }\n",
       "\n",
       "    .dataframe tbody tr th {\n",
       "        vertical-align: top;\n",
       "    }\n",
       "\n",
       "    .dataframe thead th {\n",
       "        text-align: right;\n",
       "    }\n",
       "</style>\n",
       "<table border=\"1\" class=\"dataframe\">\n",
       "  <thead>\n",
       "    <tr style=\"text-align: right;\">\n",
       "      <th></th>\n",
       "      <th>count</th>\n",
       "      <th>mean</th>\n",
       "      <th>std</th>\n",
       "      <th>min</th>\n",
       "      <th>25%</th>\n",
       "      <th>50%</th>\n",
       "      <th>75%</th>\n",
       "      <th>max</th>\n",
       "    </tr>\n",
       "  </thead>\n",
       "  <tbody>\n",
       "    <tr>\n",
       "      <th>Cantidad_Pedida</th>\n",
       "      <td>23083.0</td>\n",
       "      <td>191.208232</td>\n",
       "      <td>1.946639e+03</td>\n",
       "      <td>0.27</td>\n",
       "      <td>2.0</td>\n",
       "      <td>7.0</td>\n",
       "      <td>40.0</td>\n",
       "      <td>120000.0</td>\n",
       "    </tr>\n",
       "    <tr>\n",
       "      <th>Cantidad_Recibida</th>\n",
       "      <td>16013.0</td>\n",
       "      <td>69.835325</td>\n",
       "      <td>1.040933e+03</td>\n",
       "      <td>0.00</td>\n",
       "      <td>2.0</td>\n",
       "      <td>5.0</td>\n",
       "      <td>18.0</td>\n",
       "      <td>53620.0</td>\n",
       "    </tr>\n",
       "    <tr>\n",
       "      <th>Precio_Unitario</th>\n",
       "      <td>23083.0</td>\n",
       "      <td>59149.630767</td>\n",
       "      <td>6.331279e+05</td>\n",
       "      <td>0.00</td>\n",
       "      <td>244.0</td>\n",
       "      <td>1706.0</td>\n",
       "      <td>22274.0</td>\n",
       "      <td>33242814.0</td>\n",
       "    </tr>\n",
       "    <tr>\n",
       "      <th>Precio_Unitario_IVA</th>\n",
       "      <td>23083.0</td>\n",
       "      <td>63580.384395</td>\n",
       "      <td>7.239502e+05</td>\n",
       "      <td>0.00</td>\n",
       "      <td>103.0</td>\n",
       "      <td>833.0</td>\n",
       "      <td>9877.0</td>\n",
       "      <td>39558949.0</td>\n",
       "    </tr>\n",
       "    <tr>\n",
       "      <th>IVA</th>\n",
       "      <td>23083.0</td>\n",
       "      <td>9264.859420</td>\n",
       "      <td>1.011564e+05</td>\n",
       "      <td>0.00</td>\n",
       "      <td>95.0</td>\n",
       "      <td>781.0</td>\n",
       "      <td>5067.0</td>\n",
       "      <td>6316135.0</td>\n",
       "    </tr>\n",
       "    <tr>\n",
       "      <th>Total_Sin_IVA</th>\n",
       "      <td>23083.0</td>\n",
       "      <td>430121.193216</td>\n",
       "      <td>3.123982e+06</td>\n",
       "      <td>0.00</td>\n",
       "      <td>816.0</td>\n",
       "      <td>32269.0</td>\n",
       "      <td>187669.5</td>\n",
       "      <td>299185326.0</td>\n",
       "    </tr>\n",
       "    <tr>\n",
       "      <th>Total_IVA</th>\n",
       "      <td>23083.0</td>\n",
       "      <td>477529.760040</td>\n",
       "      <td>3.545482e+06</td>\n",
       "      <td>0.00</td>\n",
       "      <td>515.0</td>\n",
       "      <td>11995.0</td>\n",
       "      <td>146054.5</td>\n",
       "      <td>356030538.0</td>\n",
       "    </tr>\n",
       "  </tbody>\n",
       "</table>\n",
       "</div>"
      ],
      "text/plain": [
       "                       count           mean           std   min    25%  \\\n",
       "Cantidad_Pedida      23083.0     191.208232  1.946639e+03  0.27    2.0   \n",
       "Cantidad_Recibida    16013.0      69.835325  1.040933e+03  0.00    2.0   \n",
       "Precio_Unitario      23083.0   59149.630767  6.331279e+05  0.00  244.0   \n",
       "Precio_Unitario_IVA  23083.0   63580.384395  7.239502e+05  0.00  103.0   \n",
       "IVA                  23083.0    9264.859420  1.011564e+05  0.00   95.0   \n",
       "Total_Sin_IVA        23083.0  430121.193216  3.123982e+06  0.00  816.0   \n",
       "Total_IVA            23083.0  477529.760040  3.545482e+06  0.00  515.0   \n",
       "\n",
       "                         50%       75%          max  \n",
       "Cantidad_Pedida          7.0      40.0     120000.0  \n",
       "Cantidad_Recibida        5.0      18.0      53620.0  \n",
       "Precio_Unitario       1706.0   22274.0   33242814.0  \n",
       "Precio_Unitario_IVA    833.0    9877.0   39558949.0  \n",
       "IVA                    781.0    5067.0    6316135.0  \n",
       "Total_Sin_IVA        32269.0  187669.5  299185326.0  \n",
       "Total_IVA            11995.0  146054.5  356030538.0  "
      ]
     },
     "execution_count": 831,
     "metadata": {},
     "output_type": "execute_result"
    }
   ],
   "source": [
    "df.describe().T"
   ]
  },
  {
   "cell_type": "code",
   "execution_count": null,
   "id": "064bd5c9",
   "metadata": {},
   "outputs": [],
   "source": [
    "profile = ProfileReport(df, title=\"Pandas Profiling Report\", explorative=True)"
   ]
  },
  {
   "cell_type": "code",
   "execution_count": null,
   "id": "6bb4e61b",
   "metadata": {
    "scrolled": true
   },
   "outputs": [],
   "source": [
    "profile"
   ]
  },
  {
   "cell_type": "code",
   "execution_count": 8,
   "id": "084e6797",
   "metadata": {},
   "outputs": [],
   "source": [
    "%matplotlib inline"
   ]
  },
  {
   "cell_type": "code",
   "execution_count": 9,
   "id": "db1a92e9",
   "metadata": {},
   "outputs": [
    {
     "data": {
      "image/png": "[encoded data removed]",
      "text/plain": [
       "<Figure size 1440x720 with 2 Axes>"
      ]
     },
     "metadata": {
      "needs_background": "light"
     },
     "output_type": "display_data"
    }
   ],
   "source": [
    "plt.figure(figsize=(20,10))\n",
    "corr_matrix = df.corr()\n",
    "sns.heatmap(corr_matrix, annot=True)\n",
    "plt.show()\n",
    "#plt.savefig(\"matixdf_full.png\")"
   ]
  },
  {
   "cell_type": "code",
   "execution_count": 10,
   "id": "5294c5a7",
   "metadata": {},
   "outputs": [],
   "source": [
    "# campos eliminados despues de revision de matrix de correlacion\n",
    "df.drop(['Producto_Servicio','Portal','Usuario_Aprobador','Usuario','Subcategoria','Presupuesto',\"Precio_Unitario_IVA\",\"Cantidad_Recibida\", \"Total_Sin_IVA\", \"IVA\", \"Codigo_Producto\", \"Direccion_Facturacion\", \"Centro_Costos\", \"Numero_Pedido\", \"Orden_Numero\"], axis=1, inplace = True)"
   ]
  },
  {
   "cell_type": "markdown",
   "id": "b8bcc23b",
   "metadata": {},
   "source": [
    "#### Data Cleaning"
   ]
  },
  {
   "cell_type": "code",
   "execution_count": 11,
   "id": "1fee7fe6",
   "metadata": {},
   "outputs": [],
   "source": [
    "d3_Cantidad_Pedida = df['Cantidad_Pedida'].mean() + 3*df['Cantidad_Pedida'].std()\n",
    "d3_Precio_Unitario = df['Precio_Unitario'].mean() + 3*df['Precio_Unitario'].std()\n",
    "d3_Total_IVA = df['Total_IVA'].mean() + 3*df['Total_IVA'].std()"
   ]
  },
  {
   "cell_type": "code",
   "execution_count": 12,
   "id": "007653fa",
   "metadata": {},
   "outputs": [],
   "source": [
    "df = df[(df['Cantidad_Pedida'] < d3_Cantidad_Pedida) & (df['Precio_Unitario'] < d3_Precio_Unitario) &  (df['Total_IVA'] < d3_Total_IVA)]"
   ]
  },
  {
   "cell_type": "code",
   "execution_count": null,
   "id": "bfa94ad0",
   "metadata": {},
   "outputs": [],
   "source": [
    "profile2 = ProfileReport(df, title=\"Pandas Profiling Report\", explorative=True)\n",
    "profile2"
   ]
  },
  {
   "cell_type": "code",
   "execution_count": 13,
   "id": "b62a6af1",
   "metadata": {},
   "outputs": [
    {
     "data": {
      "text/html": [
       "<div>\n",
       "<style scoped>\n",
       "    .dataframe tbody tr th:only-of-type {\n",
       "        vertical-align: middle;\n",
       "    }\n",
       "\n",
       "    .dataframe tbody tr th {\n",
       "        vertical-align: top;\n",
       "    }\n",
       "\n",
       "    .dataframe thead th {\n",
       "        text-align: right;\n",
       "    }\n",
       "</style>\n",
       "<table border=\"1\" class=\"dataframe\">\n",
       "  <thead>\n",
       "    <tr style=\"text-align: right;\">\n",
       "      <th></th>\n",
       "      <th>count</th>\n",
       "      <th>mean</th>\n",
       "      <th>std</th>\n",
       "      <th>min</th>\n",
       "      <th>25%</th>\n",
       "      <th>50%</th>\n",
       "      <th>75%</th>\n",
       "      <th>max</th>\n",
       "    </tr>\n",
       "    <tr>\n",
       "      <th>Estado</th>\n",
       "      <th></th>\n",
       "      <th></th>\n",
       "      <th></th>\n",
       "      <th></th>\n",
       "      <th></th>\n",
       "      <th></th>\n",
       "      <th></th>\n",
       "      <th></th>\n",
       "    </tr>\n",
       "  </thead>\n",
       "  <tbody>\n",
       "    <tr>\n",
       "      <th>Cancelado</th>\n",
       "      <td>1129.0</td>\n",
       "      <td>54.227192</td>\n",
       "      <td>293.055958</td>\n",
       "      <td>1.00</td>\n",
       "      <td>2.00</td>\n",
       "      <td>4.0</td>\n",
       "      <td>12.00</td>\n",
       "      <td>5000.0</td>\n",
       "    </tr>\n",
       "    <tr>\n",
       "      <th>Enviado</th>\n",
       "      <td>10.0</td>\n",
       "      <td>213.800000</td>\n",
       "      <td>628.347533</td>\n",
       "      <td>1.00</td>\n",
       "      <td>1.25</td>\n",
       "      <td>6.0</td>\n",
       "      <td>11.00</td>\n",
       "      <td>2000.0</td>\n",
       "    </tr>\n",
       "    <tr>\n",
       "      <th>Finalizado Incompleto</th>\n",
       "      <td>934.0</td>\n",
       "      <td>28.777302</td>\n",
       "      <td>139.907961</td>\n",
       "      <td>1.00</td>\n",
       "      <td>1.00</td>\n",
       "      <td>3.0</td>\n",
       "      <td>9.75</td>\n",
       "      <td>2400.0</td>\n",
       "    </tr>\n",
       "    <tr>\n",
       "      <th>Orden Confirmada</th>\n",
       "      <td>10.0</td>\n",
       "      <td>11.300000</td>\n",
       "      <td>11.035800</td>\n",
       "      <td>1.00</td>\n",
       "      <td>3.25</td>\n",
       "      <td>7.0</td>\n",
       "      <td>17.25</td>\n",
       "      <td>36.0</td>\n",
       "    </tr>\n",
       "    <tr>\n",
       "      <th>Orden Rechazada</th>\n",
       "      <td>1003.0</td>\n",
       "      <td>18.504686</td>\n",
       "      <td>77.727792</td>\n",
       "      <td>0.30</td>\n",
       "      <td>2.00</td>\n",
       "      <td>4.0</td>\n",
       "      <td>12.00</td>\n",
       "      <td>2000.0</td>\n",
       "    </tr>\n",
       "    <tr>\n",
       "      <th>Orden en Proceso</th>\n",
       "      <td>4716.0</td>\n",
       "      <td>158.705831</td>\n",
       "      <td>451.164165</td>\n",
       "      <td>0.50</td>\n",
       "      <td>12.00</td>\n",
       "      <td>60.0</td>\n",
       "      <td>144.00</td>\n",
       "      <td>6000.0</td>\n",
       "    </tr>\n",
       "    <tr>\n",
       "      <th>Pendiente por Aprobar</th>\n",
       "      <td>49.0</td>\n",
       "      <td>22.061224</td>\n",
       "      <td>38.821390</td>\n",
       "      <td>1.00</td>\n",
       "      <td>1.00</td>\n",
       "      <td>2.0</td>\n",
       "      <td>30.00</td>\n",
       "      <td>192.0</td>\n",
       "    </tr>\n",
       "    <tr>\n",
       "      <th>Recibido</th>\n",
       "      <td>14722.0</td>\n",
       "      <td>42.734291</td>\n",
       "      <td>243.891111</td>\n",
       "      <td>0.27</td>\n",
       "      <td>2.00</td>\n",
       "      <td>5.0</td>\n",
       "      <td>20.00</td>\n",
       "      <td>6000.0</td>\n",
       "    </tr>\n",
       "    <tr>\n",
       "      <th>Recibido Parcial</th>\n",
       "      <td>158.0</td>\n",
       "      <td>59.930380</td>\n",
       "      <td>288.872509</td>\n",
       "      <td>1.00</td>\n",
       "      <td>3.00</td>\n",
       "      <td>7.0</td>\n",
       "      <td>16.00</td>\n",
       "      <td>2500.0</td>\n",
       "    </tr>\n",
       "  </tbody>\n",
       "</table>\n",
       "</div>"
      ],
      "text/plain": [
       "                         count        mean         std   min    25%   50%  \\\n",
       "Estado                                                                      \n",
       "Cancelado               1129.0   54.227192  293.055958  1.00   2.00   4.0   \n",
       "Enviado                   10.0  213.800000  628.347533  1.00   1.25   6.0   \n",
       "Finalizado Incompleto    934.0   28.777302  139.907961  1.00   1.00   3.0   \n",
       "Orden Confirmada          10.0   11.300000   11.035800  1.00   3.25   7.0   \n",
       "Orden Rechazada         1003.0   18.504686   77.727792  0.30   2.00   4.0   \n",
       "Orden en Proceso        4716.0  158.705831  451.164165  0.50  12.00  60.0   \n",
       "Pendiente por Aprobar     49.0   22.061224   38.821390  1.00   1.00   2.0   \n",
       "Recibido               14722.0   42.734291  243.891111  0.27   2.00   5.0   \n",
       "Recibido Parcial         158.0   59.930380  288.872509  1.00   3.00   7.0   \n",
       "\n",
       "                          75%     max  \n",
       "Estado                                 \n",
       "Cancelado               12.00  5000.0  \n",
       "Enviado                 11.00  2000.0  \n",
       "Finalizado Incompleto    9.75  2400.0  \n",
       "Orden Confirmada        17.25    36.0  \n",
       "Orden Rechazada         12.00  2000.0  \n",
       "Orden en Proceso       144.00  6000.0  \n",
       "Pendiente por Aprobar   30.00   192.0  \n",
       "Recibido                20.00  6000.0  \n",
       "Recibido Parcial        16.00  2500.0  "
      ]
     },
     "execution_count": 13,
     "metadata": {},
     "output_type": "execute_result"
    }
   ],
   "source": [
    "df.groupby([\"Estado\"]).Cantidad_Pedida.describe()"
   ]
  },
  {
   "cell_type": "code",
   "execution_count": null,
   "id": "cc977031",
   "metadata": {},
   "outputs": [],
   "source": [
    "df.groupby([\"Estado\"]).Precio_Unitario.describe()"
   ]
  },
  {
   "cell_type": "markdown",
   "id": "90e68727",
   "metadata": {},
   "source": [
    "#### Feature Engineering"
   ]
  },
  {
   "cell_type": "code",
   "execution_count": null,
   "id": "c1d32de5",
   "metadata": {},
   "outputs": [],
   "source": [
    "-Dias_Trasncurridos_Entrega: Fecha Entrega vs Fecha Orden\n",
    "-Convertir estado: Rechazado a 1 y el resto a 0"
   ]
  },
  {
   "cell_type": "code",
   "execution_count": 14,
   "id": "2780e842",
   "metadata": {},
   "outputs": [],
   "source": [
    "df[\"Dias_Trasncurridos_Entrega\"] = (df[\"Fecha_Entrega\"] - df[\"Fecha_Orden\"]).dt.days"
   ]
  },
  {
   "cell_type": "code",
   "execution_count": 15,
   "id": "24269d5a",
   "metadata": {},
   "outputs": [
    {
     "data": {
      "text/html": [
       "<div>\n",
       "<style scoped>\n",
       "    .dataframe tbody tr th:only-of-type {\n",
       "        vertical-align: middle;\n",
       "    }\n",
       "\n",
       "    .dataframe tbody tr th {\n",
       "        vertical-align: top;\n",
       "    }\n",
       "\n",
       "    .dataframe thead th {\n",
       "        text-align: right;\n",
       "    }\n",
       "</style>\n",
       "<table border=\"1\" class=\"dataframe\">\n",
       "  <thead>\n",
       "    <tr style=\"text-align: right;\">\n",
       "      <th></th>\n",
       "      <th>Fecha_Orden</th>\n",
       "      <th>Fecha_Entrega</th>\n",
       "      <th>Fecha_Aprobacion</th>\n",
       "      <th>Categoria</th>\n",
       "      <th>Proveedor</th>\n",
       "      <th>Direccion_Pedido</th>\n",
       "      <th>Estado</th>\n",
       "      <th>Cantidad_Pedida</th>\n",
       "      <th>Precio_Unitario</th>\n",
       "      <th>Total_IVA</th>\n",
       "      <th>Fecha_Ultimo_Movimiento</th>\n",
       "      <th>Dias_Trasncurridos_Entrega</th>\n",
       "    </tr>\n",
       "  </thead>\n",
       "  <tbody>\n",
       "    <tr>\n",
       "      <th>0</th>\n",
       "      <td>2021-11-10</td>\n",
       "      <td>2021-11-10</td>\n",
       "      <td>2021-11-10</td>\n",
       "      <td>Eléctricos y Electrónicos</td>\n",
       "      <td>Proveedor 1</td>\n",
       "      <td>Direccion 1</td>\n",
       "      <td>Orden en Proceso</td>\n",
       "      <td>2.0</td>\n",
       "      <td>23364</td>\n",
       "      <td>55606</td>\n",
       "      <td>11/10/2021</td>\n",
       "      <td>0.0</td>\n",
       "    </tr>\n",
       "    <tr>\n",
       "      <th>1</th>\n",
       "      <td>2021-11-10</td>\n",
       "      <td>2021-11-11</td>\n",
       "      <td>2021-11-10</td>\n",
       "      <td>Mercadeo y publicidad</td>\n",
       "      <td>Proveedor 2</td>\n",
       "      <td>Direccion 1</td>\n",
       "      <td>Recibido</td>\n",
       "      <td>1.0</td>\n",
       "      <td>1476972</td>\n",
       "      <td>1757597</td>\n",
       "      <td>11/10/2021</td>\n",
       "      <td>1.0</td>\n",
       "    </tr>\n",
       "    <tr>\n",
       "      <th>2</th>\n",
       "      <td>2021-11-10</td>\n",
       "      <td>2021-11-10</td>\n",
       "      <td>2021-11-10</td>\n",
       "      <td>Alimentos y Bebidas</td>\n",
       "      <td>Proveedor 3</td>\n",
       "      <td>Direccion 2</td>\n",
       "      <td>Orden en Proceso</td>\n",
       "      <td>10.0</td>\n",
       "      <td>155</td>\n",
       "      <td>155</td>\n",
       "      <td>11/10/2021</td>\n",
       "      <td>0.0</td>\n",
       "    </tr>\n",
       "    <tr>\n",
       "      <th>3</th>\n",
       "      <td>2021-11-10</td>\n",
       "      <td>2021-11-12</td>\n",
       "      <td>2021-11-10</td>\n",
       "      <td>Alimentos y Bebidas</td>\n",
       "      <td>Proveedor 4</td>\n",
       "      <td>Direccion 3</td>\n",
       "      <td>Orden en Proceso</td>\n",
       "      <td>50.0</td>\n",
       "      <td>22</td>\n",
       "      <td>1100000</td>\n",
       "      <td>11/10/2021</td>\n",
       "      <td>2.0</td>\n",
       "    </tr>\n",
       "    <tr>\n",
       "      <th>4</th>\n",
       "      <td>2021-11-10</td>\n",
       "      <td>2021-11-09</td>\n",
       "      <td>2021-11-10</td>\n",
       "      <td>Imprenta y litografía</td>\n",
       "      <td>Proveedor 5</td>\n",
       "      <td>Direccion 4</td>\n",
       "      <td>Recibido</td>\n",
       "      <td>7.0</td>\n",
       "      <td>92084</td>\n",
       "      <td>76706</td>\n",
       "      <td>11/10/2021</td>\n",
       "      <td>-1.0</td>\n",
       "    </tr>\n",
       "    <tr>\n",
       "      <th>...</th>\n",
       "      <td>...</td>\n",
       "      <td>...</td>\n",
       "      <td>...</td>\n",
       "      <td>...</td>\n",
       "      <td>...</td>\n",
       "      <td>...</td>\n",
       "      <td>...</td>\n",
       "      <td>...</td>\n",
       "      <td>...</td>\n",
       "      <td>...</td>\n",
       "      <td>...</td>\n",
       "      <td>...</td>\n",
       "    </tr>\n",
       "    <tr>\n",
       "      <th>23078</th>\n",
       "      <td>2018-04-30</td>\n",
       "      <td>NaT</td>\n",
       "      <td>2018-05-01</td>\n",
       "      <td>Aseo, Cafetería y Oficina</td>\n",
       "      <td>Proveedor 229</td>\n",
       "      <td>Direccion 81</td>\n",
       "      <td>Recibido</td>\n",
       "      <td>8.0</td>\n",
       "      <td>33613</td>\n",
       "      <td>320</td>\n",
       "      <td>5/1/2018</td>\n",
       "      <td>NaN</td>\n",
       "    </tr>\n",
       "    <tr>\n",
       "      <th>23079</th>\n",
       "      <td>2018-04-30</td>\n",
       "      <td>NaT</td>\n",
       "      <td>2018-05-01</td>\n",
       "      <td>Aseo, Cafetería y Oficina</td>\n",
       "      <td>Proveedor 229</td>\n",
       "      <td>Direccion 81</td>\n",
       "      <td>Recibido</td>\n",
       "      <td>1.0</td>\n",
       "      <td>588</td>\n",
       "      <td>700</td>\n",
       "      <td>5/1/2018</td>\n",
       "      <td>NaN</td>\n",
       "    </tr>\n",
       "    <tr>\n",
       "      <th>23080</th>\n",
       "      <td>2018-04-30</td>\n",
       "      <td>NaT</td>\n",
       "      <td>2018-05-01</td>\n",
       "      <td>Moda y accesorios</td>\n",
       "      <td>Proveedor 229</td>\n",
       "      <td>Direccion 81</td>\n",
       "      <td>Recibido</td>\n",
       "      <td>3.0</td>\n",
       "      <td>29412</td>\n",
       "      <td>105</td>\n",
       "      <td>5/1/2018</td>\n",
       "      <td>NaN</td>\n",
       "    </tr>\n",
       "    <tr>\n",
       "      <th>23081</th>\n",
       "      <td>2018-04-30</td>\n",
       "      <td>NaT</td>\n",
       "      <td>2018-04-30</td>\n",
       "      <td>Moda y accesorios</td>\n",
       "      <td>Proveedor 229</td>\n",
       "      <td>Direccion 81</td>\n",
       "      <td>Recibido</td>\n",
       "      <td>4.0</td>\n",
       "      <td>29412</td>\n",
       "      <td>140</td>\n",
       "      <td>5/1/2018</td>\n",
       "      <td>NaN</td>\n",
       "    </tr>\n",
       "    <tr>\n",
       "      <th>23082</th>\n",
       "      <td>2018-04-30</td>\n",
       "      <td>NaT</td>\n",
       "      <td>2018-04-30</td>\n",
       "      <td>Aseo, Cafetería y Oficina</td>\n",
       "      <td>Proveedor 229</td>\n",
       "      <td>Direccion 81</td>\n",
       "      <td>Recibido</td>\n",
       "      <td>5.0</td>\n",
       "      <td>33613</td>\n",
       "      <td>200</td>\n",
       "      <td>5/1/2018</td>\n",
       "      <td>NaN</td>\n",
       "    </tr>\n",
       "  </tbody>\n",
       "</table>\n",
       "<p>22731 rows × 12 columns</p>\n",
       "</div>"
      ],
      "text/plain": [
       "      Fecha_Orden Fecha_Entrega Fecha_Aprobacion                  Categoria  \\\n",
       "0      2021-11-10    2021-11-10       2021-11-10  Eléctricos y Electrónicos   \n",
       "1      2021-11-10    2021-11-11       2021-11-10      Mercadeo y publicidad   \n",
       "2      2021-11-10    2021-11-10       2021-11-10        Alimentos y Bebidas   \n",
       "3      2021-11-10    2021-11-12       2021-11-10        Alimentos y Bebidas   \n",
       "4      2021-11-10    2021-11-09       2021-11-10      Imprenta y litografía   \n",
       "...           ...           ...              ...                        ...   \n",
       "23078  2018-04-30           NaT       2018-05-01  Aseo, Cafetería y Oficina   \n",
       "23079  2018-04-30           NaT       2018-05-01  Aseo, Cafetería y Oficina   \n",
       "23080  2018-04-30           NaT       2018-05-01          Moda y accesorios   \n",
       "23081  2018-04-30           NaT       2018-04-30          Moda y accesorios   \n",
       "23082  2018-04-30           NaT       2018-04-30  Aseo, Cafetería y Oficina   \n",
       "\n",
       "           Proveedor Direccion_Pedido            Estado  Cantidad_Pedida  \\\n",
       "0        Proveedor 1      Direccion 1  Orden en Proceso              2.0   \n",
       "1        Proveedor 2      Direccion 1          Recibido              1.0   \n",
       "2        Proveedor 3      Direccion 2  Orden en Proceso             10.0   \n",
       "3        Proveedor 4      Direccion 3  Orden en Proceso             50.0   \n",
       "4        Proveedor 5      Direccion 4          Recibido              7.0   \n",
       "...              ...              ...               ...              ...   \n",
       "23078  Proveedor 229     Direccion 81          Recibido              8.0   \n",
       "23079  Proveedor 229     Direccion 81          Recibido              1.0   \n",
       "23080  Proveedor 229     Direccion 81          Recibido              3.0   \n",
       "23081  Proveedor 229     Direccion 81          Recibido              4.0   \n",
       "23082  Proveedor 229     Direccion 81          Recibido              5.0   \n",
       "\n",
       "       Precio_Unitario  Total_IVA Fecha_Ultimo_Movimiento  \\\n",
       "0                23364      55606              11/10/2021   \n",
       "1              1476972    1757597              11/10/2021   \n",
       "2                  155        155              11/10/2021   \n",
       "3                   22    1100000              11/10/2021   \n",
       "4                92084      76706              11/10/2021   \n",
       "...                ...        ...                     ...   \n",
       "23078            33613        320                5/1/2018   \n",
       "23079              588        700                5/1/2018   \n",
       "23080            29412        105                5/1/2018   \n",
       "23081            29412        140                5/1/2018   \n",
       "23082            33613        200                5/1/2018   \n",
       "\n",
       "       Dias_Trasncurridos_Entrega  \n",
       "0                             0.0  \n",
       "1                             1.0  \n",
       "2                             0.0  \n",
       "3                             2.0  \n",
       "4                            -1.0  \n",
       "...                           ...  \n",
       "23078                         NaN  \n",
       "23079                         NaN  \n",
       "23080                         NaN  \n",
       "23081                         NaN  \n",
       "23082                         NaN  \n",
       "\n",
       "[22731 rows x 12 columns]"
      ]
     },
     "execution_count": 15,
     "metadata": {},
     "output_type": "execute_result"
    }
   ],
   "source": [
    "df"
   ]
  },
  {
   "cell_type": "code",
   "execution_count": 16,
   "id": "fcb46b45",
   "metadata": {},
   "outputs": [],
   "source": [
    "## - Convertir estado: Rechazado a 1 y el resto a 0\n",
    "df['Estado_label'] = 0"
   ]
  },
  {
   "cell_type": "code",
   "execution_count": 17,
   "id": "d3c74999",
   "metadata": {},
   "outputs": [],
   "source": [
    "df.loc[df['Estado'] == 'Orden Rechazada', 'Estado_label'] = 1"
   ]
  },
  {
   "cell_type": "code",
   "execution_count": 18,
   "id": "e6e9cea1",
   "metadata": {},
   "outputs": [
    {
     "name": "stdout",
     "output_type": "stream",
     "text": [
      "<class 'pandas.core.frame.DataFrame'>\n",
      "Int64Index: 22731 entries, 0 to 23082\n",
      "Data columns (total 13 columns):\n",
      " #   Column                      Non-Null Count  Dtype         \n",
      "---  ------                      --------------  -----         \n",
      " 0   Fecha_Orden                 22731 non-null  datetime64[ns]\n",
      " 1   Fecha_Entrega               18557 non-null  datetime64[ns]\n",
      " 2   Fecha_Aprobacion            21609 non-null  datetime64[ns]\n",
      " 3   Categoria                   22731 non-null  object        \n",
      " 4   Proveedor                   22731 non-null  object        \n",
      " 5   Direccion_Pedido            22731 non-null  object        \n",
      " 6   Estado                      22731 non-null  object        \n",
      " 7   Cantidad_Pedida             22731 non-null  float64       \n",
      " 8   Precio_Unitario             22731 non-null  int64         \n",
      " 9   Total_IVA                   22731 non-null  int64         \n",
      " 10  Fecha_Ultimo_Movimiento     22731 non-null  object        \n",
      " 11  Dias_Trasncurridos_Entrega  18557 non-null  float64       \n",
      " 12  Estado_label                22731 non-null  int64         \n",
      "dtypes: datetime64[ns](3), float64(2), int64(3), object(5)\n",
      "memory usage: 2.4+ MB\n"
     ]
    }
   ],
   "source": [
    "df.info()"
   ]
  },
  {
   "cell_type": "code",
   "execution_count": 19,
   "id": "abccb29b",
   "metadata": {},
   "outputs": [
    {
     "data": {
      "text/plain": [
       "Recibido                 14722\n",
       "Orden en Proceso          4716\n",
       "Cancelado                 1129\n",
       "Orden Rechazada           1003\n",
       "Finalizado Incompleto      934\n",
       "Recibido Parcial           158\n",
       "Pendiente por Aprobar       49\n",
       "Enviado                     10\n",
       "Orden Confirmada            10\n",
       "Name: Estado, dtype: int64"
      ]
     },
     "execution_count": 19,
     "metadata": {},
     "output_type": "execute_result"
    }
   ],
   "source": [
    "df[\"Estado\"].value_counts()"
   ]
  },
  {
   "cell_type": "code",
   "execution_count": 20,
   "id": "f4361484",
   "metadata": {},
   "outputs": [
    {
     "data": {
      "text/plain": [
       "Alimentos y Bebidas                            0.300427\n",
       "Vigilancia y seguridad industrial              0.295324\n",
       "Aseo, Cafetería y Oficina                      0.167964\n",
       "Dotación y elementos de protección personal    0.052483\n",
       "Ferreteria                                     0.034622\n",
       "Almacenamiento y empaques                      0.019841\n",
       "Vehículos y repuestos                          0.015969\n",
       "Químicos y derivados                           0.015090\n",
       "Construcción y Mantenimiento                   0.011878\n",
       "Manufactura                                    0.008975\n",
       "Mercadeo y publicidad                          0.008799\n",
       "Logística y transporte                         0.007875\n",
       "Servicios Profesionales                        0.007655\n",
       "Eléctricos y Electrónicos                      0.007479\n",
       "Mobiliario y decoración                        0.007259\n",
       "Textiles                                       0.006643\n",
       "Moda y accesorios                              0.006423\n",
       "Tecnología e información                       0.006335\n",
       "Imprenta y litografía                          0.004223\n",
       "Ingeniería e Investigación                     0.003607\n",
       "Compras Sostenibles                            0.002112\n",
       "Salud y Medicina                               0.001892\n",
       "Gestión ambiental                              0.001848\n",
       "Hogar y electrodomésticos                      0.001496\n",
       "Vigilancia y seguridad                         0.001100\n",
       "Viajes, Eventos y Entretenimiento              0.000748\n",
       "Medicina y Salud                               0.000352\n",
       "Cuidado personal y Belleza                     0.000352\n",
       "Deporte y recreación                           0.000264\n",
       "Minería                                        0.000220\n",
       "Agroindustrial                                 0.000220\n",
       "Generación y distribución de Energía           0.000176\n",
       "Gestión inmobiliaria                           0.000132\n",
       "Servicios Públicos                             0.000132\n",
       "Educación y formación empresarial              0.000044\n",
       "Producción audiovisual                         0.000044\n",
       "Name: Categoria, dtype: float64"
      ]
     },
     "execution_count": 20,
     "metadata": {},
     "output_type": "execute_result"
    }
   ],
   "source": [
    "df[\"Categoria\"].value_counts(normalize=True)"
   ]
  },
  {
   "cell_type": "code",
   "execution_count": 21,
   "id": "372fd8bb",
   "metadata": {},
   "outputs": [],
   "source": [
    "## filtramos el dataset por las categorias mayores al 15%\n",
    "categorias_si = ['Alimentos y Bebidas','Vigilancia y seguridad industrial','Aseo, Cafetería y Oficina']\n",
    "\n",
    "df = df[df.Categoria.isin(categorias_si)]"
   ]
  },
  {
   "cell_type": "code",
   "execution_count": 22,
   "id": "051ef792",
   "metadata": {},
   "outputs": [
    {
     "name": "stdout",
     "output_type": "stream",
     "text": [
      "<class 'pandas.core.frame.DataFrame'>\n",
      "Int64Index: 17360 entries, 2 to 23082\n",
      "Data columns (total 13 columns):\n",
      " #   Column                      Non-Null Count  Dtype         \n",
      "---  ------                      --------------  -----         \n",
      " 0   Fecha_Orden                 17360 non-null  datetime64[ns]\n",
      " 1   Fecha_Entrega               13728 non-null  datetime64[ns]\n",
      " 2   Fecha_Aprobacion            16733 non-null  datetime64[ns]\n",
      " 3   Categoria                   17360 non-null  object        \n",
      " 4   Proveedor                   17360 non-null  object        \n",
      " 5   Direccion_Pedido            17360 non-null  object        \n",
      " 6   Estado                      17360 non-null  object        \n",
      " 7   Cantidad_Pedida             17360 non-null  float64       \n",
      " 8   Precio_Unitario             17360 non-null  int64         \n",
      " 9   Total_IVA                   17360 non-null  int64         \n",
      " 10  Fecha_Ultimo_Movimiento     17360 non-null  object        \n",
      " 11  Dias_Trasncurridos_Entrega  13728 non-null  float64       \n",
      " 12  Estado_label                17360 non-null  int64         \n",
      "dtypes: datetime64[ns](3), float64(2), int64(3), object(5)\n",
      "memory usage: 1.9+ MB\n"
     ]
    }
   ],
   "source": [
    "df.info()"
   ]
  },
  {
   "cell_type": "code",
   "execution_count": 23,
   "id": "cd7d6d03",
   "metadata": {},
   "outputs": [
    {
     "data": {
      "text/plain": [
       "Alimentos y Bebidas                  6829\n",
       "Vigilancia y seguridad industrial    6713\n",
       "Aseo, Cafetería y Oficina            3818\n",
       "Name: Categoria, dtype: int64"
      ]
     },
     "execution_count": 23,
     "metadata": {},
     "output_type": "execute_result"
    }
   ],
   "source": [
    "df[\"Categoria\"].value_counts()"
   ]
  },
  {
   "cell_type": "code",
   "execution_count": 24,
   "id": "2536b74b",
   "metadata": {},
   "outputs": [],
   "source": [
    "df_encoder = df.copy()"
   ]
  },
  {
   "cell_type": "code",
   "execution_count": 25,
   "id": "ee73dac5",
   "metadata": {},
   "outputs": [],
   "source": [
    "## cambio de variables categoricas con labelencoder\n",
    "lb_encoder = LabelEncoder()\n",
    "df_encoder[\"Categoria_label_encode\"] = lb_encoder.fit_transform(df_encoder[\"Categoria\"])\n",
    "df_encoder[\"Proveedor_label_encode\"] = lb_encoder.fit_transform(df_encoder[\"Proveedor\"])\n",
    "df_encoder[\"Direccion_Pedido_label_encode\"] = lb_encoder.fit_transform(df_encoder[\"Direccion_Pedido\"])"
   ]
  },
  {
   "cell_type": "code",
   "execution_count": 26,
   "id": "fee4dca6",
   "metadata": {},
   "outputs": [
    {
     "data": {
      "image/png": "[encoded data removed]",
      "text/plain": [
       "<Figure size 1440x720 with 2 Axes>"
      ]
     },
     "metadata": {
      "needs_background": "light"
     },
     "output_type": "display_data"
    }
   ],
   "source": [
    "plt.figure(figsize=(20,10))\n",
    "corr_matrix = df_encoder.corr()\n",
    "sns.heatmap(corr_matrix, annot=True)\n",
    "plt.show()\n",
    "#plt.savefig(\"matixdf_encode.png\")"
   ]
  },
  {
   "cell_type": "code",
   "execution_count": 903,
   "id": "c1a6efc4",
   "metadata": {},
   "outputs": [
    {
     "name": "stdout",
     "output_type": "stream",
     "text": [
      "<class 'pandas.core.frame.DataFrame'>\n",
      "Int64Index: 17360 entries, 2 to 23082\n",
      "Data columns (total 8 columns):\n",
      " #   Column                         Non-Null Count  Dtype  \n",
      "---  ------                         --------------  -----  \n",
      " 0   Cantidad_Pedida                17360 non-null  float64\n",
      " 1   Precio_Unitario                17360 non-null  int64  \n",
      " 2   Total_IVA                      17360 non-null  int64  \n",
      " 3   Dias_Trasncurridos_Entrega     13728 non-null  float64\n",
      " 4   Estado_label                   17360 non-null  int64  \n",
      " 5   Categoria_label_encode         17360 non-null  int32  \n",
      " 6   Proveedor_label_encode         17360 non-null  int32  \n",
      " 7   Direccion_Pedido_label_encode  17360 non-null  int32  \n",
      "dtypes: float64(2), int32(3), int64(3)\n",
      "memory usage: 1017.2 KB\n"
     ]
    }
   ],
   "source": [
    "df_encoder.info()"
   ]
  },
  {
   "cell_type": "code",
   "execution_count": 27,
   "id": "e6f1d491",
   "metadata": {},
   "outputs": [],
   "source": [
    "##borrado de variables del dataset IDs\n",
    "df_encoder = df_encoder.drop(['Fecha_Orden','Fecha_Entrega','Fecha_Aprobacion','Categoria','Proveedor','Direccion_Pedido','Estado','Fecha_Ultimo_Movimiento'], axis=1)"
   ]
  },
  {
   "cell_type": "code",
   "execution_count": 28,
   "id": "0e8f2087",
   "metadata": {
    "scrolled": true
   },
   "outputs": [
    {
     "data": {
      "text/html": [
       "<div>\n",
       "<style scoped>\n",
       "    .dataframe tbody tr th:only-of-type {\n",
       "        vertical-align: middle;\n",
       "    }\n",
       "\n",
       "    .dataframe tbody tr th {\n",
       "        vertical-align: top;\n",
       "    }\n",
       "\n",
       "    .dataframe thead th {\n",
       "        text-align: right;\n",
       "    }\n",
       "</style>\n",
       "<table border=\"1\" class=\"dataframe\">\n",
       "  <thead>\n",
       "    <tr style=\"text-align: right;\">\n",
       "      <th></th>\n",
       "      <th>count</th>\n",
       "      <th>mean</th>\n",
       "      <th>std</th>\n",
       "      <th>min</th>\n",
       "      <th>25%</th>\n",
       "      <th>50%</th>\n",
       "      <th>75%</th>\n",
       "      <th>max</th>\n",
       "    </tr>\n",
       "  </thead>\n",
       "  <tbody>\n",
       "    <tr>\n",
       "      <th>Cantidad_Pedida</th>\n",
       "      <td>17360.0</td>\n",
       "      <td>56.459489</td>\n",
       "      <td>221.661325</td>\n",
       "      <td>0.27</td>\n",
       "      <td>2.0</td>\n",
       "      <td>10.0</td>\n",
       "      <td>48.0</td>\n",
       "      <td>6000.0</td>\n",
       "    </tr>\n",
       "    <tr>\n",
       "      <th>Precio_Unitario</th>\n",
       "      <td>17360.0</td>\n",
       "      <td>19543.831970</td>\n",
       "      <td>48638.361122</td>\n",
       "      <td>0.00</td>\n",
       "      <td>448.5</td>\n",
       "      <td>4297.0</td>\n",
       "      <td>26666.0</td>\n",
       "      <td>1464000.0</td>\n",
       "    </tr>\n",
       "    <tr>\n",
       "      <th>Total_IVA</th>\n",
       "      <td>17360.0</td>\n",
       "      <td>336949.128168</td>\n",
       "      <td>986442.221109</td>\n",
       "      <td>0.00</td>\n",
       "      <td>515.0</td>\n",
       "      <td>9945.0</td>\n",
       "      <td>124998.0</td>\n",
       "      <td>10884472.0</td>\n",
       "    </tr>\n",
       "    <tr>\n",
       "      <th>Dias_Trasncurridos_Entrega</th>\n",
       "      <td>13728.0</td>\n",
       "      <td>1.008960</td>\n",
       "      <td>11.006769</td>\n",
       "      <td>-293.00</td>\n",
       "      <td>0.0</td>\n",
       "      <td>0.0</td>\n",
       "      <td>1.0</td>\n",
       "      <td>21.0</td>\n",
       "    </tr>\n",
       "    <tr>\n",
       "      <th>Estado_label</th>\n",
       "      <td>17360.0</td>\n",
       "      <td>0.031912</td>\n",
       "      <td>0.175772</td>\n",
       "      <td>0.00</td>\n",
       "      <td>0.0</td>\n",
       "      <td>0.0</td>\n",
       "      <td>0.0</td>\n",
       "      <td>1.0</td>\n",
       "    </tr>\n",
       "    <tr>\n",
       "      <th>Categoria_label_encode</th>\n",
       "      <td>17360.0</td>\n",
       "      <td>0.993318</td>\n",
       "      <td>0.883215</td>\n",
       "      <td>0.00</td>\n",
       "      <td>0.0</td>\n",
       "      <td>1.0</td>\n",
       "      <td>2.0</td>\n",
       "      <td>2.0</td>\n",
       "    </tr>\n",
       "    <tr>\n",
       "      <th>Proveedor_label_encode</th>\n",
       "      <td>17360.0</td>\n",
       "      <td>78.310945</td>\n",
       "      <td>30.992682</td>\n",
       "      <td>0.00</td>\n",
       "      <td>64.0</td>\n",
       "      <td>79.0</td>\n",
       "      <td>87.0</td>\n",
       "      <td>144.0</td>\n",
       "    </tr>\n",
       "    <tr>\n",
       "      <th>Direccion_Pedido_label_encode</th>\n",
       "      <td>17360.0</td>\n",
       "      <td>69.461866</td>\n",
       "      <td>39.009903</td>\n",
       "      <td>0.00</td>\n",
       "      <td>43.0</td>\n",
       "      <td>68.0</td>\n",
       "      <td>84.0</td>\n",
       "      <td>146.0</td>\n",
       "    </tr>\n",
       "  </tbody>\n",
       "</table>\n",
       "</div>"
      ],
      "text/plain": [
       "                                 count           mean            std     min  \\\n",
       "Cantidad_Pedida                17360.0      56.459489     221.661325    0.27   \n",
       "Precio_Unitario                17360.0   19543.831970   48638.361122    0.00   \n",
       "Total_IVA                      17360.0  336949.128168  986442.221109    0.00   \n",
       "Dias_Trasncurridos_Entrega     13728.0       1.008960      11.006769 -293.00   \n",
       "Estado_label                   17360.0       0.031912       0.175772    0.00   \n",
       "Categoria_label_encode         17360.0       0.993318       0.883215    0.00   \n",
       "Proveedor_label_encode         17360.0      78.310945      30.992682    0.00   \n",
       "Direccion_Pedido_label_encode  17360.0      69.461866      39.009903    0.00   \n",
       "\n",
       "                                 25%     50%       75%         max  \n",
       "Cantidad_Pedida                  2.0    10.0      48.0      6000.0  \n",
       "Precio_Unitario                448.5  4297.0   26666.0   1464000.0  \n",
       "Total_IVA                      515.0  9945.0  124998.0  10884472.0  \n",
       "Dias_Trasncurridos_Entrega       0.0     0.0       1.0        21.0  \n",
       "Estado_label                     0.0     0.0       0.0         1.0  \n",
       "Categoria_label_encode           0.0     1.0       2.0         2.0  \n",
       "Proveedor_label_encode          64.0    79.0      87.0       144.0  \n",
       "Direccion_Pedido_label_encode   43.0    68.0      84.0       146.0  "
      ]
     },
     "execution_count": 28,
     "metadata": {},
     "output_type": "execute_result"
    }
   ],
   "source": [
    "df_encoder.describe().T"
   ]
  },
  {
   "cell_type": "code",
   "execution_count": 848,
   "id": "5aa99638",
   "metadata": {
    "scrolled": true
   },
   "outputs": [
    {
     "data": {
      "text/html": [
       "<div>\n",
       "<style scoped>\n",
       "    .dataframe tbody tr th:only-of-type {\n",
       "        vertical-align: middle;\n",
       "    }\n",
       "\n",
       "    .dataframe tbody tr th {\n",
       "        vertical-align: top;\n",
       "    }\n",
       "\n",
       "    .dataframe thead th {\n",
       "        text-align: right;\n",
       "    }\n",
       "</style>\n",
       "<table border=\"1\" class=\"dataframe\">\n",
       "  <thead>\n",
       "    <tr style=\"text-align: right;\">\n",
       "      <th></th>\n",
       "      <th>Cantidad_Pedida</th>\n",
       "      <th>Precio_Unitario</th>\n",
       "      <th>Total_IVA</th>\n",
       "      <th>Dias_Trasncurridos_Entrega</th>\n",
       "      <th>Estado_label</th>\n",
       "      <th>Categoria_label_encode</th>\n",
       "      <th>Proveedor_label_encode</th>\n",
       "      <th>Direccion_Pedido_label_encode</th>\n",
       "    </tr>\n",
       "  </thead>\n",
       "  <tbody>\n",
       "    <tr>\n",
       "      <th>2</th>\n",
       "      <td>10.0</td>\n",
       "      <td>155</td>\n",
       "      <td>155</td>\n",
       "      <td>0.0</td>\n",
       "      <td>0</td>\n",
       "      <td>0</td>\n",
       "      <td>77</td>\n",
       "      <td>74</td>\n",
       "    </tr>\n",
       "    <tr>\n",
       "      <th>3</th>\n",
       "      <td>50.0</td>\n",
       "      <td>22</td>\n",
       "      <td>1100000</td>\n",
       "      <td>2.0</td>\n",
       "      <td>0</td>\n",
       "      <td>0</td>\n",
       "      <td>118</td>\n",
       "      <td>84</td>\n",
       "    </tr>\n",
       "    <tr>\n",
       "      <th>18</th>\n",
       "      <td>100.0</td>\n",
       "      <td>2498</td>\n",
       "      <td>2498000</td>\n",
       "      <td>1.0</td>\n",
       "      <td>0</td>\n",
       "      <td>0</td>\n",
       "      <td>4</td>\n",
       "      <td>84</td>\n",
       "    </tr>\n",
       "    <tr>\n",
       "      <th>22</th>\n",
       "      <td>50.0</td>\n",
       "      <td>205</td>\n",
       "      <td>1025000</td>\n",
       "      <td>1.0</td>\n",
       "      <td>0</td>\n",
       "      <td>0</td>\n",
       "      <td>118</td>\n",
       "      <td>84</td>\n",
       "    </tr>\n",
       "    <tr>\n",
       "      <th>23</th>\n",
       "      <td>6.0</td>\n",
       "      <td>27059</td>\n",
       "      <td>1932</td>\n",
       "      <td>1.0</td>\n",
       "      <td>0</td>\n",
       "      <td>0</td>\n",
       "      <td>18</td>\n",
       "      <td>84</td>\n",
       "    </tr>\n",
       "    <tr>\n",
       "      <th>...</th>\n",
       "      <td>...</td>\n",
       "      <td>...</td>\n",
       "      <td>...</td>\n",
       "      <td>...</td>\n",
       "      <td>...</td>\n",
       "      <td>...</td>\n",
       "      <td>...</td>\n",
       "      <td>...</td>\n",
       "    </tr>\n",
       "    <tr>\n",
       "      <th>23076</th>\n",
       "      <td>3.0</td>\n",
       "      <td>84</td>\n",
       "      <td>300</td>\n",
       "      <td>NaN</td>\n",
       "      <td>0</td>\n",
       "      <td>2</td>\n",
       "      <td>42</td>\n",
       "      <td>129</td>\n",
       "    </tr>\n",
       "    <tr>\n",
       "      <th>23077</th>\n",
       "      <td>1.0</td>\n",
       "      <td>84</td>\n",
       "      <td>100</td>\n",
       "      <td>NaN</td>\n",
       "      <td>0</td>\n",
       "      <td>2</td>\n",
       "      <td>42</td>\n",
       "      <td>129</td>\n",
       "    </tr>\n",
       "    <tr>\n",
       "      <th>23078</th>\n",
       "      <td>8.0</td>\n",
       "      <td>33613</td>\n",
       "      <td>320</td>\n",
       "      <td>NaN</td>\n",
       "      <td>0</td>\n",
       "      <td>1</td>\n",
       "      <td>42</td>\n",
       "      <td>129</td>\n",
       "    </tr>\n",
       "    <tr>\n",
       "      <th>23079</th>\n",
       "      <td>1.0</td>\n",
       "      <td>588</td>\n",
       "      <td>700</td>\n",
       "      <td>NaN</td>\n",
       "      <td>0</td>\n",
       "      <td>1</td>\n",
       "      <td>42</td>\n",
       "      <td>129</td>\n",
       "    </tr>\n",
       "    <tr>\n",
       "      <th>23082</th>\n",
       "      <td>5.0</td>\n",
       "      <td>33613</td>\n",
       "      <td>200</td>\n",
       "      <td>NaN</td>\n",
       "      <td>0</td>\n",
       "      <td>1</td>\n",
       "      <td>42</td>\n",
       "      <td>129</td>\n",
       "    </tr>\n",
       "  </tbody>\n",
       "</table>\n",
       "<p>17360 rows × 8 columns</p>\n",
       "</div>"
      ],
      "text/plain": [
       "       Cantidad_Pedida  Precio_Unitario  Total_IVA  \\\n",
       "2                 10.0              155        155   \n",
       "3                 50.0               22    1100000   \n",
       "18               100.0             2498    2498000   \n",
       "22                50.0              205    1025000   \n",
       "23                 6.0            27059       1932   \n",
       "...                ...              ...        ...   \n",
       "23076              3.0               84        300   \n",
       "23077              1.0               84        100   \n",
       "23078              8.0            33613        320   \n",
       "23079              1.0              588        700   \n",
       "23082              5.0            33613        200   \n",
       "\n",
       "       Dias_Trasncurridos_Entrega  Estado_label  Categoria_label_encode  \\\n",
       "2                             0.0             0                       0   \n",
       "3                             2.0             0                       0   \n",
       "18                            1.0             0                       0   \n",
       "22                            1.0             0                       0   \n",
       "23                            1.0             0                       0   \n",
       "...                           ...           ...                     ...   \n",
       "23076                         NaN             0                       2   \n",
       "23077                         NaN             0                       2   \n",
       "23078                         NaN             0                       1   \n",
       "23079                         NaN             0                       1   \n",
       "23082                         NaN             0                       1   \n",
       "\n",
       "       Proveedor_label_encode  Direccion_Pedido_label_encode  \n",
       "2                          77                             74  \n",
       "3                         118                             84  \n",
       "18                          4                             84  \n",
       "22                        118                             84  \n",
       "23                         18                             84  \n",
       "...                       ...                            ...  \n",
       "23076                      42                            129  \n",
       "23077                      42                            129  \n",
       "23078                      42                            129  \n",
       "23079                      42                            129  \n",
       "23082                      42                            129  \n",
       "\n",
       "[17360 rows x 8 columns]"
      ]
     },
     "execution_count": 848,
     "metadata": {},
     "output_type": "execute_result"
    }
   ],
   "source": [
    "df_encoder"
   ]
  },
  {
   "cell_type": "code",
   "execution_count": 29,
   "id": "77848ecd",
   "metadata": {},
   "outputs": [],
   "source": [
    "#features to X\n",
    "df_features = df_encoder.loc[:, df_encoder.columns != 'Estado_label']\n",
    "X = np.asarray(df_features)\n",
    "X = np.nan_to_num(X)"
   ]
  },
  {
   "cell_type": "code",
   "execution_count": null,
   "id": "cb7d7590",
   "metadata": {},
   "outputs": [],
   "source": [
    "# normalizar con min max scaler\n",
    "#scaler = MinMaxScaler()\n",
    "#X = scaler.fit_transform(X)"
   ]
  },
  {
   "cell_type": "code",
   "execution_count": 30,
   "id": "6c45c41e",
   "metadata": {},
   "outputs": [
    {
     "data": {
      "text/plain": [
       "(17360, 7)"
      ]
     },
     "execution_count": 30,
     "metadata": {},
     "output_type": "execute_result"
    }
   ],
   "source": [
    "X.shape"
   ]
  },
  {
   "cell_type": "code",
   "execution_count": 31,
   "id": "655378f5",
   "metadata": {},
   "outputs": [
    {
     "data": {
      "text/plain": [
       "array([0, 0, 0, 0, 0], dtype=int64)"
      ]
     },
     "execution_count": 31,
     "metadata": {},
     "output_type": "execute_result"
    }
   ],
   "source": [
    "#labels (target) to y\n",
    "y = np.asarray(df_encoder['Estado_label'])\n",
    "y [0:5]"
   ]
  },
  {
   "cell_type": "code",
   "execution_count": 32,
   "id": "e07efbb6",
   "metadata": {},
   "outputs": [
    {
     "name": "stdout",
     "output_type": "stream",
     "text": [
      "Counter({0: 16806, 1: 554})\n"
     ]
    }
   ],
   "source": [
    "# summarize class distribution\n",
    "counter = Counter(y)\n",
    "print(counter)"
   ]
  },
  {
   "cell_type": "code",
   "execution_count": 33,
   "id": "8583bf92",
   "metadata": {},
   "outputs": [
    {
     "name": "stdout",
     "output_type": "stream",
     "text": [
      "Train set: (12499, 7) (12499,)\n",
      "Test set: (3472, 7) (3472,)\n",
      "Valid set: (1389, 7) (1389,)\n"
     ]
    }
   ],
   "source": [
    "# separamo del 80% del train el 10% para validacion  quedando train 70%- test 20% - valid 10%\n",
    "X_train, X_test, y_train, y_test = train_test_split(X, y, test_size=0.2, random_state=2,stratify=df_encoder[\"Estado_label\"])\n",
    "X_train, X_val, y_train, y_val = train_test_split(X_train, y_train, test_size=0.1, random_state=2)\n",
    "print ('Train set:', X_train.shape,  y_train.shape)\n",
    "print ('Test set:', X_test.shape,  y_test.shape)\n",
    "print ('Valid set:', X_val.shape,  y_val.shape)"
   ]
  },
  {
   "cell_type": "code",
   "execution_count": 34,
   "id": "81787d70",
   "metadata": {},
   "outputs": [
    {
     "name": "stdout",
     "output_type": "stream",
     "text": [
      "12499 Counter({0: 12110, 1: 389})\n"
     ]
    }
   ],
   "source": [
    "print(len(X_train),Counter(y_train))"
   ]
  },
  {
   "cell_type": "code",
   "execution_count": 453,
   "id": "d6147af1",
   "metadata": {},
   "outputs": [
    {
     "name": "stdout",
     "output_type": "stream",
     "text": [
      "Counter({0: 3361, 1: 111})\n"
     ]
    }
   ],
   "source": [
    "print(Counter(y_test))"
   ]
  },
  {
   "cell_type": "code",
   "execution_count": 35,
   "id": "62d5af6e",
   "metadata": {},
   "outputs": [],
   "source": [
    "# transform the dataset  SMOTE\n",
    "oversample = SMOTE()\n",
    "X_train, y_train = oversample.fit_resample(X_train, y_train)"
   ]
  },
  {
   "cell_type": "code",
   "execution_count": 36,
   "id": "9f111aa2",
   "metadata": {},
   "outputs": [
    {
     "name": "stdout",
     "output_type": "stream",
     "text": [
      "Counter({0: 12110, 1: 12110})\n"
     ]
    }
   ],
   "source": [
    "counter = Counter(y_train)\n",
    "print(counter)"
   ]
  },
  {
   "cell_type": "code",
   "execution_count": 37,
   "id": "ecf3375e",
   "metadata": {},
   "outputs": [],
   "source": [
    "#develop matrix\n",
    "def plot_confusion_matrix(cm, classes,\n",
    "                          normalize=False,\n",
    "                          title='Confusion matrix',\n",
    "                          cmap=plt.cm.Blues):\n",
    "    \"\"\"\n",
    "    This function prints and plots the confusion matrix.\n",
    "    Normalization can be applied by setting `normalize=True`.\n",
    "    \"\"\"\n",
    "    if normalize:\n",
    "        cm = cm.astype('float') / cm.sum(axis=1)[:, np.newaxis]\n",
    "        print(\"Normalized confusion matrix\")\n",
    "    else:\n",
    "        print('Confusion matrix, without normalization')\n",
    "\n",
    "    print(cm)\n",
    "\n",
    "    plt.imshow(cm, interpolation='nearest', cmap=cmap)\n",
    "    plt.title(title)\n",
    "    plt.colorbar()\n",
    "    tick_marks = np.arange(len(classes))\n",
    "    plt.xticks(tick_marks, classes, rotation=45)\n",
    "    plt.yticks(tick_marks, classes)\n",
    "\n",
    "    fmt = '.2f' if normalize else 'd'\n",
    "    thresh = cm.max() / 2.\n",
    "    for i, j in itertools.product(range(cm.shape[0]), range(cm.shape[1])):\n",
    "        plt.text(j, i, format(cm[i, j], fmt),\n",
    "                 horizontalalignment=\"center\",\n",
    "                 color=\"white\" if cm[i, j] > thresh else \"black\")\n",
    "\n",
    "    plt.tight_layout()\n",
    "    plt.ylabel('True label')\n",
    "    plt.xlabel('Predicted label')"
   ]
  },
  {
   "cell_type": "markdown",
   "id": "815070f1",
   "metadata": {},
   "source": [
    "### DecisionTree"
   ]
  },
  {
   "cell_type": "code",
   "execution_count": 38,
   "id": "0e85df05",
   "metadata": {},
   "outputs": [
    {
     "data": {
      "text/plain": [
       "DecisionTreeClassifier(criterion='entropy', max_depth=4)"
      ]
     },
     "execution_count": 38,
     "metadata": {},
     "output_type": "execute_result"
    }
   ],
   "source": [
    "#drugTree = DecisionTreeClassifier(criterion=\"entropy\", max_depth = 4, class_weight=\"balanced\")\n",
    "drugTree = DecisionTreeClassifier(criterion=\"entropy\", max_depth = 4)\n",
    "drugTree.fit(X_train,y_train)"
   ]
  },
  {
   "cell_type": "code",
   "execution_count": 39,
   "id": "0ab367e5",
   "metadata": {},
   "outputs": [],
   "source": [
    "predTree = drugTree.predict(X_test)\n",
    "pscores_tree = drugTree.predict_proba(X_test)"
   ]
  },
  {
   "cell_type": "code",
   "execution_count": 124,
   "id": "49bc9e08",
   "metadata": {},
   "outputs": [
    {
     "data": {
      "text/plain": [
       "array([1., 0.])"
      ]
     },
     "execution_count": 124,
     "metadata": {},
     "output_type": "execute_result"
    }
   ],
   "source": [
    "pscores_tree[3]"
   ]
  },
  {
   "cell_type": "code",
   "execution_count": 125,
   "id": "bc9b1243",
   "metadata": {},
   "outputs": [
    {
     "data": {
      "text/plain": [
       "0"
      ]
     },
     "execution_count": 125,
     "metadata": {},
     "output_type": "execute_result"
    }
   ],
   "source": [
    "predTree[3]"
   ]
  },
  {
   "cell_type": "code",
   "execution_count": 126,
   "id": "a01ddc13",
   "metadata": {},
   "outputs": [
    {
     "data": {
      "text/plain": [
       "0"
      ]
     },
     "execution_count": 126,
     "metadata": {},
     "output_type": "execute_result"
    }
   ],
   "source": [
    "y_test[3]"
   ]
  },
  {
   "cell_type": "code",
   "execution_count": 40,
   "id": "d13f9601",
   "metadata": {},
   "outputs": [
    {
     "name": "stdout",
     "output_type": "stream",
     "text": [
      "              precision    recall  f1-score   support\n",
      "\n",
      "           0       0.99      0.88      0.93      3361\n",
      "           1       0.17      0.72      0.27       111\n",
      "\n",
      "    accuracy                           0.88      3472\n",
      "   macro avg       0.58      0.80      0.60      3472\n",
      "weighted avg       0.96      0.88      0.91      3472\n",
      "\n",
      "Confusion matrix, without normalization\n",
      "[[2961  400]\n",
      " [  31   80]]\n"
     ]
    },
    {
     "data": {
      "image/png": "[encoded data removed]",
      "text/plain": [
       "<Figure size 432x288 with 2 Axes>"
      ]
     },
     "metadata": {
      "needs_background": "light"
     },
     "output_type": "display_data"
    }
   ],
   "source": [
    "# Compute confusion matrix\n",
    "y_pred_DT = pscores_tree[:,1]>0.8\n",
    "cnf_matrix = confusion_matrix(y_test, y_pred_DT, labels = [0,1])\n",
    "np.set_printoptions(precision=2)\n",
    "\n",
    "print (classification_report(y_test, y_pred_DT))\n",
    "\n",
    "# Plot non-normalized confusion matrix\n",
    "plt.figure()\n",
    "plot_confusion_matrix(cnf_matrix, classes = [0,1], normalize= False,  title='Confusion matrix')\n",
    "plt.show()"
   ]
  },
  {
   "cell_type": "code",
   "execution_count": 41,
   "id": "4b447401",
   "metadata": {},
   "outputs": [
    {
     "data": {
      "image/png": "[encoded data removed]",
      "text/plain": [
       "<Figure size 396x396 with 1 Axes>"
      ]
     },
     "metadata": {
      "needs_background": "light"
     },
     "output_type": "display_data"
    }
   ],
   "source": [
    "# DT\n",
    "roc_RF = metrics.roc_curve(y_test, pscores_tree[:,1])\n",
    "auc_RF = metrics.auc( roc_RF[0], roc_RF[1] )\n",
    "\n",
    "\n",
    "plt.figure(figsize=(5.5,5.5))\n",
    "plt.plot(roc_RF[0], roc_RF[1], lw=1,label=f\"ROC Decision Tree (AUC = {auc_RF:0.2f})\")\n",
    "\n",
    "plt.plot([0, 1], [0, 1], color='navy', lw=1.4, linestyle='--', label='Random guess')\n",
    "plt.xlabel('False Positive Rate')\n",
    "plt.ylabel('True Positive Rate')\n",
    "plt.title('ROC curves')\n",
    "plt.legend(loc='lower right')\n",
    "plt.gca().set_aspect(1)\n",
    "plt.grid(ls='--', alpha=0.6, lw=0.4)\n",
    "plt.show()"
   ]
  },
  {
   "cell_type": "markdown",
   "id": "5367921a",
   "metadata": {},
   "source": [
    "### Random Forest"
   ]
  },
  {
   "cell_type": "code",
   "execution_count": 42,
   "id": "fe5150d6",
   "metadata": {},
   "outputs": [
    {
     "data": {
      "text/plain": [
       "RandomForestClassifier(max_depth=3, n_estimators=10, random_state=4)"
      ]
     },
     "execution_count": 42,
     "metadata": {},
     "output_type": "execute_result"
    }
   ],
   "source": [
    "#RF-\n",
    "forest_class = RandomForestClassifier(n_estimators=10, max_depth=3, random_state=4)\n",
    "forest_class.fit(X_train,y_train)"
   ]
  },
  {
   "cell_type": "code",
   "execution_count": 43,
   "id": "d66ddbeb",
   "metadata": {},
   "outputs": [],
   "source": [
    "predforest = forest_class.predict(X_test)\n",
    "pscores_forest = forest_class.predict_proba(X_test)"
   ]
  },
  {
   "cell_type": "code",
   "execution_count": 44,
   "id": "2b5d1c53",
   "metadata": {},
   "outputs": [
    {
     "name": "stdout",
     "output_type": "stream",
     "text": [
      "              precision    recall  f1-score   support\n",
      "\n",
      "           0       0.99      0.87      0.92      3361\n",
      "           1       0.14      0.66      0.23       111\n",
      "\n",
      "    accuracy                           0.86      3472\n",
      "   macro avg       0.57      0.76      0.58      3472\n",
      "weighted avg       0.96      0.86      0.90      3472\n",
      "\n",
      "Confusion matrix, without normalization\n",
      "[[2923  438]\n",
      " [  38   73]]\n"
     ]
    },
    {
     "data": {
      "image/png": "[encoded data removed]",
      "text/plain": [
       "<Figure size 432x288 with 2 Axes>"
      ]
     },
     "metadata": {
      "needs_background": "light"
     },
     "output_type": "display_data"
    }
   ],
   "source": [
    "# Compute confusion matrix\n",
    "y_pred_forest = pscores_forest[:,1]>0.65\n",
    "cnf_matrix = confusion_matrix(y_test, y_pred_forest, labels = [0,1])\n",
    "np.set_printoptions(precision=2)\n",
    "\n",
    "print (classification_report(y_test, y_pred_forest))\n",
    "\n",
    "# Plot non-normalized confusion matrix\n",
    "plt.figure()\n",
    "plot_confusion_matrix(cnf_matrix, classes = [0,1], normalize= False,  title='Confusion matrix')\n",
    "plt.show()"
   ]
  },
  {
   "cell_type": "code",
   "execution_count": 45,
   "id": "0db5244c",
   "metadata": {},
   "outputs": [
    {
     "name": "stdout",
     "output_type": "stream",
     "text": [
      "Metrica del modelo 0.8218001651527663\n",
      "Metricas cross_validation [0.83 0.85 0.85 0.82 0.84 0.85 0.86 0.83 0.85 0.86]\n",
      "Media de cross_validation 0.8456647398843928\n",
      "Metrica en Test 0.8629032258064516\n"
     ]
    }
   ],
   "source": [
    "kf = StratifiedKFold(n_splits=10)\n",
    "forest_class = RandomForestClassifier(n_estimators=10, max_depth=3, random_state=4)\n",
    "forest_class.fit(X_train, y_train)\n",
    " \n",
    "score = forest_class.score(X_train,y_train)\n",
    "print(\"Metrica del modelo\", score)\n",
    "scores = cross_val_score(forest_class, X_train, y_train, cv=kf, scoring=\"accuracy\")\n",
    "print(\"Metricas cross_validation\", scores)\n",
    "print(\"Media de cross_validation\", scores.mean())\n",
    "\n",
    "pscores_forest = forest_class.predict_proba(X_test)\n",
    "predforest = pscores_forest[:,1]>0.65\n",
    "score_pred = metrics.accuracy_score(y_test, predforest)\n",
    "print(\"Metrica en Test\", score_pred)"
   ]
  },
  {
   "cell_type": "code",
   "execution_count": 46,
   "id": "bf1f3c18",
   "metadata": {},
   "outputs": [
    {
     "data": {
      "image/png": "[encoded data removed]",
      "text/plain": [
       "<Figure size 396x396 with 1 Axes>"
      ]
     },
     "metadata": {
      "needs_background": "light"
     },
     "output_type": "display_data"
    }
   ],
   "source": [
    "# DT\n",
    "roc_forest = metrics.roc_curve(y_test, pscores_forest[:,1])\n",
    "auc_forest = metrics.auc( roc_forest[0], roc_forest[1] )\n",
    "\n",
    "\n",
    "plt.figure(figsize=(5.5,5.5))\n",
    "plt.plot(roc_forest[0], roc_forest[1], lw=1,label=f\"ROC random forest (AUC = {auc_RF:0.2f})\")\n",
    "\n",
    "plt.plot([0, 1], [0, 1], color='navy', lw=1.4, linestyle='--', label='Random guess')\n",
    "plt.xlabel('False Positive Rate')\n",
    "plt.ylabel('True Positive Rate')\n",
    "plt.title('ROC curves')\n",
    "plt.legend(loc='lower right')\n",
    "plt.gca().set_aspect(1)\n",
    "plt.grid(ls='--', alpha=0.6, lw=0.4)\n",
    "plt.show()"
   ]
  },
  {
   "cell_type": "markdown",
   "id": "93b7b61f",
   "metadata": {},
   "source": [
    "### SVM"
   ]
  },
  {
   "cell_type": "code",
   "execution_count": 47,
   "id": "0fe3f1f6",
   "metadata": {},
   "outputs": [
    {
     "data": {
      "text/plain": [
       "SVC(C=3, probability=True)"
      ]
     },
     "execution_count": 47,
     "metadata": {},
     "output_type": "execute_result"
    }
   ],
   "source": [
    "#clf = svm.SVC(kernel='rbf', C=3, probability=True, class_weight=\"balanced\")\n",
    "clf = svm.SVC(kernel='rbf', C=3, probability=True)\n",
    "clf.fit(X_train, y_train)"
   ]
  },
  {
   "cell_type": "code",
   "execution_count": 48,
   "id": "2271f867",
   "metadata": {},
   "outputs": [],
   "source": [
    "yhat_SVM = clf.predict(X_test)\n",
    "pscores_svm = clf.predict_proba(X_test)"
   ]
  },
  {
   "cell_type": "code",
   "execution_count": 56,
   "id": "31c9f406",
   "metadata": {},
   "outputs": [
    {
     "name": "stdout",
     "output_type": "stream",
     "text": [
      "              precision    recall  f1-score   support\n",
      "\n",
      "           0       0.98      0.43      0.59      3361\n",
      "           1       0.04      0.79      0.08       111\n",
      "\n",
      "    accuracy                           0.44      3472\n",
      "   macro avg       0.51      0.61      0.34      3472\n",
      "weighted avg       0.95      0.44      0.58      3472\n",
      "\n",
      "Confusion matrix, without normalization\n",
      "[[1431 1930]\n",
      " [  23   88]]\n"
     ]
    },
    {
     "data": {
      "image/png": "[encoded data removed]",
      "text/plain": [
       "<Figure size 432x288 with 2 Axes>"
      ]
     },
     "metadata": {
      "needs_background": "light"
     },
     "output_type": "display_data"
    }
   ],
   "source": [
    "# Compute confusion matrix\n",
    "y_pred_SVM = pscores_svm[:,1]>0.5\n",
    "cnf_matrix = confusion_matrix(y_test, y_pred_SVM, labels = [0,1])\n",
    "np.set_printoptions(precision=2)\n",
    "\n",
    "print (classification_report(y_test, y_pred_SVM))\n",
    "\n",
    "# Plot non-normalized confusion matrix\n",
    "plt.figure()\n",
    "plot_confusion_matrix(cnf_matrix, classes = [0,1], normalize= False,  title='Confusion matrix')\n",
    "plt.show()"
   ]
  },
  {
   "cell_type": "code",
   "execution_count": 57,
   "id": "114ef4e3",
   "metadata": {},
   "outputs": [
    {
     "data": {
      "image/png": "[encoded data removed]",
      "text/plain": [
       "<Figure size 396x396 with 1 Axes>"
      ]
     },
     "metadata": {
      "needs_background": "light"
     },
     "output_type": "display_data"
    }
   ],
   "source": [
    "roc_RF = metrics.roc_curve(y_test, pscores_svm[:,1])\n",
    "auc_RF = metrics.auc( roc_RF[0], roc_RF[1] )\n",
    "\n",
    "\n",
    "plt.figure(figsize=(5.5,5.5))\n",
    "plt.plot(roc_RF[0], roc_RF[1], lw=1,label=f\"ROC random forest (AUC = {auc_RF:0.2f})\")\n",
    "\n",
    "plt.plot([0, 1], [0, 1], color='navy', lw=1.4, linestyle='--', label='Random guess')\n",
    "plt.xlabel('False Positive Rate')\n",
    "plt.ylabel('True Positive Rate')\n",
    "plt.title('ROC curves')\n",
    "plt.legend(loc='lower right')\n",
    "plt.gca().set_aspect(1)\n",
    "plt.grid(ls='--', alpha=0.6, lw=0.4)"
   ]
  },
  {
   "cell_type": "code",
   "execution_count": 618,
   "id": "2547bf81",
   "metadata": {},
   "outputs": [
    {
     "name": "stdout",
     "output_type": "stream",
     "text": [
      "Metrica del modelo 0.6039223781998349\n",
      "Metricas cross_validation [0.6  0.6  0.6  0.6  0.61]\n",
      "Media de cross_validation 0.602766308835673\n",
      "Metrica en Test 0.4375\n"
     ]
    }
   ],
   "source": [
    "kf = StratifiedKFold(n_splits=5)\n",
    "#clf = svm.SVC(kernel='rbf', C=3, probability=True, class_weight=\"balanced\")\n",
    "clf = svm.SVC(kernel='rbf', C=3, probability=True)\n",
    "clf.fit(X_train, y_train)\n",
    " \n",
    "score = clf.score(X_train,y_train)\n",
    "print(\"Metrica del modelo\", score)\n",
    "scores = cross_val_score(clf, X_train, y_train, cv=kf, scoring=\"accuracy\")\n",
    "print(\"Metricas cross_validation\", scores)\n",
    "print(\"Media de cross_validation\", scores.mean())\n",
    "\n",
    "preds = clf.predict_proba(X_test)\n",
    "y_pred_SVM = preds[:,1]>0.5\n",
    "score_pred = metrics.accuracy_score(y_test, y_pred_SVM)\n",
    "print(\"Metrica en Test\", score_pred)"
   ]
  },
  {
   "cell_type": "markdown",
   "id": "31f1499a",
   "metadata": {},
   "source": [
    "### Logistic Regresion"
   ]
  },
  {
   "cell_type": "code",
   "execution_count": 58,
   "id": "03f355b2",
   "metadata": {},
   "outputs": [],
   "source": [
    "LR = LogisticRegression(C=0.05, solver='liblinear').fit(X_train,y_train)"
   ]
  },
  {
   "cell_type": "code",
   "execution_count": 59,
   "id": "e921096d",
   "metadata": {},
   "outputs": [],
   "source": [
    "yhat_LR = LR.predict(X_test)\n",
    "pscores_LR = LR.predict_proba(X_test)"
   ]
  },
  {
   "cell_type": "code",
   "execution_count": 60,
   "id": "7896794d",
   "metadata": {},
   "outputs": [
    {
     "name": "stdout",
     "output_type": "stream",
     "text": [
      "              precision    recall  f1-score   support\n",
      "\n",
      "           0       0.98      0.74      0.84      3361\n",
      "           1       0.07      0.59      0.12       111\n",
      "\n",
      "    accuracy                           0.74      3472\n",
      "   macro avg       0.53      0.66      0.48      3472\n",
      "weighted avg       0.95      0.74      0.82      3472\n",
      "\n",
      "Confusion matrix, without normalization\n",
      "[[2489  872]\n",
      " [  46   65]]\n"
     ]
    },
    {
     "data": {
      "image/png": "[encoded data removed]",
      "text/plain": [
       "<Figure size 432x288 with 2 Axes>"
      ]
     },
     "metadata": {
      "needs_background": "light"
     },
     "output_type": "display_data"
    }
   ],
   "source": [
    "# Compute confusion matrix\n",
    "y_pred_LR = pscores_LR[:,1]>0.62\n",
    "cnf_matrix = confusion_matrix(y_test, y_pred_LR, labels = [0,1])\n",
    "np.set_printoptions(precision=2)\n",
    "\n",
    "print (classification_report(y_test, y_pred_LR))\n",
    "\n",
    "# Plot non-normalized confusion matrix\n",
    "plt.figure()\n",
    "plot_confusion_matrix(cnf_matrix, classes = [0,1], normalize= False,  title='Confusion matrix')\n",
    "plt.show()"
   ]
  },
  {
   "cell_type": "code",
   "execution_count": 897,
   "id": "60b2d0f3",
   "metadata": {},
   "outputs": [
    {
     "data": {
      "text/plain": [
       "0.749521020765976"
      ]
     },
     "execution_count": 897,
     "metadata": {},
     "output_type": "execute_result"
    }
   ],
   "source": [
    "from sklearn.metrics import f1_score\n",
    "f1_score(y_test, yhat_LR, average='weighted')"
   ]
  },
  {
   "cell_type": "code",
   "execution_count": 61,
   "id": "3d38214e",
   "metadata": {},
   "outputs": [
    {
     "data": {
      "image/png": "[encoded data removed]",
      "text/plain": [
       "<Figure size 396x396 with 1 Axes>"
      ]
     },
     "metadata": {
      "needs_background": "light"
     },
     "output_type": "display_data"
    }
   ],
   "source": [
    "roc_RF = metrics.roc_curve(y_test, pscores_LR[:,1])\n",
    "auc_RF = metrics.auc( roc_RF[0], roc_RF[1] )\n",
    "\n",
    "\n",
    "plt.figure(figsize=(5.5,5.5))\n",
    "plt.plot(roc_RF[0], roc_RF[1], lw=1,label=f\"ROC Logistic Regression (AUC = {auc_RF:0.2f})\")\n",
    "\n",
    "plt.plot([0, 1], [0, 1], color='navy', lw=1.4, linestyle='--', label='Random guess')\n",
    "plt.xlabel('False Positive Rate')\n",
    "plt.ylabel('True Positive Rate')\n",
    "plt.title('ROC curves')\n",
    "plt.legend(loc='lower right')\n",
    "plt.gca().set_aspect(1)\n",
    "plt.grid(ls='--', alpha=0.6, lw=0.4)"
   ]
  },
  {
   "cell_type": "markdown",
   "id": "e82b0e31",
   "metadata": {},
   "source": [
    "### comparacion Curvas"
   ]
  },
  {
   "cell_type": "code",
   "execution_count": 111,
   "id": "df763954",
   "metadata": {},
   "outputs": [
    {
     "data": {
      "image/png": "[encoded data removed]",
      "text/plain": [
       "<Figure size 720x720 with 1 Axes>"
      ]
     },
     "metadata": {
      "needs_background": "light"
     },
     "output_type": "display_data"
    }
   ],
   "source": [
    "# ROC CURVES\n",
    "roc_RF = metrics.roc_curve(y_test, pscores_forest[:, 1])\n",
    "auc_RF = metrics.auc( roc_RF[0], roc_RF[1] )\n",
    "roc_DT = metrics.roc_curve(y_test, pscores_tree[:, 1])\n",
    "auc_DT = metrics.auc( roc_DT[0], roc_DT[1] )\n",
    "roc_SVM = metrics.roc_curve(y_test, pscores_svm[:,1])\n",
    "auc_SVM = metrics.auc( roc_SVM[0], roc_SVM[1] )\n",
    "roc_LR = metrics.roc_curve(y_test, pscores_LR[:,1])\n",
    "auc_LR = metrics.auc( roc_LR[0], roc_LR[1] )\n",
    "roc_lgbm = metrics.roc_curve(y_val, y_predict)\n",
    "auc_lgbm = metrics.auc( roc_lgbm[0], roc_lgbm[1] )\n",
    "roc_lgbm_opt = metrics.roc_curve(y_val, ypred_opt_test)\n",
    "auc_lgbm_opt = metrics.auc( roc_lgbm_opt[0], roc_lgbm_opt[1] )\n",
    "\n",
    "\n",
    "\n",
    "\n",
    "\n",
    "plt.figure(figsize=(10,10))\n",
    "line_width = 2\n",
    "#plt.plot(roc_LR[0], roc_LR[1], color='darkgreen', lw=line_width,\n",
    "         #label=f\"ROC curve for Logistic Regression Classifier (AUC = {auc_LR:0.2f})\")\n",
    "plt.plot(roc_DT[0], roc_DT[1], color='darkred', lw=line_width,\n",
    "         label=f\"ROC curve for Desicion Tree Classifier (AUC = {auc_DT:0.2f})\")\n",
    "#plt.plot(roc_SVM[0], roc_SVM[1], color='darkorange', lw=line_width,\n",
    "         #label=f\"ROC curve for Support Vector Machine (AUC = {auc_SVM:0.2f})\")\n",
    "plt.plot(roc_RF[0], roc_RF[1], color='darkblue', lw=line_width,\n",
    "         label=f\"ROC curve for Random Forest (AUC = {auc_RF:0.2f})\")\n",
    "#plt.plot(roc_lgbm[0], roc_lgbm[1], color='yellow', lw=line_width,\n",
    "         #label=f\"ROC lightGBM (AUC = {auc_lgbm:0.2f})\")\n",
    "plt.plot(roc_lgbm_opt[0], roc_lgbm_opt[1], color='cyan', lw=line_width,\n",
    "         label=f\"ROC lightGBM Optuna (AUC = {auc_lgbm_opt:0.2f})\")\n",
    "\n",
    "plt.plot([0, 1], [0, 1], color='gray', lw=line_width, linestyle='--', label='Random guess')\n",
    "plt.xlim([0.0, 1.0])\n",
    "plt.ylim([0.0, 1.05])\n",
    "plt.xlabel('False Positive Rate')\n",
    "plt.ylabel('True Positive Rate')\n",
    "#plt.title('Classification for Enrollment in the Employment Program')\n",
    "plt.legend(loc='lower right')\n",
    "plt.show()"
   ]
  },
  {
   "cell_type": "markdown",
   "id": "0f8a6a21",
   "metadata": {},
   "source": [
    "### Arbol de decision "
   ]
  },
  {
   "cell_type": "code",
   "execution_count": 911,
   "id": "4087b04e",
   "metadata": {},
   "outputs": [
    {
     "data": {
      "text/plain": [
       "True"
      ]
     },
     "execution_count": 911,
     "metadata": {},
     "output_type": "execute_result"
    }
   ],
   "source": [
    "feature_names = ['Cantidad_Pedida','Precio_Unitario','Total_IVA','Dias_Transcurridos_Entrega','Categoria_label_encode','Proveedor_label_encode', 'Direccion_Pedido_label_encode']\n",
    "class_names = ['No Rechazado','Rechazado']\n",
    "dot_data = tree.export_graphviz(drugTree, out_file=None, filled=True, rounded = True, feature_names=feature_names, class_names=class_names)\n",
    "graph = graph_from_dot_data(dot_data)\n",
    "graph.write_png('tree.png')"
   ]
  },
  {
   "cell_type": "markdown",
   "id": "d0c6f627",
   "metadata": {},
   "source": [
    "### lightgbm"
   ]
  },
  {
   "cell_type": "code",
   "execution_count": 63,
   "id": "95f1be37",
   "metadata": {},
   "outputs": [
    {
     "name": "stdout",
     "output_type": "stream",
     "text": [
      "Train set: (12499, 7) (12499,)\n",
      "Test set: (3472, 7) (3472,)\n",
      "Valid set: (1389, 7) (1389,)\n"
     ]
    }
   ],
   "source": [
    "# separamo del 80% del train el 10% para validacion  quedando train 72%- test 20% - valid 8%\n",
    "X_train, X_test, y_train, y_test = train_test_split(X, y, test_size=0.2, random_state=2,stratify=df_encoder[\"Estado_label\"])\n",
    "X_train, X_val, y_train, y_val = train_test_split(X_train, y_train, test_size=0.1, random_state=2)\n",
    "print ('Train set:', X_train.shape,  y_train.shape)\n",
    "print ('Test set:', X_test.shape,  y_test.shape)\n",
    "print ('Valid set:', X_val.shape,  y_val.shape)"
   ]
  },
  {
   "cell_type": "code",
   "execution_count": 64,
   "id": "4b6e91b4",
   "metadata": {},
   "outputs": [],
   "source": [
    "# transform the dataset  SMOTE\n",
    "oversample = SMOTE()\n",
    "X_train, y_train = oversample.fit_resample(X_train, y_train)"
   ]
  },
  {
   "cell_type": "code",
   "execution_count": 65,
   "id": "e8f48c3b",
   "metadata": {},
   "outputs": [
    {
     "name": "stdout",
     "output_type": "stream",
     "text": [
      "Train set: (24220, 7) (24220,)\n",
      "Test set: (3472, 7) (3472,)\n",
      "Valid set: (1389, 7) (1389,)\n"
     ]
    }
   ],
   "source": [
    "print ('Train set:', X_train.shape,  y_train.shape)\n",
    "print ('Test set:', X_test.shape,  y_test.shape)\n",
    "print ('Valid set:', X_val.shape,  y_val.shape)"
   ]
  },
  {
   "cell_type": "code",
   "execution_count": 66,
   "id": "97f63041",
   "metadata": {},
   "outputs": [],
   "source": [
    "train_data = lgb.Dataset(X_train, label=y_train)\n",
    "valid_data = lgb.Dataset(X_test, label=y_test, reference=train_data)"
   ]
  },
  {
   "cell_type": "code",
   "execution_count": 67,
   "id": "4f404621",
   "metadata": {},
   "outputs": [
    {
     "name": "stdout",
     "output_type": "stream",
     "text": [
      "Counter({0: 3361, 1: 111})\n"
     ]
    }
   ],
   "source": [
    "print(Counter(y_test))"
   ]
  },
  {
   "cell_type": "code",
   "execution_count": 477,
   "id": "74aaec2c",
   "metadata": {},
   "outputs": [
    {
     "data": {
      "text/plain": [
       "26890"
      ]
     },
     "execution_count": 477,
     "metadata": {},
     "output_type": "execute_result"
    }
   ],
   "source": [
    "len(X_train)"
   ]
  },
  {
   "cell_type": "code",
   "execution_count": 68,
   "id": "96f91119",
   "metadata": {},
   "outputs": [
    {
     "name": "stdout",
     "output_type": "stream",
     "text": [
      "Counter({0: 12110, 1: 12110})\n"
     ]
    }
   ],
   "source": [
    "print(Counter(y_train))"
   ]
  },
  {
   "cell_type": "code",
   "execution_count": 69,
   "id": "b85f43e8",
   "metadata": {},
   "outputs": [],
   "source": [
    "## parametros para el modelo lightGBM search \n",
    "SEARCH_PARAMS = {'learning_rate': 0.4,\n",
    "                'max_depth': 15,\n",
    "                'num_leaves': 32,\n",
    "                'feature_fraction': 0.8,\n",
    "                'subsample': 0.2}\n",
    "\n",
    "FIXED_PARAMS={'objective': 'binary',\n",
    "             'metric': 'auc',\n",
    "             'is_unbalance':False,\n",
    "             'bagging_freq':5,\n",
    "             'boosting':'dart',\n",
    "             'num_boost_round':300,\n",
    "             'early_stopping_rounds':30}\n",
    "\n"
   ]
  },
  {
   "cell_type": "code",
   "execution_count": 70,
   "id": "1e2fc02a",
   "metadata": {},
   "outputs": [],
   "source": [
    "params = {'metric':FIXED_PARAMS['metric'],\n",
    "             'objective':FIXED_PARAMS['objective'],**SEARCH_PARAMS}"
   ]
  },
  {
   "cell_type": "code",
   "execution_count": 71,
   "id": "43b5d539",
   "metadata": {},
   "outputs": [
    {
     "name": "stderr",
     "output_type": "stream",
     "text": [
      "C:\\Users\\d84088661\\Anaconda3\\lib\\site-packages\\lightgbm\\engine.py:181: UserWarning: 'early_stopping_rounds' argument is deprecated and will be removed in a future release of LightGBM. Pass 'early_stopping()' callback via 'callbacks' argument instead.\n",
      "  _log_warning(\"'early_stopping_rounds' argument is deprecated and will be removed in a future release of LightGBM. \"\n"
     ]
    },
    {
     "name": "stdout",
     "output_type": "stream",
     "text": [
      "[LightGBM] [Info] Number of positive: 12110, number of negative: 12110\n",
      "[LightGBM] [Warning] Auto-choosing col-wise multi-threading, the overhead of testing was 0.022316 seconds.\n",
      "You can set `force_col_wise=true` to remove the overhead.\n",
      "[LightGBM] [Info] Total Bins 1779\n",
      "[LightGBM] [Info] Number of data points in the train set: 24220, number of used features: 7\n",
      "[LightGBM] [Info] [binary:BoostFromScore]: pavg=0.500000 -> initscore=0.000000\n",
      "[1]\tvalid's auc: 0.907838\n",
      "Training until validation scores don't improve for 30 rounds\n",
      "[2]\tvalid's auc: 0.926937\n",
      "[3]\tvalid's auc: 0.930563\n",
      "[4]\tvalid's auc: 0.933253\n",
      "[5]\tvalid's auc: 0.935733\n",
      "[6]\tvalid's auc: 0.937654\n",
      "[7]\tvalid's auc: 0.944592\n",
      "[8]\tvalid's auc: 0.944993\n",
      "[9]\tvalid's auc: 0.944972\n",
      "[10]\tvalid's auc: 0.948445\n",
      "[11]\tvalid's auc: 0.950014\n",
      "[12]\tvalid's auc: 0.94822\n",
      "[13]\tvalid's auc: 0.950538\n",
      "[14]\tvalid's auc: 0.951817\n",
      "[15]\tvalid's auc: 0.952194\n",
      "[16]\tvalid's auc: 0.951446\n",
      "[17]\tvalid's auc: 0.952178\n",
      "[18]\tvalid's auc: 0.952323\n",
      "[19]\tvalid's auc: 0.952604\n",
      "[20]\tvalid's auc: 0.952041\n",
      "[21]\tvalid's auc: 0.950547\n",
      "[22]\tvalid's auc: 0.951922\n",
      "[23]\tvalid's auc: 0.952102\n",
      "[24]\tvalid's auc: 0.952862\n",
      "[25]\tvalid's auc: 0.953387\n",
      "[26]\tvalid's auc: 0.9544\n",
      "[27]\tvalid's auc: 0.953904\n",
      "[28]\tvalid's auc: 0.95419\n",
      "[29]\tvalid's auc: 0.954037\n",
      "[30]\tvalid's auc: 0.953018\n",
      "[31]\tvalid's auc: 0.953485\n",
      "[32]\tvalid's auc: 0.953205\n",
      "[33]\tvalid's auc: 0.953248\n",
      "[34]\tvalid's auc: 0.954561\n",
      "[35]\tvalid's auc: 0.954825\n",
      "[36]\tvalid's auc: 0.954779\n",
      "[37]\tvalid's auc: 0.954648\n",
      "[38]\tvalid's auc: 0.955062\n",
      "[39]\tvalid's auc: 0.955724\n",
      "[40]\tvalid's auc: 0.95507\n",
      "[41]\tvalid's auc: 0.954395\n",
      "[42]\tvalid's auc: 0.95477\n",
      "[43]\tvalid's auc: 0.955526\n",
      "[44]\tvalid's auc: 0.95522\n",
      "[45]\tvalid's auc: 0.955432\n",
      "[46]\tvalid's auc: 0.954955\n",
      "[47]\tvalid's auc: 0.955673\n",
      "[48]\tvalid's auc: 0.954762\n",
      "[49]\tvalid's auc: 0.954346\n",
      "[50]\tvalid's auc: 0.95466\n",
      "[51]\tvalid's auc: 0.954467\n",
      "[52]\tvalid's auc: 0.954746\n",
      "[53]\tvalid's auc: 0.954657\n",
      "[54]\tvalid's auc: 0.95492\n",
      "[55]\tvalid's auc: 0.954864\n",
      "[56]\tvalid's auc: 0.954779\n",
      "[57]\tvalid's auc: 0.955439\n",
      "[58]\tvalid's auc: 0.955391\n",
      "[59]\tvalid's auc: 0.955645\n",
      "[60]\tvalid's auc: 0.955195\n",
      "[61]\tvalid's auc: 0.954795\n",
      "[62]\tvalid's auc: 0.955128\n",
      "[63]\tvalid's auc: 0.955286\n",
      "[64]\tvalid's auc: 0.955758\n",
      "[65]\tvalid's auc: 0.955774\n",
      "[66]\tvalid's auc: 0.95572\n",
      "[67]\tvalid's auc: 0.956934\n",
      "[68]\tvalid's auc: 0.956642\n",
      "[69]\tvalid's auc: 0.956398\n",
      "[70]\tvalid's auc: 0.956018\n",
      "[71]\tvalid's auc: 0.955458\n",
      "[72]\tvalid's auc: 0.955203\n",
      "[73]\tvalid's auc: 0.955157\n",
      "[74]\tvalid's auc: 0.955361\n",
      "[75]\tvalid's auc: 0.955688\n",
      "[76]\tvalid's auc: 0.956224\n",
      "[77]\tvalid's auc: 0.956334\n",
      "[78]\tvalid's auc: 0.955549\n",
      "[79]\tvalid's auc: 0.955704\n",
      "[80]\tvalid's auc: 0.955594\n",
      "[81]\tvalid's auc: 0.955353\n",
      "[82]\tvalid's auc: 0.9555\n",
      "[83]\tvalid's auc: 0.956023\n",
      "[84]\tvalid's auc: 0.956267\n",
      "[85]\tvalid's auc: 0.956849\n",
      "[86]\tvalid's auc: 0.957213\n",
      "[87]\tvalid's auc: 0.957111\n",
      "[88]\tvalid's auc: 0.957613\n",
      "[89]\tvalid's auc: 0.957184\n",
      "[90]\tvalid's auc: 0.957425\n",
      "[91]\tvalid's auc: 0.958127\n",
      "[92]\tvalid's auc: 0.95787\n",
      "[93]\tvalid's auc: 0.958358\n",
      "[94]\tvalid's auc: 0.958269\n",
      "[95]\tvalid's auc: 0.958031\n",
      "[96]\tvalid's auc: 0.957966\n",
      "[97]\tvalid's auc: 0.957122\n",
      "[98]\tvalid's auc: 0.95661\n",
      "[99]\tvalid's auc: 0.956768\n",
      "[100]\tvalid's auc: 0.956567\n",
      "[101]\tvalid's auc: 0.956444\n",
      "[102]\tvalid's auc: 0.956173\n",
      "[103]\tvalid's auc: 0.956599\n",
      "[104]\tvalid's auc: 0.956728\n",
      "[105]\tvalid's auc: 0.957125\n",
      "[106]\tvalid's auc: 0.957387\n",
      "[107]\tvalid's auc: 0.957385\n",
      "[108]\tvalid's auc: 0.957007\n",
      "[109]\tvalid's auc: 0.956532\n",
      "[110]\tvalid's auc: 0.956929\n",
      "[111]\tvalid's auc: 0.957387\n",
      "[112]\tvalid's auc: 0.957446\n",
      "[113]\tvalid's auc: 0.957773\n",
      "[114]\tvalid's auc: 0.958162\n",
      "[115]\tvalid's auc: 0.958248\n",
      "[116]\tvalid's auc: 0.958586\n",
      "[117]\tvalid's auc: 0.958234\n",
      "[118]\tvalid's auc: 0.958176\n",
      "[119]\tvalid's auc: 0.957918\n",
      "[120]\tvalid's auc: 0.957495\n",
      "[121]\tvalid's auc: 0.957698\n",
      "[122]\tvalid's auc: 0.957956\n",
      "[123]\tvalid's auc: 0.95739\n",
      "[124]\tvalid's auc: 0.957318\n",
      "[125]\tvalid's auc: 0.95772\n",
      "[126]\tvalid's auc: 0.957578\n",
      "[127]\tvalid's auc: 0.95706\n",
      "[128]\tvalid's auc: 0.957328\n",
      "[129]\tvalid's auc: 0.95653\n",
      "[130]\tvalid's auc: 0.956996\n",
      "[131]\tvalid's auc: 0.956615\n",
      "[132]\tvalid's auc: 0.95709\n",
      "[133]\tvalid's auc: 0.956993\n",
      "[134]\tvalid's auc: 0.95628\n",
      "[135]\tvalid's auc: 0.955613\n",
      "[136]\tvalid's auc: 0.955399\n",
      "[137]\tvalid's auc: 0.955629\n",
      "[138]\tvalid's auc: 0.95601\n",
      "[139]\tvalid's auc: 0.956264\n",
      "[140]\tvalid's auc: 0.956012\n",
      "[141]\tvalid's auc: 0.955248\n",
      "[142]\tvalid's auc: 0.955589\n",
      "[143]\tvalid's auc: 0.95512\n",
      "[144]\tvalid's auc: 0.955232\n",
      "[145]\tvalid's auc: 0.955034\n",
      "[146]\tvalid's auc: 0.954798\n",
      "Early stopping, best iteration is:\n",
      "[116]\tvalid's auc: 0.958586\n"
     ]
    }
   ],
   "source": [
    "model = lgb.train(params, train_data,                     \n",
    "                     valid_sets=[valid_data],\n",
    "                     num_boost_round=FIXED_PARAMS['num_boost_round'],\n",
    "                     early_stopping_rounds=FIXED_PARAMS['early_stopping_rounds'],\n",
    "                     valid_names=['valid'])"
   ]
  },
  {
   "cell_type": "code",
   "execution_count": 519,
   "id": "2eabc14f",
   "metadata": {},
   "outputs": [],
   "source": [
    "score = model.best_score['valid']['auc']"
   ]
  },
  {
   "cell_type": "code",
   "execution_count": 520,
   "id": "baf7b6ad",
   "metadata": {},
   "outputs": [
    {
     "data": {
      "text/plain": [
       "0.9598762702005784"
      ]
     },
     "execution_count": 520,
     "metadata": {},
     "output_type": "execute_result"
    }
   ],
   "source": [
    "score"
   ]
  },
  {
   "cell_type": "code",
   "execution_count": 72,
   "id": "7b28979b",
   "metadata": {},
   "outputs": [],
   "source": [
    "## score de test\n",
    "y_predict = model.predict(X_val,num_iteration=model.best_iteration)"
   ]
  },
  {
   "cell_type": "code",
   "execution_count": 73,
   "id": "a92258ed",
   "metadata": {},
   "outputs": [
    {
     "data": {
      "text/plain": [
       "116"
      ]
     },
     "execution_count": 73,
     "metadata": {},
     "output_type": "execute_result"
    }
   ],
   "source": [
    "# conocer el numero de iteraciones realizadas por el modelo\n",
    "num_iteration =model.best_iteration\n",
    "num_iteration"
   ]
  },
  {
   "cell_type": "code",
   "execution_count": 74,
   "id": "d52c1b10",
   "metadata": {},
   "outputs": [],
   "source": [
    "#convert into binary values\t\n",
    "for i in range(0,len(X_val)):\t\n",
    "    if y_predict[i]>=.5:       # setting threshold to .5\t\n",
    "            y_predict[i]=1\n",
    "    else:\n",
    "        y_predict[i]=0"
   ]
  },
  {
   "cell_type": "code",
   "execution_count": 75,
   "id": "d357bcc1",
   "metadata": {},
   "outputs": [],
   "source": [
    "accuracy=accuracy_score(y_val,y_predict)"
   ]
  },
  {
   "cell_type": "code",
   "execution_count": 76,
   "id": "381c2c90",
   "metadata": {},
   "outputs": [
    {
     "data": {
      "text/plain": [
       "0.9647228221742261"
      ]
     },
     "execution_count": 76,
     "metadata": {},
     "output_type": "execute_result"
    }
   ],
   "source": [
    "accuracy"
   ]
  },
  {
   "cell_type": "code",
   "execution_count": 77,
   "id": "51c2bc37",
   "metadata": {},
   "outputs": [
    {
     "name": "stdout",
     "output_type": "stream",
     "text": [
      "              precision    recall  f1-score   support\n",
      "\n",
      "           0       0.98      0.98      0.98      1335\n",
      "           1       0.55      0.50      0.52        54\n",
      "\n",
      "    accuracy                           0.96      1389\n",
      "   macro avg       0.77      0.74      0.75      1389\n",
      "weighted avg       0.96      0.96      0.96      1389\n",
      "\n"
     ]
    }
   ],
   "source": [
    "print(classification_report(y_val, y_predict))"
   ]
  },
  {
   "cell_type": "code",
   "execution_count": 78,
   "id": "640a875b",
   "metadata": {},
   "outputs": [
    {
     "name": "stdout",
     "output_type": "stream",
     "text": [
      "Confusion matrix, without normalization\n",
      "[[1313   22]\n",
      " [  27   27]]\n"
     ]
    },
    {
     "data": {
      "image/png": "[encoded data removed]",
      "text/plain": [
       "<Figure size 432x288 with 2 Axes>"
      ]
     },
     "metadata": {
      "needs_background": "light"
     },
     "output_type": "display_data"
    }
   ],
   "source": [
    "#confusion Matrix\n",
    "plt.figure()\n",
    "cf_matrix =confusion_matrix(y_val, y_predict,labels = [0,1])\n",
    "np.set_printoptions(precision=2)\n",
    "plot_confusion_matrix(cf_matrix, classes = [0,1], normalize= False,  title='Confusion matrix')\n",
    "plt.show()\n"
   ]
  },
  {
   "cell_type": "code",
   "execution_count": 79,
   "id": "87d41ce4",
   "metadata": {},
   "outputs": [
    {
     "data": {
      "image/png": "[encoded data removed]",
      "text/plain": [
       "<Figure size 396x396 with 1 Axes>"
      ]
     },
     "metadata": {
      "needs_background": "light"
     },
     "output_type": "display_data"
    }
   ],
   "source": [
    "### curva roc\n",
    "roc_lgbm = metrics.roc_curve(y_val, y_predict)\n",
    "auc_lgbm = metrics.auc( roc_lgbm[0], roc_lgbm[1] )\n",
    "\n",
    "\n",
    "plt.figure(figsize=(5.5,5.5))\n",
    "plt.plot(roc_lgbm[0], roc_lgbm[1], lw=1,label=f\"ROC lightGBM (AUC = {auc_lgbm:0.2f})\")\n",
    "\n",
    "plt.plot([0, 1], [0, 1], color='navy', lw=1.4, linestyle='--', label='Random guess')\n",
    "plt.xlabel('False Positive Rate')\n",
    "plt.ylabel('True Positive Rate')\n",
    "plt.title('ROC curves')\n",
    "plt.legend(loc='lower right')\n",
    "plt.gca().set_aspect(1)\n",
    "plt.grid(ls='--', alpha=0.6, lw=0.4)"
   ]
  },
  {
   "cell_type": "markdown",
   "id": "7adf6c47",
   "metadata": {},
   "source": [
    "### Evaluacion "
   ]
  },
  {
   "cell_type": "code",
   "execution_count": 94,
   "id": "aff74cc7",
   "metadata": {},
   "outputs": [
    {
     "data": {
      "text/html": [
       "<div>\n",
       "<style scoped>\n",
       "    .dataframe tbody tr th:only-of-type {\n",
       "        vertical-align: middle;\n",
       "    }\n",
       "\n",
       "    .dataframe tbody tr th {\n",
       "        vertical-align: top;\n",
       "    }\n",
       "\n",
       "    .dataframe thead th {\n",
       "        text-align: right;\n",
       "    }\n",
       "</style>\n",
       "<table border=\"1\" class=\"dataframe\">\n",
       "  <thead>\n",
       "    <tr style=\"text-align: right;\">\n",
       "      <th></th>\n",
       "      <th>Jaccard</th>\n",
       "      <th>F1-score</th>\n",
       "      <th>LogLoss</th>\n",
       "      <th>Accuracy</th>\n",
       "      <th>Recall</th>\n",
       "      <th>Precision</th>\n",
       "    </tr>\n",
       "    <tr>\n",
       "      <th>Algorithm</th>\n",
       "      <th></th>\n",
       "      <th></th>\n",
       "      <th></th>\n",
       "      <th></th>\n",
       "      <th></th>\n",
       "      <th></th>\n",
       "    </tr>\n",
       "  </thead>\n",
       "  <tbody>\n",
       "    <tr>\n",
       "      <th>Random Forest</th>\n",
       "      <td>0</td>\n",
       "      <td>0</td>\n",
       "      <td>NA</td>\n",
       "      <td>0</td>\n",
       "      <td>0</td>\n",
       "      <td>0</td>\n",
       "    </tr>\n",
       "    <tr>\n",
       "      <th>Decision Tree</th>\n",
       "      <td>0</td>\n",
       "      <td>0</td>\n",
       "      <td>NA</td>\n",
       "      <td>0</td>\n",
       "      <td>0</td>\n",
       "      <td>0</td>\n",
       "    </tr>\n",
       "    <tr>\n",
       "      <th>SVM</th>\n",
       "      <td>0</td>\n",
       "      <td>0</td>\n",
       "      <td>NA</td>\n",
       "      <td>0</td>\n",
       "      <td>0</td>\n",
       "      <td>0</td>\n",
       "    </tr>\n",
       "    <tr>\n",
       "      <th>Logistic Regression</th>\n",
       "      <td>0</td>\n",
       "      <td>0</td>\n",
       "      <td>NA</td>\n",
       "      <td>0</td>\n",
       "      <td>0</td>\n",
       "      <td>0</td>\n",
       "    </tr>\n",
       "    <tr>\n",
       "      <th>LightGBM</th>\n",
       "      <td>0</td>\n",
       "      <td>0</td>\n",
       "      <td>NA</td>\n",
       "      <td>0</td>\n",
       "      <td>0</td>\n",
       "      <td>0</td>\n",
       "    </tr>\n",
       "    <tr>\n",
       "      <th>LightGBM_OPT</th>\n",
       "      <td>0</td>\n",
       "      <td>0</td>\n",
       "      <td>NA</td>\n",
       "      <td>0</td>\n",
       "      <td>0</td>\n",
       "      <td>0</td>\n",
       "    </tr>\n",
       "  </tbody>\n",
       "</table>\n",
       "</div>"
      ],
      "text/plain": [
       "                     Jaccard  F1-score LogLoss  Accuracy  Recall  Precision\n",
       "Algorithm                                                                  \n",
       "Random Forest              0         0      NA         0       0          0\n",
       "Decision Tree              0         0      NA         0       0          0\n",
       "SVM                        0         0      NA         0       0          0\n",
       "Logistic Regression        0         0      NA         0       0          0\n",
       "LightGBM                   0         0      NA         0       0          0\n",
       "LightGBM_OPT               0         0      NA         0       0          0"
      ]
     },
     "execution_count": 94,
     "metadata": {},
     "output_type": "execute_result"
    }
   ],
   "source": [
    "columns=['Algorithm','Jaccard','F1-score','LogLoss','Accuracy','Recall','Precision']\n",
    "matrix=pd.DataFrame([['Random Forest',0,0,'NA',0,0,0],\n",
    "                     ['Decision Tree',0,0,'NA',0,0,0],\n",
    "                     ['SVM',0,0,'NA',0,0,0],\n",
    "                     ['Logistic Regression',0,0,'NA',0,0,0],\n",
    "                     ['LightGBM',0,0,'NA',0,0,0],\n",
    "                     ['LightGBM_OPT',0,0,'NA',0,0,0]],columns=columns)\n",
    "matrix=matrix.set_index('Algorithm')\n",
    "matrix"
   ]
  },
  {
   "cell_type": "markdown",
   "id": "6208b675",
   "metadata": {},
   "source": [
    "### Evaluacion Decision Tree"
   ]
  },
  {
   "cell_type": "code",
   "execution_count": 95,
   "id": "41ea90d4",
   "metadata": {},
   "outputs": [],
   "source": [
    "#loanTree = DecisionTreeClassifier(criterion=\"entropy\", max_depth = 4).fit(X_val,y_val)\n",
    "yhat_DT_val=drugTree.predict(X_val)\n",
    "pscores_tree_val = drugTree.predict_proba(X_val)\n",
    "y_pred_DT_val = pscores_tree_val[:,1]>0.8\n",
    "#Jaccard\n",
    "jaccard_DT=jaccard_score(y_val, y_pred_DT_val)\n",
    "#F1-score\n",
    "f1_DT=f1_score(y_val, y_pred_DT_val, average='weighted')\n",
    "#LogLoss\n",
    "logLoss_DT=log_loss(y_val, y_pred_DT_val)\n",
    "#accuracy\n",
    "accuracy_DT=accuracy_score(y_val, y_pred_DT_val)\n",
    "#recall\n",
    "recall_DT=recall_score(y_val, y_pred_DT_val, average='weighted')\n",
    "#Precision\n",
    "precision_DT= precision_score(y_val, y_pred_DT_val, average='weighted')"
   ]
  },
  {
   "cell_type": "markdown",
   "id": "6aa3ade5",
   "metadata": {},
   "source": [
    "### Evaluacion SVM"
   ]
  },
  {
   "cell_type": "code",
   "execution_count": 96,
   "id": "01c2ac67",
   "metadata": {},
   "outputs": [],
   "source": [
    "#loanSVM = svm.SVC(kernel='rbf').fit(X_val,y_val)\n",
    "yhat_SVM_val = clf.predict(X_val)\n",
    "pscores_svm_val = clf.predict_proba(X_val)\n",
    "y_pred_SVM_val = pscores_svm_val[:,1]>0.5\n",
    "#Jaccard\n",
    "jaccard_SVM=jaccard_score(y_val, y_pred_SVM_val)\n",
    "#F1-score\n",
    "f1_SVM=f1_score(y_val, y_pred_SVM_val, average='weighted')\n",
    "#LogLoss\n",
    "logLoss_SVM=log_loss(y_val, y_pred_SVM_val)\n",
    "#accuracy\n",
    "accuracy_SVM=accuracy_score(y_val, y_pred_SVM_val)\n",
    "#recall\n",
    "recall_SVM=recall_score(y_val, y_pred_SVM_val, average='weighted')\n",
    "#Precision\n",
    "precision_SVM= precision_score(y_val, y_pred_SVM_val, average='weighted')"
   ]
  },
  {
   "cell_type": "markdown",
   "id": "73316bd5",
   "metadata": {},
   "source": [
    "### Evaluacion de logistic regression "
   ]
  },
  {
   "cell_type": "code",
   "execution_count": 97,
   "id": "50a8698d",
   "metadata": {},
   "outputs": [],
   "source": [
    "#loanLR = LogisticRegression(C=0.05, solver='liblinear').fit(X_val,y_val)\n",
    "yhat_LR_val = LR.predict(X_val)\n",
    "pscores_LR_val = LR.predict_proba(X_val)\n",
    "y_pred_LR_val = pscores_LR_val[:,1]>0.62\n",
    "#Jaccard\n",
    "jaccard_LR=jaccard_score(y_val, y_pred_LR_val)\n",
    "#F1-score\n",
    "f1_LR=f1_score(y_val, y_pred_LR_val, average='weighted')\n",
    "#LogLoss\n",
    "logLoss_LR=log_loss(y_val, y_pred_LR_val)\n",
    "#accuracy\n",
    "accuracy_LR=accuracy_score(y_val, y_pred_LR_val)\n",
    "#recall\n",
    "recall_LR=recall_score(y_val, y_pred_LR_val, average='weighted')\n",
    "#Precision\n",
    "precision_LR= precision_score(y_val, y_pred_LR_val, average='weighted')"
   ]
  },
  {
   "cell_type": "markdown",
   "id": "0dc1d8b0",
   "metadata": {},
   "source": [
    "### Evaluacion Random Forest"
   ]
  },
  {
   "cell_type": "code",
   "execution_count": 98,
   "id": "87806bb4",
   "metadata": {},
   "outputs": [],
   "source": [
    "#loanRF = RandomForestClassifier(n_estimators=10, max_depth=3, random_state=4).fit(X_val,y_val)\n",
    "yhat_RF_val = forest_class.predict(X_val)\n",
    "pscores_forest_val = forest_class.predict_proba(X_val)\n",
    "y_pred_forest_val = pscores_forest_val[:,1]>0.65\n",
    "#Jaccard\n",
    "jaccard_RF=jaccard_score(y_val, y_pred_forest_val)\n",
    "#F1-score\n",
    "f1_RF=f1_score(y_val, y_pred_forest_val, average='weighted')\n",
    "#LogLoss\n",
    "log_RF=log_loss(y_val, y_pred_forest_val)\n",
    "#Accuracy\n",
    "accuracy_RF=accuracy_score(y_val, y_pred_forest_val)\n",
    "#recall\n",
    "recall_RF=recall_score(y_val, y_pred_forest_val, average='weighted')\n",
    "#Precision\n",
    "precision_RF= precision_score(y_val, y_pred_forest_val, average='weighted')"
   ]
  },
  {
   "cell_type": "markdown",
   "id": "4bc8a817",
   "metadata": {},
   "source": [
    "### Evaluacion LightGBM"
   ]
  },
  {
   "cell_type": "code",
   "execution_count": 99,
   "id": "24f9c0be",
   "metadata": {},
   "outputs": [],
   "source": [
    "#loanRF = RandomForestClassifier(n_estimators=10, max_depth=3, random_state=4).fit(X_val,y_val)\n",
    "yhat_LGBM = model.predict(X_val,num_iteration=model.best_iteration)\n",
    "\n",
    "#convert into binary values\t\n",
    "for i in range(0,len(X_val)):\t\n",
    "    if yhat_LGBM[i]>=.5:       # setting threshold to .5\t\n",
    "            yhat_LGBM[i]=1\n",
    "    else:\n",
    "        yhat_LGBM[i]=0\n",
    "#Jaccard\n",
    "jaccard_LGBM=jaccard_score(y_val, yhat_LGBM)\n",
    "#F1-score\n",
    "f1_LGBM=f1_score(y_val, yhat_LGBM, average='weighted')\n",
    "#LogLoss\n",
    "logLoss_LGBM=log_loss(y_val, yhat_LGBM)\n",
    "#Accuracy\n",
    "accuracy_LGBM=accuracy_score(y_val, yhat_LGBM)\n",
    "#recall\n",
    "recall_LGBM=recall_score(y_val, yhat_LGBM, average='weighted')\n",
    "#Precision\n",
    "precision_LGBM= precision_score(y_val, yhat_LGBM, average='weighted')"
   ]
  },
  {
   "cell_type": "markdown",
   "id": "feadd2ec",
   "metadata": {},
   "source": [
    "### Evaluacion LighGBM Optimizado Optuna"
   ]
  },
  {
   "cell_type": "code",
   "execution_count": 100,
   "id": "cc239d7d",
   "metadata": {},
   "outputs": [],
   "source": [
    "ypred_opt = model_opt.predict(X_val, num_iteration=model_opt.best_iteration)\n",
    "#convert into binary values\t\n",
    "for i in range(0,len(X_val)):\t\n",
    "    if ypred_opt[i]>=.5:       # setting threshold to .5\t\n",
    "            ypred_opt[i]=1\n",
    "    else:\n",
    "        ypred_opt[i]=0\n",
    "#Jaccard\n",
    "jaccard_opt=jaccard_score(y_val, ypred_opt)\n",
    "#F1-score\n",
    "f1_opt=f1_score(y_val, ypred_opt, average='weighted')\n",
    "#LogLoss\n",
    "logLoss_opt=log_loss(y_val, ypred_opt)\n",
    "#Accuracy\n",
    "accuracy_opt=accuracy_score(y_val, ypred_opt)\n",
    "#recall\n",
    "recall_opt=recall_score(y_val, ypred_opt, average='weighted')\n",
    "#Precision\n",
    "precision_opt= precision_score(y_val, ypred_opt, average='weighted')"
   ]
  },
  {
   "cell_type": "code",
   "execution_count": 101,
   "id": "9f6925ae",
   "metadata": {},
   "outputs": [
    {
     "name": "stdout",
     "output_type": "stream",
     "text": [
      "Confusion matrix, without normalization\n",
      "[[1314   21]\n",
      " [  21   33]]\n"
     ]
    },
    {
     "data": {
      "image/png": "[encoded data removed]",
      "text/plain": [
       "<Figure size 432x288 with 2 Axes>"
      ]
     },
     "metadata": {
      "needs_background": "light"
     },
     "output_type": "display_data"
    },
    {
     "name": "stdout",
     "output_type": "stream",
     "text": [
      "              precision    recall  f1-score   support\n",
      "\n",
      "           0       0.98      0.98      0.98      1335\n",
      "           1       0.61      0.61      0.61        54\n",
      "\n",
      "    accuracy                           0.97      1389\n",
      "   macro avg       0.80      0.80      0.80      1389\n",
      "weighted avg       0.97      0.97      0.97      1389\n",
      "\n"
     ]
    }
   ],
   "source": [
    "#confusion Matrix\n",
    "plt.figure()\n",
    "cf_matrix_op =confusion_matrix(y_val, ypred_opt, labels = [0,1])\n",
    "np.set_printoptions(precision=2)\n",
    "plot_confusion_matrix(cf_matrix_op, classes = [0,1], normalize= False,  title='Confusion matrix')\n",
    "plt.show()\n",
    "print (classification_report(y_val, ypred_opt))"
   ]
  },
  {
   "cell_type": "code",
   "execution_count": 102,
   "id": "aa38ea23",
   "metadata": {},
   "outputs": [
    {
     "data": {
      "text/html": [
       "<div>\n",
       "<style scoped>\n",
       "    .dataframe tbody tr th:only-of-type {\n",
       "        vertical-align: middle;\n",
       "    }\n",
       "\n",
       "    .dataframe tbody tr th {\n",
       "        vertical-align: top;\n",
       "    }\n",
       "\n",
       "    .dataframe thead th {\n",
       "        text-align: right;\n",
       "    }\n",
       "</style>\n",
       "<table border=\"1\" class=\"dataframe\">\n",
       "  <thead>\n",
       "    <tr style=\"text-align: right;\">\n",
       "      <th></th>\n",
       "      <th>Jaccard</th>\n",
       "      <th>F1-score</th>\n",
       "      <th>LogLoss</th>\n",
       "      <th>Accuracy</th>\n",
       "      <th>Recall</th>\n",
       "      <th>Precision</th>\n",
       "    </tr>\n",
       "    <tr>\n",
       "      <th>Algorithm</th>\n",
       "      <th></th>\n",
       "      <th></th>\n",
       "      <th></th>\n",
       "      <th></th>\n",
       "      <th></th>\n",
       "      <th></th>\n",
       "    </tr>\n",
       "  </thead>\n",
       "  <tbody>\n",
       "    <tr>\n",
       "      <th>Random Forest</th>\n",
       "      <td>0.153226</td>\n",
       "      <td>0.890461</td>\n",
       "      <td>5.221957</td>\n",
       "      <td>0.848812</td>\n",
       "      <td>0.848812</td>\n",
       "      <td>0.954200</td>\n",
       "    </tr>\n",
       "    <tr>\n",
       "      <th>Decision Tree</th>\n",
       "      <td>0.163866</td>\n",
       "      <td>0.895596</td>\n",
       "      <td>4.948426</td>\n",
       "      <td>0.856731</td>\n",
       "      <td>0.856731</td>\n",
       "      <td>0.955558</td>\n",
       "    </tr>\n",
       "    <tr>\n",
       "      <th>SVM</th>\n",
       "      <td>0.052058</td>\n",
       "      <td>0.570754</td>\n",
       "      <td>19.470467</td>\n",
       "      <td>0.436285</td>\n",
       "      <td>0.436285</td>\n",
       "      <td>0.944756</td>\n",
       "    </tr>\n",
       "    <tr>\n",
       "      <th>Logistic Regression</th>\n",
       "      <td>0.078624</td>\n",
       "      <td>0.812699</td>\n",
       "      <td>9.324927</td>\n",
       "      <td>0.730022</td>\n",
       "      <td>0.730022</td>\n",
       "      <td>0.943294</td>\n",
       "    </tr>\n",
       "    <tr>\n",
       "      <th>LightGBM</th>\n",
       "      <td>0.355263</td>\n",
       "      <td>0.963900</td>\n",
       "      <td>1.218443</td>\n",
       "      <td>0.964723</td>\n",
       "      <td>0.964723</td>\n",
       "      <td>0.963179</td>\n",
       "    </tr>\n",
       "    <tr>\n",
       "      <th>LightGBM_OPT</th>\n",
       "      <td>0.440000</td>\n",
       "      <td>0.969762</td>\n",
       "      <td>1.044381</td>\n",
       "      <td>0.969762</td>\n",
       "      <td>0.969762</td>\n",
       "      <td>0.969762</td>\n",
       "    </tr>\n",
       "  </tbody>\n",
       "</table>\n",
       "</div>"
      ],
      "text/plain": [
       "                      Jaccard  F1-score    LogLoss  Accuracy    Recall  \\\n",
       "Algorithm                                                                \n",
       "Random Forest        0.153226  0.890461   5.221957  0.848812  0.848812   \n",
       "Decision Tree        0.163866  0.895596   4.948426  0.856731  0.856731   \n",
       "SVM                  0.052058  0.570754  19.470467  0.436285  0.436285   \n",
       "Logistic Regression  0.078624  0.812699   9.324927  0.730022  0.730022   \n",
       "LightGBM             0.355263  0.963900   1.218443  0.964723  0.964723   \n",
       "LightGBM_OPT         0.440000  0.969762   1.044381  0.969762  0.969762   \n",
       "\n",
       "                     Precision  \n",
       "Algorithm                       \n",
       "Random Forest         0.954200  \n",
       "Decision Tree         0.955558  \n",
       "SVM                   0.944756  \n",
       "Logistic Regression   0.943294  \n",
       "LightGBM              0.963179  \n",
       "LightGBM_OPT          0.969762  "
      ]
     },
     "execution_count": 102,
     "metadata": {},
     "output_type": "execute_result"
    }
   ],
   "source": [
    "matrix.at['Random Forest',['Jaccard','F1-score','LogLoss','Accuracy','Recall','Precision']] = [jaccard_RF,f1_RF,log_RF,accuracy_RF,recall_RF,precision_RF]\n",
    "matrix.at['Decision Tree',['Jaccard','F1-score','LogLoss','Accuracy','Recall','Precision']] = [jaccard_DT,f1_DT,logLoss_DT,accuracy_DT,recall_DT,precision_DT]\n",
    "matrix.at['SVM',['Jaccard','F1-score','LogLoss','Accuracy','Recall','Precision']] = [jaccard_SVM,f1_SVM,logLoss_SVM,accuracy_SVM,recall_SVM,precision_SVM]\n",
    "matrix.at['Logistic Regression',['Jaccard','F1-score','LogLoss','Accuracy','Recall','Precision']] = [jaccard_LR,f1_LR,logLoss_LR,accuracy_LR,recall_LR,precision_LR]\n",
    "matrix.at['LightGBM',['Jaccard','F1-score','LogLoss','Accuracy','Recall','Precision']] = [jaccard_LGBM,f1_LGBM,logLoss_LGBM,accuracy_LGBM,recall_LGBM,precision_LGBM]\n",
    "matrix.at['LightGBM_OPT',['Jaccard','F1-score','LogLoss','Accuracy','Recall','Precision']] = [jaccard_opt,f1_opt,logLoss_opt,accuracy_opt,recall_opt,precision_opt]\n",
    "matrix"
   ]
  },
  {
   "cell_type": "code",
   "execution_count": null,
   "id": "59990af0",
   "metadata": {},
   "outputs": [],
   "source": [
    "#KNN\n",
    "import pickle    \n",
    "with open('KDD_model.pkl', 'wb') as model_file:\n",
    "  pickle.dump(neighKNN, model_file)"
   ]
  },
  {
   "cell_type": "markdown",
   "id": "a6892c1b",
   "metadata": {},
   "source": [
    "## Optuna "
   ]
  },
  {
   "cell_type": "code",
   "execution_count": 80,
   "id": "659a1d45",
   "metadata": {},
   "outputs": [],
   "source": [
    "def objective(trial):\n",
    "    #Split Train - Test. 80%-20%\n",
    "    X_train, X_test, y_train, y_test = train_test_split(X, y, test_size=0.2, random_state=2,stratify=df_encoder[\"Estado_label\"])\n",
    "    # del 80% del test sacamos 10% para validacion queda 72% train 20%  valid 8%\n",
    "    X_train, X_val, y_train, y_val = train_test_split(X_train, y_train, test_size=0.1, random_state=2)\n",
    "\n",
    "    \n",
    "    #X_train, X_test, y_train, y_test = train_test_split( X, y, test_size=0.2,random_state=2, stratify=df_encoder[\"Estado_label\"])\n",
    "    #X_train, X_test, y_train, y_test = train_test_split(X, y, test_size=0.2, random_state=2)\n",
    "    # transform the dataset  SMOTE\n",
    "    oversample = SMOTE()\n",
    "    X_train, y_train = oversample.fit_resample(X_train, y_train)\n",
    "    dtrain = lgb.Dataset(X_train, label=y_train)\n",
    "    param = {\n",
    "        \"objective\": \"binary\",\n",
    "        \"metric\": \"binary_logloss\",\n",
    "        \"verbosity\": -1,\n",
    "        \"boosting_type\": \"gbdt\",\n",
    "        \"lambda_l1\": trial.suggest_float(\"lambda_l1\", 1e-8, 10.0, log=True),\n",
    "        \"lambda_l2\": trial.suggest_float(\"lambda_l2\", 1e-8, 10.0, log=True),\n",
    "        \"num_leaves\": trial.suggest_int(\"num_leaves\", 2, 256),\n",
    "        \"feature_fraction\": trial.suggest_float(\"feature_fraction\", 0.4, 1.0),\n",
    "        \"bagging_fraction\": trial.suggest_float(\"bagging_fraction\", 0.4, 1.0),\n",
    "        \"bagging_freq\": trial.suggest_int(\"bagging_freq\", 1, 7),\n",
    "        \"min_child_samples\": trial.suggest_int(\"min_child_samples\", 5, 100),\n",
    "        }    \n",
    "        \n",
    "        \n",
    "    gbm = lgb.train(param, dtrain)\n",
    "    preds = gbm.predict(X_test)\n",
    "    pred_labels = np.rint(preds)\n",
    "    accuracy = accuracy_score(y_test, pred_labels)\n",
    "    return accuracy\n",
    "    "
   ]
  },
  {
   "cell_type": "code",
   "execution_count": 81,
   "id": "b026ad58",
   "metadata": {},
   "outputs": [
    {
     "name": "stderr",
     "output_type": "stream",
     "text": [
      "\u001b[32m[I 2021-12-05 20:53:41,151]\u001b[0m A new study created in memory with name: no-name-0199cd00-3718-429e-a4f1-81b5eda43826\u001b[0m\n",
      "\u001b[32m[I 2021-12-05 20:53:42,881]\u001b[0m Trial 0 finished with value: 0.9340437788018433 and parameters: {'lambda_l1': 9.216871792338734, 'lambda_l2': 0.0003630260218771075, 'num_leaves': 5, 'feature_fraction': 0.6595360723512765, 'bagging_fraction': 0.4455050009922444, 'bagging_freq': 3, 'min_child_samples': 23}. Best is trial 0 with value: 0.9340437788018433.\u001b[0m\n",
      "\u001b[32m[I 2021-12-05 20:53:52,200]\u001b[0m Trial 1 finished with value: 0.9700460829493087 and parameters: {'lambda_l1': 7.458380269408399e-05, 'lambda_l2': 1.0908838530390997e-06, 'num_leaves': 40, 'feature_fraction': 0.7202784291064152, 'bagging_fraction': 0.6465236364164685, 'bagging_freq': 3, 'min_child_samples': 80}. Best is trial 1 with value: 0.9700460829493087.\u001b[0m\n",
      "\u001b[32m[I 2021-12-05 20:53:53,355]\u001b[0m Trial 2 finished with value: 0.9691820276497696 and parameters: {'lambda_l1': 6.111140579406084e-07, 'lambda_l2': 0.0014768861844953053, 'num_leaves': 78, 'feature_fraction': 0.5301125001648361, 'bagging_fraction': 0.5956704341156634, 'bagging_freq': 5, 'min_child_samples': 43}. Best is trial 1 with value: 0.9700460829493087.\u001b[0m\n",
      "\u001b[32m[I 2021-12-05 20:53:54,982]\u001b[0m Trial 3 finished with value: 0.9700460829493087 and parameters: {'lambda_l1': 7.749999423252739e-07, 'lambda_l2': 0.03663410744783048, 'num_leaves': 250, 'feature_fraction': 0.9033274030765027, 'bagging_fraction': 0.4615138007365905, 'bagging_freq': 3, 'min_child_samples': 70}. Best is trial 1 with value: 0.9700460829493087.\u001b[0m\n",
      "\u001b[32m[I 2021-12-05 20:54:02,434]\u001b[0m Trial 4 finished with value: 0.9686059907834101 and parameters: {'lambda_l1': 2.398241903299951e-05, 'lambda_l2': 1.024838632574052e-08, 'num_leaves': 151, 'feature_fraction': 0.6490775891043872, 'bagging_fraction': 0.4226976489254497, 'bagging_freq': 5, 'min_child_samples': 34}. Best is trial 1 with value: 0.9700460829493087.\u001b[0m\n",
      "\u001b[32m[I 2021-12-05 20:54:06,843]\u001b[0m Trial 5 finished with value: 0.9674539170506913 and parameters: {'lambda_l1': 0.0019317299494756468, 'lambda_l2': 3.63873892416556e-05, 'num_leaves': 138, 'feature_fraction': 0.9559021946570573, 'bagging_fraction': 0.9535782218920287, 'bagging_freq': 6, 'min_child_samples': 88}. Best is trial 1 with value: 0.9700460829493087.\u001b[0m\n",
      "\u001b[32m[I 2021-12-05 20:54:41,104]\u001b[0m Trial 6 finished with value: 0.9657258064516129 and parameters: {'lambda_l1': 1.3396081189322755e-07, 'lambda_l2': 0.008927576735614829, 'num_leaves': 244, 'feature_fraction': 0.7754115593637023, 'bagging_fraction': 0.43575359127464663, 'bagging_freq': 1, 'min_child_samples': 19}. Best is trial 1 with value: 0.9700460829493087.\u001b[0m\n",
      "\u001b[32m[I 2021-12-05 20:54:43,659]\u001b[0m Trial 7 finished with value: 0.9686059907834101 and parameters: {'lambda_l1': 9.129133509908053e-06, 'lambda_l2': 2.205746259177518, 'num_leaves': 48, 'feature_fraction': 0.4973671628619757, 'bagging_fraction': 0.9041539718359749, 'bagging_freq': 4, 'min_child_samples': 76}. Best is trial 1 with value: 0.9700460829493087.\u001b[0m\n",
      "\u001b[32m[I 2021-12-05 20:55:10,217]\u001b[0m Trial 8 finished with value: 0.9691820276497696 and parameters: {'lambda_l1': 0.08057624296127923, 'lambda_l2': 4.995449174613659e-08, 'num_leaves': 197, 'feature_fraction': 0.6534527226335418, 'bagging_fraction': 0.8756678628883783, 'bagging_freq': 3, 'min_child_samples': 44}. Best is trial 1 with value: 0.9700460829493087.\u001b[0m\n",
      "\u001b[32m[I 2021-12-05 20:55:11,095]\u001b[0m Trial 9 finished with value: 0.9694700460829493 and parameters: {'lambda_l1': 2.201644332758083e-07, 'lambda_l2': 0.0061692428174163665, 'num_leaves': 73, 'feature_fraction': 0.6563568001524857, 'bagging_fraction': 0.7238213892327241, 'bagging_freq': 5, 'min_child_samples': 84}. Best is trial 1 with value: 0.9700460829493087.\u001b[0m\n",
      "\u001b[32m[I 2021-12-05 20:55:23,569]\u001b[0m Trial 10 finished with value: 0.8925691244239631 and parameters: {'lambda_l1': 0.006184590159691235, 'lambda_l2': 1.5031114801183589e-06, 'num_leaves': 3, 'feature_fraction': 0.8211335689940384, 'bagging_fraction': 0.7203850362292755, 'bagging_freq': 1, 'min_child_samples': 62}. Best is trial 1 with value: 0.9700460829493087.\u001b[0m\n",
      "\u001b[32m[I 2021-12-05 20:55:25,976]\u001b[0m Trial 11 finished with value: 0.969758064516129 and parameters: {'lambda_l1': 4.2685636781737944e-05, 'lambda_l2': 0.6298332218520964, 'num_leaves': 256, 'feature_fraction': 0.9965367598045998, 'bagging_fraction': 0.5698229948935037, 'bagging_freq': 3, 'min_child_samples': 100}. Best is trial 1 with value: 0.9700460829493087.\u001b[0m\n",
      "\u001b[32m[I 2021-12-05 20:55:28,719]\u001b[0m Trial 12 finished with value: 0.9671658986175116 and parameters: {'lambda_l1': 1.1601667192603892e-08, 'lambda_l2': 9.139114605114436e-06, 'num_leaves': 188, 'feature_fraction': 0.8732215228262084, 'bagging_fraction': 0.5677966081438952, 'bagging_freq': 2, 'min_child_samples': 65}. Best is trial 1 with value: 0.9700460829493087.\u001b[0m\n",
      "\u001b[32m[I 2021-12-05 20:55:33,772]\u001b[0m Trial 13 finished with value: 0.969758064516129 and parameters: {'lambda_l1': 1.7417497844897425e-06, 'lambda_l2': 0.22310875461269383, 'num_leaves': 91, 'feature_fraction': 0.7590077085098587, 'bagging_fraction': 0.8137957716596504, 'bagging_freq': 7, 'min_child_samples': 67}. Best is trial 1 with value: 0.9700460829493087.\u001b[0m\n",
      "\u001b[32m[I 2021-12-05 20:55:35,720]\u001b[0m Trial 14 finished with value: 0.967741935483871 and parameters: {'lambda_l1': 0.0002984379058084346, 'lambda_l2': 5.315292158312466e-07, 'num_leaves': 190, 'feature_fraction': 0.8817788247487712, 'bagging_fraction': 0.6431609091882404, 'bagging_freq': 2, 'min_child_samples': 100}. Best is trial 1 with value: 0.9700460829493087.\u001b[0m\n",
      "\u001b[32m[I 2021-12-05 20:55:40,077]\u001b[0m Trial 15 finished with value: 0.9688940092165899 and parameters: {'lambda_l1': 0.00024238331590813829, 'lambda_l2': 0.12983702658842258, 'num_leaves': 110, 'feature_fraction': 0.5654323374960646, 'bagging_fraction': 0.5017329007551542, 'bagging_freq': 4, 'min_child_samples': 54}. Best is trial 1 with value: 0.9700460829493087.\u001b[0m\n",
      "\u001b[32m[I 2021-12-05 20:55:59,385]\u001b[0m Trial 16 finished with value: 0.9703341013824884 and parameters: {'lambda_l1': 1.1371032581150703e-08, 'lambda_l2': 4.9416596644823116e-05, 'num_leaves': 41, 'feature_fraction': 0.43680003373437637, 'bagging_fraction': 0.7885901882395407, 'bagging_freq': 2, 'min_child_samples': 80}. Best is trial 16 with value: 0.9703341013824884.\u001b[0m\n",
      "\u001b[32m[I 2021-12-05 20:56:01,096]\u001b[0m Trial 17 finished with value: 0.9671658986175116 and parameters: {'lambda_l1': 1.1378538181332106e-08, 'lambda_l2': 4.2759021375436314e-05, 'num_leaves': 33, 'feature_fraction': 0.4358283403466631, 'bagging_fraction': 0.779817220778519, 'bagging_freq': 2, 'min_child_samples': 83}. Best is trial 16 with value: 0.9703341013824884.\u001b[0m\n",
      "\u001b[32m[I 2021-12-05 20:56:05,338]\u001b[0m Trial 18 finished with value: 0.9691820276497696 and parameters: {'lambda_l1': 0.3066741037746855, 'lambda_l2': 3.8876587579220824e-07, 'num_leaves': 44, 'feature_fraction': 0.4014487278019382, 'bagging_fraction': 0.8138751849312117, 'bagging_freq': 1, 'min_child_samples': 91}. Best is trial 16 with value: 0.9703341013824884.\u001b[0m\n",
      "\u001b[32m[I 2021-12-05 20:57:34,516]\u001b[0m Trial 19 finished with value: 0.9691820276497696 and parameters: {'lambda_l1': 0.009646713072649808, 'lambda_l2': 9.523146942963062e-06, 'num_leaves': 24, 'feature_fraction': 0.5797428571211954, 'bagging_fraction': 0.6611758270102289, 'bagging_freq': 4, 'min_child_samples': 8}. Best is trial 16 with value: 0.9703341013824884.\u001b[0m\n",
      "\u001b[32m[I 2021-12-05 20:57:36,724]\u001b[0m Trial 20 finished with value: 0.9703341013824884 and parameters: {'lambda_l1': 5.762628467923401e-08, 'lambda_l2': 0.0002974178335509599, 'num_leaves': 65, 'feature_fraction': 0.7291788752037245, 'bagging_fraction': 0.9932371512488876, 'bagging_freq': 2, 'min_child_samples': 56}. Best is trial 16 with value: 0.9703341013824884.\u001b[0m\n",
      "\u001b[32m[I 2021-12-05 20:58:19,681]\u001b[0m Trial 21 finished with value: 0.9706221198156681 and parameters: {'lambda_l1': 6.953373994101827e-08, 'lambda_l2': 0.00014411995482133239, 'num_leaves': 60, 'feature_fraction': 0.7337519159822555, 'bagging_fraction': 0.9791878316699714, 'bagging_freq': 2, 'min_child_samples': 54}. Best is trial 21 with value: 0.9706221198156681.\u001b[0m\n"
     ]
    },
    {
     "name": "stderr",
     "output_type": "stream",
     "text": [
      "\u001b[32m[I 2021-12-05 20:58:57,530]\u001b[0m Trial 22 finished with value: 0.9688940092165899 and parameters: {'lambda_l1': 2.820368105610293e-08, 'lambda_l2': 0.00030616923348387645, 'num_leaves': 64, 'feature_fraction': 0.8064737008689037, 'bagging_fraction': 0.9999363532091842, 'bagging_freq': 2, 'min_child_samples': 55}. Best is trial 21 with value: 0.9706221198156681.\u001b[0m\n",
      "\u001b[32m[I 2021-12-05 20:59:01,531]\u001b[0m Trial 23 finished with value: 0.9691820276497696 and parameters: {'lambda_l1': 6.027488880312368e-08, 'lambda_l2': 0.0002508313222671922, 'num_leaves': 92, 'feature_fraction': 0.7069470162482709, 'bagging_fraction': 0.9198352306350019, 'bagging_freq': 2, 'min_child_samples': 47}. Best is trial 21 with value: 0.9706221198156681.\u001b[0m\n",
      "\u001b[32m[I 2021-12-05 21:00:13,930]\u001b[0m Trial 24 finished with value: 0.967741935483871 and parameters: {'lambda_l1': 3.4691070677288853e-06, 'lambda_l2': 6.0476131660729155e-05, 'num_leaves': 111, 'feature_fraction': 0.7386544265585476, 'bagging_fraction': 0.9761914005265311, 'bagging_freq': 1, 'min_child_samples': 59}. Best is trial 21 with value: 0.9706221198156681.\u001b[0m\n",
      "\u001b[32m[I 2021-12-05 21:00:15,772]\u001b[0m Trial 25 finished with value: 0.9691820276497696 and parameters: {'lambda_l1': 1.457417251881313e-07, 'lambda_l2': 0.0013373035293486068, 'num_leaves': 59, 'feature_fraction': 0.6049721107479752, 'bagging_fraction': 0.8685894868093967, 'bagging_freq': 2, 'min_child_samples': 38}. Best is trial 21 with value: 0.9706221198156681.\u001b[0m\n",
      "\u001b[32m[I 2021-12-05 21:00:17,928]\u001b[0m Trial 26 finished with value: 0.9683179723502304 and parameters: {'lambda_l1': 4.7719522128541676e-08, 'lambda_l2': 5.486611164789389e-06, 'num_leaves': 27, 'feature_fraction': 0.4646866859178372, 'bagging_fraction': 0.9498321608912336, 'bagging_freq': 1, 'min_child_samples': 72}. Best is trial 21 with value: 0.9706221198156681.\u001b[0m\n",
      "\u001b[32m[I 2021-12-05 21:00:29,761]\u001b[0m Trial 27 finished with value: 0.9686059907834101 and parameters: {'lambda_l1': 4.5847837874068384e-07, 'lambda_l2': 0.0022791368547236484, 'num_leaves': 110, 'feature_fraction': 0.8194561199178436, 'bagging_fraction': 0.8489688851283045, 'bagging_freq': 3, 'min_child_samples': 33}. Best is trial 21 with value: 0.9706221198156681.\u001b[0m\n",
      "\u001b[32m[I 2021-12-05 21:00:59,795]\u001b[0m Trial 28 finished with value: 0.9671658986175116 and parameters: {'lambda_l1': 3.5695457427316654e-06, 'lambda_l2': 0.00014632007323951994, 'num_leaves': 90, 'feature_fraction': 0.6933169343882238, 'bagging_fraction': 0.9189076047297294, 'bagging_freq': 2, 'min_child_samples': 50}. Best is trial 21 with value: 0.9706221198156681.\u001b[0m\n",
      "\u001b[32m[I 2021-12-05 21:01:05,773]\u001b[0m Trial 29 finished with value: 0.964573732718894 and parameters: {'lambda_l1': 3.2509592564121203e-08, 'lambda_l2': 0.0007009025909289625, 'num_leaves': 16, 'feature_fraction': 0.624320524267249, 'bagging_fraction': 0.7543612839784021, 'bagging_freq': 1, 'min_child_samples': 24}. Best is trial 21 with value: 0.9706221198156681.\u001b[0m\n",
      "\u001b[32m[I 2021-12-05 21:01:44,417]\u001b[0m Trial 30 finished with value: 0.9706221198156681 and parameters: {'lambda_l1': 1.2775987968711633e-08, 'lambda_l2': 0.007868047630101915, 'num_leaves': 56, 'feature_fraction': 0.6947612937281108, 'bagging_fraction': 0.9989906653756864, 'bagging_freq': 3, 'min_child_samples': 61}. Best is trial 21 with value: 0.9706221198156681.\u001b[0m\n",
      "\u001b[32m[I 2021-12-05 21:01:46,097]\u001b[0m Trial 31 finished with value: 0.9703341013824884 and parameters: {'lambda_l1': 1.1133059180973397e-08, 'lambda_l2': 0.010901329297870008, 'num_leaves': 55, 'feature_fraction': 0.6874628566716041, 'bagging_fraction': 0.9912737301745307, 'bagging_freq': 3, 'min_child_samples': 55}. Best is trial 21 with value: 0.9706221198156681.\u001b[0m\n",
      "\u001b[32m[I 2021-12-05 21:01:57,551]\u001b[0m Trial 32 finished with value: 0.970910138248848 and parameters: {'lambda_l1': 1.529503696081324e-07, 'lambda_l2': 0.017170711080001722, 'num_leaves': 57, 'feature_fraction': 0.6826826786677279, 'bagging_fraction': 0.989401895758391, 'bagging_freq': 3, 'min_child_samples': 53}. Best is trial 32 with value: 0.970910138248848.\u001b[0m\n",
      "\u001b[32m[I 2021-12-05 21:02:09,200]\u001b[0m Trial 33 finished with value: 0.9711981566820277 and parameters: {'lambda_l1': 1.5900054010184053e-07, 'lambda_l2': 0.018292324630723274, 'num_leaves': 75, 'feature_fraction': 0.7794633159972287, 'bagging_fraction': 0.9517750067421381, 'bagging_freq': 3, 'min_child_samples': 59}. Best is trial 33 with value: 0.9711981566820277.\u001b[0m\n",
      "\u001b[32m[I 2021-12-05 21:03:04,044]\u001b[0m Trial 34 finished with value: 0.969758064516129 and parameters: {'lambda_l1': 7.870887974436633e-07, 'lambda_l2': 0.04001840121183869, 'num_leaves': 80, 'feature_fraction': 0.7811834953934476, 'bagging_fraction': 0.9455578950473749, 'bagging_freq': 4, 'min_child_samples': 63}. Best is trial 33 with value: 0.9711981566820277.\u001b[0m\n",
      "\u001b[32m[I 2021-12-05 21:04:10,460]\u001b[0m Trial 35 finished with value: 0.9694700460829493 and parameters: {'lambda_l1': 3.414794262374553e-07, 'lambda_l2': 0.02624921625974289, 'num_leaves': 79, 'feature_fraction': 0.8494735504871501, 'bagging_fraction': 0.9190804790232612, 'bagging_freq': 3, 'min_child_samples': 49}. Best is trial 33 with value: 0.9711981566820277.\u001b[0m\n",
      "\u001b[32m[I 2021-12-05 21:05:39,970]\u001b[0m Trial 36 finished with value: 0.9700460829493087 and parameters: {'lambda_l1': 1.0202735339103862e-05, 'lambda_l2': 8.051647440227763, 'num_leaves': 126, 'feature_fraction': 0.6826046294691133, 'bagging_fraction': 0.9542302036217888, 'bagging_freq': 3, 'min_child_samples': 38}. Best is trial 33 with value: 0.9711981566820277.\u001b[0m\n",
      "\u001b[32m[I 2021-12-05 21:05:41,633]\u001b[0m Trial 37 finished with value: 0.9565092165898618 and parameters: {'lambda_l1': 1.4035357562831154e-06, 'lambda_l2': 0.0028526768709932386, 'num_leaves': 10, 'feature_fraction': 0.7472373913999809, 'bagging_fraction': 0.8846145423681802, 'bagging_freq': 5, 'min_child_samples': 72}. Best is trial 33 with value: 0.9711981566820277.\u001b[0m\n",
      "\u001b[32m[I 2021-12-05 21:05:56,462]\u001b[0m Trial 38 finished with value: 0.9694700460829493 and parameters: {'lambda_l1': 2.425654597974302e-07, 'lambda_l2': 0.10604809407313277, 'num_leaves': 159, 'feature_fraction': 0.6039514713191442, 'bagging_fraction': 0.9639157393492119, 'bagging_freq': 4, 'min_child_samples': 42}. Best is trial 33 with value: 0.9711981566820277.\u001b[0m\n",
      "\u001b[32m[I 2021-12-05 21:06:16,252]\u001b[0m Trial 39 finished with value: 0.966589861751152 and parameters: {'lambda_l1': 5.129196809490328, 'lambda_l2': 0.6560200814169309, 'num_leaves': 101, 'feature_fraction': 0.7884623394841852, 'bagging_fraction': 0.8496895210038332, 'bagging_freq': 3, 'min_child_samples': 61}. Best is trial 33 with value: 0.9711981566820277.\u001b[0m\n",
      "\u001b[32m[I 2021-12-05 21:06:52,110]\u001b[0m Trial 40 finished with value: 0.9714861751152074 and parameters: {'lambda_l1': 1.0312818422634643e-07, 'lambda_l2': 0.028153729036345183, 'num_leaves': 47, 'feature_fraction': 0.9249995938491075, 'bagging_fraction': 0.8989750909664657, 'bagging_freq': 4, 'min_child_samples': 30}. Best is trial 40 with value: 0.9714861751152074.\u001b[0m\n",
      "\u001b[32m[I 2021-12-05 21:07:18,202]\u001b[0m Trial 41 finished with value: 0.969758064516129 and parameters: {'lambda_l1': 1.081378869453646e-07, 'lambda_l2': 0.018021352970623832, 'num_leaves': 50, 'feature_fraction': 0.9041650048553187, 'bagging_fraction': 0.9328022895040984, 'bagging_freq': 4, 'min_child_samples': 31}. Best is trial 40 with value: 0.9714861751152074.\u001b[0m\n",
      "\u001b[32m[I 2021-12-05 21:07:24,488]\u001b[0m Trial 42 finished with value: 0.9717741935483871 and parameters: {'lambda_l1': 7.006140540853023e-07, 'lambda_l2': 0.0561544121704266, 'num_leaves': 36, 'feature_fraction': 0.9122421515143498, 'bagging_fraction': 0.9736128016472886, 'bagging_freq': 4, 'min_child_samples': 24}. Best is trial 42 with value: 0.9717741935483871.\u001b[0m\n",
      "\u001b[32m[I 2021-12-05 21:07:27,318]\u001b[0m Trial 43 finished with value: 0.9691820276497696 and parameters: {'lambda_l1': 7.588820543498485e-07, 'lambda_l2': 0.05049505120566035, 'num_leaves': 31, 'feature_fraction': 0.9428742918184119, 'bagging_fraction': 0.9026677986980162, 'bagging_freq': 5, 'min_child_samples': 13}. Best is trial 42 with value: 0.9717741935483871.\u001b[0m\n",
      "\u001b[32m[I 2021-12-05 21:07:51,061]\u001b[0m Trial 44 finished with value: 0.9703341013824884 and parameters: {'lambda_l1': 1.2570240178094296e-05, 'lambda_l2': 0.42659714723541825, 'num_leaves': 73, 'feature_fraction': 0.9317260716809371, 'bagging_fraction': 0.8989141817870246, 'bagging_freq': 5, 'min_child_samples': 28}. Best is trial 42 with value: 0.9717741935483871.\u001b[0m\n"
     ]
    },
    {
     "name": "stderr",
     "output_type": "stream",
     "text": [
      "\u001b[32m[I 2021-12-05 21:07:52,126]\u001b[0m Trial 45 finished with value: 0.9674539170506913 and parameters: {'lambda_l1': 2.2035542360211898e-06, 'lambda_l2': 0.00549371713086108, 'num_leaves': 16, 'feature_fraction': 0.9599035855067884, 'bagging_fraction': 0.9682883558679948, 'bagging_freq': 4, 'min_child_samples': 19}. Best is trial 42 with value: 0.9717741935483871.\u001b[0m\n",
      "\u001b[32m[I 2021-12-05 21:07:54,785]\u001b[0m Trial 46 finished with value: 0.9694700460829493 and parameters: {'lambda_l1': 1.3851008964004437e-07, 'lambda_l2': 2.5312193104132907, 'num_leaves': 38, 'feature_fraction': 0.9984985951309705, 'bagging_fraction': 0.8436102200611112, 'bagging_freq': 6, 'min_child_samples': 44}. Best is trial 42 with value: 0.9717741935483871.\u001b[0m\n",
      "\u001b[32m[I 2021-12-05 21:07:57,976]\u001b[0m Trial 47 finished with value: 0.9694700460829493 and parameters: {'lambda_l1': 0.00010641805572797898, 'lambda_l2': 0.07752927903758589, 'num_leaves': 51, 'feature_fraction': 0.8682282357951164, 'bagging_fraction': 0.9415026316652977, 'bagging_freq': 3, 'min_child_samples': 16}. Best is trial 42 with value: 0.9717741935483871.\u001b[0m\n",
      "\u001b[32m[I 2021-12-05 21:08:05,373]\u001b[0m Trial 48 finished with value: 0.9694700460829493 and parameters: {'lambda_l1': 0.001101639020295731, 'lambda_l2': 0.006000209607903923, 'num_leaves': 69, 'feature_fraction': 0.916005137825797, 'bagging_fraction': 0.9971818468684948, 'bagging_freq': 6, 'min_child_samples': 25}. Best is trial 42 with value: 0.9717741935483871.\u001b[0m\n",
      "\u001b[32m[I 2021-12-05 21:08:08,564]\u001b[0m Trial 49 finished with value: 0.9680299539170507 and parameters: {'lambda_l1': 3.487625220557091e-07, 'lambda_l2': 0.0010623577445151818, 'num_leaves': 217, 'feature_fraction': 0.850062055890061, 'bagging_fraction': 0.876045834020996, 'bagging_freq': 4, 'min_child_samples': 68}. Best is trial 42 with value: 0.9717741935483871.\u001b[0m\n",
      "\u001b[32m[I 2021-12-05 21:09:06,513]\u001b[0m Trial 50 finished with value: 0.9683179723502304 and parameters: {'lambda_l1': 8.773425071642553e-08, 'lambda_l2': 0.24646535636800143, 'num_leaves': 140, 'feature_fraction': 0.97070573673917, 'bagging_fraction': 0.9653605915527286, 'bagging_freq': 4, 'min_child_samples': 38}. Best is trial 42 with value: 0.9717741935483871.\u001b[0m\n",
      "\u001b[32m[I 2021-12-05 21:09:33,869]\u001b[0m Trial 51 finished with value: 0.9711981566820277 and parameters: {'lambda_l1': 2.548406774194688e-08, 'lambda_l2': 0.012149248053480083, 'num_leaves': 58, 'feature_fraction': 0.6425488797867063, 'bagging_fraction': 0.9701683065258017, 'bagging_freq': 3, 'min_child_samples': 59}. Best is trial 42 with value: 0.9717741935483871.\u001b[0m\n",
      "\u001b[32m[I 2021-12-05 21:09:36,682]\u001b[0m Trial 52 finished with value: 0.9703341013824884 and parameters: {'lambda_l1': 2.2847560211956528e-08, 'lambda_l2': 0.015511025574490488, 'num_leaves': 41, 'feature_fraction': 0.6370979966603137, 'bagging_fraction': 0.9307615109418254, 'bagging_freq': 3, 'min_child_samples': 61}. Best is trial 42 with value: 0.9717741935483871.\u001b[0m\n",
      "\u001b[32m[I 2021-12-05 21:09:44,719]\u001b[0m Trial 53 finished with value: 0.9674539170506913 and parameters: {'lambda_l1': 9.872403023458098e-07, 'lambda_l2': 0.003892065235491086, 'num_leaves': 88, 'feature_fraction': 0.6645694527981426, 'bagging_fraction': 0.9728603372849809, 'bagging_freq': 3, 'min_child_samples': 51}. Best is trial 42 with value: 0.9717741935483871.\u001b[0m\n",
      "\u001b[32m[I 2021-12-05 21:09:46,049]\u001b[0m Trial 54 finished with value: 0.9668778801843319 and parameters: {'lambda_l1': 1.7219315164353156e-08, 'lambda_l2': 0.02487071292495521, 'num_leaves': 19, 'feature_fraction': 0.5451307296108929, 'bagging_fraction': 0.896430591799967, 'bagging_freq': 3, 'min_child_samples': 77}. Best is trial 42 with value: 0.9717741935483871.\u001b[0m\n",
      "\u001b[32m[I 2021-12-05 21:09:47,807]\u001b[0m Trial 55 finished with value: 0.9133064516129032 and parameters: {'lambda_l1': 2.379758575758638e-07, 'lambda_l2': 0.0007092238041030295, 'num_leaves': 4, 'feature_fraction': 0.764598582549825, 'bagging_fraction': 0.9747316617477031, 'bagging_freq': 5, 'min_child_samples': 47}. Best is trial 42 with value: 0.9717741935483871.\u001b[0m\n",
      "\u001b[32m[I 2021-12-05 21:09:49,448]\u001b[0m Trial 56 finished with value: 0.9706221198156681 and parameters: {'lambda_l1': 3.263021665179562e-08, 'lambda_l2': 0.20791811447575198, 'num_leaves': 33, 'feature_fraction': 0.6643958534503602, 'bagging_fraction': 0.9367631012116833, 'bagging_freq': 4, 'min_child_samples': 67}. Best is trial 42 with value: 0.9717741935483871.\u001b[0m\n",
      "\u001b[32m[I 2021-12-05 21:09:50,993]\u001b[0m Trial 57 finished with value: 0.9706221198156681 and parameters: {'lambda_l1': 9.407026654389512e-08, 'lambda_l2': 1.3236520821789242, 'num_leaves': 49, 'feature_fraction': 0.7149309561174768, 'bagging_fraction': 0.9988985215482807, 'bagging_freq': 3, 'min_child_samples': 57}. Best is trial 42 with value: 0.9717741935483871.\u001b[0m\n",
      "\u001b[32m[I 2021-12-05 21:09:53,015]\u001b[0m Trial 58 finished with value: 0.9674539170506913 and parameters: {'lambda_l1': 3.6263916110581483e-06, 'lambda_l2': 0.04915549664928407, 'num_leaves': 65, 'feature_fraction': 0.7284396061800826, 'bagging_fraction': 0.47487394281580586, 'bagging_freq': 2, 'min_child_samples': 41}. Best is trial 42 with value: 0.9717741935483871.\u001b[0m\n",
      "\u001b[32m[I 2021-12-05 21:09:57,497]\u001b[0m Trial 59 finished with value: 0.9691820276497696 and parameters: {'lambda_l1': 2.660196915364995e-05, 'lambda_l2': 0.00806489010326247, 'num_leaves': 83, 'feature_fraction': 0.6171922899239607, 'bagging_fraction': 0.8156806626215732, 'bagging_freq': 3, 'min_child_samples': 5}. Best is trial 42 with value: 0.9717741935483871.\u001b[0m\n",
      "\u001b[32m[I 2021-12-05 21:09:58,708]\u001b[0m Trial 60 finished with value: 0.9703341013824884 and parameters: {'lambda_l1': 3.722161675213888e-08, 'lambda_l2': 0.08937640402760615, 'num_leaves': 35, 'feature_fraction': 0.5788990640407159, 'bagging_fraction': 0.6847224882451107, 'bagging_freq': 4, 'min_child_samples': 65}. Best is trial 42 with value: 0.9717741935483871.\u001b[0m\n",
      "\u001b[32m[I 2021-12-05 21:10:18,951]\u001b[0m Trial 61 finished with value: 0.9711981566820277 and parameters: {'lambda_l1': 1.330238287694061e-07, 'lambda_l2': 1.2663204743668737, 'num_leaves': 48, 'feature_fraction': 0.6444776549221881, 'bagging_fraction': 0.9994673174030513, 'bagging_freq': 3, 'min_child_samples': 59}. Best is trial 42 with value: 0.9717741935483871.\u001b[0m\n",
      "\u001b[32m[I 2021-12-05 21:10:35,334]\u001b[0m Trial 62 finished with value: 0.9711981566820277 and parameters: {'lambda_l1': 1.4561101550895464e-07, 'lambda_l2': 1.7775094952177248, 'num_leaves': 46, 'feature_fraction': 0.6398707663004188, 'bagging_fraction': 0.9562432350423606, 'bagging_freq': 3, 'min_child_samples': 57}. Best is trial 42 with value: 0.9717741935483871.\u001b[0m\n",
      "\u001b[32m[I 2021-12-05 21:10:37,009]\u001b[0m Trial 63 finished with value: 0.9694700460829493 and parameters: {'lambda_l1': 5.458412517123707e-07, 'lambda_l2': 9.019322656216188, 'num_leaves': 44, 'feature_fraction': 0.5161188738095059, 'bagging_fraction': 0.9511356270810931, 'bagging_freq': 4, 'min_child_samples': 58}. Best is trial 42 with value: 0.9717741935483871.\u001b[0m\n",
      "\u001b[32m[I 2021-12-05 21:10:38,294]\u001b[0m Trial 64 finished with value: 0.9714861751152074 and parameters: {'lambda_l1': 1.7752430223049728e-07, 'lambda_l2': 2.7443599826491902, 'num_leaves': 58, 'feature_fraction': 0.6464492125470319, 'bagging_fraction': 0.9176873860098688, 'bagging_freq': 3, 'min_child_samples': 53}. Best is trial 42 with value: 0.9717741935483871.\u001b[0m\n",
      "\u001b[32m[I 2021-12-05 21:10:44,163]\u001b[0m Trial 65 finished with value: 0.9700460829493087 and parameters: {'lambda_l1': 2.3356635113354617e-07, 'lambda_l2': 2.224250994798083, 'num_leaves': 25, 'feature_fraction': 0.6358954195093582, 'bagging_fraction': 0.918918465440084, 'bagging_freq': 3, 'min_child_samples': 70}. Best is trial 42 with value: 0.9717741935483871.\u001b[0m\n",
      "\u001b[32m[I 2021-12-05 21:10:54,918]\u001b[0m Trial 66 finished with value: 0.9700460829493087 and parameters: {'lambda_l1': 5.865807855229184e-08, 'lambda_l2': 0.8617430555765362, 'num_leaves': 70, 'feature_fraction': 0.5594648710772355, 'bagging_fraction': 0.8650435930627669, 'bagging_freq': 4, 'min_child_samples': 52}. Best is trial 42 with value: 0.9717741935483871.\u001b[0m\n",
      "\u001b[32m[I 2021-12-05 21:11:12,176]\u001b[0m Trial 67 finished with value: 0.9694700460829493 and parameters: {'lambda_l1': 5.310859706096399e-07, 'lambda_l2': 3.6879897373564217, 'num_leaves': 41, 'feature_fraction': 0.6042486649408221, 'bagging_fraction': 0.9109959361432375, 'bagging_freq': 2, 'min_child_samples': 46}. Best is trial 42 with value: 0.9717741935483871.\u001b[0m\n"
     ]
    },
    {
     "name": "stderr",
     "output_type": "stream",
     "text": [
      "\u001b[32m[I 2021-12-05 21:12:07,480]\u001b[0m Trial 68 finished with value: 0.9691820276497696 and parameters: {'lambda_l1': 2.0180373661549835e-06, 'lambda_l2': 4.781321459301196, 'num_leaves': 100, 'feature_fraction': 0.6569321520908961, 'bagging_fraction': 0.9561687810230074, 'bagging_freq': 3, 'min_child_samples': 58}. Best is trial 42 with value: 0.9717741935483871.\u001b[0m\n",
      "\u001b[32m[I 2021-12-05 21:12:27,580]\u001b[0m Trial 69 finished with value: 0.9700460829493087 and parameters: {'lambda_l1': 2.5522362670243666e-08, 'lambda_l2': 0.34443801386969486, 'num_leaves': 74, 'feature_fraction': 0.6429754740532655, 'bagging_fraction': 0.8861187525243595, 'bagging_freq': 4, 'min_child_samples': 64}. Best is trial 42 with value: 0.9717741935483871.\u001b[0m\n",
      "\u001b[32m[I 2021-12-05 21:12:52,212]\u001b[0m Trial 70 finished with value: 0.969758064516129 and parameters: {'lambda_l1': 5.793649417775994e-06, 'lambda_l2': 1.2104338055931627, 'num_leaves': 62, 'feature_fraction': 0.5829618370374342, 'bagging_fraction': 0.9331370640106393, 'bagging_freq': 7, 'min_child_samples': 75}. Best is trial 42 with value: 0.9717741935483871.\u001b[0m\n",
      "\u001b[32m[I 2021-12-05 21:12:58,003]\u001b[0m Trial 71 finished with value: 0.9703341013824884 and parameters: {'lambda_l1': 1.6891614152121731e-07, 'lambda_l2': 0.16787024179719948, 'num_leaves': 56, 'feature_fraction': 0.6636179799141856, 'bagging_fraction': 0.9750649699823933, 'bagging_freq': 3, 'min_child_samples': 53}. Best is trial 42 with value: 0.9717741935483871.\u001b[0m\n",
      "\u001b[32m[I 2021-12-05 21:13:03,614]\u001b[0m Trial 72 finished with value: 0.9700460829493087 and parameters: {'lambda_l1': 7.299988953959715e-08, 'lambda_l2': 0.554845418356913, 'num_leaves': 47, 'feature_fraction': 0.6823065810226424, 'bagging_fraction': 0.9824866682317616, 'bagging_freq': 3, 'min_child_samples': 50}. Best is trial 42 with value: 0.9717741935483871.\u001b[0m\n",
      "\u001b[32m[I 2021-12-05 21:13:05,829]\u001b[0m Trial 73 finished with value: 0.9660138248847926 and parameters: {'lambda_l1': 1.2240009833248375e-07, 'lambda_l2': 4.5415439177148045, 'num_leaves': 24, 'feature_fraction': 0.6186822709658976, 'bagging_fraction': 0.6099364105880486, 'bagging_freq': 3, 'min_child_samples': 21}. Best is trial 42 with value: 0.9717741935483871.\u001b[0m\n",
      "\u001b[32m[I 2021-12-05 21:13:17,761]\u001b[0m Trial 74 finished with value: 0.970910138248848 and parameters: {'lambda_l1': 3.4148750224669926e-07, 'lambda_l2': 0.012901897793255082, 'num_leaves': 55, 'feature_fraction': 0.7064615726223641, 'bagging_fraction': 0.953061485719635, 'bagging_freq': 3, 'min_child_samples': 55}. Best is trial 42 with value: 0.9717741935483871.\u001b[0m\n",
      "\u001b[32m[I 2021-12-05 21:13:22,804]\u001b[0m Trial 75 finished with value: 0.9686059907834101 and parameters: {'lambda_l1': 1.0488197411695776e-06, 'lambda_l2': 1.0763118484387576e-08, 'num_leaves': 64, 'feature_fraction': 0.8866492056529175, 'bagging_fraction': 0.9846345844626595, 'bagging_freq': 2, 'min_child_samples': 35}. Best is trial 42 with value: 0.9717741935483871.\u001b[0m\n",
      "\u001b[32m[I 2021-12-05 21:13:24,288]\u001b[0m Trial 76 finished with value: 0.9576612903225806 and parameters: {'lambda_l1': 3.3996048404668405e-07, 'lambda_l2': 0.07127986882213404, 'num_leaves': 10, 'feature_fraction': 0.7048773605554627, 'bagging_fraction': 0.9473637459115586, 'bagging_freq': 3, 'min_child_samples': 60}. Best is trial 42 with value: 0.9717741935483871.\u001b[0m\n",
      "\u001b[32m[I 2021-12-05 21:13:31,626]\u001b[0m Trial 77 finished with value: 0.9706221198156681 and parameters: {'lambda_l1': 4.7777515217766176e-08, 'lambda_l2': 1.4686955481148356, 'num_leaves': 35, 'feature_fraction': 0.6760380325224006, 'bagging_fraction': 0.9285175869430492, 'bagging_freq': 4, 'min_child_samples': 48}. Best is trial 42 with value: 0.9717741935483871.\u001b[0m\n",
      "\u001b[32m[I 2021-12-05 21:13:35,377]\u001b[0m Trial 78 finished with value: 0.969758064516129 and parameters: {'lambda_l1': 1.847817553425383e-08, 'lambda_l2': 0.0017778378459194246, 'num_leaves': 50, 'feature_fraction': 0.7991358165955464, 'bagging_fraction': 0.9070350120452448, 'bagging_freq': 3, 'min_child_samples': 56}. Best is trial 42 with value: 0.9717741935483871.\u001b[0m\n",
      "\u001b[32m[I 2021-12-05 21:13:59,635]\u001b[0m Trial 79 finished with value: 0.9671658986175116 and parameters: {'lambda_l1': 3.090250247475395e-07, 'lambda_l2': 0.2919824716277323, 'num_leaves': 27, 'feature_fraction': 0.5924400653915377, 'bagging_fraction': 0.9539472880872472, 'bagging_freq': 2, 'min_child_samples': 28}. Best is trial 42 with value: 0.9717741935483871.\u001b[0m\n",
      "\u001b[32m[I 2021-12-05 21:14:10,767]\u001b[0m Trial 80 finished with value: 0.9674539170506913 and parameters: {'lambda_l1': 8.401091027953568e-08, 'lambda_l2': 0.029792735096382868, 'num_leaves': 164, 'feature_fraction': 0.63491473431352, 'bagging_fraction': 0.5436560036751845, 'bagging_freq': 4, 'min_child_samples': 11}. Best is trial 42 with value: 0.9717741935483871.\u001b[0m\n",
      "\u001b[32m[I 2021-12-05 21:14:13,776]\u001b[0m Trial 81 finished with value: 0.9703341013824884 and parameters: {'lambda_l1': 1.6485501608645423e-07, 'lambda_l2': 0.003231409761407527, 'num_leaves': 56, 'feature_fraction': 0.761793053179635, 'bagging_fraction': 0.9634657548409482, 'bagging_freq': 3, 'min_child_samples': 54}. Best is trial 42 with value: 0.9717741935483871.\u001b[0m\n",
      "\u001b[32m[I 2021-12-05 21:14:26,250]\u001b[0m Trial 82 finished with value: 0.9700460829493087 and parameters: {'lambda_l1': 7.537502871140839e-07, 'lambda_l2': 0.14414036653056672, 'num_leaves': 77, 'feature_fraction': 0.714029826852294, 'bagging_fraction': 0.9810081567757305, 'bagging_freq': 3, 'min_child_samples': 63}. Best is trial 42 with value: 0.9717741935483871.\u001b[0m\n",
      "\u001b[32m[I 2021-12-05 21:14:32,165]\u001b[0m Trial 83 finished with value: 0.9686059907834101 and parameters: {'lambda_l1': 4.99317272859769e-07, 'lambda_l2': 0.015710805706250667, 'num_leaves': 57, 'feature_fraction': 0.8252343951717211, 'bagging_fraction': 0.9416031859134381, 'bagging_freq': 3, 'min_child_samples': 59}. Best is trial 42 with value: 0.9717741935483871.\u001b[0m\n",
      "\u001b[32m[I 2021-12-05 21:15:23,673]\u001b[0m Trial 84 finished with value: 0.9683179723502304 and parameters: {'lambda_l1': 0.010248099692625523, 'lambda_l2': 0.04903722196316904, 'num_leaves': 68, 'feature_fraction': 0.9835343495419759, 'bagging_fraction': 0.9621114784087265, 'bagging_freq': 2, 'min_child_samples': 52}. Best is trial 42 with value: 0.9717741935483871.\u001b[0m\n",
      "\u001b[32m[I 2021-12-05 21:15:25,387]\u001b[0m Trial 85 finished with value: 0.9703341013824884 and parameters: {'lambda_l1': 4.521888085721749e-08, 'lambda_l2': 0.009336897642881098, 'num_leaves': 44, 'feature_fraction': 0.9293918114682412, 'bagging_fraction': 0.8921662810799063, 'bagging_freq': 3, 'min_child_samples': 45}. Best is trial 42 with value: 0.9717741935483871.\u001b[0m\n",
      "\u001b[32m[I 2021-12-05 21:15:33,630]\u001b[0m Trial 86 finished with value: 0.9688940092165899 and parameters: {'lambda_l1': 1.4443038244610358e-06, 'lambda_l2': 0.0137233121033239, 'num_leaves': 82, 'feature_fraction': 0.6512183983497498, 'bagging_fraction': 0.9198520107230302, 'bagging_freq': 3, 'min_child_samples': 57}. Best is trial 42 with value: 0.9717741935483871.\u001b[0m\n",
      "\u001b[32m[I 2021-12-05 21:17:44,622]\u001b[0m Trial 87 finished with value: 0.9717741935483871 and parameters: {'lambda_l1': 1.6874165189237342e-07, 'lambda_l2': 0.7260941302857696, 'num_leaves': 54, 'feature_fraction': 0.7426646114452459, 'bagging_fraction': 0.9875875772744219, 'bagging_freq': 4, 'min_child_samples': 66}. Best is trial 42 with value: 0.9717741935483871.\u001b[0m\n",
      "\u001b[32m[I 2021-12-05 21:17:46,117]\u001b[0m Trial 88 finished with value: 0.9703341013824884 and parameters: {'lambda_l1': 2.1520809549434307e-07, 'lambda_l2': 2.4725651805255313, 'num_leaves': 53, 'feature_fraction': 0.7332456501174363, 'bagging_fraction': 0.9859705137352648, 'bagging_freq': 5, 'min_child_samples': 69}. Best is trial 42 with value: 0.9717741935483871.\u001b[0m\n",
      "\u001b[32m[I 2021-12-05 21:17:46,883]\u001b[0m Trial 89 finished with value: 0.9706221198156681 and parameters: {'lambda_l1': 1.105467893232458e-07, 'lambda_l2': 0.9752089900555045, 'num_leaves': 39, 'feature_fraction': 0.6751245539156965, 'bagging_fraction': 0.9886015112461681, 'bagging_freq': 4, 'min_child_samples': 66}. Best is trial 42 with value: 0.9717741935483871.\u001b[0m\n",
      "\u001b[32m[I 2021-12-05 21:17:48,101]\u001b[0m Trial 90 finished with value: 0.9691820276497696 and parameters: {'lambda_l1': 1.7132022432618274e-08, 'lambda_l2': 4.706111740746551, 'num_leaves': 99, 'feature_fraction': 0.8901339767092484, 'bagging_fraction': 0.7329543925900739, 'bagging_freq': 4, 'min_child_samples': 74}. Best is trial 42 with value: 0.9717741935483871.\u001b[0m\n"
     ]
    },
    {
     "name": "stderr",
     "output_type": "stream",
     "text": [
      "\u001b[32m[I 2021-12-05 21:17:49,154]\u001b[0m Trial 91 finished with value: 0.9700460829493087 and parameters: {'lambda_l1': 1.4997980743420016e-07, 'lambda_l2': 0.444826523828453, 'num_leaves': 62, 'feature_fraction': 0.7497618201957966, 'bagging_fraction': 0.9681818007285065, 'bagging_freq': 3, 'min_child_samples': 63}. Best is trial 42 with value: 0.9717741935483871.\u001b[0m\n",
      "\u001b[32m[I 2021-12-05 21:17:50,074]\u001b[0m Trial 92 finished with value: 0.970910138248848 and parameters: {'lambda_l1': 4.1695035764840527e-07, 'lambda_l2': 0.0238803111977165, 'num_leaves': 30, 'feature_fraction': 0.6951848961982638, 'bagging_fraction': 0.944709575364596, 'bagging_freq': 4, 'min_child_samples': 60}. Best is trial 42 with value: 0.9717741935483871.\u001b[0m\n",
      "\u001b[32m[I 2021-12-05 21:17:51,190]\u001b[0m Trial 93 finished with value: 0.9706221198156681 and parameters: {'lambda_l1': 5.77564870375082e-08, 'lambda_l2': 0.0053903261581002325, 'num_leaves': 46, 'feature_fraction': 0.6286118631469644, 'bagging_fraction': 0.9597617332040159, 'bagging_freq': 3, 'min_child_samples': 55}. Best is trial 42 with value: 0.9717741935483871.\u001b[0m\n",
      "\u001b[32m[I 2021-12-05 21:17:52,088]\u001b[0m Trial 94 finished with value: 0.9703341013824884 and parameters: {'lambda_l1': 3.2987338442281004e-08, 'lambda_l2': 0.030432330469727455, 'num_leaves': 30, 'feature_fraction': 0.6134073717183176, 'bagging_fraction': 0.9287712217747953, 'bagging_freq': 4, 'min_child_samples': 60}. Best is trial 42 with value: 0.9717741935483871.\u001b[0m\n",
      "\u001b[32m[I 2021-12-05 21:17:52,554]\u001b[0m Trial 95 finished with value: 0.9691820276497696 and parameters: {'lambda_l1': 4.275829780576405e-07, 'lambda_l2': 0.10956715463510087, 'num_leaves': 20, 'feature_fraction': 0.6984368374303362, 'bagging_fraction': 0.9431422680476076, 'bagging_freq': 4, 'min_child_samples': 62}. Best is trial 42 with value: 0.9717741935483871.\u001b[0m\n",
      "\u001b[32m[I 2021-12-05 21:17:52,897]\u001b[0m Trial 96 finished with value: 0.959389400921659 and parameters: {'lambda_l1': 1.7955200897100095e-07, 'lambda_l2': 0.021882332501089896, 'num_leaves': 11, 'feature_fraction': 0.7753101958558843, 'bagging_fraction': 0.9876599395275214, 'bagging_freq': 4, 'min_child_samples': 65}. Best is trial 42 with value: 0.9717741935483871.\u001b[0m\n",
      "\u001b[32m[I 2021-12-05 21:17:53,522]\u001b[0m Trial 97 finished with value: 0.9703341013824884 and parameters: {'lambda_l1': 1.050862851048372e-06, 'lambda_l2': 0.5806437556478311, 'num_leaves': 38, 'feature_fraction': 0.8464925755465722, 'bagging_fraction': 0.9173283351428567, 'bagging_freq': 5, 'min_child_samples': 49}. Best is trial 42 with value: 0.9717741935483871.\u001b[0m\n",
      "\u001b[32m[I 2021-12-05 21:17:54,110]\u001b[0m Trial 98 finished with value: 0.9700460829493087 and parameters: {'lambda_l1': 2.444934951701208e-06, 'lambda_l2': 1.7123467130344183, 'num_leaves': 30, 'feature_fraction': 0.72411729890863, 'bagging_fraction': 0.8322506384633636, 'bagging_freq': 4, 'min_child_samples': 72}. Best is trial 42 with value: 0.9717741935483871.\u001b[0m\n",
      "\u001b[32m[I 2021-12-05 21:17:55,065]\u001b[0m Trial 99 finished with value: 0.9680299539170507 and parameters: {'lambda_l1': 3.08243178299167e-07, 'lambda_l2': 7.490872258573665, 'num_leaves': 52, 'feature_fraction': 0.6994640448915876, 'bagging_fraction': 0.8676964267824342, 'bagging_freq': 4, 'min_child_samples': 95}. Best is trial 42 with value: 0.9717741935483871.\u001b[0m\n"
     ]
    },
    {
     "name": "stdout",
     "output_type": "stream",
     "text": [
      "Number of finished trials: 100\n",
      "Best trial:\n",
      "  Value: 0.9717741935483871\n",
      "  Params: \n",
      "    lambda_l1: 7.006140540853023e-07\n",
      "    lambda_l2: 0.0561544121704266\n",
      "    num_leaves: 36\n",
      "    feature_fraction: 0.9122421515143498\n",
      "    bagging_fraction: 0.9736128016472886\n",
      "    bagging_freq: 4\n",
      "    min_child_samples: 24\n"
     ]
    }
   ],
   "source": [
    "study = optuna.create_study(direction=\"maximize\")\n",
    "study.optimize(objective, n_trials=100)\n",
    "print(\"Number of finished trials: {}\".format(len(study.trials)))\n",
    "\n",
    "print(\"Best trial:\")\n",
    "trial = study.best_trial\n",
    "\n",
    "print(\"  Value: {}\".format(trial.value))\n",
    "\n",
    "print(\"  Params: \")\n",
    "for key, value in trial.params.items():\n",
    "    print(\"    {}: {}\".format(key, value))"
   ]
  },
  {
   "cell_type": "markdown",
   "id": "8780c447",
   "metadata": {},
   "source": [
    "### validacion lightGBM con optimizacion de parametros "
   ]
  },
  {
   "cell_type": "code",
   "execution_count": 82,
   "id": "898ddff6",
   "metadata": {},
   "outputs": [],
   "source": [
    "train_data = lgb.Dataset(X_train, label=y_train)\n",
    "valid_data = lgb.Dataset(X_test, label=y_test, reference=train_data)"
   ]
  },
  {
   "cell_type": "code",
   "execution_count": 83,
   "id": "76848d4d",
   "metadata": {},
   "outputs": [],
   "source": [
    "## parametros para el modelo lightGBM search \n",
    "SEARCH_PARAMETROS = {'learning_rate': 0.4,\n",
    "                'max_depth': 15,\n",
    "                #'num_leaves': 32,\n",
    "                #'feature_fraction': 0.8,\n",
    "                'subsample': 0.2}\n",
    "\n",
    "FIXED_PARAMETROS={'objective': 'binary',\n",
    "             'metric': 'binary_logloss',\n",
    "             \"verbosity\": -1,\n",
    "             'is_unbalance':False,\n",
    "             'bagging_freq':1,\n",
    "             'boosting':'gbdt',\n",
    "             'num_boost_round':300,\n",
    "             \"lambda_l1\":7.006140540853023e-07,\n",
    "             \"lambda_l2\":0.0561544121704266,\n",
    "             \"num_leaves\":36,\n",
    "             \"feature_fraction\":0.9122421515143498,\n",
    "             \"bagging_fraction\":0.9736128016472886,\n",
    "             \"bagging_freq\":4,\n",
    "             \"min_child_samples\":24,\n",
    "             'early_stopping_rounds':30}\n",
    "\n"
   ]
  },
  {
   "cell_type": "code",
   "execution_count": 84,
   "id": "ce1b2740",
   "metadata": {},
   "outputs": [],
   "source": [
    "parametros = {'metric':FIXED_PARAMETROS['metric'],\n",
    "             'objective':FIXED_PARAMETROS['objective'],**SEARCH_PARAMETROS}"
   ]
  },
  {
   "cell_type": "code",
   "execution_count": 85,
   "id": "513b6b3c",
   "metadata": {},
   "outputs": [
    {
     "name": "stderr",
     "output_type": "stream",
     "text": [
      "C:\\Users\\d84088661\\Anaconda3\\lib\\site-packages\\lightgbm\\engine.py:181: UserWarning: 'early_stopping_rounds' argument is deprecated and will be removed in a future release of LightGBM. Pass 'early_stopping()' callback via 'callbacks' argument instead.\n",
      "  _log_warning(\"'early_stopping_rounds' argument is deprecated and will be removed in a future release of LightGBM. \"\n"
     ]
    },
    {
     "name": "stdout",
     "output_type": "stream",
     "text": [
      "[LightGBM] [Warning] Accuracy may be bad since you didn't explicitly set num_leaves OR 2^max_depth > num_leaves. (num_leaves=31).\n",
      "[LightGBM] [Warning] Accuracy may be bad since you didn't explicitly set num_leaves OR 2^max_depth > num_leaves. (num_leaves=31).\n",
      "[LightGBM] [Info] Number of positive: 12110, number of negative: 12110\n",
      "[LightGBM] [Warning] Auto-choosing col-wise multi-threading, the overhead of testing was 0.001657 seconds.\n",
      "You can set `force_col_wise=true` to remove the overhead.\n",
      "[LightGBM] [Info] Total Bins 1779\n",
      "[LightGBM] [Info] Number of data points in the train set: 24220, number of used features: 7\n",
      "[LightGBM] [Warning] Accuracy may be bad since you didn't explicitly set num_leaves OR 2^max_depth > num_leaves. (num_leaves=31).\n",
      "[LightGBM] [Info] [binary:BoostFromScore]: pavg=0.500000 -> initscore=0.000000\n",
      "[1]\tvalid's binary_logloss: 0.442294\n",
      "Training until validation scores don't improve for 30 rounds\n",
      "[2]\tvalid's binary_logloss: 0.322857\n",
      "[3]\tvalid's binary_logloss: 0.261877\n",
      "[4]\tvalid's binary_logloss: 0.214764\n",
      "[5]\tvalid's binary_logloss: 0.188643\n",
      "[6]\tvalid's binary_logloss: 0.163947\n",
      "[7]\tvalid's binary_logloss: 0.148192\n",
      "[8]\tvalid's binary_logloss: 0.136481\n",
      "[9]\tvalid's binary_logloss: 0.128927\n",
      "[10]\tvalid's binary_logloss: 0.119101\n",
      "[11]\tvalid's binary_logloss: 0.114282\n",
      "[12]\tvalid's binary_logloss: 0.109569\n",
      "[13]\tvalid's binary_logloss: 0.103863\n",
      "[14]\tvalid's binary_logloss: 0.10082\n",
      "[15]\tvalid's binary_logloss: 0.0970953\n",
      "[16]\tvalid's binary_logloss: 0.0952269\n",
      "[17]\tvalid's binary_logloss: 0.0931284\n",
      "[18]\tvalid's binary_logloss: 0.0916855\n",
      "[19]\tvalid's binary_logloss: 0.0925393\n",
      "[20]\tvalid's binary_logloss: 0.0922321\n",
      "[21]\tvalid's binary_logloss: 0.0896607\n",
      "[22]\tvalid's binary_logloss: 0.0875881\n",
      "[23]\tvalid's binary_logloss: 0.0876146\n",
      "[24]\tvalid's binary_logloss: 0.0871609\n",
      "[25]\tvalid's binary_logloss: 0.0873491\n",
      "[26]\tvalid's binary_logloss: 0.0874737\n",
      "[27]\tvalid's binary_logloss: 0.0873418\n",
      "[28]\tvalid's binary_logloss: 0.0866665\n",
      "[29]\tvalid's binary_logloss: 0.0870415\n",
      "[30]\tvalid's binary_logloss: 0.0872944\n",
      "[31]\tvalid's binary_logloss: 0.0874123\n",
      "[32]\tvalid's binary_logloss: 0.0864507\n",
      "[33]\tvalid's binary_logloss: 0.0863531\n",
      "[34]\tvalid's binary_logloss: 0.0858216\n",
      "[35]\tvalid's binary_logloss: 0.0860048\n",
      "[36]\tvalid's binary_logloss: 0.0865613\n",
      "[37]\tvalid's binary_logloss: 0.0858581\n",
      "[38]\tvalid's binary_logloss: 0.0868094\n",
      "[39]\tvalid's binary_logloss: 0.087823\n",
      "[40]\tvalid's binary_logloss: 0.087731\n",
      "[41]\tvalid's binary_logloss: 0.0889301\n",
      "[42]\tvalid's binary_logloss: 0.0891208\n",
      "[43]\tvalid's binary_logloss: 0.0885547\n",
      "[44]\tvalid's binary_logloss: 0.0884646\n",
      "[45]\tvalid's binary_logloss: 0.0886719\n",
      "[46]\tvalid's binary_logloss: 0.088764\n",
      "[47]\tvalid's binary_logloss: 0.0890423\n",
      "[48]\tvalid's binary_logloss: 0.0892212\n",
      "[49]\tvalid's binary_logloss: 0.0891127\n",
      "[50]\tvalid's binary_logloss: 0.0897999\n",
      "[51]\tvalid's binary_logloss: 0.0895543\n",
      "[52]\tvalid's binary_logloss: 0.0900457\n",
      "[53]\tvalid's binary_logloss: 0.0912658\n",
      "[54]\tvalid's binary_logloss: 0.0913736\n",
      "[55]\tvalid's binary_logloss: 0.0916219\n",
      "[56]\tvalid's binary_logloss: 0.0917511\n",
      "[57]\tvalid's binary_logloss: 0.0914956\n",
      "[58]\tvalid's binary_logloss: 0.0926507\n",
      "[59]\tvalid's binary_logloss: 0.0927944\n",
      "[60]\tvalid's binary_logloss: 0.0928258\n",
      "[61]\tvalid's binary_logloss: 0.0931227\n",
      "[62]\tvalid's binary_logloss: 0.093659\n",
      "[63]\tvalid's binary_logloss: 0.0946743\n",
      "[64]\tvalid's binary_logloss: 0.0948782\n",
      "Early stopping, best iteration is:\n",
      "[34]\tvalid's binary_logloss: 0.0858216\n"
     ]
    }
   ],
   "source": [
    "model_opt = lgb.train(parametros, train_data,                     \n",
    "                     valid_sets=[valid_data],\n",
    "                     num_boost_round=FIXED_PARAMETROS['num_boost_round'],\n",
    "                     early_stopping_rounds=FIXED_PARAMETROS['early_stopping_rounds'],\n",
    "                     valid_names=['valid'])"
   ]
  },
  {
   "cell_type": "code",
   "execution_count": 86,
   "id": "2d76a6a9",
   "metadata": {},
   "outputs": [],
   "source": [
    "ypred_opt_test = model_opt.predict(X_val, num_iteration=model_opt.best_iteration)"
   ]
  },
  {
   "cell_type": "code",
   "execution_count": 87,
   "id": "7d9a0d62",
   "metadata": {},
   "outputs": [],
   "source": [
    "#convert into binary values\t\n",
    "for i in range(0,len(X_val)):\t\n",
    "    if ypred_opt_test[i]>=.5:       # setting threshold to .5\t\n",
    "            ypred_opt_test[i]=1\n",
    "    else:\n",
    "        ypred_opt_test[i]=0"
   ]
  },
  {
   "cell_type": "code",
   "execution_count": 88,
   "id": "0ef6a0a2",
   "metadata": {},
   "outputs": [
    {
     "name": "stdout",
     "output_type": "stream",
     "text": [
      "34\n"
     ]
    }
   ],
   "source": [
    "# conocer el numero de iteraciones realizadas por el modelo\n",
    "print(model_opt.best_iteration)"
   ]
  },
  {
   "cell_type": "code",
   "execution_count": 89,
   "id": "8e16f760",
   "metadata": {},
   "outputs": [
    {
     "name": "stdout",
     "output_type": "stream",
     "text": [
      "              precision    recall  f1-score   support\n",
      "\n",
      "           0       0.98      0.98      0.98      1335\n",
      "           1       0.61      0.61      0.61        54\n",
      "\n",
      "    accuracy                           0.97      1389\n",
      "   macro avg       0.80      0.80      0.80      1389\n",
      "weighted avg       0.97      0.97      0.97      1389\n",
      "\n"
     ]
    }
   ],
   "source": [
    "print(classification_report(y_val, ypred_opt_test))"
   ]
  },
  {
   "cell_type": "code",
   "execution_count": 90,
   "id": "1df8eee0",
   "metadata": {},
   "outputs": [
    {
     "data": {
      "text/plain": [
       "0.9697624190064795"
      ]
     },
     "execution_count": 90,
     "metadata": {},
     "output_type": "execute_result"
    }
   ],
   "source": [
    "accuracy_lgbm_opt=accuracy_score(y_val,ypred_opt_test)\n",
    "accuracy_lgbm_opt"
   ]
  },
  {
   "cell_type": "code",
   "execution_count": 91,
   "id": "a1637727",
   "metadata": {},
   "outputs": [
    {
     "data": {
      "text/plain": [
       "1.0443811376042362"
      ]
     },
     "execution_count": 91,
     "metadata": {},
     "output_type": "execute_result"
    }
   ],
   "source": [
    "logLoss_lgbm_opt=log_loss(y_val, ypred_opt_test)\n",
    "logLoss_lgbm_opt"
   ]
  },
  {
   "cell_type": "code",
   "execution_count": 92,
   "id": "30cf8365",
   "metadata": {},
   "outputs": [
    {
     "data": {
      "text/plain": [
       "<AxesSubplot:>"
      ]
     },
     "execution_count": 92,
     "metadata": {},
     "output_type": "execute_result"
    },
    {
     "data": {
      "image/png": "[encoded data removed]",
      "text/plain": [
       "<Figure size 432x288 with 2 Axes>"
      ]
     },
     "metadata": {
      "needs_background": "light"
     },
     "output_type": "display_data"
    }
   ],
   "source": [
    "#confusion Matrix\n",
    "plt.figure()\n",
    "cf_matrix_new =confusion_matrix(y_val, ypred_opt_test,labels = [0,1])\n",
    "group_names = [\"True Neg\",\"False Pos\",\"False Neg\",\"True Pos\"]\n",
    "group_counts = [\"{0:0.0f}\".format(value) for value in\n",
    "                cf_matrix_new.flatten()]\n",
    "group_percentages = [\"{0:.2%}\".format(value) for value in\n",
    "                     cf_matrix_new.flatten()/np.sum(cf_matrix_new)]\n",
    "labels = [f\"{v1}\\n{v2}\\n{v3}\" for v1, v2, v3 in\n",
    "          zip(group_names,group_counts,group_percentages)]\n",
    "labels = np.asarray(labels).reshape(2,2)\n",
    "sns.heatmap(cf_matrix_new, annot=labels, fmt='', cmap='Blues')"
   ]
  },
  {
   "cell_type": "code",
   "execution_count": 93,
   "id": "fbcfcd49",
   "metadata": {},
   "outputs": [
    {
     "data": {
      "image/png": "[encoded data removed]",
      "text/plain": [
       "<Figure size 396x396 with 1 Axes>"
      ]
     },
     "metadata": {
      "needs_background": "light"
     },
     "output_type": "display_data"
    }
   ],
   "source": [
    "### curva roc\n",
    "roc_lgbm_opt = metrics.roc_curve(y_val, ypred_opt_test)\n",
    "auc_lgbm_opt = metrics.auc( roc_lgbm_opt[0], roc_lgbm_opt[1] )\n",
    "\n",
    "\n",
    "plt.figure(figsize=(5.5,5.5))\n",
    "plt.plot(roc_lgbm_opt[0], roc_lgbm_opt[1], lw=1,label=f\"ROC lightGBM Optuna (AUC = {auc_lgbm_opt:0.2f})\")\n",
    "\n",
    "plt.plot([0, 1], [0, 1], color='navy', lw=1.4, linestyle='--', label='Random guess')\n",
    "plt.xlabel('False Positive Rate')\n",
    "plt.ylabel('True Positive Rate')\n",
    "plt.title('ROC curves')\n",
    "plt.legend(loc='lower right')\n",
    "plt.gca().set_aspect(1)\n",
    "plt.grid(ls='--', alpha=0.6, lw=0.4)"
   ]
  },
  {
   "cell_type": "markdown",
   "id": "7cae49a1",
   "metadata": {},
   "source": [
    "### Exporte del modelo"
   ]
  },
  {
   "cell_type": "code",
   "execution_count": 104,
   "id": "21c96fa9",
   "metadata": {},
   "outputs": [
    {
     "data": {
      "text/plain": [
       "['C:\\\\Users\\\\d84088661\\\\model_DT.pkl']"
      ]
     },
     "execution_count": 104,
     "metadata": {},
     "output_type": "execute_result"
    }
   ],
   "source": [
    "import joblib\n",
    "filename = r\"C:\\Users\\d84088661\\model_DT.pkl\"\n",
    "joblib.dump(drugTree, filename)"
   ]
  },
  {
   "cell_type": "markdown",
   "id": "1fa8e114",
   "metadata": {},
   "source": [
    "### Evaluacion 3 modelos"
   ]
  },
  {
   "cell_type": "code",
   "execution_count": 109,
   "id": "69287a28",
   "metadata": {},
   "outputs": [
    {
     "data": {
      "text/html": [
       "<div>\n",
       "<style scoped>\n",
       "    .dataframe tbody tr th:only-of-type {\n",
       "        vertical-align: middle;\n",
       "    }\n",
       "\n",
       "    .dataframe tbody tr th {\n",
       "        vertical-align: top;\n",
       "    }\n",
       "\n",
       "    .dataframe thead th {\n",
       "        text-align: right;\n",
       "    }\n",
       "</style>\n",
       "<table border=\"1\" class=\"dataframe\">\n",
       "  <thead>\n",
       "    <tr style=\"text-align: right;\">\n",
       "      <th></th>\n",
       "      <th>F1-score</th>\n",
       "      <th>LogLoss</th>\n",
       "      <th>Accuracy</th>\n",
       "      <th>Recall</th>\n",
       "      <th>Precision</th>\n",
       "    </tr>\n",
       "    <tr>\n",
       "      <th>Algorithm</th>\n",
       "      <th></th>\n",
       "      <th></th>\n",
       "      <th></th>\n",
       "      <th></th>\n",
       "      <th></th>\n",
       "    </tr>\n",
       "  </thead>\n",
       "  <tbody>\n",
       "    <tr>\n",
       "      <th>Random Forest</th>\n",
       "      <td>0</td>\n",
       "      <td>NA</td>\n",
       "      <td>0</td>\n",
       "      <td>0</td>\n",
       "      <td>0</td>\n",
       "    </tr>\n",
       "    <tr>\n",
       "      <th>Decision Tree</th>\n",
       "      <td>0</td>\n",
       "      <td>NA</td>\n",
       "      <td>0</td>\n",
       "      <td>0</td>\n",
       "      <td>0</td>\n",
       "    </tr>\n",
       "    <tr>\n",
       "      <th>LightGBM_OPT</th>\n",
       "      <td>0</td>\n",
       "      <td>NA</td>\n",
       "      <td>0</td>\n",
       "      <td>0</td>\n",
       "      <td>0</td>\n",
       "    </tr>\n",
       "  </tbody>\n",
       "</table>\n",
       "</div>"
      ],
      "text/plain": [
       "               F1-score LogLoss  Accuracy  Recall  Precision\n",
       "Algorithm                                                   \n",
       "Random Forest         0      NA         0       0          0\n",
       "Decision Tree         0      NA         0       0          0\n",
       "LightGBM_OPT          0      NA         0       0          0"
      ]
     },
     "execution_count": 109,
     "metadata": {},
     "output_type": "execute_result"
    }
   ],
   "source": [
    "columns=['Algorithm','F1-score','LogLoss','Accuracy','Recall','Precision']\n",
    "matrix=pd.DataFrame([['Random Forest',0,'NA',0,0,0],\n",
    "                     ['Decision Tree',0,'NA',0,0,0],\n",
    "                     ['LightGBM_OPT',0,'NA',0,0,0]],columns=columns)\n",
    "matrix=matrix.set_index('Algorithm')\n",
    "matrix"
   ]
  },
  {
   "cell_type": "code",
   "execution_count": 110,
   "id": "9e3617a3",
   "metadata": {},
   "outputs": [
    {
     "data": {
      "text/html": [
       "<div>\n",
       "<style scoped>\n",
       "    .dataframe tbody tr th:only-of-type {\n",
       "        vertical-align: middle;\n",
       "    }\n",
       "\n",
       "    .dataframe tbody tr th {\n",
       "        vertical-align: top;\n",
       "    }\n",
       "\n",
       "    .dataframe thead th {\n",
       "        text-align: right;\n",
       "    }\n",
       "</style>\n",
       "<table border=\"1\" class=\"dataframe\">\n",
       "  <thead>\n",
       "    <tr style=\"text-align: right;\">\n",
       "      <th></th>\n",
       "      <th>F1-score</th>\n",
       "      <th>LogLoss</th>\n",
       "      <th>Accuracy</th>\n",
       "      <th>Recall</th>\n",
       "      <th>Precision</th>\n",
       "    </tr>\n",
       "    <tr>\n",
       "      <th>Algorithm</th>\n",
       "      <th></th>\n",
       "      <th></th>\n",
       "      <th></th>\n",
       "      <th></th>\n",
       "      <th></th>\n",
       "    </tr>\n",
       "  </thead>\n",
       "  <tbody>\n",
       "    <tr>\n",
       "      <th>Random Forest</th>\n",
       "      <td>0.890461</td>\n",
       "      <td>5.221957</td>\n",
       "      <td>0.848812</td>\n",
       "      <td>0.848812</td>\n",
       "      <td>0.954200</td>\n",
       "    </tr>\n",
       "    <tr>\n",
       "      <th>Decision Tree</th>\n",
       "      <td>0.895596</td>\n",
       "      <td>4.948426</td>\n",
       "      <td>0.856731</td>\n",
       "      <td>0.856731</td>\n",
       "      <td>0.955558</td>\n",
       "    </tr>\n",
       "    <tr>\n",
       "      <th>LightGBM_OPT</th>\n",
       "      <td>0.969762</td>\n",
       "      <td>1.044381</td>\n",
       "      <td>0.969762</td>\n",
       "      <td>0.969762</td>\n",
       "      <td>0.969762</td>\n",
       "    </tr>\n",
       "  </tbody>\n",
       "</table>\n",
       "</div>"
      ],
      "text/plain": [
       "               F1-score   LogLoss  Accuracy    Recall  Precision\n",
       "Algorithm                                                       \n",
       "Random Forest  0.890461  5.221957  0.848812  0.848812   0.954200\n",
       "Decision Tree  0.895596  4.948426  0.856731  0.856731   0.955558\n",
       "LightGBM_OPT   0.969762  1.044381  0.969762  0.969762   0.969762"
      ]
     },
     "execution_count": 110,
     "metadata": {},
     "output_type": "execute_result"
    }
   ],
   "source": [
    "matrix.at['Random Forest',['F1-score','LogLoss','Accuracy','Recall','Precision']] = [f1_RF,log_RF,accuracy_RF,recall_RF,precision_RF]\n",
    "matrix.at['Decision Tree',['F1-score','LogLoss','Accuracy','Recall','Precision']] = [f1_DT,logLoss_DT,accuracy_DT,recall_DT,precision_DT]\n",
    "matrix.at['LightGBM_OPT',['F1-score','LogLoss','Accuracy','Recall','Precision']] = [f1_opt,logLoss_opt,accuracy_opt,recall_opt,precision_opt]\n",
    "matrix"
   ]
  },
  {
   "cell_type": "code",
   "execution_count": null,
   "id": "00f1c31e",
   "metadata": {},
   "outputs": [],
   "source": []
  }
 ],
 "metadata": {
  "kernelspec": {
   "display_name": "Python 3 (ipykernel)",
   "language": "python",
   "name": "python3"
  },
  "language_info": {
   "codemirror_mode": {
    "name": "ipython",
    "version": 3
   },
   "file_extension": ".py",
   "mimetype": "text/x-python",
   "name": "python",
   "nbconvert_exporter": "python",
   "pygments_lexer": "ipython3",
   "version": "3.9.7"
  }
 },
 "nbformat": 4,
 "nbformat_minor": 5
}
